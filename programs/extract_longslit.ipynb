{
 "metadata": {
  "name": "extract_longslit"
 },
 "nbformat": 3,
 "nbformat_minor": 0,
 "worksheets": [
  {
   "cells": [
    {
     "cell_type": "code",
     "collapsed": false,
     "input": [
      "import pyfits\n",
      "import numpy as np\n",
      "import pylab\n",
      "import glob\n",
      "import os\n",
      "import shutil \n",
      "import scipy\n",
      "from scipy import signal\n",
      "from scipy.signal import medfilt\n",
      "from scipy.optimize import curve_fit\n",
      "#from scipy.signal import correlate\n",
      "os.chdir('/user/bostroem/science/programs')\n",
      "import c_correlate \n",
      "import math\n",
      "import sys\n",
      "os.putenv('oref', '/grp/hst/cdbs/oref/')"
     ],
     "language": "python",
     "metadata": {},
     "outputs": [],
     "prompt_number": 196
    },
    {
     "cell_type": "code",
     "collapsed": false,
     "input": [
      "def make_figure(ifile):\n",
      "    '''\n",
      "    Create figure and axes for plotting\n",
      "    Called from: extract_spectrum\n",
      "    Calls to: Nothing\n",
      "\n",
      "    Inputs:\n",
      "        ifile: name of first flt file which is combined to create file from which data is extracted\n",
      "    Outputs:\n",
      "        none\n",
      "    Returns:\n",
      "        ax1, ax2: axis objects for confirmation image\n",
      "    '''\n",
      "    fig1 = pylab.figure('1', figsize = (20, 15))\n",
      "    ax1 = fig1.add_axes(( 0.05, 0.1, 0.25, 0.8))\n",
      "    ax2 = fig1.add_axes((0.35, 0.1, 0.6, 0.8))\n",
      "    ax1.set_ylim(0, 1100)\n",
      "    ax2.set_ylim(0, 1100)\n",
      "    ax2.set_title('%s' %(pyfits.getval(ifile, 'targname', 0)))\n",
      "    ax1.set_title('Collapsed Spectrum')\n",
      "    return ax1, ax2"
     ],
     "language": "python",
     "metadata": {},
     "outputs": [],
     "prompt_number": 235
    },
    {
     "cell_type": "code",
     "collapsed": false,
     "input": [
      "'''\n",
      "Use curve fit to fit a gaussian to each spectrum location\n",
      "'''\n",
      "\n",
      "#------------------------------------------------------------\n",
      "def gaussfit(x, y, guesses, func):\n",
      "    '''\n",
      "    Fit a gaussian to the data\n",
      "    called from: extract_spectrum\n",
      "    Calls to: Nothing\n",
      "    Input:\n",
      "        x: x values of data to fit\n",
      "        y: y values of data to fit\n",
      "        guesses: initial parameter guesses [a0, a1, a2, ...]\n",
      "        func: name of function to use for fitting\n",
      "    Outputs:\n",
      "        None\n",
      "    Returns:\n",
      "        fit parameters\n",
      "    '''\n",
      "    \n",
      "    try:\n",
      "        popt, pcov = curve_fit(func, x, y, p0 = guesses)\n",
      "    except:\n",
      "        return 'error'\n",
      "    return popt\n",
      "\n",
      "#------------------------------------------------------------\n",
      "#Single peaked (normal) gaussian\n",
      "def func3(x, a0, a1, a2):\n",
      "    '''\n",
      "    Calculate the y values for a single peaked gaussian\n",
      "    given:\n",
      "    Inputs: \n",
      "        x: x values of data to fit\n",
      "        a0: amplitude\n",
      "        a1: mean\n",
      "        a2: stdev\n",
      "    Outputs:\n",
      "        None\n",
      "    Return:\n",
      "        y values corresponding to x values calculated with the fit\n",
      "    '''\n",
      "    z = (x - a1)/(a2)\n",
      "    return  a0 * np.exp(-z**2/2.0)\n",
      "\n",
      "#------------------------------------------------------------\n",
      "#Gaussian with polynomial wings\n",
      "def func4(x, a0, a1, a2, a3):\n",
      "    '''\n",
      "    Calculate the y values for a single peaked gaussian with constant wings\n",
      "    \n",
      "    Inputs: \n",
      "        x: x values of data to fit\n",
      "        a0: amplitude\n",
      "        a1: mean\n",
      "        a2: stdev\n",
      "        a3: constant\n",
      "    Outputs:\n",
      "        None\n",
      "    Return:\n",
      "        y values corresponding to x values calculated with the fit\n",
      "    '''\n",
      "    z = (x - a1)/(a2)\n",
      "    return  a0 * np.exp(-z**2/2.0)+ a3 \n",
      "#------------------------------------------------------------\n",
      "#Gaussian with polynomial wings\n",
      "def func5(x, a0, a1, a2, a3, a4):\n",
      "    '''\n",
      "    Calculate the y values for a single peaked gaussian with first degree\n",
      "        polynomial wings\n",
      "    \n",
      "    Inputs: \n",
      "        x: x values of data to fit\n",
      "        a0: amplitude\n",
      "        a1: mean\n",
      "        a2: stdev\n",
      "        a3: constant\n",
      "        a4: first polynomial coefficient\n",
      "    Outputs:\n",
      "        None\n",
      "    Return:\n",
      "        y values corresponding to x values calculated with the fit\n",
      "    '''\n",
      "    z = (x - a1)/(a2)\n",
      "    return  a0 * np.exp(-z**2/2.0)+ a3 + a4*x\n",
      "\n",
      "    \n",
      "#------------------------------------------------------------\n",
      "#Gaussian with polynomial wings\n",
      "def func6(x, a0, a1, a2, a3, a4, a5):\n",
      "    '''\n",
      "    Calculate the y values for a single peaked gaussian with second degree\n",
      "        polynomial wings\n",
      "    \n",
      "    Inputs: \n",
      "        x: x values of data to fit\n",
      "        a0: amplitude\n",
      "        a1: mean\n",
      "        a2: stdev\n",
      "        a3: constant\n",
      "        a4: first polynomial coefficient\n",
      "        a5: second polynomial coefficient\n",
      "    Outputs:\n",
      "        None\n",
      "    Return:\n",
      "        y values corresponding to x values calculated with the fit\n",
      "    '''\n",
      "    z = (x - a1)/(a2)\n",
      "    return  a0 * np.exp(-z**2/2.0)+ a3 + a4*x + a5* x**2\n",
      "#------------------------------------------------------------\n",
      "#Gaussian with polynomial wings\n",
      "def func7(x, a0, a1, a2, a3, a4, a5, a6):\n",
      "    '''\n",
      "    Calculate the y values for a single peaked gaussian with third degree\n",
      "        polynomial wings\n",
      "    \n",
      "    Inputs: \n",
      "        x: x values of data to fit\n",
      "        a0: amplitude\n",
      "        a1: mean\n",
      "        a2: stdev\n",
      "        a3: constant\n",
      "        a4: first polynomial coefficient\n",
      "        a5: second polynomial coefficient\n",
      "        a6: third polynomial coefficient\n",
      "    Outputs:\n",
      "        None\n",
      "    Return:\n",
      "        y values corresponding to x values calculated with the fit\n",
      "    '''\n",
      "    z = (x - a1)/(a2)\n",
      "    return  a0 * np.exp(-z**2/2.0)+ a3 + a4*x + a5* x**2 + a6 *x **3\n",
      "#------------------------------------------------------------\n",
      "#Gaussian with polynomial wings\n",
      "def func8(x, a0, a1, a2, a3, a4, a5, a6, a7):\n",
      "        '''\n",
      "    Calculate the y values for a single peaked gaussian\n",
      "    given:\n",
      "    Inputs: \n",
      "        x: x values of data to fit\n",
      "        a0: amplitude\n",
      "        a1: mean\n",
      "        a2: stdev\n",
      "    Outputs:\n",
      "        None\n",
      "    Return:\n",
      "        y values corresponding to x values calculated with the fit\n",
      "    '''\n",
      "    z = (x - a1)/(a2)\n",
      "    return  a0 * np.exp(-z**2/2.0)+ a3 + a4*x + a5* x**2 + a6 * x**4 + a7 * x**5"
     ],
     "language": "python",
     "metadata": {},
     "outputs": [],
     "prompt_number": 236
    },
    {
     "cell_type": "code",
     "collapsed": false,
     "input": [
      "'''\n",
      "Try Curvefit on a lorentz profile\n",
      "\n",
      "This function provides iterative smoothing for the background. It is not currently used as I did not \n",
      "find it made much of a difference\n",
      "'''\n",
      "#------------------------------------------------------------\n",
      "def lorentzfit(x, y, guesses): #, nterms = 3):\n",
      "    popt, pcov = curve_fit(lorentz_func, x, y, p0 = guesses)\n",
      "    return popt\n",
      "\n",
      "def lorentz_func(x, g, x0):\n",
      "    return (1.0/math.pi) * (g/((x - x0)**2 + g**2))"
     ],
     "language": "python",
     "metadata": {},
     "outputs": [],
     "prompt_number": 237
    },
    {
     "cell_type": "code",
     "collapsed": false,
     "input": [
      "def create_background_proxy(pix, collapsed_img, ax, num_inter = 3, num_smooth_pix = 109, thresh = 2.0):\n",
      "    '''\n",
      "    This function provides iterative smoothing for the background. It is not currently used as I did not \n",
      "    find it made much of a difference\n",
      "\n",
      "    '''\n",
      "    \n",
      "    for i in xrange(num_inter):\n",
      "        #print i\n",
      "        med_fit = medfilt(collapsed_img, num_smooth_pix)\n",
      "        #print collapsed_img\n",
      "        #print med_fit\n",
      "        #print thresh * med_fit\n",
      "        back_indx = np.where(collapsed_img < thresh * med_fit)\n",
      "        pix_temp = pix[back_indx]\n",
      "        #ax.plot(collapsed_img[back_indx], pix_temp, 'yo-')\n",
      "        if np.mod(num_smooth_pix, 2) ==0:\n",
      "            num_smooth_pix = num_smooth_pix + 1\n",
      "        collapsed_img = np.interp(pix, pix_temp,med_fit[back_indx])\n",
      "\n",
      "        #ax.plot(med_fit, pix, 'w.-')\n",
      "        #ax.plot(collapsed_img, pix, 'g')\n",
      "\n",
      "\n",
      "    return collapsed_img\n",
      "                                  "
     ],
     "language": "python",
     "metadata": {},
     "outputs": [],
     "prompt_number": 238
    },
    {
     "cell_type": "code",
     "collapsed": false,
     "input": [
      "def get_spec_values(specs):\n",
      "    '''\n",
      "    Get starting and ending index of each set of consecutive points >2*median smoothed spectrum\n",
      "    \n",
      "    Called from:\n",
      "        extract_spectrum\n",
      "    Calls to:\n",
      "        Nothing\n",
      "\n",
      "    Inputs:\n",
      "        specs: indices of where the collapse (in the disp direction) image is > 2 * background\n",
      "    Outputs:\n",
      "        None\n",
      "    Returns:\n",
      "        beginning and ending indices of a spike identified as a spectrum\n",
      "    '''\n",
      "    spec_start = []\n",
      "    spec_end = []\n",
      "    spec_flag = False  #Is last pixel >2*median smoothed spectrum\n",
      "    for i, p in enumerate(specs):\n",
      "        if p: #If pixel is >2*median smoothed spectrum\n",
      "            if not spec_flag:   #If last pixel was not >2*median smoothed spectrum then this is the starting index, set flag to True\n",
      "                spec_start.append(i)\n",
      "                spec_flag = p\n",
      "        if not p: #If pixel is not >2*median smoothed spectrum\n",
      "            if spec_flag: #If last pixel was >2*median smoothed spectrum then this is the ending index, set flag to False\n",
      "                spec_end.append(i)\n",
      "                spec_flag = p\n",
      "    return spec_start, spec_end"
     ],
     "language": "python",
     "metadata": {},
     "outputs": [],
     "prompt_number": 255
    },
    {
     "cell_type": "code",
     "collapsed": false,
     "input": [
      "def plot_spec(spec_start, spec_end, ax1, collapse_img, pix):\n",
      "    '''\n",
      "    Plot regions >2*median smoothed spectrum based on starting and ending indices\n",
      "    Test whether you did this right\n",
      "\n",
      "    Called from:\n",
      "        extract_spectrum\n",
      "    Calls to:\n",
      "        Nothing\n",
      "    \n",
      "    Inputs:\n",
      "        spec_start: beginning index of spectrum location\n",
      "        spec_end: ending index of spectrum location\n",
      "        ax1: axis object on which to plot (left axis)\n",
      "        collapse_img: image collapsed in the dispersion direction\n",
      "        pix: y values to plot the collapse_image against\n",
      "    Outputs:\n",
      "        None\n",
      "    Returns:\n",
      "        ax1: left axis object\n",
      "\n",
      "    '''\n",
      "    for start, end in zip(spec_start, spec_end):\n",
      "        indx = pix[start:end]\n",
      "        ax1.plot(collapse_img[indx], pix[indx], 'g')\n",
      "    return ax1"
     ],
     "language": "python",
     "metadata": {},
     "outputs": [],
     "prompt_number": 240
    },
    {
     "cell_type": "code",
     "collapsed": false,
     "input": [
      "def get_extrac_locations(spec_start, spec_end, collapse_img, pix):\n",
      "    '''\n",
      "    Fit a gaussian to each set of points >2*median smoothed spectrum and find peak\n",
      "\n",
      "    Called from:\n",
      "        extract_spectrum\n",
      "    Calls to:\n",
      "        gaussfit\n",
      "    \n",
      "    Input:\n",
      "        spec_start: beginning index of spectrum location\n",
      "        spec_end: ending index of spectrum location\n",
      "        ax1: axis object on which to plot (left axis)\n",
      "        collapse_img: image collapsed in the dispersion direction\n",
      "        pix: y values to plot the collapse_image against   \n",
      "\n",
      "    Outputs:\n",
      "        None\n",
      "\n",
      "    Returns:\n",
      "        extrlocy: y extraction locations to be passed to CalSTIS\n",
      "\n",
      "    '''\n",
      "    #Create empty array to store peaks in\n",
      "    extrlocy = []\n",
      "    #Loop over consecutive areas\n",
      "    for start, stop in zip(spec_start, spec_end):\n",
      "        #Get pixel number and collapsed spectrum for consecutive points\n",
      "        indx = np.arange(stop - start)+start\n",
      "        in_x = pix[indx]\n",
      "        in_y = collapse_img[indx]\n",
      "        #Check that you have more than 3 points, curvefit requires more points than parameters you want it to fit\n",
      "        if len(in_x) > 3:\n",
      "            #Provide an initial guess to curvefit\n",
      "            guesses = [np.max(collapse_img[indx]), pix[indx][np.argmax(collapse_img[indx])], stop - start] \n",
      "            try:  #Fit guassian\n",
      "                popt = gaussfit(pix[indx], collapse_img[indx], guesses, func3)\n",
      "                #For the case of no good values being found, not sure why this is different from\n",
      "                    #the else case, but it seems to be\n",
      "                if popt == 'error':\n",
      "                    print \"error calculating fit for %i - %i, skipping\" %(start, stop)\n",
      "                else:\n",
      "                    z = (pix[indx] - popt[1]) / (popt[2])\n",
      "                    y = popt[0] * np.exp(-z**2/2.0) \n",
      "                    extrlocy.append(popt[1])\n",
      "            except RuntimeError: #If curvefit fails to converge, skip it\n",
      "                print 'curvefit failed to converge for %i-%i' %(start, stop)\n",
      "        else:\n",
      "            print 'Less than 3 points between %i - %i' %(start, stop) #inform the user that there were less than 3 points in fit\n",
      "    return extrlocy\n"
     ],
     "language": "python",
     "metadata": {},
     "outputs": [],
     "prompt_number": 241
    },
    {
     "cell_type": "code",
     "collapsed": false,
     "input": [
      "import pyraf\n",
      "from pyraf import iraf\n",
      "from iraf import stsdas,hst_calib,stis,x1d\n",
      "\n",
      "def extract_spectra(ifile, extrlocy, idir):\n",
      "    '''\n",
      "    Use CalSTIS x1d task to extract each spectrum at the peak location\n",
      "    Limit seach range to 4 pixels\n",
      "\n",
      "    Called from:\n",
      "        extract_spectrum\n",
      "    Calls to:\n",
      "        Nothing\n",
      "    Inputs:\n",
      "        ifile: flt file name to extract data from\n",
      "        extrlocy: y extraction locations\n",
      "        idir: data directory\n",
      "    Outputs:\n",
      "        *x1d.fits files of the extracted spectra\n",
      "        Assumes that the directory extracted_spectra_fits exists in idir\n",
      "    Returns:\n",
      "        None\n",
      "    \n",
      "'''\n",
      "#Should be an FLT and NOT and X2D or SX2\n",
      "    idir_local = os.path.join(idir, 'extracted_spectra_fits')\n",
      "    for yloc in extrlocy:\n",
      "        if os.path.exists(os.path.join(idir_local,'%s_loc%i_%i_x1d.fits' %(pyfits.getval(ifile, 'targname', 0), yloc, pyfits.getval(ifile, 'cenwave', 0)))):\n",
      "            os.remove(os.path.join(idir_local, '%s_loc%i_%i_x1d.fits' %(pyfits.getval(ifile, 'targname', 0), yloc,pyfits.getval(ifile, 'cenwave', 0))))\n",
      "        print 'yloc = %f' %(yloc)\n",
      "        num_files_before = len(glob.glob(os.path.join(idir_local, '*x1d.fits')))\n",
      "        iraf.stsdas.hst_calib.stis.x1d(ifile, output = os.path.join(idir, '%s_loc%i_%i_x1d.fits' \\\n",
      "            %(pyfits.getval(ifile, 'targname', 0), yloc, pyfits.getval(ifile, 'cenwave', 0))), a2center = yloc, maxsrch = 4, bk1offst = 12, bk2offst = 12, backcorr = 'omit')\n",
      "        num_files_after = len(glob.glob(os.path.join(idir_local, '*x1d.fits')))\n",
      "        if num_files_before == num_files_after:\n",
      "            iraf.stsdas.hst_calib.stis.x1d(ifile, output = os.path.join(idir_local, '%s_loc%i_%i_x1d.fits' \\\n",
      "            %(pyfits.getval(ifile, 'targname', 0), yloc, pyfits.getval(ifile, 'cenwave', 0))), a2center = yloc, maxsrch = 0, bk1offst = 12, bk2offst = 12, backcorr = 'omit')"
     ],
     "language": "python",
     "metadata": {},
     "outputs": [],
     "prompt_number": 242
    },
    {
     "cell_type": "code",
     "collapsed": false,
     "input": [
      "def confirm_extraction(ax2, ifile, extrlocy, idir):\n",
      "    '''\n",
      "    Plots the CalSTIS extracted location over the FLT image and labels the left most pixel\n",
      "\n",
      "    Called from:\n",
      "        extract_spectrum\n",
      "    Calls to:\n",
      "        Nothing\n",
      "\n",
      "    Inputs:\n",
      "        ax2: right hand axis object\n",
      "        ifile: flt file name to extract data from\n",
      "        extrlocy: y extraction locations\n",
      "        idir: data directory\n",
      "    Outputs:\n",
      "        None\n",
      "    Returns:\n",
      "        ax2\n",
      "        l5: line 2D object of the top background values\n",
      "        l10: line 2D object of the bottom background values\n",
      "\n",
      "    '''\n",
      "    print len(extrlocy)\n",
      "    for loc in extrlocy:\n",
      "        try:\n",
      "            tbdata = pyfits.getdata(os.path.join(idir, 'extracted_spectra_fits/%s_loc%i_%i_x1d.fits' %(pyfits.getval(ifile, 'targname', 0), loc,pyfits.getval(ifile, 'cenwave', 0) )), 1)\n",
      "            extrlocy_actual = tbdata['extrlocy']\n",
      "            bk1 = tbdata['extrlocy'] + tbdata['bk1offst']\n",
      "            bk2 = tbdata['extrlocy'] - tbdata['bk2offst']\n",
      "            bk1size = tbdata['bk1size']\n",
      "            bk2size = tbdata['bk2size']\n",
      "            l10 = ax2.plot(xrange(len(bk1.flatten())), bk1.flatten(), 'k:', lw = 2)\n",
      "            ax2.plot(xrange(len(bk2.flatten())), bk2.flatten(), 'k:', lw = 2)\n",
      "            l5 = ax2.plot(xrange(len(extrlocy_actual.flatten())), extrlocy_actual.flatten(), 'm--', lw = 2)\n",
      "            ax2.text(1000, extrlocy_actual[0][-1], '%4.2f' %(extrlocy_actual[0][0]), color = 'm')\n",
      "            print '$$$$$$$$$$$$$$$$$$$$$$$$plotting$$$$$$$$$$$$$$$$$$$$$$$'\n",
      "        except IOError: #For locations at which data was not extracted\n",
      "            print '###########ERROR FILE DOESNT EXIST, SKIPPING#####################'\n",
      "            pass\n",
      "        \n",
      "        \n",
      "    return ax2, l5, l10\n",
      "    "
     ],
     "language": "python",
     "metadata": {},
     "outputs": [],
     "prompt_number": 243
    },
    {
     "cell_type": "code",
     "collapsed": false,
     "input": [
      "def plot_extracted_spectra(idir, cenwave):\n",
      "    '''\n",
      "    Plot extracted spectra (Flux vs Wavelength)\n",
      "\n",
      "    Called from: Main\n",
      "    Calls to:\n",
      "        Nothing\n",
      "    Inputs:\n",
      "        idir: data directory\n",
      "        cenwave: central wavelength for filename\n",
      "    Outputs:\n",
      "        TARGNAME_locEXTRACTIONLOCATION_CENWAVE_extracted_spectra.pdf files\n",
      "        Assumes that an extracted_spectra_plots directory exists in idir\n",
      "\n",
      "    '''\n",
      "    os.chdir(os.path.join(idir, 'extracted_spectra_fits'))\n",
      "    flist = glob.glob('R136*%i_x1d.fits' %(cenwave))\n",
      "\n",
      "    for ifile in flist:\n",
      "        tbdata = pyfits.getdata(ifile, 1)\n",
      "        wl = tbdata['Wavelength']\n",
      "        flux = tbdata['flux']\n",
      "        dq = tbdata['dq']\n",
      "        pylab.plot(wl.ravel(), flux.ravel())\n",
      "        pylab.ylim(min(flux[wl >1150].ravel()), max(flux[wl>1150].ravel()))\n",
      "        pylab.title('%s extracted spectra @ %s ' %(pyfits.getval(ifile, 'targname', 0), ifile[12:15]))\n",
      "        pylab.xlabel('Wavelength')\n",
      "        pylab.ylabel('Flux')\n",
      "        pylab.savefig(os.path.join(idir, 'extracted_spectra_plots/%s_loc%s_%i_extracted_spectra.pdf'%(pyfits.getval(ifile, 'targname', 0), ifile[12:15], pyfits.getval(ifile, 'cenwave', 0))))\n",
      "        pylab.close()\n",
      "        #pylab.show()\n",
      "    "
     ],
     "language": "python",
     "metadata": {},
     "outputs": [],
     "prompt_number": 244
    },
    {
     "cell_type": "code",
     "collapsed": false,
     "input": [
      "def extract_spectrum(dec_dict, idir, cenwave = False):\n",
      "    '''\n",
      "    Main body of the program. For each file this program:\n",
      "    1. Collapses the spectrum in the dispersion direction to get a cross-dispersion profile\n",
      "    2. Median smooths the collapsed spectrum to get a background estimate\n",
      "    3. Finds all points > 2*median smoothed background (assume these are spectrum locations)\n",
      "    4. Fit a gaussian to each set of consectuive points > 2*median smoothed background\n",
      "    5. Feeds the peak of the gaussian to CalSTIS x1d program to extract the spectrum\n",
      "    6. Plots the cross dispersion profile, the median smoothed background, the identified spectra, and the peak of the gaussian fits\n",
      "    7. Plots the FLT image, the peak of the gaussian fit, and the actual extraction location used by CalSTIS\n",
      "\n",
      "    Called from: Main\n",
      "    Calls to:\n",
      "        combine_dithered_images\n",
      "        make_figure\n",
      "        gaussfit\n",
      "        func#\n",
      "        get_spec_values\n",
      "        plot_spec\n",
      "        get_extrac_locations\n",
      "        extract_spectra\n",
      "        confirm_extraction\n",
      "\n",
      "    Inputs:\n",
      "        dec_dict: dictionary with declination as keys and a list of filenames of data taken at \n",
      "            the that declination as values\n",
      "        idir: directory where the data is stored\n",
      "        cenwave (optional): central wavelength - this is for CCD data which is taken at multiple cenwaves\n",
      "    Outputs:\n",
      "        TARGNAME_CENWAVE_extract_img.png: assumes you have a confirmation_image folder in idir. Confirmation image\n",
      "            shows the background and extraction locations on the long slit flt image\n",
      "        extraction_locations_fuv.dat: this should be updated to have the detector an an input parameters.\n",
      "            This file lists the location of the extracted spectra for all files\n",
      "    '''\n",
      "    \n",
      "    #Combine dithered FLT images\n",
      "    for targ_dec in dec_dict.keys():\n",
      "        img = combine_dithered_images(dec_dict, targ_dec, cenwave)\n",
      "        targname = pyfits.getval(dec_dict[targ_dec][0], 'targname', 0)\n",
      "        #Collapse in the dispersion direction\n",
      "        collapsed_img = np.sum(img, axis = 1)\n",
      "        pix = np.arange(np.shape(img)[0])\n",
      "        #Create extraction confirmation figure and axes\n",
      "        ax1, ax2 = make_figure(dec_dict[targ_dec][0])\n",
      "        #Plot collapsed spectrum\n",
      "        l1 = ax1.plot(collapsed_img, pix, 'b.-')\n",
      "        #Plot FLT image\n",
      "        ax2.imshow(np.log10(img), interpolation = 'nearest', aspect = 'auto')\n",
      "        #Median smooth the collapsed spectrum\n",
      "        med_fit1 = medfilt(collapsed_img, 109)\n",
      "        #print med_fit\n",
      "        #med_fit = create_background_proxy(pix, collapsed_img, ax1, num_inter = 20, num_smooth_pix = 11)\n",
      "\n",
      "        popt = gaussfit(pix, collapsed_img,  [200000.0, 400.0, 100.0, 1.0], func4)\n",
      "        if popt != 'error':\n",
      "            med_fit = func4(pix, popt[0], popt[1], popt[2], popt[3])\n",
      "            l2 = ax1.plot(med_fit, pix, 'm')\n",
      "        popt = gaussfit(pix, collapsed_img,  [200000.0, 400.0, 100.0, 1.0, 1.0], func5)\n",
      "        if popt != 'error':\n",
      "            med_fit = func5(pix, popt[0], popt[1], popt[2], popt[3], popt[4])\n",
      "            l2 = ax1.plot(med_fit, pix, 'g')\n",
      "        popt = gaussfit(pix, collapsed_img,  [200000.0, 400.0, 100.0, 1.0, 1.0, 1.0], func6)\n",
      "        if popt != 'error':\n",
      "            med_fit = func6(pix, popt[0], popt[1], popt[2], popt[3], popt[4], popt[5])\n",
      "            l2 = ax1.plot(med_fit, pix, 'c')\n",
      "        popt = gaussfit(pix, collapsed_img,  [200000.0, 400.0, 100.0, 1.0, 1.0, 1.0, 1.0], func7)\n",
      "        if popt != 'error':\n",
      "            med_fit = func7(pix, popt[0], popt[1], popt[2], popt[3], popt[4], popt[5], popt[6])\n",
      "            l2 = ax1.plot(med_fit, pix, 'y')\n",
      "    \n",
      "        #Identify points greater than 2*the median smoothed background\n",
      "        specs = np.array(collapsed_img > 2.0*(med_fit))\n",
      "        #Plot points\n",
      "        l3 = ax1.plot(collapsed_img[specs], pix[specs], 'r.')\n",
      "        #Get the starting and ending index of each group of consecutive points >2*median\n",
      "        spec_start, spec_end = get_spec_values(specs)\n",
      "        #Plot just the points >2*median\n",
      "        ax1 = plot_spec(spec_start, spec_end, ax1, collapsed_img, pix)\n",
      "        #pylab.show()\n",
      "        #Fit a gaussian to each set of consecutive points and find the peak of the gaussian\n",
      "        extrlocy = get_extrac_locations(spec_start, spec_end, collapsed_img, pix)\n",
      "        print extrlocy\n",
      "        #Plot the peak location on both the collapsed spectrum and the FLT image\n",
      "        for yloc in extrlocy:\n",
      "            l4 = ax1.plot([0, np.max(collapsed_img)],[yloc, yloc], 'k')\n",
      "            l6 = ax2.plot([0, np.shape(img)[0]], [yloc, yloc], 'k--')\n",
      "            ax2.text(0, yloc, '%4.2f' %(yloc))\n",
      "        ax1.legend([l1, l2, l3, l4], ['Collapsed Spectrum', 'Median Filtered Spectrum', 'Object Spectra', 'Extraction Location'], loc = 'upper right')\n",
      "        #For each peak extract a spectrum\n",
      "        extract_spectra(dec_dict[targ_dec][0], extrlocy, idir)\n",
      "        #Plot actual extraction location on the FLT iamge\n",
      "        ax2, l5, l10 = confirm_extraction(ax2, dec_dict[targ_dec][0], extrlocy, idir)\n",
      "        ax2.legend([l6[0], l5[0], l10[0]], ['Initial Guess at Extraction Location', 'Actual Extraction Location', 'background extraction Locations'], loc = 'best')\n",
      "        #pylab.show()\n",
      "        pylab.savefig(os.path.join(idir, 'confirmation_images/%s_%i_extract_img.png' %(targname, pyfits.getval(dec_dict[targ_dec][0], 'cenwave', 0))))\n",
      "        pylab.close()\n",
      "        ofile = open('extraction_locations_fuv.dat', 'a')\n",
      "        for xtracloc in extrlocy:\n",
      "            ofile.write('%s\\t%f\\n' %(targname, xtracloc))\n",
      "        ofile.close()\n",
      "    \n",
      "        #pylab.show()\n",
      "    "
     ],
     "language": "python",
     "metadata": {},
     "outputs": [],
     "prompt_number": 250
    },
    {
     "cell_type": "code",
     "collapsed": false,
     "input": [
      "def make_declination_dict(flist):\n",
      "    '''\n",
      "    Create a dictionary with declination as keys and filenames as lists to each key\n",
      "    This is to match 2 dithered images together\n",
      "\n",
      "    Create a dictionary with declination as keys and filenames as lists to each key\n",
      "    This is to match 2 dithered images together\n",
      "\n",
      "    Called from: Main\n",
      "    Calls to: Nothing\n",
      "\n",
      "    Input:\n",
      "        flist: list of files to make dictionary out of\n",
      "    Outputs:\n",
      "        Nothing\n",
      "    Returns:\n",
      "        dec_dict: a dictionary with declination as keys and filenames as lists to each key\n",
      "    '''\n",
      "    dec_dict = {} \n",
      "    for ifile in flist:\n",
      "        targ_dec = pyfits.getval(ifile, 'dec_targ', 0)\n",
      "        if dec_dict.has_key(targ_dec):\n",
      "            dec_dict[targ_dec].append(ifile)\n",
      "        else:\n",
      "            dec_dict[targ_dec] = [ifile]\n",
      "    return dec_dict"
     ],
     "language": "python",
     "metadata": {},
     "outputs": [],
     "prompt_number": 251
    },
    {
     "cell_type": "code",
     "collapsed": false,
     "input": [
      "def combine_dithered_images(dec_dict, targ_dec, cenwave):\n",
      "    '''\n",
      "    The 12465 data is dithered along the slit direction. This program finds the shifts\n",
      "    of the dithered images by cross-correlating a middle column and combines them.\n",
      "\n",
      "    Called from: \n",
      "        extract_spectrum\n",
      "    Calls to: \n",
      "        c_correlate (external module)\n",
      "        make_combined_fits\n",
      "\n",
      "    Input:\n",
      "        dec_dict: dictionary with declination as keys and a list of filenames of data taken at \n",
      "            the that declination as values\n",
      "        idir: directory where the data is stored\n",
      "        cenwave (optional): central wavelength - this is for CCD data which is taken at multiple cenwaves\n",
      "    Outputs:\n",
      "        None\n",
      "    Returns:\n",
      "        new_img: combined image array\n",
      "    '''\n",
      "\n",
      "    #Read in 2 images\n",
      "    hdr1 = pyfits.getheader(dec_dict[targ_dec][0], 0)\n",
      "    print dec_dict[targ_dec], targ_dec\n",
      "    img1 = pyfits.getdata(dec_dict[targ_dec][0], 1)\n",
      "    img2 = pyfits.getdata(dec_dict[targ_dec][1], 1)\n",
      "    #Get middle columns of each image\n",
      "    col1 = np.sum(img1[:, 350:650], axis = 1)\n",
      "    col2 = np.sum(img2[:, 350:650], axis = 1)\n",
      "    #Calculate offset\n",
      "    lag, corr_mat = c_correlate.c_corr(col1, col2)\n",
      "    max_indx = np.argmax(corr_mat)\n",
      "    print 'Found offset of %i' %(lag[max_indx])\n",
      "    if lag[max_indx] == 0:\n",
      "        lag = np.append(lag[:max_indx], lag[max_indx+1:])\n",
      "        corr_mat = np.append(corr_mat[:max_indx], corr_mat[max_indx+1:])\n",
      "        max_indx = np.argmax(corr_mat)\n",
      "        print 'Found new offset of %i' %(lag[max_indx])\n",
      "    if lag[max_indx] > 0:\n",
      "        start1 = 0\n",
      "        end1 = np.shape(img1)[0]\n",
      "        start2 = lag[max_indx]\n",
      "        end2 = np.shape(img1)[0]+lag[max_indx]\n",
      "        new_img = np.zeros((end2, end1))\n",
      "        new_img[start1:end1, :] = new_img[start1:end1, :] + img2\n",
      "        new_img[start2:end2, :] = new_img[start2:end2, :] + img1\n",
      "    else:\n",
      "        start1 = 0\n",
      "        end1 = np.shape(img1)[0]\n",
      "        start2 = np.abs(lag[max_indx])\n",
      "        end2 = np.shape(img1)[0]+np.abs(lag[max_indx])\n",
      "        new_img = np.zeros((end2, end1))\n",
      "        new_img[start1:end1, :] = new_img[start1:end1, :] + img1\n",
      "        new_img[start2:end2, :] = new_img[start2:end2, :] + img2\n",
      "    #Write fits file\n",
      "    make_combined_fits(hdr1, new_img, cenwave)\n",
      " \n",
      "    return new_img\n"
     ],
     "language": "python",
     "metadata": {},
     "outputs": [],
     "prompt_number": 252
    },
    {
     "cell_type": "code",
     "collapsed": false,
     "input": [
      "def make_combined_fits(hdr, img, cenwave):\n",
      "    '''\n",
      "    write combined image to file\n",
      "    Called from:\n",
      "        combine_dithered_images\n",
      "    Calls to:\n",
      "        Nothing\n",
      "    Inputs:\n",
      "        hdr: fits header object\n",
      "        img: image array\n",
      "        cenwave: central wavelength for filename\n",
      "    Outputs:\n",
      "        TARGNAME_(CENWAVE)_combined_img.fits files of the combined dithered images\n",
      "    Returns:\n",
      "        Nothing\n",
      "\n",
      "    '''\n",
      "    hdu = pyfits.PrimaryHDU(img)\n",
      "    hdu.header = hdr\n",
      "    print '#############################%s######################' %(hdr['targname'])\n",
      "    hdulist = pyfits.HDUList([hdu])\n",
      "    if cenwave:\n",
      "        hdulist.writeto('%s_%i_combined_img.fits' %(hdr['targname'], hdr['cenwave']), clobber = True)\n",
      "    else:\n",
      "        hdulist.writeto('%s_combined_img.fits' %(hdr['targname']), clobber = True)"
     ],
     "language": "python",
     "metadata": {},
     "outputs": [],
     "prompt_number": 253
    },
    {
     "cell_type": "code",
     "collapsed": false,
     "input": [
      "'''\n",
      "Main program. Use this to run all of the other programs for CCD\n",
      "'''\n",
      "#Use this to make the combined images for the CCD\n",
      "idir = '/user/bostroem/science/12465_otfr20121109/ccd/'\n",
      "os.chdir(idir)\n",
      "flist = glob.glob('obrc01???_flt.fits')+glob.glob('obrc07???_flt.fits')\n",
      "dec_dict = make_declination_dict(flist)\n",
      "extract_spectrum(dec_dict, idir, cenwave = True)\n",
      "plot_extracted_spectra(idir, pyfits.getval(flist[0], 'cenwave', 0))\n",
      "#for targ_dec in dec_dict.keys():\n",
      "#    img = combine_dithered_images(dec_dict, targ_dec, cenwave = True)"
     ],
     "language": "python",
     "metadata": {},
     "outputs": [
      {
       "output_type": "stream",
       "stream": "stdout",
       "text": [
        "['obrc07010_flt.fits', 'obrc07020_flt.fits'] -69.10075\n",
        "Found offset of 7"
       ]
      },
      {
       "output_type": "stream",
       "stream": "stdout",
       "text": [
        "\n",
        "#############################R136-NW2######################\n",
        "[ -1.29600885e+04   8.87596497e+02  -2.15837947e+01   6.03640205e+03\n",
        "   8.64752871e+01   4.48304705e-02  -1.26941725e-04]"
       ]
      },
      {
       "output_type": "stream",
       "stream": "stdout",
       "text": [
        "\n",
        "Less than 3 points between 4 - 6"
       ]
      },
      {
       "output_type": "stream",
       "stream": "stdout",
       "text": [
        "\n",
        "Less than 3 points between 11 - 13\n",
        "Less than 3 points between 18 - 21\n",
        "Less than 3 points between 24 - 25\n",
        "Less than 3 points between 26 - 28\n",
        "Less than 3 points between 29 - 30\n",
        "Less than 3 points between 31 - 32\n",
        "Less than 3 points between 35 - 36\n",
        "[  3.80678874e+04   4.44308020e+01   8.79365992e+00]\n",
        "Less than 3 points between 49 - 51\n",
        "Less than 3 points between 56 - 58\n",
        "Less than 3 points between 68 - 69\n",
        "Less than 3 points between 73 - 74\n",
        "Less than 3 points between 75 - 76\n",
        "Less than 3 points between 80 - 81\n",
        "Less than 3 points between 92 - 93\n",
        "Less than 3 points between 99 - 100\n",
        "Less than 3 points between 105 - 106\n",
        "Less than 3 points between 124 - 126\n",
        "Less than 3 points between 132 - 133\n",
        "Less than 3 points between 175 - 176\n",
        "Less than 3 points between 188 - 189\n",
        "Less than 3 points between 311 - 312\n",
        "Less than 3 points between 322 - 323\n",
        "error\n",
        "error calculating fit for 444 - 448, skipping\n",
        "Less than 3 points between 482 - 485\n",
        "Less than 3 points between 487 - 488\n",
        "Less than 3 points between 491 - 492\n",
        "Less than 3 points between 493 - 494\n",
        "Less than 3 points between 495 - 496\n",
        "[  4.75142969e+05   5.17327720e+02   6.64930143e+00]"
       ]
      },
      {
       "output_type": "stream",
       "stream": "stderr",
       "text": [
        "Overwriting existing file 'R136-NW2_3936_combined_img.fits'.\n",
        "Legend does not support [<matplotlib.lines.Line2D object at 0x1116b7dd0>]\n",
        "Use proxy artist instead.\n",
        "\n",
        "http://matplotlib.sourceforge.net/users/legend_guide.html#using-proxy-artist\n",
        "\n"
       ]
      },
      {
       "output_type": "stream",
       "stream": "stdout",
       "text": [
        "\n",
        "[  1.32244694e+05   5.40080733e+02   7.01402931e+00]\n",
        "Less than 3 points between 549 - 550\n",
        "Less than 3 points between 567 - 569\n",
        "Less than 3 points between 772 - 773\n",
        "[  1.10418823e+05   8.17612359e+02   9.35799033e+00]\n",
        "Less than 3 points between 895 - 896\n",
        "Less than 3 points between 902 - 903\n",
        "Less than 3 points between 908 - 909\n",
        "Less than 3 points between 912 - 914\n",
        "Less than 3 points between 932 - 933\n",
        "Less than 3 points between 935 - 936\n",
        "Less than 3 points between 948 - 950\n",
        "[  4.64431108e+04   9.69524827e+02   4.46591772e+00]\n",
        "Less than 3 points between 974 - 976\n",
        "Less than 3 points between 978 - 980\n",
        "Less than 3 points between 985 - 986\n",
        "Less than 3 points between 995 - 996\n",
        "Less than 3 points between 1000 - 1003\n",
        "Less than 3 points between 1004 - 1005\n",
        "Less than 3 points between 1006 - 1008\n",
        "Less than 3 points between 1010 - 1012\n",
        "Less than 3 points between 1017 - 1018\n",
        "Less than 3 points between 1019 - 1022\n",
        "[44.430802019255978, 517.3277204714766, 540.08073322546591, 817.6123592499174, 969.52482710262939]\n",
        "yloc = 44.430802"
       ]
      },
      {
       "output_type": "stream",
       "stream": "stdout",
       "text": [
        "\n",
        "!/usr/stsci/stsci_iraf_x/stsdas/bin.macintel/cs6.e 'obrc07010_flt.fits' '/user/bostroem/science/12465_otfr20121109/ccd/R136-NW2_loc44_3936_x1d.fits' -t -v -cte -disp -hel -flux -c 44.4308020193 -r 4 -o1 12.0 -o2 12.0 -bm -bo 3 -a unweighted  -st 14.0\n"
       ]
      },
      {
       "output_type": "stream",
       "stream": "stdout",
       "text": [
        "\n",
        "*** CALSTIS-6 -- Version 2.40 (23-May-2012) ***\n",
        "Begin    12-Nov-2012 16:23:21 EST\n"
       ]
      },
      {
       "output_type": "stream",
       "stream": "stdout",
       "text": [
        "2012317162321-I--------------- CALSTIS-6 started -------------------------------\n",
        "\n",
        "ERROR    Output file `/user/bostroem/science/12465_otfr20121109/ccd/R136-NW2_loc44_3936_x1d.fits' already exists.\n",
        "Error processing obrc07010_flt.fits.\n"
       ]
      },
      {
       "output_type": "stream",
       "stream": "stdout",
       "text": [
        "\n",
        "!/usr/stsci/stsci_iraf_x/stsdas/bin.macintel/cs6.e 'obrc07010_flt.fits' '/user/bostroem/science/12465_otfr20121109/ccd/extracted_spectra_fits/R136-NW2_loc44_3936_x1d.fits' -t -v -cte -disp -hel -flux -c 44.4308020193 -r 0 -o1 12.0 -o2 12.0 -bm -bo 3 -a unweighted  -st 14.0\n"
       ]
      },
      {
       "output_type": "stream",
       "stream": "stdout",
       "text": [
        "\n",
        "*** CALSTIS-6 -- Version 2.40 (23-May-2012) ***\n",
        "Begin    12-Nov-2012 16:23:22 EST\n"
       ]
      },
      {
       "output_type": "stream",
       "stream": "stdout",
       "text": [
        "2012317162322-I--------------- CALSTIS-6 started -------------------------------\n",
        "\n",
        "Input    obrc07010_flt.fits\n",
        "Output   /user/bostroem/science/12465_otfr20121109/ccd/extracted_spectra_fits/R136-NW2_loc44_3936_x1d.fits\n",
        "Rootname obrc07010\n",
        "OBSMODE  ACCUM\n",
        "APERTURE 52X0.2\n",
        "OPT_ELEM G430M\n",
        "DETECTOR CCD\n"
       ]
      },
      {
       "output_type": "stream",
       "stream": "stdout",
       "text": [
        "\n",
        "XTRACTAB oref$n7p1031qo_1dx.fits\n",
        "XTRACTAB PEDIGREE=INFLIGHT 18/05/97\n",
        "XTRACTAB DESCRIP =Analysis from prop. 7094\n",
        "SPTRCTAB oref$qa31608go_1dt.fits\n",
        "\n",
        "Imset 1  Begin 16:23:22 EST\n"
       ]
      },
      {
       "output_type": "stream",
       "stream": "stdout",
       "text": [
        "         Input read into memory.\n",
        "         Offset of 14 low-res pixels added in dispersion direction\n",
        "Order 1  Begin 16:23:22 EST\n",
        "X1DCORR  PERFORM\n"
       ]
      },
      {
       "output_type": "stream",
       "stream": "stdout",
       "text": [
        "         Cross correlation offset: 0 pixels\n",
        "BACKCORR OMIT\n"
       ]
      },
      {
       "output_type": "stream",
       "stream": "stdout",
       "text": [
        "X1DCORR  COMPLETE\n",
        "2012317162322-I--------------- X1DCORR complete: OBRC07010 ---------------------\n",
        "         Spectrum extracted at y position = 44.4308\n",
        "         Extraction box height = 7\n",
        "         Background box 1 height = 5 offset 12 from A2CENTER\n",
        "         Background box 2 height = 5 offset 12 from A2CENTER\n",
        "\n",
        "DISPCORR PERFORM\n",
        "DISPTAB  oref$l2j0137to_dsp.fits\n",
        "DISPTAB  PEDIGREE=INFLIGHT 27/02/1997 24/11/1999\n",
        "DISPTAB  DESCRIP =Lindler Postlaunch, May 2000\n",
        "APDESTAB oref$obm1723ro_apd.fits\n",
        "APDESTAB PEDIGREE=INFLIGHT 01/03/1997 01/03/1997\n",
        "APDESTAB DESCRIP =Microscope Meas./Hartig Post-launch Offsets\n",
        "INANGTAB oref$h5s11397o_iac.fits\n"
       ]
      },
      {
       "output_type": "stream",
       "stream": "stdout",
       "text": [
        "         Delta = 0.074666 arcsec.\n",
        "DISPCORR COMPLETE\n",
        "2012317162322-I--------------- DISPCORR complete: OBRC07010 --------------------\n",
        "\n",
        "HELCORR  PERFORM\n",
        "HELCORR  COMPLETE\n",
        "2012317162322-I--------------- HELCORR complete: OBRC07010 ---------------------\n",
        "\n",
        "PHOTTAB  oref$p822207no_pht.fits\n",
        "APERTAB  oref$n7p1032ao_apt.fits\n",
        "APERTAB  PEDIGREE=MODEL\n",
        "APERTAB  DESCRIP =Bohlin/Hartig TIM Models Nov. 1998\n",
        "PCTAB    oref$q541740oo_pct.fits\n",
        "TDSTAB   oref$t9a1003so_tds.fits\n"
       ]
      },
      {
       "output_type": "stream",
       "stream": "stdout",
       "text": [
        "FLUXCORR PERFORM\n",
        "CTECORR  PERFORM\n",
        "CCDTAB   oref$v6n13233o_ccd.fits\n",
        "CCDTAB   PEDIGREE=INFLIGHT 01/05/2009 01/05/2009\n",
        "CCDTAB   DESCRIP =Proposal 8057, by I. Dashevsky & P. Goudfrooij\n"
       ]
      },
      {
       "output_type": "stream",
       "stream": "stdout",
       "text": [
        "CTECORR  COMPLETE\n",
        "FLUXCORR COMPLETE\n",
        "2012317162322-I--------------- FLUXCORR complete: OBRC07010 --------------------\n",
        "\n",
        "SGEOCORR OMIT\n"
       ]
      },
      {
       "output_type": "stream",
       "stream": "stdout",
       "text": [
        "\n",
        "         Row 1 written to disk.\n",
        "Order 1  End 16:23:22 EST\n"
       ]
      },
      {
       "output_type": "stream",
       "stream": "stdout",
       "text": [
        "\n",
        "Imset 1  End 16:23:22 EST\n"
       ]
      },
      {
       "output_type": "stream",
       "stream": "stdout",
       "text": [
        "\n",
        "Warning  Keyword `XTRACALG' is being added to header.\n",
        "End      12-Nov-2012 16:23:22 EST\n",
        "\n",
        "*** CALSTIS-6 complete ***\n",
        "2012317162322-I--------------- CALSTIS-6 completed: OBRC07010 ------------------\n"
       ]
      },
      {
       "output_type": "stream",
       "stream": "stdout",
       "text": [
        "\n",
        "yloc = 517.327720"
       ]
      },
      {
       "output_type": "stream",
       "stream": "stdout",
       "text": [
        "\n",
        "!/usr/stsci/stsci_iraf_x/stsdas/bin.macintel/cs6.e 'obrc07010_flt.fits' '/user/bostroem/science/12465_otfr20121109/ccd/R136-NW2_loc517_3936_x1d.fits' -t -v -cte -disp -hel -flux -c 517.327720471 -r 4 -o1 12.0 -o2 12.0 -bm -bo 3 -a unweighted  -st 14.0\n"
       ]
      },
      {
       "output_type": "stream",
       "stream": "stdout",
       "text": [
        "\n",
        "*** CALSTIS-6 -- Version 2.40 (23-May-2012) ***\n",
        "Begin    12-Nov-2012 16:23:22 EST\n"
       ]
      },
      {
       "output_type": "stream",
       "stream": "stdout",
       "text": [
        "2012317162322-I--------------- CALSTIS-6 started -------------------------------\n",
        "\n",
        "Input    obrc07010_flt.fits\n",
        "Output   /user/bostroem/science/12465_otfr20121109/ccd/R136-NW2_loc517_3936_x1d.fits\n",
        "Rootname obrc07010\n",
        "OBSMODE  ACCUM\n",
        "APERTURE 52X0.2\n",
        "OPT_ELEM G430M\n",
        "DETECTOR CCD\n"
       ]
      },
      {
       "output_type": "stream",
       "stream": "stdout",
       "text": [
        "\n",
        "XTRACTAB oref$n7p1031qo_1dx.fits\n",
        "XTRACTAB PEDIGREE=INFLIGHT 18/05/97\n",
        "XTRACTAB DESCRIP =Analysis from prop. 7094\n",
        "SPTRCTAB oref$qa31608go_1dt.fits\n",
        "\n",
        "Imset 1  Begin 16:23:22 EST\n"
       ]
      },
      {
       "output_type": "stream",
       "stream": "stdout",
       "text": [
        "         Input read into memory.\n",
        "         Offset of 14 low-res pixels added in dispersion direction\n",
        "Order 1  Begin 16:23:23 EST\n",
        "X1DCORR  PERFORM\n"
       ]
      },
      {
       "output_type": "stream",
       "stream": "stdout",
       "text": [
        "Warning  Cross correlation to locate spectrum failed.\n",
        "ERROR    Cannot extract.\n",
        "Warning  No rows were written; no table created.\n",
        "Imset 1  End 16:23:23 EST\n",
        "\n",
        "End      12-Nov-2012 16:23:23 EST\n",
        "\n",
        "*** CALSTIS-6 complete ***\n",
        "2012317162323-I--------------- CALSTIS-6 completed: OBRC07010 ------------------\n"
       ]
      },
      {
       "output_type": "stream",
       "stream": "stdout",
       "text": [
        "\n",
        "!/usr/stsci/stsci_iraf_x/stsdas/bin.macintel/cs6.e 'obrc07010_flt.fits' '/user/bostroem/science/12465_otfr20121109/ccd/extracted_spectra_fits/R136-NW2_loc517_3936_x1d.fits' -t -v -cte -disp -hel -flux -c 517.327720471 -r 0 -o1 12.0 -o2 12.0 -bm -bo 3 -a unweighted  -st 14.0\n"
       ]
      },
      {
       "output_type": "stream",
       "stream": "stdout",
       "text": [
        "\n",
        "*** CALSTIS-6 -- Version 2.40 (23-May-2012) ***\n",
        "Begin    12-Nov-2012 16:23:23 EST\n"
       ]
      },
      {
       "output_type": "stream",
       "stream": "stdout",
       "text": [
        "2012317162323-I--------------- CALSTIS-6 started -------------------------------\n",
        "\n",
        "Input    obrc07010_flt.fits\n",
        "Output   /user/bostroem/science/12465_otfr20121109/ccd/extracted_spectra_fits/R136-NW2_loc517_3936_x1d.fits\n",
        "Rootname obrc07010\n",
        "OBSMODE  ACCUM\n",
        "APERTURE 52X0.2\n",
        "OPT_ELEM G430M\n",
        "DETECTOR CCD\n"
       ]
      },
      {
       "output_type": "stream",
       "stream": "stdout",
       "text": [
        "\n",
        "XTRACTAB oref$n7p1031qo_1dx.fits\n",
        "XTRACTAB PEDIGREE=INFLIGHT 18/05/97\n",
        "XTRACTAB DESCRIP =Analysis from prop. 7094\n",
        "SPTRCTAB oref$qa31608go_1dt.fits\n",
        "\n",
        "Imset 1  Begin 16:23:23 EST\n"
       ]
      },
      {
       "output_type": "stream",
       "stream": "stdout",
       "text": [
        "         Input read into memory.\n",
        "         Offset of 14 low-res pixels added in dispersion direction\n",
        "Order 1  Begin 16:23:23 EST\n",
        "X1DCORR  PERFORM\n"
       ]
      },
      {
       "output_type": "stream",
       "stream": "stdout",
       "text": [
        "         Cross correlation offset: 0 pixels\n",
        "BACKCORR OMIT\n"
       ]
      },
      {
       "output_type": "stream",
       "stream": "stdout",
       "text": [
        "X1DCORR  COMPLETE\n",
        "2012317162323-I--------------- X1DCORR complete: OBRC07010 ---------------------\n",
        "         Spectrum extracted at y position = 517.328\n",
        "         Extraction box height = 7\n",
        "         Background box 1 height = 5 offset 12 from A2CENTER\n",
        "         Background box 2 height = 5 offset 12 from A2CENTER\n",
        "\n",
        "DISPCORR PERFORM\n",
        "DISPTAB  oref$l2j0137to_dsp.fits\n",
        "DISPTAB  PEDIGREE=INFLIGHT 27/02/1997 24/11/1999\n",
        "DISPTAB  DESCRIP =Lindler Postlaunch, May 2000\n",
        "APDESTAB oref$obm1723ro_apd.fits\n",
        "APDESTAB PEDIGREE=INFLIGHT 01/03/1997 01/03/1997\n",
        "APDESTAB DESCRIP =Microscope Meas./Hartig Post-launch Offsets\n",
        "INANGTAB oref$h5s11397o_iac.fits\n"
       ]
      },
      {
       "output_type": "stream",
       "stream": "stdout",
       "text": [
        "         Delta = 0.074666 arcsec.\n",
        "DISPCORR COMPLETE\n",
        "2012317162323-I--------------- DISPCORR complete: OBRC07010 --------------------\n",
        "\n",
        "HELCORR  PERFORM\n",
        "HELCORR  COMPLETE\n",
        "2012317162323-I--------------- HELCORR complete: OBRC07010 ---------------------\n",
        "\n",
        "PHOTTAB  oref$p822207no_pht.fits\n",
        "APERTAB  oref$n7p1032ao_apt.fits\n",
        "APERTAB  PEDIGREE=MODEL\n",
        "APERTAB  DESCRIP =Bohlin/Hartig TIM Models Nov. 1998\n",
        "PCTAB    oref$q541740oo_pct.fits\n",
        "TDSTAB   oref$t9a1003so_tds.fits\n"
       ]
      },
      {
       "output_type": "stream",
       "stream": "stdout",
       "text": [
        "FLUXCORR PERFORM\n",
        "CTECORR  PERFORM\n",
        "CCDTAB   oref$v6n13233o_ccd.fits\n",
        "CCDTAB   PEDIGREE=INFLIGHT 01/05/2009 01/05/2009\n",
        "CCDTAB   DESCRIP =Proposal 8057, by I. Dashevsky & P. Goudfrooij\n"
       ]
      },
      {
       "output_type": "stream",
       "stream": "stdout",
       "text": [
        "CTECORR  COMPLETE\n",
        "FLUXCORR COMPLETE\n",
        "2012317162323-I--------------- FLUXCORR complete: OBRC07010 --------------------\n",
        "\n",
        "SGEOCORR OMIT\n"
       ]
      },
      {
       "output_type": "stream",
       "stream": "stdout",
       "text": [
        "\n",
        "         Row 1 written to disk.\n",
        "Order 1  End 16:23:23 EST\n"
       ]
      },
      {
       "output_type": "stream",
       "stream": "stdout",
       "text": [
        "\n",
        "Imset 1  End 16:23:23 EST\n"
       ]
      },
      {
       "output_type": "stream",
       "stream": "stdout",
       "text": [
        "\n",
        "Warning  Keyword `XTRACALG' is being added to header.\n",
        "End      12-Nov-2012 16:23:23 EST\n",
        "\n",
        "*** CALSTIS-6 complete ***\n",
        "2012317162323-I--------------- CALSTIS-6 completed: OBRC07010 ------------------\n"
       ]
      },
      {
       "output_type": "stream",
       "stream": "stdout",
       "text": [
        "\n",
        "yloc = 540.080733"
       ]
      },
      {
       "output_type": "stream",
       "stream": "stdout",
       "text": [
        "\n",
        "!/usr/stsci/stsci_iraf_x/stsdas/bin.macintel/cs6.e 'obrc07010_flt.fits' '/user/bostroem/science/12465_otfr20121109/ccd/R136-NW2_loc540_3936_x1d.fits' -t -v -cte -disp -hel -flux -c 540.080733225 -r 4 -o1 12.0 -o2 12.0 -bm -bo 3 -a unweighted  -st 14.0\n"
       ]
      },
      {
       "output_type": "stream",
       "stream": "stdout",
       "text": [
        "\n",
        "*** CALSTIS-6 -- Version 2.40 (23-May-2012) ***\n",
        "Begin    12-Nov-2012 16:23:23 EST\n"
       ]
      },
      {
       "output_type": "stream",
       "stream": "stdout",
       "text": [
        "2012317162323-I--------------- CALSTIS-6 started -------------------------------\n",
        "\n",
        "ERROR    Output file `/user/bostroem/science/12465_otfr20121109/ccd/R136-NW2_loc540_3936_x1d.fits' already exists.\n",
        "Error processing obrc07010_flt.fits.\n"
       ]
      },
      {
       "output_type": "stream",
       "stream": "stdout",
       "text": [
        "\n",
        "!/usr/stsci/stsci_iraf_x/stsdas/bin.macintel/cs6.e 'obrc07010_flt.fits' '/user/bostroem/science/12465_otfr20121109/ccd/extracted_spectra_fits/R136-NW2_loc540_3936_x1d.fits' -t -v -cte -disp -hel -flux -c 540.080733225 -r 0 -o1 12.0 -o2 12.0 -bm -bo 3 -a unweighted  -st 14.0\n"
       ]
      },
      {
       "output_type": "stream",
       "stream": "stdout",
       "text": [
        "\n",
        "*** CALSTIS-6 -- Version 2.40 (23-May-2012) ***\n",
        "Begin    12-Nov-2012 16:23:24 EST\n"
       ]
      },
      {
       "output_type": "stream",
       "stream": "stdout",
       "text": [
        "2012317162324-I--------------- CALSTIS-6 started -------------------------------\n",
        "\n",
        "Input    obrc07010_flt.fits\n",
        "Output   /user/bostroem/science/12465_otfr20121109/ccd/extracted_spectra_fits/R136-NW2_loc540_3936_x1d.fits\n",
        "Rootname obrc07010\n",
        "OBSMODE  ACCUM\n",
        "APERTURE 52X0.2\n",
        "OPT_ELEM G430M\n",
        "DETECTOR CCD\n"
       ]
      },
      {
       "output_type": "stream",
       "stream": "stdout",
       "text": [
        "\n",
        "XTRACTAB oref$n7p1031qo_1dx.fits\n",
        "XTRACTAB PEDIGREE=INFLIGHT 18/05/97\n",
        "XTRACTAB DESCRIP =Analysis from prop. 7094\n",
        "SPTRCTAB oref$qa31608go_1dt.fits\n",
        "\n",
        "Imset 1  Begin 16:23:24 EST\n"
       ]
      },
      {
       "output_type": "stream",
       "stream": "stdout",
       "text": [
        "         Input read into memory.\n",
        "         Offset of 14 low-res pixels added in dispersion direction\n",
        "Order 1  Begin 16:23:24 EST\n",
        "X1DCORR  PERFORM\n"
       ]
      },
      {
       "output_type": "stream",
       "stream": "stdout",
       "text": [
        "         Cross correlation offset: 0 pixels\n",
        "BACKCORR OMIT\n"
       ]
      },
      {
       "output_type": "stream",
       "stream": "stdout",
       "text": [
        "X1DCORR  COMPLETE\n",
        "2012317162324-I--------------- X1DCORR complete: OBRC07010 ---------------------\n",
        "         Spectrum extracted at y position = 540.081\n",
        "         Extraction box height = 7\n",
        "         Background box 1 height = 5 offset 12 from A2CENTER\n",
        "         Background box 2 height = 5 offset 12 from A2CENTER\n",
        "\n",
        "DISPCORR PERFORM\n",
        "DISPTAB  oref$l2j0137to_dsp.fits\n",
        "DISPTAB  PEDIGREE=INFLIGHT 27/02/1997 24/11/1999\n",
        "DISPTAB  DESCRIP =Lindler Postlaunch, May 2000\n",
        "APDESTAB oref$obm1723ro_apd.fits\n",
        "APDESTAB PEDIGREE=INFLIGHT 01/03/1997 01/03/1997\n",
        "APDESTAB DESCRIP =Microscope Meas./Hartig Post-launch Offsets\n",
        "INANGTAB oref$h5s11397o_iac.fits\n"
       ]
      },
      {
       "output_type": "stream",
       "stream": "stdout",
       "text": [
        "         Delta = 0.074666 arcsec.\n",
        "DISPCORR COMPLETE\n",
        "2012317162324-I--------------- DISPCORR complete: OBRC07010 --------------------\n",
        "\n",
        "HELCORR  PERFORM\n",
        "HELCORR  COMPLETE\n",
        "2012317162324-I--------------- HELCORR complete: OBRC07010 ---------------------\n",
        "\n",
        "PHOTTAB  oref$p822207no_pht.fits\n",
        "APERTAB  oref$n7p1032ao_apt.fits\n",
        "APERTAB  PEDIGREE=MODEL\n",
        "APERTAB  DESCRIP =Bohlin/Hartig TIM Models Nov. 1998\n",
        "PCTAB    oref$q541740oo_pct.fits\n",
        "TDSTAB   oref$t9a1003so_tds.fits\n"
       ]
      },
      {
       "output_type": "stream",
       "stream": "stdout",
       "text": [
        "FLUXCORR PERFORM\n",
        "CTECORR  PERFORM\n",
        "CCDTAB   oref$v6n13233o_ccd.fits\n",
        "CCDTAB   PEDIGREE=INFLIGHT 01/05/2009 01/05/2009\n",
        "CCDTAB   DESCRIP =Proposal 8057, by I. Dashevsky & P. Goudfrooij\n"
       ]
      },
      {
       "output_type": "stream",
       "stream": "stdout",
       "text": [
        "CTECORR  COMPLETE\n",
        "FLUXCORR COMPLETE\n",
        "2012317162324-I--------------- FLUXCORR complete: OBRC07010 --------------------\n",
        "\n",
        "SGEOCORR OMIT\n"
       ]
      },
      {
       "output_type": "stream",
       "stream": "stdout",
       "text": [
        "\n",
        "         Row 1 written to disk.\n",
        "Order 1  End 16:23:24 EST\n"
       ]
      },
      {
       "output_type": "stream",
       "stream": "stdout",
       "text": [
        "\n",
        "Imset 1  End 16:23:24 EST\n"
       ]
      },
      {
       "output_type": "stream",
       "stream": "stdout",
       "text": [
        "\n",
        "Warning  Keyword `XTRACALG' is being added to header.\n",
        "End      12-Nov-2012 16:23:24 EST\n",
        "\n",
        "*** CALSTIS-6 complete ***\n",
        "2012317162324-I--------------- CALSTIS-6 completed: OBRC07010 ------------------\n"
       ]
      },
      {
       "output_type": "stream",
       "stream": "stdout",
       "text": [
        "\n",
        "yloc = 817.612359"
       ]
      },
      {
       "output_type": "stream",
       "stream": "stdout",
       "text": [
        "\n",
        "!/usr/stsci/stsci_iraf_x/stsdas/bin.macintel/cs6.e 'obrc07010_flt.fits' '/user/bostroem/science/12465_otfr20121109/ccd/R136-NW2_loc817_3936_x1d.fits' -t -v -cte -disp -hel -flux -c 817.61235925 -r 4 -o1 12.0 -o2 12.0 -bm -bo 3 -a unweighted  -st 14.0\n"
       ]
      },
      {
       "output_type": "stream",
       "stream": "stdout",
       "text": [
        "\n",
        "*** CALSTIS-6 -- Version 2.40 (23-May-2012) ***\n",
        "Begin    12-Nov-2012 16:23:24 EST\n"
       ]
      },
      {
       "output_type": "stream",
       "stream": "stdout",
       "text": [
        "2012317162324-I--------------- CALSTIS-6 started -------------------------------\n",
        "\n",
        "Input    obrc07010_flt.fits\n",
        "Output   /user/bostroem/science/12465_otfr20121109/ccd/R136-NW2_loc817_3936_x1d.fits\n",
        "Rootname obrc07010\n",
        "OBSMODE  ACCUM\n",
        "APERTURE 52X0.2\n",
        "OPT_ELEM G430M\n",
        "DETECTOR CCD\n"
       ]
      },
      {
       "output_type": "stream",
       "stream": "stdout",
       "text": [
        "\n",
        "XTRACTAB oref$n7p1031qo_1dx.fits\n",
        "XTRACTAB PEDIGREE=INFLIGHT 18/05/97\n",
        "XTRACTAB DESCRIP =Analysis from prop. 7094\n",
        "SPTRCTAB oref$qa31608go_1dt.fits\n",
        "\n",
        "Imset 1  Begin 16:23:24 EST\n"
       ]
      },
      {
       "output_type": "stream",
       "stream": "stdout",
       "text": [
        "         Input read into memory.\n",
        "         Offset of 14 low-res pixels added in dispersion direction\n",
        "Order 1  Begin 16:23:25 EST\n",
        "X1DCORR  PERFORM\n"
       ]
      },
      {
       "output_type": "stream",
       "stream": "stdout",
       "text": [
        "Warning  Cross correlation to locate spectrum failed.\n",
        "ERROR    Cannot extract.\n",
        "Warning  No rows were written; no table created.\n",
        "Imset 1  End 16:23:25 EST\n",
        "\n",
        "End      12-Nov-2012 16:23:25 EST\n",
        "\n",
        "*** CALSTIS-6 complete ***\n",
        "2012317162325-I--------------- CALSTIS-6 completed: OBRC07010 ------------------\n"
       ]
      },
      {
       "output_type": "stream",
       "stream": "stdout",
       "text": [
        "\n",
        "!/usr/stsci/stsci_iraf_x/stsdas/bin.macintel/cs6.e 'obrc07010_flt.fits' '/user/bostroem/science/12465_otfr20121109/ccd/extracted_spectra_fits/R136-NW2_loc817_3936_x1d.fits' -t -v -cte -disp -hel -flux -c 817.61235925 -r 0 -o1 12.0 -o2 12.0 -bm -bo 3 -a unweighted  -st 14.0\n"
       ]
      },
      {
       "output_type": "stream",
       "stream": "stdout",
       "text": [
        "\n",
        "*** CALSTIS-6 -- Version 2.40 (23-May-2012) ***\n",
        "Begin    12-Nov-2012 16:23:25 EST\n"
       ]
      },
      {
       "output_type": "stream",
       "stream": "stdout",
       "text": [
        "2012317162325-I--------------- CALSTIS-6 started -------------------------------\n",
        "\n",
        "Input    obrc07010_flt.fits\n",
        "Output   /user/bostroem/science/12465_otfr20121109/ccd/extracted_spectra_fits/R136-NW2_loc817_3936_x1d.fits\n",
        "Rootname obrc07010\n",
        "OBSMODE  ACCUM\n",
        "APERTURE 52X0.2\n",
        "OPT_ELEM G430M\n",
        "DETECTOR CCD\n"
       ]
      },
      {
       "output_type": "stream",
       "stream": "stdout",
       "text": [
        "\n",
        "XTRACTAB oref$n7p1031qo_1dx.fits\n",
        "XTRACTAB PEDIGREE=INFLIGHT 18/05/97\n",
        "XTRACTAB DESCRIP =Analysis from prop. 7094\n",
        "SPTRCTAB oref$qa31608go_1dt.fits\n",
        "\n",
        "Imset 1  Begin 16:23:25 EST\n"
       ]
      },
      {
       "output_type": "stream",
       "stream": "stdout",
       "text": [
        "         Input read into memory.\n",
        "         Offset of 14 low-res pixels added in dispersion direction\n",
        "Order 1  Begin 16:23:25 EST\n",
        "X1DCORR  PERFORM\n"
       ]
      },
      {
       "output_type": "stream",
       "stream": "stdout",
       "text": [
        "         Cross correlation offset: 0 pixels\n",
        "BACKCORR OMIT\n"
       ]
      },
      {
       "output_type": "stream",
       "stream": "stdout",
       "text": [
        "X1DCORR  COMPLETE\n",
        "2012317162325-I--------------- X1DCORR complete: OBRC07010 ---------------------\n",
        "         Spectrum extracted at y position = 817.612\n",
        "         Extraction box height = 7\n",
        "         Background box 1 height = 5 offset 12 from A2CENTER\n",
        "         Background box 2 height = 5 offset 12 from A2CENTER\n",
        "\n",
        "DISPCORR PERFORM\n",
        "DISPTAB  oref$l2j0137to_dsp.fits\n",
        "DISPTAB  PEDIGREE=INFLIGHT 27/02/1997 24/11/1999\n",
        "DISPTAB  DESCRIP =Lindler Postlaunch, May 2000\n",
        "APDESTAB oref$obm1723ro_apd.fits\n",
        "APDESTAB PEDIGREE=INFLIGHT 01/03/1997 01/03/1997\n",
        "APDESTAB DESCRIP =Microscope Meas./Hartig Post-launch Offsets\n",
        "INANGTAB oref$h5s11397o_iac.fits\n"
       ]
      },
      {
       "output_type": "stream",
       "stream": "stdout",
       "text": [
        "         Delta = 0.074666 arcsec.\n",
        "DISPCORR COMPLETE\n",
        "2012317162325-I--------------- DISPCORR complete: OBRC07010 --------------------\n",
        "\n",
        "HELCORR  PERFORM\n",
        "HELCORR  COMPLETE\n",
        "2012317162325-I--------------- HELCORR complete: OBRC07010 ---------------------\n",
        "\n",
        "PHOTTAB  oref$p822207no_pht.fits\n",
        "APERTAB  oref$n7p1032ao_apt.fits\n",
        "APERTAB  PEDIGREE=MODEL\n",
        "APERTAB  DESCRIP =Bohlin/Hartig TIM Models Nov. 1998\n",
        "PCTAB    oref$q541740oo_pct.fits\n",
        "TDSTAB   oref$t9a1003so_tds.fits\n"
       ]
      },
      {
       "output_type": "stream",
       "stream": "stdout",
       "text": [
        "FLUXCORR PERFORM\n",
        "CTECORR  PERFORM\n",
        "CCDTAB   oref$v6n13233o_ccd.fits\n",
        "CCDTAB   PEDIGREE=INFLIGHT 01/05/2009 01/05/2009\n",
        "CCDTAB   DESCRIP =Proposal 8057, by I. Dashevsky & P. Goudfrooij\n"
       ]
      },
      {
       "output_type": "stream",
       "stream": "stdout",
       "text": [
        "CTECORR  COMPLETE\n",
        "FLUXCORR COMPLETE\n",
        "2012317162325-I--------------- FLUXCORR complete: OBRC07010 --------------------\n",
        "\n",
        "SGEOCORR OMIT\n"
       ]
      },
      {
       "output_type": "stream",
       "stream": "stdout",
       "text": [
        "\n",
        "         Row 1 written to disk.\n",
        "Order 1  End 16:23:25 EST\n"
       ]
      },
      {
       "output_type": "stream",
       "stream": "stdout",
       "text": [
        "\n",
        "Imset 1  End 16:23:25 EST\n"
       ]
      },
      {
       "output_type": "stream",
       "stream": "stdout",
       "text": [
        "\n",
        "Warning  Keyword `XTRACALG' is being added to header.\n",
        "End      12-Nov-2012 16:23:25 EST\n",
        "\n",
        "*** CALSTIS-6 complete ***\n",
        "2012317162325-I--------------- CALSTIS-6 completed: OBRC07010 ------------------\n"
       ]
      },
      {
       "output_type": "stream",
       "stream": "stdout",
       "text": [
        "\n",
        "yloc = 969.524827"
       ]
      },
      {
       "output_type": "stream",
       "stream": "stdout",
       "text": [
        "\n",
        "!/usr/stsci/stsci_iraf_x/stsdas/bin.macintel/cs6.e 'obrc07010_flt.fits' '/user/bostroem/science/12465_otfr20121109/ccd/R136-NW2_loc969_3936_x1d.fits' -t -v -cte -disp -hel -flux -c 969.524827103 -r 4 -o1 12.0 -o2 12.0 -bm -bo 3 -a unweighted  -st 14.0\n"
       ]
      },
      {
       "output_type": "stream",
       "stream": "stdout",
       "text": [
        "\n",
        "*** CALSTIS-6 -- Version 2.40 (23-May-2012) ***\n",
        "Begin    12-Nov-2012 16:23:26 EST\n"
       ]
      },
      {
       "output_type": "stream",
       "stream": "stdout",
       "text": [
        "2012317162326-I--------------- CALSTIS-6 started -------------------------------\n",
        "\n",
        "Input    obrc07010_flt.fits\n",
        "Output   /user/bostroem/science/12465_otfr20121109/ccd/R136-NW2_loc969_3936_x1d.fits\n",
        "Rootname obrc07010\n",
        "OBSMODE  ACCUM\n",
        "APERTURE 52X0.2\n",
        "OPT_ELEM G430M\n",
        "DETECTOR CCD\n"
       ]
      },
      {
       "output_type": "stream",
       "stream": "stdout",
       "text": [
        "\n",
        "XTRACTAB oref$n7p1031qo_1dx.fits\n",
        "XTRACTAB PEDIGREE=INFLIGHT 18/05/97\n",
        "XTRACTAB DESCRIP =Analysis from prop. 7094\n",
        "SPTRCTAB oref$qa31608go_1dt.fits\n",
        "\n",
        "Imset 1  Begin 16:23:26 EST\n"
       ]
      },
      {
       "output_type": "stream",
       "stream": "stdout",
       "text": [
        "         Input read into memory.\n",
        "         Offset of 14 low-res pixels added in dispersion direction\n",
        "Order 1  Begin 16:23:26 EST\n",
        "X1DCORR  PERFORM\n"
       ]
      },
      {
       "output_type": "stream",
       "stream": "stdout",
       "text": [
        "Warning  Cross correlation to locate spectrum failed.\n",
        "ERROR    Cannot extract.\n",
        "Warning  No rows were written; no table created.\n",
        "Imset 1  End 16:23:26 EST\n",
        "\n",
        "End      12-Nov-2012 16:23:26 EST\n",
        "\n",
        "*** CALSTIS-6 complete ***\n",
        "2012317162326-I--------------- CALSTIS-6 completed: OBRC07010 ------------------\n"
       ]
      },
      {
       "output_type": "stream",
       "stream": "stdout",
       "text": [
        "\n",
        "!/usr/stsci/stsci_iraf_x/stsdas/bin.macintel/cs6.e 'obrc07010_flt.fits' '/user/bostroem/science/12465_otfr20121109/ccd/extracted_spectra_fits/R136-NW2_loc969_3936_x1d.fits' -t -v -cte -disp -hel -flux -c 969.524827103 -r 0 -o1 12.0 -o2 12.0 -bm -bo 3 -a unweighted  -st 14.0\n"
       ]
      },
      {
       "output_type": "stream",
       "stream": "stdout",
       "text": [
        "\n",
        "*** CALSTIS-6 -- Version 2.40 (23-May-2012) ***\n",
        "Begin    12-Nov-2012 16:23:26 EST\n"
       ]
      },
      {
       "output_type": "stream",
       "stream": "stdout",
       "text": [
        "2012317162326-I--------------- CALSTIS-6 started -------------------------------\n",
        "\n",
        "Input    obrc07010_flt.fits\n",
        "Output   /user/bostroem/science/12465_otfr20121109/ccd/extracted_spectra_fits/R136-NW2_loc969_3936_x1d.fits\n",
        "Rootname obrc07010\n",
        "OBSMODE  ACCUM\n",
        "APERTURE 52X0.2\n",
        "OPT_ELEM G430M\n",
        "DETECTOR CCD\n"
       ]
      },
      {
       "output_type": "stream",
       "stream": "stdout",
       "text": [
        "\n",
        "XTRACTAB oref$n7p1031qo_1dx.fits\n",
        "XTRACTAB PEDIGREE=INFLIGHT 18/05/97\n",
        "XTRACTAB DESCRIP =Analysis from prop. 7094\n",
        "SPTRCTAB oref$qa31608go_1dt.fits\n",
        "\n",
        "Imset 1  Begin 16:23:26 EST\n"
       ]
      },
      {
       "output_type": "stream",
       "stream": "stdout",
       "text": [
        "         Input read into memory.\n",
        "         Offset of 14 low-res pixels added in dispersion direction\n",
        "Order 1  Begin 16:23:26 EST\n",
        "X1DCORR  PERFORM\n"
       ]
      },
      {
       "output_type": "stream",
       "stream": "stdout",
       "text": [
        "         Cross correlation offset: 0 pixels\n",
        "BACKCORR OMIT\n"
       ]
      },
      {
       "output_type": "stream",
       "stream": "stdout",
       "text": [
        "X1DCORR  COMPLETE\n",
        "2012317162326-I--------------- X1DCORR complete: OBRC07010 ---------------------\n",
        "         Spectrum extracted at y position = 969.525\n",
        "         Extraction box height = 7\n",
        "         Background box 1 height = 5 offset 12 from A2CENTER\n",
        "         Background box 2 height = 5 offset 12 from A2CENTER\n",
        "\n",
        "DISPCORR PERFORM\n",
        "DISPTAB  oref$l2j0137to_dsp.fits\n",
        "DISPTAB  PEDIGREE=INFLIGHT 27/02/1997 24/11/1999\n",
        "DISPTAB  DESCRIP =Lindler Postlaunch, May 2000\n",
        "APDESTAB oref$obm1723ro_apd.fits\n",
        "APDESTAB PEDIGREE=INFLIGHT 01/03/1997 01/03/1997\n",
        "APDESTAB DESCRIP =Microscope Meas./Hartig Post-launch Offsets\n",
        "INANGTAB oref$h5s11397o_iac.fits\n"
       ]
      },
      {
       "output_type": "stream",
       "stream": "stdout",
       "text": [
        "         Delta = 0.074666 arcsec.\n",
        "DISPCORR COMPLETE\n",
        "2012317162326-I--------------- DISPCORR complete: OBRC07010 --------------------\n",
        "\n",
        "HELCORR  PERFORM\n",
        "HELCORR  COMPLETE\n",
        "2012317162326-I--------------- HELCORR complete: OBRC07010 ---------------------\n",
        "\n",
        "PHOTTAB  oref$p822207no_pht.fits\n",
        "APERTAB  oref$n7p1032ao_apt.fits\n",
        "APERTAB  PEDIGREE=MODEL\n",
        "APERTAB  DESCRIP =Bohlin/Hartig TIM Models Nov. 1998\n",
        "PCTAB    oref$q541740oo_pct.fits\n",
        "TDSTAB   oref$t9a1003so_tds.fits\n"
       ]
      },
      {
       "output_type": "stream",
       "stream": "stdout",
       "text": [
        "FLUXCORR PERFORM\n",
        "CTECORR  PERFORM\n",
        "CCDTAB   oref$v6n13233o_ccd.fits\n",
        "CCDTAB   PEDIGREE=INFLIGHT 01/05/2009 01/05/2009\n",
        "CCDTAB   DESCRIP =Proposal 8057, by I. Dashevsky & P. Goudfrooij\n"
       ]
      },
      {
       "output_type": "stream",
       "stream": "stdout",
       "text": [
        "CTECORR  COMPLETE\n",
        "FLUXCORR COMPLETE\n",
        "2012317162326-I--------------- FLUXCORR complete: OBRC07010 --------------------\n",
        "\n",
        "SGEOCORR OMIT\n"
       ]
      },
      {
       "output_type": "stream",
       "stream": "stdout",
       "text": [
        "\n",
        "         Row 1 written to disk.\n",
        "Order 1  End 16:23:26 EST\n"
       ]
      },
      {
       "output_type": "stream",
       "stream": "stdout",
       "text": [
        "\n",
        "Imset 1  End 16:23:26 EST\n"
       ]
      },
      {
       "output_type": "stream",
       "stream": "stdout",
       "text": [
        "\n",
        "Warning  Keyword `XTRACALG' is being added to header.\n",
        "End      12-Nov-2012 16:23:26 EST\n",
        "\n",
        "*** CALSTIS-6 complete ***\n",
        "2012317162326-I--------------- CALSTIS-6 completed: OBRC07010 ------------------\n"
       ]
      },
      {
       "output_type": "stream",
       "stream": "stdout",
       "text": [
        "\n",
        "5\n",
        "$$$$$$$$$$$$$$$$$$$$$$$$plotting$$$$$$$$$$$$$$$$$$$$$$$"
       ]
      },
      {
       "output_type": "stream",
       "stream": "stdout",
       "text": [
        "\n",
        "$$$$$$$$$$$$$$$$$$$$$$$$plotting$$$$$$$$$$$$$$$$$$$$$$$"
       ]
      },
      {
       "output_type": "stream",
       "stream": "stdout",
       "text": [
        "\n",
        "$$$$$$$$$$$$$$$$$$$$$$$$plotting$$$$$$$$$$$$$$$$$$$$$$$"
       ]
      },
      {
       "output_type": "stream",
       "stream": "stdout",
       "text": [
        "\n",
        "$$$$$$$$$$$$$$$$$$$$$$$$plotting$$$$$$$$$$$$$$$$$$$$$$$"
       ]
      },
      {
       "output_type": "stream",
       "stream": "stdout",
       "text": [
        "\n",
        "$$$$$$$$$$$$$$$$$$$$$$$$plotting$$$$$$$$$$$$$$$$$$$$$$$"
       ]
      },
      {
       "output_type": "stream",
       "stream": "stdout",
       "text": [
        "\n",
        "['obrc070d0_flt.fits', 'obrc070e0_flt.fits']"
       ]
      },
      {
       "output_type": "stream",
       "stream": "stdout",
       "text": [
        " -69.10045\n",
        "Found offset of 7"
       ]
      },
      {
       "output_type": "stream",
       "stream": "stdout",
       "text": [
        "\n",
        "#############################R136-NW8######################"
       ]
      },
      {
       "output_type": "stream",
       "stream": "stderr",
       "text": [
        "Legend does not support [<matplotlib.lines.Line2D object at 0x1133adc90>]\n",
        "Use proxy artist instead.\n",
        "\n",
        "http://matplotlib.sourceforge.net/users/legend_guide.html#using-proxy-artist\n",
        "\n",
        "Legend does not support [<matplotlib.lines.Line2D object at 0x1133ad650>]\n",
        "Use proxy artist instead.\n",
        "\n",
        "http://matplotlib.sourceforge.net/users/legend_guide.html#using-proxy-artist\n",
        "\n",
        "Legend does not support [<matplotlib.lines.Line2D object at 0x112385a50>]\n",
        "Use proxy artist instead.\n",
        "\n",
        "http://matplotlib.sourceforge.net/users/legend_guide.html#using-proxy-artist\n",
        "\n",
        "Overwriting existing file 'R136-NW8_3936_combined_img.fits'.\n"
       ]
      },
      {
       "output_type": "stream",
       "stream": "stdout",
       "text": [
        "\n",
        "[ -1.16181434e+05   2.72853923e+02   1.30662814e+02   5.92831572e+04\n",
        "   6.36117962e+02  -1.54451435e+00   8.81514652e-04]"
       ]
      },
      {
       "output_type": "stream",
       "stream": "stdout",
       "text": [
        "\n",
        "[  5.73513505e+05   6.52217433e+01  -3.04928697e+00]"
       ]
      },
      {
       "output_type": "stream",
       "stream": "stdout",
       "text": [
        "\n",
        "Less than 3 points between 215 - 216\n",
        "Less than 3 points between 222 - 223\n",
        "Less than 3 points between 251 - 252\n",
        "Less than 3 points between 255 - 256\n",
        "Less than 3 points between 263 - 264\n",
        "Less than 3 points between 265 - 266\n",
        "Less than 3 points between 270 - 271\n",
        "Less than 3 points between 276 - 277\n",
        "error\n",
        "error calculating fit for 280 - 284, skipping\n",
        "Less than 3 points between 290 - 292\n",
        "[  8.49935340e+04   3.03058009e+02   5.30336219e+00]\n",
        "[  1.23106088e+05   3.11198351e+02  -1.48804202e+00]\n",
        "Less than 3 points between 319 - 320\n",
        "Less than 3 points between 324 - 325\n",
        "Less than 3 points between 326 - 327\n",
        "Less than 3 points between 329 - 330\n",
        "[  2.80322539e+05   5.00432545e+02   4.91758653e+00]\n",
        "Less than 3 points between 517 - 519\n",
        "[  2.68253380e+05   5.31937446e+02   9.95848624e+00]"
       ]
      },
      {
       "output_type": "stream",
       "stream": "stdout",
       "text": [
        "\n",
        "[  3.23387717e+05   5.43987531e+02  -3.88242539e+00]\n",
        "Less than 3 points between 629 - 630\n",
        "Less than 3 points between 696 - 697\n",
        "Less than 3 points between 709 - 711\n",
        "Less than 3 points between 712 - 713\n",
        "Less than 3 points between 725 - 726\n",
        "Less than 3 points between 777 - 778\n",
        "Less than 3 points between 799 - 800\n",
        "Less than 3 points between 806 - 807\n",
        "Less than 3 points between 808 - 809\n",
        "Less than 3 points between 811 - 812\n",
        "Less than 3 points between 823 - 825\n",
        "Less than 3 points between 827 - 828\n",
        "Less than 3 points between 830 - 831\n",
        "Less than 3 points between 836 - 837\n",
        "Less than 3 points between 853 - 854\n",
        "Less than 3 points between 861 - 864\n",
        "Less than 3 points between 866 - 868\n",
        "Less than 3 points between 876 - 877\n",
        "Less than 3 points between 881 - 882\n",
        "Less than 3 points between 888 - 889\n",
        "Less than 3 points between 895 - 896\n",
        "Less than 3 points between 897 - 898\n",
        "Less than 3 points between 902 - 904\n",
        "Less than 3 points between 905 - 907\n",
        "Less than 3 points between 923 - 924\n",
        "Less than 3 points between 927 - 929\n",
        "Less than 3 points between 952 - 953\n",
        "Less than 3 points between 957 - 958\n",
        "[65.221743266875379, 303.05800854552098, 311.19835054607853, 500.43254527574743, 531.93744637676025, 543.98753099744226]\n",
        "yloc = 65.221743"
       ]
      },
      {
       "output_type": "stream",
       "stream": "stdout",
       "text": [
        "\n",
        "!/usr/stsci/stsci_iraf_x/stsdas/bin.macintel/cs6.e 'obrc070d0_flt.fits' '/user/bostroem/science/12465_otfr20121109/ccd/R136-NW8_loc65_3936_x1d.fits' -t -v -cte -disp -hel -flux -c 65.2217432669 -r 4 -o1 12.0 -o2 12.0 -bm -bo 3 -a unweighted  -st 14.0\n"
       ]
      },
      {
       "output_type": "stream",
       "stream": "stdout",
       "text": [
        "\n",
        "*** CALSTIS-6 -- Version 2.40 (23-May-2012) ***\n",
        "Begin    12-Nov-2012 16:23:32 EST\n"
       ]
      },
      {
       "output_type": "stream",
       "stream": "stdout",
       "text": [
        "2012317162332-I--------------- CALSTIS-6 started -------------------------------\n",
        "\n",
        "Input    obrc070d0_flt.fits\n",
        "Output   /user/bostroem/science/12465_otfr20121109/ccd/R136-NW8_loc65_3936_x1d.fits\n",
        "Rootname obrc070d0\n",
        "OBSMODE  ACCUM\n",
        "APERTURE 52X0.2\n",
        "OPT_ELEM G430M\n",
        "DETECTOR CCD\n"
       ]
      },
      {
       "output_type": "stream",
       "stream": "stdout",
       "text": [
        "\n",
        "XTRACTAB oref$n7p1031qo_1dx.fits\n",
        "XTRACTAB PEDIGREE=INFLIGHT 18/05/97\n",
        "XTRACTAB DESCRIP =Analysis from prop. 7094\n",
        "SPTRCTAB oref$qa31608go_1dt.fits\n",
        "\n",
        "Imset 1  Begin 16:23:32 EST\n"
       ]
      },
      {
       "output_type": "stream",
       "stream": "stdout",
       "text": [
        "         Input read into memory.\n",
        "         Offset of 14 low-res pixels added in dispersion direction\n",
        "Order 1  Begin 16:23:32 EST\n",
        "X1DCORR  PERFORM\n"
       ]
      },
      {
       "output_type": "stream",
       "stream": "stdout",
       "text": [
        "Warning  Cross correlation to locate spectrum failed.\n",
        "ERROR    Cannot extract.\n",
        "Warning  No rows were written; no table created.\n",
        "Imset 1  End 16:23:32 EST\n",
        "\n",
        "End      12-Nov-2012 16:23:32 EST\n",
        "\n",
        "*** CALSTIS-6 complete ***\n",
        "2012317162332-I--------------- CALSTIS-6 completed: OBRC070D0 ------------------\n"
       ]
      },
      {
       "output_type": "stream",
       "stream": "stdout",
       "text": [
        "\n",
        "!/usr/stsci/stsci_iraf_x/stsdas/bin.macintel/cs6.e 'obrc070d0_flt.fits' '/user/bostroem/science/12465_otfr20121109/ccd/extracted_spectra_fits/R136-NW8_loc65_3936_x1d.fits' -t -v -cte -disp -hel -flux -c 65.2217432669 -r 0 -o1 12.0 -o2 12.0 -bm -bo 3 -a unweighted  -st 14.0\n"
       ]
      },
      {
       "output_type": "stream",
       "stream": "stdout",
       "text": [
        "\n",
        "*** CALSTIS-6 -- Version 2.40 (23-May-2012) ***\n",
        "Begin    12-Nov-2012 16:23:32 EST\n"
       ]
      },
      {
       "output_type": "stream",
       "stream": "stdout",
       "text": [
        "2012317162332-I--------------- CALSTIS-6 started -------------------------------\n",
        "\n",
        "Input    obrc070d0_flt.fits\n",
        "Output   /user/bostroem/science/12465_otfr20121109/ccd/extracted_spectra_fits/R136-NW8_loc65_3936_x1d.fits\n",
        "Rootname obrc070d0\n",
        "OBSMODE  ACCUM\n",
        "APERTURE 52X0.2\n",
        "OPT_ELEM G430M\n",
        "DETECTOR CCD\n"
       ]
      },
      {
       "output_type": "stream",
       "stream": "stdout",
       "text": [
        "\n",
        "XTRACTAB oref$n7p1031qo_1dx.fits\n",
        "XTRACTAB PEDIGREE=INFLIGHT 18/05/97\n",
        "XTRACTAB DESCRIP =Analysis from prop. 7094\n",
        "SPTRCTAB oref$qa31608go_1dt.fits\n",
        "\n",
        "Imset 1  Begin 16:23:33 EST\n"
       ]
      },
      {
       "output_type": "stream",
       "stream": "stdout",
       "text": [
        "         Input read into memory.\n",
        "         Offset of 14 low-res pixels added in dispersion direction\n",
        "Order 1  Begin 16:23:33 EST\n",
        "X1DCORR  PERFORM\n"
       ]
      },
      {
       "output_type": "stream",
       "stream": "stdout",
       "text": [
        "         Cross correlation offset: 0 pixels\n",
        "BACKCORR OMIT\n"
       ]
      },
      {
       "output_type": "stream",
       "stream": "stdout",
       "text": [
        "X1DCORR  COMPLETE\n",
        "2012317162333-I--------------- X1DCORR complete: OBRC070D0 ---------------------\n",
        "         Spectrum extracted at y position = 65.2217\n",
        "         Extraction box height = 7\n",
        "         Background box 1 height = 5 offset 12 from A2CENTER\n",
        "         Background box 2 height = 5 offset 12 from A2CENTER\n",
        "\n",
        "DISPCORR PERFORM\n",
        "DISPTAB  oref$l2j0137to_dsp.fits\n",
        "DISPTAB  PEDIGREE=INFLIGHT 27/02/1997 24/11/1999\n",
        "DISPTAB  DESCRIP =Lindler Postlaunch, May 2000\n",
        "APDESTAB oref$obm1723ro_apd.fits\n",
        "APDESTAB PEDIGREE=INFLIGHT 01/03/1997 01/03/1997\n",
        "APDESTAB DESCRIP =Microscope Meas./Hartig Post-launch Offsets\n",
        "INANGTAB oref$h5s11397o_iac.fits\n"
       ]
      },
      {
       "output_type": "stream",
       "stream": "stdout",
       "text": [
        "         Delta = 0.074666 arcsec.\n",
        "DISPCORR COMPLETE\n",
        "2012317162333-I--------------- DISPCORR complete: OBRC070D0 --------------------\n",
        "\n",
        "HELCORR  PERFORM\n",
        "HELCORR  COMPLETE\n",
        "2012317162333-I--------------- HELCORR complete: OBRC070D0 ---------------------\n",
        "\n",
        "PHOTTAB  oref$p822207no_pht.fits\n",
        "APERTAB  oref$n7p1032ao_apt.fits\n",
        "APERTAB  PEDIGREE=MODEL\n",
        "APERTAB  DESCRIP =Bohlin/Hartig TIM Models Nov. 1998\n",
        "PCTAB    oref$q541740oo_pct.fits\n",
        "TDSTAB   oref$t9a1003so_tds.fits\n"
       ]
      },
      {
       "output_type": "stream",
       "stream": "stdout",
       "text": [
        "FLUXCORR PERFORM\n",
        "CTECORR  PERFORM\n",
        "CCDTAB   oref$v6n13233o_ccd.fits\n",
        "CCDTAB   PEDIGREE=INFLIGHT 01/05/2009 01/05/2009\n",
        "CCDTAB   DESCRIP =Proposal 8057, by I. Dashevsky & P. Goudfrooij\n"
       ]
      },
      {
       "output_type": "stream",
       "stream": "stdout",
       "text": [
        "CTECORR  COMPLETE\n",
        "FLUXCORR COMPLETE\n",
        "2012317162333-I--------------- FLUXCORR complete: OBRC070D0 --------------------\n",
        "\n",
        "SGEOCORR OMIT\n"
       ]
      },
      {
       "output_type": "stream",
       "stream": "stdout",
       "text": [
        "\n",
        "         Row 1 written to disk.\n",
        "Order 1  End 16:23:33 EST\n"
       ]
      },
      {
       "output_type": "stream",
       "stream": "stdout",
       "text": [
        "\n",
        "Imset 1  End 16:23:33 EST\n"
       ]
      },
      {
       "output_type": "stream",
       "stream": "stdout",
       "text": [
        "\n",
        "Warning  Keyword `XTRACALG' is being added to header.\n",
        "End      12-Nov-2012 16:23:33 EST\n",
        "\n",
        "*** CALSTIS-6 complete ***\n",
        "2012317162333-I--------------- CALSTIS-6 completed: OBRC070D0 ------------------\n"
       ]
      },
      {
       "output_type": "stream",
       "stream": "stdout",
       "text": [
        "\n",
        "yloc = 303.058009"
       ]
      },
      {
       "output_type": "stream",
       "stream": "stdout",
       "text": [
        "\n",
        "!/usr/stsci/stsci_iraf_x/stsdas/bin.macintel/cs6.e 'obrc070d0_flt.fits' '/user/bostroem/science/12465_otfr20121109/ccd/R136-NW8_loc303_3936_x1d.fits' -t -v -cte -disp -hel -flux -c 303.058008546 -r 4 -o1 12.0 -o2 12.0 -bm -bo 3 -a unweighted  -st 14.0\n"
       ]
      },
      {
       "output_type": "stream",
       "stream": "stdout",
       "text": [
        "\n",
        "*** CALSTIS-6 -- Version 2.40 (23-May-2012) ***\n",
        "Begin    12-Nov-2012 16:23:33 EST\n"
       ]
      },
      {
       "output_type": "stream",
       "stream": "stdout",
       "text": [
        "2012317162333-I--------------- CALSTIS-6 started -------------------------------\n",
        "\n",
        "Input    obrc070d0_flt.fits\n",
        "Output   /user/bostroem/science/12465_otfr20121109/ccd/R136-NW8_loc303_3936_x1d.fits\n",
        "Rootname obrc070d0\n",
        "OBSMODE  ACCUM\n",
        "APERTURE 52X0.2\n",
        "OPT_ELEM G430M\n",
        "DETECTOR CCD\n"
       ]
      },
      {
       "output_type": "stream",
       "stream": "stdout",
       "text": [
        "\n",
        "XTRACTAB oref$n7p1031qo_1dx.fits\n",
        "XTRACTAB PEDIGREE=INFLIGHT 18/05/97\n",
        "XTRACTAB DESCRIP =Analysis from prop. 7094\n",
        "SPTRCTAB oref$qa31608go_1dt.fits\n",
        "\n",
        "Imset 1  Begin 16:23:33 EST\n"
       ]
      },
      {
       "output_type": "stream",
       "stream": "stdout",
       "text": [
        "         Input read into memory.\n",
        "         Offset of 14 low-res pixels added in dispersion direction\n",
        "Order 1  Begin 16:23:33 EST\n",
        "X1DCORR  PERFORM\n"
       ]
      },
      {
       "output_type": "stream",
       "stream": "stdout",
       "text": [
        "Warning  Cross correlation to locate spectrum failed.\n",
        "ERROR    Cannot extract.\n",
        "Warning  No rows were written; no table created.\n",
        "Imset 1  End 16:23:33 EST\n",
        "\n",
        "End      12-Nov-2012 16:23:33 EST\n",
        "\n",
        "*** CALSTIS-6 complete ***\n",
        "2012317162333-I--------------- CALSTIS-6 completed: OBRC070D0 ------------------\n"
       ]
      },
      {
       "output_type": "stream",
       "stream": "stdout",
       "text": [
        "\n",
        "!/usr/stsci/stsci_iraf_x/stsdas/bin.macintel/cs6.e 'obrc070d0_flt.fits' '/user/bostroem/science/12465_otfr20121109/ccd/extracted_spectra_fits/R136-NW8_loc303_3936_x1d.fits' -t -v -cte -disp -hel -flux -c 303.058008546 -r 0 -o1 12.0 -o2 12.0 -bm -bo 3 -a unweighted  -st 14.0\n"
       ]
      },
      {
       "output_type": "stream",
       "stream": "stdout",
       "text": [
        "\n",
        "*** CALSTIS-6 -- Version 2.40 (23-May-2012) ***\n",
        "Begin    12-Nov-2012 16:23:34 EST\n"
       ]
      },
      {
       "output_type": "stream",
       "stream": "stdout",
       "text": [
        "2012317162334-I--------------- CALSTIS-6 started -------------------------------\n",
        "\n",
        "Input    obrc070d0_flt.fits\n",
        "Output   /user/bostroem/science/12465_otfr20121109/ccd/extracted_spectra_fits/R136-NW8_loc303_3936_x1d.fits\n",
        "Rootname obrc070d0\n",
        "OBSMODE  ACCUM\n",
        "APERTURE 52X0.2\n",
        "OPT_ELEM G430M\n",
        "DETECTOR CCD\n"
       ]
      },
      {
       "output_type": "stream",
       "stream": "stdout",
       "text": [
        "\n",
        "XTRACTAB oref$n7p1031qo_1dx.fits\n",
        "XTRACTAB PEDIGREE=INFLIGHT 18/05/97\n",
        "XTRACTAB DESCRIP =Analysis from prop. 7094\n",
        "SPTRCTAB oref$qa31608go_1dt.fits\n",
        "\n",
        "Imset 1  Begin 16:23:34 EST\n"
       ]
      },
      {
       "output_type": "stream",
       "stream": "stdout",
       "text": [
        "         Input read into memory.\n",
        "         Offset of 14 low-res pixels added in dispersion direction\n",
        "Order 1  Begin 16:23:34 EST\n",
        "X1DCORR  PERFORM\n"
       ]
      },
      {
       "output_type": "stream",
       "stream": "stdout",
       "text": [
        "         Cross correlation offset: 0 pixels\n",
        "BACKCORR OMIT\n"
       ]
      },
      {
       "output_type": "stream",
       "stream": "stdout",
       "text": [
        "X1DCORR  COMPLETE\n",
        "2012317162334-I--------------- X1DCORR complete: OBRC070D0 ---------------------\n",
        "         Spectrum extracted at y position = 303.058\n",
        "         Extraction box height = 7\n",
        "         Background box 1 height = 5 offset 12 from A2CENTER\n",
        "         Background box 2 height = 5 offset 12 from A2CENTER\n",
        "\n",
        "DISPCORR PERFORM\n",
        "DISPTAB  oref$l2j0137to_dsp.fits\n",
        "DISPTAB  PEDIGREE=INFLIGHT 27/02/1997 24/11/1999\n",
        "DISPTAB  DESCRIP =Lindler Postlaunch, May 2000\n",
        "APDESTAB oref$obm1723ro_apd.fits\n",
        "APDESTAB PEDIGREE=INFLIGHT 01/03/1997 01/03/1997\n",
        "APDESTAB DESCRIP =Microscope Meas./Hartig Post-launch Offsets\n",
        "INANGTAB oref$h5s11397o_iac.fits\n"
       ]
      },
      {
       "output_type": "stream",
       "stream": "stdout",
       "text": [
        "         Delta = 0.074666 arcsec.\n",
        "DISPCORR COMPLETE\n",
        "2012317162334-I--------------- DISPCORR complete: OBRC070D0 --------------------\n",
        "\n",
        "HELCORR  PERFORM\n",
        "HELCORR  COMPLETE\n",
        "2012317162334-I--------------- HELCORR complete: OBRC070D0 ---------------------\n",
        "\n",
        "PHOTTAB  oref$p822207no_pht.fits\n",
        "APERTAB  oref$n7p1032ao_apt.fits\n",
        "APERTAB  PEDIGREE=MODEL\n",
        "APERTAB  DESCRIP =Bohlin/Hartig TIM Models Nov. 1998\n",
        "PCTAB    oref$q541740oo_pct.fits\n",
        "TDSTAB   oref$t9a1003so_tds.fits\n"
       ]
      },
      {
       "output_type": "stream",
       "stream": "stdout",
       "text": [
        "FLUXCORR PERFORM\n",
        "CTECORR  PERFORM\n",
        "CCDTAB   oref$v6n13233o_ccd.fits\n",
        "CCDTAB   PEDIGREE=INFLIGHT 01/05/2009 01/05/2009\n",
        "CCDTAB   DESCRIP =Proposal 8057, by I. Dashevsky & P. Goudfrooij\n"
       ]
      },
      {
       "output_type": "stream",
       "stream": "stdout",
       "text": [
        "CTECORR  COMPLETE\n",
        "FLUXCORR COMPLETE\n",
        "2012317162334-I--------------- FLUXCORR complete: OBRC070D0 --------------------\n",
        "\n",
        "SGEOCORR OMIT\n"
       ]
      },
      {
       "output_type": "stream",
       "stream": "stdout",
       "text": [
        "\n",
        "         Row 1 written to disk.\n",
        "Order 1  End 16:23:34 EST\n"
       ]
      },
      {
       "output_type": "stream",
       "stream": "stdout",
       "text": [
        "\n",
        "Imset 1  End 16:23:34 EST\n"
       ]
      },
      {
       "output_type": "stream",
       "stream": "stdout",
       "text": [
        "\n",
        "Warning  Keyword `XTRACALG' is being added to header.\n",
        "End      12-Nov-2012 16:23:34 EST\n",
        "\n",
        "*** CALSTIS-6 complete ***\n",
        "2012317162334-I--------------- CALSTIS-6 completed: OBRC070D0 ------------------\n"
       ]
      },
      {
       "output_type": "stream",
       "stream": "stdout",
       "text": [
        "\n",
        "yloc = 311.198351"
       ]
      },
      {
       "output_type": "stream",
       "stream": "stdout",
       "text": [
        "\n",
        "!/usr/stsci/stsci_iraf_x/stsdas/bin.macintel/cs6.e 'obrc070d0_flt.fits' '/user/bostroem/science/12465_otfr20121109/ccd/R136-NW8_loc311_3936_x1d.fits' -t -v -cte -disp -hel -flux -c 311.198350546 -r 4 -o1 12.0 -o2 12.0 -bm -bo 3 -a unweighted  -st 14.0\n"
       ]
      },
      {
       "output_type": "stream",
       "stream": "stdout",
       "text": [
        "\n",
        "*** CALSTIS-6 -- Version 2.40 (23-May-2012) ***\n",
        "Begin    12-Nov-2012 16:23:34 EST\n"
       ]
      },
      {
       "output_type": "stream",
       "stream": "stdout",
       "text": [
        "2012317162334-I--------------- CALSTIS-6 started -------------------------------\n",
        "\n",
        "Input    obrc070d0_flt.fits\n",
        "Output   /user/bostroem/science/12465_otfr20121109/ccd/R136-NW8_loc311_3936_x1d.fits\n",
        "Rootname obrc070d0\n",
        "OBSMODE  ACCUM\n",
        "APERTURE 52X0.2\n",
        "OPT_ELEM G430M\n",
        "DETECTOR CCD\n"
       ]
      },
      {
       "output_type": "stream",
       "stream": "stdout",
       "text": [
        "\n",
        "XTRACTAB oref$n7p1031qo_1dx.fits\n",
        "XTRACTAB PEDIGREE=INFLIGHT 18/05/97\n",
        "XTRACTAB DESCRIP =Analysis from prop. 7094\n",
        "SPTRCTAB oref$qa31608go_1dt.fits\n",
        "\n",
        "Imset 1  Begin 16:23:34 EST\n"
       ]
      },
      {
       "output_type": "stream",
       "stream": "stdout",
       "text": [
        "         Input read into memory.\n",
        "         Offset of 14 low-res pixels added in dispersion direction\n",
        "Order 1  Begin 16:23:34 EST\n",
        "X1DCORR  PERFORM\n"
       ]
      },
      {
       "output_type": "stream",
       "stream": "stdout",
       "text": [
        "Warning  Cross correlation to locate spectrum failed.\n",
        "ERROR    Cannot extract.\n",
        "Warning  No rows were written; no table created.\n",
        "Imset 1  End 16:23:34 EST\n",
        "\n",
        "End      12-Nov-2012 16:23:34 EST\n",
        "\n",
        "*** CALSTIS-6 complete ***\n",
        "2012317162334-I--------------- CALSTIS-6 completed: OBRC070D0 ------------------\n"
       ]
      },
      {
       "output_type": "stream",
       "stream": "stdout",
       "text": [
        "\n",
        "!/usr/stsci/stsci_iraf_x/stsdas/bin.macintel/cs6.e 'obrc070d0_flt.fits' '/user/bostroem/science/12465_otfr20121109/ccd/extracted_spectra_fits/R136-NW8_loc311_3936_x1d.fits' -t -v -cte -disp -hel -flux -c 311.198350546 -r 0 -o1 12.0 -o2 12.0 -bm -bo 3 -a unweighted  -st 14.0\n"
       ]
      },
      {
       "output_type": "stream",
       "stream": "stdout",
       "text": [
        "\n",
        "*** CALSTIS-6 -- Version 2.40 (23-May-2012) ***\n",
        "Begin    12-Nov-2012 16:23:35 EST\n"
       ]
      },
      {
       "output_type": "stream",
       "stream": "stdout",
       "text": [
        "2012317162335-I--------------- CALSTIS-6 started -------------------------------\n",
        "\n",
        "Input    obrc070d0_flt.fits\n",
        "Output   /user/bostroem/science/12465_otfr20121109/ccd/extracted_spectra_fits/R136-NW8_loc311_3936_x1d.fits\n",
        "Rootname obrc070d0\n",
        "OBSMODE  ACCUM\n",
        "APERTURE 52X0.2\n",
        "OPT_ELEM G430M\n",
        "DETECTOR CCD\n"
       ]
      },
      {
       "output_type": "stream",
       "stream": "stdout",
       "text": [
        "\n",
        "XTRACTAB oref$n7p1031qo_1dx.fits\n",
        "XTRACTAB PEDIGREE=INFLIGHT 18/05/97\n",
        "XTRACTAB DESCRIP =Analysis from prop. 7094\n",
        "SPTRCTAB oref$qa31608go_1dt.fits\n",
        "\n",
        "Imset 1  Begin 16:23:35 EST\n"
       ]
      },
      {
       "output_type": "stream",
       "stream": "stdout",
       "text": [
        "         Input read into memory.\n",
        "         Offset of 14 low-res pixels added in dispersion direction\n",
        "Order 1  Begin 16:23:35 EST\n",
        "X1DCORR  PERFORM\n"
       ]
      },
      {
       "output_type": "stream",
       "stream": "stdout",
       "text": [
        "         Cross correlation offset: 0 pixels\n",
        "BACKCORR OMIT\n"
       ]
      },
      {
       "output_type": "stream",
       "stream": "stdout",
       "text": [
        "X1DCORR  COMPLETE\n",
        "2012317162335-I--------------- X1DCORR complete: OBRC070D0 ---------------------\n",
        "         Spectrum extracted at y position = 311.198\n",
        "         Extraction box height = 7\n",
        "         Background box 1 height = 5 offset 12 from A2CENTER\n",
        "         Background box 2 height = 5 offset 12 from A2CENTER\n",
        "\n",
        "DISPCORR PERFORM\n",
        "DISPTAB  oref$l2j0137to_dsp.fits\n",
        "DISPTAB  PEDIGREE=INFLIGHT 27/02/1997 24/11/1999\n",
        "DISPTAB  DESCRIP =Lindler Postlaunch, May 2000\n",
        "APDESTAB oref$obm1723ro_apd.fits\n",
        "APDESTAB PEDIGREE=INFLIGHT 01/03/1997 01/03/1997\n",
        "APDESTAB DESCRIP =Microscope Meas./Hartig Post-launch Offsets\n",
        "INANGTAB oref$h5s11397o_iac.fits\n"
       ]
      },
      {
       "output_type": "stream",
       "stream": "stdout",
       "text": [
        "         Delta = 0.074666 arcsec.\n",
        "DISPCORR COMPLETE\n",
        "2012317162335-I--------------- DISPCORR complete: OBRC070D0 --------------------\n",
        "\n",
        "HELCORR  PERFORM\n",
        "HELCORR  COMPLETE\n",
        "2012317162335-I--------------- HELCORR complete: OBRC070D0 ---------------------\n",
        "\n",
        "PHOTTAB  oref$p822207no_pht.fits\n",
        "APERTAB  oref$n7p1032ao_apt.fits\n",
        "APERTAB  PEDIGREE=MODEL\n",
        "APERTAB  DESCRIP =Bohlin/Hartig TIM Models Nov. 1998\n",
        "PCTAB    oref$q541740oo_pct.fits\n",
        "TDSTAB   oref$t9a1003so_tds.fits\n"
       ]
      },
      {
       "output_type": "stream",
       "stream": "stdout",
       "text": [
        "FLUXCORR PERFORM\n",
        "CTECORR  PERFORM\n",
        "CCDTAB   oref$v6n13233o_ccd.fits\n",
        "CCDTAB   PEDIGREE=INFLIGHT 01/05/2009 01/05/2009\n",
        "CCDTAB   DESCRIP =Proposal 8057, by I. Dashevsky & P. Goudfrooij\n"
       ]
      },
      {
       "output_type": "stream",
       "stream": "stdout",
       "text": [
        "CTECORR  COMPLETE\n",
        "FLUXCORR COMPLETE\n",
        "2012317162335-I--------------- FLUXCORR complete: OBRC070D0 --------------------\n",
        "\n",
        "SGEOCORR OMIT\n"
       ]
      },
      {
       "output_type": "stream",
       "stream": "stdout",
       "text": [
        "\n",
        "         Row 1 written to disk.\n",
        "Order 1  End 16:23:35 EST\n"
       ]
      },
      {
       "output_type": "stream",
       "stream": "stdout",
       "text": [
        "\n",
        "Imset 1  End 16:23:35 EST\n"
       ]
      },
      {
       "output_type": "stream",
       "stream": "stdout",
       "text": [
        "\n",
        "Warning  Keyword `XTRACALG' is being added to header.\n",
        "End      12-Nov-2012 16:23:35 EST\n",
        "\n",
        "*** CALSTIS-6 complete ***\n",
        "2012317162335-I--------------- CALSTIS-6 completed: OBRC070D0 ------------------\n"
       ]
      },
      {
       "output_type": "stream",
       "stream": "stdout",
       "text": [
        "\n",
        "yloc = 500.432545"
       ]
      },
      {
       "output_type": "stream",
       "stream": "stdout",
       "text": [
        "\n",
        "!/usr/stsci/stsci_iraf_x/stsdas/bin.macintel/cs6.e 'obrc070d0_flt.fits' '/user/bostroem/science/12465_otfr20121109/ccd/R136-NW8_loc500_3936_x1d.fits' -t -v -cte -disp -hel -flux -c 500.432545276 -r 4 -o1 12.0 -o2 12.0 -bm -bo 3 -a unweighted  -st 14.0\n"
       ]
      },
      {
       "output_type": "stream",
       "stream": "stdout",
       "text": [
        "\n",
        "*** CALSTIS-6 -- Version 2.40 (23-May-2012) ***\n",
        "Begin    12-Nov-2012 16:23:35 EST\n"
       ]
      },
      {
       "output_type": "stream",
       "stream": "stdout",
       "text": [
        "2012317162335-I--------------- CALSTIS-6 started -------------------------------\n",
        "\n",
        "Input    obrc070d0_flt.fits\n",
        "Output   /user/bostroem/science/12465_otfr20121109/ccd/R136-NW8_loc500_3936_x1d.fits\n",
        "Rootname obrc070d0\n",
        "OBSMODE  ACCUM\n",
        "APERTURE 52X0.2\n",
        "OPT_ELEM G430M\n",
        "DETECTOR CCD\n"
       ]
      },
      {
       "output_type": "stream",
       "stream": "stdout",
       "text": [
        "\n",
        "XTRACTAB oref$n7p1031qo_1dx.fits\n",
        "XTRACTAB PEDIGREE=INFLIGHT 18/05/97\n",
        "XTRACTAB DESCRIP =Analysis from prop. 7094\n",
        "SPTRCTAB oref$qa31608go_1dt.fits\n",
        "\n",
        "Imset 1  Begin 16:23:35 EST\n"
       ]
      },
      {
       "output_type": "stream",
       "stream": "stdout",
       "text": [
        "         Input read into memory.\n",
        "         Offset of 14 low-res pixels added in dispersion direction\n",
        "Order 1  Begin 16:23:36 EST\n",
        "X1DCORR  PERFORM\n"
       ]
      },
      {
       "output_type": "stream",
       "stream": "stdout",
       "text": [
        "Warning  Cross correlation to locate spectrum failed.\n",
        "ERROR    Cannot extract.\n",
        "Warning  No rows were written; no table created.\n",
        "Imset 1  End 16:23:36 EST\n",
        "\n",
        "End      12-Nov-2012 16:23:36 EST\n",
        "\n",
        "*** CALSTIS-6 complete ***\n",
        "2012317162336-I--------------- CALSTIS-6 completed: OBRC070D0 ------------------\n"
       ]
      },
      {
       "output_type": "stream",
       "stream": "stdout",
       "text": [
        "\n",
        "!/usr/stsci/stsci_iraf_x/stsdas/bin.macintel/cs6.e 'obrc070d0_flt.fits' '/user/bostroem/science/12465_otfr20121109/ccd/extracted_spectra_fits/R136-NW8_loc500_3936_x1d.fits' -t -v -cte -disp -hel -flux -c 500.432545276 -r 0 -o1 12.0 -o2 12.0 -bm -bo 3 -a unweighted  -st 14.0\n"
       ]
      },
      {
       "output_type": "stream",
       "stream": "stdout",
       "text": [
        "\n",
        "*** CALSTIS-6 -- Version 2.40 (23-May-2012) ***\n",
        "Begin    12-Nov-2012 16:23:36 EST\n"
       ]
      },
      {
       "output_type": "stream",
       "stream": "stdout",
       "text": [
        "2012317162336-I--------------- CALSTIS-6 started -------------------------------\n",
        "\n",
        "Input    obrc070d0_flt.fits\n",
        "Output   /user/bostroem/science/12465_otfr20121109/ccd/extracted_spectra_fits/R136-NW8_loc500_3936_x1d.fits\n",
        "Rootname obrc070d0\n",
        "OBSMODE  ACCUM\n",
        "APERTURE 52X0.2\n",
        "OPT_ELEM G430M\n",
        "DETECTOR CCD\n"
       ]
      },
      {
       "output_type": "stream",
       "stream": "stdout",
       "text": [
        "\n",
        "XTRACTAB oref$n7p1031qo_1dx.fits\n",
        "XTRACTAB PEDIGREE=INFLIGHT 18/05/97\n",
        "XTRACTAB DESCRIP =Analysis from prop. 7094\n",
        "SPTRCTAB oref$qa31608go_1dt.fits\n",
        "\n",
        "Imset 1  Begin 16:23:36 EST\n"
       ]
      },
      {
       "output_type": "stream",
       "stream": "stdout",
       "text": [
        "         Input read into memory.\n",
        "         Offset of 14 low-res pixels added in dispersion direction\n",
        "Order 1  Begin 16:23:36 EST\n",
        "X1DCORR  PERFORM\n"
       ]
      },
      {
       "output_type": "stream",
       "stream": "stdout",
       "text": [
        "         Cross correlation offset: 0 pixels\n",
        "BACKCORR OMIT\n"
       ]
      },
      {
       "output_type": "stream",
       "stream": "stdout",
       "text": [
        "X1DCORR  COMPLETE\n",
        "2012317162336-I--------------- X1DCORR complete: OBRC070D0 ---------------------\n",
        "         Spectrum extracted at y position = 500.433\n",
        "         Extraction box height = 7\n",
        "         Background box 1 height = 5 offset 12 from A2CENTER\n",
        "         Background box 2 height = 5 offset 12 from A2CENTER\n",
        "\n",
        "DISPCORR PERFORM\n",
        "DISPTAB  oref$l2j0137to_dsp.fits\n",
        "DISPTAB  PEDIGREE=INFLIGHT 27/02/1997 24/11/1999\n",
        "DISPTAB  DESCRIP =Lindler Postlaunch, May 2000\n",
        "APDESTAB oref$obm1723ro_apd.fits\n",
        "APDESTAB PEDIGREE=INFLIGHT 01/03/1997 01/03/1997\n",
        "APDESTAB DESCRIP =Microscope Meas./Hartig Post-launch Offsets\n",
        "INANGTAB oref$h5s11397o_iac.fits\n"
       ]
      },
      {
       "output_type": "stream",
       "stream": "stdout",
       "text": [
        "         Delta = 0.074666 arcsec.\n",
        "DISPCORR COMPLETE\n",
        "2012317162336-I--------------- DISPCORR complete: OBRC070D0 --------------------\n",
        "\n",
        "HELCORR  PERFORM\n",
        "HELCORR  COMPLETE\n",
        "2012317162336-I--------------- HELCORR complete: OBRC070D0 ---------------------\n",
        "\n",
        "PHOTTAB  oref$p822207no_pht.fits\n",
        "APERTAB  oref$n7p1032ao_apt.fits\n",
        "APERTAB  PEDIGREE=MODEL\n",
        "APERTAB  DESCRIP =Bohlin/Hartig TIM Models Nov. 1998\n",
        "PCTAB    oref$q541740oo_pct.fits\n",
        "TDSTAB   oref$t9a1003so_tds.fits\n"
       ]
      },
      {
       "output_type": "stream",
       "stream": "stdout",
       "text": [
        "FLUXCORR PERFORM\n",
        "CTECORR  PERFORM\n",
        "CCDTAB   oref$v6n13233o_ccd.fits\n",
        "CCDTAB   PEDIGREE=INFLIGHT 01/05/2009 01/05/2009\n",
        "CCDTAB   DESCRIP =Proposal 8057, by I. Dashevsky & P. Goudfrooij\n"
       ]
      },
      {
       "output_type": "stream",
       "stream": "stdout",
       "text": [
        "CTECORR  COMPLETE\n",
        "FLUXCORR COMPLETE\n",
        "2012317162336-I--------------- FLUXCORR complete: OBRC070D0 --------------------\n",
        "\n",
        "SGEOCORR OMIT\n"
       ]
      },
      {
       "output_type": "stream",
       "stream": "stdout",
       "text": [
        "\n",
        "         Row 1 written to disk.\n",
        "Order 1  End 16:23:36 EST\n"
       ]
      },
      {
       "output_type": "stream",
       "stream": "stdout",
       "text": [
        "\n",
        "Imset 1  End 16:23:36 EST\n"
       ]
      },
      {
       "output_type": "stream",
       "stream": "stdout",
       "text": [
        "\n",
        "Warning  Keyword `XTRACALG' is being added to header.\n",
        "End      12-Nov-2012 16:23:36 EST\n",
        "\n",
        "*** CALSTIS-6 complete ***\n",
        "2012317162336-I--------------- CALSTIS-6 completed: OBRC070D0 ------------------\n"
       ]
      },
      {
       "output_type": "stream",
       "stream": "stdout",
       "text": [
        "\n",
        "yloc = 531.937446"
       ]
      },
      {
       "output_type": "stream",
       "stream": "stdout",
       "text": [
        "\n",
        "!/usr/stsci/stsci_iraf_x/stsdas/bin.macintel/cs6.e 'obrc070d0_flt.fits' '/user/bostroem/science/12465_otfr20121109/ccd/R136-NW8_loc531_3936_x1d.fits' -t -v -cte -disp -hel -flux -c 531.937446377 -r 4 -o1 12.0 -o2 12.0 -bm -bo 3 -a unweighted  -st 14.0\n"
       ]
      },
      {
       "output_type": "stream",
       "stream": "stdout",
       "text": [
        "\n",
        "*** CALSTIS-6 -- Version 2.40 (23-May-2012) ***\n",
        "Begin    12-Nov-2012 16:23:37 EST\n"
       ]
      },
      {
       "output_type": "stream",
       "stream": "stdout",
       "text": [
        "2012317162337-I--------------- CALSTIS-6 started -------------------------------\n",
        "\n",
        "Input    obrc070d0_flt.fits\n",
        "Output   /user/bostroem/science/12465_otfr20121109/ccd/R136-NW8_loc531_3936_x1d.fits\n",
        "Rootname obrc070d0\n",
        "OBSMODE  ACCUM\n",
        "APERTURE 52X0.2\n",
        "OPT_ELEM G430M\n",
        "DETECTOR CCD\n"
       ]
      },
      {
       "output_type": "stream",
       "stream": "stdout",
       "text": [
        "\n",
        "XTRACTAB oref$n7p1031qo_1dx.fits\n",
        "XTRACTAB PEDIGREE=INFLIGHT 18/05/97\n",
        "XTRACTAB DESCRIP =Analysis from prop. 7094\n",
        "SPTRCTAB oref$qa31608go_1dt.fits\n",
        "\n",
        "Imset 1  Begin 16:23:37 EST\n"
       ]
      },
      {
       "output_type": "stream",
       "stream": "stdout",
       "text": [
        "         Input read into memory.\n",
        "         Offset of 14 low-res pixels added in dispersion direction\n",
        "Order 1  Begin 16:23:37 EST\n",
        "X1DCORR  PERFORM\n"
       ]
      },
      {
       "output_type": "stream",
       "stream": "stdout",
       "text": [
        "Warning  Cross correlation to locate spectrum failed.\n",
        "ERROR    Cannot extract.\n",
        "Warning  No rows were written; no table created.\n",
        "Imset 1  End 16:23:37 EST\n",
        "\n",
        "End      12-Nov-2012 16:23:37 EST\n",
        "\n",
        "*** CALSTIS-6 complete ***\n",
        "2012317162337-I--------------- CALSTIS-6 completed: OBRC070D0 ------------------\n"
       ]
      },
      {
       "output_type": "stream",
       "stream": "stdout",
       "text": [
        "\n",
        "!/usr/stsci/stsci_iraf_x/stsdas/bin.macintel/cs6.e 'obrc070d0_flt.fits' '/user/bostroem/science/12465_otfr20121109/ccd/extracted_spectra_fits/R136-NW8_loc531_3936_x1d.fits' -t -v -cte -disp -hel -flux -c 531.937446377 -r 0 -o1 12.0 -o2 12.0 -bm -bo 3 -a unweighted  -st 14.0\n"
       ]
      },
      {
       "output_type": "stream",
       "stream": "stdout",
       "text": [
        "\n",
        "*** CALSTIS-6 -- Version 2.40 (23-May-2012) ***\n",
        "Begin    12-Nov-2012 16:23:37 EST\n"
       ]
      },
      {
       "output_type": "stream",
       "stream": "stdout",
       "text": [
        "2012317162337-I--------------- CALSTIS-6 started -------------------------------\n",
        "\n",
        "Input    obrc070d0_flt.fits\n",
        "Output   /user/bostroem/science/12465_otfr20121109/ccd/extracted_spectra_fits/R136-NW8_loc531_3936_x1d.fits\n",
        "Rootname obrc070d0\n",
        "OBSMODE  ACCUM\n",
        "APERTURE 52X0.2\n",
        "OPT_ELEM G430M\n",
        "DETECTOR CCD\n"
       ]
      },
      {
       "output_type": "stream",
       "stream": "stdout",
       "text": [
        "\n",
        "XTRACTAB oref$n7p1031qo_1dx.fits\n",
        "XTRACTAB PEDIGREE=INFLIGHT 18/05/97\n",
        "XTRACTAB DESCRIP =Analysis from prop. 7094\n",
        "SPTRCTAB oref$qa31608go_1dt.fits\n",
        "\n",
        "Imset 1  Begin 16:23:37 EST\n"
       ]
      },
      {
       "output_type": "stream",
       "stream": "stdout",
       "text": [
        "         Input read into memory.\n",
        "         Offset of 14 low-res pixels added in dispersion direction\n",
        "Order 1  Begin 16:23:37 EST\n",
        "X1DCORR  PERFORM\n"
       ]
      },
      {
       "output_type": "stream",
       "stream": "stdout",
       "text": [
        "         Cross correlation offset: 0 pixels\n",
        "BACKCORR OMIT\n"
       ]
      },
      {
       "output_type": "stream",
       "stream": "stdout",
       "text": [
        "X1DCORR  COMPLETE\n",
        "2012317162337-I--------------- X1DCORR complete: OBRC070D0 ---------------------\n",
        "         Spectrum extracted at y position = 531.937\n",
        "         Extraction box height = 7\n",
        "         Background box 1 height = 5 offset 12 from A2CENTER\n",
        "         Background box 2 height = 5 offset 12 from A2CENTER\n",
        "\n",
        "DISPCORR PERFORM\n",
        "DISPTAB  oref$l2j0137to_dsp.fits\n",
        "DISPTAB  PEDIGREE=INFLIGHT 27/02/1997 24/11/1999\n",
        "DISPTAB  DESCRIP =Lindler Postlaunch, May 2000\n",
        "APDESTAB oref$obm1723ro_apd.fits\n",
        "APDESTAB PEDIGREE=INFLIGHT 01/03/1997 01/03/1997\n",
        "APDESTAB DESCRIP =Microscope Meas./Hartig Post-launch Offsets\n",
        "INANGTAB oref$h5s11397o_iac.fits\n"
       ]
      },
      {
       "output_type": "stream",
       "stream": "stdout",
       "text": [
        "         Delta = 0.074666 arcsec.\n",
        "DISPCORR COMPLETE\n",
        "2012317162337-I--------------- DISPCORR complete: OBRC070D0 --------------------\n",
        "\n",
        "HELCORR  PERFORM\n",
        "HELCORR  COMPLETE\n",
        "2012317162337-I--------------- HELCORR complete: OBRC070D0 ---------------------\n",
        "\n",
        "PHOTTAB  oref$p822207no_pht.fits\n",
        "APERTAB  oref$n7p1032ao_apt.fits\n",
        "APERTAB  PEDIGREE=MODEL\n",
        "APERTAB  DESCRIP =Bohlin/Hartig TIM Models Nov. 1998\n",
        "PCTAB    oref$q541740oo_pct.fits\n",
        "TDSTAB   oref$t9a1003so_tds.fits\n"
       ]
      },
      {
       "output_type": "stream",
       "stream": "stdout",
       "text": [
        "FLUXCORR PERFORM\n",
        "CTECORR  PERFORM\n",
        "CCDTAB   oref$v6n13233o_ccd.fits\n",
        "CCDTAB   PEDIGREE=INFLIGHT 01/05/2009 01/05/2009\n",
        "CCDTAB   DESCRIP =Proposal 8057, by I. Dashevsky & P. Goudfrooij\n"
       ]
      },
      {
       "output_type": "stream",
       "stream": "stdout",
       "text": [
        "CTECORR  COMPLETE\n",
        "FLUXCORR COMPLETE\n",
        "2012317162337-I--------------- FLUXCORR complete: OBRC070D0 --------------------\n",
        "\n",
        "SGEOCORR OMIT\n"
       ]
      },
      {
       "output_type": "stream",
       "stream": "stdout",
       "text": [
        "\n",
        "         Row 1 written to disk.\n",
        "Order 1  End 16:23:37 EST\n"
       ]
      },
      {
       "output_type": "stream",
       "stream": "stdout",
       "text": [
        "\n",
        "Imset 1  End 16:23:37 EST\n"
       ]
      },
      {
       "output_type": "stream",
       "stream": "stdout",
       "text": [
        "\n",
        "Warning  Keyword `XTRACALG' is being added to header.\n",
        "End      12-Nov-2012 16:23:37 EST\n",
        "\n",
        "*** CALSTIS-6 complete ***\n",
        "2012317162337-I--------------- CALSTIS-6 completed: OBRC070D0 ------------------\n"
       ]
      },
      {
       "output_type": "stream",
       "stream": "stdout",
       "text": [
        "\n",
        "yloc = 543.987531"
       ]
      },
      {
       "output_type": "stream",
       "stream": "stdout",
       "text": [
        "\n",
        "!/usr/stsci/stsci_iraf_x/stsdas/bin.macintel/cs6.e 'obrc070d0_flt.fits' '/user/bostroem/science/12465_otfr20121109/ccd/R136-NW8_loc543_3936_x1d.fits' -t -v -cte -disp -hel -flux -c 543.987530997 -r 4 -o1 12.0 -o2 12.0 -bm -bo 3 -a unweighted  -st 14.0\n"
       ]
      },
      {
       "output_type": "stream",
       "stream": "stdout",
       "text": [
        "\n",
        "*** CALSTIS-6 -- Version 2.40 (23-May-2012) ***\n",
        "Begin    12-Nov-2012 16:23:38 EST\n"
       ]
      },
      {
       "output_type": "stream",
       "stream": "stdout",
       "text": [
        "2012317162338-I--------------- CALSTIS-6 started -------------------------------\n",
        "\n",
        "Input    obrc070d0_flt.fits\n",
        "Output   /user/bostroem/science/12465_otfr20121109/ccd/R136-NW8_loc543_3936_x1d.fits\n",
        "Rootname obrc070d0\n",
        "OBSMODE  ACCUM\n",
        "APERTURE 52X0.2\n",
        "OPT_ELEM G430M\n",
        "DETECTOR CCD\n"
       ]
      },
      {
       "output_type": "stream",
       "stream": "stdout",
       "text": [
        "\n",
        "XTRACTAB oref$n7p1031qo_1dx.fits\n",
        "XTRACTAB PEDIGREE=INFLIGHT 18/05/97\n",
        "XTRACTAB DESCRIP =Analysis from prop. 7094\n",
        "SPTRCTAB oref$qa31608go_1dt.fits\n",
        "\n",
        "Imset 1  Begin 16:23:38 EST\n"
       ]
      },
      {
       "output_type": "stream",
       "stream": "stdout",
       "text": [
        "         Input read into memory.\n",
        "         Offset of 14 low-res pixels added in dispersion direction\n",
        "Order 1  Begin 16:23:38 EST\n",
        "X1DCORR  PERFORM\n"
       ]
      },
      {
       "output_type": "stream",
       "stream": "stdout",
       "text": [
        "Warning  Cross correlation to locate spectrum failed.\n",
        "ERROR    Cannot extract.\n",
        "Warning  No rows were written; no table created.\n",
        "Imset 1  End 16:23:38 EST\n",
        "\n",
        "End      12-Nov-2012 16:23:38 EST\n",
        "\n",
        "*** CALSTIS-6 complete ***\n",
        "2012317162338-I--------------- CALSTIS-6 completed: OBRC070D0 ------------------\n"
       ]
      },
      {
       "output_type": "stream",
       "stream": "stdout",
       "text": [
        "\n",
        "!/usr/stsci/stsci_iraf_x/stsdas/bin.macintel/cs6.e 'obrc070d0_flt.fits' '/user/bostroem/science/12465_otfr20121109/ccd/extracted_spectra_fits/R136-NW8_loc543_3936_x1d.fits' -t -v -cte -disp -hel -flux -c 543.987530997 -r 0 -o1 12.0 -o2 12.0 -bm -bo 3 -a unweighted  -st 14.0\n"
       ]
      },
      {
       "output_type": "stream",
       "stream": "stdout",
       "text": [
        "\n",
        "*** CALSTIS-6 -- Version 2.40 (23-May-2012) ***\n",
        "Begin    12-Nov-2012 16:23:38 EST\n"
       ]
      },
      {
       "output_type": "stream",
       "stream": "stdout",
       "text": [
        "2012317162338-I--------------- CALSTIS-6 started -------------------------------\n",
        "\n",
        "Input    obrc070d0_flt.fits\n",
        "Output   /user/bostroem/science/12465_otfr20121109/ccd/extracted_spectra_fits/R136-NW8_loc543_3936_x1d.fits\n",
        "Rootname obrc070d0\n",
        "OBSMODE  ACCUM\n",
        "APERTURE 52X0.2\n",
        "OPT_ELEM G430M\n",
        "DETECTOR CCD\n"
       ]
      },
      {
       "output_type": "stream",
       "stream": "stdout",
       "text": [
        "\n",
        "XTRACTAB oref$n7p1031qo_1dx.fits\n",
        "XTRACTAB PEDIGREE=INFLIGHT 18/05/97\n",
        "XTRACTAB DESCRIP =Analysis from prop. 7094\n",
        "SPTRCTAB oref$qa31608go_1dt.fits\n",
        "\n",
        "Imset 1  Begin 16:23:38 EST\n"
       ]
      },
      {
       "output_type": "stream",
       "stream": "stdout",
       "text": [
        "         Input read into memory.\n",
        "         Offset of 14 low-res pixels added in dispersion direction\n",
        "Order 1  Begin 16:23:38 EST\n",
        "X1DCORR  PERFORM\n"
       ]
      },
      {
       "output_type": "stream",
       "stream": "stdout",
       "text": [
        "         Cross correlation offset: 0 pixels\n",
        "BACKCORR OMIT\n"
       ]
      },
      {
       "output_type": "stream",
       "stream": "stdout",
       "text": [
        "X1DCORR  COMPLETE\n",
        "2012317162338-I--------------- X1DCORR complete: OBRC070D0 ---------------------\n",
        "         Spectrum extracted at y position = 543.988\n",
        "         Extraction box height = 7\n",
        "         Background box 1 height = 5 offset 12 from A2CENTER\n",
        "         Background box 2 height = 5 offset 12 from A2CENTER\n",
        "\n",
        "DISPCORR PERFORM\n",
        "DISPTAB  oref$l2j0137to_dsp.fits\n",
        "DISPTAB  PEDIGREE=INFLIGHT 27/02/1997 24/11/1999\n",
        "DISPTAB  DESCRIP =Lindler Postlaunch, May 2000\n",
        "APDESTAB oref$obm1723ro_apd.fits\n",
        "APDESTAB PEDIGREE=INFLIGHT 01/03/1997 01/03/1997\n",
        "APDESTAB DESCRIP =Microscope Meas./Hartig Post-launch Offsets\n",
        "INANGTAB oref$h5s11397o_iac.fits\n"
       ]
      },
      {
       "output_type": "stream",
       "stream": "stdout",
       "text": [
        "         Delta = 0.074666 arcsec.\n",
        "DISPCORR COMPLETE\n",
        "2012317162338-I--------------- DISPCORR complete: OBRC070D0 --------------------\n",
        "\n",
        "HELCORR  PERFORM\n",
        "HELCORR  COMPLETE\n",
        "2012317162338-I--------------- HELCORR complete: OBRC070D0 ---------------------\n",
        "\n",
        "PHOTTAB  oref$p822207no_pht.fits\n",
        "APERTAB  oref$n7p1032ao_apt.fits\n",
        "APERTAB  PEDIGREE=MODEL\n",
        "APERTAB  DESCRIP =Bohlin/Hartig TIM Models Nov. 1998\n",
        "PCTAB    oref$q541740oo_pct.fits\n",
        "TDSTAB   oref$t9a1003so_tds.fits\n"
       ]
      },
      {
       "output_type": "stream",
       "stream": "stdout",
       "text": [
        "FLUXCORR PERFORM\n",
        "CTECORR  PERFORM\n",
        "CCDTAB   oref$v6n13233o_ccd.fits\n",
        "CCDTAB   PEDIGREE=INFLIGHT 01/05/2009 01/05/2009\n",
        "CCDTAB   DESCRIP =Proposal 8057, by I. Dashevsky & P. Goudfrooij\n"
       ]
      },
      {
       "output_type": "stream",
       "stream": "stdout",
       "text": [
        "CTECORR  COMPLETE\n",
        "FLUXCORR COMPLETE\n",
        "2012317162338-I--------------- FLUXCORR complete: OBRC070D0 --------------------\n",
        "\n",
        "SGEOCORR OMIT\n"
       ]
      },
      {
       "output_type": "stream",
       "stream": "stdout",
       "text": [
        "\n",
        "         Row 1 written to disk.\n",
        "Order 1  End 16:23:38 EST\n"
       ]
      },
      {
       "output_type": "stream",
       "stream": "stdout",
       "text": [
        "\n",
        "Imset 1  End 16:23:38 EST\n"
       ]
      },
      {
       "output_type": "stream",
       "stream": "stdout",
       "text": [
        "\n",
        "Warning  Keyword `XTRACALG' is being added to header.\n",
        "End      12-Nov-2012 16:23:38 EST\n",
        "\n",
        "*** CALSTIS-6 complete ***\n",
        "2012317162338-I--------------- CALSTIS-6 completed: OBRC070D0 ------------------\n"
       ]
      },
      {
       "output_type": "stream",
       "stream": "stdout",
       "text": [
        "\n",
        "6\n",
        "$$$$$$$$$$$$$$$$$$$$$$$$plotting$$$$$$$$$$$$$$$$$$$$$$$"
       ]
      },
      {
       "output_type": "stream",
       "stream": "stdout",
       "text": [
        "\n",
        "$$$$$$$$$$$$$$$$$$$$$$$$plotting$$$$$$$$$$$$$$$$$$$$$$$"
       ]
      },
      {
       "output_type": "stream",
       "stream": "stdout",
       "text": [
        "\n",
        "$$$$$$$$$$$$$$$$$$$$$$$$plotting$$$$$$$$$$$$$$$$$$$$$$$"
       ]
      },
      {
       "output_type": "stream",
       "stream": "stdout",
       "text": [
        "\n",
        "$$$$$$$$$$$$$$$$$$$$$$$$plotting$$$$$$$$$$$$$$$$$$$$$$$"
       ]
      },
      {
       "output_type": "stream",
       "stream": "stdout",
       "text": [
        "\n",
        "$$$$$$$$$$$$$$$$$$$$$$$$plotting$$$$$$$$$$$$$$$$$$$$$$$"
       ]
      },
      {
       "output_type": "stream",
       "stream": "stdout",
       "text": [
        "\n",
        "$$$$$$$$$$$$$$$$$$$$$$$$plotting$$$$$$$$$$$$$$$$$$$$$$$"
       ]
      },
      {
       "output_type": "stream",
       "stream": "stdout",
       "text": [
        "\n",
        "['obrc01030_flt.fits', 'obrc01040_flt.fits']"
       ]
      },
      {
       "output_type": "stream",
       "stream": "stdout",
       "text": [
        " -69.1012\n",
        "Found offset of 7"
       ]
      },
      {
       "output_type": "stream",
       "stream": "stdout",
       "text": [
        "\n",
        "#############################R136-SE8######################"
       ]
      },
      {
       "output_type": "stream",
       "stream": "stderr",
       "text": [
        "Legend does not support [<matplotlib.lines.Line2D object at 0x112385150>]\n",
        "Use proxy artist instead.\n",
        "\n",
        "http://matplotlib.sourceforge.net/users/legend_guide.html#using-proxy-artist\n",
        "\n",
        "Legend does not support [<matplotlib.lines.Line2D object at 0x1126b6110>]\n",
        "Use proxy artist instead.\n",
        "\n",
        "http://matplotlib.sourceforge.net/users/legend_guide.html#using-proxy-artist\n",
        "\n",
        "Legend does not support [<matplotlib.lines.Line2D object at 0x1126b6350>]\n",
        "Use proxy artist instead.\n",
        "\n",
        "http://matplotlib.sourceforge.net/users/legend_guide.html#using-proxy-artist\n",
        "\n",
        "Legend does not support [<matplotlib.lines.Line2D object at 0x1116cef10>]\n",
        "Use proxy artist instead.\n",
        "\n",
        "http://matplotlib.sourceforge.net/users/legend_guide.html#using-proxy-artist\n",
        "\n",
        "Overwriting existing file 'R136-SE8_3936_combined_img.fits'.\n"
       ]
      },
      {
       "output_type": "stream",
       "stream": "stdout",
       "text": [
        "\n",
        "[  6.19868976e+05   5.45569004e+02   3.17980651e+00  -5.01616401e+01\n",
        "   7.72493985e+01  -7.48694858e-02   6.42853651e-06]"
       ]
      },
      {
       "output_type": "stream",
       "stream": "stdout",
       "text": [
        "\n",
        "Less than 3 points between 0 - 3"
       ]
      },
      {
       "output_type": "stream",
       "stream": "stdout",
       "text": [
        "\n",
        "Less than 3 points between 4 - 6\n",
        "Less than 3 points between 7 - 10\n",
        "error\n",
        "error calculating fit for 11 - 17, skipping\n",
        "error"
       ]
      },
      {
       "output_type": "stream",
       "stream": "stdout",
       "text": [
        "\n",
        "error calculating fit for 18 - 23, skipping\n",
        "Less than 3 points between 24 - 25\n",
        "Less than 3 points between 26 - 28\n",
        "Less than 3 points between 29 - 30\n",
        "Less than 3 points between 31 - 32\n",
        "Less than 3 points between 33 - 35\n",
        "Less than 3 points between 38 - 39\n",
        "Less than 3 points between 40 - 42\n",
        "Less than 3 points between 47 - 48\n",
        "Less than 3 points between 52 - 53\n",
        "Less than 3 points between 62 - 64\n",
        "Less than 3 points between 66 - 67\n",
        "Less than 3 points between 73 - 75\n",
        "Less than 3 points between 77 - 78\n",
        "Less than 3 points between 80 - 81\n",
        "Less than 3 points between 84 - 86\n",
        "Less than 3 points between 88 - 90\n",
        "Less than 3 points between 92 - 93\n",
        "Less than 3 points between 95 - 96\n",
        "Less than 3 points between 101 - 102\n",
        "Less than 3 points between 110 - 111\n",
        "Less than 3 points between 124 - 125\n",
        "Less than 3 points between 127 - 128\n",
        "Less than 3 points between 131 - 132\n",
        "Less than 3 points between 139 - 140\n",
        "Less than 3 points between 146 - 147\n",
        "Less than 3 points between 152 - 153\n",
        "Less than 3 points between 187 - 188\n",
        "Less than 3 points between 194 - 195\n",
        "Less than 3 points between 203 - 204\n",
        "Less than 3 points between 207 - 208\n",
        "Less than 3 points between 214 - 215\n",
        "Less than 3 points between 236 - 237\n",
        "Less than 3 points between 341 - 343\n",
        "Less than 3 points between 386 - 387\n",
        "Less than 3 points between 395 - 396\n",
        "[  1.04029563e+05   4.96833866e+02  -3.65377977e+00]\n",
        "Less than 3 points between 503 - 506\n",
        "[  3.62345410e+05   5.14887185e+02  -3.43322190e+00]\n",
        "Less than 3 points between 556 - 557\n",
        "[  5.76014294e+04   6.20804278e+02   2.52008853e+00]\n",
        "[  5.98354504e+04   6.30101358e+02   6.24160502e+00]\n",
        "Less than 3 points between 725 - 727\n",
        "Less than 3 points between 738 - 739\n",
        "Less than 3 points between 752 - 753\n",
        "Less than 3 points between 754 - 755\n",
        "Less than 3 points between 792 - 793\n",
        "Less than 3 points between 799 - 800\n",
        "Less than 3 points between 830 - 831\n",
        "Less than 3 points between 836 - 837\n",
        "Less than 3 points between 869 - 870\n",
        "Less than 3 points between 876 - 877\n",
        "Less than 3 points between 878 - 879\n",
        "Less than 3 points between 880 - 882\n",
        "Less than 3 points between 883 - 884\n",
        "Less than 3 points between 886 - 888\n",
        "Less than 3 points between 932 - 933\n",
        "Less than 3 points between 934 - 935\n",
        "[  7.37338833e+04   9.42227610e+02   5.31617996e+00]\n",
        "Less than 3 points between 974 - 975\n",
        "Less than 3 points between 983 - 984\n",
        "Less than 3 points between 986 - 987\n",
        "Less than 3 points between 993 - 994\n",
        "Less than 3 points between 995 - 996\n",
        "Less than 3 points between 1002 - 1005\n",
        "Less than 3 points between 1010 - 1012\n",
        "Less than 3 points between 1013 - 1015\n",
        "Less than 3 points between 1020 - 1021\n",
        "Less than 3 points between 1028 - 1029\n",
        "[496.83386568865637, 514.88718510925798, 620.80427817216491, 630.10135752618623, 942.22761015806952]\n",
        "yloc = 496.833866"
       ]
      },
      {
       "output_type": "stream",
       "stream": "stdout",
       "text": [
        "\n",
        "!/usr/stsci/stsci_iraf_x/stsdas/bin.macintel/cs6.e 'obrc01030_flt.fits' '/user/bostroem/science/12465_otfr20121109/ccd/R136-SE8_loc496_3936_x1d.fits' -t -v -cte -disp -hel -flux -c 496.833865689 -r 4 -o1 12.0 -o2 12.0 -bm -bo 3 -a unweighted  -st 14.0\n"
       ]
      },
      {
       "output_type": "stream",
       "stream": "stdout",
       "text": [
        "\n",
        "*** CALSTIS-6 -- Version 2.40 (23-May-2012) ***\n",
        "Begin    12-Nov-2012 16:23:44 EST\n"
       ]
      },
      {
       "output_type": "stream",
       "stream": "stdout",
       "text": [
        "2012317162344-I--------------- CALSTIS-6 started -------------------------------\n",
        "\n",
        "ERROR    Output file `/user/bostroem/science/12465_otfr20121109/ccd/R136-SE8_loc496_3936_x1d.fits' already exists.\n",
        "Error processing obrc01030_flt.fits.\n"
       ]
      },
      {
       "output_type": "stream",
       "stream": "stdout",
       "text": [
        "\n",
        "!/usr/stsci/stsci_iraf_x/stsdas/bin.macintel/cs6.e 'obrc01030_flt.fits' '/user/bostroem/science/12465_otfr20121109/ccd/extracted_spectra_fits/R136-SE8_loc496_3936_x1d.fits' -t -v -cte -disp -hel -flux -c 496.833865689 -r 0 -o1 12.0 -o2 12.0 -bm -bo 3 -a unweighted  -st 14.0\n"
       ]
      },
      {
       "output_type": "stream",
       "stream": "stdout",
       "text": [
        "\n",
        "*** CALSTIS-6 -- Version 2.40 (23-May-2012) ***\n",
        "Begin    12-Nov-2012 16:23:44 EST\n"
       ]
      },
      {
       "output_type": "stream",
       "stream": "stdout",
       "text": [
        "2012317162344-I--------------- CALSTIS-6 started -------------------------------\n",
        "\n",
        "Input    obrc01030_flt.fits\n",
        "Output   /user/bostroem/science/12465_otfr20121109/ccd/extracted_spectra_fits/R136-SE8_loc496_3936_x1d.fits\n",
        "Rootname obrc01030\n",
        "OBSMODE  ACCUM\n",
        "APERTURE 52X0.2\n",
        "OPT_ELEM G430M\n",
        "DETECTOR CCD\n"
       ]
      },
      {
       "output_type": "stream",
       "stream": "stdout",
       "text": [
        "\n",
        "XTRACTAB oref$n7p1031qo_1dx.fits\n",
        "XTRACTAB PEDIGREE=INFLIGHT 18/05/97\n",
        "XTRACTAB DESCRIP =Analysis from prop. 7094\n",
        "SPTRCTAB oref$qa31608go_1dt.fits\n",
        "\n",
        "Imset 1  Begin 16:23:44 EST\n"
       ]
      },
      {
       "output_type": "stream",
       "stream": "stdout",
       "text": [
        "         Input read into memory.\n",
        "         Offset of 14 low-res pixels added in dispersion direction\n",
        "Order 1  Begin 16:23:44 EST\n",
        "X1DCORR  PERFORM\n"
       ]
      },
      {
       "output_type": "stream",
       "stream": "stdout",
       "text": [
        "         Cross correlation offset: 0 pixels\n",
        "BACKCORR OMIT\n"
       ]
      },
      {
       "output_type": "stream",
       "stream": "stdout",
       "text": [
        "X1DCORR  COMPLETE\n",
        "2012317162344-I--------------- X1DCORR complete: OBRC01030 ---------------------\n",
        "         Spectrum extracted at y position = 496.834\n",
        "         Extraction box height = 7\n",
        "         Background box 1 height = 5 offset 12 from A2CENTER\n",
        "         Background box 2 height = 5 offset 12 from A2CENTER\n",
        "\n",
        "DISPCORR PERFORM\n",
        "DISPTAB  oref$l2j0137to_dsp.fits\n",
        "DISPTAB  PEDIGREE=INFLIGHT 27/02/1997 24/11/1999\n",
        "DISPTAB  DESCRIP =Lindler Postlaunch, May 2000\n",
        "APDESTAB oref$obm1723ro_apd.fits\n",
        "APDESTAB PEDIGREE=INFLIGHT 01/03/1997 01/03/1997\n",
        "APDESTAB DESCRIP =Microscope Meas./Hartig Post-launch Offsets\n",
        "INANGTAB oref$h5s11397o_iac.fits\n"
       ]
      },
      {
       "output_type": "stream",
       "stream": "stdout",
       "text": [
        "         Delta = 0.074666 arcsec.\n",
        "DISPCORR COMPLETE\n",
        "2012317162344-I--------------- DISPCORR complete: OBRC01030 --------------------\n",
        "\n",
        "HELCORR  PERFORM\n",
        "HELCORR  COMPLETE\n",
        "2012317162344-I--------------- HELCORR complete: OBRC01030 ---------------------\n",
        "\n",
        "PHOTTAB  oref$p822207no_pht.fits\n",
        "APERTAB  oref$n7p1032ao_apt.fits\n",
        "APERTAB  PEDIGREE=MODEL\n",
        "APERTAB  DESCRIP =Bohlin/Hartig TIM Models Nov. 1998\n",
        "PCTAB    oref$q541740oo_pct.fits\n",
        "TDSTAB   oref$t9a1003so_tds.fits\n"
       ]
      },
      {
       "output_type": "stream",
       "stream": "stdout",
       "text": [
        "FLUXCORR PERFORM\n",
        "CTECORR  PERFORM\n",
        "CCDTAB   oref$v6n13233o_ccd.fits\n",
        "CCDTAB   PEDIGREE=INFLIGHT 01/05/2009 01/05/2009\n",
        "CCDTAB   DESCRIP =Proposal 8057, by I. Dashevsky & P. Goudfrooij\n"
       ]
      },
      {
       "output_type": "stream",
       "stream": "stdout",
       "text": [
        "CTECORR  COMPLETE\n",
        "FLUXCORR COMPLETE\n",
        "2012317162344-I--------------- FLUXCORR complete: OBRC01030 --------------------\n",
        "\n",
        "SGEOCORR OMIT\n"
       ]
      },
      {
       "output_type": "stream",
       "stream": "stdout",
       "text": [
        "\n",
        "         Row 1 written to disk.\n",
        "Order 1  End 16:23:44 EST\n"
       ]
      },
      {
       "output_type": "stream",
       "stream": "stdout",
       "text": [
        "\n",
        "Imset 1  End 16:23:44 EST\n"
       ]
      },
      {
       "output_type": "stream",
       "stream": "stdout",
       "text": [
        "\n",
        "Warning  Keyword `XTRACALG' is being added to header.\n",
        "End      12-Nov-2012 16:23:44 EST\n",
        "\n",
        "*** CALSTIS-6 complete ***\n",
        "2012317162344-I--------------- CALSTIS-6 completed: OBRC01030 ------------------\n"
       ]
      },
      {
       "output_type": "stream",
       "stream": "stdout",
       "text": [
        "\n",
        "yloc = 514.887185"
       ]
      },
      {
       "output_type": "stream",
       "stream": "stdout",
       "text": [
        "\n",
        "!/usr/stsci/stsci_iraf_x/stsdas/bin.macintel/cs6.e 'obrc01030_flt.fits' '/user/bostroem/science/12465_otfr20121109/ccd/R136-SE8_loc514_3936_x1d.fits' -t -v -cte -disp -hel -flux -c 514.887185109 -r 4 -o1 12.0 -o2 12.0 -bm -bo 3 -a unweighted  -st 14.0\n"
       ]
      },
      {
       "output_type": "stream",
       "stream": "stdout",
       "text": [
        "\n",
        "*** CALSTIS-6 -- Version 2.40 (23-May-2012) ***\n",
        "Begin    12-Nov-2012 16:23:45 EST\n"
       ]
      },
      {
       "output_type": "stream",
       "stream": "stdout",
       "text": [
        "2012317162345-I--------------- CALSTIS-6 started -------------------------------\n",
        "\n",
        "Input    obrc01030_flt.fits\n",
        "Output   /user/bostroem/science/12465_otfr20121109/ccd/R136-SE8_loc514_3936_x1d.fits\n",
        "Rootname obrc01030\n",
        "OBSMODE  ACCUM\n",
        "APERTURE 52X0.2\n",
        "OPT_ELEM G430M\n",
        "DETECTOR CCD\n"
       ]
      },
      {
       "output_type": "stream",
       "stream": "stdout",
       "text": [
        "\n",
        "XTRACTAB oref$n7p1031qo_1dx.fits\n",
        "XTRACTAB PEDIGREE=INFLIGHT 18/05/97\n",
        "XTRACTAB DESCRIP =Analysis from prop. 7094\n",
        "SPTRCTAB oref$qa31608go_1dt.fits\n",
        "\n",
        "Imset 1  Begin 16:23:45 EST\n"
       ]
      },
      {
       "output_type": "stream",
       "stream": "stdout",
       "text": [
        "         Input read into memory.\n",
        "         Offset of 14 low-res pixels added in dispersion direction\n",
        "Order 1  Begin 16:23:45 EST\n",
        "X1DCORR  PERFORM\n"
       ]
      },
      {
       "output_type": "stream",
       "stream": "stdout",
       "text": [
        "Warning  Cross correlation to locate spectrum failed.\n",
        "ERROR    Cannot extract.\n",
        "Warning  No rows were written; no table created.\n",
        "Imset 1  End 16:23:45 EST\n",
        "\n",
        "End      12-Nov-2012 16:23:45 EST\n",
        "\n",
        "*** CALSTIS-6 complete ***\n",
        "2012317162345-I--------------- CALSTIS-6 completed: OBRC01030 ------------------\n"
       ]
      },
      {
       "output_type": "stream",
       "stream": "stdout",
       "text": [
        "\n",
        "!/usr/stsci/stsci_iraf_x/stsdas/bin.macintel/cs6.e 'obrc01030_flt.fits' '/user/bostroem/science/12465_otfr20121109/ccd/extracted_spectra_fits/R136-SE8_loc514_3936_x1d.fits' -t -v -cte -disp -hel -flux -c 514.887185109 -r 0 -o1 12.0 -o2 12.0 -bm -bo 3 -a unweighted  -st 14.0\n"
       ]
      },
      {
       "output_type": "stream",
       "stream": "stdout",
       "text": [
        "\n",
        "*** CALSTIS-6 -- Version 2.40 (23-May-2012) ***\n",
        "Begin    12-Nov-2012 16:23:45 EST\n"
       ]
      },
      {
       "output_type": "stream",
       "stream": "stdout",
       "text": [
        "2012317162345-I--------------- CALSTIS-6 started -------------------------------\n",
        "\n",
        "Input    obrc01030_flt.fits\n",
        "Output   /user/bostroem/science/12465_otfr20121109/ccd/extracted_spectra_fits/R136-SE8_loc514_3936_x1d.fits\n",
        "Rootname obrc01030\n",
        "OBSMODE  ACCUM\n",
        "APERTURE 52X0.2\n",
        "OPT_ELEM G430M\n",
        "DETECTOR CCD\n"
       ]
      },
      {
       "output_type": "stream",
       "stream": "stdout",
       "text": [
        "\n",
        "XTRACTAB oref$n7p1031qo_1dx.fits\n",
        "XTRACTAB PEDIGREE=INFLIGHT 18/05/97\n",
        "XTRACTAB DESCRIP =Analysis from prop. 7094\n",
        "SPTRCTAB oref$qa31608go_1dt.fits\n",
        "\n",
        "Imset 1  Begin 16:23:45 EST\n"
       ]
      },
      {
       "output_type": "stream",
       "stream": "stdout",
       "text": [
        "         Input read into memory.\n",
        "         Offset of 14 low-res pixels added in dispersion direction\n",
        "Order 1  Begin 16:23:46 EST\n",
        "X1DCORR  PERFORM\n"
       ]
      },
      {
       "output_type": "stream",
       "stream": "stdout",
       "text": [
        "         Cross correlation offset: 0 pixels\n",
        "BACKCORR OMIT\n"
       ]
      },
      {
       "output_type": "stream",
       "stream": "stdout",
       "text": [
        "X1DCORR  COMPLETE\n",
        "2012317162346-I--------------- X1DCORR complete: OBRC01030 ---------------------\n",
        "         Spectrum extracted at y position = 514.887\n",
        "         Extraction box height = 7\n",
        "         Background box 1 height = 5 offset 12 from A2CENTER\n",
        "         Background box 2 height = 5 offset 12 from A2CENTER\n",
        "\n",
        "DISPCORR PERFORM\n",
        "DISPTAB  oref$l2j0137to_dsp.fits\n",
        "DISPTAB  PEDIGREE=INFLIGHT 27/02/1997 24/11/1999\n",
        "DISPTAB  DESCRIP =Lindler Postlaunch, May 2000\n",
        "APDESTAB oref$obm1723ro_apd.fits\n",
        "APDESTAB PEDIGREE=INFLIGHT 01/03/1997 01/03/1997\n",
        "APDESTAB DESCRIP =Microscope Meas./Hartig Post-launch Offsets\n",
        "INANGTAB oref$h5s11397o_iac.fits\n"
       ]
      },
      {
       "output_type": "stream",
       "stream": "stdout",
       "text": [
        "         Delta = 0.074666 arcsec.\n",
        "DISPCORR COMPLETE\n",
        "2012317162346-I--------------- DISPCORR complete: OBRC01030 --------------------\n",
        "\n",
        "HELCORR  PERFORM\n",
        "HELCORR  COMPLETE\n",
        "2012317162346-I--------------- HELCORR complete: OBRC01030 ---------------------\n",
        "\n",
        "PHOTTAB  oref$p822207no_pht.fits\n",
        "APERTAB  oref$n7p1032ao_apt.fits\n",
        "APERTAB  PEDIGREE=MODEL\n",
        "APERTAB  DESCRIP =Bohlin/Hartig TIM Models Nov. 1998\n",
        "PCTAB    oref$q541740oo_pct.fits\n",
        "TDSTAB   oref$t9a1003so_tds.fits\n"
       ]
      },
      {
       "output_type": "stream",
       "stream": "stdout",
       "text": [
        "FLUXCORR PERFORM\n",
        "CTECORR  PERFORM\n",
        "CCDTAB   oref$v6n13233o_ccd.fits\n",
        "CCDTAB   PEDIGREE=INFLIGHT 01/05/2009 01/05/2009\n",
        "CCDTAB   DESCRIP =Proposal 8057, by I. Dashevsky & P. Goudfrooij\n"
       ]
      },
      {
       "output_type": "stream",
       "stream": "stdout",
       "text": [
        "CTECORR  COMPLETE\n",
        "FLUXCORR COMPLETE\n",
        "2012317162346-I--------------- FLUXCORR complete: OBRC01030 --------------------\n",
        "\n",
        "SGEOCORR OMIT\n"
       ]
      },
      {
       "output_type": "stream",
       "stream": "stdout",
       "text": [
        "\n",
        "         Row 1 written to disk.\n",
        "Order 1  End 16:23:46 EST\n"
       ]
      },
      {
       "output_type": "stream",
       "stream": "stdout",
       "text": [
        "\n",
        "Imset 1  End 16:23:46 EST\n"
       ]
      },
      {
       "output_type": "stream",
       "stream": "stdout",
       "text": [
        "\n",
        "Warning  Keyword `XTRACALG' is being added to header.\n",
        "End      12-Nov-2012 16:23:46 EST\n",
        "\n",
        "*** CALSTIS-6 complete ***\n",
        "2012317162346-I--------------- CALSTIS-6 completed: OBRC01030 ------------------\n"
       ]
      },
      {
       "output_type": "stream",
       "stream": "stdout",
       "text": [
        "\n",
        "yloc = 620.804278"
       ]
      },
      {
       "output_type": "stream",
       "stream": "stdout",
       "text": [
        "\n",
        "!/usr/stsci/stsci_iraf_x/stsdas/bin.macintel/cs6.e 'obrc01030_flt.fits' '/user/bostroem/science/12465_otfr20121109/ccd/R136-SE8_loc620_3936_x1d.fits' -t -v -cte -disp -hel -flux -c 620.804278172 -r 4 -o1 12.0 -o2 12.0 -bm -bo 3 -a unweighted  -st 14.0\n"
       ]
      },
      {
       "output_type": "stream",
       "stream": "stdout",
       "text": [
        "\n",
        "*** CALSTIS-6 -- Version 2.40 (23-May-2012) ***\n",
        "Begin    12-Nov-2012 16:23:46 EST\n"
       ]
      },
      {
       "output_type": "stream",
       "stream": "stdout",
       "text": [
        "2012317162346-I--------------- CALSTIS-6 started -------------------------------\n",
        "\n",
        "Input    obrc01030_flt.fits\n",
        "Output   /user/bostroem/science/12465_otfr20121109/ccd/R136-SE8_loc620_3936_x1d.fits\n",
        "Rootname obrc01030\n",
        "OBSMODE  ACCUM\n",
        "APERTURE 52X0.2\n",
        "OPT_ELEM G430M\n",
        "DETECTOR CCD\n"
       ]
      },
      {
       "output_type": "stream",
       "stream": "stdout",
       "text": [
        "\n",
        "XTRACTAB oref$n7p1031qo_1dx.fits\n",
        "XTRACTAB PEDIGREE=INFLIGHT 18/05/97\n",
        "XTRACTAB DESCRIP =Analysis from prop. 7094\n",
        "SPTRCTAB oref$qa31608go_1dt.fits\n",
        "\n",
        "Imset 1  Begin 16:23:46 EST\n"
       ]
      },
      {
       "output_type": "stream",
       "stream": "stdout",
       "text": [
        "         Input read into memory.\n",
        "         Offset of 14 low-res pixels added in dispersion direction\n",
        "Order 1  Begin 16:23:46 EST\n",
        "X1DCORR  PERFORM\n"
       ]
      },
      {
       "output_type": "stream",
       "stream": "stdout",
       "text": [
        "Warning  Cross correlation to locate spectrum failed.\n",
        "ERROR    Cannot extract.\n",
        "Warning  No rows were written; no table created.\n",
        "Imset 1  End 16:23:46 EST\n",
        "\n",
        "End      12-Nov-2012 16:23:46 EST\n",
        "\n",
        "*** CALSTIS-6 complete ***\n",
        "2012317162346-I--------------- CALSTIS-6 completed: OBRC01030 ------------------\n"
       ]
      },
      {
       "output_type": "stream",
       "stream": "stdout",
       "text": [
        "\n",
        "!/usr/stsci/stsci_iraf_x/stsdas/bin.macintel/cs6.e 'obrc01030_flt.fits' '/user/bostroem/science/12465_otfr20121109/ccd/extracted_spectra_fits/R136-SE8_loc620_3936_x1d.fits' -t -v -cte -disp -hel -flux -c 620.804278172 -r 0 -o1 12.0 -o2 12.0 -bm -bo 3 -a unweighted  -st 14.0\n"
       ]
      },
      {
       "output_type": "stream",
       "stream": "stdout",
       "text": [
        "\n",
        "*** CALSTIS-6 -- Version 2.40 (23-May-2012) ***\n",
        "Begin    12-Nov-2012 16:23:46 EST\n"
       ]
      },
      {
       "output_type": "stream",
       "stream": "stdout",
       "text": [
        "2012317162346-I--------------- CALSTIS-6 started -------------------------------\n",
        "\n",
        "Input    obrc01030_flt.fits\n",
        "Output   /user/bostroem/science/12465_otfr20121109/ccd/extracted_spectra_fits/R136-SE8_loc620_3936_x1d.fits\n",
        "Rootname obrc01030\n",
        "OBSMODE  ACCUM\n",
        "APERTURE 52X0.2\n",
        "OPT_ELEM G430M\n",
        "DETECTOR CCD\n"
       ]
      },
      {
       "output_type": "stream",
       "stream": "stdout",
       "text": [
        "\n",
        "XTRACTAB oref$n7p1031qo_1dx.fits\n",
        "XTRACTAB PEDIGREE=INFLIGHT 18/05/97\n",
        "XTRACTAB DESCRIP =Analysis from prop. 7094\n",
        "SPTRCTAB oref$qa31608go_1dt.fits\n",
        "\n",
        "Imset 1  Begin 16:23:47 EST\n"
       ]
      },
      {
       "output_type": "stream",
       "stream": "stdout",
       "text": [
        "         Input read into memory.\n",
        "         Offset of 14 low-res pixels added in dispersion direction\n",
        "Order 1  Begin 16:23:47 EST\n",
        "X1DCORR  PERFORM\n"
       ]
      },
      {
       "output_type": "stream",
       "stream": "stdout",
       "text": [
        "         Cross correlation offset: 0 pixels\n",
        "BACKCORR OMIT\n"
       ]
      },
      {
       "output_type": "stream",
       "stream": "stdout",
       "text": [
        "X1DCORR  COMPLETE\n",
        "2012317162347-I--------------- X1DCORR complete: OBRC01030 ---------------------\n",
        "         Spectrum extracted at y position = 620.804\n",
        "         Extraction box height = 7\n",
        "         Background box 1 height = 5 offset 12 from A2CENTER\n",
        "         Background box 2 height = 5 offset 12 from A2CENTER\n",
        "\n",
        "DISPCORR PERFORM\n",
        "DISPTAB  oref$l2j0137to_dsp.fits\n",
        "DISPTAB  PEDIGREE=INFLIGHT 27/02/1997 24/11/1999\n",
        "DISPTAB  DESCRIP =Lindler Postlaunch, May 2000\n",
        "APDESTAB oref$obm1723ro_apd.fits\n",
        "APDESTAB PEDIGREE=INFLIGHT 01/03/1997 01/03/1997\n",
        "APDESTAB DESCRIP =Microscope Meas./Hartig Post-launch Offsets\n",
        "INANGTAB oref$h5s11397o_iac.fits\n"
       ]
      },
      {
       "output_type": "stream",
       "stream": "stdout",
       "text": [
        "         Delta = 0.074666 arcsec.\n",
        "DISPCORR COMPLETE\n",
        "2012317162347-I--------------- DISPCORR complete: OBRC01030 --------------------\n",
        "\n",
        "HELCORR  PERFORM\n",
        "HELCORR  COMPLETE\n",
        "2012317162347-I--------------- HELCORR complete: OBRC01030 ---------------------\n",
        "\n",
        "PHOTTAB  oref$p822207no_pht.fits\n",
        "APERTAB  oref$n7p1032ao_apt.fits\n",
        "APERTAB  PEDIGREE=MODEL\n",
        "APERTAB  DESCRIP =Bohlin/Hartig TIM Models Nov. 1998\n",
        "PCTAB    oref$q541740oo_pct.fits\n",
        "TDSTAB   oref$t9a1003so_tds.fits\n"
       ]
      },
      {
       "output_type": "stream",
       "stream": "stdout",
       "text": [
        "FLUXCORR PERFORM\n",
        "CTECORR  PERFORM\n",
        "CCDTAB   oref$v6n13233o_ccd.fits\n",
        "CCDTAB   PEDIGREE=INFLIGHT 01/05/2009 01/05/2009\n",
        "CCDTAB   DESCRIP =Proposal 8057, by I. Dashevsky & P. Goudfrooij\n"
       ]
      },
      {
       "output_type": "stream",
       "stream": "stdout",
       "text": [
        "CTECORR  COMPLETE\n",
        "FLUXCORR COMPLETE\n",
        "2012317162347-I--------------- FLUXCORR complete: OBRC01030 --------------------\n",
        "\n",
        "SGEOCORR OMIT\n"
       ]
      },
      {
       "output_type": "stream",
       "stream": "stdout",
       "text": [
        "\n",
        "         Row 1 written to disk.\n",
        "Order 1  End 16:23:47 EST\n"
       ]
      },
      {
       "output_type": "stream",
       "stream": "stdout",
       "text": [
        "\n",
        "Imset 1  End 16:23:47 EST\n"
       ]
      },
      {
       "output_type": "stream",
       "stream": "stdout",
       "text": [
        "\n",
        "Warning  Keyword `XTRACALG' is being added to header.\n",
        "End      12-Nov-2012 16:23:47 EST\n",
        "\n",
        "*** CALSTIS-6 complete ***\n",
        "2012317162347-I--------------- CALSTIS-6 completed: OBRC01030 ------------------\n"
       ]
      },
      {
       "output_type": "stream",
       "stream": "stdout",
       "text": [
        "\n",
        "yloc = 630.101358"
       ]
      },
      {
       "output_type": "stream",
       "stream": "stdout",
       "text": [
        "\n",
        "!/usr/stsci/stsci_iraf_x/stsdas/bin.macintel/cs6.e 'obrc01030_flt.fits' '/user/bostroem/science/12465_otfr20121109/ccd/R136-SE8_loc630_3936_x1d.fits' -t -v -cte -disp -hel -flux -c 630.101357526 -r 4 -o1 12.0 -o2 12.0 -bm -bo 3 -a unweighted  -st 14.0\n"
       ]
      },
      {
       "output_type": "stream",
       "stream": "stdout",
       "text": [
        "\n",
        "*** CALSTIS-6 -- Version 2.40 (23-May-2012) ***\n",
        "Begin    12-Nov-2012 16:23:47 EST\n"
       ]
      },
      {
       "output_type": "stream",
       "stream": "stdout",
       "text": [
        "2012317162347-I--------------- CALSTIS-6 started -------------------------------\n",
        "\n",
        "Input    obrc01030_flt.fits\n",
        "Output   /user/bostroem/science/12465_otfr20121109/ccd/R136-SE8_loc630_3936_x1d.fits\n",
        "Rootname obrc01030\n",
        "OBSMODE  ACCUM\n",
        "APERTURE 52X0.2\n",
        "OPT_ELEM G430M\n",
        "DETECTOR CCD\n"
       ]
      },
      {
       "output_type": "stream",
       "stream": "stdout",
       "text": [
        "\n",
        "XTRACTAB oref$n7p1031qo_1dx.fits\n",
        "XTRACTAB PEDIGREE=INFLIGHT 18/05/97\n",
        "XTRACTAB DESCRIP =Analysis from prop. 7094\n",
        "SPTRCTAB oref$qa31608go_1dt.fits\n",
        "\n",
        "Imset 1  Begin 16:23:47 EST\n"
       ]
      },
      {
       "output_type": "stream",
       "stream": "stdout",
       "text": [
        "         Input read into memory.\n",
        "         Offset of 14 low-res pixels added in dispersion direction\n",
        "Order 1  Begin 16:23:47 EST\n",
        "X1DCORR  PERFORM\n"
       ]
      },
      {
       "output_type": "stream",
       "stream": "stdout",
       "text": [
        "Warning  Cross correlation to locate spectrum failed.\n",
        "ERROR    Cannot extract.\n",
        "Warning  No rows were written; no table created.\n",
        "Imset 1  End 16:23:47 EST\n",
        "\n",
        "End      12-Nov-2012 16:23:47 EST\n",
        "\n",
        "*** CALSTIS-6 complete ***\n",
        "2012317162347-I--------------- CALSTIS-6 completed: OBRC01030 ------------------\n"
       ]
      },
      {
       "output_type": "stream",
       "stream": "stdout",
       "text": [
        "\n",
        "!/usr/stsci/stsci_iraf_x/stsdas/bin.macintel/cs6.e 'obrc01030_flt.fits' '/user/bostroem/science/12465_otfr20121109/ccd/extracted_spectra_fits/R136-SE8_loc630_3936_x1d.fits' -t -v -cte -disp -hel -flux -c 630.101357526 -r 0 -o1 12.0 -o2 12.0 -bm -bo 3 -a unweighted  -st 14.0\n"
       ]
      },
      {
       "output_type": "stream",
       "stream": "stdout",
       "text": [
        "\n",
        "*** CALSTIS-6 -- Version 2.40 (23-May-2012) ***\n",
        "Begin    12-Nov-2012 16:23:48 EST\n"
       ]
      },
      {
       "output_type": "stream",
       "stream": "stdout",
       "text": [
        "2012317162348-I--------------- CALSTIS-6 started -------------------------------\n",
        "\n",
        "Input    obrc01030_flt.fits\n",
        "Output   /user/bostroem/science/12465_otfr20121109/ccd/extracted_spectra_fits/R136-SE8_loc630_3936_x1d.fits\n",
        "Rootname obrc01030\n",
        "OBSMODE  ACCUM\n",
        "APERTURE 52X0.2\n",
        "OPT_ELEM G430M\n",
        "DETECTOR CCD\n"
       ]
      },
      {
       "output_type": "stream",
       "stream": "stdout",
       "text": [
        "\n",
        "XTRACTAB oref$n7p1031qo_1dx.fits\n",
        "XTRACTAB PEDIGREE=INFLIGHT 18/05/97\n",
        "XTRACTAB DESCRIP =Analysis from prop. 7094\n",
        "SPTRCTAB oref$qa31608go_1dt.fits\n",
        "\n",
        "Imset 1  Begin 16:23:48 EST\n"
       ]
      },
      {
       "output_type": "stream",
       "stream": "stdout",
       "text": [
        "         Input read into memory.\n",
        "         Offset of 14 low-res pixels added in dispersion direction\n",
        "Order 1  Begin 16:23:48 EST\n",
        "X1DCORR  PERFORM\n"
       ]
      },
      {
       "output_type": "stream",
       "stream": "stdout",
       "text": [
        "         Cross correlation offset: 0 pixels\n",
        "BACKCORR OMIT\n"
       ]
      },
      {
       "output_type": "stream",
       "stream": "stdout",
       "text": [
        "X1DCORR  COMPLETE\n",
        "2012317162348-I--------------- X1DCORR complete: OBRC01030 ---------------------\n",
        "         Spectrum extracted at y position = 630.101\n",
        "         Extraction box height = 7\n",
        "         Background box 1 height = 5 offset 12 from A2CENTER\n",
        "         Background box 2 height = 5 offset 12 from A2CENTER\n",
        "\n",
        "DISPCORR PERFORM\n",
        "DISPTAB  oref$l2j0137to_dsp.fits\n",
        "DISPTAB  PEDIGREE=INFLIGHT 27/02/1997 24/11/1999\n",
        "DISPTAB  DESCRIP =Lindler Postlaunch, May 2000\n",
        "APDESTAB oref$obm1723ro_apd.fits\n",
        "APDESTAB PEDIGREE=INFLIGHT 01/03/1997 01/03/1997\n",
        "APDESTAB DESCRIP =Microscope Meas./Hartig Post-launch Offsets\n",
        "INANGTAB oref$h5s11397o_iac.fits\n"
       ]
      },
      {
       "output_type": "stream",
       "stream": "stdout",
       "text": [
        "         Delta = 0.074666 arcsec.\n",
        "DISPCORR COMPLETE\n",
        "2012317162348-I--------------- DISPCORR complete: OBRC01030 --------------------\n",
        "\n",
        "HELCORR  PERFORM\n",
        "HELCORR  COMPLETE\n",
        "2012317162348-I--------------- HELCORR complete: OBRC01030 ---------------------\n",
        "\n",
        "PHOTTAB  oref$p822207no_pht.fits\n",
        "APERTAB  oref$n7p1032ao_apt.fits\n",
        "APERTAB  PEDIGREE=MODEL\n",
        "APERTAB  DESCRIP =Bohlin/Hartig TIM Models Nov. 1998\n",
        "PCTAB    oref$q541740oo_pct.fits\n",
        "TDSTAB   oref$t9a1003so_tds.fits\n"
       ]
      },
      {
       "output_type": "stream",
       "stream": "stdout",
       "text": [
        "FLUXCORR PERFORM\n",
        "CTECORR  PERFORM\n",
        "CCDTAB   oref$v6n13233o_ccd.fits\n",
        "CCDTAB   PEDIGREE=INFLIGHT 01/05/2009 01/05/2009\n",
        "CCDTAB   DESCRIP =Proposal 8057, by I. Dashevsky & P. Goudfrooij\n"
       ]
      },
      {
       "output_type": "stream",
       "stream": "stdout",
       "text": [
        "CTECORR  COMPLETE\n",
        "FLUXCORR COMPLETE\n",
        "2012317162348-I--------------- FLUXCORR complete: OBRC01030 --------------------\n",
        "\n",
        "SGEOCORR OMIT\n"
       ]
      },
      {
       "output_type": "stream",
       "stream": "stdout",
       "text": [
        "\n",
        "         Row 1 written to disk.\n",
        "Order 1  End 16:23:48 EST\n"
       ]
      },
      {
       "output_type": "stream",
       "stream": "stdout",
       "text": [
        "\n",
        "Imset 1  End 16:23:48 EST\n"
       ]
      },
      {
       "output_type": "stream",
       "stream": "stdout",
       "text": [
        "\n",
        "Warning  Keyword `XTRACALG' is being added to header.\n",
        "End      12-Nov-2012 16:23:48 EST\n",
        "\n",
        "*** CALSTIS-6 complete ***\n",
        "2012317162348-I--------------- CALSTIS-6 completed: OBRC01030 ------------------\n"
       ]
      },
      {
       "output_type": "stream",
       "stream": "stdout",
       "text": [
        "\n",
        "yloc = 942.227610"
       ]
      },
      {
       "output_type": "stream",
       "stream": "stdout",
       "text": [
        "\n",
        "!/usr/stsci/stsci_iraf_x/stsdas/bin.macintel/cs6.e 'obrc01030_flt.fits' '/user/bostroem/science/12465_otfr20121109/ccd/R136-SE8_loc942_3936_x1d.fits' -t -v -cte -disp -hel -flux -c 942.227610158 -r 4 -o1 12.0 -o2 12.0 -bm -bo 3 -a unweighted  -st 14.0\n"
       ]
      },
      {
       "output_type": "stream",
       "stream": "stdout",
       "text": [
        "\n",
        "*** CALSTIS-6 -- Version 2.40 (23-May-2012) ***\n",
        "Begin    12-Nov-2012 16:23:48 EST\n"
       ]
      },
      {
       "output_type": "stream",
       "stream": "stdout",
       "text": [
        "2012317162348-I--------------- CALSTIS-6 started -------------------------------\n",
        "\n",
        "Input    obrc01030_flt.fits\n",
        "Output   /user/bostroem/science/12465_otfr20121109/ccd/R136-SE8_loc942_3936_x1d.fits\n",
        "Rootname obrc01030\n",
        "OBSMODE  ACCUM\n",
        "APERTURE 52X0.2\n",
        "OPT_ELEM G430M\n",
        "DETECTOR CCD\n"
       ]
      },
      {
       "output_type": "stream",
       "stream": "stdout",
       "text": [
        "\n",
        "XTRACTAB oref$n7p1031qo_1dx.fits\n",
        "XTRACTAB PEDIGREE=INFLIGHT 18/05/97\n",
        "XTRACTAB DESCRIP =Analysis from prop. 7094\n",
        "SPTRCTAB oref$qa31608go_1dt.fits\n",
        "\n",
        "Imset 1  Begin 16:23:48 EST\n"
       ]
      },
      {
       "output_type": "stream",
       "stream": "stdout",
       "text": [
        "         Input read into memory.\n",
        "         Offset of 14 low-res pixels added in dispersion direction\n",
        "Order 1  Begin 16:23:48 EST\n",
        "X1DCORR  PERFORM\n"
       ]
      },
      {
       "output_type": "stream",
       "stream": "stdout",
       "text": [
        "Warning  Cross correlation to locate spectrum failed.\n",
        "ERROR    Cannot extract.\n",
        "Warning  No rows were written; no table created.\n",
        "Imset 1  End 16:23:48 EST\n",
        "\n",
        "End      12-Nov-2012 16:23:48 EST\n",
        "\n",
        "*** CALSTIS-6 complete ***\n",
        "2012317162348-I--------------- CALSTIS-6 completed: OBRC01030 ------------------\n"
       ]
      },
      {
       "output_type": "stream",
       "stream": "stdout",
       "text": [
        "\n",
        "!/usr/stsci/stsci_iraf_x/stsdas/bin.macintel/cs6.e 'obrc01030_flt.fits' '/user/bostroem/science/12465_otfr20121109/ccd/extracted_spectra_fits/R136-SE8_loc942_3936_x1d.fits' -t -v -cte -disp -hel -flux -c 942.227610158 -r 0 -o1 12.0 -o2 12.0 -bm -bo 3 -a unweighted  -st 14.0\n"
       ]
      },
      {
       "output_type": "stream",
       "stream": "stdout",
       "text": [
        "\n",
        "*** CALSTIS-6 -- Version 2.40 (23-May-2012) ***\n",
        "Begin    12-Nov-2012 16:23:49 EST\n"
       ]
      },
      {
       "output_type": "stream",
       "stream": "stdout",
       "text": [
        "2012317162349-I--------------- CALSTIS-6 started -------------------------------\n",
        "\n",
        "Input    obrc01030_flt.fits\n",
        "Output   /user/bostroem/science/12465_otfr20121109/ccd/extracted_spectra_fits/R136-SE8_loc942_3936_x1d.fits\n",
        "Rootname obrc01030\n",
        "OBSMODE  ACCUM\n",
        "APERTURE 52X0.2\n",
        "OPT_ELEM G430M\n",
        "DETECTOR CCD\n"
       ]
      },
      {
       "output_type": "stream",
       "stream": "stdout",
       "text": [
        "\n",
        "XTRACTAB oref$n7p1031qo_1dx.fits\n",
        "XTRACTAB PEDIGREE=INFLIGHT 18/05/97\n",
        "XTRACTAB DESCRIP =Analysis from prop. 7094\n",
        "SPTRCTAB oref$qa31608go_1dt.fits\n",
        "\n",
        "Imset 1  Begin 16:23:49 EST\n"
       ]
      },
      {
       "output_type": "stream",
       "stream": "stdout",
       "text": [
        "         Input read into memory.\n",
        "         Offset of 14 low-res pixels added in dispersion direction\n",
        "Order 1  Begin 16:23:49 EST\n",
        "X1DCORR  PERFORM\n"
       ]
      },
      {
       "output_type": "stream",
       "stream": "stdout",
       "text": [
        "         Cross correlation offset: 0 pixels\n",
        "BACKCORR OMIT\n"
       ]
      },
      {
       "output_type": "stream",
       "stream": "stdout",
       "text": [
        "X1DCORR  COMPLETE\n",
        "2012317162349-I--------------- X1DCORR complete: OBRC01030 ---------------------\n",
        "         Spectrum extracted at y position = 942.228\n",
        "         Extraction box height = 7\n",
        "         Background box 1 height = 5 offset 12 from A2CENTER\n",
        "         Background box 2 height = 5 offset 12 from A2CENTER\n",
        "\n",
        "DISPCORR PERFORM\n",
        "DISPTAB  oref$l2j0137to_dsp.fits\n",
        "DISPTAB  PEDIGREE=INFLIGHT 27/02/1997 24/11/1999\n",
        "DISPTAB  DESCRIP =Lindler Postlaunch, May 2000\n",
        "APDESTAB oref$obm1723ro_apd.fits\n",
        "APDESTAB PEDIGREE=INFLIGHT 01/03/1997 01/03/1997\n",
        "APDESTAB DESCRIP =Microscope Meas./Hartig Post-launch Offsets\n",
        "INANGTAB oref$h5s11397o_iac.fits\n"
       ]
      },
      {
       "output_type": "stream",
       "stream": "stdout",
       "text": [
        "         Delta = 0.074666 arcsec.\n",
        "DISPCORR COMPLETE\n",
        "2012317162349-I--------------- DISPCORR complete: OBRC01030 --------------------\n",
        "\n",
        "HELCORR  PERFORM\n",
        "HELCORR  COMPLETE\n",
        "2012317162349-I--------------- HELCORR complete: OBRC01030 ---------------------\n",
        "\n",
        "PHOTTAB  oref$p822207no_pht.fits\n",
        "APERTAB  oref$n7p1032ao_apt.fits\n",
        "APERTAB  PEDIGREE=MODEL\n",
        "APERTAB  DESCRIP =Bohlin/Hartig TIM Models Nov. 1998\n",
        "PCTAB    oref$q541740oo_pct.fits\n",
        "TDSTAB   oref$t9a1003so_tds.fits\n"
       ]
      },
      {
       "output_type": "stream",
       "stream": "stdout",
       "text": [
        "FLUXCORR PERFORM\n",
        "CTECORR  PERFORM\n",
        "CCDTAB   oref$v6n13233o_ccd.fits\n",
        "CCDTAB   PEDIGREE=INFLIGHT 01/05/2009 01/05/2009\n",
        "CCDTAB   DESCRIP =Proposal 8057, by I. Dashevsky & P. Goudfrooij\n"
       ]
      },
      {
       "output_type": "stream",
       "stream": "stdout",
       "text": [
        "CTECORR  COMPLETE\n",
        "FLUXCORR COMPLETE\n",
        "2012317162349-I--------------- FLUXCORR complete: OBRC01030 --------------------\n",
        "\n",
        "SGEOCORR OMIT\n"
       ]
      },
      {
       "output_type": "stream",
       "stream": "stdout",
       "text": [
        "\n",
        "         Row 1 written to disk.\n",
        "Order 1  End 16:23:49 EST\n"
       ]
      },
      {
       "output_type": "stream",
       "stream": "stdout",
       "text": [
        "\n",
        "Imset 1  End 16:23:49 EST\n"
       ]
      },
      {
       "output_type": "stream",
       "stream": "stdout",
       "text": [
        "\n",
        "Warning  Keyword `XTRACALG' is being added to header.\n",
        "End      12-Nov-2012 16:23:49 EST\n",
        "\n",
        "*** CALSTIS-6 complete ***\n",
        "2012317162349-I--------------- CALSTIS-6 completed: OBRC01030 ------------------\n"
       ]
      },
      {
       "output_type": "stream",
       "stream": "stdout",
       "text": [
        "\n",
        "5\n",
        "$$$$$$$$$$$$$$$$$$$$$$$$plotting$$$$$$$$$$$$$$$$$$$$$$$"
       ]
      },
      {
       "output_type": "stream",
       "stream": "stdout",
       "text": [
        "\n",
        "$$$$$$$$$$$$$$$$$$$$$$$$plotting$$$$$$$$$$$$$$$$$$$$$$$"
       ]
      },
      {
       "output_type": "stream",
       "stream": "stdout",
       "text": [
        "\n",
        "$$$$$$$$$$$$$$$$$$$$$$$$plotting$$$$$$$$$$$$$$$$$$$$$$$"
       ]
      },
      {
       "output_type": "stream",
       "stream": "stdout",
       "text": [
        "\n",
        "$$$$$$$$$$$$$$$$$$$$$$$$plotting$$$$$$$$$$$$$$$$$$$$$$$"
       ]
      },
      {
       "output_type": "stream",
       "stream": "stdout",
       "text": [
        "\n",
        "$$$$$$$$$$$$$$$$$$$$$$$$plotting$$$$$$$$$$$$$$$$$$$$$$$"
       ]
      },
      {
       "output_type": "stream",
       "stream": "stdout",
       "text": [
        "\n",
        "['obrc070a0_flt.fits', 'obrc07090_flt.fits']"
       ]
      },
      {
       "output_type": "stream",
       "stream": "stdout",
       "text": [
        " -69.10055\n",
        "Found offset of -7"
       ]
      },
      {
       "output_type": "stream",
       "stream": "stdout",
       "text": [
        "\n",
        "#############################R136-NW6######################"
       ]
      },
      {
       "output_type": "stream",
       "stream": "stderr",
       "text": [
        "Legend does not support [<matplotlib.lines.Line2D object at 0x111fa8e10>]\n",
        "Use proxy artist instead.\n",
        "\n",
        "http://matplotlib.sourceforge.net/users/legend_guide.html#using-proxy-artist\n",
        "\n",
        "Legend does not support [<matplotlib.lines.Line2D object at 0x111f8e410>]\n",
        "Use proxy artist instead.\n",
        "\n",
        "http://matplotlib.sourceforge.net/users/legend_guide.html#using-proxy-artist\n",
        "\n",
        "Legend does not support [<matplotlib.lines.Line2D object at 0x111f8e910>]\n",
        "Use proxy artist instead.\n",
        "\n",
        "http://matplotlib.sourceforge.net/users/legend_guide.html#using-proxy-artist\n",
        "\n",
        "Legend does not support [<matplotlib.lines.Line2D object at 0x1122e91d0>]\n",
        "Use proxy artist instead.\n",
        "\n",
        "http://matplotlib.sourceforge.net/users/legend_guide.html#using-proxy-artist\n",
        "\n",
        "Overwriting existing file 'R136-NW6_3936_combined_img.fits'.\n"
       ]
      },
      {
       "output_type": "stream",
       "stream": "stdout",
       "text": [
        "\n",
        "[ -2.43537192e+04   2.67165154e+02  -1.21727634e+02   3.35429665e+04\n",
        "   1.05291873e+02  -2.31721182e-01   1.14764512e-04]"
       ]
      },
      {
       "output_type": "stream",
       "stream": "stdout",
       "text": [
        "\n",
        "Less than 3 points between 12 - 13"
       ]
      },
      {
       "output_type": "stream",
       "stream": "stdout",
       "text": [
        "\n",
        "[  2.37417300e+05   5.47412191e+01  -3.08967758e+00]\n",
        "Less than 3 points between 183 - 185\n",
        "Less than 3 points between 187 - 188\n",
        "Less than 3 points between 226 - 228\n",
        "Less than 3 points between 265 - 266\n",
        "Less than 3 points between 276 - 277\n",
        "Less than 3 points between 283 - 284\n",
        "Less than 3 points between 316 - 318\n",
        "Less than 3 points between 319 - 320\n",
        "Less than 3 points between 330 - 331\n",
        "Less than 3 points between 333 - 334\n",
        "Less than 3 points between 338 - 339\n",
        "Less than 3 points between 380 - 381\n",
        "Less than 3 points between 409 - 410\n",
        "[  9.75509639e+04   5.10674424e+02   7.70684588e+01]\n",
        "Less than 3 points between 507 - 508\n",
        "Less than 3 points between 518 - 521\n",
        "[  1.99057536e+05   5.26113222e+02   3.37114999e+00]\n",
        "Less than 3 points between 622 - 623\n",
        "Less than 3 points between 633 - 635\n",
        "Less than 3 points between 669 - 670\n",
        "Less than 3 points between 675 - 676\n",
        "error\n",
        "error calculating fit for 682 - 686, skipping\n",
        "Less than 3 points between 687 - 688\n",
        "Less than 3 points between 732 - 733\n",
        "Less than 3 points between 782 - 785\n",
        "Less than 3 points between 793 - 794\n",
        "Less than 3 points between 799 - 801\n",
        "Less than 3 points between 836 - 837\n",
        "Less than 3 points between 839 - 840\n",
        "Less than 3 points between 843 - 844\n",
        "Less than 3 points between 866 - 867\n",
        "Less than 3 points between 891 - 892\n",
        "Less than 3 points between 902 - 903\n",
        "Less than 3 points between 906 - 907\n",
        "Less than 3 points between 923 - 924\n",
        "Less than 3 points between 954 - 956\n",
        "Less than 3 points between 962 - 963\n",
        "Less than 3 points between 978 - 980\n",
        "Less than 3 points between 981 - 982\n",
        "Less than 3 points between 1016 - 1017\n",
        "[54.741219097041132, 510.67442444249752, 526.11322161486441]\n",
        "yloc = 54.741219"
       ]
      },
      {
       "output_type": "stream",
       "stream": "stdout",
       "text": [
        "\n",
        "!/usr/stsci/stsci_iraf_x/stsdas/bin.macintel/cs6.e 'obrc070a0_flt.fits' '/user/bostroem/science/12465_otfr20121109/ccd/R136-NW6_loc54_3936_x1d.fits' -t -v -cte -disp -hel -flux -c 54.741219097 -r 4 -o1 12.0 -o2 12.0 -bm -bo 3 -a unweighted  -st 14.0\n"
       ]
      },
      {
       "output_type": "stream",
       "stream": "stdout",
       "text": [
        "\n",
        "*** CALSTIS-6 -- Version 2.40 (23-May-2012) ***\n",
        "Begin    12-Nov-2012 16:23:54 EST\n"
       ]
      },
      {
       "output_type": "stream",
       "stream": "stdout",
       "text": [
        "2012317162354-I--------------- CALSTIS-6 started -------------------------------\n",
        "\n",
        "ERROR    Output file `/user/bostroem/science/12465_otfr20121109/ccd/R136-NW6_loc54_3936_x1d.fits' already exists.\n",
        "Error processing obrc070a0_flt.fits.\n"
       ]
      },
      {
       "output_type": "stream",
       "stream": "stdout",
       "text": [
        "\n",
        "!/usr/stsci/stsci_iraf_x/stsdas/bin.macintel/cs6.e 'obrc070a0_flt.fits' '/user/bostroem/science/12465_otfr20121109/ccd/extracted_spectra_fits/R136-NW6_loc54_3936_x1d.fits' -t -v -cte -disp -hel -flux -c 54.741219097 -r 0 -o1 12.0 -o2 12.0 -bm -bo 3 -a unweighted  -st 14.0\n"
       ]
      },
      {
       "output_type": "stream",
       "stream": "stdout",
       "text": [
        "\n",
        "*** CALSTIS-6 -- Version 2.40 (23-May-2012) ***\n",
        "Begin    12-Nov-2012 16:23:55 EST\n"
       ]
      },
      {
       "output_type": "stream",
       "stream": "stdout",
       "text": [
        "2012317162355-I--------------- CALSTIS-6 started -------------------------------\n",
        "\n",
        "Input    obrc070a0_flt.fits\n",
        "Output   /user/bostroem/science/12465_otfr20121109/ccd/extracted_spectra_fits/R136-NW6_loc54_3936_x1d.fits\n",
        "Rootname obrc070a0\n",
        "OBSMODE  ACCUM\n",
        "APERTURE 52X0.2\n",
        "OPT_ELEM G430M\n",
        "DETECTOR CCD\n"
       ]
      },
      {
       "output_type": "stream",
       "stream": "stdout",
       "text": [
        "\n",
        "XTRACTAB oref$n7p1031qo_1dx.fits\n",
        "XTRACTAB PEDIGREE=INFLIGHT 18/05/97\n",
        "XTRACTAB DESCRIP =Analysis from prop. 7094\n",
        "SPTRCTAB oref$qa31608go_1dt.fits\n",
        "\n",
        "Imset 1  Begin 16:23:55 EST\n"
       ]
      },
      {
       "output_type": "stream",
       "stream": "stdout",
       "text": [
        "         Input read into memory.\n",
        "         Offset of 14 low-res pixels added in dispersion direction\n",
        "Order 1  Begin 16:23:55 EST\n",
        "X1DCORR  PERFORM\n"
       ]
      },
      {
       "output_type": "stream",
       "stream": "stdout",
       "text": [
        "         Cross correlation offset: 0 pixels\n",
        "BACKCORR OMIT\n"
       ]
      },
      {
       "output_type": "stream",
       "stream": "stdout",
       "text": [
        "X1DCORR  COMPLETE\n",
        "2012317162355-I--------------- X1DCORR complete: OBRC070A0 ---------------------\n",
        "         Spectrum extracted at y position = 54.7412\n",
        "         Extraction box height = 7\n",
        "         Background box 1 height = 5 offset 12 from A2CENTER\n",
        "         Background box 2 height = 5 offset 12 from A2CENTER\n",
        "\n",
        "DISPCORR PERFORM\n",
        "DISPTAB  oref$l2j0137to_dsp.fits\n",
        "DISPTAB  PEDIGREE=INFLIGHT 27/02/1997 24/11/1999\n",
        "DISPTAB  DESCRIP =Lindler Postlaunch, May 2000\n",
        "APDESTAB oref$obm1723ro_apd.fits\n",
        "APDESTAB PEDIGREE=INFLIGHT 01/03/1997 01/03/1997\n",
        "APDESTAB DESCRIP =Microscope Meas./Hartig Post-launch Offsets\n",
        "INANGTAB oref$h5s11397o_iac.fits\n"
       ]
      },
      {
       "output_type": "stream",
       "stream": "stdout",
       "text": [
        "         Delta = 0.074666 arcsec.\n",
        "DISPCORR COMPLETE\n",
        "2012317162355-I--------------- DISPCORR complete: OBRC070A0 --------------------\n",
        "\n",
        "HELCORR  PERFORM\n",
        "HELCORR  COMPLETE\n",
        "2012317162355-I--------------- HELCORR complete: OBRC070A0 ---------------------\n",
        "\n",
        "PHOTTAB  oref$p822207no_pht.fits\n",
        "APERTAB  oref$n7p1032ao_apt.fits\n",
        "APERTAB  PEDIGREE=MODEL\n",
        "APERTAB  DESCRIP =Bohlin/Hartig TIM Models Nov. 1998\n",
        "PCTAB    oref$q541740oo_pct.fits\n"
       ]
      },
      {
       "output_type": "stream",
       "stream": "stdout",
       "text": [
        "TDSTAB   oref$t9a1003so_tds.fits\n"
       ]
      },
      {
       "output_type": "stream",
       "stream": "stdout",
       "text": [
        "FLUXCORR PERFORM\n",
        "CTECORR  PERFORM\n",
        "CCDTAB   oref$v6n13233o_ccd.fits\n",
        "CCDTAB   PEDIGREE=INFLIGHT 01/05/2009 01/05/2009\n",
        "CCDTAB   DESCRIP =Proposal 8057, by I. Dashevsky & P. Goudfrooij\n"
       ]
      },
      {
       "output_type": "stream",
       "stream": "stdout",
       "text": [
        "CTECORR  COMPLETE\n",
        "FLUXCORR COMPLETE\n",
        "2012317162355-I--------------- FLUXCORR complete: OBRC070A0 --------------------\n",
        "\n",
        "SGEOCORR OMIT\n"
       ]
      },
      {
       "output_type": "stream",
       "stream": "stdout",
       "text": [
        "\n",
        "         Row 1 written to disk.\n",
        "Order 1  End 16:23:55 EST\n"
       ]
      },
      {
       "output_type": "stream",
       "stream": "stdout",
       "text": [
        "\n",
        "Imset 1  End 16:23:55 EST\n"
       ]
      },
      {
       "output_type": "stream",
       "stream": "stdout",
       "text": [
        "\n",
        "Warning  Keyword `XTRACALG' is being added to header.\n",
        "End      12-Nov-2012 16:23:55 EST\n",
        "\n",
        "*** CALSTIS-6 complete ***\n",
        "2012317162355-I--------------- CALSTIS-6 completed: OBRC070A0 ------------------\n"
       ]
      },
      {
       "output_type": "stream",
       "stream": "stdout",
       "text": [
        "\n",
        "yloc = 510.674424"
       ]
      },
      {
       "output_type": "stream",
       "stream": "stdout",
       "text": [
        "\n",
        "!/usr/stsci/stsci_iraf_x/stsdas/bin.macintel/cs6.e 'obrc070a0_flt.fits' '/user/bostroem/science/12465_otfr20121109/ccd/R136-NW6_loc510_3936_x1d.fits' -t -v -cte -disp -hel -flux -c 510.674424442 -r 4 -o1 12.0 -o2 12.0 -bm -bo 3 -a unweighted  -st 14.0\n"
       ]
      },
      {
       "output_type": "stream",
       "stream": "stdout",
       "text": [
        "\n",
        "*** CALSTIS-6 -- Version 2.40 (23-May-2012) ***\n",
        "Begin    12-Nov-2012 16:23:55 EST\n"
       ]
      },
      {
       "output_type": "stream",
       "stream": "stdout",
       "text": [
        "2012317162355-I--------------- CALSTIS-6 started -------------------------------\n",
        "\n",
        "Input    obrc070a0_flt.fits\n",
        "Output   /user/bostroem/science/12465_otfr20121109/ccd/R136-NW6_loc510_3936_x1d.fits\n",
        "Rootname obrc070a0\n",
        "OBSMODE  ACCUM\n",
        "APERTURE 52X0.2\n",
        "OPT_ELEM G430M\n",
        "DETECTOR CCD\n"
       ]
      },
      {
       "output_type": "stream",
       "stream": "stdout",
       "text": [
        "\n",
        "XTRACTAB oref$n7p1031qo_1dx.fits\n",
        "XTRACTAB PEDIGREE=INFLIGHT 18/05/97\n",
        "XTRACTAB DESCRIP =Analysis from prop. 7094\n",
        "SPTRCTAB oref$qa31608go_1dt.fits\n",
        "\n",
        "Imset 1  Begin 16:23:55 EST\n"
       ]
      },
      {
       "output_type": "stream",
       "stream": "stdout",
       "text": [
        "         Input read into memory.\n",
        "         Offset of 14 low-res pixels added in dispersion direction\n",
        "Order 1  Begin 16:23:55 EST\n",
        "X1DCORR  PERFORM\n"
       ]
      },
      {
       "output_type": "stream",
       "stream": "stdout",
       "text": [
        "Warning  Cross correlation to locate spectrum failed.\n",
        "ERROR    Cannot extract.\n",
        "Warning  No rows were written; no table created.\n",
        "Imset 1  End 16:23:55 EST\n",
        "\n",
        "End      12-Nov-2012 16:23:55 EST\n",
        "\n",
        "*** CALSTIS-6 complete ***\n",
        "2012317162355-I--------------- CALSTIS-6 completed: OBRC070A0 ------------------\n"
       ]
      },
      {
       "output_type": "stream",
       "stream": "stdout",
       "text": [
        "\n",
        "!/usr/stsci/stsci_iraf_x/stsdas/bin.macintel/cs6.e 'obrc070a0_flt.fits' '/user/bostroem/science/12465_otfr20121109/ccd/extracted_spectra_fits/R136-NW6_loc510_3936_x1d.fits' -t -v -cte -disp -hel -flux -c 510.674424442 -r 0 -o1 12.0 -o2 12.0 -bm -bo 3 -a unweighted  -st 14.0\n"
       ]
      },
      {
       "output_type": "stream",
       "stream": "stdout",
       "text": [
        "\n",
        "*** CALSTIS-6 -- Version 2.40 (23-May-2012) ***\n",
        "Begin    12-Nov-2012 16:23:56 EST\n"
       ]
      },
      {
       "output_type": "stream",
       "stream": "stdout",
       "text": [
        "2012317162356-I--------------- CALSTIS-6 started -------------------------------\n",
        "\n",
        "Input    obrc070a0_flt.fits\n",
        "Output   /user/bostroem/science/12465_otfr20121109/ccd/extracted_spectra_fits/R136-NW6_loc510_3936_x1d.fits\n",
        "Rootname obrc070a0\n",
        "OBSMODE  ACCUM\n",
        "APERTURE 52X0.2\n",
        "OPT_ELEM G430M\n",
        "DETECTOR CCD\n"
       ]
      },
      {
       "output_type": "stream",
       "stream": "stdout",
       "text": [
        "\n",
        "XTRACTAB oref$n7p1031qo_1dx.fits\n",
        "XTRACTAB PEDIGREE=INFLIGHT 18/05/97\n",
        "XTRACTAB DESCRIP =Analysis from prop. 7094\n",
        "SPTRCTAB oref$qa31608go_1dt.fits\n",
        "\n",
        "Imset 1  Begin 16:23:56 EST\n"
       ]
      },
      {
       "output_type": "stream",
       "stream": "stdout",
       "text": [
        "         Input read into memory.\n",
        "         Offset of 14 low-res pixels added in dispersion direction\n",
        "Order 1  Begin 16:23:56 EST\n",
        "X1DCORR  PERFORM\n"
       ]
      },
      {
       "output_type": "stream",
       "stream": "stdout",
       "text": [
        "         Cross correlation offset: 0 pixels\n",
        "BACKCORR OMIT\n"
       ]
      },
      {
       "output_type": "stream",
       "stream": "stdout",
       "text": [
        "X1DCORR  COMPLETE\n",
        "2012317162356-I--------------- X1DCORR complete: OBRC070A0 ---------------------\n",
        "         Spectrum extracted at y position = 510.674\n",
        "         Extraction box height = 7\n",
        "         Background box 1 height = 5 offset 12 from A2CENTER\n",
        "         Background box 2 height = 5 offset 12 from A2CENTER\n",
        "\n",
        "DISPCORR PERFORM\n",
        "DISPTAB  oref$l2j0137to_dsp.fits\n",
        "DISPTAB  PEDIGREE=INFLIGHT 27/02/1997 24/11/1999\n",
        "DISPTAB  DESCRIP =Lindler Postlaunch, May 2000\n",
        "APDESTAB oref$obm1723ro_apd.fits\n",
        "APDESTAB PEDIGREE=INFLIGHT 01/03/1997 01/03/1997\n",
        "APDESTAB DESCRIP =Microscope Meas./Hartig Post-launch Offsets\n",
        "INANGTAB oref$h5s11397o_iac.fits\n"
       ]
      },
      {
       "output_type": "stream",
       "stream": "stdout",
       "text": [
        "         Delta = 0.074666 arcsec.\n",
        "DISPCORR COMPLETE\n",
        "2012317162356-I--------------- DISPCORR complete: OBRC070A0 --------------------\n",
        "\n",
        "HELCORR  PERFORM\n",
        "HELCORR  COMPLETE\n",
        "2012317162356-I--------------- HELCORR complete: OBRC070A0 ---------------------\n",
        "\n",
        "PHOTTAB  oref$p822207no_pht.fits\n",
        "APERTAB  oref$n7p1032ao_apt.fits\n",
        "APERTAB  PEDIGREE=MODEL\n",
        "APERTAB  DESCRIP =Bohlin/Hartig TIM Models Nov. 1998\n",
        "PCTAB    oref$q541740oo_pct.fits\n",
        "TDSTAB   oref$t9a1003so_tds.fits\n"
       ]
      },
      {
       "output_type": "stream",
       "stream": "stdout",
       "text": [
        "FLUXCORR PERFORM\n",
        "CTECORR  PERFORM\n",
        "CCDTAB   oref$v6n13233o_ccd.fits\n",
        "CCDTAB   PEDIGREE=INFLIGHT 01/05/2009 01/05/2009\n",
        "CCDTAB   DESCRIP =Proposal 8057, by I. Dashevsky & P. Goudfrooij\n"
       ]
      },
      {
       "output_type": "stream",
       "stream": "stdout",
       "text": [
        "CTECORR  COMPLETE\n",
        "FLUXCORR COMPLETE\n",
        "2012317162356-I--------------- FLUXCORR complete: OBRC070A0 --------------------\n",
        "\n",
        "SGEOCORR OMIT\n"
       ]
      },
      {
       "output_type": "stream",
       "stream": "stdout",
       "text": [
        "\n",
        "         Row 1 written to disk.\n",
        "Order 1  End 16:23:56 EST\n"
       ]
      },
      {
       "output_type": "stream",
       "stream": "stdout",
       "text": [
        "\n",
        "Imset 1  End 16:23:56 EST\n"
       ]
      },
      {
       "output_type": "stream",
       "stream": "stdout",
       "text": [
        "\n",
        "Warning  Keyword `XTRACALG' is being added to header.\n",
        "End      12-Nov-2012 16:23:56 EST\n",
        "\n",
        "*** CALSTIS-6 complete ***\n",
        "2012317162356-I--------------- CALSTIS-6 completed: OBRC070A0 ------------------\n"
       ]
      },
      {
       "output_type": "stream",
       "stream": "stdout",
       "text": [
        "\n",
        "yloc = 526.113222"
       ]
      },
      {
       "output_type": "stream",
       "stream": "stdout",
       "text": [
        "\n",
        "!/usr/stsci/stsci_iraf_x/stsdas/bin.macintel/cs6.e 'obrc070a0_flt.fits' '/user/bostroem/science/12465_otfr20121109/ccd/R136-NW6_loc526_3936_x1d.fits' -t -v -cte -disp -hel -flux -c 526.113221615 -r 4 -o1 12.0 -o2 12.0 -bm -bo 3 -a unweighted  -st 14.0\n"
       ]
      },
      {
       "output_type": "stream",
       "stream": "stdout",
       "text": [
        "\n",
        "*** CALSTIS-6 -- Version 2.40 (23-May-2012) ***\n",
        "Begin    12-Nov-2012 16:23:56 EST\n"
       ]
      },
      {
       "output_type": "stream",
       "stream": "stdout",
       "text": [
        "2012317162356-I--------------- CALSTIS-6 started -------------------------------\n",
        "\n",
        "ERROR    Output file `/user/bostroem/science/12465_otfr20121109/ccd/R136-NW6_loc526_3936_x1d.fits' already exists.\n",
        "Error processing obrc070a0_flt.fits.\n"
       ]
      },
      {
       "output_type": "stream",
       "stream": "stdout",
       "text": [
        "\n",
        "!/usr/stsci/stsci_iraf_x/stsdas/bin.macintel/cs6.e 'obrc070a0_flt.fits' '/user/bostroem/science/12465_otfr20121109/ccd/extracted_spectra_fits/R136-NW6_loc526_3936_x1d.fits' -t -v -cte -disp -hel -flux -c 526.113221615 -r 0 -o1 12.0 -o2 12.0 -bm -bo 3 -a unweighted  -st 14.0\n"
       ]
      },
      {
       "output_type": "stream",
       "stream": "stdout",
       "text": [
        "\n",
        "*** CALSTIS-6 -- Version 2.40 (23-May-2012) ***\n",
        "Begin    12-Nov-2012 16:23:57 EST\n"
       ]
      },
      {
       "output_type": "stream",
       "stream": "stdout",
       "text": [
        "2012317162357-I--------------- CALSTIS-6 started -------------------------------\n",
        "\n",
        "Input    obrc070a0_flt.fits\n",
        "Output   /user/bostroem/science/12465_otfr20121109/ccd/extracted_spectra_fits/R136-NW6_loc526_3936_x1d.fits\n",
        "Rootname obrc070a0\n",
        "OBSMODE  ACCUM\n",
        "APERTURE 52X0.2\n",
        "OPT_ELEM G430M\n",
        "DETECTOR CCD\n"
       ]
      },
      {
       "output_type": "stream",
       "stream": "stdout",
       "text": [
        "\n",
        "XTRACTAB oref$n7p1031qo_1dx.fits\n",
        "XTRACTAB PEDIGREE=INFLIGHT 18/05/97\n",
        "XTRACTAB DESCRIP =Analysis from prop. 7094\n",
        "SPTRCTAB oref$qa31608go_1dt.fits\n",
        "\n",
        "Imset 1  Begin 16:23:57 EST\n"
       ]
      },
      {
       "output_type": "stream",
       "stream": "stdout",
       "text": [
        "         Input read into memory.\n",
        "         Offset of 14 low-res pixels added in dispersion direction\n",
        "Order 1  Begin 16:23:57 EST\n",
        "X1DCORR  PERFORM\n"
       ]
      },
      {
       "output_type": "stream",
       "stream": "stdout",
       "text": [
        "         Cross correlation offset: 0 pixels\n",
        "BACKCORR OMIT\n"
       ]
      },
      {
       "output_type": "stream",
       "stream": "stdout",
       "text": [
        "X1DCORR  COMPLETE\n",
        "2012317162357-I--------------- X1DCORR complete: OBRC070A0 ---------------------\n",
        "         Spectrum extracted at y position = 526.113\n",
        "         Extraction box height = 7\n",
        "         Background box 1 height = 5 offset 12 from A2CENTER\n",
        "         Background box 2 height = 5 offset 12 from A2CENTER\n",
        "\n",
        "DISPCORR PERFORM\n",
        "DISPTAB  oref$l2j0137to_dsp.fits\n",
        "DISPTAB  PEDIGREE=INFLIGHT 27/02/1997 24/11/1999\n",
        "DISPTAB  DESCRIP =Lindler Postlaunch, May 2000\n",
        "APDESTAB oref$obm1723ro_apd.fits\n",
        "APDESTAB PEDIGREE=INFLIGHT 01/03/1997 01/03/1997\n",
        "APDESTAB DESCRIP =Microscope Meas./Hartig Post-launch Offsets\n",
        "INANGTAB oref$h5s11397o_iac.fits\n"
       ]
      },
      {
       "output_type": "stream",
       "stream": "stdout",
       "text": [
        "         Delta = 0.074666 arcsec.\n",
        "DISPCORR COMPLETE\n",
        "2012317162357-I--------------- DISPCORR complete: OBRC070A0 --------------------\n",
        "\n",
        "HELCORR  PERFORM\n",
        "HELCORR  COMPLETE\n",
        "2012317162357-I--------------- HELCORR complete: OBRC070A0 ---------------------\n",
        "\n",
        "PHOTTAB  oref$p822207no_pht.fits\n",
        "APERTAB  oref$n7p1032ao_apt.fits\n",
        "APERTAB  PEDIGREE=MODEL\n",
        "APERTAB  DESCRIP =Bohlin/Hartig TIM Models Nov. 1998\n",
        "PCTAB    oref$q541740oo_pct.fits\n",
        "TDSTAB   oref$t9a1003so_tds.fits\n"
       ]
      },
      {
       "output_type": "stream",
       "stream": "stdout",
       "text": [
        "FLUXCORR PERFORM\n",
        "CTECORR  PERFORM\n",
        "CCDTAB   oref$v6n13233o_ccd.fits\n",
        "CCDTAB   PEDIGREE=INFLIGHT 01/05/2009 01/05/2009\n",
        "CCDTAB   DESCRIP =Proposal 8057, by I. Dashevsky & P. Goudfrooij\n"
       ]
      },
      {
       "output_type": "stream",
       "stream": "stdout",
       "text": [
        "CTECORR  COMPLETE\n",
        "FLUXCORR COMPLETE\n",
        "2012317162357-I--------------- FLUXCORR complete: OBRC070A0 --------------------\n",
        "\n",
        "SGEOCORR OMIT\n"
       ]
      },
      {
       "output_type": "stream",
       "stream": "stdout",
       "text": [
        "\n",
        "         Row 1 written to disk.\n",
        "Order 1  End 16:23:57 EST\n"
       ]
      },
      {
       "output_type": "stream",
       "stream": "stdout",
       "text": [
        "\n",
        "Imset 1  End 16:23:57 EST\n"
       ]
      },
      {
       "output_type": "stream",
       "stream": "stdout",
       "text": [
        "\n",
        "Warning  Keyword `XTRACALG' is being added to header.\n",
        "End      12-Nov-2012 16:23:57 EST\n",
        "\n",
        "*** CALSTIS-6 complete ***\n",
        "2012317162357-I--------------- CALSTIS-6 completed: OBRC070A0 ------------------\n"
       ]
      },
      {
       "output_type": "stream",
       "stream": "stdout",
       "text": [
        "\n",
        "3\n",
        "$$$$$$$$$$$$$$$$$$$$$$$$plotting$$$$$$$$$$$$$$$$$$$$$$$"
       ]
      },
      {
       "output_type": "stream",
       "stream": "stdout",
       "text": [
        "\n",
        "$$$$$$$$$$$$$$$$$$$$$$$$plotting$$$$$$$$$$$$$$$$$$$$$$$"
       ]
      },
      {
       "output_type": "stream",
       "stream": "stdout",
       "text": [
        "\n",
        "$$$$$$$$$$$$$$$$$$$$$$$$plotting$$$$$$$$$$$$$$$$$$$$$$$"
       ]
      },
      {
       "output_type": "stream",
       "stream": "stdout",
       "text": [
        "\n",
        "['obrc010d0_flt.fits', 'obrc010e0_flt.fits']"
       ]
      },
      {
       "output_type": "stream",
       "stream": "stdout",
       "text": [
        " -69.10095\n",
        "Found offset of 7"
       ]
      },
      {
       "output_type": "stream",
       "stream": "stdout",
       "text": [
        "\n",
        "#############################R136-SE3######################"
       ]
      },
      {
       "output_type": "stream",
       "stream": "stderr",
       "text": [
        "Legend does not support [<matplotlib.lines.Line2D object at 0x113330490>]\n",
        "Use proxy artist instead.\n",
        "\n",
        "http://matplotlib.sourceforge.net/users/legend_guide.html#using-proxy-artist\n",
        "\n",
        "Legend does not support [<matplotlib.lines.Line2D object at 0x111fac090>]\n",
        "Use proxy artist instead.\n",
        "\n",
        "http://matplotlib.sourceforge.net/users/legend_guide.html#using-proxy-artist\n",
        "\n",
        "Legend does not support [<matplotlib.lines.Line2D object at 0x111fac990>]\n",
        "Use proxy artist instead.\n",
        "\n",
        "http://matplotlib.sourceforge.net/users/legend_guide.html#using-proxy-artist\n",
        "\n",
        "Legend does not support [<matplotlib.lines.Line2D object at 0x1116e8390>]\n",
        "Use proxy artist instead.\n",
        "\n",
        "http://matplotlib.sourceforge.net/users/legend_guide.html#using-proxy-artist\n",
        "\n",
        "Overwriting existing file 'R136-SE3_3936_combined_img.fits'.\n"
       ]
      },
      {
       "output_type": "stream",
       "stream": "stdout",
       "text": [
        "\n",
        "[  3.87057361e+04   1.41845084e+03   4.35053395e+01   1.00950584e+04\n",
        "   1.35735234e+02  -1.10585428e-01  -2.48742614e-05]"
       ]
      },
      {
       "output_type": "stream",
       "stream": "stdout",
       "text": [
        "\n",
        "Less than 3 points between 4 - 6"
       ]
      },
      {
       "output_type": "stream",
       "stream": "stdout",
       "text": [
        "\n",
        "Less than 3 points between 8 - 9\n",
        "Less than 3 points between 11 - 13\n",
        "Less than 3 points between 18 - 20\n",
        "Less than 3 points between 24 - 25\n",
        "Less than 3 points between 31 - 32\n",
        "Less than 3 points between 33 - 35\n",
        "Less than 3 points between 40 - 42\n",
        "Less than 3 points between 60 - 61\n",
        "Less than 3 points between 63 - 64\n",
        "Less than 3 points between 77 - 78\n",
        "Less than 3 points between 80 - 81\n",
        "Less than 3 points between 82 - 83\n",
        "[  2.19771659e+05   8.84171368e+01  -2.99162182e+00]\n",
        "Less than 3 points between 104 - 105\n",
        "Less than 3 points between 251 - 252\n",
        "Less than 3 points between 411 - 412\n",
        "error\n",
        "error calculating fit for 473 - 479, skipping\n",
        "[  1.14314602e+05   4.90017938e+02   3.60409102e+00]\n",
        "Less than 3 points between 497 - 498\n",
        "[  2.44378795e+05   5.06878808e+02   4.40066008e+01]\n",
        "[  3.02772889e+05   5.46649374e+02   3.87947818e+00]"
       ]
      },
      {
       "output_type": "stream",
       "stream": "stdout",
       "text": [
        "\n",
        "[  1.02446684e+05   6.20730197e+02   4.94096225e+00]\n",
        "Less than 3 points between 754 - 755\n",
        "Less than 3 points between 836 - 837\n",
        "Less than 3 points between 906 - 909\n",
        "Less than 3 points between 952 - 953\n",
        "Less than 3 points between 960 - 962\n",
        "error\n",
        "error calculating fit for 968 - 973, skipping\n",
        "Less than 3 points between 976 - 978\n",
        "Less than 3 points between 980 - 982\n",
        "Less than 3 points between 984 - 985\n",
        "Less than 3 points between 986 - 988\n",
        "Less than 3 points between 990 - 991\n",
        "Less than 3 points between 993 - 994\n",
        "Less than 3 points between 995 - 997\n",
        "Less than 3 points between 998 - 1001\n",
        "Less than 3 points between 1002 - 1005\n",
        "error"
       ]
      },
      {
       "output_type": "stream",
       "stream": "stdout",
       "text": [
        "\n",
        "error calculating fit for 1007 - 1012, skipping\n",
        "Less than 3 points between 1013 - 1014\n",
        "[  2.49518151e+04   1.01981442e+03   5.06363945e+00]\n",
        "Less than 3 points between 1024 - 1027\n",
        "Less than 3 points between 1029 - 1030\n",
        "[88.417136796960662, 490.0179382555599, 506.87880795818012, 546.64937432421095, 620.73019720876516, 1019.8144207312139]\n",
        "yloc = 88.417137"
       ]
      },
      {
       "output_type": "stream",
       "stream": "stdout",
       "text": [
        "\n",
        "!/usr/stsci/stsci_iraf_x/stsdas/bin.macintel/cs6.e 'obrc010d0_flt.fits' '/user/bostroem/science/12465_otfr20121109/ccd/R136-SE3_loc88_3936_x1d.fits' -t -v -cte -disp -hel -flux -c 88.417136797 -r 4 -o1 12.0 -o2 12.0 -bm -bo 3 -a unweighted  -st 14.0\n"
       ]
      },
      {
       "output_type": "stream",
       "stream": "stdout",
       "text": [
        "\n",
        "*** CALSTIS-6 -- Version 2.40 (23-May-2012) ***\n",
        "Begin    12-Nov-2012 16:24:02 EST\n"
       ]
      },
      {
       "output_type": "stream",
       "stream": "stdout",
       "text": [
        "2012317162402-I--------------- CALSTIS-6 started -------------------------------\n",
        "\n",
        "Input    obrc010d0_flt.fits\n",
        "Output   /user/bostroem/science/12465_otfr20121109/ccd/R136-SE3_loc88_3936_x1d.fits\n",
        "Rootname obrc010d0\n",
        "OBSMODE  ACCUM\n",
        "APERTURE 52X0.2\n",
        "OPT_ELEM G430M\n",
        "DETECTOR CCD\n"
       ]
      },
      {
       "output_type": "stream",
       "stream": "stdout",
       "text": [
        "\n",
        "XTRACTAB oref$n7p1031qo_1dx.fits\n",
        "XTRACTAB PEDIGREE=INFLIGHT 18/05/97\n",
        "XTRACTAB DESCRIP =Analysis from prop. 7094\n",
        "SPTRCTAB oref$qa31608go_1dt.fits\n",
        "\n",
        "Imset 1  Begin 16:24:02 EST\n"
       ]
      },
      {
       "output_type": "stream",
       "stream": "stdout",
       "text": [
        "         Input read into memory.\n",
        "         Offset of 14 low-res pixels added in dispersion direction\n",
        "Order 1  Begin 16:24:02 EST\n",
        "X1DCORR  PERFORM\n"
       ]
      },
      {
       "output_type": "stream",
       "stream": "stdout",
       "text": [
        "Warning  Cross correlation to locate spectrum failed.\n",
        "ERROR    Cannot extract.\n",
        "Warning  No rows were written; no table created.\n",
        "Imset 1  End 16:24:02 EST\n",
        "\n",
        "End      12-Nov-2012 16:24:02 EST\n",
        "\n",
        "*** CALSTIS-6 complete ***\n",
        "2012317162402-I--------------- CALSTIS-6 completed: OBRC010D0 ------------------\n"
       ]
      },
      {
       "output_type": "stream",
       "stream": "stdout",
       "text": [
        "\n",
        "!/usr/stsci/stsci_iraf_x/stsdas/bin.macintel/cs6.e 'obrc010d0_flt.fits' '/user/bostroem/science/12465_otfr20121109/ccd/extracted_spectra_fits/R136-SE3_loc88_3936_x1d.fits' -t -v -cte -disp -hel -flux -c 88.417136797 -r 0 -o1 12.0 -o2 12.0 -bm -bo 3 -a unweighted  -st 14.0\n"
       ]
      },
      {
       "output_type": "stream",
       "stream": "stdout",
       "text": [
        "\n",
        "*** CALSTIS-6 -- Version 2.40 (23-May-2012) ***\n",
        "Begin    12-Nov-2012 16:24:02 EST\n"
       ]
      },
      {
       "output_type": "stream",
       "stream": "stdout",
       "text": [
        "2012317162402-I--------------- CALSTIS-6 started -------------------------------\n",
        "\n",
        "Input    obrc010d0_flt.fits\n",
        "Output   /user/bostroem/science/12465_otfr20121109/ccd/extracted_spectra_fits/R136-SE3_loc88_3936_x1d.fits\n",
        "Rootname obrc010d0\n",
        "OBSMODE  ACCUM\n",
        "APERTURE 52X0.2\n",
        "OPT_ELEM G430M\n",
        "DETECTOR CCD\n"
       ]
      },
      {
       "output_type": "stream",
       "stream": "stdout",
       "text": [
        "\n",
        "XTRACTAB oref$n7p1031qo_1dx.fits\n",
        "XTRACTAB PEDIGREE=INFLIGHT 18/05/97\n",
        "XTRACTAB DESCRIP =Analysis from prop. 7094\n",
        "SPTRCTAB oref$qa31608go_1dt.fits\n",
        "\n",
        "Imset 1  Begin 16:24:03 EST\n"
       ]
      },
      {
       "output_type": "stream",
       "stream": "stdout",
       "text": [
        "         Input read into memory.\n",
        "         Offset of 14 low-res pixels added in dispersion direction\n",
        "Order 1  Begin 16:24:03 EST\n",
        "X1DCORR  PERFORM\n"
       ]
      },
      {
       "output_type": "stream",
       "stream": "stdout",
       "text": [
        "         Cross correlation offset: 0 pixels\n",
        "BACKCORR OMIT\n"
       ]
      },
      {
       "output_type": "stream",
       "stream": "stdout",
       "text": [
        "X1DCORR  COMPLETE\n",
        "2012317162403-I--------------- X1DCORR complete: OBRC010D0 ---------------------\n",
        "         Spectrum extracted at y position = 88.4171\n",
        "         Extraction box height = 7\n",
        "         Background box 1 height = 5 offset 12 from A2CENTER\n",
        "         Background box 2 height = 5 offset 12 from A2CENTER\n",
        "\n",
        "DISPCORR PERFORM\n",
        "DISPTAB  oref$l2j0137to_dsp.fits\n",
        "DISPTAB  PEDIGREE=INFLIGHT 27/02/1997 24/11/1999\n",
        "DISPTAB  DESCRIP =Lindler Postlaunch, May 2000\n",
        "APDESTAB oref$obm1723ro_apd.fits\n",
        "APDESTAB PEDIGREE=INFLIGHT 01/03/1997 01/03/1997\n",
        "APDESTAB DESCRIP =Microscope Meas./Hartig Post-launch Offsets\n",
        "INANGTAB oref$h5s11397o_iac.fits\n"
       ]
      },
      {
       "output_type": "stream",
       "stream": "stdout",
       "text": [
        "         Delta = 0.074666 arcsec.\n",
        "DISPCORR COMPLETE\n",
        "2012317162403-I--------------- DISPCORR complete: OBRC010D0 --------------------\n",
        "\n",
        "HELCORR  PERFORM\n",
        "HELCORR  COMPLETE\n",
        "2012317162403-I--------------- HELCORR complete: OBRC010D0 ---------------------\n",
        "\n",
        "PHOTTAB  oref$p822207no_pht.fits\n",
        "APERTAB  oref$n7p1032ao_apt.fits\n",
        "APERTAB  PEDIGREE=MODEL\n",
        "APERTAB  DESCRIP =Bohlin/Hartig TIM Models Nov. 1998\n",
        "PCTAB    oref$q541740oo_pct.fits\n",
        "TDSTAB   oref$t9a1003so_tds.fits\n"
       ]
      },
      {
       "output_type": "stream",
       "stream": "stdout",
       "text": [
        "FLUXCORR PERFORM\n",
        "CTECORR  PERFORM\n",
        "CCDTAB   oref$v6n13233o_ccd.fits\n",
        "CCDTAB   PEDIGREE=INFLIGHT 01/05/2009 01/05/2009\n",
        "CCDTAB   DESCRIP =Proposal 8057, by I. Dashevsky & P. Goudfrooij\n"
       ]
      },
      {
       "output_type": "stream",
       "stream": "stdout",
       "text": [
        "CTECORR  COMPLETE\n",
        "FLUXCORR COMPLETE\n",
        "2012317162403-I--------------- FLUXCORR complete: OBRC010D0 --------------------\n",
        "\n",
        "SGEOCORR OMIT\n"
       ]
      },
      {
       "output_type": "stream",
       "stream": "stdout",
       "text": [
        "\n",
        "         Row 1 written to disk.\n",
        "Order 1  End 16:24:03 EST\n"
       ]
      },
      {
       "output_type": "stream",
       "stream": "stdout",
       "text": [
        "\n",
        "Imset 1  End 16:24:03 EST\n"
       ]
      },
      {
       "output_type": "stream",
       "stream": "stdout",
       "text": [
        "\n",
        "Warning  Keyword `XTRACALG' is being added to header.\n",
        "End      12-Nov-2012 16:24:03 EST\n",
        "\n",
        "*** CALSTIS-6 complete ***\n",
        "2012317162403-I--------------- CALSTIS-6 completed: OBRC010D0 ------------------\n"
       ]
      },
      {
       "output_type": "stream",
       "stream": "stdout",
       "text": [
        "\n",
        "yloc = 490.017938"
       ]
      },
      {
       "output_type": "stream",
       "stream": "stdout",
       "text": [
        "\n",
        "!/usr/stsci/stsci_iraf_x/stsdas/bin.macintel/cs6.e 'obrc010d0_flt.fits' '/user/bostroem/science/12465_otfr20121109/ccd/R136-SE3_loc490_3936_x1d.fits' -t -v -cte -disp -hel -flux -c 490.017938256 -r 4 -o1 12.0 -o2 12.0 -bm -bo 3 -a unweighted  -st 14.0\n"
       ]
      },
      {
       "output_type": "stream",
       "stream": "stdout",
       "text": [
        "\n",
        "*** CALSTIS-6 -- Version 2.40 (23-May-2012) ***\n",
        "Begin    12-Nov-2012 16:24:03 EST\n"
       ]
      },
      {
       "output_type": "stream",
       "stream": "stdout",
       "text": [
        "2012317162403-I--------------- CALSTIS-6 started -------------------------------\n",
        "\n",
        "Input    obrc010d0_flt.fits\n",
        "Output   /user/bostroem/science/12465_otfr20121109/ccd/R136-SE3_loc490_3936_x1d.fits\n",
        "Rootname obrc010d0\n",
        "OBSMODE  ACCUM\n",
        "APERTURE 52X0.2\n",
        "OPT_ELEM G430M\n",
        "DETECTOR CCD\n"
       ]
      },
      {
       "output_type": "stream",
       "stream": "stdout",
       "text": [
        "\n",
        "XTRACTAB oref$n7p1031qo_1dx.fits\n",
        "XTRACTAB PEDIGREE=INFLIGHT 18/05/97\n",
        "XTRACTAB DESCRIP =Analysis from prop. 7094\n",
        "SPTRCTAB oref$qa31608go_1dt.fits\n",
        "\n",
        "Imset 1  Begin 16:24:03 EST\n"
       ]
      },
      {
       "output_type": "stream",
       "stream": "stdout",
       "text": [
        "         Input read into memory.\n",
        "         Offset of 14 low-res pixels added in dispersion direction\n",
        "Order 1  Begin 16:24:03 EST\n",
        "X1DCORR  PERFORM\n"
       ]
      },
      {
       "output_type": "stream",
       "stream": "stdout",
       "text": [
        "Warning  Cross correlation to locate spectrum failed.\n",
        "ERROR    Cannot extract.\n",
        "Warning  No rows were written; no table created.\n",
        "Imset 1  End 16:24:03 EST\n",
        "\n",
        "End      12-Nov-2012 16:24:03 EST\n",
        "\n",
        "*** CALSTIS-6 complete ***\n",
        "2012317162403-I--------------- CALSTIS-6 completed: OBRC010D0 ------------------\n"
       ]
      },
      {
       "output_type": "stream",
       "stream": "stdout",
       "text": [
        "\n",
        "!/usr/stsci/stsci_iraf_x/stsdas/bin.macintel/cs6.e 'obrc010d0_flt.fits' '/user/bostroem/science/12465_otfr20121109/ccd/extracted_spectra_fits/R136-SE3_loc490_3936_x1d.fits' -t -v -cte -disp -hel -flux -c 490.017938256 -r 0 -o1 12.0 -o2 12.0 -bm -bo 3 -a unweighted  -st 14.0\n"
       ]
      },
      {
       "output_type": "stream",
       "stream": "stdout",
       "text": [
        "\n",
        "*** CALSTIS-6 -- Version 2.40 (23-May-2012) ***\n",
        "Begin    12-Nov-2012 16:24:04 EST\n"
       ]
      },
      {
       "output_type": "stream",
       "stream": "stdout",
       "text": [
        "2012317162404-I--------------- CALSTIS-6 started -------------------------------\n",
        "\n",
        "Input    obrc010d0_flt.fits\n",
        "Output   /user/bostroem/science/12465_otfr20121109/ccd/extracted_spectra_fits/R136-SE3_loc490_3936_x1d.fits\n",
        "Rootname obrc010d0\n",
        "OBSMODE  ACCUM\n",
        "APERTURE 52X0.2\n",
        "OPT_ELEM G430M\n",
        "DETECTOR CCD\n"
       ]
      },
      {
       "output_type": "stream",
       "stream": "stdout",
       "text": [
        "\n",
        "XTRACTAB oref$n7p1031qo_1dx.fits\n",
        "XTRACTAB PEDIGREE=INFLIGHT 18/05/97\n",
        "XTRACTAB DESCRIP =Analysis from prop. 7094\n",
        "SPTRCTAB oref$qa31608go_1dt.fits\n",
        "\n",
        "Imset 1  Begin 16:24:04 EST\n"
       ]
      },
      {
       "output_type": "stream",
       "stream": "stdout",
       "text": [
        "         Input read into memory.\n",
        "         Offset of 14 low-res pixels added in dispersion direction\n",
        "Order 1  Begin 16:24:04 EST\n",
        "X1DCORR  PERFORM\n"
       ]
      },
      {
       "output_type": "stream",
       "stream": "stdout",
       "text": [
        "         Cross correlation offset: 0 pixels\n",
        "BACKCORR OMIT\n"
       ]
      },
      {
       "output_type": "stream",
       "stream": "stdout",
       "text": [
        "X1DCORR  COMPLETE\n",
        "2012317162404-I--------------- X1DCORR complete: OBRC010D0 ---------------------\n",
        "         Spectrum extracted at y position = 490.018\n",
        "         Extraction box height = 7\n",
        "         Background box 1 height = 5 offset 12 from A2CENTER\n",
        "         Background box 2 height = 5 offset 12 from A2CENTER\n",
        "\n",
        "DISPCORR PERFORM\n",
        "DISPTAB  oref$l2j0137to_dsp.fits\n",
        "DISPTAB  PEDIGREE=INFLIGHT 27/02/1997 24/11/1999\n",
        "DISPTAB  DESCRIP =Lindler Postlaunch, May 2000\n",
        "APDESTAB oref$obm1723ro_apd.fits\n",
        "APDESTAB PEDIGREE=INFLIGHT 01/03/1997 01/03/1997\n",
        "APDESTAB DESCRIP =Microscope Meas./Hartig Post-launch Offsets\n",
        "INANGTAB oref$h5s11397o_iac.fits\n"
       ]
      },
      {
       "output_type": "stream",
       "stream": "stdout",
       "text": [
        "         Delta = 0.074666 arcsec.\n",
        "DISPCORR COMPLETE\n",
        "2012317162404-I--------------- DISPCORR complete: OBRC010D0 --------------------\n",
        "\n",
        "HELCORR  PERFORM\n",
        "HELCORR  COMPLETE\n",
        "2012317162404-I--------------- HELCORR complete: OBRC010D0 ---------------------\n",
        "\n",
        "PHOTTAB  oref$p822207no_pht.fits\n",
        "APERTAB  oref$n7p1032ao_apt.fits\n",
        "APERTAB  PEDIGREE=MODEL\n",
        "APERTAB  DESCRIP =Bohlin/Hartig TIM Models Nov. 1998\n",
        "PCTAB    oref$q541740oo_pct.fits\n",
        "TDSTAB   oref$t9a1003so_tds.fits\n"
       ]
      },
      {
       "output_type": "stream",
       "stream": "stdout",
       "text": [
        "FLUXCORR PERFORM\n",
        "CTECORR  PERFORM\n",
        "CCDTAB   oref$v6n13233o_ccd.fits\n",
        "CCDTAB   PEDIGREE=INFLIGHT 01/05/2009 01/05/2009\n",
        "CCDTAB   DESCRIP =Proposal 8057, by I. Dashevsky & P. Goudfrooij\n"
       ]
      },
      {
       "output_type": "stream",
       "stream": "stdout",
       "text": [
        "CTECORR  COMPLETE\n",
        "FLUXCORR COMPLETE\n",
        "2012317162404-I--------------- FLUXCORR complete: OBRC010D0 --------------------\n",
        "\n",
        "SGEOCORR OMIT\n"
       ]
      },
      {
       "output_type": "stream",
       "stream": "stdout",
       "text": [
        "\n",
        "         Row 1 written to disk.\n",
        "Order 1  End 16:24:04 EST\n"
       ]
      },
      {
       "output_type": "stream",
       "stream": "stdout",
       "text": [
        "\n",
        "Imset 1  End 16:24:04 EST\n"
       ]
      },
      {
       "output_type": "stream",
       "stream": "stdout",
       "text": [
        "\n",
        "Warning  Keyword `XTRACALG' is being added to header.\n",
        "End      12-Nov-2012 16:24:04 EST\n",
        "\n",
        "*** CALSTIS-6 complete ***\n",
        "2012317162404-I--------------- CALSTIS-6 completed: OBRC010D0 ------------------\n"
       ]
      },
      {
       "output_type": "stream",
       "stream": "stdout",
       "text": [
        "\n",
        "yloc = 506.878808"
       ]
      },
      {
       "output_type": "stream",
       "stream": "stdout",
       "text": [
        "\n",
        "!/usr/stsci/stsci_iraf_x/stsdas/bin.macintel/cs6.e 'obrc010d0_flt.fits' '/user/bostroem/science/12465_otfr20121109/ccd/R136-SE3_loc506_3936_x1d.fits' -t -v -cte -disp -hel -flux -c 506.878807958 -r 4 -o1 12.0 -o2 12.0 -bm -bo 3 -a unweighted  -st 14.0\n"
       ]
      },
      {
       "output_type": "stream",
       "stream": "stdout",
       "text": [
        "\n",
        "*** CALSTIS-6 -- Version 2.40 (23-May-2012) ***\n",
        "Begin    12-Nov-2012 16:24:04 EST\n"
       ]
      },
      {
       "output_type": "stream",
       "stream": "stdout",
       "text": [
        "2012317162404-I--------------- CALSTIS-6 started -------------------------------\n",
        "\n",
        "ERROR    Output file `/user/bostroem/science/12465_otfr20121109/ccd/R136-SE3_loc506_3936_x1d.fits' already exists.\n",
        "Error processing obrc010d0_flt.fits.\n"
       ]
      },
      {
       "output_type": "stream",
       "stream": "stdout",
       "text": [
        "\n",
        "!/usr/stsci/stsci_iraf_x/stsdas/bin.macintel/cs6.e 'obrc010d0_flt.fits' '/user/bostroem/science/12465_otfr20121109/ccd/extracted_spectra_fits/R136-SE3_loc506_3936_x1d.fits' -t -v -cte -disp -hel -flux -c 506.878807958 -r 0 -o1 12.0 -o2 12.0 -bm -bo 3 -a unweighted  -st 14.0\n"
       ]
      },
      {
       "output_type": "stream",
       "stream": "stdout",
       "text": [
        "\n",
        "*** CALSTIS-6 -- Version 2.40 (23-May-2012) ***\n",
        "Begin    12-Nov-2012 16:24:05 EST\n"
       ]
      },
      {
       "output_type": "stream",
       "stream": "stdout",
       "text": [
        "2012317162405-I--------------- CALSTIS-6 started -------------------------------\n",
        "\n",
        "Input    obrc010d0_flt.fits\n",
        "Output   /user/bostroem/science/12465_otfr20121109/ccd/extracted_spectra_fits/R136-SE3_loc506_3936_x1d.fits\n",
        "Rootname obrc010d0\n",
        "OBSMODE  ACCUM\n",
        "APERTURE 52X0.2\n",
        "OPT_ELEM G430M\n",
        "DETECTOR CCD\n"
       ]
      },
      {
       "output_type": "stream",
       "stream": "stdout",
       "text": [
        "\n",
        "XTRACTAB oref$n7p1031qo_1dx.fits\n",
        "XTRACTAB PEDIGREE=INFLIGHT 18/05/97\n",
        "XTRACTAB DESCRIP =Analysis from prop. 7094\n",
        "SPTRCTAB oref$qa31608go_1dt.fits\n",
        "\n",
        "Imset 1  Begin 16:24:05 EST\n"
       ]
      },
      {
       "output_type": "stream",
       "stream": "stdout",
       "text": [
        "         Input read into memory.\n",
        "         Offset of 14 low-res pixels added in dispersion direction\n",
        "Order 1  Begin 16:24:05 EST\n",
        "X1DCORR  PERFORM\n"
       ]
      },
      {
       "output_type": "stream",
       "stream": "stdout",
       "text": [
        "         Cross correlation offset: 0 pixels\n",
        "BACKCORR OMIT\n"
       ]
      },
      {
       "output_type": "stream",
       "stream": "stdout",
       "text": [
        "X1DCORR  COMPLETE\n",
        "2012317162405-I--------------- X1DCORR complete: OBRC010D0 ---------------------\n",
        "         Spectrum extracted at y position = 506.879\n",
        "         Extraction box height = 7\n",
        "         Background box 1 height = 5 offset 12 from A2CENTER\n",
        "         Background box 2 height = 5 offset 12 from A2CENTER\n",
        "\n",
        "DISPCORR PERFORM\n",
        "DISPTAB  oref$l2j0137to_dsp.fits\n",
        "DISPTAB  PEDIGREE=INFLIGHT 27/02/1997 24/11/1999\n",
        "DISPTAB  DESCRIP =Lindler Postlaunch, May 2000\n",
        "APDESTAB oref$obm1723ro_apd.fits\n",
        "APDESTAB PEDIGREE=INFLIGHT 01/03/1997 01/03/1997\n",
        "APDESTAB DESCRIP =Microscope Meas./Hartig Post-launch Offsets\n",
        "INANGTAB oref$h5s11397o_iac.fits\n"
       ]
      },
      {
       "output_type": "stream",
       "stream": "stdout",
       "text": [
        "         Delta = 0.074666 arcsec.\n",
        "DISPCORR COMPLETE\n",
        "2012317162405-I--------------- DISPCORR complete: OBRC010D0 --------------------\n",
        "\n",
        "HELCORR  PERFORM\n",
        "HELCORR  COMPLETE\n",
        "2012317162405-I--------------- HELCORR complete: OBRC010D0 ---------------------\n",
        "\n",
        "PHOTTAB  oref$p822207no_pht.fits\n",
        "APERTAB  oref$n7p1032ao_apt.fits\n",
        "APERTAB  PEDIGREE=MODEL\n",
        "APERTAB  DESCRIP =Bohlin/Hartig TIM Models Nov. 1998\n",
        "PCTAB    oref$q541740oo_pct.fits\n",
        "TDSTAB   oref$t9a1003so_tds.fits\n"
       ]
      },
      {
       "output_type": "stream",
       "stream": "stdout",
       "text": [
        "FLUXCORR PERFORM\n",
        "CTECORR  PERFORM\n",
        "CCDTAB   oref$v6n13233o_ccd.fits\n",
        "CCDTAB   PEDIGREE=INFLIGHT 01/05/2009 01/05/2009\n",
        "CCDTAB   DESCRIP =Proposal 8057, by I. Dashevsky & P. Goudfrooij\n"
       ]
      },
      {
       "output_type": "stream",
       "stream": "stdout",
       "text": [
        "CTECORR  COMPLETE\n",
        "FLUXCORR COMPLETE\n",
        "2012317162405-I--------------- FLUXCORR complete: OBRC010D0 --------------------\n",
        "\n",
        "SGEOCORR OMIT\n"
       ]
      },
      {
       "output_type": "stream",
       "stream": "stdout",
       "text": [
        "\n",
        "         Row 1 written to disk.\n",
        "Order 1  End 16:24:05 EST\n"
       ]
      },
      {
       "output_type": "stream",
       "stream": "stdout",
       "text": [
        "\n",
        "Imset 1  End 16:24:05 EST\n"
       ]
      },
      {
       "output_type": "stream",
       "stream": "stdout",
       "text": [
        "\n",
        "Warning  Keyword `XTRACALG' is being added to header.\n",
        "End      12-Nov-2012 16:24:05 EST\n",
        "\n",
        "*** CALSTIS-6 complete ***\n",
        "2012317162405-I--------------- CALSTIS-6 completed: OBRC010D0 ------------------\n"
       ]
      },
      {
       "output_type": "stream",
       "stream": "stdout",
       "text": [
        "\n",
        "yloc = 546.649374"
       ]
      },
      {
       "output_type": "stream",
       "stream": "stdout",
       "text": [
        "\n",
        "!/usr/stsci/stsci_iraf_x/stsdas/bin.macintel/cs6.e 'obrc010d0_flt.fits' '/user/bostroem/science/12465_otfr20121109/ccd/R136-SE3_loc546_3936_x1d.fits' -t -v -cte -disp -hel -flux -c 546.649374324 -r 4 -o1 12.0 -o2 12.0 -bm -bo 3 -a unweighted  -st 14.0\n"
       ]
      },
      {
       "output_type": "stream",
       "stream": "stdout",
       "text": [
        "\n",
        "*** CALSTIS-6 -- Version 2.40 (23-May-2012) ***\n",
        "Begin    12-Nov-2012 16:24:05 EST\n"
       ]
      },
      {
       "output_type": "stream",
       "stream": "stdout",
       "text": [
        "2012317162405-I--------------- CALSTIS-6 started -------------------------------\n",
        "\n",
        "Input    obrc010d0_flt.fits\n",
        "Output   /user/bostroem/science/12465_otfr20121109/ccd/R136-SE3_loc546_3936_x1d.fits\n",
        "Rootname obrc010d0\n",
        "OBSMODE  ACCUM\n",
        "APERTURE 52X0.2\n",
        "OPT_ELEM G430M\n",
        "DETECTOR CCD\n"
       ]
      },
      {
       "output_type": "stream",
       "stream": "stdout",
       "text": [
        "\n",
        "XTRACTAB oref$n7p1031qo_1dx.fits\n",
        "XTRACTAB PEDIGREE=INFLIGHT 18/05/97\n",
        "XTRACTAB DESCRIP =Analysis from prop. 7094\n",
        "SPTRCTAB oref$qa31608go_1dt.fits\n",
        "\n",
        "Imset 1  Begin 16:24:05 EST\n"
       ]
      },
      {
       "output_type": "stream",
       "stream": "stdout",
       "text": [
        "         Input read into memory.\n",
        "         Offset of 14 low-res pixels added in dispersion direction\n",
        "Order 1  Begin 16:24:05 EST\n",
        "X1DCORR  PERFORM\n"
       ]
      },
      {
       "output_type": "stream",
       "stream": "stdout",
       "text": [
        "Warning  Cross correlation to locate spectrum failed.\n",
        "ERROR    Cannot extract.\n",
        "Warning  No rows were written; no table created.\n",
        "Imset 1  End 16:24:05 EST\n",
        "\n",
        "End      12-Nov-2012 16:24:05 EST\n",
        "\n",
        "*** CALSTIS-6 complete ***\n",
        "2012317162405-I--------------- CALSTIS-6 completed: OBRC010D0 ------------------\n"
       ]
      },
      {
       "output_type": "stream",
       "stream": "stdout",
       "text": [
        "\n",
        "!/usr/stsci/stsci_iraf_x/stsdas/bin.macintel/cs6.e 'obrc010d0_flt.fits' '/user/bostroem/science/12465_otfr20121109/ccd/extracted_spectra_fits/R136-SE3_loc546_3936_x1d.fits' -t -v -cte -disp -hel -flux -c 546.649374324 -r 0 -o1 12.0 -o2 12.0 -bm -bo 3 -a unweighted  -st 14.0\n"
       ]
      },
      {
       "output_type": "stream",
       "stream": "stdout",
       "text": [
        "\n",
        "*** CALSTIS-6 -- Version 2.40 (23-May-2012) ***\n",
        "Begin    12-Nov-2012 16:24:06 EST\n"
       ]
      },
      {
       "output_type": "stream",
       "stream": "stdout",
       "text": [
        "2012317162406-I--------------- CALSTIS-6 started -------------------------------\n",
        "\n",
        "Input    obrc010d0_flt.fits\n",
        "Output   /user/bostroem/science/12465_otfr20121109/ccd/extracted_spectra_fits/R136-SE3_loc546_3936_x1d.fits\n",
        "Rootname obrc010d0\n",
        "OBSMODE  ACCUM\n",
        "APERTURE 52X0.2\n",
        "OPT_ELEM G430M\n",
        "DETECTOR CCD\n"
       ]
      },
      {
       "output_type": "stream",
       "stream": "stdout",
       "text": [
        "\n",
        "XTRACTAB oref$n7p1031qo_1dx.fits\n",
        "XTRACTAB PEDIGREE=INFLIGHT 18/05/97\n",
        "XTRACTAB DESCRIP =Analysis from prop. 7094\n",
        "SPTRCTAB oref$qa31608go_1dt.fits\n",
        "\n",
        "Imset 1  Begin 16:24:06 EST\n"
       ]
      },
      {
       "output_type": "stream",
       "stream": "stdout",
       "text": [
        "         Input read into memory.\n",
        "         Offset of 14 low-res pixels added in dispersion direction\n",
        "Order 1  Begin 16:24:06 EST\n",
        "X1DCORR  PERFORM\n"
       ]
      },
      {
       "output_type": "stream",
       "stream": "stdout",
       "text": [
        "         Cross correlation offset: 0 pixels\n",
        "BACKCORR OMIT\n"
       ]
      },
      {
       "output_type": "stream",
       "stream": "stdout",
       "text": [
        "X1DCORR  COMPLETE\n",
        "2012317162406-I--------------- X1DCORR complete: OBRC010D0 ---------------------\n",
        "         Spectrum extracted at y position = 546.649\n",
        "         Extraction box height = 7\n",
        "         Background box 1 height = 5 offset 12 from A2CENTER\n",
        "         Background box 2 height = 5 offset 12 from A2CENTER\n",
        "\n",
        "DISPCORR PERFORM\n",
        "DISPTAB  oref$l2j0137to_dsp.fits\n",
        "DISPTAB  PEDIGREE=INFLIGHT 27/02/1997 24/11/1999\n",
        "DISPTAB  DESCRIP =Lindler Postlaunch, May 2000\n",
        "APDESTAB oref$obm1723ro_apd.fits\n",
        "APDESTAB PEDIGREE=INFLIGHT 01/03/1997 01/03/1997\n",
        "APDESTAB DESCRIP =Microscope Meas./Hartig Post-launch Offsets\n",
        "INANGTAB oref$h5s11397o_iac.fits\n"
       ]
      },
      {
       "output_type": "stream",
       "stream": "stdout",
       "text": [
        "         Delta = 0.074666 arcsec.\n",
        "DISPCORR COMPLETE\n",
        "2012317162406-I--------------- DISPCORR complete: OBRC010D0 --------------------\n",
        "\n",
        "HELCORR  PERFORM\n",
        "HELCORR  COMPLETE\n",
        "2012317162406-I--------------- HELCORR complete: OBRC010D0 ---------------------\n",
        "\n",
        "PHOTTAB  oref$p822207no_pht.fits\n",
        "APERTAB  oref$n7p1032ao_apt.fits\n",
        "APERTAB  PEDIGREE=MODEL\n",
        "APERTAB  DESCRIP =Bohlin/Hartig TIM Models Nov. 1998\n",
        "PCTAB    oref$q541740oo_pct.fits\n",
        "TDSTAB   oref$t9a1003so_tds.fits\n"
       ]
      },
      {
       "output_type": "stream",
       "stream": "stdout",
       "text": [
        "FLUXCORR PERFORM\n",
        "CTECORR  PERFORM\n",
        "CCDTAB   oref$v6n13233o_ccd.fits\n",
        "CCDTAB   PEDIGREE=INFLIGHT 01/05/2009 01/05/2009\n",
        "CCDTAB   DESCRIP =Proposal 8057, by I. Dashevsky & P. Goudfrooij\n"
       ]
      },
      {
       "output_type": "stream",
       "stream": "stdout",
       "text": [
        "CTECORR  COMPLETE\n",
        "FLUXCORR COMPLETE\n",
        "2012317162406-I--------------- FLUXCORR complete: OBRC010D0 --------------------\n",
        "\n",
        "SGEOCORR OMIT\n"
       ]
      },
      {
       "output_type": "stream",
       "stream": "stdout",
       "text": [
        "\n",
        "         Row 1 written to disk.\n",
        "Order 1  End 16:24:06 EST\n"
       ]
      },
      {
       "output_type": "stream",
       "stream": "stdout",
       "text": [
        "\n",
        "Imset 1  End 16:24:06 EST\n"
       ]
      },
      {
       "output_type": "stream",
       "stream": "stdout",
       "text": [
        "\n",
        "Warning  Keyword `XTRACALG' is being added to header.\n",
        "End      12-Nov-2012 16:24:06 EST\n",
        "\n",
        "*** CALSTIS-6 complete ***\n",
        "2012317162406-I--------------- CALSTIS-6 completed: OBRC010D0 ------------------\n"
       ]
      },
      {
       "output_type": "stream",
       "stream": "stdout",
       "text": [
        "\n",
        "yloc = 620.730197"
       ]
      },
      {
       "output_type": "stream",
       "stream": "stdout",
       "text": [
        "\n",
        "!/usr/stsci/stsci_iraf_x/stsdas/bin.macintel/cs6.e 'obrc010d0_flt.fits' '/user/bostroem/science/12465_otfr20121109/ccd/R136-SE3_loc620_3936_x1d.fits' -t -v -cte -disp -hel -flux -c 620.730197209 -r 4 -o1 12.0 -o2 12.0 -bm -bo 3 -a unweighted  -st 14.0\n"
       ]
      },
      {
       "output_type": "stream",
       "stream": "stdout",
       "text": [
        "\n",
        "*** CALSTIS-6 -- Version 2.40 (23-May-2012) ***\n",
        "Begin    12-Nov-2012 16:24:06 EST\n"
       ]
      },
      {
       "output_type": "stream",
       "stream": "stdout",
       "text": [
        "2012317162406-I--------------- CALSTIS-6 started -------------------------------\n",
        "\n",
        "Input    obrc010d0_flt.fits\n",
        "Output   /user/bostroem/science/12465_otfr20121109/ccd/R136-SE3_loc620_3936_x1d.fits\n",
        "Rootname obrc010d0\n",
        "OBSMODE  ACCUM\n",
        "APERTURE 52X0.2\n",
        "OPT_ELEM G430M\n",
        "DETECTOR CCD\n"
       ]
      },
      {
       "output_type": "stream",
       "stream": "stdout",
       "text": [
        "\n",
        "XTRACTAB oref$n7p1031qo_1dx.fits\n",
        "XTRACTAB PEDIGREE=INFLIGHT 18/05/97\n",
        "XTRACTAB DESCRIP =Analysis from prop. 7094\n",
        "SPTRCTAB oref$qa31608go_1dt.fits\n",
        "\n",
        "Imset 1  Begin 16:24:06 EST\n"
       ]
      },
      {
       "output_type": "stream",
       "stream": "stdout",
       "text": [
        "         Input read into memory.\n",
        "         Offset of 14 low-res pixels added in dispersion direction\n",
        "Order 1  Begin 16:24:07 EST\n",
        "X1DCORR  PERFORM\n"
       ]
      },
      {
       "output_type": "stream",
       "stream": "stdout",
       "text": [
        "Warning  Cross correlation to locate spectrum failed.\n",
        "ERROR    Cannot extract.\n",
        "Warning  No rows were written; no table created.\n",
        "Imset 1  End 16:24:07 EST\n",
        "\n",
        "End      12-Nov-2012 16:24:07 EST\n",
        "\n",
        "*** CALSTIS-6 complete ***\n",
        "2012317162407-I--------------- CALSTIS-6 completed: OBRC010D0 ------------------\n"
       ]
      },
      {
       "output_type": "stream",
       "stream": "stdout",
       "text": [
        "\n",
        "!/usr/stsci/stsci_iraf_x/stsdas/bin.macintel/cs6.e 'obrc010d0_flt.fits' '/user/bostroem/science/12465_otfr20121109/ccd/extracted_spectra_fits/R136-SE3_loc620_3936_x1d.fits' -t -v -cte -disp -hel -flux -c 620.730197209 -r 0 -o1 12.0 -o2 12.0 -bm -bo 3 -a unweighted  -st 14.0\n"
       ]
      },
      {
       "output_type": "stream",
       "stream": "stdout",
       "text": [
        "\n",
        "*** CALSTIS-6 -- Version 2.40 (23-May-2012) ***\n",
        "Begin    12-Nov-2012 16:24:07 EST\n"
       ]
      },
      {
       "output_type": "stream",
       "stream": "stdout",
       "text": [
        "2012317162407-I--------------- CALSTIS-6 started -------------------------------\n",
        "\n",
        "Input    obrc010d0_flt.fits\n",
        "Output   /user/bostroem/science/12465_otfr20121109/ccd/extracted_spectra_fits/R136-SE3_loc620_3936_x1d.fits\n",
        "Rootname obrc010d0\n",
        "OBSMODE  ACCUM\n",
        "APERTURE 52X0.2\n",
        "OPT_ELEM G430M\n",
        "DETECTOR CCD\n"
       ]
      },
      {
       "output_type": "stream",
       "stream": "stdout",
       "text": [
        "\n",
        "XTRACTAB oref$n7p1031qo_1dx.fits\n",
        "XTRACTAB PEDIGREE=INFLIGHT 18/05/97\n",
        "XTRACTAB DESCRIP =Analysis from prop. 7094\n",
        "SPTRCTAB oref$qa31608go_1dt.fits\n",
        "\n",
        "Imset 1  Begin 16:24:07 EST\n"
       ]
      },
      {
       "output_type": "stream",
       "stream": "stdout",
       "text": [
        "         Input read into memory.\n",
        "         Offset of 14 low-res pixels added in dispersion direction\n",
        "Order 1  Begin 16:24:07 EST\n",
        "X1DCORR  PERFORM\n"
       ]
      },
      {
       "output_type": "stream",
       "stream": "stdout",
       "text": [
        "         Cross correlation offset: 0 pixels\n",
        "BACKCORR OMIT\n"
       ]
      },
      {
       "output_type": "stream",
       "stream": "stdout",
       "text": [
        "X1DCORR  COMPLETE\n",
        "2012317162407-I--------------- X1DCORR complete: OBRC010D0 ---------------------\n",
        "         Spectrum extracted at y position = 620.73\n",
        "         Extraction box height = 7\n",
        "         Background box 1 height = 5 offset 12 from A2CENTER\n",
        "         Background box 2 height = 5 offset 12 from A2CENTER\n",
        "\n",
        "DISPCORR PERFORM\n",
        "DISPTAB  oref$l2j0137to_dsp.fits\n",
        "DISPTAB  PEDIGREE=INFLIGHT 27/02/1997 24/11/1999\n",
        "DISPTAB  DESCRIP =Lindler Postlaunch, May 2000\n",
        "APDESTAB oref$obm1723ro_apd.fits\n",
        "APDESTAB PEDIGREE=INFLIGHT 01/03/1997 01/03/1997\n",
        "APDESTAB DESCRIP =Microscope Meas./Hartig Post-launch Offsets\n",
        "INANGTAB oref$h5s11397o_iac.fits\n"
       ]
      },
      {
       "output_type": "stream",
       "stream": "stdout",
       "text": [
        "         Delta = 0.074666 arcsec.\n",
        "DISPCORR COMPLETE\n",
        "2012317162407-I--------------- DISPCORR complete: OBRC010D0 --------------------\n",
        "\n",
        "HELCORR  PERFORM\n",
        "HELCORR  COMPLETE\n",
        "2012317162407-I--------------- HELCORR complete: OBRC010D0 ---------------------\n",
        "\n",
        "PHOTTAB  oref$p822207no_pht.fits\n",
        "APERTAB  oref$n7p1032ao_apt.fits\n",
        "APERTAB  PEDIGREE=MODEL\n",
        "APERTAB  DESCRIP =Bohlin/Hartig TIM Models Nov. 1998\n",
        "PCTAB    oref$q541740oo_pct.fits\n",
        "TDSTAB   oref$t9a1003so_tds.fits\n"
       ]
      },
      {
       "output_type": "stream",
       "stream": "stdout",
       "text": [
        "FLUXCORR PERFORM\n",
        "CTECORR  PERFORM\n",
        "CCDTAB   oref$v6n13233o_ccd.fits\n",
        "CCDTAB   PEDIGREE=INFLIGHT 01/05/2009 01/05/2009\n",
        "CCDTAB   DESCRIP =Proposal 8057, by I. Dashevsky & P. Goudfrooij\n"
       ]
      },
      {
       "output_type": "stream",
       "stream": "stdout",
       "text": [
        "CTECORR  COMPLETE\n",
        "FLUXCORR COMPLETE\n",
        "2012317162407-I--------------- FLUXCORR complete: OBRC010D0 --------------------\n",
        "\n",
        "SGEOCORR OMIT\n"
       ]
      },
      {
       "output_type": "stream",
       "stream": "stdout",
       "text": [
        "\n",
        "         Row 1 written to disk.\n",
        "Order 1  End 16:24:07 EST\n"
       ]
      },
      {
       "output_type": "stream",
       "stream": "stdout",
       "text": [
        "\n",
        "Imset 1  End 16:24:07 EST\n"
       ]
      },
      {
       "output_type": "stream",
       "stream": "stdout",
       "text": [
        "\n",
        "Warning  Keyword `XTRACALG' is being added to header.\n",
        "End      12-Nov-2012 16:24:07 EST\n",
        "\n",
        "*** CALSTIS-6 complete ***\n",
        "2012317162407-I--------------- CALSTIS-6 completed: OBRC010D0 ------------------\n"
       ]
      },
      {
       "output_type": "stream",
       "stream": "stdout",
       "text": [
        "\n",
        "yloc = 1019.814421"
       ]
      },
      {
       "output_type": "stream",
       "stream": "stdout",
       "text": [
        "\n",
        "!/usr/stsci/stsci_iraf_x/stsdas/bin.macintel/cs6.e 'obrc010d0_flt.fits' '/user/bostroem/science/12465_otfr20121109/ccd/R136-SE3_loc1019_3936_x1d.fits' -t -v -cte -disp -hel -flux -c 1019.81442073 -r 4 -o1 12.0 -o2 12.0 -bm -bo 3 -a unweighted  -st 14.0\n"
       ]
      },
      {
       "output_type": "stream",
       "stream": "stdout",
       "text": [
        "\n",
        "*** CALSTIS-6 -- Version 2.40 (23-May-2012) ***\n",
        "Begin    12-Nov-2012 16:24:08 EST\n"
       ]
      },
      {
       "output_type": "stream",
       "stream": "stdout",
       "text": [
        "2012317162408-I--------------- CALSTIS-6 started -------------------------------\n",
        "\n",
        "Input    obrc010d0_flt.fits\n",
        "Output   /user/bostroem/science/12465_otfr20121109/ccd/R136-SE3_loc1019_3936_x1d.fits\n",
        "Rootname obrc010d0\n",
        "OBSMODE  ACCUM\n",
        "APERTURE 52X0.2\n",
        "OPT_ELEM G430M\n",
        "DETECTOR CCD\n"
       ]
      },
      {
       "output_type": "stream",
       "stream": "stdout",
       "text": [
        "\n",
        "XTRACTAB oref$n7p1031qo_1dx.fits\n",
        "XTRACTAB PEDIGREE=INFLIGHT 18/05/97\n",
        "XTRACTAB DESCRIP =Analysis from prop. 7094\n",
        "SPTRCTAB oref$qa31608go_1dt.fits\n",
        "\n",
        "Imset 1  Begin 16:24:08 EST\n"
       ]
      },
      {
       "output_type": "stream",
       "stream": "stdout",
       "text": [
        "         Input read into memory.\n",
        "         Offset of 14 low-res pixels added in dispersion direction\n",
        "Order 1  Begin 16:24:08 EST\n",
        "X1DCORR  PERFORM\n"
       ]
      },
      {
       "output_type": "stream",
       "stream": "stdout",
       "text": [
        "Warning  Cross correlation to locate spectrum failed.\n",
        "ERROR    Cannot extract.\n",
        "Warning  No rows were written; no table created.\n",
        "Imset 1  End 16:24:08 EST\n",
        "\n",
        "End      12-Nov-2012 16:24:08 EST\n",
        "\n",
        "*** CALSTIS-6 complete ***\n",
        "2012317162408-I--------------- CALSTIS-6 completed: OBRC010D0 ------------------\n"
       ]
      },
      {
       "output_type": "stream",
       "stream": "stdout",
       "text": [
        "\n",
        "!/usr/stsci/stsci_iraf_x/stsdas/bin.macintel/cs6.e 'obrc010d0_flt.fits' '/user/bostroem/science/12465_otfr20121109/ccd/extracted_spectra_fits/R136-SE3_loc1019_3936_x1d.fits' -t -v -cte -disp -hel -flux -c 1019.81442073 -r 0 -o1 12.0 -o2 12.0 -bm -bo 3 -a unweighted  -st 14.0\n"
       ]
      },
      {
       "output_type": "stream",
       "stream": "stdout",
       "text": [
        "\n",
        "*** CALSTIS-6 -- Version 2.40 (23-May-2012) ***\n",
        "Begin    12-Nov-2012 16:24:08 EST\n"
       ]
      },
      {
       "output_type": "stream",
       "stream": "stdout",
       "text": [
        "2012317162408-I--------------- CALSTIS-6 started -------------------------------\n",
        "\n",
        "Input    obrc010d0_flt.fits\n",
        "Output   /user/bostroem/science/12465_otfr20121109/ccd/extracted_spectra_fits/R136-SE3_loc1019_3936_x1d.fits\n",
        "Rootname obrc010d0\n",
        "OBSMODE  ACCUM\n",
        "APERTURE 52X0.2\n",
        "OPT_ELEM G430M\n",
        "DETECTOR CCD\n"
       ]
      },
      {
       "output_type": "stream",
       "stream": "stdout",
       "text": [
        "\n",
        "XTRACTAB oref$n7p1031qo_1dx.fits\n",
        "XTRACTAB PEDIGREE=INFLIGHT 18/05/97\n",
        "XTRACTAB DESCRIP =Analysis from prop. 7094\n",
        "SPTRCTAB oref$qa31608go_1dt.fits\n",
        "\n",
        "Imset 1  Begin 16:24:08 EST\n"
       ]
      },
      {
       "output_type": "stream",
       "stream": "stdout",
       "text": [
        "         Input read into memory.\n",
        "         Offset of 14 low-res pixels added in dispersion direction\n",
        "Order 1  Begin 16:24:08 EST\n",
        "X1DCORR  PERFORM\n"
       ]
      },
      {
       "output_type": "stream",
       "stream": "stdout",
       "text": [
        "         Cross correlation offset: 0 pixels\n",
        "BACKCORR OMIT\n"
       ]
      },
      {
       "output_type": "stream",
       "stream": "stdout",
       "text": [
        "X1DCORR  COMPLETE\n",
        "2012317162408-I--------------- X1DCORR complete: OBRC010D0 ---------------------\n",
        "         Spectrum extracted at y position = 1019.81\n",
        "         Extraction box height = 7\n",
        "         Background box 1 height = 5 offset 12 from A2CENTER\n",
        "         Background box 2 height = 5 offset 12 from A2CENTER\n",
        "\n",
        "DISPCORR PERFORM\n",
        "DISPTAB  oref$l2j0137to_dsp.fits\n",
        "DISPTAB  PEDIGREE=INFLIGHT 27/02/1997 24/11/1999\n",
        "DISPTAB  DESCRIP =Lindler Postlaunch, May 2000\n",
        "APDESTAB oref$obm1723ro_apd.fits\n",
        "APDESTAB PEDIGREE=INFLIGHT 01/03/1997 01/03/1997\n",
        "APDESTAB DESCRIP =Microscope Meas./Hartig Post-launch Offsets\n",
        "INANGTAB oref$h5s11397o_iac.fits\n"
       ]
      },
      {
       "output_type": "stream",
       "stream": "stdout",
       "text": [
        "         Delta = 0.074666 arcsec.\n",
        "DISPCORR COMPLETE\n",
        "2012317162408-I--------------- DISPCORR complete: OBRC010D0 --------------------\n",
        "\n",
        "HELCORR  PERFORM\n",
        "HELCORR  COMPLETE\n",
        "2012317162408-I--------------- HELCORR complete: OBRC010D0 ---------------------\n",
        "\n",
        "PHOTTAB  oref$p822207no_pht.fits\n",
        "APERTAB  oref$n7p1032ao_apt.fits\n",
        "APERTAB  PEDIGREE=MODEL\n",
        "APERTAB  DESCRIP =Bohlin/Hartig TIM Models Nov. 1998\n",
        "PCTAB    oref$q541740oo_pct.fits\n",
        "TDSTAB   oref$t9a1003so_tds.fits\n"
       ]
      },
      {
       "output_type": "stream",
       "stream": "stdout",
       "text": [
        "FLUXCORR PERFORM\n",
        "CTECORR  PERFORM\n",
        "CCDTAB   oref$v6n13233o_ccd.fits\n",
        "CCDTAB   PEDIGREE=INFLIGHT 01/05/2009 01/05/2009\n",
        "CCDTAB   DESCRIP =Proposal 8057, by I. Dashevsky & P. Goudfrooij\n"
       ]
      },
      {
       "output_type": "stream",
       "stream": "stdout",
       "text": [
        "CTECORR  COMPLETE\n",
        "FLUXCORR COMPLETE\n",
        "2012317162408-I--------------- FLUXCORR complete: OBRC010D0 --------------------\n",
        "\n",
        "SGEOCORR OMIT\n"
       ]
      },
      {
       "output_type": "stream",
       "stream": "stdout",
       "text": [
        "\n",
        "         Row 1 written to disk.\n",
        "Order 1  End 16:24:08 EST\n"
       ]
      },
      {
       "output_type": "stream",
       "stream": "stdout",
       "text": [
        "\n",
        "Imset 1  End 16:24:08 EST\n"
       ]
      },
      {
       "output_type": "stream",
       "stream": "stdout",
       "text": [
        "\n",
        "Warning  Keyword `XTRACALG' is being added to header.\n",
        "End      12-Nov-2012 16:24:08 EST\n",
        "\n",
        "*** CALSTIS-6 complete ***\n",
        "2012317162408-I--------------- CALSTIS-6 completed: OBRC010D0 ------------------\n"
       ]
      },
      {
       "output_type": "stream",
       "stream": "stdout",
       "text": [
        "\n",
        "6\n",
        "$$$$$$$$$$$$$$$$$$$$$$$$plotting$$$$$$$$$$$$$$$$$$$$$$$"
       ]
      },
      {
       "output_type": "stream",
       "stream": "stdout",
       "text": [
        "\n",
        "$$$$$$$$$$$$$$$$$$$$$$$$plotting$$$$$$$$$$$$$$$$$$$$$$$"
       ]
      },
      {
       "output_type": "stream",
       "stream": "stdout",
       "text": [
        "\n",
        "$$$$$$$$$$$$$$$$$$$$$$$$plotting$$$$$$$$$$$$$$$$$$$$$$$"
       ]
      },
      {
       "output_type": "stream",
       "stream": "stdout",
       "text": [
        "\n",
        "$$$$$$$$$$$$$$$$$$$$$$$$plotting$$$$$$$$$$$$$$$$$$$$$$$"
       ]
      },
      {
       "output_type": "stream",
       "stream": "stdout",
       "text": [
        "\n",
        "$$$$$$$$$$$$$$$$$$$$$$$$plotting$$$$$$$$$$$$$$$$$$$$$$$"
       ]
      },
      {
       "output_type": "stream",
       "stream": "stdout",
       "text": [
        "\n",
        "$$$$$$$$$$$$$$$$$$$$$$$$plotting$$$$$$$$$$$$$$$$$$$$$$$"
       ]
      },
      {
       "output_type": "stream",
       "stream": "stdout",
       "text": [
        "\n",
        "['obrc07030_flt.fits', 'obrc07040_flt.fits']"
       ]
      },
      {
       "output_type": "stream",
       "stream": "stdout",
       "text": [
        " -69.1007\n",
        "Found offset of 7"
       ]
      },
      {
       "output_type": "stream",
       "stream": "stdout",
       "text": [
        "\n",
        "#############################R136-NW3######################"
       ]
      },
      {
       "output_type": "stream",
       "stream": "stderr",
       "text": [
        "Legend does not support [<matplotlib.lines.Line2D object at 0x11273c190>]\n",
        "Use proxy artist instead.\n",
        "\n",
        "http://matplotlib.sourceforge.net/users/legend_guide.html#using-proxy-artist\n",
        "\n",
        "Legend does not support [<matplotlib.lines.Line2D object at 0x112716190>]\n",
        "Use proxy artist instead.\n",
        "\n",
        "http://matplotlib.sourceforge.net/users/legend_guide.html#using-proxy-artist\n",
        "\n",
        "Legend does not support [<matplotlib.lines.Line2D object at 0x112716c90>]\n",
        "Use proxy artist instead.\n",
        "\n",
        "http://matplotlib.sourceforge.net/users/legend_guide.html#using-proxy-artist\n",
        "\n",
        "Legend does not support [<matplotlib.lines.Line2D object at 0x11169c790>]\n",
        "Use proxy artist instead.\n",
        "\n",
        "http://matplotlib.sourceforge.net/users/legend_guide.html#using-proxy-artist\n",
        "\n",
        "Overwriting existing file 'R136-NW3_3936_combined_img.fits'.\n"
       ]
      },
      {
       "output_type": "stream",
       "stream": "stdout",
       "text": [
        "\n",
        "error"
       ]
      },
      {
       "output_type": "stream",
       "stream": "stdout",
       "text": [
        "\n",
        "Less than 3 points between 0 - 2"
       ]
      },
      {
       "output_type": "stream",
       "stream": "stdout",
       "text": [
        "\n",
        "[  6.73179663e+04   1.21382104e+01   4.13185093e+00]\n",
        "error\n",
        "error calculating fit for 24 - 30, skipping\n",
        "Less than 3 points between 31 - 32\n",
        "error"
       ]
      },
      {
       "output_type": "stream",
       "stream": "stdout",
       "text": [
        "\n",
        "error calculating fit for 33 - 41, skipping\n",
        "Less than 3 points between 42 - 44\n",
        "Less than 3 points between 45 - 46\n",
        "Less than 3 points between 47 - 48\n",
        "Less than 3 points between 49 - 51\n",
        "Less than 3 points between 53 - 55\n",
        "Less than 3 points between 57 - 58\n",
        "Less than 3 points between 61 - 62\n",
        "Less than 3 points between 68 - 69\n",
        "Less than 3 points between 70 - 72\n",
        "Less than 3 points between 75 - 76\n",
        "Less than 3 points between 85 - 87\n",
        "Less than 3 points between 91 - 93\n",
        "Less than 3 points between 99 - 100\n",
        "Less than 3 points between 105 - 106\n",
        "Less than 3 points between 108 - 109\n",
        "Less than 3 points between 128 - 129\n",
        "Less than 3 points between 132 - 133\n",
        "Less than 3 points between 146 - 148\n",
        "Less than 3 points between 173 - 175\n",
        "Less than 3 points between 196 - 197\n",
        "Less than 3 points between 245 - 246\n",
        "[  2.26492684e+05   4.88535274e+02   5.51586168e+00]\n",
        "[  9.15576976e+05   5.22632098e+02   4.44419542e+00]\n",
        "[  1.75086388e+05   5.35942193e+02   1.20269464e+01]\n",
        "Less than 3 points between 615 - 616\n",
        "Less than 3 points between 618 - 619\n",
        "Less than 3 points between 622 - 623\n",
        "Less than 3 points between 634 - 635\n",
        "Less than 3 points between 666 - 667\n",
        "Less than 3 points between 673 - 676\n",
        "Less than 3 points between 678 - 680\n",
        "Less than 3 points between 682 - 683\n",
        "Less than 3 points between 685 - 686\n",
        "Less than 3 points between 695 - 697\n",
        "Less than 3 points between 708 - 709\n",
        "Less than 3 points between 712 - 714\n",
        "Less than 3 points between 716 - 718\n",
        "Less than 3 points between 722 - 723\n",
        "Less than 3 points between 732 - 733\n",
        "Less than 3 points between 746 - 747\n",
        "Less than 3 points between 751 - 752\n",
        "Less than 3 points between 788 - 789\n",
        "Less than 3 points between 898 - 900\n",
        "Less than 3 points between 902 - 903\n",
        "Less than 3 points between 967 - 968\n",
        "Less than 3 points between 976 - 977\n",
        "Less than 3 points between 988 - 991\n",
        "Less than 3 points between 1009 - 1010\n",
        "Less than 3 points between 1011 - 1012\n",
        "Less than 3 points between 1017 - 1019\n",
        "Less than 3 points between 1021 - 1023\n",
        "[12.13821035833991, 488.53527419210627, 522.6320982610498, 535.94219284170504]\n",
        "yloc = 12.138210"
       ]
      },
      {
       "output_type": "stream",
       "stream": "stdout",
       "text": [
        "\n",
        "!/usr/stsci/stsci_iraf_x/stsdas/bin.macintel/cs6.e 'obrc07030_flt.fits' '/user/bostroem/science/12465_otfr20121109/ccd/R136-NW3_loc12_3936_x1d.fits' -t -v -cte -disp -hel -flux -c 12.1382103583 -r 4 -o1 12.0 -o2 12.0 -bm -bo 3 -a unweighted  -st 14.0\n"
       ]
      },
      {
       "output_type": "stream",
       "stream": "stdout",
       "text": [
        "\n",
        "*** CALSTIS-6 -- Version 2.40 (23-May-2012) ***\n",
        "Begin    12-Nov-2012 16:24:15 EST\n"
       ]
      },
      {
       "output_type": "stream",
       "stream": "stdout",
       "text": [
        "2012317162415-I--------------- CALSTIS-6 started -------------------------------\n",
        "\n",
        "Input    obrc07030_flt.fits\n",
        "Output   /user/bostroem/science/12465_otfr20121109/ccd/R136-NW3_loc12_3936_x1d.fits\n",
        "Rootname obrc07030\n",
        "OBSMODE  ACCUM\n",
        "APERTURE 52X0.2\n",
        "OPT_ELEM G430M\n",
        "DETECTOR CCD\n"
       ]
      },
      {
       "output_type": "stream",
       "stream": "stdout",
       "text": [
        "\n",
        "XTRACTAB oref$n7p1031qo_1dx.fits\n",
        "XTRACTAB PEDIGREE=INFLIGHT 18/05/97\n",
        "XTRACTAB DESCRIP =Analysis from prop. 7094\n",
        "SPTRCTAB oref$qa31608go_1dt.fits\n",
        "\n",
        "Imset 1  Begin 16:24:15 EST\n"
       ]
      },
      {
       "output_type": "stream",
       "stream": "stdout",
       "text": [
        "         Input read into memory.\n",
        "         Offset of 14 low-res pixels added in dispersion direction\n",
        "Order 1  Begin 16:24:15 EST\n",
        "X1DCORR  PERFORM\n"
       ]
      },
      {
       "output_type": "stream",
       "stream": "stdout",
       "text": [
        "         Cross correlation offset: 0.12029 pixels\n",
        "BACKCORR OMIT\n"
       ]
      },
      {
       "output_type": "stream",
       "stream": "stdout",
       "text": [
        "X1DCORR  COMPLETE\n",
        "2012317162415-I--------------- X1DCORR complete: OBRC07030 ---------------------\n",
        "         Spectrum extracted at y position = 12.2585\n",
        "         Extraction box height = 7\n",
        "         Background box 1 height = 5 offset 12 from A2CENTER\n",
        "         Background box 2 height = 5 offset 12 from A2CENTER\n",
        "\n",
        "DISPCORR PERFORM\n",
        "DISPTAB  oref$l2j0137to_dsp.fits\n",
        "DISPTAB  PEDIGREE=INFLIGHT 27/02/1997 24/11/1999\n",
        "DISPTAB  DESCRIP =Lindler Postlaunch, May 2000\n",
        "APDESTAB oref$obm1723ro_apd.fits\n",
        "APDESTAB PEDIGREE=INFLIGHT 01/03/1997 01/03/1997\n",
        "APDESTAB DESCRIP =Microscope Meas./Hartig Post-launch Offsets\n",
        "INANGTAB oref$h5s11397o_iac.fits\n"
       ]
      },
      {
       "output_type": "stream",
       "stream": "stdout",
       "text": [
        "         Delta = 0.074666 arcsec.\n",
        "DISPCORR COMPLETE\n",
        "2012317162415-I--------------- DISPCORR complete: OBRC07030 --------------------\n",
        "\n",
        "HELCORR  PERFORM\n",
        "HELCORR  COMPLETE\n",
        "2012317162415-I--------------- HELCORR complete: OBRC07030 ---------------------\n",
        "\n",
        "PHOTTAB  oref$p822207no_pht.fits\n",
        "APERTAB  oref$n7p1032ao_apt.fits\n",
        "APERTAB  PEDIGREE=MODEL\n",
        "APERTAB  DESCRIP =Bohlin/Hartig TIM Models Nov. 1998\n",
        "PCTAB    oref$q541740oo_pct.fits\n",
        "TDSTAB   oref$t9a1003so_tds.fits\n"
       ]
      },
      {
       "output_type": "stream",
       "stream": "stdout",
       "text": [
        "FLUXCORR PERFORM\n",
        "CTECORR  PERFORM\n",
        "CCDTAB   oref$v6n13233o_ccd.fits\n",
        "CCDTAB   PEDIGREE=INFLIGHT 01/05/2009 01/05/2009\n",
        "CCDTAB   DESCRIP =Proposal 8057, by I. Dashevsky & P. Goudfrooij\n"
       ]
      },
      {
       "output_type": "stream",
       "stream": "stdout",
       "text": [
        "CTECORR  COMPLETE\n",
        "FLUXCORR COMPLETE\n",
        "2012317162415-I--------------- FLUXCORR complete: OBRC07030 --------------------\n",
        "\n",
        "SGEOCORR OMIT\n"
       ]
      },
      {
       "output_type": "stream",
       "stream": "stdout",
       "text": [
        "\n",
        "         Row 1 written to disk.\n",
        "Order 1  End 16:24:15 EST\n"
       ]
      },
      {
       "output_type": "stream",
       "stream": "stdout",
       "text": [
        "\n",
        "Imset 1  End 16:24:15 EST\n"
       ]
      },
      {
       "output_type": "stream",
       "stream": "stdout",
       "text": [
        "\n",
        "Warning  Keyword `XTRACALG' is being added to header.\n",
        "End      12-Nov-2012 16:24:15 EST\n",
        "\n",
        "*** CALSTIS-6 complete ***\n",
        "2012317162415-I--------------- CALSTIS-6 completed: OBRC07030 ------------------\n"
       ]
      },
      {
       "output_type": "stream",
       "stream": "stdout",
       "text": [
        "\n",
        "!/usr/stsci/stsci_iraf_x/stsdas/bin.macintel/cs6.e 'obrc07030_flt.fits' '/user/bostroem/science/12465_otfr20121109/ccd/extracted_spectra_fits/R136-NW3_loc12_3936_x1d.fits' -t -v -cte -disp -hel -flux -c 12.1382103583 -r 0 -o1 12.0 -o2 12.0 -bm -bo 3 -a unweighted  -st 14.0\n"
       ]
      },
      {
       "output_type": "stream",
       "stream": "stdout",
       "text": [
        "\n",
        "*** CALSTIS-6 -- Version 2.40 (23-May-2012) ***\n",
        "Begin    12-Nov-2012 16:24:15 EST\n"
       ]
      },
      {
       "output_type": "stream",
       "stream": "stdout",
       "text": [
        "2012317162415-I--------------- CALSTIS-6 started -------------------------------\n",
        "\n",
        "Input    obrc07030_flt.fits\n",
        "Output   /user/bostroem/science/12465_otfr20121109/ccd/extracted_spectra_fits/R136-NW3_loc12_3936_x1d.fits\n",
        "Rootname obrc07030\n",
        "OBSMODE  ACCUM\n",
        "APERTURE 52X0.2\n",
        "OPT_ELEM G430M\n",
        "DETECTOR CCD\n"
       ]
      },
      {
       "output_type": "stream",
       "stream": "stdout",
       "text": [
        "\n",
        "XTRACTAB oref$n7p1031qo_1dx.fits\n",
        "XTRACTAB PEDIGREE=INFLIGHT 18/05/97\n",
        "XTRACTAB DESCRIP =Analysis from prop. 7094\n",
        "SPTRCTAB oref$qa31608go_1dt.fits\n",
        "\n",
        "Imset 1  Begin 16:24:15 EST\n"
       ]
      },
      {
       "output_type": "stream",
       "stream": "stdout",
       "text": [
        "         Input read into memory.\n",
        "         Offset of 14 low-res pixels added in dispersion direction\n",
        "Order 1  Begin 16:24:15 EST\n",
        "X1DCORR  PERFORM\n",
        "         Cross correlation offset: 0 pixels\n",
        "BACKCORR OMIT\n"
       ]
      },
      {
       "output_type": "stream",
       "stream": "stdout",
       "text": [
        "X1DCORR  COMPLETE\n",
        "2012317162415-I--------------- X1DCORR complete: OBRC07030 ---------------------\n",
        "         Spectrum extracted at y position = 12.1382\n",
        "         Extraction box height = 7\n",
        "         Background box 1 height = 5 offset 12 from A2CENTER\n",
        "         Background box 2 height = 5 offset 12 from A2CENTER\n",
        "\n",
        "DISPCORR PERFORM\n",
        "DISPTAB  oref$l2j0137to_dsp.fits\n",
        "DISPTAB  PEDIGREE=INFLIGHT 27/02/1997 24/11/1999\n",
        "DISPTAB  DESCRIP =Lindler Postlaunch, May 2000\n",
        "APDESTAB oref$obm1723ro_apd.fits\n",
        "APDESTAB PEDIGREE=INFLIGHT 01/03/1997 01/03/1997\n",
        "APDESTAB DESCRIP =Microscope Meas./Hartig Post-launch Offsets\n",
        "INANGTAB oref$h5s11397o_iac.fits\n"
       ]
      },
      {
       "output_type": "stream",
       "stream": "stdout",
       "text": [
        "         Delta = 0.074666 arcsec.\n",
        "DISPCORR COMPLETE\n",
        "2012317162415-I--------------- DISPCORR complete: OBRC07030 --------------------\n",
        "\n",
        "HELCORR  PERFORM\n",
        "HELCORR  COMPLETE\n",
        "2012317162415-I--------------- HELCORR complete: OBRC07030 ---------------------\n",
        "\n",
        "PHOTTAB  oref$p822207no_pht.fits\n",
        "APERTAB  oref$n7p1032ao_apt.fits\n",
        "APERTAB  PEDIGREE=MODEL\n",
        "APERTAB  DESCRIP =Bohlin/Hartig TIM Models Nov. 1998\n",
        "PCTAB    oref$q541740oo_pct.fits\n",
        "TDSTAB   oref$t9a1003so_tds.fits\n"
       ]
      },
      {
       "output_type": "stream",
       "stream": "stdout",
       "text": [
        "FLUXCORR PERFORM\n",
        "CTECORR  PERFORM\n",
        "CCDTAB   oref$v6n13233o_ccd.fits\n",
        "CCDTAB   PEDIGREE=INFLIGHT 01/05/2009 01/05/2009\n",
        "CCDTAB   DESCRIP =Proposal 8057, by I. Dashevsky & P. Goudfrooij\n"
       ]
      },
      {
       "output_type": "stream",
       "stream": "stdout",
       "text": [
        "CTECORR  COMPLETE\n",
        "FLUXCORR COMPLETE\n",
        "2012317162415-I--------------- FLUXCORR complete: OBRC07030 --------------------\n",
        "\n",
        "SGEOCORR OMIT\n"
       ]
      },
      {
       "output_type": "stream",
       "stream": "stdout",
       "text": [
        "\n",
        "         Row 1 written to disk.\n",
        "Order 1  End 16:24:15 EST\n"
       ]
      },
      {
       "output_type": "stream",
       "stream": "stdout",
       "text": [
        "\n",
        "Imset 1  End 16:24:16 EST\n"
       ]
      },
      {
       "output_type": "stream",
       "stream": "stdout",
       "text": [
        "\n",
        "Warning  Keyword `XTRACALG' is being added to header.\n",
        "End      12-Nov-2012 16:24:16 EST\n",
        "\n",
        "*** CALSTIS-6 complete ***\n",
        "2012317162416-I--------------- CALSTIS-6 completed: OBRC07030 ------------------\n"
       ]
      },
      {
       "output_type": "stream",
       "stream": "stdout",
       "text": [
        "\n",
        "yloc = 488.535274"
       ]
      },
      {
       "output_type": "stream",
       "stream": "stdout",
       "text": [
        "\n",
        "!/usr/stsci/stsci_iraf_x/stsdas/bin.macintel/cs6.e 'obrc07030_flt.fits' '/user/bostroem/science/12465_otfr20121109/ccd/R136-NW3_loc488_3936_x1d.fits' -t -v -cte -disp -hel -flux -c 488.535274192 -r 4 -o1 12.0 -o2 12.0 -bm -bo 3 -a unweighted  -st 14.0\n"
       ]
      },
      {
       "output_type": "stream",
       "stream": "stdout",
       "text": [
        "\n",
        "*** CALSTIS-6 -- Version 2.40 (23-May-2012) ***\n",
        "Begin    12-Nov-2012 16:24:16 EST\n"
       ]
      },
      {
       "output_type": "stream",
       "stream": "stdout",
       "text": [
        "2012317162416-I--------------- CALSTIS-6 started -------------------------------\n",
        "\n",
        "Input    obrc07030_flt.fits\n",
        "Output   /user/bostroem/science/12465_otfr20121109/ccd/R136-NW3_loc488_3936_x1d.fits\n",
        "Rootname obrc07030\n",
        "OBSMODE  ACCUM\n",
        "APERTURE 52X0.2\n",
        "OPT_ELEM G430M\n",
        "DETECTOR CCD\n"
       ]
      },
      {
       "output_type": "stream",
       "stream": "stdout",
       "text": [
        "\n",
        "XTRACTAB oref$n7p1031qo_1dx.fits\n",
        "XTRACTAB PEDIGREE=INFLIGHT 18/05/97\n",
        "XTRACTAB DESCRIP =Analysis from prop. 7094\n",
        "SPTRCTAB oref$qa31608go_1dt.fits\n",
        "\n",
        "Imset 1  Begin 16:24:16 EST\n"
       ]
      },
      {
       "output_type": "stream",
       "stream": "stdout",
       "text": [
        "         Input read into memory.\n",
        "         Offset of 14 low-res pixels added in dispersion direction\n",
        "Order 1  Begin 16:24:16 EST\n",
        "X1DCORR  PERFORM\n"
       ]
      },
      {
       "output_type": "stream",
       "stream": "stdout",
       "text": [
        "Warning  Cross correlation to locate spectrum failed.\n",
        "ERROR    Cannot extract.\n",
        "Warning  No rows were written; no table created.\n",
        "Imset 1  End 16:24:16 EST\n",
        "\n",
        "End      12-Nov-2012 16:24:16 EST\n",
        "\n",
        "*** CALSTIS-6 complete ***\n"
       ]
      },
      {
       "output_type": "stream",
       "stream": "stdout",
       "text": [
        "2012317162416-I--------------- CALSTIS-6 completed: OBRC07030 ------------------\n"
       ]
      },
      {
       "output_type": "stream",
       "stream": "stdout",
       "text": [
        "\n",
        "!/usr/stsci/stsci_iraf_x/stsdas/bin.macintel/cs6.e 'obrc07030_flt.fits' '/user/bostroem/science/12465_otfr20121109/ccd/extracted_spectra_fits/R136-NW3_loc488_3936_x1d.fits' -t -v -cte -disp -hel -flux -c 488.535274192 -r 0 -o1 12.0 -o2 12.0 -bm -bo 3 -a unweighted  -st 14.0\n"
       ]
      },
      {
       "output_type": "stream",
       "stream": "stdout",
       "text": [
        "\n",
        "*** CALSTIS-6 -- Version 2.40 (23-May-2012) ***\n",
        "Begin    12-Nov-2012 16:24:16 EST\n"
       ]
      },
      {
       "output_type": "stream",
       "stream": "stdout",
       "text": [
        "2012317162416-I--------------- CALSTIS-6 started -------------------------------\n",
        "\n",
        "Input    obrc07030_flt.fits\n",
        "Output   /user/bostroem/science/12465_otfr20121109/ccd/extracted_spectra_fits/R136-NW3_loc488_3936_x1d.fits\n",
        "Rootname obrc07030\n",
        "OBSMODE  ACCUM\n",
        "APERTURE 52X0.2\n",
        "OPT_ELEM G430M\n",
        "DETECTOR CCD\n"
       ]
      },
      {
       "output_type": "stream",
       "stream": "stdout",
       "text": [
        "\n",
        "XTRACTAB oref$n7p1031qo_1dx.fits\n",
        "XTRACTAB PEDIGREE=INFLIGHT 18/05/97\n",
        "XTRACTAB DESCRIP =Analysis from prop. 7094\n",
        "SPTRCTAB oref$qa31608go_1dt.fits\n",
        "\n",
        "Imset 1  Begin 16:24:16 EST\n"
       ]
      },
      {
       "output_type": "stream",
       "stream": "stdout",
       "text": [
        "         Input read into memory.\n",
        "         Offset of 14 low-res pixels added in dispersion direction\n",
        "Order 1  Begin 16:24:17 EST\n",
        "X1DCORR  PERFORM\n",
        "         Cross correlation offset: 0 pixels\n",
        "BACKCORR OMIT\n"
       ]
      },
      {
       "output_type": "stream",
       "stream": "stdout",
       "text": [
        "X1DCORR  COMPLETE\n",
        "2012317162417-I--------------- X1DCORR complete: OBRC07030 ---------------------\n",
        "         Spectrum extracted at y position = 488.535\n",
        "         Extraction box height = 7\n",
        "         Background box 1 height = 5 offset 12 from A2CENTER\n",
        "         Background box 2 height = 5 offset 12 from A2CENTER\n",
        "\n",
        "DISPCORR PERFORM\n",
        "DISPTAB  oref$l2j0137to_dsp.fits\n",
        "DISPTAB  PEDIGREE=INFLIGHT 27/02/1997 24/11/1999\n",
        "DISPTAB  DESCRIP =Lindler Postlaunch, May 2000\n",
        "APDESTAB oref$obm1723ro_apd.fits\n",
        "APDESTAB PEDIGREE=INFLIGHT 01/03/1997 01/03/1997\n",
        "APDESTAB DESCRIP =Microscope Meas./Hartig Post-launch Offsets\n",
        "INANGTAB oref$h5s11397o_iac.fits\n"
       ]
      },
      {
       "output_type": "stream",
       "stream": "stdout",
       "text": [
        "         Delta = 0.074666 arcsec.\n",
        "DISPCORR COMPLETE\n",
        "2012317162417-I--------------- DISPCORR complete: OBRC07030 --------------------\n",
        "\n",
        "HELCORR  PERFORM\n",
        "HELCORR  COMPLETE\n",
        "2012317162417-I--------------- HELCORR complete: OBRC07030 ---------------------\n",
        "\n",
        "PHOTTAB  oref$p822207no_pht.fits\n",
        "APERTAB  oref$n7p1032ao_apt.fits\n",
        "APERTAB  PEDIGREE=MODEL\n",
        "APERTAB  DESCRIP =Bohlin/Hartig TIM Models Nov. 1998\n",
        "PCTAB    oref$q541740oo_pct.fits\n",
        "TDSTAB   oref$t9a1003so_tds.fits\n"
       ]
      },
      {
       "output_type": "stream",
       "stream": "stdout",
       "text": [
        "FLUXCORR PERFORM\n",
        "CTECORR  PERFORM\n",
        "CCDTAB   oref$v6n13233o_ccd.fits\n",
        "CCDTAB   PEDIGREE=INFLIGHT 01/05/2009 01/05/2009\n",
        "CCDTAB   DESCRIP =Proposal 8057, by I. Dashevsky & P. Goudfrooij\n"
       ]
      },
      {
       "output_type": "stream",
       "stream": "stdout",
       "text": [
        "CTECORR  COMPLETE\n",
        "FLUXCORR COMPLETE\n",
        "2012317162417-I--------------- FLUXCORR complete: OBRC07030 --------------------\n",
        "\n",
        "SGEOCORR OMIT\n"
       ]
      },
      {
       "output_type": "stream",
       "stream": "stdout",
       "text": [
        "\n",
        "         Row 1 written to disk.\n",
        "Order 1  End 16:24:17 EST\n"
       ]
      },
      {
       "output_type": "stream",
       "stream": "stdout",
       "text": [
        "\n",
        "Imset 1  End 16:24:17 EST\n"
       ]
      },
      {
       "output_type": "stream",
       "stream": "stdout",
       "text": [
        "\n",
        "Warning  Keyword `XTRACALG' is being added to header.\n",
        "End      12-Nov-2012 16:24:17 EST\n",
        "\n",
        "*** CALSTIS-6 complete ***\n",
        "2012317162417-I--------------- CALSTIS-6 completed: OBRC07030 ------------------\n"
       ]
      },
      {
       "output_type": "stream",
       "stream": "stdout",
       "text": [
        "\n",
        "yloc = 522.632098"
       ]
      },
      {
       "output_type": "stream",
       "stream": "stdout",
       "text": [
        "\n",
        "!/usr/stsci/stsci_iraf_x/stsdas/bin.macintel/cs6.e 'obrc07030_flt.fits' '/user/bostroem/science/12465_otfr20121109/ccd/R136-NW3_loc522_3936_x1d.fits' -t -v -cte -disp -hel -flux -c 522.632098261 -r 4 -o1 12.0 -o2 12.0 -bm -bo 3 -a unweighted  -st 14.0\n"
       ]
      },
      {
       "output_type": "stream",
       "stream": "stdout",
       "text": [
        "\n",
        "*** CALSTIS-6 -- Version 2.40 (23-May-2012) ***\n",
        "Begin    12-Nov-2012 16:24:17 EST\n"
       ]
      },
      {
       "output_type": "stream",
       "stream": "stdout",
       "text": [
        "2012317162417-I--------------- CALSTIS-6 started -------------------------------\n",
        "\n",
        "Input    obrc07030_flt.fits\n",
        "Output   /user/bostroem/science/12465_otfr20121109/ccd/R136-NW3_loc522_3936_x1d.fits\n",
        "Rootname obrc07030\n",
        "OBSMODE  ACCUM\n",
        "APERTURE 52X0.2\n",
        "OPT_ELEM G430M\n",
        "DETECTOR CCD\n"
       ]
      },
      {
       "output_type": "stream",
       "stream": "stdout",
       "text": [
        "\n",
        "XTRACTAB oref$n7p1031qo_1dx.fits\n",
        "XTRACTAB PEDIGREE=INFLIGHT 18/05/97\n",
        "XTRACTAB DESCRIP =Analysis from prop. 7094\n",
        "SPTRCTAB oref$qa31608go_1dt.fits\n",
        "\n",
        "Imset 1  Begin 16:24:17 EST\n"
       ]
      },
      {
       "output_type": "stream",
       "stream": "stdout",
       "text": [
        "         Input read into memory.\n",
        "         Offset of 14 low-res pixels added in dispersion direction\n",
        "Order 1  Begin 16:24:17 EST\n",
        "X1DCORR  PERFORM\n"
       ]
      },
      {
       "output_type": "stream",
       "stream": "stdout",
       "text": [
        "Warning  Cross correlation to locate spectrum failed.\n",
        "ERROR    Cannot extract.\n",
        "Warning  No rows were written; no table created.\n",
        "Imset 1  End 16:24:17 EST\n",
        "\n",
        "End      12-Nov-2012 16:24:17 EST\n",
        "\n",
        "*** CALSTIS-6 complete ***\n",
        "2012317162417-I--------------- CALSTIS-6 completed: OBRC07030 ------------------\n"
       ]
      },
      {
       "output_type": "stream",
       "stream": "stdout",
       "text": [
        "\n",
        "!/usr/stsci/stsci_iraf_x/stsdas/bin.macintel/cs6.e 'obrc07030_flt.fits' '/user/bostroem/science/12465_otfr20121109/ccd/extracted_spectra_fits/R136-NW3_loc522_3936_x1d.fits' -t -v -cte -disp -hel -flux -c 522.632098261 -r 0 -o1 12.0 -o2 12.0 -bm -bo 3 -a unweighted  -st 14.0\n"
       ]
      },
      {
       "output_type": "stream",
       "stream": "stdout",
       "text": [
        "\n",
        "*** CALSTIS-6 -- Version 2.40 (23-May-2012) ***\n",
        "Begin    12-Nov-2012 16:24:17 EST\n"
       ]
      },
      {
       "output_type": "stream",
       "stream": "stdout",
       "text": [
        "2012317162417-I--------------- CALSTIS-6 started -------------------------------\n",
        "\n",
        "Input    obrc07030_flt.fits\n",
        "Output   /user/bostroem/science/12465_otfr20121109/ccd/extracted_spectra_fits/R136-NW3_loc522_3936_x1d.fits\n",
        "Rootname obrc07030\n",
        "OBSMODE  ACCUM\n",
        "APERTURE 52X0.2\n",
        "OPT_ELEM G430M\n",
        "DETECTOR CCD\n"
       ]
      },
      {
       "output_type": "stream",
       "stream": "stdout",
       "text": [
        "\n",
        "XTRACTAB oref$n7p1031qo_1dx.fits\n",
        "XTRACTAB PEDIGREE=INFLIGHT 18/05/97\n",
        "XTRACTAB DESCRIP =Analysis from prop. 7094\n",
        "SPTRCTAB oref$qa31608go_1dt.fits\n",
        "\n",
        "Imset 1  Begin 16:24:17 EST\n"
       ]
      },
      {
       "output_type": "stream",
       "stream": "stdout",
       "text": [
        "         Input read into memory.\n",
        "         Offset of 14 low-res pixels added in dispersion direction\n",
        "Order 1  Begin 16:24:18 EST\n",
        "X1DCORR  PERFORM\n"
       ]
      },
      {
       "output_type": "stream",
       "stream": "stdout",
       "text": [
        "         Cross correlation offset: 0 pixels\n",
        "BACKCORR OMIT\n"
       ]
      },
      {
       "output_type": "stream",
       "stream": "stdout",
       "text": [
        "X1DCORR  COMPLETE\n",
        "2012317162418-I--------------- X1DCORR complete: OBRC07030 ---------------------\n",
        "         Spectrum extracted at y position = 522.632\n",
        "         Extraction box height = 7\n",
        "         Background box 1 height = 5 offset 12 from A2CENTER\n",
        "         Background box 2 height = 5 offset 12 from A2CENTER\n",
        "\n",
        "DISPCORR PERFORM\n",
        "DISPTAB  oref$l2j0137to_dsp.fits\n",
        "DISPTAB  PEDIGREE=INFLIGHT 27/02/1997 24/11/1999\n",
        "DISPTAB  DESCRIP =Lindler Postlaunch, May 2000\n",
        "APDESTAB oref$obm1723ro_apd.fits\n",
        "APDESTAB PEDIGREE=INFLIGHT 01/03/1997 01/03/1997\n",
        "APDESTAB DESCRIP =Microscope Meas./Hartig Post-launch Offsets\n",
        "INANGTAB oref$h5s11397o_iac.fits\n"
       ]
      },
      {
       "output_type": "stream",
       "stream": "stdout",
       "text": [
        "         Delta = 0.074666 arcsec.\n",
        "DISPCORR COMPLETE\n",
        "2012317162418-I--------------- DISPCORR complete: OBRC07030 --------------------\n",
        "\n",
        "HELCORR  PERFORM\n",
        "HELCORR  COMPLETE\n",
        "2012317162418-I--------------- HELCORR complete: OBRC07030 ---------------------\n",
        "\n",
        "PHOTTAB  oref$p822207no_pht.fits\n",
        "APERTAB  oref$n7p1032ao_apt.fits\n",
        "APERTAB  PEDIGREE=MODEL\n",
        "APERTAB  DESCRIP =Bohlin/Hartig TIM Models Nov. 1998\n",
        "PCTAB    oref$q541740oo_pct.fits\n",
        "TDSTAB   oref$t9a1003so_tds.fits\n"
       ]
      },
      {
       "output_type": "stream",
       "stream": "stdout",
       "text": [
        "FLUXCORR PERFORM\n",
        "CTECORR  PERFORM\n",
        "CCDTAB   oref$v6n13233o_ccd.fits\n",
        "CCDTAB   PEDIGREE=INFLIGHT 01/05/2009 01/05/2009\n",
        "CCDTAB   DESCRIP =Proposal 8057, by I. Dashevsky & P. Goudfrooij\n"
       ]
      },
      {
       "output_type": "stream",
       "stream": "stdout",
       "text": [
        "CTECORR  COMPLETE\n",
        "FLUXCORR COMPLETE\n",
        "2012317162418-I--------------- FLUXCORR complete: OBRC07030 --------------------\n",
        "\n",
        "SGEOCORR OMIT\n"
       ]
      },
      {
       "output_type": "stream",
       "stream": "stdout",
       "text": [
        "\n",
        "         Row 1 written to disk.\n",
        "Order 1  End 16:24:18 EST\n"
       ]
      },
      {
       "output_type": "stream",
       "stream": "stdout",
       "text": [
        "\n",
        "Imset 1  End 16:24:18 EST\n"
       ]
      },
      {
       "output_type": "stream",
       "stream": "stdout",
       "text": [
        "\n",
        "Warning  Keyword `XTRACALG' is being added to header.\n",
        "End      12-Nov-2012 16:24:18 EST\n",
        "\n",
        "*** CALSTIS-6 complete ***\n",
        "2012317162418-I--------------- CALSTIS-6 completed: OBRC07030 ------------------\n"
       ]
      },
      {
       "output_type": "stream",
       "stream": "stdout",
       "text": [
        "\n",
        "yloc = 535.942193"
       ]
      },
      {
       "output_type": "stream",
       "stream": "stdout",
       "text": [
        "\n",
        "!/usr/stsci/stsci_iraf_x/stsdas/bin.macintel/cs6.e 'obrc07030_flt.fits' '/user/bostroem/science/12465_otfr20121109/ccd/R136-NW3_loc535_3936_x1d.fits' -t -v -cte -disp -hel -flux -c 535.942192842 -r 4 -o1 12.0 -o2 12.0 -bm -bo 3 -a unweighted  -st 14.0\n"
       ]
      },
      {
       "output_type": "stream",
       "stream": "stdout",
       "text": [
        "\n",
        "*** CALSTIS-6 -- Version 2.40 (23-May-2012) ***\n",
        "Begin    12-Nov-2012 16:24:18 EST\n"
       ]
      },
      {
       "output_type": "stream",
       "stream": "stdout",
       "text": [
        "2012317162418-I--------------- CALSTIS-6 started -------------------------------\n",
        "\n",
        "Input    obrc07030_flt.fits\n",
        "Output   /user/bostroem/science/12465_otfr20121109/ccd/R136-NW3_loc535_3936_x1d.fits\n",
        "Rootname obrc07030\n",
        "OBSMODE  ACCUM\n",
        "APERTURE 52X0.2\n",
        "OPT_ELEM G430M\n",
        "DETECTOR CCD\n"
       ]
      },
      {
       "output_type": "stream",
       "stream": "stdout",
       "text": [
        "\n",
        "XTRACTAB oref$n7p1031qo_1dx.fits\n",
        "XTRACTAB PEDIGREE=INFLIGHT 18/05/97\n",
        "XTRACTAB DESCRIP =Analysis from prop. 7094\n",
        "SPTRCTAB oref$qa31608go_1dt.fits\n",
        "\n",
        "Imset 1  Begin 16:24:18 EST\n"
       ]
      },
      {
       "output_type": "stream",
       "stream": "stdout",
       "text": [
        "         Input read into memory.\n",
        "         Offset of 14 low-res pixels added in dispersion direction\n",
        "Order 1  Begin 16:24:18 EST\n",
        "X1DCORR  PERFORM\n"
       ]
      },
      {
       "output_type": "stream",
       "stream": "stdout",
       "text": [
        "         Cross correlation offset: -2.02645 pixels\n",
        "BACKCORR OMIT\n"
       ]
      },
      {
       "output_type": "stream",
       "stream": "stdout",
       "text": [
        "X1DCORR  COMPLETE\n",
        "2012317162418-I--------------- X1DCORR complete: OBRC07030 ---------------------\n",
        "         Spectrum extracted at y position = 533.916\n",
        "         Extraction box height = 7\n",
        "         Background box 1 height = 5 offset 12 from A2CENTER\n",
        "         Background box 2 height = 5 offset 12 from A2CENTER\n",
        "\n",
        "DISPCORR PERFORM\n",
        "DISPTAB  oref$l2j0137to_dsp.fits\n",
        "DISPTAB  PEDIGREE=INFLIGHT 27/02/1997 24/11/1999\n",
        "DISPTAB  DESCRIP =Lindler Postlaunch, May 2000\n",
        "APDESTAB oref$obm1723ro_apd.fits\n",
        "APDESTAB PEDIGREE=INFLIGHT 01/03/1997 01/03/1997\n",
        "APDESTAB DESCRIP =Microscope Meas./Hartig Post-launch Offsets\n",
        "INANGTAB oref$h5s11397o_iac.fits\n"
       ]
      },
      {
       "output_type": "stream",
       "stream": "stdout",
       "text": [
        "         Delta = 0.074666 arcsec.\n",
        "DISPCORR COMPLETE\n",
        "2012317162418-I--------------- DISPCORR complete: OBRC07030 --------------------\n",
        "\n",
        "HELCORR  PERFORM\n",
        "HELCORR  COMPLETE\n",
        "2012317162418-I--------------- HELCORR complete: OBRC07030 ---------------------\n",
        "\n",
        "PHOTTAB  oref$p822207no_pht.fits\n",
        "APERTAB  oref$n7p1032ao_apt.fits\n",
        "APERTAB  PEDIGREE=MODEL\n",
        "APERTAB  DESCRIP =Bohlin/Hartig TIM Models Nov. 1998\n",
        "PCTAB    oref$q541740oo_pct.fits\n",
        "TDSTAB   oref$t9a1003so_tds.fits\n"
       ]
      },
      {
       "output_type": "stream",
       "stream": "stdout",
       "text": [
        "FLUXCORR PERFORM\n",
        "CTECORR  PERFORM\n",
        "CCDTAB   oref$v6n13233o_ccd.fits\n",
        "CCDTAB   PEDIGREE=INFLIGHT 01/05/2009 01/05/2009\n",
        "CCDTAB   DESCRIP =Proposal 8057, by I. Dashevsky & P. Goudfrooij\n"
       ]
      },
      {
       "output_type": "stream",
       "stream": "stdout",
       "text": [
        "CTECORR  COMPLETE\n",
        "FLUXCORR COMPLETE\n",
        "2012317162418-I--------------- FLUXCORR complete: OBRC07030 --------------------\n",
        "\n",
        "SGEOCORR OMIT\n"
       ]
      },
      {
       "output_type": "stream",
       "stream": "stdout",
       "text": [
        "\n",
        "         Row 1 written to disk.\n",
        "Order 1  End 16:24:18 EST\n"
       ]
      },
      {
       "output_type": "stream",
       "stream": "stdout",
       "text": [
        "\n",
        "Imset 1  End 16:24:18 EST\n"
       ]
      },
      {
       "output_type": "stream",
       "stream": "stdout",
       "text": [
        "\n",
        "Warning  Keyword `XTRACALG' is being added to header.\n",
        "End      12-Nov-2012 16:24:18 EST\n",
        "\n",
        "*** CALSTIS-6 complete ***\n",
        "2012317162418-I--------------- CALSTIS-6 completed: OBRC07030 ------------------\n"
       ]
      },
      {
       "output_type": "stream",
       "stream": "stdout",
       "text": [
        "\n",
        "!/usr/stsci/stsci_iraf_x/stsdas/bin.macintel/cs6.e 'obrc07030_flt.fits' '/user/bostroem/science/12465_otfr20121109/ccd/extracted_spectra_fits/R136-NW3_loc535_3936_x1d.fits' -t -v -cte -disp -hel -flux -c 535.942192842 -r 0 -o1 12.0 -o2 12.0 -bm -bo 3 -a unweighted  -st 14.0\n"
       ]
      },
      {
       "output_type": "stream",
       "stream": "stdout",
       "text": [
        "\n",
        "*** CALSTIS-6 -- Version 2.40 (23-May-2012) ***\n",
        "Begin    12-Nov-2012 16:24:19 EST\n"
       ]
      },
      {
       "output_type": "stream",
       "stream": "stdout",
       "text": [
        "2012317162419-I--------------- CALSTIS-6 started -------------------------------\n",
        "\n",
        "Input    obrc07030_flt.fits\n",
        "Output   /user/bostroem/science/12465_otfr20121109/ccd/extracted_spectra_fits/R136-NW3_loc535_3936_x1d.fits\n",
        "Rootname obrc07030\n",
        "OBSMODE  ACCUM\n",
        "APERTURE 52X0.2\n",
        "OPT_ELEM G430M\n",
        "DETECTOR CCD\n"
       ]
      },
      {
       "output_type": "stream",
       "stream": "stdout",
       "text": [
        "\n",
        "XTRACTAB oref$n7p1031qo_1dx.fits\n",
        "XTRACTAB PEDIGREE=INFLIGHT 18/05/97\n",
        "XTRACTAB DESCRIP =Analysis from prop. 7094\n",
        "SPTRCTAB oref$qa31608go_1dt.fits\n",
        "\n",
        "Imset 1  Begin 16:24:19 EST\n"
       ]
      },
      {
       "output_type": "stream",
       "stream": "stdout",
       "text": [
        "         Input read into memory.\n",
        "         Offset of 14 low-res pixels added in dispersion direction\n",
        "Order 1  Begin 16:24:19 EST\n",
        "X1DCORR  PERFORM\n"
       ]
      },
      {
       "output_type": "stream",
       "stream": "stdout",
       "text": [
        "         Cross correlation offset: 0 pixels\n",
        "BACKCORR OMIT\n"
       ]
      },
      {
       "output_type": "stream",
       "stream": "stdout",
       "text": [
        "X1DCORR  COMPLETE\n",
        "2012317162419-I--------------- X1DCORR complete: OBRC07030 ---------------------\n",
        "         Spectrum extracted at y position = 535.942\n",
        "         Extraction box height = 7\n",
        "         Background box 1 height = 5 offset 12 from A2CENTER\n",
        "         Background box 2 height = 5 offset 12 from A2CENTER\n",
        "\n",
        "DISPCORR PERFORM\n",
        "DISPTAB  oref$l2j0137to_dsp.fits\n",
        "DISPTAB  PEDIGREE=INFLIGHT 27/02/1997 24/11/1999\n",
        "DISPTAB  DESCRIP =Lindler Postlaunch, May 2000\n",
        "APDESTAB oref$obm1723ro_apd.fits\n",
        "APDESTAB PEDIGREE=INFLIGHT 01/03/1997 01/03/1997\n",
        "APDESTAB DESCRIP =Microscope Meas./Hartig Post-launch Offsets\n",
        "INANGTAB oref$h5s11397o_iac.fits\n"
       ]
      },
      {
       "output_type": "stream",
       "stream": "stdout",
       "text": [
        "         Delta = 0.074666 arcsec.\n",
        "DISPCORR COMPLETE\n",
        "2012317162419-I--------------- DISPCORR complete: OBRC07030 --------------------\n",
        "\n",
        "HELCORR  PERFORM\n",
        "HELCORR  COMPLETE\n",
        "2012317162419-I--------------- HELCORR complete: OBRC07030 ---------------------\n",
        "\n",
        "PHOTTAB  oref$p822207no_pht.fits\n",
        "APERTAB  oref$n7p1032ao_apt.fits\n",
        "APERTAB  PEDIGREE=MODEL\n",
        "APERTAB  DESCRIP =Bohlin/Hartig TIM Models Nov. 1998\n",
        "PCTAB    oref$q541740oo_pct.fits\n",
        "TDSTAB   oref$t9a1003so_tds.fits\n"
       ]
      },
      {
       "output_type": "stream",
       "stream": "stdout",
       "text": [
        "FLUXCORR PERFORM\n",
        "CTECORR  PERFORM\n",
        "CCDTAB   oref$v6n13233o_ccd.fits\n",
        "CCDTAB   PEDIGREE=INFLIGHT 01/05/2009 01/05/2009\n",
        "CCDTAB   DESCRIP =Proposal 8057, by I. Dashevsky & P. Goudfrooij\n"
       ]
      },
      {
       "output_type": "stream",
       "stream": "stdout",
       "text": [
        "CTECORR  COMPLETE\n",
        "FLUXCORR COMPLETE\n",
        "2012317162419-I--------------- FLUXCORR complete: OBRC07030 --------------------\n",
        "\n",
        "SGEOCORR OMIT\n"
       ]
      },
      {
       "output_type": "stream",
       "stream": "stdout",
       "text": [
        "\n",
        "         Row 1 written to disk.\n",
        "Order 1  End 16:24:19 EST\n"
       ]
      },
      {
       "output_type": "stream",
       "stream": "stdout",
       "text": [
        "\n",
        "Imset 1  End 16:24:19 EST\n"
       ]
      },
      {
       "output_type": "stream",
       "stream": "stdout",
       "text": [
        "\n",
        "Warning  Keyword `XTRACALG' is being added to header.\n",
        "End      12-Nov-2012 16:24:19 EST\n",
        "\n",
        "*** CALSTIS-6 complete ***\n",
        "2012317162419-I--------------- CALSTIS-6 completed: OBRC07030 ------------------\n"
       ]
      },
      {
       "output_type": "stream",
       "stream": "stdout",
       "text": [
        "\n",
        "4\n",
        "$$$$$$$$$$$$$$$$$$$$$$$$plotting$$$$$$$$$$$$$$$$$$$$$$$"
       ]
      },
      {
       "output_type": "stream",
       "stream": "stdout",
       "text": [
        "\n",
        "$$$$$$$$$$$$$$$$$$$$$$$$plotting$$$$$$$$$$$$$$$$$$$$$$$"
       ]
      },
      {
       "output_type": "stream",
       "stream": "stdout",
       "text": [
        "\n",
        "$$$$$$$$$$$$$$$$$$$$$$$$plotting$$$$$$$$$$$$$$$$$$$$$$$"
       ]
      },
      {
       "output_type": "stream",
       "stream": "stdout",
       "text": [
        "\n",
        "$$$$$$$$$$$$$$$$$$$$$$$$plotting$$$$$$$$$$$$$$$$$$$$$$$"
       ]
      },
      {
       "output_type": "stream",
       "stream": "stdout",
       "text": [
        "\n",
        "['obrc01050_flt.fits', 'obrc01060_flt.fits']"
       ]
      },
      {
       "output_type": "stream",
       "stream": "stdout",
       "text": [
        " -69.10115\n",
        "Found offset of 7"
       ]
      },
      {
       "output_type": "stream",
       "stream": "stdout",
       "text": [
        "\n",
        "#############################R136-SE7######################"
       ]
      },
      {
       "output_type": "stream",
       "stream": "stderr",
       "text": [
        "Legend does not support [<matplotlib.lines.Line2D object at 0x1116ddb50>]\n",
        "Use proxy artist instead.\n",
        "\n",
        "http://matplotlib.sourceforge.net/users/legend_guide.html#using-proxy-artist\n",
        "\n",
        "Legend does not support [<matplotlib.lines.Line2D object at 0x112000d90>]\n",
        "Use proxy artist instead.\n",
        "\n",
        "http://matplotlib.sourceforge.net/users/legend_guide.html#using-proxy-artist\n",
        "\n",
        "Legend does not support [<matplotlib.lines.Line2D object at 0x112000ad0>]\n",
        "Use proxy artist instead.\n",
        "\n",
        "http://matplotlib.sourceforge.net/users/legend_guide.html#using-proxy-artist\n",
        "\n",
        "Legend does not support [<matplotlib.lines.Line2D object at 0x113328410>]\n",
        "Use proxy artist instead.\n",
        "\n",
        "http://matplotlib.sourceforge.net/users/legend_guide.html#using-proxy-artist\n",
        "\n",
        "Overwriting existing file 'R136-SE7_3936_combined_img.fits'.\n"
       ]
      },
      {
       "output_type": "stream",
       "stream": "stdout",
       "text": [
        "\n",
        "[  2.35617060e+05   5.57482302e+02   3.72458396e+00   7.77131069e+03\n",
        "   4.46237992e+01  -4.24232101e-02   4.11646482e-06]"
       ]
      },
      {
       "output_type": "stream",
       "stream": "stdout",
       "text": [
        "\n",
        "Less than 3 points between 4 - 6"
       ]
      },
      {
       "output_type": "stream",
       "stream": "stdout",
       "text": [
        "\n",
        "Less than 3 points between 11 - 13\n",
        "Less than 3 points between 24 - 25\n",
        "Less than 3 points between 31 - 32\n",
        "Less than 3 points between 33 - 35\n",
        "Less than 3 points between 37 - 38\n",
        "Less than 3 points between 40 - 42\n",
        "Less than 3 points between 44 - 46\n",
        "Less than 3 points between 47 - 48\n",
        "Less than 3 points between 61 - 62\n",
        "Less than 3 points between 73 - 74\n",
        "Less than 3 points between 77 - 78\n",
        "Less than 3 points between 80 - 81\n",
        "Less than 3 points between 85 - 86\n",
        "Less than 3 points between 88 - 89\n",
        "Less than 3 points between 124 - 125\n",
        "Less than 3 points between 131 - 132\n",
        "Less than 3 points between 139 - 140\n",
        "Less than 3 points between 143 - 144\n",
        "Less than 3 points between 146 - 147\n",
        "Less than 3 points between 155 - 156\n",
        "Less than 3 points between 163 - 164\n",
        "Less than 3 points between 187 - 188\n",
        "Less than 3 points between 194 - 195\n",
        "Less than 3 points between 203 - 204\n",
        "Less than 3 points between 207 - 208\n",
        "Less than 3 points between 214 - 215\n",
        "Less than 3 points between 248 - 249\n",
        "Less than 3 points between 255 - 256\n",
        "Less than 3 points between 277 - 278\n",
        "Less than 3 points between 300 - 301\n",
        "Less than 3 points between 331 - 334\n",
        "Less than 3 points between 336 - 339\n",
        "Less than 3 points between 341 - 342\n",
        "Less than 3 points between 349 - 350\n",
        "Less than 3 points between 357 - 360\n",
        "Less than 3 points between 376 - 377\n",
        "Less than 3 points between 386 - 387\n",
        "Less than 3 points between 388 - 389\n",
        "Less than 3 points between 397 - 399\n",
        "Less than 3 points between 439 - 440\n",
        "Less than 3 points between 468 - 471\n",
        "Less than 3 points between 472 - 473\n",
        "[  1.07291886e+05   5.10543581e+02  -5.58254791e+00]\n",
        "Less than 3 points between 538 - 539\n",
        "Less than 3 points between 543 - 544\n",
        "Less than 3 points between 545 - 546\n",
        "Less than 3 points between 567 - 569\n",
        "Less than 3 points between 570 - 571\n",
        "Less than 3 points between 574 - 576\n",
        "error\n",
        "error calculating fit for 620 - 624, skipping\n",
        "error"
       ]
      },
      {
       "output_type": "stream",
       "stream": "stdout",
       "text": [
        "\n",
        "error calculating fit for 625 - 634, skipping\n",
        "Less than 3 points between 655 - 656\n",
        "Less than 3 points between 663 - 664\n",
        "Less than 3 points between 693 - 694\n",
        "Less than 3 points between 725 - 726\n",
        "Less than 3 points between 729 - 731\n",
        "Less than 3 points between 740 - 741\n",
        "Less than 3 points between 747 - 748\n",
        "Less than 3 points between 752 - 753\n",
        "Less than 3 points between 799 - 800\n",
        "Less than 3 points between 801 - 802\n",
        "Less than 3 points between 823 - 824\n",
        "Less than 3 points between 830 - 831\n",
        "Less than 3 points between 836 - 837\n",
        "Less than 3 points between 876 - 877\n",
        "Less than 3 points between 883 - 885\n",
        "Less than 3 points between 887 - 888\n",
        "Less than 3 points between 895 - 896\n",
        "Less than 3 points between 902 - 903\n",
        "Less than 3 points between 925 - 926\n",
        "Less than 3 points between 936 - 937\n",
        "[  5.13060319e+04   9.39788031e+02   5.51693101e+00]\n",
        "Less than 3 points between 945 - 946\n",
        "Less than 3 points between 947 - 948\n",
        "Less than 3 points between 970 - 971\n",
        "Less than 3 points between 974 - 976\n",
        "error\n",
        "error calculating fit for 993 - 997, skipping\n",
        "[510.54358102862284, 939.78803129914684]\n",
        "yloc = 510.543581"
       ]
      },
      {
       "output_type": "stream",
       "stream": "stdout",
       "text": [
        "\n",
        "!/usr/stsci/stsci_iraf_x/stsdas/bin.macintel/cs6.e 'obrc01050_flt.fits' '/user/bostroem/science/12465_otfr20121109/ccd/R136-SE7_loc510_3936_x1d.fits' -t -v -cte -disp -hel -flux -c 510.543581029 -r 4 -o1 12.0 -o2 12.0 -bm -bo 3 -a unweighted  -st 14.0\n"
       ]
      },
      {
       "output_type": "stream",
       "stream": "stdout",
       "text": [
        "\n",
        "*** CALSTIS-6 -- Version 2.40 (23-May-2012) ***\n",
        "Begin    12-Nov-2012 16:24:24 EST\n"
       ]
      },
      {
       "output_type": "stream",
       "stream": "stdout",
       "text": [
        "2012317162424-I--------------- CALSTIS-6 started -------------------------------\n",
        "\n",
        "Input    obrc01050_flt.fits\n",
        "Output   /user/bostroem/science/12465_otfr20121109/ccd/R136-SE7_loc510_3936_x1d.fits\n",
        "Rootname obrc01050\n",
        "OBSMODE  ACCUM\n",
        "APERTURE 52X0.2\n",
        "OPT_ELEM G430M\n",
        "DETECTOR CCD\n"
       ]
      },
      {
       "output_type": "stream",
       "stream": "stdout",
       "text": [
        "\n",
        "XTRACTAB oref$n7p1031qo_1dx.fits\n",
        "XTRACTAB PEDIGREE=INFLIGHT 18/05/97\n",
        "XTRACTAB DESCRIP =Analysis from prop. 7094\n",
        "SPTRCTAB oref$qa31608go_1dt.fits\n",
        "\n",
        "Imset 1  Begin 16:24:24 EST\n"
       ]
      },
      {
       "output_type": "stream",
       "stream": "stdout",
       "text": [
        "         Input read into memory.\n",
        "         Offset of 14 low-res pixels added in dispersion direction\n",
        "Order 1  Begin 16:24:25 EST\n",
        "X1DCORR  PERFORM\n"
       ]
      },
      {
       "output_type": "stream",
       "stream": "stdout",
       "text": [
        "         Cross correlation offset: -0.548229 pixels\n",
        "BACKCORR OMIT\n"
       ]
      },
      {
       "output_type": "stream",
       "stream": "stdout",
       "text": [
        "X1DCORR  COMPLETE\n",
        "2012317162425-I--------------- X1DCORR complete: OBRC01050 ---------------------\n",
        "         Spectrum extracted at y position = 509.995\n",
        "         Extraction box height = 7\n",
        "         Background box 1 height = 5 offset 12 from A2CENTER\n",
        "         Background box 2 height = 5 offset 12 from A2CENTER\n",
        "\n",
        "DISPCORR PERFORM\n",
        "DISPTAB  oref$l2j0137to_dsp.fits\n",
        "DISPTAB  PEDIGREE=INFLIGHT 27/02/1997 24/11/1999\n",
        "DISPTAB  DESCRIP =Lindler Postlaunch, May 2000\n",
        "APDESTAB oref$obm1723ro_apd.fits\n",
        "APDESTAB PEDIGREE=INFLIGHT 01/03/1997 01/03/1997\n",
        "APDESTAB DESCRIP =Microscope Meas./Hartig Post-launch Offsets\n",
        "INANGTAB oref$h5s11397o_iac.fits\n"
       ]
      },
      {
       "output_type": "stream",
       "stream": "stdout",
       "text": [
        "         Delta = 0.074666 arcsec.\n",
        "DISPCORR COMPLETE\n",
        "2012317162425-I--------------- DISPCORR complete: OBRC01050 --------------------\n",
        "\n",
        "HELCORR  PERFORM\n",
        "HELCORR  COMPLETE\n",
        "2012317162425-I--------------- HELCORR complete: OBRC01050 ---------------------\n",
        "\n",
        "PHOTTAB  oref$p822207no_pht.fits\n",
        "APERTAB  oref$n7p1032ao_apt.fits\n",
        "APERTAB  PEDIGREE=MODEL\n",
        "APERTAB  DESCRIP =Bohlin/Hartig TIM Models Nov. 1998\n",
        "PCTAB    oref$q541740oo_pct.fits\n",
        "TDSTAB   oref$t9a1003so_tds.fits\n"
       ]
      },
      {
       "output_type": "stream",
       "stream": "stdout",
       "text": [
        "FLUXCORR PERFORM\n",
        "CTECORR  PERFORM\n",
        "CCDTAB   oref$v6n13233o_ccd.fits\n",
        "CCDTAB   PEDIGREE=INFLIGHT 01/05/2009 01/05/2009\n",
        "CCDTAB   DESCRIP =Proposal 8057, by I. Dashevsky & P. Goudfrooij\n"
       ]
      },
      {
       "output_type": "stream",
       "stream": "stdout",
       "text": [
        "CTECORR  COMPLETE\n",
        "FLUXCORR COMPLETE\n",
        "2012317162425-I--------------- FLUXCORR complete: OBRC01050 --------------------\n",
        "\n",
        "SGEOCORR OMIT\n"
       ]
      },
      {
       "output_type": "stream",
       "stream": "stdout",
       "text": [
        "\n",
        "         Row 1 written to disk.\n",
        "Order 1  End 16:24:25 EST\n"
       ]
      },
      {
       "output_type": "stream",
       "stream": "stdout",
       "text": [
        "\n",
        "Imset 1  End 16:24:25 EST\n"
       ]
      },
      {
       "output_type": "stream",
       "stream": "stdout",
       "text": [
        "\n",
        "Warning  Keyword `XTRACALG' is being added to header.\n",
        "End      12-Nov-2012 16:24:25 EST\n",
        "\n",
        "*** CALSTIS-6 complete ***\n",
        "2012317162425-I--------------- CALSTIS-6 completed: OBRC01050 ------------------\n"
       ]
      },
      {
       "output_type": "stream",
       "stream": "stdout",
       "text": [
        "\n",
        "!/usr/stsci/stsci_iraf_x/stsdas/bin.macintel/cs6.e 'obrc01050_flt.fits' '/user/bostroem/science/12465_otfr20121109/ccd/extracted_spectra_fits/R136-SE7_loc510_3936_x1d.fits' -t -v -cte -disp -hel -flux -c 510.543581029 -r 0 -o1 12.0 -o2 12.0 -bm -bo 3 -a unweighted  -st 14.0\n"
       ]
      },
      {
       "output_type": "stream",
       "stream": "stdout",
       "text": [
        "\n",
        "*** CALSTIS-6 -- Version 2.40 (23-May-2012) ***\n",
        "Begin    12-Nov-2012 16:24:25 EST\n"
       ]
      },
      {
       "output_type": "stream",
       "stream": "stdout",
       "text": [
        "2012317162425-I--------------- CALSTIS-6 started -------------------------------\n",
        "\n",
        "Input    obrc01050_flt.fits\n",
        "Output   /user/bostroem/science/12465_otfr20121109/ccd/extracted_spectra_fits/R136-SE7_loc510_3936_x1d.fits\n",
        "Rootname obrc01050\n",
        "OBSMODE  ACCUM\n",
        "APERTURE 52X0.2\n",
        "OPT_ELEM G430M\n",
        "DETECTOR CCD\n"
       ]
      },
      {
       "output_type": "stream",
       "stream": "stdout",
       "text": [
        "\n",
        "XTRACTAB oref$n7p1031qo_1dx.fits\n",
        "XTRACTAB PEDIGREE=INFLIGHT 18/05/97\n",
        "XTRACTAB DESCRIP =Analysis from prop. 7094\n",
        "SPTRCTAB oref$qa31608go_1dt.fits\n",
        "\n",
        "Imset 1  Begin 16:24:25 EST\n"
       ]
      },
      {
       "output_type": "stream",
       "stream": "stdout",
       "text": [
        "         Input read into memory.\n",
        "         Offset of 14 low-res pixels added in dispersion direction\n",
        "Order 1  Begin 16:24:25 EST\n",
        "X1DCORR  PERFORM\n"
       ]
      },
      {
       "output_type": "stream",
       "stream": "stdout",
       "text": [
        "         Cross correlation offset: 0 pixels\n",
        "BACKCORR OMIT\n"
       ]
      },
      {
       "output_type": "stream",
       "stream": "stdout",
       "text": [
        "X1DCORR  COMPLETE\n",
        "2012317162425-I--------------- X1DCORR complete: OBRC01050 ---------------------\n",
        "         Spectrum extracted at y position = 510.544\n",
        "         Extraction box height = 7\n",
        "         Background box 1 height = 5 offset 12 from A2CENTER\n",
        "         Background box 2 height = 5 offset 12 from A2CENTER\n",
        "\n",
        "DISPCORR PERFORM\n",
        "DISPTAB  oref$l2j0137to_dsp.fits\n",
        "DISPTAB  PEDIGREE=INFLIGHT 27/02/1997 24/11/1999\n",
        "DISPTAB  DESCRIP =Lindler Postlaunch, May 2000\n",
        "APDESTAB oref$obm1723ro_apd.fits\n",
        "APDESTAB PEDIGREE=INFLIGHT 01/03/1997 01/03/1997\n",
        "APDESTAB DESCRIP =Microscope Meas./Hartig Post-launch Offsets\n",
        "INANGTAB oref$h5s11397o_iac.fits\n"
       ]
      },
      {
       "output_type": "stream",
       "stream": "stdout",
       "text": [
        "         Delta = 0.074666 arcsec.\n",
        "DISPCORR COMPLETE\n",
        "2012317162425-I--------------- DISPCORR complete: OBRC01050 --------------------\n",
        "\n",
        "HELCORR  PERFORM\n",
        "HELCORR  COMPLETE\n",
        "2012317162425-I--------------- HELCORR complete: OBRC01050 ---------------------\n",
        "\n",
        "PHOTTAB  oref$p822207no_pht.fits\n",
        "APERTAB  oref$n7p1032ao_apt.fits\n",
        "APERTAB  PEDIGREE=MODEL\n",
        "APERTAB  DESCRIP =Bohlin/Hartig TIM Models Nov. 1998\n",
        "PCTAB    oref$q541740oo_pct.fits\n",
        "TDSTAB   oref$t9a1003so_tds.fits\n"
       ]
      },
      {
       "output_type": "stream",
       "stream": "stdout",
       "text": [
        "FLUXCORR PERFORM\n",
        "CTECORR  PERFORM\n",
        "CCDTAB   oref$v6n13233o_ccd.fits\n",
        "CCDTAB   PEDIGREE=INFLIGHT 01/05/2009 01/05/2009\n",
        "CCDTAB   DESCRIP =Proposal 8057, by I. Dashevsky & P. Goudfrooij\n"
       ]
      },
      {
       "output_type": "stream",
       "stream": "stdout",
       "text": [
        "CTECORR  COMPLETE\n",
        "FLUXCORR COMPLETE\n",
        "2012317162425-I--------------- FLUXCORR complete: OBRC01050 --------------------\n",
        "\n",
        "SGEOCORR OMIT\n"
       ]
      },
      {
       "output_type": "stream",
       "stream": "stdout",
       "text": [
        "\n",
        "         Row 1 written to disk.\n",
        "Order 1  End 16:24:25 EST\n"
       ]
      },
      {
       "output_type": "stream",
       "stream": "stdout",
       "text": [
        "\n",
        "Imset 1  End 16:24:25 EST\n"
       ]
      },
      {
       "output_type": "stream",
       "stream": "stdout",
       "text": [
        "\n",
        "Warning  Keyword `XTRACALG' is being added to header.\n",
        "End      12-Nov-2012 16:24:25 EST\n",
        "\n",
        "*** CALSTIS-6 complete ***\n",
        "2012317162425-I--------------- CALSTIS-6 completed: OBRC01050 ------------------\n"
       ]
      },
      {
       "output_type": "stream",
       "stream": "stdout",
       "text": [
        "\n",
        "yloc = 939.788031"
       ]
      },
      {
       "output_type": "stream",
       "stream": "stdout",
       "text": [
        "\n",
        "!/usr/stsci/stsci_iraf_x/stsdas/bin.macintel/cs6.e 'obrc01050_flt.fits' '/user/bostroem/science/12465_otfr20121109/ccd/R136-SE7_loc939_3936_x1d.fits' -t -v -cte -disp -hel -flux -c 939.788031299 -r 4 -o1 12.0 -o2 12.0 -bm -bo 3 -a unweighted  -st 14.0\n"
       ]
      },
      {
       "output_type": "stream",
       "stream": "stdout",
       "text": [
        "\n",
        "*** CALSTIS-6 -- Version 2.40 (23-May-2012) ***\n",
        "Begin    12-Nov-2012 16:24:26 EST\n"
       ]
      },
      {
       "output_type": "stream",
       "stream": "stdout",
       "text": [
        "2012317162426-I--------------- CALSTIS-6 started -------------------------------\n",
        "\n",
        "Input    obrc01050_flt.fits\n",
        "Output   /user/bostroem/science/12465_otfr20121109/ccd/R136-SE7_loc939_3936_x1d.fits\n",
        "Rootname obrc01050\n",
        "OBSMODE  ACCUM\n",
        "APERTURE 52X0.2\n",
        "OPT_ELEM G430M\n",
        "DETECTOR CCD\n"
       ]
      },
      {
       "output_type": "stream",
       "stream": "stdout",
       "text": [
        "\n",
        "XTRACTAB oref$n7p1031qo_1dx.fits\n",
        "XTRACTAB PEDIGREE=INFLIGHT 18/05/97\n",
        "XTRACTAB DESCRIP =Analysis from prop. 7094\n",
        "SPTRCTAB oref$qa31608go_1dt.fits\n",
        "\n",
        "Imset 1  Begin 16:24:26 EST\n"
       ]
      },
      {
       "output_type": "stream",
       "stream": "stdout",
       "text": [
        "         Input read into memory.\n",
        "         Offset of 14 low-res pixels added in dispersion direction\n",
        "Order 1  Begin 16:24:26 EST\n",
        "X1DCORR  PERFORM\n"
       ]
      },
      {
       "output_type": "stream",
       "stream": "stdout",
       "text": [
        "         Cross correlation offset: -3.00939 pixels\n",
        "BACKCORR OMIT\n"
       ]
      },
      {
       "output_type": "stream",
       "stream": "stdout",
       "text": [
        "X1DCORR  COMPLETE\n",
        "2012317162426-I--------------- X1DCORR complete: OBRC01050 ---------------------\n",
        "         Spectrum extracted at y position = 936.779\n",
        "         Extraction box height = 7\n",
        "         Background box 1 height = 5 offset 12 from A2CENTER\n",
        "         Background box 2 height = 5 offset 12 from A2CENTER\n",
        "\n",
        "DISPCORR PERFORM\n",
        "DISPTAB  oref$l2j0137to_dsp.fits\n",
        "DISPTAB  PEDIGREE=INFLIGHT 27/02/1997 24/11/1999\n",
        "DISPTAB  DESCRIP =Lindler Postlaunch, May 2000\n",
        "APDESTAB oref$obm1723ro_apd.fits\n",
        "APDESTAB PEDIGREE=INFLIGHT 01/03/1997 01/03/1997\n",
        "APDESTAB DESCRIP =Microscope Meas./Hartig Post-launch Offsets\n",
        "INANGTAB oref$h5s11397o_iac.fits\n"
       ]
      },
      {
       "output_type": "stream",
       "stream": "stdout",
       "text": [
        "         Delta = 0.074666 arcsec.\n",
        "DISPCORR COMPLETE\n",
        "2012317162426-I--------------- DISPCORR complete: OBRC01050 --------------------\n",
        "\n",
        "HELCORR  PERFORM\n",
        "HELCORR  COMPLETE\n",
        "2012317162426-I--------------- HELCORR complete: OBRC01050 ---------------------\n",
        "\n",
        "PHOTTAB  oref$p822207no_pht.fits\n",
        "APERTAB  oref$n7p1032ao_apt.fits\n",
        "APERTAB  PEDIGREE=MODEL\n",
        "APERTAB  DESCRIP =Bohlin/Hartig TIM Models Nov. 1998\n",
        "PCTAB    oref$q541740oo_pct.fits\n",
        "TDSTAB   oref$t9a1003so_tds.fits\n"
       ]
      },
      {
       "output_type": "stream",
       "stream": "stdout",
       "text": [
        "FLUXCORR PERFORM\n",
        "CTECORR  PERFORM\n",
        "CCDTAB   oref$v6n13233o_ccd.fits\n",
        "CCDTAB   PEDIGREE=INFLIGHT 01/05/2009 01/05/2009\n",
        "CCDTAB   DESCRIP =Proposal 8057, by I. Dashevsky & P. Goudfrooij\n"
       ]
      },
      {
       "output_type": "stream",
       "stream": "stdout",
       "text": [
        "CTECORR  COMPLETE\n",
        "FLUXCORR COMPLETE\n",
        "2012317162426-I--------------- FLUXCORR complete: OBRC01050 --------------------\n",
        "\n",
        "SGEOCORR OMIT\n"
       ]
      },
      {
       "output_type": "stream",
       "stream": "stdout",
       "text": [
        "\n",
        "         Row 1 written to disk.\n",
        "Order 1  End 16:24:26 EST\n"
       ]
      },
      {
       "output_type": "stream",
       "stream": "stdout",
       "text": [
        "\n",
        "Imset 1  End 16:24:26 EST\n"
       ]
      },
      {
       "output_type": "stream",
       "stream": "stdout",
       "text": [
        "\n",
        "Warning  Keyword `XTRACALG' is being added to header.\n",
        "End      12-Nov-2012 16:24:26 EST\n",
        "\n",
        "*** CALSTIS-6 complete ***\n",
        "2012317162426-I--------------- CALSTIS-6 completed: OBRC01050 ------------------\n"
       ]
      },
      {
       "output_type": "stream",
       "stream": "stdout",
       "text": [
        "\n",
        "!/usr/stsci/stsci_iraf_x/stsdas/bin.macintel/cs6.e 'obrc01050_flt.fits' '/user/bostroem/science/12465_otfr20121109/ccd/extracted_spectra_fits/R136-SE7_loc939_3936_x1d.fits' -t -v -cte -disp -hel -flux -c 939.788031299 -r 0 -o1 12.0 -o2 12.0 -bm -bo 3 -a unweighted  -st 14.0\n"
       ]
      },
      {
       "output_type": "stream",
       "stream": "stdout",
       "text": [
        "\n",
        "*** CALSTIS-6 -- Version 2.40 (23-May-2012) ***\n",
        "Begin    12-Nov-2012 16:24:26 EST\n"
       ]
      },
      {
       "output_type": "stream",
       "stream": "stdout",
       "text": [
        "2012317162426-I--------------- CALSTIS-6 started -------------------------------\n",
        "\n",
        "Input    obrc01050_flt.fits\n",
        "Output   /user/bostroem/science/12465_otfr20121109/ccd/extracted_spectra_fits/R136-SE7_loc939_3936_x1d.fits\n",
        "Rootname obrc01050\n",
        "OBSMODE  ACCUM\n",
        "APERTURE 52X0.2\n",
        "OPT_ELEM G430M\n",
        "DETECTOR CCD\n"
       ]
      },
      {
       "output_type": "stream",
       "stream": "stdout",
       "text": [
        "\n",
        "XTRACTAB oref$n7p1031qo_1dx.fits\n",
        "XTRACTAB PEDIGREE=INFLIGHT 18/05/97\n",
        "XTRACTAB DESCRIP =Analysis from prop. 7094\n",
        "SPTRCTAB oref$qa31608go_1dt.fits\n",
        "\n",
        "Imset 1  Begin 16:24:26 EST\n"
       ]
      },
      {
       "output_type": "stream",
       "stream": "stdout",
       "text": [
        "         Input read into memory.\n",
        "         Offset of 14 low-res pixels added in dispersion direction\n",
        "Order 1  Begin 16:24:26 EST\n",
        "X1DCORR  PERFORM\n"
       ]
      },
      {
       "output_type": "stream",
       "stream": "stdout",
       "text": [
        "         Cross correlation offset: 0 pixels\n",
        "BACKCORR OMIT\n"
       ]
      },
      {
       "output_type": "stream",
       "stream": "stdout",
       "text": [
        "X1DCORR  COMPLETE\n",
        "2012317162426-I--------------- X1DCORR complete: OBRC01050 ---------------------\n",
        "         Spectrum extracted at y position = 939.788\n",
        "         Extraction box height = 7\n",
        "         Background box 1 height = 5 offset 12 from A2CENTER\n",
        "         Background box 2 height = 5 offset 12 from A2CENTER\n",
        "\n",
        "DISPCORR PERFORM\n",
        "DISPTAB  oref$l2j0137to_dsp.fits\n",
        "DISPTAB  PEDIGREE=INFLIGHT 27/02/1997 24/11/1999\n",
        "DISPTAB  DESCRIP =Lindler Postlaunch, May 2000\n",
        "APDESTAB oref$obm1723ro_apd.fits\n",
        "APDESTAB PEDIGREE=INFLIGHT 01/03/1997 01/03/1997\n",
        "APDESTAB DESCRIP =Microscope Meas./Hartig Post-launch Offsets\n",
        "INANGTAB oref$h5s11397o_iac.fits\n"
       ]
      },
      {
       "output_type": "stream",
       "stream": "stdout",
       "text": [
        "         Delta = 0.074666 arcsec.\n",
        "DISPCORR COMPLETE\n",
        "2012317162426-I--------------- DISPCORR complete: OBRC01050 --------------------\n",
        "\n",
        "HELCORR  PERFORM\n",
        "HELCORR  COMPLETE\n",
        "2012317162426-I--------------- HELCORR complete: OBRC01050 ---------------------\n",
        "\n",
        "PHOTTAB  oref$p822207no_pht.fits\n",
        "APERTAB  oref$n7p1032ao_apt.fits\n",
        "APERTAB  PEDIGREE=MODEL\n",
        "APERTAB  DESCRIP =Bohlin/Hartig TIM Models Nov. 1998\n",
        "PCTAB    oref$q541740oo_pct.fits\n",
        "TDSTAB   oref$t9a1003so_tds.fits\n"
       ]
      },
      {
       "output_type": "stream",
       "stream": "stdout",
       "text": [
        "FLUXCORR PERFORM\n",
        "CTECORR  PERFORM\n",
        "CCDTAB   oref$v6n13233o_ccd.fits\n",
        "CCDTAB   PEDIGREE=INFLIGHT 01/05/2009 01/05/2009\n",
        "CCDTAB   DESCRIP =Proposal 8057, by I. Dashevsky & P. Goudfrooij\n"
       ]
      },
      {
       "output_type": "stream",
       "stream": "stdout",
       "text": [
        "CTECORR  COMPLETE\n",
        "FLUXCORR COMPLETE\n",
        "2012317162426-I--------------- FLUXCORR complete: OBRC01050 --------------------\n",
        "\n",
        "SGEOCORR OMIT\n"
       ]
      },
      {
       "output_type": "stream",
       "stream": "stdout",
       "text": [
        "\n",
        "         Row 1 written to disk.\n",
        "Order 1  End 16:24:26 EST\n"
       ]
      },
      {
       "output_type": "stream",
       "stream": "stdout",
       "text": [
        "\n",
        "Imset 1  End 16:24:26 EST\n"
       ]
      },
      {
       "output_type": "stream",
       "stream": "stdout",
       "text": [
        "\n",
        "Warning  Keyword `XTRACALG' is being added to header.\n",
        "End      12-Nov-2012 16:24:26 EST\n",
        "\n",
        "*** CALSTIS-6 complete ***\n",
        "2012317162426-I--------------- CALSTIS-6 completed: OBRC01050 ------------------\n"
       ]
      },
      {
       "output_type": "stream",
       "stream": "stdout",
       "text": [
        "\n",
        "2\n",
        "$$$$$$$$$$$$$$$$$$$$$$$$plotting$$$$$$$$$$$$$$$$$$$$$$$"
       ]
      },
      {
       "output_type": "stream",
       "stream": "stdout",
       "text": [
        "\n",
        "$$$$$$$$$$$$$$$$$$$$$$$$plotting$$$$$$$$$$$$$$$$$$$$$$$"
       ]
      },
      {
       "output_type": "stream",
       "stream": "stdout",
       "text": [
        "\n",
        "['obrc010f0_flt.fits', 'obrc010g0_flt.fits']"
       ]
      },
      {
       "output_type": "stream",
       "stream": "stdout",
       "text": [
        " -69.1009\n",
        "Found offset of 7"
       ]
      },
      {
       "output_type": "stream",
       "stream": "stdout",
       "text": [
        "\n",
        "#############################R136-SE2######################"
       ]
      },
      {
       "output_type": "stream",
       "stream": "stderr",
       "text": [
        "Legend does not support [<matplotlib.lines.Line2D object at 0x112117a50>]\n",
        "Use proxy artist instead.\n",
        "\n",
        "http://matplotlib.sourceforge.net/users/legend_guide.html#using-proxy-artist\n",
        "\n",
        "Legend does not support [<matplotlib.lines.Line2D object at 0x1122faa10>]\n",
        "Use proxy artist instead.\n",
        "\n",
        "http://matplotlib.sourceforge.net/users/legend_guide.html#using-proxy-artist\n",
        "\n",
        "Legend does not support [<matplotlib.lines.Line2D object at 0x1122fae90>]\n",
        "Use proxy artist instead.\n",
        "\n",
        "http://matplotlib.sourceforge.net/users/legend_guide.html#using-proxy-artist\n",
        "\n",
        "Legend does not support [<matplotlib.lines.Line2D object at 0x112739690>]\n",
        "Use proxy artist instead.\n",
        "\n",
        "http://matplotlib.sourceforge.net/users/legend_guide.html#using-proxy-artist\n",
        "\n",
        "Overwriting existing file 'R136-SE2_3936_combined_img.fits'.\n"
       ]
      },
      {
       "output_type": "stream",
       "stream": "stdout",
       "text": [
        "\n",
        "[  2.07171351e+05   5.33236729e+02   2.04867552e+01   1.10291139e+04\n",
        "   1.25892128e+01   9.52057799e-04  -8.92679323e-06]"
       ]
      },
      {
       "output_type": "stream",
       "stream": "stdout",
       "text": [
        "\n",
        "Less than 3 points between 4 - 5"
       ]
      },
      {
       "output_type": "stream",
       "stream": "stdout",
       "text": [
        "\n",
        "Less than 3 points between 11 - 12\n",
        "Less than 3 points between 18 - 19\n",
        "Less than 3 points between 31 - 32\n",
        "Less than 3 points between 33 - 36\n",
        "Less than 3 points between 40 - 42\n",
        "Less than 3 points between 46 - 48\n",
        "Less than 3 points between 51 - 53\n",
        "Less than 3 points between 73 - 74\n",
        "Less than 3 points between 77 - 78\n",
        "Less than 3 points between 80 - 81\n",
        "Less than 3 points between 85 - 86\n",
        "Less than 3 points between 88 - 89\n",
        "Less than 3 points between 98 - 99\n",
        "Less than 3 points between 103 - 104\n",
        "Less than 3 points between 124 - 125\n",
        "Less than 3 points between 129 - 130\n",
        "Less than 3 points between 131 - 132\n",
        "Less than 3 points between 146 - 147\n",
        "Less than 3 points between 149 - 150\n",
        "Less than 3 points between 175 - 176\n",
        "Less than 3 points between 184 - 185\n",
        "Less than 3 points between 187 - 188\n",
        "Less than 3 points between 191 - 192\n",
        "Less than 3 points between 194 - 195\n",
        "Less than 3 points between 196 - 197\n",
        "Less than 3 points between 203 - 204\n",
        "Less than 3 points between 207 - 208\n",
        "Less than 3 points between 239 - 241\n",
        "Less than 3 points between 302 - 303\n",
        "Less than 3 points between 304 - 305\n",
        "Less than 3 points between 309 - 310\n",
        "Less than 3 points between 334 - 335\n",
        "[  5.57553884e+04   3.65267904e+02   1.24462938e+01]\n",
        "Less than 3 points between 386 - 387\n",
        "Less than 3 points between 388 - 391\n",
        "Less than 3 points between 395 - 396\n",
        "Less than 3 points between 397 - 399\n",
        "Less than 3 points between 427 - 428\n",
        "Less than 3 points between 439 - 440\n",
        "Less than 3 points between 446 - 448\n",
        "Less than 3 points between 477 - 479\n",
        "Less than 3 points between 589 - 590\n",
        "Less than 3 points between 598 - 600\n",
        "error\n",
        "error calculating fit for 619 - 635, skipping\n",
        "Less than 3 points between 658 - 659\n",
        "Less than 3 points between 675 - 676\n",
        "Less than 3 points between 686 - 687\n",
        "Less than 3 points between 733 - 734\n",
        "Less than 3 points between 744 - 745\n",
        "Less than 3 points between 747 - 748\n",
        "Less than 3 points between 752 - 753\n",
        "Less than 3 points between 754 - 755\n",
        "Less than 3 points between 759 - 762\n",
        "Less than 3 points between 779 - 780\n",
        "Less than 3 points between 790 - 791\n",
        "Less than 3 points between 799 - 800\n",
        "Less than 3 points between 807 - 808\n",
        "Less than 3 points between 821 - 822\n",
        "Less than 3 points between 829 - 831\n",
        "Less than 3 points between 837 - 838\n",
        "Less than 3 points between 844 - 845\n",
        "Less than 3 points between 846 - 847\n",
        "Less than 3 points between 853 - 854\n",
        "Less than 3 points between 872 - 873\n",
        "Less than 3 points between 915 - 916\n",
        "Less than 3 points between 923 - 924\n",
        "Less than 3 points between 944 - 946\n",
        "Less than 3 points between 979 - 980\n",
        "Less than 3 points between 982 - 984\n",
        "Less than 3 points between 992 - 994\n",
        "[  8.07693180e+04   1.00652497e+03  -2.19076225e+00]\n",
        "Less than 3 points between 1027 - 1028\n",
        "[365.26790396998393, 1006.5249658808063]\n",
        "yloc = 365.267904"
       ]
      },
      {
       "output_type": "stream",
       "stream": "stdout",
       "text": [
        "\n",
        "!/usr/stsci/stsci_iraf_x/stsdas/bin.macintel/cs6.e 'obrc010f0_flt.fits' '/user/bostroem/science/12465_otfr20121109/ccd/R136-SE2_loc365_3936_x1d.fits' -t -v -cte -disp -hel -flux -c 365.26790397 -r 4 -o1 12.0 -o2 12.0 -bm -bo 3 -a unweighted  -st 14.0\n"
       ]
      },
      {
       "output_type": "stream",
       "stream": "stdout",
       "text": [
        "\n",
        "*** CALSTIS-6 -- Version 2.40 (23-May-2012) ***\n",
        "Begin    12-Nov-2012 16:24:31 EST\n"
       ]
      },
      {
       "output_type": "stream",
       "stream": "stdout",
       "text": [
        "2012317162431-I--------------- CALSTIS-6 started -------------------------------\n",
        "\n",
        "Input    obrc010f0_flt.fits\n",
        "Output   /user/bostroem/science/12465_otfr20121109/ccd/R136-SE2_loc365_3936_x1d.fits\n",
        "Rootname obrc010f0\n",
        "OBSMODE  ACCUM\n",
        "APERTURE 52X0.2\n",
        "OPT_ELEM G430M\n",
        "DETECTOR CCD\n"
       ]
      },
      {
       "output_type": "stream",
       "stream": "stdout",
       "text": [
        "\n",
        "XTRACTAB oref$n7p1031qo_1dx.fits\n",
        "XTRACTAB PEDIGREE=INFLIGHT 18/05/97\n",
        "XTRACTAB DESCRIP =Analysis from prop. 7094\n",
        "SPTRCTAB oref$qa31608go_1dt.fits\n",
        "\n",
        "Imset 1  Begin 16:24:31 EST\n"
       ]
      },
      {
       "output_type": "stream",
       "stream": "stdout",
       "text": [
        "         Input read into memory.\n",
        "         Offset of 14 low-res pixels added in dispersion direction\n",
        "Order 1  Begin 16:24:32 EST\n",
        "X1DCORR  PERFORM\n"
       ]
      },
      {
       "output_type": "stream",
       "stream": "stdout",
       "text": [
        "         Cross correlation offset: 0.408925 pixels\n",
        "BACKCORR OMIT\n"
       ]
      },
      {
       "output_type": "stream",
       "stream": "stdout",
       "text": [
        "X1DCORR  COMPLETE\n",
        "2012317162432-I--------------- X1DCORR complete: OBRC010F0 ---------------------\n",
        "         Spectrum extracted at y position = 365.677\n",
        "         Extraction box height = 7\n",
        "         Background box 1 height = 5 offset 12 from A2CENTER\n",
        "         Background box 2 height = 5 offset 12 from A2CENTER\n",
        "\n",
        "DISPCORR PERFORM\n",
        "DISPTAB  oref$l2j0137to_dsp.fits\n",
        "DISPTAB  PEDIGREE=INFLIGHT 27/02/1997 24/11/1999\n",
        "DISPTAB  DESCRIP =Lindler Postlaunch, May 2000\n",
        "APDESTAB oref$obm1723ro_apd.fits\n",
        "APDESTAB PEDIGREE=INFLIGHT 01/03/1997 01/03/1997\n",
        "APDESTAB DESCRIP =Microscope Meas./Hartig Post-launch Offsets\n",
        "INANGTAB oref$h5s11397o_iac.fits\n"
       ]
      },
      {
       "output_type": "stream",
       "stream": "stdout",
       "text": [
        "         Delta = 0.074666 arcsec.\n",
        "DISPCORR COMPLETE\n",
        "2012317162432-I--------------- DISPCORR complete: OBRC010F0 --------------------\n",
        "\n",
        "HELCORR  PERFORM\n",
        "HELCORR  COMPLETE\n",
        "2012317162432-I--------------- HELCORR complete: OBRC010F0 ---------------------\n",
        "\n",
        "PHOTTAB  oref$p822207no_pht.fits\n",
        "APERTAB  oref$n7p1032ao_apt.fits\n",
        "APERTAB  PEDIGREE=MODEL\n",
        "APERTAB  DESCRIP =Bohlin/Hartig TIM Models Nov. 1998\n",
        "PCTAB    oref$q541740oo_pct.fits\n",
        "TDSTAB   oref$t9a1003so_tds.fits\n"
       ]
      },
      {
       "output_type": "stream",
       "stream": "stdout",
       "text": [
        "FLUXCORR PERFORM\n",
        "CTECORR  PERFORM\n",
        "CCDTAB   oref$v6n13233o_ccd.fits\n",
        "CCDTAB   PEDIGREE=INFLIGHT 01/05/2009 01/05/2009\n",
        "CCDTAB   DESCRIP =Proposal 8057, by I. Dashevsky & P. Goudfrooij\n"
       ]
      },
      {
       "output_type": "stream",
       "stream": "stdout",
       "text": [
        "CTECORR  COMPLETE\n",
        "FLUXCORR COMPLETE\n",
        "2012317162432-I--------------- FLUXCORR complete: OBRC010F0 --------------------\n",
        "\n",
        "SGEOCORR OMIT\n"
       ]
      },
      {
       "output_type": "stream",
       "stream": "stdout",
       "text": [
        "\n",
        "         Row 1 written to disk.\n",
        "Order 1  End 16:24:32 EST\n"
       ]
      },
      {
       "output_type": "stream",
       "stream": "stdout",
       "text": [
        "\n",
        "Imset 1  End 16:24:32 EST\n"
       ]
      },
      {
       "output_type": "stream",
       "stream": "stdout",
       "text": [
        "\n",
        "Warning  Keyword `XTRACALG' is being added to header.\n",
        "End      12-Nov-2012 16:24:32 EST\n",
        "\n",
        "*** CALSTIS-6 complete ***\n",
        "2012317162432-I--------------- CALSTIS-6 completed: OBRC010F0 ------------------\n"
       ]
      },
      {
       "output_type": "stream",
       "stream": "stdout",
       "text": [
        "\n",
        "!/usr/stsci/stsci_iraf_x/stsdas/bin.macintel/cs6.e 'obrc010f0_flt.fits' '/user/bostroem/science/12465_otfr20121109/ccd/extracted_spectra_fits/R136-SE2_loc365_3936_x1d.fits' -t -v -cte -disp -hel -flux -c 365.26790397 -r 0 -o1 12.0 -o2 12.0 -bm -bo 3 -a unweighted  -st 14.0\n"
       ]
      },
      {
       "output_type": "stream",
       "stream": "stdout",
       "text": [
        "\n",
        "*** CALSTIS-6 -- Version 2.40 (23-May-2012) ***\n",
        "Begin    12-Nov-2012 16:24:32 EST\n"
       ]
      },
      {
       "output_type": "stream",
       "stream": "stdout",
       "text": [
        "2012317162432-I--------------- CALSTIS-6 started -------------------------------\n",
        "\n",
        "Input    obrc010f0_flt.fits\n",
        "Output   /user/bostroem/science/12465_otfr20121109/ccd/extracted_spectra_fits/R136-SE2_loc365_3936_x1d.fits\n",
        "Rootname obrc010f0\n",
        "OBSMODE  ACCUM\n",
        "APERTURE 52X0.2\n",
        "OPT_ELEM G430M\n",
        "DETECTOR CCD\n"
       ]
      },
      {
       "output_type": "stream",
       "stream": "stdout",
       "text": [
        "\n",
        "XTRACTAB oref$n7p1031qo_1dx.fits\n",
        "XTRACTAB PEDIGREE=INFLIGHT 18/05/97\n",
        "XTRACTAB DESCRIP =Analysis from prop. 7094\n",
        "SPTRCTAB oref$qa31608go_1dt.fits\n",
        "\n",
        "Imset 1  Begin 16:24:32 EST\n"
       ]
      },
      {
       "output_type": "stream",
       "stream": "stdout",
       "text": [
        "         Input read into memory.\n",
        "         Offset of 14 low-res pixels added in dispersion direction\n",
        "Order 1  Begin 16:24:32 EST\n",
        "X1DCORR  PERFORM\n"
       ]
      },
      {
       "output_type": "stream",
       "stream": "stdout",
       "text": [
        "         Cross correlation offset: 0 pixels\n",
        "BACKCORR OMIT\n"
       ]
      },
      {
       "output_type": "stream",
       "stream": "stdout",
       "text": [
        "X1DCORR  COMPLETE\n",
        "2012317162432-I--------------- X1DCORR complete: OBRC010F0 ---------------------\n",
        "         Spectrum extracted at y position = 365.268\n",
        "         Extraction box height = 7\n",
        "         Background box 1 height = 5 offset 12 from A2CENTER\n",
        "         Background box 2 height = 5 offset 12 from A2CENTER\n",
        "\n",
        "DISPCORR PERFORM\n",
        "DISPTAB  oref$l2j0137to_dsp.fits\n",
        "DISPTAB  PEDIGREE=INFLIGHT 27/02/1997 24/11/1999\n",
        "DISPTAB  DESCRIP =Lindler Postlaunch, May 2000\n",
        "APDESTAB oref$obm1723ro_apd.fits\n",
        "APDESTAB PEDIGREE=INFLIGHT 01/03/1997 01/03/1997\n",
        "APDESTAB DESCRIP =Microscope Meas./Hartig Post-launch Offsets\n",
        "INANGTAB oref$h5s11397o_iac.fits\n"
       ]
      },
      {
       "output_type": "stream",
       "stream": "stdout",
       "text": [
        "         Delta = 0.074666 arcsec.\n",
        "DISPCORR COMPLETE\n",
        "2012317162432-I--------------- DISPCORR complete: OBRC010F0 --------------------\n",
        "\n",
        "HELCORR  PERFORM\n",
        "HELCORR  COMPLETE\n",
        "2012317162432-I--------------- HELCORR complete: OBRC010F0 ---------------------\n",
        "\n",
        "PHOTTAB  oref$p822207no_pht.fits\n",
        "APERTAB  oref$n7p1032ao_apt.fits\n",
        "APERTAB  PEDIGREE=MODEL\n",
        "APERTAB  DESCRIP =Bohlin/Hartig TIM Models Nov. 1998\n",
        "PCTAB    oref$q541740oo_pct.fits\n",
        "TDSTAB   oref$t9a1003so_tds.fits\n"
       ]
      },
      {
       "output_type": "stream",
       "stream": "stdout",
       "text": [
        "FLUXCORR PERFORM\n",
        "CTECORR  PERFORM\n",
        "CCDTAB   oref$v6n13233o_ccd.fits\n",
        "CCDTAB   PEDIGREE=INFLIGHT 01/05/2009 01/05/2009\n",
        "CCDTAB   DESCRIP =Proposal 8057, by I. Dashevsky & P. Goudfrooij\n"
       ]
      },
      {
       "output_type": "stream",
       "stream": "stdout",
       "text": [
        "CTECORR  COMPLETE\n",
        "FLUXCORR COMPLETE\n",
        "2012317162432-I--------------- FLUXCORR complete: OBRC010F0 --------------------\n",
        "\n",
        "SGEOCORR OMIT\n"
       ]
      },
      {
       "output_type": "stream",
       "stream": "stdout",
       "text": [
        "\n",
        "         Row 1 written to disk.\n",
        "Order 1  End 16:24:32 EST\n"
       ]
      },
      {
       "output_type": "stream",
       "stream": "stdout",
       "text": [
        "\n",
        "Imset 1  End 16:24:32 EST\n"
       ]
      },
      {
       "output_type": "stream",
       "stream": "stdout",
       "text": [
        "\n",
        "Warning  Keyword `XTRACALG' is being added to header.\n",
        "End      12-Nov-2012 16:24:32 EST\n",
        "\n",
        "*** CALSTIS-6 complete ***\n",
        "2012317162432-I--------------- CALSTIS-6 completed: OBRC010F0 ------------------\n"
       ]
      },
      {
       "output_type": "stream",
       "stream": "stdout",
       "text": [
        "\n",
        "yloc = 1006.524966"
       ]
      },
      {
       "output_type": "stream",
       "stream": "stdout",
       "text": [
        "\n",
        "!/usr/stsci/stsci_iraf_x/stsdas/bin.macintel/cs6.e 'obrc010f0_flt.fits' '/user/bostroem/science/12465_otfr20121109/ccd/R136-SE2_loc1006_3936_x1d.fits' -t -v -cte -disp -hel -flux -c 1006.52496588 -r 4 -o1 12.0 -o2 12.0 -bm -bo 3 -a unweighted  -st 14.0\n"
       ]
      },
      {
       "output_type": "stream",
       "stream": "stdout",
       "text": [
        "\n",
        "*** CALSTIS-6 -- Version 2.40 (23-May-2012) ***\n",
        "Begin    12-Nov-2012 16:24:33 EST\n"
       ]
      },
      {
       "output_type": "stream",
       "stream": "stdout",
       "text": [
        "2012317162433-I--------------- CALSTIS-6 started -------------------------------\n",
        "\n",
        "Input    obrc010f0_flt.fits\n",
        "Output   /user/bostroem/science/12465_otfr20121109/ccd/R136-SE2_loc1006_3936_x1d.fits\n",
        "Rootname obrc010f0\n",
        "OBSMODE  ACCUM\n",
        "APERTURE 52X0.2\n",
        "OPT_ELEM G430M\n",
        "DETECTOR CCD\n"
       ]
      },
      {
       "output_type": "stream",
       "stream": "stdout",
       "text": [
        "\n",
        "XTRACTAB oref$n7p1031qo_1dx.fits\n",
        "XTRACTAB PEDIGREE=INFLIGHT 18/05/97\n",
        "XTRACTAB DESCRIP =Analysis from prop. 7094\n",
        "SPTRCTAB oref$qa31608go_1dt.fits\n",
        "\n",
        "Imset 1  Begin 16:24:33 EST\n"
       ]
      },
      {
       "output_type": "stream",
       "stream": "stdout",
       "text": [
        "         Input read into memory.\n",
        "         Offset of 14 low-res pixels added in dispersion direction\n",
        "Order 1  Begin 16:24:33 EST\n",
        "X1DCORR  PERFORM\n"
       ]
      },
      {
       "output_type": "stream",
       "stream": "stdout",
       "text": [
        "         Cross correlation offset: -2.0469 pixels\n",
        "BACKCORR OMIT\n"
       ]
      },
      {
       "output_type": "stream",
       "stream": "stdout",
       "text": [
        "X1DCORR  COMPLETE\n",
        "2012317162433-I--------------- X1DCORR complete: OBRC010F0 ---------------------\n",
        "         Spectrum extracted at y position = 1004.48\n",
        "         Extraction box height = 7\n",
        "         Background box 1 height = 5 offset 12 from A2CENTER\n",
        "         Background box 2 height = 5 offset 12 from A2CENTER\n",
        "\n",
        "DISPCORR PERFORM\n",
        "DISPTAB  oref$l2j0137to_dsp.fits\n",
        "DISPTAB  PEDIGREE=INFLIGHT 27/02/1997 24/11/1999\n",
        "DISPTAB  DESCRIP =Lindler Postlaunch, May 2000\n",
        "APDESTAB oref$obm1723ro_apd.fits\n",
        "APDESTAB PEDIGREE=INFLIGHT 01/03/1997 01/03/1997\n",
        "APDESTAB DESCRIP =Microscope Meas./Hartig Post-launch Offsets\n",
        "INANGTAB oref$h5s11397o_iac.fits\n"
       ]
      },
      {
       "output_type": "stream",
       "stream": "stdout",
       "text": [
        "         Delta = 0.074666 arcsec.\n",
        "DISPCORR COMPLETE\n",
        "2012317162433-I--------------- DISPCORR complete: OBRC010F0 --------------------\n",
        "\n",
        "HELCORR  PERFORM\n",
        "HELCORR  COMPLETE\n",
        "2012317162433-I--------------- HELCORR complete: OBRC010F0 ---------------------\n",
        "\n",
        "PHOTTAB  oref$p822207no_pht.fits\n",
        "APERTAB  oref$n7p1032ao_apt.fits\n",
        "APERTAB  PEDIGREE=MODEL\n",
        "APERTAB  DESCRIP =Bohlin/Hartig TIM Models Nov. 1998\n",
        "PCTAB    oref$q541740oo_pct.fits\n",
        "TDSTAB   oref$t9a1003so_tds.fits\n"
       ]
      },
      {
       "output_type": "stream",
       "stream": "stdout",
       "text": [
        "FLUXCORR PERFORM\n",
        "CTECORR  PERFORM\n",
        "CCDTAB   oref$v6n13233o_ccd.fits\n",
        "CCDTAB   PEDIGREE=INFLIGHT 01/05/2009 01/05/2009\n",
        "CCDTAB   DESCRIP =Proposal 8057, by I. Dashevsky & P. Goudfrooij\n"
       ]
      },
      {
       "output_type": "stream",
       "stream": "stdout",
       "text": [
        "CTECORR  COMPLETE\n",
        "FLUXCORR COMPLETE\n",
        "2012317162433-I--------------- FLUXCORR complete: OBRC010F0 --------------------\n",
        "\n",
        "SGEOCORR OMIT\n"
       ]
      },
      {
       "output_type": "stream",
       "stream": "stdout",
       "text": [
        "\n",
        "         Row 1 written to disk.\n",
        "Order 1  End 16:24:33 EST\n"
       ]
      },
      {
       "output_type": "stream",
       "stream": "stdout",
       "text": [
        "\n",
        "Imset 1  End 16:24:33 EST\n"
       ]
      },
      {
       "output_type": "stream",
       "stream": "stdout",
       "text": [
        "\n",
        "Warning  Keyword `XTRACALG' is being added to header.\n",
        "End      12-Nov-2012 16:24:33 EST\n",
        "\n",
        "*** CALSTIS-6 complete ***\n",
        "2012317162433-I--------------- CALSTIS-6 completed: OBRC010F0 ------------------\n"
       ]
      },
      {
       "output_type": "stream",
       "stream": "stdout",
       "text": [
        "\n",
        "!/usr/stsci/stsci_iraf_x/stsdas/bin.macintel/cs6.e 'obrc010f0_flt.fits' '/user/bostroem/science/12465_otfr20121109/ccd/extracted_spectra_fits/R136-SE2_loc1006_3936_x1d.fits' -t -v -cte -disp -hel -flux -c 1006.52496588 -r 0 -o1 12.0 -o2 12.0 -bm -bo 3 -a unweighted  -st 14.0\n"
       ]
      },
      {
       "output_type": "stream",
       "stream": "stdout",
       "text": [
        "\n",
        "*** CALSTIS-6 -- Version 2.40 (23-May-2012) ***\n",
        "Begin    12-Nov-2012 16:24:33 EST\n"
       ]
      },
      {
       "output_type": "stream",
       "stream": "stdout",
       "text": [
        "2012317162433-I--------------- CALSTIS-6 started -------------------------------\n",
        "\n",
        "Input    obrc010f0_flt.fits\n",
        "Output   /user/bostroem/science/12465_otfr20121109/ccd/extracted_spectra_fits/R136-SE2_loc1006_3936_x1d.fits\n",
        "Rootname obrc010f0\n",
        "OBSMODE  ACCUM\n",
        "APERTURE 52X0.2\n",
        "OPT_ELEM G430M\n",
        "DETECTOR CCD\n"
       ]
      },
      {
       "output_type": "stream",
       "stream": "stdout",
       "text": [
        "\n",
        "XTRACTAB oref$n7p1031qo_1dx.fits\n",
        "XTRACTAB PEDIGREE=INFLIGHT 18/05/97\n",
        "XTRACTAB DESCRIP =Analysis from prop. 7094\n",
        "SPTRCTAB oref$qa31608go_1dt.fits\n",
        "\n",
        "Imset 1  Begin 16:24:33 EST\n"
       ]
      },
      {
       "output_type": "stream",
       "stream": "stdout",
       "text": [
        "         Input read into memory.\n",
        "         Offset of 14 low-res pixels added in dispersion direction\n",
        "Order 1  Begin 16:24:33 EST\n",
        "X1DCORR  PERFORM\n"
       ]
      },
      {
       "output_type": "stream",
       "stream": "stdout",
       "text": [
        "         Cross correlation offset: 0 pixels\n",
        "BACKCORR OMIT\n"
       ]
      },
      {
       "output_type": "stream",
       "stream": "stdout",
       "text": [
        "X1DCORR  COMPLETE\n",
        "2012317162433-I--------------- X1DCORR complete: OBRC010F0 ---------------------\n",
        "         Spectrum extracted at y position = 1006.52\n",
        "         Extraction box height = 7\n",
        "         Background box 1 height = 5 offset 12 from A2CENTER\n",
        "         Background box 2 height = 5 offset 12 from A2CENTER\n",
        "\n",
        "DISPCORR PERFORM\n",
        "DISPTAB  oref$l2j0137to_dsp.fits\n",
        "DISPTAB  PEDIGREE=INFLIGHT 27/02/1997 24/11/1999\n",
        "DISPTAB  DESCRIP =Lindler Postlaunch, May 2000\n",
        "APDESTAB oref$obm1723ro_apd.fits\n",
        "APDESTAB PEDIGREE=INFLIGHT 01/03/1997 01/03/1997\n",
        "APDESTAB DESCRIP =Microscope Meas./Hartig Post-launch Offsets\n",
        "INANGTAB oref$h5s11397o_iac.fits\n"
       ]
      },
      {
       "output_type": "stream",
       "stream": "stdout",
       "text": [
        "         Delta = 0.074666 arcsec.\n",
        "DISPCORR COMPLETE\n",
        "2012317162433-I--------------- DISPCORR complete: OBRC010F0 --------------------\n",
        "\n",
        "HELCORR  PERFORM\n",
        "HELCORR  COMPLETE\n",
        "2012317162433-I--------------- HELCORR complete: OBRC010F0 ---------------------\n",
        "\n",
        "PHOTTAB  oref$p822207no_pht.fits\n",
        "APERTAB  oref$n7p1032ao_apt.fits\n",
        "APERTAB  PEDIGREE=MODEL\n",
        "APERTAB  DESCRIP =Bohlin/Hartig TIM Models Nov. 1998\n",
        "PCTAB    oref$q541740oo_pct.fits\n",
        "TDSTAB   oref$t9a1003so_tds.fits\n"
       ]
      },
      {
       "output_type": "stream",
       "stream": "stdout",
       "text": [
        "FLUXCORR PERFORM\n",
        "CTECORR  PERFORM\n",
        "CCDTAB   oref$v6n13233o_ccd.fits\n",
        "CCDTAB   PEDIGREE=INFLIGHT 01/05/2009 01/05/2009\n",
        "CCDTAB   DESCRIP =Proposal 8057, by I. Dashevsky & P. Goudfrooij\n"
       ]
      },
      {
       "output_type": "stream",
       "stream": "stdout",
       "text": [
        "CTECORR  COMPLETE\n",
        "FLUXCORR COMPLETE\n",
        "2012317162433-I--------------- FLUXCORR complete: OBRC010F0 --------------------\n",
        "\n",
        "SGEOCORR OMIT\n"
       ]
      },
      {
       "output_type": "stream",
       "stream": "stdout",
       "text": [
        "\n",
        "         Row 1 written to disk.\n",
        "Order 1  End 16:24:33 EST\n"
       ]
      },
      {
       "output_type": "stream",
       "stream": "stdout",
       "text": [
        "\n",
        "Imset 1  End 16:24:33 EST\n"
       ]
      },
      {
       "output_type": "stream",
       "stream": "stdout",
       "text": [
        "\n",
        "Warning  Keyword `XTRACALG' is being added to header.\n",
        "End      12-Nov-2012 16:24:33 EST\n",
        "\n",
        "*** CALSTIS-6 complete ***\n",
        "2012317162433-I--------------- CALSTIS-6 completed: OBRC010F0 ------------------\n"
       ]
      },
      {
       "output_type": "stream",
       "stream": "stdout",
       "text": [
        "\n",
        "2\n",
        "$$$$$$$$$$$$$$$$$$$$$$$$plotting$$$$$$$$$$$$$$$$$$$$$$$"
       ]
      },
      {
       "output_type": "stream",
       "stream": "stdout",
       "text": [
        "\n",
        "$$$$$$$$$$$$$$$$$$$$$$$$plotting$$$$$$$$$$$$$$$$$$$$$$$"
       ]
      },
      {
       "output_type": "stream",
       "stream": "stdout",
       "text": [
        "\n",
        "['obrc070b0_flt.fits', 'obrc070c0_flt.fits']"
       ]
      },
      {
       "output_type": "stream",
       "stream": "stdout",
       "text": [
        " -69.1005\n",
        "Found offset of 0"
       ]
      },
      {
       "output_type": "stream",
       "stream": "stdout",
       "text": [
        "\n",
        "Found new offset of 7\n",
        "#############################R136-NW7######################"
       ]
      },
      {
       "output_type": "stream",
       "stream": "stderr",
       "text": [
        "Legend does not support [<matplotlib.lines.Line2D object at 0x111f3cd10>]\n",
        "Use proxy artist instead.\n",
        "\n",
        "http://matplotlib.sourceforge.net/users/legend_guide.html#using-proxy-artist\n",
        "\n",
        "Legend does not support [<matplotlib.lines.Line2D object at 0x111f47590>]\n",
        "Use proxy artist instead.\n",
        "\n",
        "http://matplotlib.sourceforge.net/users/legend_guide.html#using-proxy-artist\n",
        "\n",
        "Legend does not support [<matplotlib.lines.Line2D object at 0x111f472d0>]\n",
        "Use proxy artist instead.\n",
        "\n",
        "http://matplotlib.sourceforge.net/users/legend_guide.html#using-proxy-artist\n",
        "\n",
        "Legend does not support [<matplotlib.lines.Line2D object at 0x1120009d0>]\n",
        "Use proxy artist instead.\n",
        "\n",
        "http://matplotlib.sourceforge.net/users/legend_guide.html#using-proxy-artist\n",
        "\n",
        "Overwriting existing file 'R136-NW7_3936_combined_img.fits'.\n"
       ]
      },
      {
       "output_type": "stream",
       "stream": "stdout",
       "text": [
        "\n",
        "[  6.65503608e+04  -2.73346362e+01  -1.31084670e+02  -5.51516966e+04\n",
        "   3.54411242e+02  -4.73469815e-01   1.86523498e-04]"
       ]
      },
      {
       "output_type": "stream",
       "stream": "stdout",
       "text": [
        "\n",
        "Less than 3 points between 4 - 5"
       ]
      },
      {
       "output_type": "stream",
       "stream": "stdout",
       "text": [
        "\n",
        "Less than 3 points between 7 - 8\n",
        "Less than 3 points between 11 - 13\n",
        "Less than 3 points between 19 - 20\n",
        "Less than 3 points between 24 - 25\n",
        "Less than 3 points between 31 - 32\n",
        "Less than 3 points between 49 - 50\n",
        "[  4.33740839e+04   5.20213965e+01   9.02991604e+00]\n",
        "Less than 3 points between 92 - 93\n",
        "Less than 3 points between 99 - 100\n",
        "Less than 3 points between 112 - 114\n",
        "Less than 3 points between 132 - 133\n",
        "Less than 3 points between 134 - 136\n",
        "Less than 3 points between 143 - 144\n",
        "Less than 3 points between 147 - 148\n",
        "Less than 3 points between 165 - 166\n",
        "Less than 3 points between 194 - 195\n",
        "Less than 3 points between 196 - 197\n",
        "Less than 3 points between 199 - 200\n",
        "Less than 3 points between 203 - 204\n",
        "Less than 3 points between 205 - 206\n",
        "Less than 3 points between 212 - 213\n",
        "Less than 3 points between 214 - 215\n",
        "Less than 3 points between 236 - 237\n",
        "Less than 3 points between 248 - 249\n",
        "Less than 3 points between 255 - 256\n",
        "Less than 3 points between 300 - 303\n",
        "Less than 3 points between 319 - 320\n",
        "Less than 3 points between 326 - 327\n",
        "Less than 3 points between 336 - 337\n",
        "Less than 3 points between 473 - 474\n",
        "[  1.70703796e+05   4.81086278e+02  -3.93037532e+00]\n",
        "[  6.86403572e+04   5.17208675e+02   6.17732051e+00]\n",
        "[  9.72697354e+04   5.28201499e+02   5.23225992e+00]\n",
        "Less than 3 points between 536 - 539\n",
        "Less than 3 points between 622 - 623\n",
        "Less than 3 points between 629 - 630\n",
        "Less than 3 points between 634 - 635\n",
        "Less than 3 points between 704 - 705\n",
        "Less than 3 points between 715 - 716\n",
        "Less than 3 points between 754 - 755\n",
        "Less than 3 points between 799 - 800\n",
        "Less than 3 points between 806 - 807\n",
        "[  9.91419205e+04   8.24044558e+02   6.52582306e+00]\n",
        "Less than 3 points between 836 - 837\n",
        "Less than 3 points between 842 - 843\n",
        "Less than 3 points between 846 - 847\n",
        "Less than 3 points between 881 - 882\n",
        "Less than 3 points between 887 - 888\n",
        "Less than 3 points between 895 - 896\n",
        "Less than 3 points between 898 - 900\n",
        "error"
       ]
      },
      {
       "output_type": "stream",
       "stream": "stdout",
       "text": [
        "\n",
        "error calculating fit for 902 - 906, skipping\n",
        "Less than 3 points between 922 - 923\n",
        "Less than 3 points between 928 - 929\n",
        "Less than 3 points between 957 - 958\n",
        "Less than 3 points between 972 - 973\n",
        "Less than 3 points between 976 - 977\n",
        "Less than 3 points between 984 - 985\n",
        "Less than 3 points between 997 - 999\n",
        "Less than 3 points between 1002 - 1003\n",
        "Less than 3 points between 1017 - 1018\n",
        "[52.021396542231258, 481.08627809544726, 517.20867505014542, 528.20149857500826, 824.04455766323133]\n",
        "yloc = 52.021397"
       ]
      },
      {
       "output_type": "stream",
       "stream": "stdout",
       "text": [
        "\n",
        "!/usr/stsci/stsci_iraf_x/stsdas/bin.macintel/cs6.e 'obrc070b0_flt.fits' '/user/bostroem/science/12465_otfr20121109/ccd/R136-NW7_loc52_3936_x1d.fits' -t -v -cte -disp -hel -flux -c 52.0213965422 -r 4 -o1 12.0 -o2 12.0 -bm -bo 3 -a unweighted  -st 14.0\n"
       ]
      },
      {
       "output_type": "stream",
       "stream": "stdout",
       "text": [
        "\n",
        "*** CALSTIS-6 -- Version 2.40 (23-May-2012) ***\n",
        "Begin    12-Nov-2012 16:24:39 EST\n"
       ]
      },
      {
       "output_type": "stream",
       "stream": "stdout",
       "text": [
        "2012317162439-I--------------- CALSTIS-6 started -------------------------------\n",
        "\n",
        "Input    obrc070b0_flt.fits\n",
        "Output   /user/bostroem/science/12465_otfr20121109/ccd/R136-NW7_loc52_3936_x1d.fits\n",
        "Rootname obrc070b0\n",
        "OBSMODE  ACCUM\n",
        "APERTURE 52X0.2\n",
        "OPT_ELEM G430M\n",
        "DETECTOR CCD\n"
       ]
      },
      {
       "output_type": "stream",
       "stream": "stdout",
       "text": [
        "\n",
        "XTRACTAB oref$n7p1031qo_1dx.fits\n",
        "XTRACTAB PEDIGREE=INFLIGHT 18/05/97\n",
        "XTRACTAB DESCRIP =Analysis from prop. 7094\n",
        "SPTRCTAB oref$qa31608go_1dt.fits\n",
        "\n",
        "Imset 1  Begin 16:24:39 EST\n"
       ]
      },
      {
       "output_type": "stream",
       "stream": "stdout",
       "text": [
        "         Input read into memory.\n",
        "         Offset of 14 low-res pixels added in dispersion direction\n",
        "Order 1  Begin 16:24:39 EST\n",
        "X1DCORR  PERFORM\n"
       ]
      },
      {
       "output_type": "stream",
       "stream": "stdout",
       "text": [
        "         Cross correlation offset: -3.08796 pixels\n",
        "BACKCORR OMIT\n"
       ]
      },
      {
       "output_type": "stream",
       "stream": "stdout",
       "text": [
        "X1DCORR  COMPLETE\n",
        "2012317162439-I--------------- X1DCORR complete: OBRC070B0 ---------------------\n",
        "         Spectrum extracted at y position = 48.9334\n",
        "         Extraction box height = 7\n",
        "         Background box 1 height = 5 offset 12 from A2CENTER\n",
        "         Background box 2 height = 5 offset 12 from A2CENTER\n",
        "\n",
        "DISPCORR PERFORM\n",
        "DISPTAB  oref$l2j0137to_dsp.fits\n",
        "DISPTAB  PEDIGREE=INFLIGHT 27/02/1997 24/11/1999\n",
        "DISPTAB  DESCRIP =Lindler Postlaunch, May 2000\n",
        "APDESTAB oref$obm1723ro_apd.fits\n",
        "APDESTAB PEDIGREE=INFLIGHT 01/03/1997 01/03/1997\n",
        "APDESTAB DESCRIP =Microscope Meas./Hartig Post-launch Offsets\n",
        "INANGTAB oref$h5s11397o_iac.fits\n"
       ]
      },
      {
       "output_type": "stream",
       "stream": "stdout",
       "text": [
        "         Delta = 0.074666 arcsec.\n",
        "DISPCORR COMPLETE\n",
        "2012317162439-I--------------- DISPCORR complete: OBRC070B0 --------------------\n",
        "\n",
        "HELCORR  PERFORM\n",
        "HELCORR  COMPLETE\n",
        "2012317162439-I--------------- HELCORR complete: OBRC070B0 ---------------------\n",
        "\n",
        "PHOTTAB  oref$p822207no_pht.fits\n",
        "APERTAB  oref$n7p1032ao_apt.fits\n",
        "APERTAB  PEDIGREE=MODEL\n",
        "APERTAB  DESCRIP =Bohlin/Hartig TIM Models Nov. 1998\n",
        "PCTAB    oref$q541740oo_pct.fits\n",
        "TDSTAB   oref$t9a1003so_tds.fits\n"
       ]
      },
      {
       "output_type": "stream",
       "stream": "stdout",
       "text": [
        "FLUXCORR PERFORM\n",
        "CTECORR  PERFORM\n",
        "CCDTAB   oref$v6n13233o_ccd.fits\n",
        "CCDTAB   PEDIGREE=INFLIGHT 01/05/2009 01/05/2009\n",
        "CCDTAB   DESCRIP =Proposal 8057, by I. Dashevsky & P. Goudfrooij\n"
       ]
      },
      {
       "output_type": "stream",
       "stream": "stdout",
       "text": [
        "CTECORR  COMPLETE\n",
        "FLUXCORR COMPLETE\n",
        "2012317162439-I--------------- FLUXCORR complete: OBRC070B0 --------------------\n",
        "\n",
        "SGEOCORR OMIT\n"
       ]
      },
      {
       "output_type": "stream",
       "stream": "stdout",
       "text": [
        "\n",
        "         Row 1 written to disk.\n",
        "Order 1  End 16:24:39 EST\n"
       ]
      },
      {
       "output_type": "stream",
       "stream": "stdout",
       "text": [
        "\n",
        "Imset 1  End 16:24:39 EST\n"
       ]
      },
      {
       "output_type": "stream",
       "stream": "stdout",
       "text": [
        "\n",
        "Warning  Keyword `XTRACALG' is being added to header.\n",
        "End      12-Nov-2012 16:24:39 EST\n",
        "\n",
        "*** CALSTIS-6 complete ***\n",
        "2012317162439-I--------------- CALSTIS-6 completed: OBRC070B0 ------------------\n"
       ]
      },
      {
       "output_type": "stream",
       "stream": "stdout",
       "text": [
        "\n",
        "!/usr/stsci/stsci_iraf_x/stsdas/bin.macintel/cs6.e 'obrc070b0_flt.fits' '/user/bostroem/science/12465_otfr20121109/ccd/extracted_spectra_fits/R136-NW7_loc52_3936_x1d.fits' -t -v -cte -disp -hel -flux -c 52.0213965422 -r 0 -o1 12.0 -o2 12.0 -bm -bo 3 -a unweighted  -st 14.0\n"
       ]
      },
      {
       "output_type": "stream",
       "stream": "stdout",
       "text": [
        "\n",
        "*** CALSTIS-6 -- Version 2.40 (23-May-2012) ***\n",
        "Begin    12-Nov-2012 16:24:39 EST\n"
       ]
      },
      {
       "output_type": "stream",
       "stream": "stdout",
       "text": [
        "2012317162439-I--------------- CALSTIS-6 started -------------------------------\n",
        "\n",
        "Input    obrc070b0_flt.fits\n",
        "Output   /user/bostroem/science/12465_otfr20121109/ccd/extracted_spectra_fits/R136-NW7_loc52_3936_x1d.fits\n",
        "Rootname obrc070b0\n",
        "OBSMODE  ACCUM\n",
        "APERTURE 52X0.2\n",
        "OPT_ELEM G430M\n",
        "DETECTOR CCD\n"
       ]
      },
      {
       "output_type": "stream",
       "stream": "stdout",
       "text": [
        "\n",
        "XTRACTAB oref$n7p1031qo_1dx.fits\n",
        "XTRACTAB PEDIGREE=INFLIGHT 18/05/97\n",
        "XTRACTAB DESCRIP =Analysis from prop. 7094\n",
        "SPTRCTAB oref$qa31608go_1dt.fits\n",
        "\n",
        "Imset 1  Begin 16:24:39 EST\n"
       ]
      },
      {
       "output_type": "stream",
       "stream": "stdout",
       "text": [
        "         Input read into memory.\n",
        "         Offset of 14 low-res pixels added in dispersion direction\n",
        "Order 1  Begin 16:24:39 EST\n",
        "X1DCORR  PERFORM\n"
       ]
      },
      {
       "output_type": "stream",
       "stream": "stdout",
       "text": [
        "         Cross correlation offset: 0 pixels\n",
        "BACKCORR OMIT\n"
       ]
      },
      {
       "output_type": "stream",
       "stream": "stdout",
       "text": [
        "X1DCORR  COMPLETE\n",
        "2012317162439-I--------------- X1DCORR complete: OBRC070B0 ---------------------\n",
        "         Spectrum extracted at y position = 52.0214\n",
        "         Extraction box height = 7\n",
        "         Background box 1 height = 5 offset 12 from A2CENTER\n",
        "         Background box 2 height = 5 offset 12 from A2CENTER\n",
        "\n",
        "DISPCORR PERFORM\n",
        "DISPTAB  oref$l2j0137to_dsp.fits\n",
        "DISPTAB  PEDIGREE=INFLIGHT 27/02/1997 24/11/1999\n",
        "DISPTAB  DESCRIP =Lindler Postlaunch, May 2000\n",
        "APDESTAB oref$obm1723ro_apd.fits\n",
        "APDESTAB PEDIGREE=INFLIGHT 01/03/1997 01/03/1997\n",
        "APDESTAB DESCRIP =Microscope Meas./Hartig Post-launch Offsets\n",
        "INANGTAB oref$h5s11397o_iac.fits\n"
       ]
      },
      {
       "output_type": "stream",
       "stream": "stdout",
       "text": [
        "         Delta = 0.074666 arcsec.\n",
        "DISPCORR COMPLETE\n",
        "2012317162439-I--------------- DISPCORR complete: OBRC070B0 --------------------\n",
        "\n",
        "HELCORR  PERFORM\n",
        "HELCORR  COMPLETE\n",
        "2012317162439-I--------------- HELCORR complete: OBRC070B0 ---------------------\n",
        "\n",
        "PHOTTAB  oref$p822207no_pht.fits\n",
        "APERTAB  oref$n7p1032ao_apt.fits\n",
        "APERTAB  PEDIGREE=MODEL\n",
        "APERTAB  DESCRIP =Bohlin/Hartig TIM Models Nov. 1998\n",
        "PCTAB    oref$q541740oo_pct.fits\n",
        "TDSTAB   oref$t9a1003so_tds.fits\n"
       ]
      },
      {
       "output_type": "stream",
       "stream": "stdout",
       "text": [
        "FLUXCORR PERFORM\n",
        "CTECORR  PERFORM\n",
        "CCDTAB   oref$v6n13233o_ccd.fits\n",
        "CCDTAB   PEDIGREE=INFLIGHT 01/05/2009 01/05/2009\n",
        "CCDTAB   DESCRIP =Proposal 8057, by I. Dashevsky & P. Goudfrooij\n"
       ]
      },
      {
       "output_type": "stream",
       "stream": "stdout",
       "text": [
        "CTECORR  COMPLETE\n",
        "FLUXCORR COMPLETE\n",
        "2012317162439-I--------------- FLUXCORR complete: OBRC070B0 --------------------\n",
        "\n",
        "SGEOCORR OMIT\n"
       ]
      },
      {
       "output_type": "stream",
       "stream": "stdout",
       "text": [
        "\n",
        "         Row 1 written to disk.\n",
        "Order 1  End 16:24:40 EST\n"
       ]
      },
      {
       "output_type": "stream",
       "stream": "stdout",
       "text": [
        "\n",
        "Imset 1  End 16:24:40 EST\n"
       ]
      },
      {
       "output_type": "stream",
       "stream": "stdout",
       "text": [
        "\n",
        "Warning  Keyword `XTRACALG' is being added to header.\n",
        "End      12-Nov-2012 16:24:40 EST\n",
        "\n",
        "*** CALSTIS-6 complete ***\n",
        "2012317162440-I--------------- CALSTIS-6 completed: OBRC070B0 ------------------\n"
       ]
      },
      {
       "output_type": "stream",
       "stream": "stdout",
       "text": [
        "\n",
        "yloc = 481.086278"
       ]
      },
      {
       "output_type": "stream",
       "stream": "stdout",
       "text": [
        "\n",
        "!/usr/stsci/stsci_iraf_x/stsdas/bin.macintel/cs6.e 'obrc070b0_flt.fits' '/user/bostroem/science/12465_otfr20121109/ccd/R136-NW7_loc481_3936_x1d.fits' -t -v -cte -disp -hel -flux -c 481.086278095 -r 4 -o1 12.0 -o2 12.0 -bm -bo 3 -a unweighted  -st 14.0\n"
       ]
      },
      {
       "output_type": "stream",
       "stream": "stdout",
       "text": [
        "\n",
        "*** CALSTIS-6 -- Version 2.40 (23-May-2012) ***\n",
        "Begin    12-Nov-2012 16:24:40 EST\n"
       ]
      },
      {
       "output_type": "stream",
       "stream": "stdout",
       "text": [
        "2012317162440-I--------------- CALSTIS-6 started -------------------------------\n",
        "\n",
        "Input    obrc070b0_flt.fits\n",
        "Output   /user/bostroem/science/12465_otfr20121109/ccd/R136-NW7_loc481_3936_x1d.fits\n",
        "Rootname obrc070b0\n",
        "OBSMODE  ACCUM\n",
        "APERTURE 52X0.2\n",
        "OPT_ELEM G430M\n",
        "DETECTOR CCD\n"
       ]
      },
      {
       "output_type": "stream",
       "stream": "stdout",
       "text": [
        "\n",
        "XTRACTAB oref$n7p1031qo_1dx.fits\n",
        "XTRACTAB PEDIGREE=INFLIGHT 18/05/97\n",
        "XTRACTAB DESCRIP =Analysis from prop. 7094\n",
        "SPTRCTAB oref$qa31608go_1dt.fits\n",
        "\n",
        "Imset 1  Begin 16:24:40 EST\n"
       ]
      },
      {
       "output_type": "stream",
       "stream": "stdout",
       "text": [
        "         Input read into memory.\n",
        "         Offset of 14 low-res pixels added in dispersion direction\n",
        "Order 1  Begin 16:24:40 EST\n",
        "X1DCORR  PERFORM\n"
       ]
      },
      {
       "output_type": "stream",
       "stream": "stdout",
       "text": [
        "Warning  Cross correlation to locate spectrum failed.\n",
        "ERROR    Cannot extract.\n",
        "Warning  No rows were written; no table created.\n",
        "Imset 1  End 16:24:40 EST\n",
        "\n",
        "End      12-Nov-2012 16:24:40 EST\n",
        "\n",
        "*** CALSTIS-6 complete ***\n",
        "2012317162440-I--------------- CALSTIS-6 completed: OBRC070B0 ------------------\n"
       ]
      },
      {
       "output_type": "stream",
       "stream": "stdout",
       "text": [
        "\n",
        "!/usr/stsci/stsci_iraf_x/stsdas/bin.macintel/cs6.e 'obrc070b0_flt.fits' '/user/bostroem/science/12465_otfr20121109/ccd/extracted_spectra_fits/R136-NW7_loc481_3936_x1d.fits' -t -v -cte -disp -hel -flux -c 481.086278095 -r 0 -o1 12.0 -o2 12.0 -bm -bo 3 -a unweighted  -st 14.0\n"
       ]
      },
      {
       "output_type": "stream",
       "stream": "stdout",
       "text": [
        "\n",
        "*** CALSTIS-6 -- Version 2.40 (23-May-2012) ***\n",
        "Begin    12-Nov-2012 16:24:40 EST\n"
       ]
      },
      {
       "output_type": "stream",
       "stream": "stdout",
       "text": [
        "2012317162440-I--------------- CALSTIS-6 started -------------------------------\n",
        "\n",
        "Input    obrc070b0_flt.fits\n",
        "Output   /user/bostroem/science/12465_otfr20121109/ccd/extracted_spectra_fits/R136-NW7_loc481_3936_x1d.fits\n",
        "Rootname obrc070b0\n",
        "OBSMODE  ACCUM\n",
        "APERTURE 52X0.2\n",
        "OPT_ELEM G430M\n",
        "DETECTOR CCD\n"
       ]
      },
      {
       "output_type": "stream",
       "stream": "stdout",
       "text": [
        "\n",
        "XTRACTAB oref$n7p1031qo_1dx.fits\n",
        "XTRACTAB PEDIGREE=INFLIGHT 18/05/97\n",
        "XTRACTAB DESCRIP =Analysis from prop. 7094\n",
        "SPTRCTAB oref$qa31608go_1dt.fits\n",
        "\n",
        "Imset 1  Begin 16:24:40 EST\n"
       ]
      },
      {
       "output_type": "stream",
       "stream": "stdout",
       "text": [
        "         Input read into memory.\n",
        "         Offset of 14 low-res pixels added in dispersion direction\n",
        "Order 1  Begin 16:24:41 EST\n",
        "X1DCORR  PERFORM\n"
       ]
      },
      {
       "output_type": "stream",
       "stream": "stdout",
       "text": [
        "         Cross correlation offset: 0 pixels\n",
        "BACKCORR OMIT\n"
       ]
      },
      {
       "output_type": "stream",
       "stream": "stdout",
       "text": [
        "X1DCORR  COMPLETE\n",
        "2012317162441-I--------------- X1DCORR complete: OBRC070B0 ---------------------\n",
        "         Spectrum extracted at y position = 481.086\n",
        "         Extraction box height = 7\n",
        "         Background box 1 height = 5 offset 12 from A2CENTER\n",
        "         Background box 2 height = 5 offset 12 from A2CENTER\n",
        "\n",
        "DISPCORR PERFORM\n",
        "DISPTAB  oref$l2j0137to_dsp.fits\n",
        "DISPTAB  PEDIGREE=INFLIGHT 27/02/1997 24/11/1999\n",
        "DISPTAB  DESCRIP =Lindler Postlaunch, May 2000\n",
        "APDESTAB oref$obm1723ro_apd.fits\n",
        "APDESTAB PEDIGREE=INFLIGHT 01/03/1997 01/03/1997\n",
        "APDESTAB DESCRIP =Microscope Meas./Hartig Post-launch Offsets\n",
        "INANGTAB oref$h5s11397o_iac.fits\n"
       ]
      },
      {
       "output_type": "stream",
       "stream": "stdout",
       "text": [
        "         Delta = 0.074666 arcsec.\n",
        "DISPCORR COMPLETE\n",
        "2012317162441-I--------------- DISPCORR complete: OBRC070B0 --------------------\n",
        "\n",
        "HELCORR  PERFORM\n",
        "HELCORR  COMPLETE\n",
        "2012317162441-I--------------- HELCORR complete: OBRC070B0 ---------------------\n",
        "\n",
        "PHOTTAB  oref$p822207no_pht.fits\n",
        "APERTAB  oref$n7p1032ao_apt.fits\n",
        "APERTAB  PEDIGREE=MODEL\n",
        "APERTAB  DESCRIP =Bohlin/Hartig TIM Models Nov. 1998\n",
        "PCTAB    oref$q541740oo_pct.fits\n",
        "TDSTAB   oref$t9a1003so_tds.fits\n"
       ]
      },
      {
       "output_type": "stream",
       "stream": "stdout",
       "text": [
        "FLUXCORR PERFORM\n",
        "CTECORR  PERFORM\n",
        "CCDTAB   oref$v6n13233o_ccd.fits\n",
        "CCDTAB   PEDIGREE=INFLIGHT 01/05/2009 01/05/2009\n",
        "CCDTAB   DESCRIP =Proposal 8057, by I. Dashevsky & P. Goudfrooij\n"
       ]
      },
      {
       "output_type": "stream",
       "stream": "stdout",
       "text": [
        "CTECORR  COMPLETE\n",
        "FLUXCORR COMPLETE\n",
        "2012317162441-I--------------- FLUXCORR complete: OBRC070B0 --------------------\n",
        "\n",
        "SGEOCORR OMIT\n"
       ]
      },
      {
       "output_type": "stream",
       "stream": "stdout",
       "text": [
        "\n",
        "         Row 1 written to disk.\n",
        "Order 1  End 16:24:41 EST\n"
       ]
      },
      {
       "output_type": "stream",
       "stream": "stdout",
       "text": [
        "\n",
        "Imset 1  End 16:24:41 EST\n"
       ]
      },
      {
       "output_type": "stream",
       "stream": "stdout",
       "text": [
        "\n",
        "Warning  Keyword `XTRACALG' is being added to header.\n",
        "End      12-Nov-2012 16:24:41 EST\n",
        "\n",
        "*** CALSTIS-6 complete ***\n",
        "2012317162441-I--------------- CALSTIS-6 completed: OBRC070B0 ------------------\n"
       ]
      },
      {
       "output_type": "stream",
       "stream": "stdout",
       "text": [
        "\n",
        "yloc = 517.208675"
       ]
      },
      {
       "output_type": "stream",
       "stream": "stdout",
       "text": [
        "\n",
        "!/usr/stsci/stsci_iraf_x/stsdas/bin.macintel/cs6.e 'obrc070b0_flt.fits' '/user/bostroem/science/12465_otfr20121109/ccd/R136-NW7_loc517_3936_x1d.fits' -t -v -cte -disp -hel -flux -c 517.20867505 -r 4 -o1 12.0 -o2 12.0 -bm -bo 3 -a unweighted  -st 14.0\n"
       ]
      },
      {
       "output_type": "stream",
       "stream": "stdout",
       "text": [
        "\n",
        "*** CALSTIS-6 -- Version 2.40 (23-May-2012) ***\n",
        "Begin    12-Nov-2012 16:24:41 EST\n"
       ]
      },
      {
       "output_type": "stream",
       "stream": "stdout",
       "text": [
        "2012317162441-I--------------- CALSTIS-6 started -------------------------------\n",
        "\n",
        "Input    obrc070b0_flt.fits\n",
        "Output   /user/bostroem/science/12465_otfr20121109/ccd/R136-NW7_loc517_3936_x1d.fits\n",
        "Rootname obrc070b0\n",
        "OBSMODE  ACCUM\n",
        "APERTURE 52X0.2\n",
        "OPT_ELEM G430M\n",
        "DETECTOR CCD\n"
       ]
      },
      {
       "output_type": "stream",
       "stream": "stdout",
       "text": [
        "\n",
        "XTRACTAB oref$n7p1031qo_1dx.fits\n",
        "XTRACTAB PEDIGREE=INFLIGHT 18/05/97\n",
        "XTRACTAB DESCRIP =Analysis from prop. 7094\n",
        "SPTRCTAB oref$qa31608go_1dt.fits\n",
        "\n",
        "Imset 1  Begin 16:24:41 EST\n"
       ]
      },
      {
       "output_type": "stream",
       "stream": "stdout",
       "text": [
        "         Input read into memory.\n",
        "         Offset of 14 low-res pixels added in dispersion direction\n",
        "Order 1  Begin 16:24:41 EST\n",
        "X1DCORR  PERFORM\n"
       ]
      },
      {
       "output_type": "stream",
       "stream": "stdout",
       "text": [
        "Warning  Cross correlation to locate spectrum failed.\n",
        "ERROR    Cannot extract.\n",
        "Warning  No rows were written; no table created.\n",
        "Imset 1  End 16:24:41 EST\n",
        "\n",
        "End      12-Nov-2012 16:24:41 EST\n",
        "\n",
        "*** CALSTIS-6 complete ***\n",
        "2012317162441-I--------------- CALSTIS-6 completed: OBRC070B0 ------------------\n"
       ]
      },
      {
       "output_type": "stream",
       "stream": "stdout",
       "text": [
        "\n",
        "!/usr/stsci/stsci_iraf_x/stsdas/bin.macintel/cs6.e 'obrc070b0_flt.fits' '/user/bostroem/science/12465_otfr20121109/ccd/extracted_spectra_fits/R136-NW7_loc517_3936_x1d.fits' -t -v -cte -disp -hel -flux -c 517.20867505 -r 0 -o1 12.0 -o2 12.0 -bm -bo 3 -a unweighted  -st 14.0\n"
       ]
      },
      {
       "output_type": "stream",
       "stream": "stdout",
       "text": [
        "\n",
        "*** CALSTIS-6 -- Version 2.40 (23-May-2012) ***\n",
        "Begin    12-Nov-2012 16:24:41 EST\n"
       ]
      },
      {
       "output_type": "stream",
       "stream": "stdout",
       "text": [
        "2012317162441-I--------------- CALSTIS-6 started -------------------------------\n",
        "\n",
        "Input    obrc070b0_flt.fits\n",
        "Output   /user/bostroem/science/12465_otfr20121109/ccd/extracted_spectra_fits/R136-NW7_loc517_3936_x1d.fits\n",
        "Rootname obrc070b0\n",
        "OBSMODE  ACCUM\n",
        "APERTURE 52X0.2\n",
        "OPT_ELEM G430M\n",
        "DETECTOR CCD\n"
       ]
      },
      {
       "output_type": "stream",
       "stream": "stdout",
       "text": [
        "\n",
        "XTRACTAB oref$n7p1031qo_1dx.fits\n",
        "XTRACTAB PEDIGREE=INFLIGHT 18/05/97\n",
        "XTRACTAB DESCRIP =Analysis from prop. 7094\n",
        "SPTRCTAB oref$qa31608go_1dt.fits\n",
        "\n",
        "Imset 1  Begin 16:24:42 EST\n"
       ]
      },
      {
       "output_type": "stream",
       "stream": "stdout",
       "text": [
        "         Input read into memory.\n",
        "         Offset of 14 low-res pixels added in dispersion direction\n",
        "Order 1  Begin 16:24:42 EST\n",
        "X1DCORR  PERFORM\n"
       ]
      },
      {
       "output_type": "stream",
       "stream": "stdout",
       "text": [
        "         Cross correlation offset: 0 pixels\n",
        "BACKCORR OMIT\n"
       ]
      },
      {
       "output_type": "stream",
       "stream": "stdout",
       "text": [
        "X1DCORR  COMPLETE\n",
        "2012317162442-I--------------- X1DCORR complete: OBRC070B0 ---------------------\n",
        "         Spectrum extracted at y position = 517.209\n",
        "         Extraction box height = 7\n",
        "         Background box 1 height = 5 offset 12 from A2CENTER\n",
        "         Background box 2 height = 5 offset 12 from A2CENTER\n",
        "\n",
        "DISPCORR PERFORM\n",
        "DISPTAB  oref$l2j0137to_dsp.fits\n",
        "DISPTAB  PEDIGREE=INFLIGHT 27/02/1997 24/11/1999\n",
        "DISPTAB  DESCRIP =Lindler Postlaunch, May 2000\n",
        "APDESTAB oref$obm1723ro_apd.fits\n",
        "APDESTAB PEDIGREE=INFLIGHT 01/03/1997 01/03/1997\n",
        "APDESTAB DESCRIP =Microscope Meas./Hartig Post-launch Offsets\n",
        "INANGTAB oref$h5s11397o_iac.fits\n"
       ]
      },
      {
       "output_type": "stream",
       "stream": "stdout",
       "text": [
        "         Delta = 0.074666 arcsec.\n",
        "DISPCORR COMPLETE\n",
        "2012317162442-I--------------- DISPCORR complete: OBRC070B0 --------------------\n",
        "\n",
        "HELCORR  PERFORM\n",
        "HELCORR  COMPLETE\n",
        "2012317162442-I--------------- HELCORR complete: OBRC070B0 ---------------------\n",
        "\n",
        "PHOTTAB  oref$p822207no_pht.fits\n",
        "APERTAB  oref$n7p1032ao_apt.fits\n",
        "APERTAB  PEDIGREE=MODEL\n",
        "APERTAB  DESCRIP =Bohlin/Hartig TIM Models Nov. 1998\n",
        "PCTAB    oref$q541740oo_pct.fits\n",
        "TDSTAB   oref$t9a1003so_tds.fits\n"
       ]
      },
      {
       "output_type": "stream",
       "stream": "stdout",
       "text": [
        "FLUXCORR PERFORM\n",
        "CTECORR  PERFORM\n",
        "CCDTAB   oref$v6n13233o_ccd.fits\n",
        "CCDTAB   PEDIGREE=INFLIGHT 01/05/2009 01/05/2009\n",
        "CCDTAB   DESCRIP =Proposal 8057, by I. Dashevsky & P. Goudfrooij\n"
       ]
      },
      {
       "output_type": "stream",
       "stream": "stdout",
       "text": [
        "CTECORR  COMPLETE\n",
        "FLUXCORR COMPLETE\n",
        "2012317162442-I--------------- FLUXCORR complete: OBRC070B0 --------------------\n",
        "\n",
        "SGEOCORR OMIT\n"
       ]
      },
      {
       "output_type": "stream",
       "stream": "stdout",
       "text": [
        "\n",
        "         Row 1 written to disk.\n",
        "Order 1  End 16:24:42 EST\n"
       ]
      },
      {
       "output_type": "stream",
       "stream": "stdout",
       "text": [
        "\n",
        "Imset 1  End 16:24:42 EST\n"
       ]
      },
      {
       "output_type": "stream",
       "stream": "stdout",
       "text": [
        "\n",
        "Warning  Keyword `XTRACALG' is being added to header.\n",
        "End      12-Nov-2012 16:24:42 EST\n",
        "\n",
        "*** CALSTIS-6 complete ***\n",
        "2012317162442-I--------------- CALSTIS-6 completed: OBRC070B0 ------------------\n"
       ]
      },
      {
       "output_type": "stream",
       "stream": "stdout",
       "text": [
        "\n",
        "yloc = 528.201499"
       ]
      },
      {
       "output_type": "stream",
       "stream": "stdout",
       "text": [
        "\n",
        "!/usr/stsci/stsci_iraf_x/stsdas/bin.macintel/cs6.e 'obrc070b0_flt.fits' '/user/bostroem/science/12465_otfr20121109/ccd/R136-NW7_loc528_3936_x1d.fits' -t -v -cte -disp -hel -flux -c 528.201498575 -r 4 -o1 12.0 -o2 12.0 -bm -bo 3 -a unweighted  -st 14.0\n"
       ]
      },
      {
       "output_type": "stream",
       "stream": "stdout",
       "text": [
        "\n",
        "*** CALSTIS-6 -- Version 2.40 (23-May-2012) ***\n",
        "Begin    12-Nov-2012 16:24:42 EST\n"
       ]
      },
      {
       "output_type": "stream",
       "stream": "stdout",
       "text": [
        "2012317162442-I--------------- CALSTIS-6 started -------------------------------\n",
        "\n",
        "Input    obrc070b0_flt.fits\n",
        "Output   /user/bostroem/science/12465_otfr20121109/ccd/R136-NW7_loc528_3936_x1d.fits\n",
        "Rootname obrc070b0\n",
        "OBSMODE  ACCUM\n",
        "APERTURE 52X0.2\n",
        "OPT_ELEM G430M\n",
        "DETECTOR CCD\n"
       ]
      },
      {
       "output_type": "stream",
       "stream": "stdout",
       "text": [
        "\n",
        "XTRACTAB oref$n7p1031qo_1dx.fits\n",
        "XTRACTAB PEDIGREE=INFLIGHT 18/05/97\n",
        "XTRACTAB DESCRIP =Analysis from prop. 7094\n",
        "SPTRCTAB oref$qa31608go_1dt.fits\n",
        "\n",
        "Imset 1  Begin 16:24:42 EST\n"
       ]
      },
      {
       "output_type": "stream",
       "stream": "stdout",
       "text": [
        "         Input read into memory.\n",
        "         Offset of 14 low-res pixels added in dispersion direction\n",
        "Order 1  Begin 16:24:42 EST\n",
        "X1DCORR  PERFORM\n"
       ]
      },
      {
       "output_type": "stream",
       "stream": "stdout",
       "text": [
        "Warning  Cross correlation to locate spectrum failed.\n",
        "ERROR    Cannot extract.\n",
        "Warning  No rows were written; no table created.\n",
        "Imset 1  End 16:24:42 EST\n",
        "\n",
        "End      12-Nov-2012 16:24:42 EST\n",
        "\n",
        "*** CALSTIS-6 complete ***\n",
        "2012317162442-I--------------- CALSTIS-6 completed: OBRC070B0 ------------------\n"
       ]
      },
      {
       "output_type": "stream",
       "stream": "stdout",
       "text": [
        "\n",
        "!/usr/stsci/stsci_iraf_x/stsdas/bin.macintel/cs6.e 'obrc070b0_flt.fits' '/user/bostroem/science/12465_otfr20121109/ccd/extracted_spectra_fits/R136-NW7_loc528_3936_x1d.fits' -t -v -cte -disp -hel -flux -c 528.201498575 -r 0 -o1 12.0 -o2 12.0 -bm -bo 3 -a unweighted  -st 14.0\n"
       ]
      },
      {
       "output_type": "stream",
       "stream": "stdout",
       "text": [
        "\n",
        "*** CALSTIS-6 -- Version 2.40 (23-May-2012) ***\n",
        "Begin    12-Nov-2012 16:24:43 EST\n"
       ]
      },
      {
       "output_type": "stream",
       "stream": "stdout",
       "text": [
        "2012317162443-I--------------- CALSTIS-6 started -------------------------------\n",
        "\n",
        "Input    obrc070b0_flt.fits\n",
        "Output   /user/bostroem/science/12465_otfr20121109/ccd/extracted_spectra_fits/R136-NW7_loc528_3936_x1d.fits\n",
        "Rootname obrc070b0\n",
        "OBSMODE  ACCUM\n",
        "APERTURE 52X0.2\n",
        "OPT_ELEM G430M\n",
        "DETECTOR CCD\n"
       ]
      },
      {
       "output_type": "stream",
       "stream": "stdout",
       "text": [
        "\n",
        "XTRACTAB oref$n7p1031qo_1dx.fits\n",
        "XTRACTAB PEDIGREE=INFLIGHT 18/05/97\n",
        "XTRACTAB DESCRIP =Analysis from prop. 7094\n",
        "SPTRCTAB oref$qa31608go_1dt.fits\n",
        "\n",
        "Imset 1  Begin 16:24:43 EST\n"
       ]
      },
      {
       "output_type": "stream",
       "stream": "stdout",
       "text": [
        "         Input read into memory.\n",
        "         Offset of 14 low-res pixels added in dispersion direction\n",
        "Order 1  Begin 16:24:43 EST\n",
        "X1DCORR  PERFORM\n"
       ]
      },
      {
       "output_type": "stream",
       "stream": "stdout",
       "text": [
        "         Cross correlation offset: 0 pixels\n",
        "BACKCORR OMIT\n"
       ]
      },
      {
       "output_type": "stream",
       "stream": "stdout",
       "text": [
        "X1DCORR  COMPLETE\n",
        "2012317162443-I--------------- X1DCORR complete: OBRC070B0 ---------------------\n",
        "         Spectrum extracted at y position = 528.201\n",
        "         Extraction box height = 7\n",
        "         Background box 1 height = 5 offset 12 from A2CENTER\n",
        "         Background box 2 height = 5 offset 12 from A2CENTER\n",
        "\n",
        "DISPCORR PERFORM\n",
        "DISPTAB  oref$l2j0137to_dsp.fits\n",
        "DISPTAB  PEDIGREE=INFLIGHT 27/02/1997 24/11/1999\n",
        "DISPTAB  DESCRIP =Lindler Postlaunch, May 2000\n",
        "APDESTAB oref$obm1723ro_apd.fits\n",
        "APDESTAB PEDIGREE=INFLIGHT 01/03/1997 01/03/1997\n",
        "APDESTAB DESCRIP =Microscope Meas./Hartig Post-launch Offsets\n",
        "INANGTAB oref$h5s11397o_iac.fits\n"
       ]
      },
      {
       "output_type": "stream",
       "stream": "stdout",
       "text": [
        "         Delta = 0.074666 arcsec.\n",
        "DISPCORR COMPLETE\n",
        "2012317162443-I--------------- DISPCORR complete: OBRC070B0 --------------------\n",
        "\n",
        "HELCORR  PERFORM\n",
        "HELCORR  COMPLETE\n",
        "2012317162443-I--------------- HELCORR complete: OBRC070B0 ---------------------\n",
        "\n",
        "PHOTTAB  oref$p822207no_pht.fits\n",
        "APERTAB  oref$n7p1032ao_apt.fits\n",
        "APERTAB  PEDIGREE=MODEL\n",
        "APERTAB  DESCRIP =Bohlin/Hartig TIM Models Nov. 1998\n",
        "PCTAB    oref$q541740oo_pct.fits\n",
        "TDSTAB   oref$t9a1003so_tds.fits\n"
       ]
      },
      {
       "output_type": "stream",
       "stream": "stdout",
       "text": [
        "FLUXCORR PERFORM\n",
        "CTECORR  PERFORM\n",
        "CCDTAB   oref$v6n13233o_ccd.fits\n",
        "CCDTAB   PEDIGREE=INFLIGHT 01/05/2009 01/05/2009\n",
        "CCDTAB   DESCRIP =Proposal 8057, by I. Dashevsky & P. Goudfrooij\n"
       ]
      },
      {
       "output_type": "stream",
       "stream": "stdout",
       "text": [
        "CTECORR  COMPLETE\n",
        "FLUXCORR COMPLETE\n",
        "2012317162443-I--------------- FLUXCORR complete: OBRC070B0 --------------------\n",
        "\n",
        "SGEOCORR OMIT\n"
       ]
      },
      {
       "output_type": "stream",
       "stream": "stdout",
       "text": [
        "\n",
        "         Row 1 written to disk.\n",
        "Order 1  End 16:24:43 EST\n"
       ]
      },
      {
       "output_type": "stream",
       "stream": "stdout",
       "text": [
        "\n",
        "Imset 1  End 16:24:43 EST\n"
       ]
      },
      {
       "output_type": "stream",
       "stream": "stdout",
       "text": [
        "\n",
        "Warning  Keyword `XTRACALG' is being added to header.\n",
        "End      12-Nov-2012 16:24:43 EST\n",
        "\n",
        "*** CALSTIS-6 complete ***\n",
        "2012317162443-I--------------- CALSTIS-6 completed: OBRC070B0 ------------------\n"
       ]
      },
      {
       "output_type": "stream",
       "stream": "stdout",
       "text": [
        "\n",
        "yloc = 824.044558"
       ]
      },
      {
       "output_type": "stream",
       "stream": "stdout",
       "text": [
        "\n",
        "!/usr/stsci/stsci_iraf_x/stsdas/bin.macintel/cs6.e 'obrc070b0_flt.fits' '/user/bostroem/science/12465_otfr20121109/ccd/R136-NW7_loc824_3936_x1d.fits' -t -v -cte -disp -hel -flux -c 824.044557663 -r 4 -o1 12.0 -o2 12.0 -bm -bo 3 -a unweighted  -st 14.0\n"
       ]
      },
      {
       "output_type": "stream",
       "stream": "stdout",
       "text": [
        "\n",
        "*** CALSTIS-6 -- Version 2.40 (23-May-2012) ***\n",
        "Begin    12-Nov-2012 16:24:43 EST\n"
       ]
      },
      {
       "output_type": "stream",
       "stream": "stdout",
       "text": [
        "2012317162443-I--------------- CALSTIS-6 started -------------------------------\n",
        "\n",
        "Input    obrc070b0_flt.fits\n",
        "Output   /user/bostroem/science/12465_otfr20121109/ccd/R136-NW7_loc824_3936_x1d.fits\n",
        "Rootname obrc070b0\n",
        "OBSMODE  ACCUM\n",
        "APERTURE 52X0.2\n",
        "OPT_ELEM G430M\n",
        "DETECTOR CCD\n"
       ]
      },
      {
       "output_type": "stream",
       "stream": "stdout",
       "text": [
        "\n",
        "XTRACTAB oref$n7p1031qo_1dx.fits\n",
        "XTRACTAB PEDIGREE=INFLIGHT 18/05/97\n",
        "XTRACTAB DESCRIP =Analysis from prop. 7094\n",
        "SPTRCTAB oref$qa31608go_1dt.fits\n",
        "\n",
        "Imset 1  Begin 16:24:43 EST\n"
       ]
      },
      {
       "output_type": "stream",
       "stream": "stdout",
       "text": [
        "         Input read into memory.\n",
        "         Offset of 14 low-res pixels added in dispersion direction\n",
        "Order 1  Begin 16:24:43 EST\n",
        "X1DCORR  PERFORM\n"
       ]
      },
      {
       "output_type": "stream",
       "stream": "stdout",
       "text": [
        "Warning  Cross correlation to locate spectrum failed.\n",
        "ERROR    Cannot extract.\n",
        "Warning  No rows were written; no table created.\n",
        "Imset 1  End 16:24:43 EST\n",
        "\n",
        "End      12-Nov-2012 16:24:43 EST\n",
        "\n",
        "*** CALSTIS-6 complete ***\n",
        "2012317162443-I--------------- CALSTIS-6 completed: OBRC070B0 ------------------\n"
       ]
      },
      {
       "output_type": "stream",
       "stream": "stdout",
       "text": [
        "\n",
        "!/usr/stsci/stsci_iraf_x/stsdas/bin.macintel/cs6.e 'obrc070b0_flt.fits' '/user/bostroem/science/12465_otfr20121109/ccd/extracted_spectra_fits/R136-NW7_loc824_3936_x1d.fits' -t -v -cte -disp -hel -flux -c 824.044557663 -r 0 -o1 12.0 -o2 12.0 -bm -bo 3 -a unweighted  -st 14.0\n"
       ]
      },
      {
       "output_type": "stream",
       "stream": "stdout",
       "text": [
        "\n",
        "*** CALSTIS-6 -- Version 2.40 (23-May-2012) ***\n",
        "Begin    12-Nov-2012 16:24:44 EST\n"
       ]
      },
      {
       "output_type": "stream",
       "stream": "stdout",
       "text": [
        "2012317162444-I--------------- CALSTIS-6 started -------------------------------\n",
        "\n",
        "Input    obrc070b0_flt.fits\n",
        "Output   /user/bostroem/science/12465_otfr20121109/ccd/extracted_spectra_fits/R136-NW7_loc824_3936_x1d.fits\n",
        "Rootname obrc070b0\n",
        "OBSMODE  ACCUM\n",
        "APERTURE 52X0.2\n",
        "OPT_ELEM G430M\n",
        "DETECTOR CCD\n"
       ]
      },
      {
       "output_type": "stream",
       "stream": "stdout",
       "text": [
        "\n",
        "XTRACTAB oref$n7p1031qo_1dx.fits\n",
        "XTRACTAB PEDIGREE=INFLIGHT 18/05/97\n",
        "XTRACTAB DESCRIP =Analysis from prop. 7094\n",
        "SPTRCTAB oref$qa31608go_1dt.fits\n",
        "\n",
        "Imset 1  Begin 16:24:44 EST\n"
       ]
      },
      {
       "output_type": "stream",
       "stream": "stdout",
       "text": [
        "         Input read into memory.\n",
        "         Offset of 14 low-res pixels added in dispersion direction\n",
        "Order 1  Begin 16:24:44 EST\n",
        "X1DCORR  PERFORM\n",
        "         Cross correlation offset: 0 pixels\n",
        "BACKCORR OMIT\n"
       ]
      },
      {
       "output_type": "stream",
       "stream": "stdout",
       "text": [
        "X1DCORR  COMPLETE\n",
        "2012317162444-I--------------- X1DCORR complete: OBRC070B0 ---------------------\n",
        "         Spectrum extracted at y position = 824.045\n",
        "         Extraction box height = 7\n",
        "         Background box 1 height = 5 offset 12 from A2CENTER\n",
        "         Background box 2 height = 5 offset 12 from A2CENTER\n",
        "\n",
        "DISPCORR PERFORM\n",
        "DISPTAB  oref$l2j0137to_dsp.fits\n",
        "DISPTAB  PEDIGREE=INFLIGHT 27/02/1997 24/11/1999\n",
        "DISPTAB  DESCRIP =Lindler Postlaunch, May 2000\n",
        "APDESTAB oref$obm1723ro_apd.fits\n",
        "APDESTAB PEDIGREE=INFLIGHT 01/03/1997 01/03/1997\n",
        "APDESTAB DESCRIP =Microscope Meas./Hartig Post-launch Offsets\n",
        "INANGTAB oref$h5s11397o_iac.fits\n"
       ]
      },
      {
       "output_type": "stream",
       "stream": "stdout",
       "text": [
        "         Delta = 0.074666 arcsec.\n",
        "DISPCORR COMPLETE\n",
        "2012317162444-I--------------- DISPCORR complete: OBRC070B0 --------------------\n",
        "\n",
        "HELCORR  PERFORM\n",
        "HELCORR  COMPLETE\n",
        "2012317162444-I--------------- HELCORR complete: OBRC070B0 ---------------------\n",
        "\n",
        "PHOTTAB  oref$p822207no_pht.fits\n",
        "APERTAB  oref$n7p1032ao_apt.fits\n",
        "APERTAB  PEDIGREE=MODEL\n",
        "APERTAB  DESCRIP =Bohlin/Hartig TIM Models Nov. 1998\n",
        "PCTAB    oref$q541740oo_pct.fits\n",
        "TDSTAB   oref$t9a1003so_tds.fits\n"
       ]
      },
      {
       "output_type": "stream",
       "stream": "stdout",
       "text": [
        "FLUXCORR PERFORM\n",
        "CTECORR  PERFORM\n",
        "CCDTAB   oref$v6n13233o_ccd.fits\n",
        "CCDTAB   PEDIGREE=INFLIGHT 01/05/2009 01/05/2009\n",
        "CCDTAB   DESCRIP =Proposal 8057, by I. Dashevsky & P. Goudfrooij\n"
       ]
      },
      {
       "output_type": "stream",
       "stream": "stdout",
       "text": [
        "CTECORR  COMPLETE\n",
        "FLUXCORR COMPLETE\n",
        "2012317162444-I--------------- FLUXCORR complete: OBRC070B0 --------------------\n",
        "\n",
        "SGEOCORR OMIT\n"
       ]
      },
      {
       "output_type": "stream",
       "stream": "stdout",
       "text": [
        "\n",
        "         Row 1 written to disk.\n",
        "Order 1  End 16:24:44 EST\n"
       ]
      },
      {
       "output_type": "stream",
       "stream": "stdout",
       "text": [
        "\n",
        "Imset 1  End 16:24:44 EST\n"
       ]
      },
      {
       "output_type": "stream",
       "stream": "stdout",
       "text": [
        "\n",
        "Warning  Keyword `XTRACALG' is being added to header.\n",
        "End      12-Nov-2012 16:24:44 EST\n",
        "\n",
        "*** CALSTIS-6 complete ***\n",
        "2012317162444-I--------------- CALSTIS-6 completed: OBRC070B0 ------------------\n"
       ]
      },
      {
       "output_type": "stream",
       "stream": "stdout",
       "text": [
        "\n",
        "5\n",
        "$$$$$$$$$$$$$$$$$$$$$$$$plotting$$$$$$$$$$$$$$$$$$$$$$$"
       ]
      },
      {
       "output_type": "stream",
       "stream": "stdout",
       "text": [
        "\n",
        "$$$$$$$$$$$$$$$$$$$$$$$$plotting$$$$$$$$$$$$$$$$$$$$$$$"
       ]
      },
      {
       "output_type": "stream",
       "stream": "stdout",
       "text": [
        "\n",
        "$$$$$$$$$$$$$$$$$$$$$$$$plotting$$$$$$$$$$$$$$$$$$$$$$$"
       ]
      },
      {
       "output_type": "stream",
       "stream": "stdout",
       "text": [
        "\n",
        "$$$$$$$$$$$$$$$$$$$$$$$$plotting$$$$$$$$$$$$$$$$$$$$$$$"
       ]
      },
      {
       "output_type": "stream",
       "stream": "stdout",
       "text": [
        "\n",
        "$$$$$$$$$$$$$$$$$$$$$$$$plotting$$$$$$$$$$$$$$$$$$$$$$$"
       ]
      },
      {
       "output_type": "stream",
       "stream": "stdout",
       "text": [
        "\n",
        "['obrc07060_flt.fits', 'obrc07050_flt.fits']"
       ]
      },
      {
       "output_type": "stream",
       "stream": "stdout",
       "text": [
        " -69.10065\n",
        "Found offset of -7"
       ]
      },
      {
       "output_type": "stream",
       "stream": "stdout",
       "text": [
        "\n",
        "#############################R136-NW4######################"
       ]
      },
      {
       "output_type": "stream",
       "stream": "stderr",
       "text": [
        "Legend does not support [<matplotlib.lines.Line2D object at 0x1122e9f90>]\n",
        "Use proxy artist instead.\n",
        "\n",
        "http://matplotlib.sourceforge.net/users/legend_guide.html#using-proxy-artist\n",
        "\n",
        "Legend does not support [<matplotlib.lines.Line2D object at 0x112646c50>]\n",
        "Use proxy artist instead.\n",
        "\n",
        "http://matplotlib.sourceforge.net/users/legend_guide.html#using-proxy-artist\n",
        "\n",
        "Legend does not support [<matplotlib.lines.Line2D object at 0x112646590>]\n",
        "Use proxy artist instead.\n",
        "\n",
        "http://matplotlib.sourceforge.net/users/legend_guide.html#using-proxy-artist\n",
        "\n",
        "Legend does not support [<matplotlib.lines.Line2D object at 0x111f8f810>]\n",
        "Use proxy artist instead.\n",
        "\n",
        "http://matplotlib.sourceforge.net/users/legend_guide.html#using-proxy-artist\n",
        "\n",
        "Overwriting existing file 'R136-NW4_3936_combined_img.fits'.\n"
       ]
      },
      {
       "output_type": "stream",
       "stream": "stdout",
       "text": [
        "\n",
        "[ -5.68872479e+04   7.55929642e+02   1.22629486e+02   2.44575733e+04\n",
        "  -2.01692726e+02   8.13524415e-01  -6.12245239e-04]"
       ]
      },
      {
       "output_type": "stream",
       "stream": "stdout",
       "text": [
        "\n",
        "Less than 3 points between 12 - 13"
       ]
      },
      {
       "output_type": "stream",
       "stream": "stdout",
       "text": [
        "\n",
        "Less than 3 points between 19 - 20\n",
        "Less than 3 points between 31 - 32\n",
        "Less than 3 points between 42 - 43\n",
        "Less than 3 points between 45 - 46\n",
        "Less than 3 points between 49 - 50\n",
        "Less than 3 points between 72 - 73\n",
        "Less than 3 points between 83 - 84\n",
        "Less than 3 points between 85 - 86\n",
        "Less than 3 points between 92 - 93\n",
        "Less than 3 points between 96 - 97\n",
        "Less than 3 points between 98 - 101\n",
        "Less than 3 points between 105 - 106\n",
        "Less than 3 points between 107 - 109\n",
        "Less than 3 points between 120 - 122\n",
        "Less than 3 points between 125 - 126\n",
        "Less than 3 points between 127 - 128\n",
        "Less than 3 points between 132 - 133\n",
        "[  3.14487425e+04   1.36570875e+02   4.97162438e+00]\n",
        "Less than 3 points between 144 - 145\n",
        "Less than 3 points between 146 - 147\n",
        "Less than 3 points between 155 - 158\n",
        "Less than 3 points between 182 - 183\n",
        "Less than 3 points between 194 - 195\n",
        "Less than 3 points between 196 - 198\n",
        "Less than 3 points between 203 - 204\n",
        "Less than 3 points between 209 - 210\n",
        "Less than 3 points between 214 - 215\n",
        "[  4.50272587e+04   2.19224543e+02  -3.02608611e+00]\n",
        "Less than 3 points between 226 - 227\n",
        "Less than 3 points between 233 - 234\n",
        "Less than 3 points between 239 - 240\n",
        "Less than 3 points between 260 - 261\n",
        "Less than 3 points between 263 - 264\n",
        "Less than 3 points between 278 - 279\n",
        "Less than 3 points between 288 - 289\n",
        "Less than 3 points between 302 - 303\n",
        "Less than 3 points between 312 - 313\n",
        "Less than 3 points between 319 - 320\n",
        "Less than 3 points between 326 - 327\n",
        "Less than 3 points between 359 - 360\n",
        "Less than 3 points between 507 - 508\n",
        "[  4.62192203e+05   5.23543293e+02  -3.87536873e+00]\n",
        "Less than 3 points between 622 - 623\n",
        "Less than 3 points between 634 - 635\n",
        "Less than 3 points between 675 - 677\n",
        "Less than 3 points between 682 - 683\n",
        "Less than 3 points between 690 - 691\n",
        "Less than 3 points between 696 - 697\n",
        "error"
       ]
      },
      {
       "output_type": "stream",
       "stream": "stdout",
       "text": [
        "\n",
        "error calculating fit for 704 - 709, skipping\n",
        "Less than 3 points between 720 - 721\n",
        "Less than 3 points between 725 - 726\n",
        "Less than 3 points between 727 - 728\n",
        "Less than 3 points between 747 - 748\n",
        "error\n",
        "error calculating fit for 750 - 755, skipping\n",
        "Less than 3 points between 758 - 759\n",
        "Less than 3 points between 761 - 762\n",
        "Less than 3 points between 769 - 770\n",
        "Less than 3 points between 772 - 773\n",
        "Less than 3 points between 787 - 789\n",
        "Less than 3 points between 792 - 794\n",
        "Less than 3 points between 797 - 798\n",
        "Less than 3 points between 799 - 801\n",
        "Less than 3 points between 808 - 809\n",
        "error"
       ]
      },
      {
       "output_type": "stream",
       "stream": "stdout",
       "text": [
        "\n",
        "error calculating fit for 812 - 816, skipping\n",
        "Less than 3 points between 829 - 831\n",
        "Less than 3 points between 846 - 847\n",
        "Less than 3 points between 952 - 953\n",
        "Less than 3 points between 973 - 976\n",
        "Less than 3 points between 979 - 981\n",
        "Less than 3 points between 999 - 1000\n",
        "Less than 3 points between 1015 - 1018\n",
        "Less than 3 points between 1021 - 1023\n",
        "Less than 3 points between 1026 - 1028\n",
        "[136.57087493681803, 219.22454309259814, 523.54329266934826]\n",
        "yloc = 136.570875"
       ]
      },
      {
       "output_type": "stream",
       "stream": "stdout",
       "text": [
        "\n",
        "!/usr/stsci/stsci_iraf_x/stsdas/bin.macintel/cs6.e 'obrc07060_flt.fits' '/user/bostroem/science/12465_otfr20121109/ccd/R136-NW4_loc136_3936_x1d.fits' -t -v -cte -disp -hel -flux -c 136.570874937 -r 4 -o1 12.0 -o2 12.0 -bm -bo 3 -a unweighted  -st 14.0\n"
       ]
      },
      {
       "output_type": "stream",
       "stream": "stdout",
       "text": [
        "\n",
        "*** CALSTIS-6 -- Version 2.40 (23-May-2012) ***\n",
        "Begin    12-Nov-2012 16:24:49 EST\n"
       ]
      },
      {
       "output_type": "stream",
       "stream": "stdout",
       "text": [
        "2012317162449-I--------------- CALSTIS-6 started -------------------------------\n",
        "\n",
        "Input    obrc07060_flt.fits\n",
        "Output   /user/bostroem/science/12465_otfr20121109/ccd/R136-NW4_loc136_3936_x1d.fits\n",
        "Rootname obrc07060\n",
        "OBSMODE  ACCUM\n",
        "APERTURE 52X0.2\n",
        "OPT_ELEM G430M\n",
        "DETECTOR CCD\n"
       ]
      },
      {
       "output_type": "stream",
       "stream": "stdout",
       "text": [
        "\n",
        "XTRACTAB oref$n7p1031qo_1dx.fits\n",
        "XTRACTAB PEDIGREE=INFLIGHT 18/05/97\n",
        "XTRACTAB DESCRIP =Analysis from prop. 7094\n",
        "SPTRCTAB oref$qa31608go_1dt.fits\n",
        "\n",
        "Imset 1  Begin 16:24:49 EST\n"
       ]
      },
      {
       "output_type": "stream",
       "stream": "stdout",
       "text": [
        "         Input read into memory.\n",
        "         Offset of 14 low-res pixels added in dispersion direction\n",
        "Order 1  Begin 16:24:50 EST\n",
        "X1DCORR  PERFORM\n"
       ]
      },
      {
       "output_type": "stream",
       "stream": "stdout",
       "text": [
        "         Cross correlation offset: 1.16747 pixels\n",
        "BACKCORR OMIT\n"
       ]
      },
      {
       "output_type": "stream",
       "stream": "stdout",
       "text": [
        "X1DCORR  COMPLETE\n",
        "2012317162450-I--------------- X1DCORR complete: OBRC07060 ---------------------\n",
        "         Spectrum extracted at y position = 137.738\n",
        "         Extraction box height = 7\n",
        "         Background box 1 height = 5 offset 12 from A2CENTER\n",
        "         Background box 2 height = 5 offset 12 from A2CENTER\n",
        "\n",
        "DISPCORR PERFORM\n",
        "DISPTAB  oref$l2j0137to_dsp.fits\n",
        "DISPTAB  PEDIGREE=INFLIGHT 27/02/1997 24/11/1999\n",
        "DISPTAB  DESCRIP =Lindler Postlaunch, May 2000\n",
        "APDESTAB oref$obm1723ro_apd.fits\n",
        "APDESTAB PEDIGREE=INFLIGHT 01/03/1997 01/03/1997\n",
        "APDESTAB DESCRIP =Microscope Meas./Hartig Post-launch Offsets\n",
        "INANGTAB oref$h5s11397o_iac.fits\n"
       ]
      },
      {
       "output_type": "stream",
       "stream": "stdout",
       "text": [
        "         Delta = 0.074666 arcsec.\n",
        "DISPCORR COMPLETE\n",
        "2012317162450-I--------------- DISPCORR complete: OBRC07060 --------------------\n",
        "\n",
        "HELCORR  PERFORM\n",
        "HELCORR  COMPLETE\n",
        "2012317162450-I--------------- HELCORR complete: OBRC07060 ---------------------\n",
        "\n",
        "PHOTTAB  oref$p822207no_pht.fits\n",
        "APERTAB  oref$n7p1032ao_apt.fits\n",
        "APERTAB  PEDIGREE=MODEL\n",
        "APERTAB  DESCRIP =Bohlin/Hartig TIM Models Nov. 1998\n",
        "PCTAB    oref$q541740oo_pct.fits\n",
        "TDSTAB   oref$t9a1003so_tds.fits\n"
       ]
      },
      {
       "output_type": "stream",
       "stream": "stdout",
       "text": [
        "FLUXCORR PERFORM\n",
        "CTECORR  PERFORM\n",
        "CCDTAB   oref$v6n13233o_ccd.fits\n",
        "CCDTAB   PEDIGREE=INFLIGHT 01/05/2009 01/05/2009\n",
        "CCDTAB   DESCRIP =Proposal 8057, by I. Dashevsky & P. Goudfrooij\n"
       ]
      },
      {
       "output_type": "stream",
       "stream": "stdout",
       "text": [
        "CTECORR  COMPLETE\n",
        "FLUXCORR COMPLETE\n",
        "2012317162450-I--------------- FLUXCORR complete: OBRC07060 --------------------\n",
        "\n",
        "SGEOCORR OMIT\n"
       ]
      },
      {
       "output_type": "stream",
       "stream": "stdout",
       "text": [
        "\n",
        "         Row 1 written to disk.\n",
        "Order 1  End 16:24:50 EST\n"
       ]
      },
      {
       "output_type": "stream",
       "stream": "stdout",
       "text": [
        "\n",
        "Imset 1  End 16:24:50 EST\n"
       ]
      },
      {
       "output_type": "stream",
       "stream": "stdout",
       "text": [
        "\n",
        "Warning  Keyword `XTRACALG' is being added to header.\n",
        "End      12-Nov-2012 16:24:50 EST\n",
        "\n",
        "*** CALSTIS-6 complete ***\n",
        "2012317162450-I--------------- CALSTIS-6 completed: OBRC07060 ------------------\n"
       ]
      },
      {
       "output_type": "stream",
       "stream": "stdout",
       "text": [
        "\n",
        "!/usr/stsci/stsci_iraf_x/stsdas/bin.macintel/cs6.e 'obrc07060_flt.fits' '/user/bostroem/science/12465_otfr20121109/ccd/extracted_spectra_fits/R136-NW4_loc136_3936_x1d.fits' -t -v -cte -disp -hel -flux -c 136.570874937 -r 0 -o1 12.0 -o2 12.0 -bm -bo 3 -a unweighted  -st 14.0\n"
       ]
      },
      {
       "output_type": "stream",
       "stream": "stdout",
       "text": [
        "\n",
        "*** CALSTIS-6 -- Version 2.40 (23-May-2012) ***\n",
        "Begin    12-Nov-2012 16:24:50 EST\n"
       ]
      },
      {
       "output_type": "stream",
       "stream": "stdout",
       "text": [
        "2012317162450-I--------------- CALSTIS-6 started -------------------------------\n",
        "\n",
        "Input    obrc07060_flt.fits\n",
        "Output   /user/bostroem/science/12465_otfr20121109/ccd/extracted_spectra_fits/R136-NW4_loc136_3936_x1d.fits\n",
        "Rootname obrc07060\n",
        "OBSMODE  ACCUM\n",
        "APERTURE 52X0.2\n",
        "OPT_ELEM G430M\n",
        "DETECTOR CCD\n"
       ]
      },
      {
       "output_type": "stream",
       "stream": "stdout",
       "text": [
        "\n",
        "XTRACTAB oref$n7p1031qo_1dx.fits\n",
        "XTRACTAB PEDIGREE=INFLIGHT 18/05/97\n",
        "XTRACTAB DESCRIP =Analysis from prop. 7094\n",
        "SPTRCTAB oref$qa31608go_1dt.fits\n",
        "\n",
        "Imset 1  Begin 16:24:50 EST\n"
       ]
      },
      {
       "output_type": "stream",
       "stream": "stdout",
       "text": [
        "         Input read into memory.\n",
        "         Offset of 14 low-res pixels added in dispersion direction\n",
        "Order 1  Begin 16:24:50 EST\n",
        "X1DCORR  PERFORM\n"
       ]
      },
      {
       "output_type": "stream",
       "stream": "stdout",
       "text": [
        "         Cross correlation offset: 0 pixels\n",
        "BACKCORR OMIT\n"
       ]
      },
      {
       "output_type": "stream",
       "stream": "stdout",
       "text": [
        "X1DCORR  COMPLETE\n",
        "2012317162450-I--------------- X1DCORR complete: OBRC07060 ---------------------\n",
        "         Spectrum extracted at y position = 136.571\n",
        "         Extraction box height = 7\n",
        "         Background box 1 height = 5 offset 12 from A2CENTER\n",
        "         Background box 2 height = 5 offset 12 from A2CENTER\n",
        "\n",
        "DISPCORR PERFORM\n",
        "DISPTAB  oref$l2j0137to_dsp.fits\n",
        "DISPTAB  PEDIGREE=INFLIGHT 27/02/1997 24/11/1999\n",
        "DISPTAB  DESCRIP =Lindler Postlaunch, May 2000\n",
        "APDESTAB oref$obm1723ro_apd.fits\n",
        "APDESTAB PEDIGREE=INFLIGHT 01/03/1997 01/03/1997\n",
        "APDESTAB DESCRIP =Microscope Meas./Hartig Post-launch Offsets\n",
        "INANGTAB oref$h5s11397o_iac.fits\n"
       ]
      },
      {
       "output_type": "stream",
       "stream": "stdout",
       "text": [
        "         Delta = 0.074666 arcsec.\n",
        "DISPCORR COMPLETE\n",
        "2012317162450-I--------------- DISPCORR complete: OBRC07060 --------------------\n",
        "\n",
        "HELCORR  PERFORM\n",
        "HELCORR  COMPLETE\n",
        "2012317162450-I--------------- HELCORR complete: OBRC07060 ---------------------\n",
        "\n",
        "PHOTTAB  oref$p822207no_pht.fits\n",
        "APERTAB  oref$n7p1032ao_apt.fits\n",
        "APERTAB  PEDIGREE=MODEL\n",
        "APERTAB  DESCRIP =Bohlin/Hartig TIM Models Nov. 1998\n",
        "PCTAB    oref$q541740oo_pct.fits\n",
        "TDSTAB   oref$t9a1003so_tds.fits\n"
       ]
      },
      {
       "output_type": "stream",
       "stream": "stdout",
       "text": [
        "FLUXCORR PERFORM\n",
        "CTECORR  PERFORM\n",
        "CCDTAB   oref$v6n13233o_ccd.fits\n",
        "CCDTAB   PEDIGREE=INFLIGHT 01/05/2009 01/05/2009\n",
        "CCDTAB   DESCRIP =Proposal 8057, by I. Dashevsky & P. Goudfrooij\n"
       ]
      },
      {
       "output_type": "stream",
       "stream": "stdout",
       "text": [
        "CTECORR  COMPLETE\n",
        "FLUXCORR COMPLETE\n",
        "2012317162450-I--------------- FLUXCORR complete: OBRC07060 --------------------\n",
        "\n",
        "SGEOCORR OMIT\n"
       ]
      },
      {
       "output_type": "stream",
       "stream": "stdout",
       "text": [
        "\n",
        "         Row 1 written to disk.\n",
        "Order 1  End 16:24:50 EST\n"
       ]
      },
      {
       "output_type": "stream",
       "stream": "stdout",
       "text": [
        "\n",
        "Imset 1  End 16:24:50 EST\n"
       ]
      },
      {
       "output_type": "stream",
       "stream": "stdout",
       "text": [
        "\n",
        "Warning  Keyword `XTRACALG' is being added to header.\n",
        "End      12-Nov-2012 16:24:50 EST\n",
        "\n",
        "*** CALSTIS-6 complete ***\n",
        "2012317162450-I--------------- CALSTIS-6 completed: OBRC07060 ------------------\n"
       ]
      },
      {
       "output_type": "stream",
       "stream": "stdout",
       "text": [
        "\n",
        "yloc = 219.224543"
       ]
      },
      {
       "output_type": "stream",
       "stream": "stdout",
       "text": [
        "\n",
        "!/usr/stsci/stsci_iraf_x/stsdas/bin.macintel/cs6.e 'obrc07060_flt.fits' '/user/bostroem/science/12465_otfr20121109/ccd/R136-NW4_loc219_3936_x1d.fits' -t -v -cte -disp -hel -flux -c 219.224543093 -r 4 -o1 12.0 -o2 12.0 -bm -bo 3 -a unweighted  -st 14.0\n"
       ]
      },
      {
       "output_type": "stream",
       "stream": "stdout",
       "text": [
        "\n",
        "*** CALSTIS-6 -- Version 2.40 (23-May-2012) ***\n",
        "Begin    12-Nov-2012 16:24:51 EST\n"
       ]
      },
      {
       "output_type": "stream",
       "stream": "stdout",
       "text": [
        "2012317162451-I--------------- CALSTIS-6 started -------------------------------\n",
        "\n",
        "Input    obrc07060_flt.fits\n",
        "Output   /user/bostroem/science/12465_otfr20121109/ccd/R136-NW4_loc219_3936_x1d.fits\n",
        "Rootname obrc07060\n",
        "OBSMODE  ACCUM\n",
        "APERTURE 52X0.2\n",
        "OPT_ELEM G430M\n",
        "DETECTOR CCD\n"
       ]
      },
      {
       "output_type": "stream",
       "stream": "stdout",
       "text": [
        "\n",
        "XTRACTAB oref$n7p1031qo_1dx.fits\n",
        "XTRACTAB PEDIGREE=INFLIGHT 18/05/97\n",
        "XTRACTAB DESCRIP =Analysis from prop. 7094\n",
        "SPTRCTAB oref$qa31608go_1dt.fits\n",
        "\n",
        "Imset 1  Begin 16:24:51 EST\n"
       ]
      },
      {
       "output_type": "stream",
       "stream": "stdout",
       "text": [
        "         Input read into memory.\n",
        "         Offset of 14 low-res pixels added in dispersion direction\n",
        "Order 1  Begin 16:24:51 EST\n",
        "X1DCORR  PERFORM\n"
       ]
      },
      {
       "output_type": "stream",
       "stream": "stdout",
       "text": [
        "         Cross correlation offset: 1.67082 pixels\n",
        "BACKCORR OMIT\n"
       ]
      },
      {
       "output_type": "stream",
       "stream": "stdout",
       "text": [
        "X1DCORR  COMPLETE\n",
        "2012317162451-I--------------- X1DCORR complete: OBRC07060 ---------------------\n",
        "         Spectrum extracted at y position = 220.895\n",
        "         Extraction box height = 7\n",
        "         Background box 1 height = 5 offset 12 from A2CENTER\n",
        "         Background box 2 height = 5 offset 12 from A2CENTER\n",
        "\n",
        "DISPCORR PERFORM\n",
        "DISPTAB  oref$l2j0137to_dsp.fits\n",
        "DISPTAB  PEDIGREE=INFLIGHT 27/02/1997 24/11/1999\n",
        "DISPTAB  DESCRIP =Lindler Postlaunch, May 2000\n",
        "APDESTAB oref$obm1723ro_apd.fits\n",
        "APDESTAB PEDIGREE=INFLIGHT 01/03/1997 01/03/1997\n",
        "APDESTAB DESCRIP =Microscope Meas./Hartig Post-launch Offsets\n",
        "INANGTAB oref$h5s11397o_iac.fits\n"
       ]
      },
      {
       "output_type": "stream",
       "stream": "stdout",
       "text": [
        "         Delta = 0.074666 arcsec.\n",
        "DISPCORR COMPLETE\n",
        "2012317162451-I--------------- DISPCORR complete: OBRC07060 --------------------\n",
        "\n",
        "HELCORR  PERFORM\n",
        "HELCORR  COMPLETE\n",
        "2012317162451-I--------------- HELCORR complete: OBRC07060 ---------------------\n",
        "\n",
        "PHOTTAB  oref$p822207no_pht.fits\n",
        "APERTAB  oref$n7p1032ao_apt.fits\n",
        "APERTAB  PEDIGREE=MODEL\n",
        "APERTAB  DESCRIP =Bohlin/Hartig TIM Models Nov. 1998\n",
        "PCTAB    oref$q541740oo_pct.fits\n",
        "TDSTAB   oref$t9a1003so_tds.fits\n"
       ]
      },
      {
       "output_type": "stream",
       "stream": "stdout",
       "text": [
        "FLUXCORR PERFORM\n",
        "CTECORR  PERFORM\n",
        "CCDTAB   oref$v6n13233o_ccd.fits\n",
        "CCDTAB   PEDIGREE=INFLIGHT 01/05/2009 01/05/2009\n",
        "CCDTAB   DESCRIP =Proposal 8057, by I. Dashevsky & P. Goudfrooij\n"
       ]
      },
      {
       "output_type": "stream",
       "stream": "stdout",
       "text": [
        "CTECORR  COMPLETE\n",
        "FLUXCORR COMPLETE\n",
        "2012317162451-I--------------- FLUXCORR complete: OBRC07060 --------------------\n",
        "\n",
        "SGEOCORR OMIT\n"
       ]
      },
      {
       "output_type": "stream",
       "stream": "stdout",
       "text": [
        "\n",
        "         Row 1 written to disk.\n",
        "Order 1  End 16:24:51 EST\n"
       ]
      },
      {
       "output_type": "stream",
       "stream": "stdout",
       "text": [
        "\n",
        "Imset 1  End 16:24:51 EST\n"
       ]
      },
      {
       "output_type": "stream",
       "stream": "stdout",
       "text": [
        "\n",
        "Warning  Keyword `XTRACALG' is being added to header.\n",
        "End      12-Nov-2012 16:24:51 EST\n",
        "\n",
        "*** CALSTIS-6 complete ***\n",
        "2012317162451-I--------------- CALSTIS-6 completed: OBRC07060 ------------------\n"
       ]
      },
      {
       "output_type": "stream",
       "stream": "stdout",
       "text": [
        "\n",
        "!/usr/stsci/stsci_iraf_x/stsdas/bin.macintel/cs6.e 'obrc07060_flt.fits' '/user/bostroem/science/12465_otfr20121109/ccd/extracted_spectra_fits/R136-NW4_loc219_3936_x1d.fits' -t -v -cte -disp -hel -flux -c 219.224543093 -r 0 -o1 12.0 -o2 12.0 -bm -bo 3 -a unweighted  -st 14.0\n"
       ]
      },
      {
       "output_type": "stream",
       "stream": "stdout",
       "text": [
        "\n",
        "*** CALSTIS-6 -- Version 2.40 (23-May-2012) ***\n",
        "Begin    12-Nov-2012 16:24:51 EST\n"
       ]
      },
      {
       "output_type": "stream",
       "stream": "stdout",
       "text": [
        "2012317162451-I--------------- CALSTIS-6 started -------------------------------\n",
        "\n",
        "Input    obrc07060_flt.fits\n",
        "Output   /user/bostroem/science/12465_otfr20121109/ccd/extracted_spectra_fits/R136-NW4_loc219_3936_x1d.fits\n",
        "Rootname obrc07060\n",
        "OBSMODE  ACCUM\n",
        "APERTURE 52X0.2\n",
        "OPT_ELEM G430M\n",
        "DETECTOR CCD\n"
       ]
      },
      {
       "output_type": "stream",
       "stream": "stdout",
       "text": [
        "\n",
        "XTRACTAB oref$n7p1031qo_1dx.fits\n",
        "XTRACTAB PEDIGREE=INFLIGHT 18/05/97\n",
        "XTRACTAB DESCRIP =Analysis from prop. 7094\n",
        "SPTRCTAB oref$qa31608go_1dt.fits\n",
        "\n",
        "Imset 1  Begin 16:24:51 EST\n"
       ]
      },
      {
       "output_type": "stream",
       "stream": "stdout",
       "text": [
        "         Input read into memory.\n",
        "         Offset of 14 low-res pixels added in dispersion direction\n",
        "Order 1  Begin 16:24:51 EST\n",
        "X1DCORR  PERFORM\n"
       ]
      },
      {
       "output_type": "stream",
       "stream": "stdout",
       "text": [
        "         Cross correlation offset: 0 pixels\n",
        "BACKCORR OMIT\n"
       ]
      },
      {
       "output_type": "stream",
       "stream": "stdout",
       "text": [
        "X1DCORR  COMPLETE\n",
        "2012317162451-I--------------- X1DCORR complete: OBRC07060 ---------------------\n",
        "         Spectrum extracted at y position = 219.225\n",
        "         Extraction box height = 7\n",
        "         Background box 1 height = 5 offset 12 from A2CENTER\n",
        "         Background box 2 height = 5 offset 12 from A2CENTER\n",
        "\n",
        "DISPCORR PERFORM\n",
        "DISPTAB  oref$l2j0137to_dsp.fits\n",
        "DISPTAB  PEDIGREE=INFLIGHT 27/02/1997 24/11/1999\n",
        "DISPTAB  DESCRIP =Lindler Postlaunch, May 2000\n",
        "APDESTAB oref$obm1723ro_apd.fits\n",
        "APDESTAB PEDIGREE=INFLIGHT 01/03/1997 01/03/1997\n",
        "APDESTAB DESCRIP =Microscope Meas./Hartig Post-launch Offsets\n",
        "INANGTAB oref$h5s11397o_iac.fits\n"
       ]
      },
      {
       "output_type": "stream",
       "stream": "stdout",
       "text": [
        "         Delta = 0.074666 arcsec.\n",
        "DISPCORR COMPLETE\n",
        "2012317162451-I--------------- DISPCORR complete: OBRC07060 --------------------\n",
        "\n",
        "HELCORR  PERFORM\n",
        "HELCORR  COMPLETE\n",
        "2012317162451-I--------------- HELCORR complete: OBRC07060 ---------------------\n",
        "\n",
        "PHOTTAB  oref$p822207no_pht.fits\n",
        "APERTAB  oref$n7p1032ao_apt.fits\n",
        "APERTAB  PEDIGREE=MODEL\n",
        "APERTAB  DESCRIP =Bohlin/Hartig TIM Models Nov. 1998\n",
        "PCTAB    oref$q541740oo_pct.fits\n",
        "TDSTAB   oref$t9a1003so_tds.fits\n"
       ]
      },
      {
       "output_type": "stream",
       "stream": "stdout",
       "text": [
        "FLUXCORR PERFORM\n",
        "CTECORR  PERFORM\n",
        "CCDTAB   oref$v6n13233o_ccd.fits\n",
        "CCDTAB   PEDIGREE=INFLIGHT 01/05/2009 01/05/2009\n",
        "CCDTAB   DESCRIP =Proposal 8057, by I. Dashevsky & P. Goudfrooij\n"
       ]
      },
      {
       "output_type": "stream",
       "stream": "stdout",
       "text": [
        "CTECORR  COMPLETE\n",
        "FLUXCORR COMPLETE\n",
        "2012317162451-I--------------- FLUXCORR complete: OBRC07060 --------------------\n",
        "\n",
        "SGEOCORR OMIT\n"
       ]
      },
      {
       "output_type": "stream",
       "stream": "stdout",
       "text": [
        "\n",
        "         Row 1 written to disk.\n",
        "Order 1  End 16:24:51 EST\n"
       ]
      },
      {
       "output_type": "stream",
       "stream": "stdout",
       "text": [
        "\n",
        "Imset 1  End 16:24:51 EST\n"
       ]
      },
      {
       "output_type": "stream",
       "stream": "stdout",
       "text": [
        "\n",
        "Warning  Keyword `XTRACALG' is being added to header.\n",
        "End      12-Nov-2012 16:24:51 EST\n",
        "\n",
        "*** CALSTIS-6 complete ***\n",
        "2012317162451-I--------------- CALSTIS-6 completed: OBRC07060 ------------------\n"
       ]
      },
      {
       "output_type": "stream",
       "stream": "stdout",
       "text": [
        "\n",
        "yloc = 523.543293"
       ]
      },
      {
       "output_type": "stream",
       "stream": "stdout",
       "text": [
        "\n",
        "!/usr/stsci/stsci_iraf_x/stsdas/bin.macintel/cs6.e 'obrc07060_flt.fits' '/user/bostroem/science/12465_otfr20121109/ccd/R136-NW4_loc523_3936_x1d.fits' -t -v -cte -disp -hel -flux -c 523.543292669 -r 4 -o1 12.0 -o2 12.0 -bm -bo 3 -a unweighted  -st 14.0\n"
       ]
      },
      {
       "output_type": "stream",
       "stream": "stdout",
       "text": [
        "\n",
        "*** CALSTIS-6 -- Version 2.40 (23-May-2012) ***\n",
        "Begin    12-Nov-2012 16:24:52 EST\n"
       ]
      },
      {
       "output_type": "stream",
       "stream": "stdout",
       "text": [
        "2012317162452-I--------------- CALSTIS-6 started -------------------------------\n",
        "\n",
        "Input    obrc07060_flt.fits\n",
        "Output   /user/bostroem/science/12465_otfr20121109/ccd/R136-NW4_loc523_3936_x1d.fits\n",
        "Rootname obrc07060\n",
        "OBSMODE  ACCUM\n",
        "APERTURE 52X0.2\n",
        "OPT_ELEM G430M\n",
        "DETECTOR CCD\n"
       ]
      },
      {
       "output_type": "stream",
       "stream": "stdout",
       "text": [
        "\n",
        "XTRACTAB oref$n7p1031qo_1dx.fits\n",
        "XTRACTAB PEDIGREE=INFLIGHT 18/05/97\n",
        "XTRACTAB DESCRIP =Analysis from prop. 7094\n",
        "SPTRCTAB oref$qa31608go_1dt.fits\n",
        "\n",
        "Imset 1  Begin 16:24:52 EST\n"
       ]
      },
      {
       "output_type": "stream",
       "stream": "stdout",
       "text": [
        "         Input read into memory.\n",
        "         Offset of 14 low-res pixels added in dispersion direction\n",
        "Order 1  Begin 16:24:52 EST\n",
        "X1DCORR  PERFORM\n"
       ]
      },
      {
       "output_type": "stream",
       "stream": "stdout",
       "text": [
        "         Cross correlation offset: 0.887662 pixels\n",
        "BACKCORR OMIT\n"
       ]
      },
      {
       "output_type": "stream",
       "stream": "stdout",
       "text": [
        "X1DCORR  COMPLETE\n",
        "2012317162452-I--------------- X1DCORR complete: OBRC07060 ---------------------\n",
        "         Spectrum extracted at y position = 524.431\n",
        "         Extraction box height = 7\n",
        "         Background box 1 height = 5 offset 12 from A2CENTER\n",
        "         Background box 2 height = 5 offset 12 from A2CENTER\n",
        "\n",
        "DISPCORR PERFORM\n",
        "DISPTAB  oref$l2j0137to_dsp.fits\n",
        "DISPTAB  PEDIGREE=INFLIGHT 27/02/1997 24/11/1999\n",
        "DISPTAB  DESCRIP =Lindler Postlaunch, May 2000\n",
        "APDESTAB oref$obm1723ro_apd.fits\n",
        "APDESTAB PEDIGREE=INFLIGHT 01/03/1997 01/03/1997\n",
        "APDESTAB DESCRIP =Microscope Meas./Hartig Post-launch Offsets\n",
        "INANGTAB oref$h5s11397o_iac.fits\n"
       ]
      },
      {
       "output_type": "stream",
       "stream": "stdout",
       "text": [
        "         Delta = 0.074666 arcsec.\n",
        "DISPCORR COMPLETE\n",
        "2012317162452-I--------------- DISPCORR complete: OBRC07060 --------------------\n",
        "\n",
        "HELCORR  PERFORM\n",
        "HELCORR  COMPLETE\n",
        "2012317162452-I--------------- HELCORR complete: OBRC07060 ---------------------\n",
        "\n",
        "PHOTTAB  oref$p822207no_pht.fits\n",
        "APERTAB  oref$n7p1032ao_apt.fits\n",
        "APERTAB  PEDIGREE=MODEL\n",
        "APERTAB  DESCRIP =Bohlin/Hartig TIM Models Nov. 1998\n",
        "PCTAB    oref$q541740oo_pct.fits\n",
        "TDSTAB   oref$t9a1003so_tds.fits\n"
       ]
      },
      {
       "output_type": "stream",
       "stream": "stdout",
       "text": [
        "FLUXCORR PERFORM\n",
        "CTECORR  PERFORM\n",
        "CCDTAB   oref$v6n13233o_ccd.fits\n",
        "CCDTAB   PEDIGREE=INFLIGHT 01/05/2009 01/05/2009\n",
        "CCDTAB   DESCRIP =Proposal 8057, by I. Dashevsky & P. Goudfrooij\n"
       ]
      },
      {
       "output_type": "stream",
       "stream": "stdout",
       "text": [
        "CTECORR  COMPLETE\n",
        "FLUXCORR COMPLETE\n",
        "2012317162452-I--------------- FLUXCORR complete: OBRC07060 --------------------\n",
        "\n",
        "SGEOCORR OMIT\n"
       ]
      },
      {
       "output_type": "stream",
       "stream": "stdout",
       "text": [
        "\n",
        "         Row 1 written to disk.\n",
        "Order 1  End 16:24:52 EST\n"
       ]
      },
      {
       "output_type": "stream",
       "stream": "stdout",
       "text": [
        "\n",
        "Imset 1  End 16:24:52 EST\n"
       ]
      },
      {
       "output_type": "stream",
       "stream": "stdout",
       "text": [
        "\n",
        "Warning  Keyword `XTRACALG' is being added to header.\n",
        "End      12-Nov-2012 16:24:52 EST\n",
        "\n",
        "*** CALSTIS-6 complete ***\n",
        "2012317162452-I--------------- CALSTIS-6 completed: OBRC07060 ------------------\n"
       ]
      },
      {
       "output_type": "stream",
       "stream": "stdout",
       "text": [
        "\n",
        "!/usr/stsci/stsci_iraf_x/stsdas/bin.macintel/cs6.e 'obrc07060_flt.fits' '/user/bostroem/science/12465_otfr20121109/ccd/extracted_spectra_fits/R136-NW4_loc523_3936_x1d.fits' -t -v -cte -disp -hel -flux -c 523.543292669 -r 0 -o1 12.0 -o2 12.0 -bm -bo 3 -a unweighted  -st 14.0\n"
       ]
      },
      {
       "output_type": "stream",
       "stream": "stdout",
       "text": [
        "\n",
        "*** CALSTIS-6 -- Version 2.40 (23-May-2012) ***\n",
        "Begin    12-Nov-2012 16:24:52 EST\n"
       ]
      },
      {
       "output_type": "stream",
       "stream": "stdout",
       "text": [
        "2012317162452-I--------------- CALSTIS-6 started -------------------------------\n",
        "\n",
        "Input    obrc07060_flt.fits\n",
        "Output   /user/bostroem/science/12465_otfr20121109/ccd/extracted_spectra_fits/R136-NW4_loc523_3936_x1d.fits\n",
        "Rootname obrc07060\n",
        "OBSMODE  ACCUM\n",
        "APERTURE 52X0.2\n",
        "OPT_ELEM G430M\n",
        "DETECTOR CCD\n"
       ]
      },
      {
       "output_type": "stream",
       "stream": "stdout",
       "text": [
        "\n",
        "XTRACTAB oref$n7p1031qo_1dx.fits\n",
        "XTRACTAB PEDIGREE=INFLIGHT 18/05/97\n",
        "XTRACTAB DESCRIP =Analysis from prop. 7094\n",
        "SPTRCTAB oref$qa31608go_1dt.fits\n",
        "\n",
        "Imset 1  Begin 16:24:52 EST\n"
       ]
      },
      {
       "output_type": "stream",
       "stream": "stdout",
       "text": [
        "         Input read into memory.\n",
        "         Offset of 14 low-res pixels added in dispersion direction\n",
        "Order 1  Begin 16:24:52 EST\n",
        "X1DCORR  PERFORM\n"
       ]
      },
      {
       "output_type": "stream",
       "stream": "stdout",
       "text": [
        "         Cross correlation offset: 0 pixels\n",
        "BACKCORR OMIT\n"
       ]
      },
      {
       "output_type": "stream",
       "stream": "stdout",
       "text": [
        "X1DCORR  COMPLETE\n",
        "2012317162452-I--------------- X1DCORR complete: OBRC07060 ---------------------\n",
        "         Spectrum extracted at y position = 523.543\n",
        "         Extraction box height = 7\n",
        "         Background box 1 height = 5 offset 12 from A2CENTER\n",
        "         Background box 2 height = 5 offset 12 from A2CENTER\n",
        "\n",
        "DISPCORR PERFORM\n",
        "DISPTAB  oref$l2j0137to_dsp.fits\n",
        "DISPTAB  PEDIGREE=INFLIGHT 27/02/1997 24/11/1999\n",
        "DISPTAB  DESCRIP =Lindler Postlaunch, May 2000\n",
        "APDESTAB oref$obm1723ro_apd.fits\n",
        "APDESTAB PEDIGREE=INFLIGHT 01/03/1997 01/03/1997\n",
        "APDESTAB DESCRIP =Microscope Meas./Hartig Post-launch Offsets\n",
        "INANGTAB oref$h5s11397o_iac.fits\n"
       ]
      },
      {
       "output_type": "stream",
       "stream": "stdout",
       "text": [
        "         Delta = 0.074666 arcsec.\n",
        "DISPCORR COMPLETE\n",
        "2012317162452-I--------------- DISPCORR complete: OBRC07060 --------------------\n",
        "\n",
        "HELCORR  PERFORM\n",
        "HELCORR  COMPLETE\n",
        "2012317162452-I--------------- HELCORR complete: OBRC07060 ---------------------\n",
        "\n",
        "PHOTTAB  oref$p822207no_pht.fits\n",
        "APERTAB  oref$n7p1032ao_apt.fits\n",
        "APERTAB  PEDIGREE=MODEL\n",
        "APERTAB  DESCRIP =Bohlin/Hartig TIM Models Nov. 1998\n",
        "PCTAB    oref$q541740oo_pct.fits\n",
        "TDSTAB   oref$t9a1003so_tds.fits\n"
       ]
      },
      {
       "output_type": "stream",
       "stream": "stdout",
       "text": [
        "FLUXCORR PERFORM\n",
        "CTECORR  PERFORM\n",
        "CCDTAB   oref$v6n13233o_ccd.fits\n",
        "CCDTAB   PEDIGREE=INFLIGHT 01/05/2009 01/05/2009\n",
        "CCDTAB   DESCRIP =Proposal 8057, by I. Dashevsky & P. Goudfrooij\n"
       ]
      },
      {
       "output_type": "stream",
       "stream": "stdout",
       "text": [
        "CTECORR  COMPLETE\n",
        "FLUXCORR COMPLETE\n",
        "2012317162452-I--------------- FLUXCORR complete: OBRC07060 --------------------\n",
        "\n",
        "SGEOCORR OMIT\n"
       ]
      },
      {
       "output_type": "stream",
       "stream": "stdout",
       "text": [
        "\n",
        "         Row 1 written to disk.\n",
        "Order 1  End 16:24:52 EST\n"
       ]
      },
      {
       "output_type": "stream",
       "stream": "stdout",
       "text": [
        "\n",
        "Imset 1  End 16:24:52 EST\n"
       ]
      },
      {
       "output_type": "stream",
       "stream": "stdout",
       "text": [
        "\n",
        "Warning  Keyword `XTRACALG' is being added to header.\n",
        "End      12-Nov-2012 16:24:53 EST\n",
        "\n",
        "*** CALSTIS-6 complete ***\n",
        "2012317162453-I--------------- CALSTIS-6 completed: OBRC07060 ------------------\n"
       ]
      },
      {
       "output_type": "stream",
       "stream": "stdout",
       "text": [
        "\n",
        "3\n",
        "$$$$$$$$$$$$$$$$$$$$$$$$plotting$$$$$$$$$$$$$$$$$$$$$$$"
       ]
      },
      {
       "output_type": "stream",
       "stream": "stdout",
       "text": [
        "\n",
        "$$$$$$$$$$$$$$$$$$$$$$$$plotting$$$$$$$$$$$$$$$$$$$$$$$"
       ]
      },
      {
       "output_type": "stream",
       "stream": "stdout",
       "text": [
        "\n",
        "$$$$$$$$$$$$$$$$$$$$$$$$plotting$$$$$$$$$$$$$$$$$$$$$$$"
       ]
      },
      {
       "output_type": "stream",
       "stream": "stdout",
       "text": [
        "\n",
        "['obrc01070_flt.fits', 'obrc01080_flt.fits']"
       ]
      },
      {
       "output_type": "stream",
       "stream": "stdout",
       "text": [
        " -69.1011\n",
        "Found offset of 7"
       ]
      },
      {
       "output_type": "stream",
       "stream": "stdout",
       "text": [
        "\n",
        "#############################R136-SE6######################"
       ]
      },
      {
       "output_type": "stream",
       "stream": "stderr",
       "text": [
        "Legend does not support [<matplotlib.lines.Line2D object at 0x1123b1450>]\n",
        "Use proxy artist instead.\n",
        "\n",
        "http://matplotlib.sourceforge.net/users/legend_guide.html#using-proxy-artist\n",
        "\n",
        "Legend does not support [<matplotlib.lines.Line2D object at 0x113315110>]\n",
        "Use proxy artist instead.\n",
        "\n",
        "http://matplotlib.sourceforge.net/users/legend_guide.html#using-proxy-artist\n",
        "\n",
        "Legend does not support [<matplotlib.lines.Line2D object at 0x113315f50>]\n",
        "Use proxy artist instead.\n",
        "\n",
        "http://matplotlib.sourceforge.net/users/legend_guide.html#using-proxy-artist\n",
        "\n",
        "Legend does not support [<matplotlib.lines.Line2D object at 0x11212aad0>]\n",
        "Use proxy artist instead.\n",
        "\n",
        "http://matplotlib.sourceforge.net/users/legend_guide.html#using-proxy-artist\n",
        "\n",
        "Overwriting existing file 'R136-SE6_3936_combined_img.fits'.\n"
       ]
      },
      {
       "output_type": "stream",
       "stream": "stdout",
       "text": [
        "\n",
        "[ -6.83521342e+04   7.61327297e+02   1.10034465e+02   2.54653705e+04\n",
        "  -2.44895049e+02   9.20193745e-01  -6.69988321e-04]"
       ]
      },
      {
       "output_type": "stream",
       "stream": "stdout",
       "text": [
        "\n",
        "Less than 3 points between 4 - 6"
       ]
      },
      {
       "output_type": "stream",
       "stream": "stdout",
       "text": [
        "\n",
        "Less than 3 points between 11 - 12\n",
        "Less than 3 points between 77 - 78\n",
        "Less than 3 points between 80 - 81\n",
        "Less than 3 points between 88 - 89\n",
        "Less than 3 points between 92 - 93\n",
        "Less than 3 points between 101 - 102\n",
        "Less than 3 points between 117 - 118\n",
        "Less than 3 points between 124 - 126\n",
        "Less than 3 points between 127 - 129\n",
        "Less than 3 points between 131 - 132\n",
        "Less than 3 points between 134 - 135\n",
        "Less than 3 points between 137 - 140\n",
        "Less than 3 points between 144 - 145\n",
        "Less than 3 points between 146 - 147\n",
        "Less than 3 points between 150 - 151\n",
        "Less than 3 points between 154 - 156\n",
        "[  4.20727138e+04   1.60465353e+02  -1.69166043e+00]\n",
        "Less than 3 points between 165 - 166\n",
        "Less than 3 points between 172 - 174\n",
        "Less than 3 points between 175 - 177\n",
        "Less than 3 points between 178 - 180\n",
        "Less than 3 points between 184 - 185\n",
        "Less than 3 points between 186 - 188\n",
        "Less than 3 points between 190 - 192\n",
        "Less than 3 points between 194 - 195\n",
        "Less than 3 points between 196 - 197\n",
        "Less than 3 points between 203 - 204\n",
        "Less than 3 points between 205 - 208\n",
        "Less than 3 points between 210 - 211\n",
        "Less than 3 points between 214 - 215\n",
        "Less than 3 points between 219 - 220\n",
        "Less than 3 points between 225 - 228\n",
        "Less than 3 points between 229 - 230\n",
        "Less than 3 points between 233 - 235\n",
        "Less than 3 points between 236 - 237\n",
        "Less than 3 points between 248 - 249\n",
        "Less than 3 points between 250 - 253\n",
        "Less than 3 points between 255 - 256\n",
        "Less than 3 points between 264 - 266\n",
        "Less than 3 points between 276 - 277\n",
        "Less than 3 points between 288 - 289\n",
        "Less than 3 points between 309 - 310\n",
        "Less than 3 points between 450 - 451\n",
        "[  9.82187001e+04   4.85243156e+02   1.05453907e+01]\n",
        "Less than 3 points between 487 - 488\n",
        "error\n",
        "error calculating fit for 491 - 496, skipping\n",
        "Less than 3 points between 497 - 498\n",
        "[  1.88430430e+05   5.19145306e+02   7.89217957e+00]\n",
        "[  1.22223848e+05   5.55509816e+02   5.01558963e+00]"
       ]
      },
      {
       "output_type": "stream",
       "stream": "stdout",
       "text": [
        "\n",
        "error\n",
        "error calculating fit for 617 - 630, skipping\n",
        "Less than 3 points between 725 - 726\n",
        "Less than 3 points between 732 - 733\n",
        "Less than 3 points between 734 - 736\n",
        "Less than 3 points between 744 - 746\n",
        "Less than 3 points between 747 - 748\n",
        "[  3.97892779e+04   7.51635378e+02   3.52754648e+00]\n",
        "Less than 3 points between 757 - 758\n",
        "Less than 3 points between 759 - 760\n",
        "Less than 3 points between 761 - 762\n",
        "Less than 3 points between 764 - 765\n",
        "Less than 3 points between 766 - 767\n",
        "Less than 3 points between 769 - 772\n",
        "Less than 3 points between 774 - 776\n",
        "Less than 3 points between 781 - 783\n",
        "Less than 3 points between 792 - 793\n",
        "Less than 3 points between 797 - 798\n",
        "Less than 3 points between 799 - 800\n",
        "Less than 3 points between 801 - 802\n",
        "[  5.31125524e+04   8.04001881e+02  -1.48250254e+00]\n",
        "Less than 3 points between 817 - 818\n",
        "Less than 3 points between 825 - 826\n",
        "Less than 3 points between 830 - 831\n",
        "Less than 3 points between 833 - 834\n",
        "Less than 3 points between 836 - 837\n",
        "[  1.49190268e+05   9.47096978e+02   8.94150173e+00]\n",
        "[  1.20113999e+05   1.02018080e+03  -1.37112458e+00]"
       ]
      },
      {
       "output_type": "stream",
       "stream": "stdout",
       "text": [
        "\n",
        "[160.46535312270939, 485.24315580219741, 519.1453063778248, 555.50981573581339, 751.63537790683927, 804.00188102252423, 947.09697768249498, 1020.1808000553199]\n",
        "yloc = 160.465353"
       ]
      },
      {
       "output_type": "stream",
       "stream": "stdout",
       "text": [
        "\n",
        "!/usr/stsci/stsci_iraf_x/stsdas/bin.macintel/cs6.e 'obrc01070_flt.fits' '/user/bostroem/science/12465_otfr20121109/ccd/R136-SE6_loc160_3936_x1d.fits' -t -v -cte -disp -hel -flux -c 160.465353123 -r 4 -o1 12.0 -o2 12.0 -bm -bo 3 -a unweighted  -st 14.0\n"
       ]
      },
      {
       "output_type": "stream",
       "stream": "stdout",
       "text": [
        "\n",
        "*** CALSTIS-6 -- Version 2.40 (23-May-2012) ***\n",
        "Begin    12-Nov-2012 16:24:58 EST\n"
       ]
      },
      {
       "output_type": "stream",
       "stream": "stdout",
       "text": [
        "2012317162458-I--------------- CALSTIS-6 started -------------------------------\n",
        "\n",
        "Input    obrc01070_flt.fits\n",
        "Output   /user/bostroem/science/12465_otfr20121109/ccd/R136-SE6_loc160_3936_x1d.fits\n",
        "Rootname obrc01070\n",
        "OBSMODE  ACCUM\n",
        "APERTURE 52X0.2\n",
        "OPT_ELEM G430M\n",
        "DETECTOR CCD\n"
       ]
      },
      {
       "output_type": "stream",
       "stream": "stdout",
       "text": [
        "\n",
        "XTRACTAB oref$n7p1031qo_1dx.fits\n",
        "XTRACTAB PEDIGREE=INFLIGHT 18/05/97\n",
        "XTRACTAB DESCRIP =Analysis from prop. 7094\n",
        "SPTRCTAB oref$qa31608go_1dt.fits\n",
        "\n",
        "Imset 1  Begin 16:24:58 EST\n"
       ]
      },
      {
       "output_type": "stream",
       "stream": "stdout",
       "text": [
        "         Input read into memory.\n",
        "         Offset of 14 low-res pixels added in dispersion direction\n",
        "Order 1  Begin 16:24:58 EST\n",
        "X1DCORR  PERFORM\n"
       ]
      },
      {
       "output_type": "stream",
       "stream": "stdout",
       "text": [
        "         Cross correlation offset: 0.364385 pixels\n",
        "BACKCORR OMIT\n"
       ]
      },
      {
       "output_type": "stream",
       "stream": "stdout",
       "text": [
        "X1DCORR  COMPLETE\n",
        "2012317162458-I--------------- X1DCORR complete: OBRC01070 ---------------------\n",
        "         Spectrum extracted at y position = 160.83\n",
        "         Extraction box height = 7\n",
        "         Background box 1 height = 5 offset 12 from A2CENTER\n",
        "         Background box 2 height = 5 offset 12 from A2CENTER\n",
        "\n",
        "DISPCORR PERFORM\n",
        "DISPTAB  oref$l2j0137to_dsp.fits\n",
        "DISPTAB  PEDIGREE=INFLIGHT 27/02/1997 24/11/1999\n",
        "DISPTAB  DESCRIP =Lindler Postlaunch, May 2000\n",
        "APDESTAB oref$obm1723ro_apd.fits\n",
        "APDESTAB PEDIGREE=INFLIGHT 01/03/1997 01/03/1997\n",
        "APDESTAB DESCRIP =Microscope Meas./Hartig Post-launch Offsets\n",
        "INANGTAB oref$h5s11397o_iac.fits\n"
       ]
      },
      {
       "output_type": "stream",
       "stream": "stdout",
       "text": [
        "         Delta = 0.074666 arcsec.\n",
        "DISPCORR COMPLETE\n",
        "2012317162458-I--------------- DISPCORR complete: OBRC01070 --------------------\n",
        "\n",
        "HELCORR  PERFORM\n",
        "HELCORR  COMPLETE\n",
        "2012317162458-I--------------- HELCORR complete: OBRC01070 ---------------------\n",
        "\n",
        "PHOTTAB  oref$p822207no_pht.fits\n",
        "APERTAB  oref$n7p1032ao_apt.fits\n",
        "APERTAB  PEDIGREE=MODEL\n",
        "APERTAB  DESCRIP =Bohlin/Hartig TIM Models Nov. 1998\n",
        "PCTAB    oref$q541740oo_pct.fits\n",
        "TDSTAB   oref$t9a1003so_tds.fits\n"
       ]
      },
      {
       "output_type": "stream",
       "stream": "stdout",
       "text": [
        "FLUXCORR PERFORM\n",
        "CTECORR  PERFORM\n",
        "CCDTAB   oref$v6n13233o_ccd.fits\n",
        "CCDTAB   PEDIGREE=INFLIGHT 01/05/2009 01/05/2009\n",
        "CCDTAB   DESCRIP =Proposal 8057, by I. Dashevsky & P. Goudfrooij\n"
       ]
      },
      {
       "output_type": "stream",
       "stream": "stdout",
       "text": [
        "CTECORR  COMPLETE\n",
        "FLUXCORR COMPLETE\n",
        "2012317162458-I--------------- FLUXCORR complete: OBRC01070 --------------------\n",
        "\n",
        "SGEOCORR OMIT\n"
       ]
      },
      {
       "output_type": "stream",
       "stream": "stdout",
       "text": [
        "\n",
        "         Row 1 written to disk.\n",
        "Order 1  End 16:24:58 EST\n"
       ]
      },
      {
       "output_type": "stream",
       "stream": "stdout",
       "text": [
        "\n",
        "Imset 1  End 16:24:58 EST\n"
       ]
      },
      {
       "output_type": "stream",
       "stream": "stdout",
       "text": [
        "\n",
        "Warning  Keyword `XTRACALG' is being added to header.\n",
        "End      12-Nov-2012 16:24:58 EST\n",
        "\n",
        "*** CALSTIS-6 complete ***\n",
        "2012317162458-I--------------- CALSTIS-6 completed: OBRC01070 ------------------\n"
       ]
      },
      {
       "output_type": "stream",
       "stream": "stdout",
       "text": [
        "\n",
        "!/usr/stsci/stsci_iraf_x/stsdas/bin.macintel/cs6.e 'obrc01070_flt.fits' '/user/bostroem/science/12465_otfr20121109/ccd/extracted_spectra_fits/R136-SE6_loc160_3936_x1d.fits' -t -v -cte -disp -hel -flux -c 160.465353123 -r 0 -o1 12.0 -o2 12.0 -bm -bo 3 -a unweighted  -st 14.0\n"
       ]
      },
      {
       "output_type": "stream",
       "stream": "stdout",
       "text": [
        "\n",
        "*** CALSTIS-6 -- Version 2.40 (23-May-2012) ***\n",
        "Begin    12-Nov-2012 16:24:58 EST\n"
       ]
      },
      {
       "output_type": "stream",
       "stream": "stdout",
       "text": [
        "2012317162458-I--------------- CALSTIS-6 started -------------------------------\n",
        "\n",
        "Input    obrc01070_flt.fits\n",
        "Output   /user/bostroem/science/12465_otfr20121109/ccd/extracted_spectra_fits/R136-SE6_loc160_3936_x1d.fits\n",
        "Rootname obrc01070\n",
        "OBSMODE  ACCUM\n",
        "APERTURE 52X0.2\n",
        "OPT_ELEM G430M\n",
        "DETECTOR CCD\n"
       ]
      },
      {
       "output_type": "stream",
       "stream": "stdout",
       "text": [
        "\n",
        "XTRACTAB oref$n7p1031qo_1dx.fits\n",
        "XTRACTAB PEDIGREE=INFLIGHT 18/05/97\n",
        "XTRACTAB DESCRIP =Analysis from prop. 7094\n",
        "SPTRCTAB oref$qa31608go_1dt.fits\n",
        "\n",
        "Imset 1  Begin 16:24:58 EST\n"
       ]
      },
      {
       "output_type": "stream",
       "stream": "stdout",
       "text": [
        "         Input read into memory.\n",
        "         Offset of 14 low-res pixels added in dispersion direction\n",
        "Order 1  Begin 16:24:59 EST\n",
        "X1DCORR  PERFORM\n",
        "         Cross correlation offset: 0 pixels\n",
        "BACKCORR OMIT\n"
       ]
      },
      {
       "output_type": "stream",
       "stream": "stdout",
       "text": [
        "X1DCORR  COMPLETE\n",
        "2012317162459-I--------------- X1DCORR complete: OBRC01070 ---------------------\n",
        "         Spectrum extracted at y position = 160.465\n",
        "         Extraction box height = 7\n",
        "         Background box 1 height = 5 offset 12 from A2CENTER\n",
        "         Background box 2 height = 5 offset 12 from A2CENTER\n",
        "\n",
        "DISPCORR PERFORM\n",
        "DISPTAB  oref$l2j0137to_dsp.fits\n",
        "DISPTAB  PEDIGREE=INFLIGHT 27/02/1997 24/11/1999\n",
        "DISPTAB  DESCRIP =Lindler Postlaunch, May 2000\n",
        "APDESTAB oref$obm1723ro_apd.fits\n",
        "APDESTAB PEDIGREE=INFLIGHT 01/03/1997 01/03/1997\n",
        "APDESTAB DESCRIP =Microscope Meas./Hartig Post-launch Offsets\n",
        "INANGTAB oref$h5s11397o_iac.fits\n"
       ]
      },
      {
       "output_type": "stream",
       "stream": "stdout",
       "text": [
        "         Delta = 0.074666 arcsec.\n",
        "DISPCORR COMPLETE\n",
        "2012317162459-I--------------- DISPCORR complete: OBRC01070 --------------------\n",
        "\n",
        "HELCORR  PERFORM\n",
        "HELCORR  COMPLETE\n",
        "2012317162459-I--------------- HELCORR complete: OBRC01070 ---------------------\n",
        "\n",
        "PHOTTAB  oref$p822207no_pht.fits\n",
        "APERTAB  oref$n7p1032ao_apt.fits\n",
        "APERTAB  PEDIGREE=MODEL\n",
        "APERTAB  DESCRIP =Bohlin/Hartig TIM Models Nov. 1998\n",
        "PCTAB    oref$q541740oo_pct.fits\n",
        "TDSTAB   oref$t9a1003so_tds.fits\n"
       ]
      },
      {
       "output_type": "stream",
       "stream": "stdout",
       "text": [
        "FLUXCORR PERFORM\n",
        "CTECORR  PERFORM\n",
        "CCDTAB   oref$v6n13233o_ccd.fits\n",
        "CCDTAB   PEDIGREE=INFLIGHT 01/05/2009 01/05/2009\n",
        "CCDTAB   DESCRIP =Proposal 8057, by I. Dashevsky & P. Goudfrooij\n"
       ]
      },
      {
       "output_type": "stream",
       "stream": "stdout",
       "text": [
        "CTECORR  COMPLETE\n",
        "FLUXCORR COMPLETE\n",
        "2012317162459-I--------------- FLUXCORR complete: OBRC01070 --------------------\n",
        "\n",
        "SGEOCORR OMIT\n"
       ]
      },
      {
       "output_type": "stream",
       "stream": "stdout",
       "text": [
        "\n",
        "         Row 1 written to disk.\n",
        "Order 1  End 16:24:59 EST\n"
       ]
      },
      {
       "output_type": "stream",
       "stream": "stdout",
       "text": [
        "\n",
        "Imset 1  End 16:24:59 EST\n"
       ]
      },
      {
       "output_type": "stream",
       "stream": "stdout",
       "text": [
        "\n",
        "Warning  Keyword `XTRACALG' is being added to header.\n",
        "End      12-Nov-2012 16:24:59 EST\n",
        "\n",
        "*** CALSTIS-6 complete ***\n",
        "2012317162459-I--------------- CALSTIS-6 completed: OBRC01070 ------------------\n"
       ]
      },
      {
       "output_type": "stream",
       "stream": "stdout",
       "text": [
        "\n",
        "yloc = 485.243156"
       ]
      },
      {
       "output_type": "stream",
       "stream": "stdout",
       "text": [
        "\n",
        "!/usr/stsci/stsci_iraf_x/stsdas/bin.macintel/cs6.e 'obrc01070_flt.fits' '/user/bostroem/science/12465_otfr20121109/ccd/R136-SE6_loc485_3936_x1d.fits' -t -v -cte -disp -hel -flux -c 485.243155802 -r 4 -o1 12.0 -o2 12.0 -bm -bo 3 -a unweighted  -st 14.0\n"
       ]
      },
      {
       "output_type": "stream",
       "stream": "stdout",
       "text": [
        "\n",
        "*** CALSTIS-6 -- Version 2.40 (23-May-2012) ***\n",
        "Begin    12-Nov-2012 16:24:59 EST\n"
       ]
      },
      {
       "output_type": "stream",
       "stream": "stdout",
       "text": [
        "2012317162459-I--------------- CALSTIS-6 started -------------------------------\n",
        "\n",
        "Input    obrc01070_flt.fits\n",
        "Output   /user/bostroem/science/12465_otfr20121109/ccd/R136-SE6_loc485_3936_x1d.fits\n",
        "Rootname obrc01070\n",
        "OBSMODE  ACCUM\n",
        "APERTURE 52X0.2\n",
        "OPT_ELEM G430M\n",
        "DETECTOR CCD\n"
       ]
      },
      {
       "output_type": "stream",
       "stream": "stdout",
       "text": [
        "\n",
        "XTRACTAB oref$n7p1031qo_1dx.fits\n",
        "XTRACTAB PEDIGREE=INFLIGHT 18/05/97\n",
        "XTRACTAB DESCRIP =Analysis from prop. 7094\n",
        "SPTRCTAB oref$qa31608go_1dt.fits\n",
        "\n",
        "Imset 1  Begin 16:24:59 EST\n"
       ]
      },
      {
       "output_type": "stream",
       "stream": "stdout",
       "text": [
        "         Input read into memory.\n",
        "         Offset of 14 low-res pixels added in dispersion direction\n",
        "Order 1  Begin 16:24:59 EST\n",
        "X1DCORR  PERFORM\n"
       ]
      },
      {
       "output_type": "stream",
       "stream": "stdout",
       "text": [
        "         Cross correlation offset: 2.82707 pixels\n",
        "BACKCORR OMIT\n"
       ]
      },
      {
       "output_type": "stream",
       "stream": "stdout",
       "text": [
        "X1DCORR  COMPLETE\n",
        "2012317162459-I--------------- X1DCORR complete: OBRC01070 ---------------------\n",
        "         Spectrum extracted at y position = 488.07\n",
        "         Extraction box height = 7\n",
        "         Background box 1 height = 5 offset 12 from A2CENTER\n",
        "         Background box 2 height = 5 offset 12 from A2CENTER\n",
        "\n",
        "DISPCORR PERFORM\n",
        "DISPTAB  oref$l2j0137to_dsp.fits\n",
        "DISPTAB  PEDIGREE=INFLIGHT 27/02/1997 24/11/1999\n",
        "DISPTAB  DESCRIP =Lindler Postlaunch, May 2000\n",
        "APDESTAB oref$obm1723ro_apd.fits\n",
        "APDESTAB PEDIGREE=INFLIGHT 01/03/1997 01/03/1997\n",
        "APDESTAB DESCRIP =Microscope Meas./Hartig Post-launch Offsets\n",
        "INANGTAB oref$h5s11397o_iac.fits\n"
       ]
      },
      {
       "output_type": "stream",
       "stream": "stdout",
       "text": [
        "         Delta = 0.074666 arcsec.\n",
        "DISPCORR COMPLETE\n",
        "2012317162459-I--------------- DISPCORR complete: OBRC01070 --------------------\n",
        "\n",
        "HELCORR  PERFORM\n",
        "HELCORR  COMPLETE\n",
        "2012317162459-I--------------- HELCORR complete: OBRC01070 ---------------------\n",
        "\n",
        "PHOTTAB  oref$p822207no_pht.fits\n",
        "APERTAB  oref$n7p1032ao_apt.fits\n",
        "APERTAB  PEDIGREE=MODEL\n",
        "APERTAB  DESCRIP =Bohlin/Hartig TIM Models Nov. 1998\n",
        "PCTAB    oref$q541740oo_pct.fits\n",
        "TDSTAB   oref$t9a1003so_tds.fits\n"
       ]
      },
      {
       "output_type": "stream",
       "stream": "stdout",
       "text": [
        "FLUXCORR PERFORM\n",
        "CTECORR  PERFORM\n",
        "CCDTAB   oref$v6n13233o_ccd.fits\n",
        "CCDTAB   PEDIGREE=INFLIGHT 01/05/2009 01/05/2009\n",
        "CCDTAB   DESCRIP =Proposal 8057, by I. Dashevsky & P. Goudfrooij\n"
       ]
      },
      {
       "output_type": "stream",
       "stream": "stdout",
       "text": [
        "CTECORR  COMPLETE\n",
        "FLUXCORR COMPLETE\n",
        "2012317162459-I--------------- FLUXCORR complete: OBRC01070 --------------------\n",
        "\n",
        "SGEOCORR OMIT\n"
       ]
      },
      {
       "output_type": "stream",
       "stream": "stdout",
       "text": [
        "\n",
        "         Row 1 written to disk.\n",
        "Order 1  End 16:24:59 EST\n"
       ]
      },
      {
       "output_type": "stream",
       "stream": "stdout",
       "text": [
        "\n",
        "Imset 1  End 16:24:59 EST\n"
       ]
      },
      {
       "output_type": "stream",
       "stream": "stdout",
       "text": [
        "\n",
        "Warning  Keyword `XTRACALG' is being added to header.\n",
        "End      12-Nov-2012 16:24:59 EST\n",
        "\n",
        "*** CALSTIS-6 complete ***\n",
        "2012317162459-I--------------- CALSTIS-6 completed: OBRC01070 ------------------\n"
       ]
      },
      {
       "output_type": "stream",
       "stream": "stdout",
       "text": [
        "\n",
        "!/usr/stsci/stsci_iraf_x/stsdas/bin.macintel/cs6.e 'obrc01070_flt.fits' '/user/bostroem/science/12465_otfr20121109/ccd/extracted_spectra_fits/R136-SE6_loc485_3936_x1d.fits' -t -v -cte -disp -hel -flux -c 485.243155802 -r 0 -o1 12.0 -o2 12.0 -bm -bo 3 -a unweighted  -st 14.0\n"
       ]
      },
      {
       "output_type": "stream",
       "stream": "stdout",
       "text": [
        "\n",
        "*** CALSTIS-6 -- Version 2.40 (23-May-2012) ***\n",
        "Begin    12-Nov-2012 16:25:00 EST\n"
       ]
      },
      {
       "output_type": "stream",
       "stream": "stdout",
       "text": [
        "2012317162500-I--------------- CALSTIS-6 started -------------------------------\n",
        "\n",
        "Input    obrc01070_flt.fits\n",
        "Output   /user/bostroem/science/12465_otfr20121109/ccd/extracted_spectra_fits/R136-SE6_loc485_3936_x1d.fits\n",
        "Rootname obrc01070\n",
        "OBSMODE  ACCUM\n",
        "APERTURE 52X0.2\n",
        "OPT_ELEM G430M\n",
        "DETECTOR CCD\n"
       ]
      },
      {
       "output_type": "stream",
       "stream": "stdout",
       "text": [
        "\n",
        "XTRACTAB oref$n7p1031qo_1dx.fits\n",
        "XTRACTAB PEDIGREE=INFLIGHT 18/05/97\n",
        "XTRACTAB DESCRIP =Analysis from prop. 7094\n",
        "SPTRCTAB oref$qa31608go_1dt.fits\n",
        "\n",
        "Imset 1  Begin 16:25:00 EST\n"
       ]
      },
      {
       "output_type": "stream",
       "stream": "stdout",
       "text": [
        "         Input read into memory.\n",
        "         Offset of 14 low-res pixels added in dispersion direction\n",
        "Order 1  Begin 16:25:00 EST\n",
        "X1DCORR  PERFORM\n"
       ]
      },
      {
       "output_type": "stream",
       "stream": "stdout",
       "text": [
        "         Cross correlation offset: 0 pixels\n",
        "BACKCORR OMIT\n"
       ]
      },
      {
       "output_type": "stream",
       "stream": "stdout",
       "text": [
        "X1DCORR  COMPLETE\n",
        "2012317162500-I--------------- X1DCORR complete: OBRC01070 ---------------------\n",
        "         Spectrum extracted at y position = 485.243\n",
        "         Extraction box height = 7\n",
        "         Background box 1 height = 5 offset 12 from A2CENTER\n",
        "         Background box 2 height = 5 offset 12 from A2CENTER\n",
        "\n",
        "DISPCORR PERFORM\n",
        "DISPTAB  oref$l2j0137to_dsp.fits\n",
        "DISPTAB  PEDIGREE=INFLIGHT 27/02/1997 24/11/1999\n",
        "DISPTAB  DESCRIP =Lindler Postlaunch, May 2000\n",
        "APDESTAB oref$obm1723ro_apd.fits\n",
        "APDESTAB PEDIGREE=INFLIGHT 01/03/1997 01/03/1997\n",
        "APDESTAB DESCRIP =Microscope Meas./Hartig Post-launch Offsets\n",
        "INANGTAB oref$h5s11397o_iac.fits\n"
       ]
      },
      {
       "output_type": "stream",
       "stream": "stdout",
       "text": [
        "         Delta = 0.074666 arcsec.\n",
        "DISPCORR COMPLETE\n",
        "2012317162500-I--------------- DISPCORR complete: OBRC01070 --------------------\n",
        "\n",
        "HELCORR  PERFORM\n",
        "HELCORR  COMPLETE\n",
        "2012317162500-I--------------- HELCORR complete: OBRC01070 ---------------------\n",
        "\n",
        "PHOTTAB  oref$p822207no_pht.fits\n",
        "APERTAB  oref$n7p1032ao_apt.fits\n",
        "APERTAB  PEDIGREE=MODEL\n",
        "APERTAB  DESCRIP =Bohlin/Hartig TIM Models Nov. 1998\n",
        "PCTAB    oref$q541740oo_pct.fits\n",
        "TDSTAB   oref$t9a1003so_tds.fits\n"
       ]
      },
      {
       "output_type": "stream",
       "stream": "stdout",
       "text": [
        "FLUXCORR PERFORM\n",
        "CTECORR  PERFORM\n",
        "CCDTAB   oref$v6n13233o_ccd.fits\n",
        "CCDTAB   PEDIGREE=INFLIGHT 01/05/2009 01/05/2009\n",
        "CCDTAB   DESCRIP =Proposal 8057, by I. Dashevsky & P. Goudfrooij\n"
       ]
      },
      {
       "output_type": "stream",
       "stream": "stdout",
       "text": [
        "CTECORR  COMPLETE\n",
        "FLUXCORR COMPLETE\n",
        "2012317162500-I--------------- FLUXCORR complete: OBRC01070 --------------------\n",
        "\n",
        "SGEOCORR OMIT\n"
       ]
      },
      {
       "output_type": "stream",
       "stream": "stdout",
       "text": [
        "\n",
        "         Row 1 written to disk.\n",
        "Order 1  End 16:25:00 EST\n"
       ]
      },
      {
       "output_type": "stream",
       "stream": "stdout",
       "text": [
        "\n",
        "Imset 1  End 16:25:00 EST\n"
       ]
      },
      {
       "output_type": "stream",
       "stream": "stdout",
       "text": [
        "\n",
        "Warning  Keyword `XTRACALG' is being added to header.\n",
        "End      12-Nov-2012 16:25:00 EST\n",
        "\n",
        "*** CALSTIS-6 complete ***\n",
        "2012317162500-I--------------- CALSTIS-6 completed: OBRC01070 ------------------\n"
       ]
      },
      {
       "output_type": "stream",
       "stream": "stdout",
       "text": [
        "\n",
        "yloc = 519.145306"
       ]
      },
      {
       "output_type": "stream",
       "stream": "stdout",
       "text": [
        "\n",
        "!/usr/stsci/stsci_iraf_x/stsdas/bin.macintel/cs6.e 'obrc01070_flt.fits' '/user/bostroem/science/12465_otfr20121109/ccd/R136-SE6_loc519_3936_x1d.fits' -t -v -cte -disp -hel -flux -c 519.145306378 -r 4 -o1 12.0 -o2 12.0 -bm -bo 3 -a unweighted  -st 14.0\n"
       ]
      },
      {
       "output_type": "stream",
       "stream": "stdout",
       "text": [
        "\n",
        "*** CALSTIS-6 -- Version 2.40 (23-May-2012) ***\n",
        "Begin    12-Nov-2012 16:25:00 EST\n"
       ]
      },
      {
       "output_type": "stream",
       "stream": "stdout",
       "text": [
        "2012317162500-I--------------- CALSTIS-6 started -------------------------------\n",
        "\n",
        "Input    obrc01070_flt.fits\n",
        "Output   /user/bostroem/science/12465_otfr20121109/ccd/R136-SE6_loc519_3936_x1d.fits\n",
        "Rootname obrc01070\n",
        "OBSMODE  ACCUM\n",
        "APERTURE 52X0.2\n",
        "OPT_ELEM G430M\n",
        "DETECTOR CCD\n"
       ]
      },
      {
       "output_type": "stream",
       "stream": "stdout",
       "text": [
        "\n",
        "XTRACTAB oref$n7p1031qo_1dx.fits\n",
        "XTRACTAB PEDIGREE=INFLIGHT 18/05/97\n",
        "XTRACTAB DESCRIP =Analysis from prop. 7094\n",
        "SPTRCTAB oref$qa31608go_1dt.fits\n",
        "\n",
        "Imset 1  Begin 16:25:00 EST\n"
       ]
      },
      {
       "output_type": "stream",
       "stream": "stdout",
       "text": [
        "         Input read into memory.\n",
        "         Offset of 14 low-res pixels added in dispersion direction\n",
        "Order 1  Begin 16:25:00 EST\n",
        "X1DCORR  PERFORM\n"
       ]
      },
      {
       "output_type": "stream",
       "stream": "stdout",
       "text": [
        "         Cross correlation offset: -0.0565682 pixels\n",
        "BACKCORR OMIT\n"
       ]
      },
      {
       "output_type": "stream",
       "stream": "stdout",
       "text": [
        "X1DCORR  COMPLETE\n",
        "2012317162500-I--------------- X1DCORR complete: OBRC01070 ---------------------\n",
        "         Spectrum extracted at y position = 519.089\n",
        "         Extraction box height = 7\n",
        "         Background box 1 height = 5 offset 12 from A2CENTER\n",
        "         Background box 2 height = 5 offset 12 from A2CENTER\n",
        "\n",
        "DISPCORR PERFORM\n",
        "DISPTAB  oref$l2j0137to_dsp.fits\n",
        "DISPTAB  PEDIGREE=INFLIGHT 27/02/1997 24/11/1999\n",
        "DISPTAB  DESCRIP =Lindler Postlaunch, May 2000\n",
        "APDESTAB oref$obm1723ro_apd.fits\n",
        "APDESTAB PEDIGREE=INFLIGHT 01/03/1997 01/03/1997\n",
        "APDESTAB DESCRIP =Microscope Meas./Hartig Post-launch Offsets\n",
        "INANGTAB oref$h5s11397o_iac.fits\n"
       ]
      },
      {
       "output_type": "stream",
       "stream": "stdout",
       "text": [
        "         Delta = 0.074666 arcsec.\n",
        "DISPCORR COMPLETE\n",
        "2012317162500-I--------------- DISPCORR complete: OBRC01070 --------------------\n",
        "\n",
        "HELCORR  PERFORM\n",
        "HELCORR  COMPLETE\n",
        "2012317162500-I--------------- HELCORR complete: OBRC01070 ---------------------\n",
        "\n",
        "PHOTTAB  oref$p822207no_pht.fits\n",
        "APERTAB  oref$n7p1032ao_apt.fits\n",
        "APERTAB  PEDIGREE=MODEL\n",
        "APERTAB  DESCRIP =Bohlin/Hartig TIM Models Nov. 1998\n",
        "PCTAB    oref$q541740oo_pct.fits\n",
        "TDSTAB   oref$t9a1003so_tds.fits\n"
       ]
      },
      {
       "output_type": "stream",
       "stream": "stdout",
       "text": [
        "FLUXCORR PERFORM\n",
        "CTECORR  PERFORM\n",
        "CCDTAB   oref$v6n13233o_ccd.fits\n",
        "CCDTAB   PEDIGREE=INFLIGHT 01/05/2009 01/05/2009\n",
        "CCDTAB   DESCRIP =Proposal 8057, by I. Dashevsky & P. Goudfrooij\n"
       ]
      },
      {
       "output_type": "stream",
       "stream": "stdout",
       "text": [
        "CTECORR  COMPLETE\n",
        "FLUXCORR COMPLETE\n",
        "2012317162500-I--------------- FLUXCORR complete: OBRC01070 --------------------\n",
        "\n",
        "SGEOCORR OMIT\n"
       ]
      },
      {
       "output_type": "stream",
       "stream": "stdout",
       "text": [
        "\n",
        "         Row 1 written to disk.\n",
        "Order 1  End 16:25:00 EST\n"
       ]
      },
      {
       "output_type": "stream",
       "stream": "stdout",
       "text": [
        "\n",
        "Imset 1  End 16:25:00 EST\n"
       ]
      },
      {
       "output_type": "stream",
       "stream": "stdout",
       "text": [
        "\n",
        "Warning  Keyword `XTRACALG' is being added to header.\n",
        "End      12-Nov-2012 16:25:00 EST\n",
        "\n",
        "*** CALSTIS-6 complete ***\n",
        "2012317162500-I--------------- CALSTIS-6 completed: OBRC01070 ------------------\n"
       ]
      },
      {
       "output_type": "stream",
       "stream": "stdout",
       "text": [
        "\n",
        "!/usr/stsci/stsci_iraf_x/stsdas/bin.macintel/cs6.e 'obrc01070_flt.fits' '/user/bostroem/science/12465_otfr20121109/ccd/extracted_spectra_fits/R136-SE6_loc519_3936_x1d.fits' -t -v -cte -disp -hel -flux -c 519.145306378 -r 0 -o1 12.0 -o2 12.0 -bm -bo 3 -a unweighted  -st 14.0\n"
       ]
      },
      {
       "output_type": "stream",
       "stream": "stdout",
       "text": [
        "\n",
        "*** CALSTIS-6 -- Version 2.40 (23-May-2012) ***\n",
        "Begin    12-Nov-2012 16:25:01 EST\n"
       ]
      },
      {
       "output_type": "stream",
       "stream": "stdout",
       "text": [
        "2012317162501-I--------------- CALSTIS-6 started -------------------------------\n",
        "\n",
        "Input    obrc01070_flt.fits\n",
        "Output   /user/bostroem/science/12465_otfr20121109/ccd/extracted_spectra_fits/R136-SE6_loc519_3936_x1d.fits\n",
        "Rootname obrc01070\n",
        "OBSMODE  ACCUM\n",
        "APERTURE 52X0.2\n",
        "OPT_ELEM G430M\n",
        "DETECTOR CCD\n"
       ]
      },
      {
       "output_type": "stream",
       "stream": "stdout",
       "text": [
        "\n",
        "XTRACTAB oref$n7p1031qo_1dx.fits\n",
        "XTRACTAB PEDIGREE=INFLIGHT 18/05/97\n",
        "XTRACTAB DESCRIP =Analysis from prop. 7094\n",
        "SPTRCTAB oref$qa31608go_1dt.fits\n",
        "\n",
        "Imset 1  Begin 16:25:01 EST\n"
       ]
      },
      {
       "output_type": "stream",
       "stream": "stdout",
       "text": [
        "         Input read into memory.\n",
        "         Offset of 14 low-res pixels added in dispersion direction\n",
        "Order 1  Begin 16:25:01 EST\n",
        "X1DCORR  PERFORM\n"
       ]
      },
      {
       "output_type": "stream",
       "stream": "stdout",
       "text": [
        "         Cross correlation offset: 0 pixels\n",
        "BACKCORR OMIT\n"
       ]
      },
      {
       "output_type": "stream",
       "stream": "stdout",
       "text": [
        "X1DCORR  COMPLETE\n",
        "2012317162501-I--------------- X1DCORR complete: OBRC01070 ---------------------\n",
        "         Spectrum extracted at y position = 519.145\n",
        "         Extraction box height = 7\n",
        "         Background box 1 height = 5 offset 12 from A2CENTER\n",
        "         Background box 2 height = 5 offset 12 from A2CENTER\n",
        "\n",
        "DISPCORR PERFORM\n",
        "DISPTAB  oref$l2j0137to_dsp.fits\n",
        "DISPTAB  PEDIGREE=INFLIGHT 27/02/1997 24/11/1999\n",
        "DISPTAB  DESCRIP =Lindler Postlaunch, May 2000\n",
        "APDESTAB oref$obm1723ro_apd.fits\n",
        "APDESTAB PEDIGREE=INFLIGHT 01/03/1997 01/03/1997\n",
        "APDESTAB DESCRIP =Microscope Meas./Hartig Post-launch Offsets\n",
        "INANGTAB oref$h5s11397o_iac.fits\n"
       ]
      },
      {
       "output_type": "stream",
       "stream": "stdout",
       "text": [
        "         Delta = 0.074666 arcsec.\n",
        "DISPCORR COMPLETE\n",
        "2012317162501-I--------------- DISPCORR complete: OBRC01070 --------------------\n",
        "\n",
        "HELCORR  PERFORM\n",
        "HELCORR  COMPLETE\n",
        "2012317162501-I--------------- HELCORR complete: OBRC01070 ---------------------\n",
        "\n",
        "PHOTTAB  oref$p822207no_pht.fits\n",
        "APERTAB  oref$n7p1032ao_apt.fits\n",
        "APERTAB  PEDIGREE=MODEL\n",
        "APERTAB  DESCRIP =Bohlin/Hartig TIM Models Nov. 1998\n",
        "PCTAB    oref$q541740oo_pct.fits\n",
        "TDSTAB   oref$t9a1003so_tds.fits\n"
       ]
      },
      {
       "output_type": "stream",
       "stream": "stdout",
       "text": [
        "FLUXCORR PERFORM\n",
        "CTECORR  PERFORM\n",
        "CCDTAB   oref$v6n13233o_ccd.fits\n",
        "CCDTAB   PEDIGREE=INFLIGHT 01/05/2009 01/05/2009\n",
        "CCDTAB   DESCRIP =Proposal 8057, by I. Dashevsky & P. Goudfrooij\n"
       ]
      },
      {
       "output_type": "stream",
       "stream": "stdout",
       "text": [
        "CTECORR  COMPLETE\n",
        "FLUXCORR COMPLETE\n",
        "2012317162501-I--------------- FLUXCORR complete: OBRC01070 --------------------\n",
        "\n",
        "SGEOCORR OMIT\n"
       ]
      },
      {
       "output_type": "stream",
       "stream": "stdout",
       "text": [
        "\n",
        "         Row 1 written to disk.\n",
        "Order 1  End 16:25:01 EST\n"
       ]
      },
      {
       "output_type": "stream",
       "stream": "stdout",
       "text": [
        "\n",
        "Imset 1  End 16:25:01 EST\n"
       ]
      },
      {
       "output_type": "stream",
       "stream": "stdout",
       "text": [
        "\n",
        "Warning  Keyword `XTRACALG' is being added to header.\n",
        "End      12-Nov-2012 16:25:01 EST\n",
        "\n",
        "*** CALSTIS-6 complete ***\n",
        "2012317162501-I--------------- CALSTIS-6 completed: OBRC01070 ------------------\n"
       ]
      },
      {
       "output_type": "stream",
       "stream": "stdout",
       "text": [
        "\n",
        "yloc = 555.509816"
       ]
      },
      {
       "output_type": "stream",
       "stream": "stdout",
       "text": [
        "\n",
        "!/usr/stsci/stsci_iraf_x/stsdas/bin.macintel/cs6.e 'obrc01070_flt.fits' '/user/bostroem/science/12465_otfr20121109/ccd/R136-SE6_loc555_3936_x1d.fits' -t -v -cte -disp -hel -flux -c 555.509815736 -r 4 -o1 12.0 -o2 12.0 -bm -bo 3 -a unweighted  -st 14.0\n"
       ]
      },
      {
       "output_type": "stream",
       "stream": "stdout",
       "text": [
        "\n",
        "*** CALSTIS-6 -- Version 2.40 (23-May-2012) ***\n",
        "Begin    12-Nov-2012 16:25:01 EST\n"
       ]
      },
      {
       "output_type": "stream",
       "stream": "stdout",
       "text": [
        "2012317162501-I--------------- CALSTIS-6 started -------------------------------\n",
        "\n",
        "Input    obrc01070_flt.fits\n",
        "Output   /user/bostroem/science/12465_otfr20121109/ccd/R136-SE6_loc555_3936_x1d.fits\n",
        "Rootname obrc01070\n",
        "OBSMODE  ACCUM\n",
        "APERTURE 52X0.2\n",
        "OPT_ELEM G430M\n",
        "DETECTOR CCD\n"
       ]
      },
      {
       "output_type": "stream",
       "stream": "stdout",
       "text": [
        "\n",
        "XTRACTAB oref$n7p1031qo_1dx.fits\n",
        "XTRACTAB PEDIGREE=INFLIGHT 18/05/97\n",
        "XTRACTAB DESCRIP =Analysis from prop. 7094\n",
        "SPTRCTAB oref$qa31608go_1dt.fits\n",
        "\n",
        "Imset 1  Begin 16:25:01 EST\n"
       ]
      },
      {
       "output_type": "stream",
       "stream": "stdout",
       "text": [
        "         Input read into memory.\n",
        "         Offset of 14 low-res pixels added in dispersion direction\n",
        "Order 1  Begin 16:25:02 EST\n",
        "X1DCORR  PERFORM\n"
       ]
      },
      {
       "output_type": "stream",
       "stream": "stdout",
       "text": [
        "         Cross correlation offset: -2.37949 pixels\n",
        "BACKCORR OMIT\n"
       ]
      },
      {
       "output_type": "stream",
       "stream": "stdout",
       "text": [
        "X1DCORR  COMPLETE\n",
        "2012317162502-I--------------- X1DCORR complete: OBRC01070 ---------------------\n",
        "         Spectrum extracted at y position = 553.13\n",
        "         Extraction box height = 7\n",
        "         Background box 1 height = 5 offset 12 from A2CENTER\n",
        "         Background box 2 height = 5 offset 12 from A2CENTER\n",
        "\n",
        "DISPCORR PERFORM\n",
        "DISPTAB  oref$l2j0137to_dsp.fits\n",
        "DISPTAB  PEDIGREE=INFLIGHT 27/02/1997 24/11/1999\n",
        "DISPTAB  DESCRIP =Lindler Postlaunch, May 2000\n",
        "APDESTAB oref$obm1723ro_apd.fits\n",
        "APDESTAB PEDIGREE=INFLIGHT 01/03/1997 01/03/1997\n",
        "APDESTAB DESCRIP =Microscope Meas./Hartig Post-launch Offsets\n",
        "INANGTAB oref$h5s11397o_iac.fits\n"
       ]
      },
      {
       "output_type": "stream",
       "stream": "stdout",
       "text": [
        "         Delta = 0.074666 arcsec.\n",
        "DISPCORR COMPLETE\n",
        "2012317162502-I--------------- DISPCORR complete: OBRC01070 --------------------\n",
        "\n",
        "HELCORR  PERFORM\n",
        "HELCORR  COMPLETE\n",
        "2012317162502-I--------------- HELCORR complete: OBRC01070 ---------------------\n",
        "\n",
        "PHOTTAB  oref$p822207no_pht.fits\n",
        "APERTAB  oref$n7p1032ao_apt.fits\n",
        "APERTAB  PEDIGREE=MODEL\n",
        "APERTAB  DESCRIP =Bohlin/Hartig TIM Models Nov. 1998\n",
        "PCTAB    oref$q541740oo_pct.fits\n",
        "TDSTAB   oref$t9a1003so_tds.fits\n"
       ]
      },
      {
       "output_type": "stream",
       "stream": "stdout",
       "text": [
        "FLUXCORR PERFORM\n",
        "CTECORR  PERFORM\n",
        "CCDTAB   oref$v6n13233o_ccd.fits\n",
        "CCDTAB   PEDIGREE=INFLIGHT 01/05/2009 01/05/2009\n",
        "CCDTAB   DESCRIP =Proposal 8057, by I. Dashevsky & P. Goudfrooij\n"
       ]
      },
      {
       "output_type": "stream",
       "stream": "stdout",
       "text": [
        "CTECORR  COMPLETE\n",
        "FLUXCORR COMPLETE\n",
        "2012317162502-I--------------- FLUXCORR complete: OBRC01070 --------------------\n",
        "\n",
        "SGEOCORR OMIT\n"
       ]
      },
      {
       "output_type": "stream",
       "stream": "stdout",
       "text": [
        "\n",
        "         Row 1 written to disk.\n",
        "Order 1  End 16:25:02 EST\n"
       ]
      },
      {
       "output_type": "stream",
       "stream": "stdout",
       "text": [
        "\n",
        "Imset 1  End 16:25:02 EST\n"
       ]
      },
      {
       "output_type": "stream",
       "stream": "stdout",
       "text": [
        "\n",
        "Warning  Keyword `XTRACALG' is being added to header.\n",
        "End      12-Nov-2012 16:25:02 EST\n",
        "\n",
        "*** CALSTIS-6 complete ***\n",
        "2012317162502-I--------------- CALSTIS-6 completed: OBRC01070 ------------------\n"
       ]
      },
      {
       "output_type": "stream",
       "stream": "stdout",
       "text": [
        "\n",
        "!/usr/stsci/stsci_iraf_x/stsdas/bin.macintel/cs6.e 'obrc01070_flt.fits' '/user/bostroem/science/12465_otfr20121109/ccd/extracted_spectra_fits/R136-SE6_loc555_3936_x1d.fits' -t -v -cte -disp -hel -flux -c 555.509815736 -r 0 -o1 12.0 -o2 12.0 -bm -bo 3 -a unweighted  -st 14.0\n"
       ]
      },
      {
       "output_type": "stream",
       "stream": "stdout",
       "text": [
        "\n",
        "*** CALSTIS-6 -- Version 2.40 (23-May-2012) ***\n",
        "Begin    12-Nov-2012 16:25:02 EST\n"
       ]
      },
      {
       "output_type": "stream",
       "stream": "stdout",
       "text": [
        "2012317162502-I--------------- CALSTIS-6 started -------------------------------\n",
        "\n",
        "Input    obrc01070_flt.fits\n",
        "Output   /user/bostroem/science/12465_otfr20121109/ccd/extracted_spectra_fits/R136-SE6_loc555_3936_x1d.fits\n",
        "Rootname obrc01070\n",
        "OBSMODE  ACCUM\n",
        "APERTURE 52X0.2\n",
        "OPT_ELEM G430M\n",
        "DETECTOR CCD\n"
       ]
      },
      {
       "output_type": "stream",
       "stream": "stdout",
       "text": [
        "\n",
        "XTRACTAB oref$n7p1031qo_1dx.fits\n",
        "XTRACTAB PEDIGREE=INFLIGHT 18/05/97\n",
        "XTRACTAB DESCRIP =Analysis from prop. 7094\n",
        "SPTRCTAB oref$qa31608go_1dt.fits\n",
        "\n",
        "Imset 1  Begin 16:25:02 EST\n"
       ]
      },
      {
       "output_type": "stream",
       "stream": "stdout",
       "text": [
        "         Input read into memory.\n",
        "         Offset of 14 low-res pixels added in dispersion direction\n",
        "Order 1  Begin 16:25:02 EST\n",
        "X1DCORR  PERFORM\n"
       ]
      },
      {
       "output_type": "stream",
       "stream": "stdout",
       "text": [
        "         Cross correlation offset: 0 pixels\n",
        "BACKCORR OMIT\n"
       ]
      },
      {
       "output_type": "stream",
       "stream": "stdout",
       "text": [
        "X1DCORR  COMPLETE\n",
        "2012317162502-I--------------- X1DCORR complete: OBRC01070 ---------------------\n",
        "         Spectrum extracted at y position = 555.51\n",
        "         Extraction box height = 7\n",
        "         Background box 1 height = 5 offset 12 from A2CENTER\n",
        "         Background box 2 height = 5 offset 12 from A2CENTER\n",
        "\n",
        "DISPCORR PERFORM\n",
        "DISPTAB  oref$l2j0137to_dsp.fits\n",
        "DISPTAB  PEDIGREE=INFLIGHT 27/02/1997 24/11/1999\n",
        "DISPTAB  DESCRIP =Lindler Postlaunch, May 2000\n",
        "APDESTAB oref$obm1723ro_apd.fits\n",
        "APDESTAB PEDIGREE=INFLIGHT 01/03/1997 01/03/1997\n",
        "APDESTAB DESCRIP =Microscope Meas./Hartig Post-launch Offsets\n",
        "INANGTAB oref$h5s11397o_iac.fits\n"
       ]
      },
      {
       "output_type": "stream",
       "stream": "stdout",
       "text": [
        "         Delta = 0.074666 arcsec.\n",
        "DISPCORR COMPLETE\n",
        "2012317162502-I--------------- DISPCORR complete: OBRC01070 --------------------\n",
        "\n",
        "HELCORR  PERFORM\n",
        "HELCORR  COMPLETE\n",
        "2012317162502-I--------------- HELCORR complete: OBRC01070 ---------------------\n",
        "\n",
        "PHOTTAB  oref$p822207no_pht.fits\n",
        "APERTAB  oref$n7p1032ao_apt.fits\n",
        "APERTAB  PEDIGREE=MODEL\n",
        "APERTAB  DESCRIP =Bohlin/Hartig TIM Models Nov. 1998\n",
        "PCTAB    oref$q541740oo_pct.fits\n",
        "TDSTAB   oref$t9a1003so_tds.fits\n"
       ]
      },
      {
       "output_type": "stream",
       "stream": "stdout",
       "text": [
        "FLUXCORR PERFORM\n",
        "CTECORR  PERFORM\n",
        "CCDTAB   oref$v6n13233o_ccd.fits\n",
        "CCDTAB   PEDIGREE=INFLIGHT 01/05/2009 01/05/2009\n",
        "CCDTAB   DESCRIP =Proposal 8057, by I. Dashevsky & P. Goudfrooij\n"
       ]
      },
      {
       "output_type": "stream",
       "stream": "stdout",
       "text": [
        "CTECORR  COMPLETE\n",
        "FLUXCORR COMPLETE\n",
        "2012317162502-I--------------- FLUXCORR complete: OBRC01070 --------------------\n",
        "\n",
        "SGEOCORR OMIT\n"
       ]
      },
      {
       "output_type": "stream",
       "stream": "stdout",
       "text": [
        "\n",
        "         Row 1 written to disk.\n",
        "Order 1  End 16:25:02 EST\n"
       ]
      },
      {
       "output_type": "stream",
       "stream": "stdout",
       "text": [
        "\n",
        "Imset 1  End 16:25:02 EST\n"
       ]
      },
      {
       "output_type": "stream",
       "stream": "stdout",
       "text": [
        "\n",
        "Warning  Keyword `XTRACALG' is being added to header.\n",
        "End      12-Nov-2012 16:25:02 EST\n",
        "\n",
        "*** CALSTIS-6 complete ***\n",
        "2012317162502-I--------------- CALSTIS-6 completed: OBRC01070 ------------------\n"
       ]
      },
      {
       "output_type": "stream",
       "stream": "stdout",
       "text": [
        "\n",
        "yloc = 751.635378"
       ]
      },
      {
       "output_type": "stream",
       "stream": "stdout",
       "text": [
        "\n",
        "!/usr/stsci/stsci_iraf_x/stsdas/bin.macintel/cs6.e 'obrc01070_flt.fits' '/user/bostroem/science/12465_otfr20121109/ccd/R136-SE6_loc751_3936_x1d.fits' -t -v -cte -disp -hel -flux -c 751.635377907 -r 4 -o1 12.0 -o2 12.0 -bm -bo 3 -a unweighted  -st 14.0\n"
       ]
      },
      {
       "output_type": "stream",
       "stream": "stdout",
       "text": [
        "\n",
        "*** CALSTIS-6 -- Version 2.40 (23-May-2012) ***\n",
        "Begin    12-Nov-2012 16:25:03 EST\n"
       ]
      },
      {
       "output_type": "stream",
       "stream": "stdout",
       "text": [
        "2012317162503-I--------------- CALSTIS-6 started -------------------------------\n",
        "\n",
        "Input    obrc01070_flt.fits\n",
        "Output   /user/bostroem/science/12465_otfr20121109/ccd/R136-SE6_loc751_3936_x1d.fits\n",
        "Rootname obrc01070\n",
        "OBSMODE  ACCUM\n",
        "APERTURE 52X0.2\n",
        "OPT_ELEM G430M\n",
        "DETECTOR CCD\n"
       ]
      },
      {
       "output_type": "stream",
       "stream": "stdout",
       "text": [
        "\n",
        "XTRACTAB oref$n7p1031qo_1dx.fits\n",
        "XTRACTAB PEDIGREE=INFLIGHT 18/05/97\n",
        "XTRACTAB DESCRIP =Analysis from prop. 7094\n",
        "SPTRCTAB oref$qa31608go_1dt.fits\n",
        "\n",
        "Imset 1  Begin 16:25:03 EST\n"
       ]
      },
      {
       "output_type": "stream",
       "stream": "stdout",
       "text": [
        "         Input read into memory.\n",
        "         Offset of 14 low-res pixels added in dispersion direction\n",
        "Order 1  Begin 16:25:03 EST\n",
        "X1DCORR  PERFORM\n"
       ]
      },
      {
       "output_type": "stream",
       "stream": "stdout",
       "text": [
        "Warning  Cross correlation to locate spectrum failed.\n",
        "ERROR    Cannot extract.\n",
        "Warning  No rows were written; no table created.\n",
        "Imset 1  End 16:25:03 EST\n",
        "\n",
        "End      12-Nov-2012 16:25:03 EST\n",
        "\n",
        "*** CALSTIS-6 complete ***\n",
        "2012317162503-I--------------- CALSTIS-6 completed: OBRC01070 ------------------\n"
       ]
      },
      {
       "output_type": "stream",
       "stream": "stdout",
       "text": [
        "\n",
        "!/usr/stsci/stsci_iraf_x/stsdas/bin.macintel/cs6.e 'obrc01070_flt.fits' '/user/bostroem/science/12465_otfr20121109/ccd/extracted_spectra_fits/R136-SE6_loc751_3936_x1d.fits' -t -v -cte -disp -hel -flux -c 751.635377907 -r 0 -o1 12.0 -o2 12.0 -bm -bo 3 -a unweighted  -st 14.0\n"
       ]
      },
      {
       "output_type": "stream",
       "stream": "stdout",
       "text": [
        "\n",
        "*** CALSTIS-6 -- Version 2.40 (23-May-2012) ***\n",
        "Begin    12-Nov-2012 16:25:03 EST\n"
       ]
      },
      {
       "output_type": "stream",
       "stream": "stdout",
       "text": [
        "2012317162503-I--------------- CALSTIS-6 started -------------------------------\n",
        "\n",
        "Input    obrc01070_flt.fits\n",
        "Output   /user/bostroem/science/12465_otfr20121109/ccd/extracted_spectra_fits/R136-SE6_loc751_3936_x1d.fits\n",
        "Rootname obrc01070\n",
        "OBSMODE  ACCUM\n",
        "APERTURE 52X0.2\n",
        "OPT_ELEM G430M\n",
        "DETECTOR CCD\n"
       ]
      },
      {
       "output_type": "stream",
       "stream": "stdout",
       "text": [
        "\n",
        "XTRACTAB oref$n7p1031qo_1dx.fits\n",
        "XTRACTAB PEDIGREE=INFLIGHT 18/05/97\n",
        "XTRACTAB DESCRIP =Analysis from prop. 7094\n",
        "SPTRCTAB oref$qa31608go_1dt.fits\n",
        "\n",
        "Imset 1  Begin 16:25:03 EST\n"
       ]
      },
      {
       "output_type": "stream",
       "stream": "stdout",
       "text": [
        "         Input read into memory.\n",
        "         Offset of 14 low-res pixels added in dispersion direction\n",
        "Order 1  Begin 16:25:03 EST\n",
        "X1DCORR  PERFORM\n"
       ]
      },
      {
       "output_type": "stream",
       "stream": "stdout",
       "text": [
        "         Cross correlation offset: 0 pixels\n",
        "BACKCORR OMIT\n"
       ]
      },
      {
       "output_type": "stream",
       "stream": "stdout",
       "text": [
        "X1DCORR  COMPLETE\n",
        "2012317162503-I--------------- X1DCORR complete: OBRC01070 ---------------------\n",
        "         Spectrum extracted at y position = 751.635\n",
        "         Extraction box height = 7\n",
        "         Background box 1 height = 5 offset 12 from A2CENTER\n",
        "         Background box 2 height = 5 offset 12 from A2CENTER\n",
        "\n",
        "DISPCORR PERFORM\n",
        "DISPTAB  oref$l2j0137to_dsp.fits\n",
        "DISPTAB  PEDIGREE=INFLIGHT 27/02/1997 24/11/1999\n",
        "DISPTAB  DESCRIP =Lindler Postlaunch, May 2000\n",
        "APDESTAB oref$obm1723ro_apd.fits\n",
        "APDESTAB PEDIGREE=INFLIGHT 01/03/1997 01/03/1997\n",
        "APDESTAB DESCRIP =Microscope Meas./Hartig Post-launch Offsets\n",
        "INANGTAB oref$h5s11397o_iac.fits\n"
       ]
      },
      {
       "output_type": "stream",
       "stream": "stdout",
       "text": [
        "         Delta = 0.074666 arcsec.\n",
        "DISPCORR COMPLETE\n",
        "2012317162503-I--------------- DISPCORR complete: OBRC01070 --------------------\n",
        "\n",
        "HELCORR  PERFORM\n",
        "HELCORR  COMPLETE\n",
        "2012317162503-I--------------- HELCORR complete: OBRC01070 ---------------------\n",
        "\n",
        "PHOTTAB  oref$p822207no_pht.fits\n",
        "APERTAB  oref$n7p1032ao_apt.fits\n",
        "APERTAB  PEDIGREE=MODEL\n",
        "APERTAB  DESCRIP =Bohlin/Hartig TIM Models Nov. 1998\n",
        "PCTAB    oref$q541740oo_pct.fits\n",
        "TDSTAB   oref$t9a1003so_tds.fits\n"
       ]
      },
      {
       "output_type": "stream",
       "stream": "stdout",
       "text": [
        "FLUXCORR PERFORM\n",
        "CTECORR  PERFORM\n",
        "CCDTAB   oref$v6n13233o_ccd.fits\n",
        "CCDTAB   PEDIGREE=INFLIGHT 01/05/2009 01/05/2009\n",
        "CCDTAB   DESCRIP =Proposal 8057, by I. Dashevsky & P. Goudfrooij\n"
       ]
      },
      {
       "output_type": "stream",
       "stream": "stdout",
       "text": [
        "CTECORR  COMPLETE\n",
        "FLUXCORR COMPLETE\n",
        "2012317162503-I--------------- FLUXCORR complete: OBRC01070 --------------------\n",
        "\n",
        "SGEOCORR OMIT\n"
       ]
      },
      {
       "output_type": "stream",
       "stream": "stdout",
       "text": [
        "\n",
        "         Row 1 written to disk.\n",
        "Order 1  End 16:25:03 EST\n"
       ]
      },
      {
       "output_type": "stream",
       "stream": "stdout",
       "text": [
        "\n",
        "Imset 1  End 16:25:03 EST\n"
       ]
      },
      {
       "output_type": "stream",
       "stream": "stdout",
       "text": [
        "\n",
        "Warning  Keyword `XTRACALG' is being added to header.\n",
        "End      12-Nov-2012 16:25:03 EST\n",
        "\n",
        "*** CALSTIS-6 complete ***\n",
        "2012317162503-I--------------- CALSTIS-6 completed: OBRC01070 ------------------\n"
       ]
      },
      {
       "output_type": "stream",
       "stream": "stdout",
       "text": [
        "\n",
        "yloc = 804.001881"
       ]
      },
      {
       "output_type": "stream",
       "stream": "stdout",
       "text": [
        "\n",
        "!/usr/stsci/stsci_iraf_x/stsdas/bin.macintel/cs6.e 'obrc01070_flt.fits' '/user/bostroem/science/12465_otfr20121109/ccd/R136-SE6_loc804_3936_x1d.fits' -t -v -cte -disp -hel -flux -c 804.001881023 -r 4 -o1 12.0 -o2 12.0 -bm -bo 3 -a unweighted  -st 14.0\n"
       ]
      },
      {
       "output_type": "stream",
       "stream": "stdout",
       "text": [
        "\n",
        "*** CALSTIS-6 -- Version 2.40 (23-May-2012) ***\n",
        "Begin    12-Nov-2012 16:25:04 EST\n"
       ]
      },
      {
       "output_type": "stream",
       "stream": "stdout",
       "text": [
        "2012317162504-I--------------- CALSTIS-6 started -------------------------------\n",
        "\n",
        "Input    obrc01070_flt.fits\n",
        "Output   /user/bostroem/science/12465_otfr20121109/ccd/R136-SE6_loc804_3936_x1d.fits\n",
        "Rootname obrc01070\n",
        "OBSMODE  ACCUM\n",
        "APERTURE 52X0.2\n",
        "OPT_ELEM G430M\n",
        "DETECTOR CCD\n"
       ]
      },
      {
       "output_type": "stream",
       "stream": "stdout",
       "text": [
        "\n",
        "XTRACTAB oref$n7p1031qo_1dx.fits\n",
        "XTRACTAB PEDIGREE=INFLIGHT 18/05/97\n",
        "XTRACTAB DESCRIP =Analysis from prop. 7094\n",
        "SPTRCTAB oref$qa31608go_1dt.fits\n",
        "\n",
        "Imset 1  Begin 16:25:04 EST\n"
       ]
      },
      {
       "output_type": "stream",
       "stream": "stdout",
       "text": [
        "         Input read into memory.\n",
        "         Offset of 14 low-res pixels added in dispersion direction\n",
        "Order 1  Begin 16:25:04 EST\n",
        "X1DCORR  PERFORM\n"
       ]
      },
      {
       "output_type": "stream",
       "stream": "stdout",
       "text": [
        "         Cross correlation offset: -0.0719731 pixels\n",
        "BACKCORR OMIT\n"
       ]
      },
      {
       "output_type": "stream",
       "stream": "stdout",
       "text": [
        "X1DCORR  COMPLETE\n",
        "2012317162504-I--------------- X1DCORR complete: OBRC01070 ---------------------\n",
        "         Spectrum extracted at y position = 803.93\n",
        "         Extraction box height = 7\n",
        "         Background box 1 height = 5 offset 12 from A2CENTER\n",
        "         Background box 2 height = 5 offset 12 from A2CENTER\n",
        "\n",
        "DISPCORR PERFORM\n",
        "DISPTAB  oref$l2j0137to_dsp.fits\n",
        "DISPTAB  PEDIGREE=INFLIGHT 27/02/1997 24/11/1999\n",
        "DISPTAB  DESCRIP =Lindler Postlaunch, May 2000\n",
        "APDESTAB oref$obm1723ro_apd.fits\n",
        "APDESTAB PEDIGREE=INFLIGHT 01/03/1997 01/03/1997\n",
        "APDESTAB DESCRIP =Microscope Meas./Hartig Post-launch Offsets\n",
        "INANGTAB oref$h5s11397o_iac.fits\n"
       ]
      },
      {
       "output_type": "stream",
       "stream": "stdout",
       "text": [
        "         Delta = 0.074666 arcsec.\n",
        "DISPCORR COMPLETE\n",
        "2012317162504-I--------------- DISPCORR complete: OBRC01070 --------------------\n",
        "\n",
        "HELCORR  PERFORM\n",
        "HELCORR  COMPLETE\n",
        "2012317162504-I--------------- HELCORR complete: OBRC01070 ---------------------\n",
        "\n",
        "PHOTTAB  oref$p822207no_pht.fits\n",
        "APERTAB  oref$n7p1032ao_apt.fits\n",
        "APERTAB  PEDIGREE=MODEL\n",
        "APERTAB  DESCRIP =Bohlin/Hartig TIM Models Nov. 1998\n",
        "PCTAB    oref$q541740oo_pct.fits\n",
        "TDSTAB   oref$t9a1003so_tds.fits\n"
       ]
      },
      {
       "output_type": "stream",
       "stream": "stdout",
       "text": [
        "FLUXCORR PERFORM\n",
        "CTECORR  PERFORM\n",
        "CCDTAB   oref$v6n13233o_ccd.fits\n",
        "CCDTAB   PEDIGREE=INFLIGHT 01/05/2009 01/05/2009\n",
        "CCDTAB   DESCRIP =Proposal 8057, by I. Dashevsky & P. Goudfrooij\n"
       ]
      },
      {
       "output_type": "stream",
       "stream": "stdout",
       "text": [
        "CTECORR  COMPLETE\n",
        "FLUXCORR COMPLETE\n",
        "2012317162504-I--------------- FLUXCORR complete: OBRC01070 --------------------\n",
        "\n",
        "SGEOCORR OMIT\n"
       ]
      },
      {
       "output_type": "stream",
       "stream": "stdout",
       "text": [
        "\n",
        "         Row 1 written to disk.\n",
        "Order 1  End 16:25:04 EST\n"
       ]
      },
      {
       "output_type": "stream",
       "stream": "stdout",
       "text": [
        "\n",
        "Imset 1  End 16:25:04 EST\n"
       ]
      },
      {
       "output_type": "stream",
       "stream": "stdout",
       "text": [
        "\n",
        "Warning  Keyword `XTRACALG' is being added to header.\n",
        "End      12-Nov-2012 16:25:04 EST\n",
        "\n",
        "*** CALSTIS-6 complete ***\n",
        "2012317162504-I--------------- CALSTIS-6 completed: OBRC01070 ------------------\n"
       ]
      },
      {
       "output_type": "stream",
       "stream": "stdout",
       "text": [
        "\n",
        "!/usr/stsci/stsci_iraf_x/stsdas/bin.macintel/cs6.e 'obrc01070_flt.fits' '/user/bostroem/science/12465_otfr20121109/ccd/extracted_spectra_fits/R136-SE6_loc804_3936_x1d.fits' -t -v -cte -disp -hel -flux -c 804.001881023 -r 0 -o1 12.0 -o2 12.0 -bm -bo 3 -a unweighted  -st 14.0\n"
       ]
      },
      {
       "output_type": "stream",
       "stream": "stdout",
       "text": [
        "\n",
        "*** CALSTIS-6 -- Version 2.40 (23-May-2012) ***\n",
        "Begin    12-Nov-2012 16:25:04 EST\n"
       ]
      },
      {
       "output_type": "stream",
       "stream": "stdout",
       "text": [
        "2012317162504-I--------------- CALSTIS-6 started -------------------------------\n",
        "\n",
        "Input    obrc01070_flt.fits\n",
        "Output   /user/bostroem/science/12465_otfr20121109/ccd/extracted_spectra_fits/R136-SE6_loc804_3936_x1d.fits\n",
        "Rootname obrc01070\n",
        "OBSMODE  ACCUM\n",
        "APERTURE 52X0.2\n",
        "OPT_ELEM G430M\n",
        "DETECTOR CCD\n"
       ]
      },
      {
       "output_type": "stream",
       "stream": "stdout",
       "text": [
        "\n",
        "XTRACTAB oref$n7p1031qo_1dx.fits\n",
        "XTRACTAB PEDIGREE=INFLIGHT 18/05/97\n",
        "XTRACTAB DESCRIP =Analysis from prop. 7094\n",
        "SPTRCTAB oref$qa31608go_1dt.fits\n",
        "\n",
        "Imset 1  Begin 16:25:04 EST\n"
       ]
      },
      {
       "output_type": "stream",
       "stream": "stdout",
       "text": [
        "         Input read into memory.\n",
        "         Offset of 14 low-res pixels added in dispersion direction\n",
        "Order 1  Begin 16:25:04 EST\n",
        "X1DCORR  PERFORM\n"
       ]
      },
      {
       "output_type": "stream",
       "stream": "stdout",
       "text": [
        "         Cross correlation offset: 0 pixels\n",
        "BACKCORR OMIT\n"
       ]
      },
      {
       "output_type": "stream",
       "stream": "stdout",
       "text": [
        "X1DCORR  COMPLETE\n",
        "2012317162504-I--------------- X1DCORR complete: OBRC01070 ---------------------\n",
        "         Spectrum extracted at y position = 804.002\n",
        "         Extraction box height = 7\n",
        "         Background box 1 height = 5 offset 12 from A2CENTER\n",
        "         Background box 2 height = 5 offset 12 from A2CENTER\n",
        "\n",
        "DISPCORR PERFORM\n",
        "DISPTAB  oref$l2j0137to_dsp.fits\n",
        "DISPTAB  PEDIGREE=INFLIGHT 27/02/1997 24/11/1999\n",
        "DISPTAB  DESCRIP =Lindler Postlaunch, May 2000\n",
        "APDESTAB oref$obm1723ro_apd.fits\n",
        "APDESTAB PEDIGREE=INFLIGHT 01/03/1997 01/03/1997\n",
        "APDESTAB DESCRIP =Microscope Meas./Hartig Post-launch Offsets\n"
       ]
      },
      {
       "output_type": "stream",
       "stream": "stdout",
       "text": [
        "INANGTAB oref$h5s11397o_iac.fits\n"
       ]
      },
      {
       "output_type": "stream",
       "stream": "stdout",
       "text": [
        "         Delta = 0.074666 arcsec.\n",
        "DISPCORR COMPLETE\n",
        "2012317162504-I--------------- DISPCORR complete: OBRC01070 --------------------\n",
        "\n",
        "HELCORR  PERFORM\n",
        "HELCORR  COMPLETE\n",
        "2012317162504-I--------------- HELCORR complete: OBRC01070 ---------------------\n",
        "\n",
        "PHOTTAB  oref$p822207no_pht.fits\n",
        "APERTAB  oref$n7p1032ao_apt.fits\n",
        "APERTAB  PEDIGREE=MODEL\n",
        "APERTAB  DESCRIP =Bohlin/Hartig TIM Models Nov. 1998\n",
        "PCTAB    oref$q541740oo_pct.fits\n",
        "TDSTAB   oref$t9a1003so_tds.fits\n"
       ]
      },
      {
       "output_type": "stream",
       "stream": "stdout",
       "text": [
        "FLUXCORR PERFORM\n",
        "CTECORR  PERFORM\n",
        "CCDTAB   oref$v6n13233o_ccd.fits\n",
        "CCDTAB   PEDIGREE=INFLIGHT 01/05/2009 01/05/2009\n",
        "CCDTAB   DESCRIP =Proposal 8057, by I. Dashevsky & P. Goudfrooij\n"
       ]
      },
      {
       "output_type": "stream",
       "stream": "stdout",
       "text": [
        "CTECORR  COMPLETE\n",
        "FLUXCORR COMPLETE\n",
        "2012317162504-I--------------- FLUXCORR complete: OBRC01070 --------------------\n",
        "\n",
        "SGEOCORR OMIT\n"
       ]
      },
      {
       "output_type": "stream",
       "stream": "stdout",
       "text": [
        "\n",
        "         Row 1 written to disk.\n",
        "Order 1  End 16:25:04 EST\n"
       ]
      },
      {
       "output_type": "stream",
       "stream": "stdout",
       "text": [
        "\n",
        "Imset 1  End 16:25:04 EST\n"
       ]
      },
      {
       "output_type": "stream",
       "stream": "stdout",
       "text": [
        "\n",
        "Warning  Keyword `XTRACALG' is being added to header.\n",
        "End      12-Nov-2012 16:25:04 EST\n",
        "\n",
        "*** CALSTIS-6 complete ***\n",
        "2012317162504-I--------------- CALSTIS-6 completed: OBRC01070 ------------------\n"
       ]
      },
      {
       "output_type": "stream",
       "stream": "stdout",
       "text": [
        "\n",
        "yloc = 947.096978"
       ]
      },
      {
       "output_type": "stream",
       "stream": "stdout",
       "text": [
        "\n",
        "!/usr/stsci/stsci_iraf_x/stsdas/bin.macintel/cs6.e 'obrc01070_flt.fits' '/user/bostroem/science/12465_otfr20121109/ccd/R136-SE6_loc947_3936_x1d.fits' -t -v -cte -disp -hel -flux -c 947.096977682 -r 4 -o1 12.0 -o2 12.0 -bm -bo 3 -a unweighted  -st 14.0\n"
       ]
      },
      {
       "output_type": "stream",
       "stream": "stdout",
       "text": [
        "\n",
        "*** CALSTIS-6 -- Version 2.40 (23-May-2012) ***\n",
        "Begin    12-Nov-2012 16:25:05 EST\n"
       ]
      },
      {
       "output_type": "stream",
       "stream": "stdout",
       "text": [
        "2012317162505-I--------------- CALSTIS-6 started -------------------------------\n",
        "\n",
        "Input    obrc01070_flt.fits\n",
        "Output   /user/bostroem/science/12465_otfr20121109/ccd/R136-SE6_loc947_3936_x1d.fits\n",
        "Rootname obrc01070\n",
        "OBSMODE  ACCUM\n",
        "APERTURE 52X0.2\n",
        "OPT_ELEM G430M\n",
        "DETECTOR CCD\n"
       ]
      },
      {
       "output_type": "stream",
       "stream": "stdout",
       "text": [
        "\n",
        "XTRACTAB oref$n7p1031qo_1dx.fits\n",
        "XTRACTAB PEDIGREE=INFLIGHT 18/05/97\n",
        "XTRACTAB DESCRIP =Analysis from prop. 7094\n",
        "SPTRCTAB oref$qa31608go_1dt.fits\n",
        "\n",
        "Imset 1  Begin 16:25:05 EST\n"
       ]
      },
      {
       "output_type": "stream",
       "stream": "stdout",
       "text": [
        "         Input read into memory.\n",
        "         Offset of 14 low-res pixels added in dispersion direction\n",
        "Order 1  Begin 16:25:05 EST\n",
        "X1DCORR  PERFORM\n"
       ]
      },
      {
       "output_type": "stream",
       "stream": "stdout",
       "text": [
        "Warning  Cross correlation to locate spectrum failed.\n",
        "ERROR    Cannot extract.\n",
        "Warning  No rows were written; no table created.\n",
        "Imset 1  End 16:25:05 EST\n",
        "\n",
        "End      12-Nov-2012 16:25:05 EST\n",
        "\n",
        "*** CALSTIS-6 complete ***\n",
        "2012317162505-I--------------- CALSTIS-6 completed: OBRC01070 ------------------\n"
       ]
      },
      {
       "output_type": "stream",
       "stream": "stdout",
       "text": [
        "\n",
        "!/usr/stsci/stsci_iraf_x/stsdas/bin.macintel/cs6.e 'obrc01070_flt.fits' '/user/bostroem/science/12465_otfr20121109/ccd/extracted_spectra_fits/R136-SE6_loc947_3936_x1d.fits' -t -v -cte -disp -hel -flux -c 947.096977682 -r 0 -o1 12.0 -o2 12.0 -bm -bo 3 -a unweighted  -st 14.0\n"
       ]
      },
      {
       "output_type": "stream",
       "stream": "stdout",
       "text": [
        "\n",
        "*** CALSTIS-6 -- Version 2.40 (23-May-2012) ***\n",
        "Begin    12-Nov-2012 16:25:05 EST\n"
       ]
      },
      {
       "output_type": "stream",
       "stream": "stdout",
       "text": [
        "2012317162505-I--------------- CALSTIS-6 started -------------------------------\n",
        "\n",
        "Input    obrc01070_flt.fits\n",
        "Output   /user/bostroem/science/12465_otfr20121109/ccd/extracted_spectra_fits/R136-SE6_loc947_3936_x1d.fits\n",
        "Rootname obrc01070\n",
        "OBSMODE  ACCUM\n",
        "APERTURE 52X0.2\n",
        "OPT_ELEM G430M\n",
        "DETECTOR CCD\n"
       ]
      },
      {
       "output_type": "stream",
       "stream": "stdout",
       "text": [
        "\n",
        "XTRACTAB oref$n7p1031qo_1dx.fits\n",
        "XTRACTAB PEDIGREE=INFLIGHT 18/05/97\n",
        "XTRACTAB DESCRIP =Analysis from prop. 7094\n",
        "SPTRCTAB oref$qa31608go_1dt.fits\n",
        "\n",
        "Imset 1  Begin 16:25:05 EST\n"
       ]
      },
      {
       "output_type": "stream",
       "stream": "stdout",
       "text": [
        "         Input read into memory.\n",
        "         Offset of 14 low-res pixels added in dispersion direction\n",
        "Order 1  Begin 16:25:05 EST\n",
        "X1DCORR  PERFORM\n"
       ]
      },
      {
       "output_type": "stream",
       "stream": "stdout",
       "text": [
        "         Cross correlation offset: 0 pixels\n",
        "BACKCORR OMIT\n"
       ]
      },
      {
       "output_type": "stream",
       "stream": "stdout",
       "text": [
        "X1DCORR  COMPLETE\n",
        "2012317162505-I--------------- X1DCORR complete: OBRC01070 ---------------------\n",
        "         Spectrum extracted at y position = 947.097\n",
        "         Extraction box height = 7\n",
        "         Background box 1 height = 5 offset 12 from A2CENTER\n",
        "         Background box 2 height = 5 offset 12 from A2CENTER\n",
        "\n",
        "DISPCORR PERFORM\n",
        "DISPTAB  oref$l2j0137to_dsp.fits\n",
        "DISPTAB  PEDIGREE=INFLIGHT 27/02/1997 24/11/1999\n",
        "DISPTAB  DESCRIP =Lindler Postlaunch, May 2000\n",
        "APDESTAB oref$obm1723ro_apd.fits\n",
        "APDESTAB PEDIGREE=INFLIGHT 01/03/1997 01/03/1997\n",
        "APDESTAB DESCRIP =Microscope Meas./Hartig Post-launch Offsets\n",
        "INANGTAB oref$h5s11397o_iac.fits\n"
       ]
      },
      {
       "output_type": "stream",
       "stream": "stdout",
       "text": [
        "         Delta = 0.074666 arcsec.\n",
        "DISPCORR COMPLETE\n",
        "2012317162505-I--------------- DISPCORR complete: OBRC01070 --------------------\n",
        "\n",
        "HELCORR  PERFORM\n",
        "HELCORR  COMPLETE\n",
        "2012317162505-I--------------- HELCORR complete: OBRC01070 ---------------------\n",
        "\n",
        "PHOTTAB  oref$p822207no_pht.fits\n",
        "APERTAB  oref$n7p1032ao_apt.fits\n",
        "APERTAB  PEDIGREE=MODEL\n",
        "APERTAB  DESCRIP =Bohlin/Hartig TIM Models Nov. 1998\n",
        "PCTAB    oref$q541740oo_pct.fits\n",
        "TDSTAB   oref$t9a1003so_tds.fits\n"
       ]
      },
      {
       "output_type": "stream",
       "stream": "stdout",
       "text": [
        "FLUXCORR PERFORM\n",
        "CTECORR  PERFORM\n",
        "CCDTAB   oref$v6n13233o_ccd.fits\n",
        "CCDTAB   PEDIGREE=INFLIGHT 01/05/2009 01/05/2009\n",
        "CCDTAB   DESCRIP =Proposal 8057, by I. Dashevsky & P. Goudfrooij\n"
       ]
      },
      {
       "output_type": "stream",
       "stream": "stdout",
       "text": [
        "CTECORR  COMPLETE\n",
        "FLUXCORR COMPLETE\n",
        "2012317162505-I--------------- FLUXCORR complete: OBRC01070 --------------------\n",
        "\n",
        "SGEOCORR OMIT\n"
       ]
      },
      {
       "output_type": "stream",
       "stream": "stdout",
       "text": [
        "\n",
        "         Row 1 written to disk.\n",
        "Order 1  End 16:25:05 EST\n"
       ]
      },
      {
       "output_type": "stream",
       "stream": "stdout",
       "text": [
        "\n",
        "Imset 1  End 16:25:05 EST\n"
       ]
      },
      {
       "output_type": "stream",
       "stream": "stdout",
       "text": [
        "\n",
        "Warning  Keyword `XTRACALG' is being added to header.\n",
        "End      12-Nov-2012 16:25:05 EST\n",
        "\n",
        "*** CALSTIS-6 complete ***\n",
        "2012317162505-I--------------- CALSTIS-6 completed: OBRC01070 ------------------\n"
       ]
      },
      {
       "output_type": "stream",
       "stream": "stdout",
       "text": [
        "\n",
        "yloc = 1020.180800"
       ]
      },
      {
       "output_type": "stream",
       "stream": "stdout",
       "text": [
        "\n",
        "!/usr/stsci/stsci_iraf_x/stsdas/bin.macintel/cs6.e 'obrc01070_flt.fits' '/user/bostroem/science/12465_otfr20121109/ccd/R136-SE6_loc1020_3936_x1d.fits' -t -v -cte -disp -hel -flux -c 1020.18080006 -r 4 -o1 12.0 -o2 12.0 -bm -bo 3 -a unweighted  -st 14.0\n"
       ]
      },
      {
       "output_type": "stream",
       "stream": "stdout",
       "text": [
        "\n",
        "*** CALSTIS-6 -- Version 2.40 (23-May-2012) ***\n",
        "Begin    12-Nov-2012 16:25:06 EST\n"
       ]
      },
      {
       "output_type": "stream",
       "stream": "stdout",
       "text": [
        "2012317162506-I--------------- CALSTIS-6 started -------------------------------\n",
        "\n",
        "Input    obrc01070_flt.fits\n",
        "Output   /user/bostroem/science/12465_otfr20121109/ccd/R136-SE6_loc1020_3936_x1d.fits\n",
        "Rootname obrc01070\n",
        "OBSMODE  ACCUM\n",
        "APERTURE 52X0.2\n",
        "OPT_ELEM G430M\n",
        "DETECTOR CCD\n"
       ]
      },
      {
       "output_type": "stream",
       "stream": "stdout",
       "text": [
        "\n",
        "XTRACTAB oref$n7p1031qo_1dx.fits\n",
        "XTRACTAB PEDIGREE=INFLIGHT 18/05/97\n",
        "XTRACTAB DESCRIP =Analysis from prop. 7094\n",
        "SPTRCTAB oref$qa31608go_1dt.fits\n",
        "\n",
        "Imset 1  Begin 16:25:06 EST\n"
       ]
      },
      {
       "output_type": "stream",
       "stream": "stdout",
       "text": [
        "         Input read into memory.\n",
        "         Offset of 14 low-res pixels added in dispersion direction\n",
        "Order 1  Begin 16:25:06 EST\n",
        "X1DCORR  PERFORM\n"
       ]
      },
      {
       "output_type": "stream",
       "stream": "stdout",
       "text": [
        "Warning  Cross correlation to locate spectrum failed.\n",
        "ERROR    Cannot extract.\n",
        "Warning  No rows were written; no table created.\n",
        "Imset 1  End 16:25:06 EST\n",
        "\n",
        "End      12-Nov-2012 16:25:06 EST\n",
        "\n",
        "*** CALSTIS-6 complete ***\n",
        "2012317162506-I--------------- CALSTIS-6 completed: OBRC01070 ------------------\n"
       ]
      },
      {
       "output_type": "stream",
       "stream": "stdout",
       "text": [
        "\n",
        "!/usr/stsci/stsci_iraf_x/stsdas/bin.macintel/cs6.e 'obrc01070_flt.fits' '/user/bostroem/science/12465_otfr20121109/ccd/extracted_spectra_fits/R136-SE6_loc1020_3936_x1d.fits' -t -v -cte -disp -hel -flux -c 1020.18080006 -r 0 -o1 12.0 -o2 12.0 -bm -bo 3 -a unweighted  -st 14.0\n"
       ]
      },
      {
       "output_type": "stream",
       "stream": "stdout",
       "text": [
        "\n",
        "*** CALSTIS-6 -- Version 2.40 (23-May-2012) ***\n",
        "Begin    12-Nov-2012 16:25:06 EST\n"
       ]
      },
      {
       "output_type": "stream",
       "stream": "stdout",
       "text": [
        "2012317162506-I--------------- CALSTIS-6 started -------------------------------\n",
        "\n",
        "Input    obrc01070_flt.fits\n",
        "Output   /user/bostroem/science/12465_otfr20121109/ccd/extracted_spectra_fits/R136-SE6_loc1020_3936_x1d.fits\n",
        "Rootname obrc01070\n",
        "OBSMODE  ACCUM\n",
        "APERTURE 52X0.2\n",
        "OPT_ELEM G430M\n",
        "DETECTOR CCD\n"
       ]
      },
      {
       "output_type": "stream",
       "stream": "stdout",
       "text": [
        "\n",
        "XTRACTAB oref$n7p1031qo_1dx.fits\n",
        "XTRACTAB PEDIGREE=INFLIGHT 18/05/97\n",
        "XTRACTAB DESCRIP =Analysis from prop. 7094\n",
        "SPTRCTAB oref$qa31608go_1dt.fits\n",
        "\n",
        "Imset 1  Begin 16:25:06 EST\n"
       ]
      },
      {
       "output_type": "stream",
       "stream": "stdout",
       "text": [
        "         Input read into memory.\n",
        "         Offset of 14 low-res pixels added in dispersion direction\n",
        "Order 1  Begin 16:25:06 EST\n",
        "X1DCORR  PERFORM\n"
       ]
      },
      {
       "output_type": "stream",
       "stream": "stdout",
       "text": [
        "         Cross correlation offset: 0 pixels\n",
        "BACKCORR OMIT\n"
       ]
      },
      {
       "output_type": "stream",
       "stream": "stdout",
       "text": [
        "X1DCORR  COMPLETE\n",
        "2012317162506-I--------------- X1DCORR complete: OBRC01070 ---------------------\n",
        "         Spectrum extracted at y position = 1020.18\n",
        "         Extraction box height = 7\n",
        "         Background box 1 height = 5 offset 12 from A2CENTER\n",
        "         Background box 2 height = 5 offset 12 from A2CENTER\n",
        "\n",
        "DISPCORR PERFORM\n",
        "DISPTAB  oref$l2j0137to_dsp.fits\n",
        "DISPTAB  PEDIGREE=INFLIGHT 27/02/1997 24/11/1999\n",
        "DISPTAB  DESCRIP =Lindler Postlaunch, May 2000\n",
        "APDESTAB oref$obm1723ro_apd.fits\n",
        "APDESTAB PEDIGREE=INFLIGHT 01/03/1997 01/03/1997\n",
        "APDESTAB DESCRIP =Microscope Meas./Hartig Post-launch Offsets\n",
        "INANGTAB oref$h5s11397o_iac.fits\n"
       ]
      },
      {
       "output_type": "stream",
       "stream": "stdout",
       "text": [
        "         Delta = 0.074666 arcsec.\n",
        "DISPCORR COMPLETE\n",
        "2012317162506-I--------------- DISPCORR complete: OBRC01070 --------------------\n",
        "\n",
        "HELCORR  PERFORM\n",
        "HELCORR  COMPLETE\n",
        "2012317162506-I--------------- HELCORR complete: OBRC01070 ---------------------\n",
        "\n",
        "PHOTTAB  oref$p822207no_pht.fits\n",
        "APERTAB  oref$n7p1032ao_apt.fits\n",
        "APERTAB  PEDIGREE=MODEL\n",
        "APERTAB  DESCRIP =Bohlin/Hartig TIM Models Nov. 1998\n",
        "PCTAB    oref$q541740oo_pct.fits\n",
        "TDSTAB   oref$t9a1003so_tds.fits\n"
       ]
      },
      {
       "output_type": "stream",
       "stream": "stdout",
       "text": [
        "FLUXCORR PERFORM\n",
        "CTECORR  PERFORM\n",
        "CCDTAB   oref$v6n13233o_ccd.fits\n",
        "CCDTAB   PEDIGREE=INFLIGHT 01/05/2009 01/05/2009\n",
        "CCDTAB   DESCRIP =Proposal 8057, by I. Dashevsky & P. Goudfrooij\n"
       ]
      },
      {
       "output_type": "stream",
       "stream": "stdout",
       "text": [
        "CTECORR  COMPLETE\n",
        "FLUXCORR COMPLETE\n",
        "2012317162506-I--------------- FLUXCORR complete: OBRC01070 --------------------\n",
        "\n",
        "SGEOCORR OMIT\n"
       ]
      },
      {
       "output_type": "stream",
       "stream": "stdout",
       "text": [
        "\n",
        "         Row 1 written to disk.\n",
        "Order 1  End 16:25:06 EST\n"
       ]
      },
      {
       "output_type": "stream",
       "stream": "stdout",
       "text": [
        "\n",
        "Imset 1  End 16:25:06 EST\n"
       ]
      },
      {
       "output_type": "stream",
       "stream": "stdout",
       "text": [
        "\n",
        "Warning  Keyword `XTRACALG' is being added to header.\n",
        "End      12-Nov-2012 16:25:07 EST\n",
        "\n",
        "*** CALSTIS-6 complete ***\n",
        "2012317162507-I--------------- CALSTIS-6 completed: OBRC01070 ------------------\n"
       ]
      },
      {
       "output_type": "stream",
       "stream": "stdout",
       "text": [
        "\n",
        "8\n",
        "$$$$$$$$$$$$$$$$$$$$$$$$plotting$$$$$$$$$$$$$$$$$$$$$$$"
       ]
      },
      {
       "output_type": "stream",
       "stream": "stdout",
       "text": [
        "\n",
        "$$$$$$$$$$$$$$$$$$$$$$$$plotting$$$$$$$$$$$$$$$$$$$$$$$"
       ]
      },
      {
       "output_type": "stream",
       "stream": "stdout",
       "text": [
        "\n",
        "$$$$$$$$$$$$$$$$$$$$$$$$plotting$$$$$$$$$$$$$$$$$$$$$$$"
       ]
      },
      {
       "output_type": "stream",
       "stream": "stdout",
       "text": [
        "\n",
        "$$$$$$$$$$$$$$$$$$$$$$$$plotting$$$$$$$$$$$$$$$$$$$$$$$"
       ]
      },
      {
       "output_type": "stream",
       "stream": "stdout",
       "text": [
        "\n",
        "$$$$$$$$$$$$$$$$$$$$$$$$plotting$$$$$$$$$$$$$$$$$$$$$$$"
       ]
      },
      {
       "output_type": "stream",
       "stream": "stdout",
       "text": [
        "\n",
        "$$$$$$$$$$$$$$$$$$$$$$$$plotting$$$$$$$$$$$$$$$$$$$$$$$"
       ]
      },
      {
       "output_type": "stream",
       "stream": "stdout",
       "text": [
        "\n",
        "$$$$$$$$$$$$$$$$$$$$$$$$plotting$$$$$$$$$$$$$$$$$$$$$$$"
       ]
      },
      {
       "output_type": "stream",
       "stream": "stdout",
       "text": [
        "\n",
        "$$$$$$$$$$$$$$$$$$$$$$$$plotting$$$$$$$$$$$$$$$$$$$$$$$"
       ]
      },
      {
       "output_type": "stream",
       "stream": "stdout",
       "text": [
        "\n",
        "['obrc010i0_flt.fits', 'obrc010h0_flt.fits']"
       ]
      },
      {
       "output_type": "stream",
       "stream": "stdout",
       "text": [
        " -69.10085\n",
        "Found offset of -7"
       ]
      },
      {
       "output_type": "stream",
       "stream": "stdout",
       "text": [
        "\n",
        "#############################R136-SE1######################"
       ]
      },
      {
       "output_type": "stream",
       "stream": "stderr",
       "text": [
        "Legend does not support [<matplotlib.lines.Line2D object at 0x11264fb90>]\n",
        "Use proxy artist instead.\n",
        "\n",
        "http://matplotlib.sourceforge.net/users/legend_guide.html#using-proxy-artist\n",
        "\n",
        "Legend does not support [<matplotlib.lines.Line2D object at 0x112648190>]\n",
        "Use proxy artist instead.\n",
        "\n",
        "http://matplotlib.sourceforge.net/users/legend_guide.html#using-proxy-artist\n",
        "\n",
        "Legend does not support [<matplotlib.lines.Line2D object at 0x112648c90>]\n",
        "Use proxy artist instead.\n",
        "\n",
        "http://matplotlib.sourceforge.net/users/legend_guide.html#using-proxy-artist\n",
        "\n",
        "Legend does not support [<matplotlib.lines.Line2D object at 0x111fa4e10>]\n",
        "Use proxy artist instead.\n",
        "\n",
        "http://matplotlib.sourceforge.net/users/legend_guide.html#using-proxy-artist\n",
        "\n",
        "Overwriting existing file 'R136-SE1_3936_combined_img.fits'.\n"
       ]
      },
      {
       "output_type": "stream",
       "stream": "stdout",
       "text": [
        "\n",
        "[  1.53694776e+06   5.09106938e+02   4.01353981e+00   1.24719867e+04\n",
        "   2.35990269e+01   6.18726205e-02  -8.67791940e-05]"
       ]
      },
      {
       "output_type": "stream",
       "stream": "stdout",
       "text": [
        "\n",
        "Less than 3 points between 4 - 6"
       ]
      },
      {
       "output_type": "stream",
       "stream": "stdout",
       "text": [
        "\n",
        "Less than 3 points between 11 - 13\n",
        "Less than 3 points between 24 - 25\n",
        "Less than 3 points between 26 - 27\n",
        "Less than 3 points between 31 - 32\n",
        "[  6.05230532e+04   3.67175039e+01  -1.24152116e+00]\n",
        "Less than 3 points between 40 - 42\n",
        "Less than 3 points between 43 - 44\n",
        "Less than 3 points between 49 - 50\n",
        "Less than 3 points between 52 - 54\n",
        "[  3.49899998e+04   5.69914178e+01   3.34478439e+00]\n",
        "Less than 3 points between 73 - 74\n",
        "Less than 3 points between 80 - 81\n",
        "Less than 3 points between 117 - 118\n",
        "Less than 3 points between 124 - 125\n",
        "Less than 3 points between 126 - 129\n",
        "Less than 3 points between 142 - 143\n",
        "Less than 3 points between 146 - 147\n",
        "Less than 3 points between 184 - 185\n",
        "Less than 3 points between 190 - 192\n",
        "Less than 3 points between 194 - 195\n",
        "Less than 3 points between 196 - 197\n",
        "Less than 3 points between 203 - 204\n",
        "Less than 3 points between 214 - 215\n",
        "Less than 3 points between 226 - 227\n",
        "Less than 3 points between 279 - 280\n",
        "Less than 3 points between 288 - 289\n",
        "Less than 3 points between 361 - 362\n",
        "Less than 3 points between 366 - 368\n",
        "Less than 3 points between 386 - 387\n",
        "Less than 3 points between 472 - 473\n",
        "Less than 3 points between 475 - 476\n",
        "[  1.08470145e+05   4.88819792e+02   6.01197512e+00]\n",
        "Less than 3 points between 495 - 497\n",
        "[  1.19230887e+05   5.19886553e+02   6.91053971e+00]\n",
        "[  1.52044456e+05   5.52185393e+02  -2.69622939e+00]\n",
        "Less than 3 points between 558 - 559\n",
        "Less than 3 points between 570 - 571\n",
        "[  7.47163051e+04   5.92538500e+02   2.41048532e+00]\n",
        "Less than 3 points between 620 - 621\n",
        "Less than 3 points between 627 - 628\n",
        "Less than 3 points between 634 - 635\n",
        "Less than 3 points between 678 - 679\n",
        "Less than 3 points between 715 - 716\n",
        "Less than 3 points between 718 - 719\n",
        "Less than 3 points between 722 - 723\n",
        "Less than 3 points between 749 - 751\n",
        "Less than 3 points between 761 - 762\n",
        "Less than 3 points between 894 - 895\n",
        "Less than 3 points between 902 - 903\n",
        "Less than 3 points between 939 - 940\n",
        "Less than 3 points between 947 - 948\n",
        "Less than 3 points between 974 - 975\n",
        "Less than 3 points between 986 - 987\n",
        "error"
       ]
      },
      {
       "output_type": "stream",
       "stream": "stdout",
       "text": [
        "\n",
        "error calculating fit for 988 - 992, skipping\n",
        "Less than 3 points between 993 - 994\n",
        "Less than 3 points between 995 - 997\n",
        "Less than 3 points between 1000 - 1003\n",
        "error\n",
        "error calculating fit for 1004 - 1008, skipping\n",
        "Less than 3 points between 1014 - 1016\n",
        "[  2.86875249e+04   1.01853911e+03   4.56642113e+00]\n",
        "[36.717503924661926, 56.991417838112532, 488.81979214289044, 519.88655254395599, 552.18539314791315, 592.53849968553789, 1018.5391063005188]\n",
        "yloc = 36.717504"
       ]
      },
      {
       "output_type": "stream",
       "stream": "stdout",
       "text": [
        "\n",
        "!/usr/stsci/stsci_iraf_x/stsdas/bin.macintel/cs6.e 'obrc010i0_flt.fits' '/user/bostroem/science/12465_otfr20121109/ccd/R136-SE1_loc36_3936_x1d.fits' -t -v -cte -disp -hel -flux -c 36.7175039247 -r 4 -o1 12.0 -o2 12.0 -bm -bo 3 -a unweighted  -st 14.0\n"
       ]
      },
      {
       "output_type": "stream",
       "stream": "stdout",
       "text": [
        "\n",
        "*** CALSTIS-6 -- Version 2.40 (23-May-2012) ***\n",
        "Begin    12-Nov-2012 16:25:13 EST\n"
       ]
      },
      {
       "output_type": "stream",
       "stream": "stdout",
       "text": [
        "2012317162513-I--------------- CALSTIS-6 started -------------------------------\n",
        "\n",
        "Input    obrc010i0_flt.fits\n",
        "Output   /user/bostroem/science/12465_otfr20121109/ccd/R136-SE1_loc36_3936_x1d.fits\n",
        "Rootname obrc010i0\n",
        "OBSMODE  ACCUM\n",
        "APERTURE 52X0.2\n",
        "OPT_ELEM G430M\n",
        "DETECTOR CCD\n"
       ]
      },
      {
       "output_type": "stream",
       "stream": "stdout",
       "text": [
        "\n",
        "XTRACTAB oref$n7p1031qo_1dx.fits\n",
        "XTRACTAB PEDIGREE=INFLIGHT 18/05/97\n",
        "XTRACTAB DESCRIP =Analysis from prop. 7094\n",
        "SPTRCTAB oref$qa31608go_1dt.fits\n",
        "\n",
        "Imset 1  Begin 16:25:13 EST\n"
       ]
      },
      {
       "output_type": "stream",
       "stream": "stdout",
       "text": [
        "         Input read into memory.\n",
        "         Offset of 14 low-res pixels added in dispersion direction\n",
        "Order 1  Begin 16:25:13 EST\n",
        "X1DCORR  PERFORM\n"
       ]
      },
      {
       "output_type": "stream",
       "stream": "stdout",
       "text": [
        "         Cross correlation offset: 0.456453 pixels\n",
        "BACKCORR OMIT\n"
       ]
      },
      {
       "output_type": "stream",
       "stream": "stdout",
       "text": [
        "X1DCORR  COMPLETE\n",
        "2012317162513-I--------------- X1DCORR complete: OBRC010I0 ---------------------\n",
        "         Spectrum extracted at y position = 37.174\n",
        "         Extraction box height = 7\n",
        "         Background box 1 height = 5 offset 12 from A2CENTER\n",
        "         Background box 2 height = 5 offset 12 from A2CENTER\n",
        "\n",
        "DISPCORR PERFORM\n",
        "DISPTAB  oref$l2j0137to_dsp.fits\n",
        "DISPTAB  PEDIGREE=INFLIGHT 27/02/1997 24/11/1999\n",
        "DISPTAB  DESCRIP =Lindler Postlaunch, May 2000\n",
        "APDESTAB oref$obm1723ro_apd.fits\n",
        "APDESTAB PEDIGREE=INFLIGHT 01/03/1997 01/03/1997\n",
        "APDESTAB DESCRIP =Microscope Meas./Hartig Post-launch Offsets\n",
        "INANGTAB oref$h5s11397o_iac.fits\n"
       ]
      },
      {
       "output_type": "stream",
       "stream": "stdout",
       "text": [
        "         Delta = 0.074666 arcsec.\n",
        "DISPCORR COMPLETE\n",
        "2012317162513-I--------------- DISPCORR complete: OBRC010I0 --------------------\n",
        "\n",
        "HELCORR  PERFORM\n",
        "HELCORR  COMPLETE\n",
        "2012317162513-I--------------- HELCORR complete: OBRC010I0 ---------------------\n",
        "\n",
        "PHOTTAB  oref$p822207no_pht.fits\n",
        "APERTAB  oref$n7p1032ao_apt.fits\n",
        "APERTAB  PEDIGREE=MODEL\n",
        "APERTAB  DESCRIP =Bohlin/Hartig TIM Models Nov. 1998\n",
        "PCTAB    oref$q541740oo_pct.fits\n",
        "TDSTAB   oref$t9a1003so_tds.fits\n"
       ]
      },
      {
       "output_type": "stream",
       "stream": "stdout",
       "text": [
        "FLUXCORR PERFORM\n",
        "CTECORR  PERFORM\n",
        "CCDTAB   oref$v6n13233o_ccd.fits\n",
        "CCDTAB   PEDIGREE=INFLIGHT 01/05/2009 01/05/2009\n",
        "CCDTAB   DESCRIP =Proposal 8057, by I. Dashevsky & P. Goudfrooij\n"
       ]
      },
      {
       "output_type": "stream",
       "stream": "stdout",
       "text": [
        "CTECORR  COMPLETE\n",
        "FLUXCORR COMPLETE\n",
        "2012317162513-I--------------- FLUXCORR complete: OBRC010I0 --------------------\n",
        "\n",
        "SGEOCORR OMIT\n"
       ]
      },
      {
       "output_type": "stream",
       "stream": "stdout",
       "text": [
        "\n",
        "         Row 1 written to disk.\n",
        "Order 1  End 16:25:13 EST\n"
       ]
      },
      {
       "output_type": "stream",
       "stream": "stdout",
       "text": [
        "\n",
        "Imset 1  End 16:25:13 EST\n"
       ]
      },
      {
       "output_type": "stream",
       "stream": "stdout",
       "text": [
        "\n",
        "Warning  Keyword `XTRACALG' is being added to header.\n",
        "End      12-Nov-2012 16:25:13 EST\n",
        "\n",
        "*** CALSTIS-6 complete ***\n",
        "2012317162513-I--------------- CALSTIS-6 completed: OBRC010I0 ------------------\n"
       ]
      },
      {
       "output_type": "stream",
       "stream": "stdout",
       "text": [
        "\n",
        "!/usr/stsci/stsci_iraf_x/stsdas/bin.macintel/cs6.e 'obrc010i0_flt.fits' '/user/bostroem/science/12465_otfr20121109/ccd/extracted_spectra_fits/R136-SE1_loc36_3936_x1d.fits' -t -v -cte -disp -hel -flux -c 36.7175039247 -r 0 -o1 12.0 -o2 12.0 -bm -bo 3 -a unweighted  -st 14.0\n"
       ]
      },
      {
       "output_type": "stream",
       "stream": "stdout",
       "text": [
        "\n",
        "*** CALSTIS-6 -- Version 2.40 (23-May-2012) ***\n",
        "Begin    12-Nov-2012 16:25:13 EST\n"
       ]
      },
      {
       "output_type": "stream",
       "stream": "stdout",
       "text": [
        "2012317162513-I--------------- CALSTIS-6 started -------------------------------\n",
        "\n",
        "Input    obrc010i0_flt.fits\n",
        "Output   /user/bostroem/science/12465_otfr20121109/ccd/extracted_spectra_fits/R136-SE1_loc36_3936_x1d.fits\n",
        "Rootname obrc010i0\n",
        "OBSMODE  ACCUM\n",
        "APERTURE 52X0.2\n",
        "OPT_ELEM G430M\n",
        "DETECTOR CCD\n"
       ]
      },
      {
       "output_type": "stream",
       "stream": "stdout",
       "text": [
        "\n",
        "XTRACTAB oref$n7p1031qo_1dx.fits\n",
        "XTRACTAB PEDIGREE=INFLIGHT 18/05/97\n",
        "XTRACTAB DESCRIP =Analysis from prop. 7094\n",
        "SPTRCTAB oref$qa31608go_1dt.fits\n",
        "\n",
        "Imset 1  Begin 16:25:13 EST\n"
       ]
      },
      {
       "output_type": "stream",
       "stream": "stdout",
       "text": [
        "         Input read into memory.\n",
        "         Offset of 14 low-res pixels added in dispersion direction\n",
        "Order 1  Begin 16:25:13 EST\n",
        "X1DCORR  PERFORM\n"
       ]
      },
      {
       "output_type": "stream",
       "stream": "stdout",
       "text": [
        "         Cross correlation offset: 0 pixels\n",
        "BACKCORR OMIT\n"
       ]
      },
      {
       "output_type": "stream",
       "stream": "stdout",
       "text": [
        "X1DCORR  COMPLETE\n",
        "2012317162513-I--------------- X1DCORR complete: OBRC010I0 ---------------------\n",
        "         Spectrum extracted at y position = 36.7175\n",
        "         Extraction box height = 7\n",
        "         Background box 1 height = 5 offset 12 from A2CENTER\n",
        "         Background box 2 height = 5 offset 12 from A2CENTER\n",
        "\n",
        "DISPCORR PERFORM\n",
        "DISPTAB  oref$l2j0137to_dsp.fits\n",
        "DISPTAB  PEDIGREE=INFLIGHT 27/02/1997 24/11/1999\n",
        "DISPTAB  DESCRIP =Lindler Postlaunch, May 2000\n",
        "APDESTAB oref$obm1723ro_apd.fits\n",
        "APDESTAB PEDIGREE=INFLIGHT 01/03/1997 01/03/1997\n",
        "APDESTAB DESCRIP =Microscope Meas./Hartig Post-launch Offsets\n",
        "INANGTAB oref$h5s11397o_iac.fits\n"
       ]
      },
      {
       "output_type": "stream",
       "stream": "stdout",
       "text": [
        "         Delta = 0.074666 arcsec.\n",
        "DISPCORR COMPLETE\n",
        "2012317162513-I--------------- DISPCORR complete: OBRC010I0 --------------------\n",
        "\n",
        "HELCORR  PERFORM\n",
        "HELCORR  COMPLETE\n",
        "2012317162513-I--------------- HELCORR complete: OBRC010I0 ---------------------\n",
        "\n",
        "PHOTTAB  oref$p822207no_pht.fits\n",
        "APERTAB  oref$n7p1032ao_apt.fits\n",
        "APERTAB  PEDIGREE=MODEL\n",
        "APERTAB  DESCRIP =Bohlin/Hartig TIM Models Nov. 1998\n",
        "PCTAB    oref$q541740oo_pct.fits\n",
        "TDSTAB   oref$t9a1003so_tds.fits\n"
       ]
      },
      {
       "output_type": "stream",
       "stream": "stdout",
       "text": [
        "FLUXCORR PERFORM\n",
        "CTECORR  PERFORM\n",
        "CCDTAB   oref$v6n13233o_ccd.fits\n",
        "CCDTAB   PEDIGREE=INFLIGHT 01/05/2009 01/05/2009\n",
        "CCDTAB   DESCRIP =Proposal 8057, by I. Dashevsky & P. Goudfrooij\n"
       ]
      },
      {
       "output_type": "stream",
       "stream": "stdout",
       "text": [
        "CTECORR  COMPLETE\n",
        "FLUXCORR COMPLETE\n",
        "2012317162513-I--------------- FLUXCORR complete: OBRC010I0 --------------------\n",
        "\n",
        "SGEOCORR OMIT\n"
       ]
      },
      {
       "output_type": "stream",
       "stream": "stdout",
       "text": [
        "\n",
        "         Row 1 written to disk.\n",
        "Order 1  End 16:25:13 EST\n"
       ]
      },
      {
       "output_type": "stream",
       "stream": "stdout",
       "text": [
        "\n",
        "Imset 1  End 16:25:13 EST\n"
       ]
      },
      {
       "output_type": "stream",
       "stream": "stdout",
       "text": [
        "\n",
        "Warning  Keyword `XTRACALG' is being added to header.\n",
        "End      12-Nov-2012 16:25:13 EST\n",
        "\n",
        "*** CALSTIS-6 complete ***\n",
        "2012317162513-I--------------- CALSTIS-6 completed: OBRC010I0 ------------------\n"
       ]
      },
      {
       "output_type": "stream",
       "stream": "stdout",
       "text": [
        "\n",
        "yloc = 56.991418"
       ]
      },
      {
       "output_type": "stream",
       "stream": "stdout",
       "text": [
        "\n",
        "!/usr/stsci/stsci_iraf_x/stsdas/bin.macintel/cs6.e 'obrc010i0_flt.fits' '/user/bostroem/science/12465_otfr20121109/ccd/R136-SE1_loc56_3936_x1d.fits' -t -v -cte -disp -hel -flux -c 56.9914178381 -r 4 -o1 12.0 -o2 12.0 -bm -bo 3 -a unweighted  -st 14.0\n"
       ]
      },
      {
       "output_type": "stream",
       "stream": "stdout",
       "text": [
        "\n",
        "*** CALSTIS-6 -- Version 2.40 (23-May-2012) ***\n",
        "Begin    12-Nov-2012 16:25:14 EST\n"
       ]
      },
      {
       "output_type": "stream",
       "stream": "stdout",
       "text": [
        "2012317162514-I--------------- CALSTIS-6 started -------------------------------\n",
        "\n",
        "Input    obrc010i0_flt.fits\n",
        "Output   /user/bostroem/science/12465_otfr20121109/ccd/R136-SE1_loc56_3936_x1d.fits\n",
        "Rootname obrc010i0\n",
        "OBSMODE  ACCUM\n",
        "APERTURE 52X0.2\n",
        "OPT_ELEM G430M\n",
        "DETECTOR CCD\n"
       ]
      },
      {
       "output_type": "stream",
       "stream": "stdout",
       "text": [
        "\n",
        "XTRACTAB oref$n7p1031qo_1dx.fits\n",
        "XTRACTAB PEDIGREE=INFLIGHT 18/05/97\n",
        "XTRACTAB DESCRIP =Analysis from prop. 7094\n",
        "SPTRCTAB oref$qa31608go_1dt.fits\n",
        "\n",
        "Imset 1  Begin 16:25:14 EST\n"
       ]
      },
      {
       "output_type": "stream",
       "stream": "stdout",
       "text": [
        "         Input read into memory.\n",
        "         Offset of 14 low-res pixels added in dispersion direction\n",
        "Order 1  Begin 16:25:14 EST\n",
        "X1DCORR  PERFORM\n"
       ]
      },
      {
       "output_type": "stream",
       "stream": "stdout",
       "text": [
        "         Cross correlation offset: 2.93615 pixels\n",
        "BACKCORR OMIT\n"
       ]
      },
      {
       "output_type": "stream",
       "stream": "stdout",
       "text": [
        "X1DCORR  COMPLETE\n",
        "2012317162514-I--------------- X1DCORR complete: OBRC010I0 ---------------------\n",
        "         Spectrum extracted at y position = 59.9276\n",
        "         Extraction box height = 7\n",
        "         Background box 1 height = 5 offset 12 from A2CENTER\n",
        "         Background box 2 height = 5 offset 12 from A2CENTER\n",
        "\n",
        "DISPCORR PERFORM\n",
        "DISPTAB  oref$l2j0137to_dsp.fits\n",
        "DISPTAB  PEDIGREE=INFLIGHT 27/02/1997 24/11/1999\n",
        "DISPTAB  DESCRIP =Lindler Postlaunch, May 2000\n",
        "APDESTAB oref$obm1723ro_apd.fits\n",
        "APDESTAB PEDIGREE=INFLIGHT 01/03/1997 01/03/1997\n",
        "APDESTAB DESCRIP =Microscope Meas./Hartig Post-launch Offsets\n",
        "INANGTAB oref$h5s11397o_iac.fits\n"
       ]
      },
      {
       "output_type": "stream",
       "stream": "stdout",
       "text": [
        "         Delta = 0.074666 arcsec.\n",
        "DISPCORR COMPLETE\n",
        "2012317162514-I--------------- DISPCORR complete: OBRC010I0 --------------------\n",
        "\n",
        "HELCORR  PERFORM\n",
        "HELCORR  COMPLETE\n",
        "2012317162514-I--------------- HELCORR complete: OBRC010I0 ---------------------\n",
        "\n",
        "PHOTTAB  oref$p822207no_pht.fits\n",
        "APERTAB  oref$n7p1032ao_apt.fits\n",
        "APERTAB  PEDIGREE=MODEL\n",
        "APERTAB  DESCRIP =Bohlin/Hartig TIM Models Nov. 1998\n",
        "PCTAB    oref$q541740oo_pct.fits\n",
        "TDSTAB   oref$t9a1003so_tds.fits\n"
       ]
      },
      {
       "output_type": "stream",
       "stream": "stdout",
       "text": [
        "FLUXCORR PERFORM\n",
        "CTECORR  PERFORM\n",
        "CCDTAB   oref$v6n13233o_ccd.fits\n",
        "CCDTAB   PEDIGREE=INFLIGHT 01/05/2009 01/05/2009\n",
        "CCDTAB   DESCRIP =Proposal 8057, by I. Dashevsky & P. Goudfrooij\n"
       ]
      },
      {
       "output_type": "stream",
       "stream": "stdout",
       "text": [
        "CTECORR  COMPLETE\n",
        "FLUXCORR COMPLETE\n",
        "2012317162514-I--------------- FLUXCORR complete: OBRC010I0 --------------------\n",
        "\n",
        "SGEOCORR OMIT\n"
       ]
      },
      {
       "output_type": "stream",
       "stream": "stdout",
       "text": [
        "\n",
        "         Row 1 written to disk.\n",
        "Order 1  End 16:25:14 EST\n"
       ]
      },
      {
       "output_type": "stream",
       "stream": "stdout",
       "text": [
        "\n",
        "Imset 1  End 16:25:14 EST\n"
       ]
      },
      {
       "output_type": "stream",
       "stream": "stdout",
       "text": [
        "\n",
        "Warning  Keyword `XTRACALG' is being added to header.\n",
        "End      12-Nov-2012 16:25:14 EST\n",
        "\n",
        "*** CALSTIS-6 complete ***\n",
        "2012317162514-I--------------- CALSTIS-6 completed: OBRC010I0 ------------------\n"
       ]
      },
      {
       "output_type": "stream",
       "stream": "stdout",
       "text": [
        "\n",
        "!/usr/stsci/stsci_iraf_x/stsdas/bin.macintel/cs6.e 'obrc010i0_flt.fits' '/user/bostroem/science/12465_otfr20121109/ccd/extracted_spectra_fits/R136-SE1_loc56_3936_x1d.fits' -t -v -cte -disp -hel -flux -c 56.9914178381 -r 0 -o1 12.0 -o2 12.0 -bm -bo 3 -a unweighted  -st 14.0\n"
       ]
      },
      {
       "output_type": "stream",
       "stream": "stdout",
       "text": [
        "\n",
        "*** CALSTIS-6 -- Version 2.40 (23-May-2012) ***\n",
        "Begin    12-Nov-2012 16:25:14 EST\n"
       ]
      },
      {
       "output_type": "stream",
       "stream": "stdout",
       "text": [
        "2012317162514-I--------------- CALSTIS-6 started -------------------------------\n",
        "\n",
        "Input    obrc010i0_flt.fits\n",
        "Output   /user/bostroem/science/12465_otfr20121109/ccd/extracted_spectra_fits/R136-SE1_loc56_3936_x1d.fits\n",
        "Rootname obrc010i0\n",
        "OBSMODE  ACCUM\n",
        "APERTURE 52X0.2\n",
        "OPT_ELEM G430M\n",
        "DETECTOR CCD\n"
       ]
      },
      {
       "output_type": "stream",
       "stream": "stdout",
       "text": [
        "\n",
        "XTRACTAB oref$n7p1031qo_1dx.fits\n",
        "XTRACTAB PEDIGREE=INFLIGHT 18/05/97\n",
        "XTRACTAB DESCRIP =Analysis from prop. 7094\n",
        "SPTRCTAB oref$qa31608go_1dt.fits\n",
        "\n",
        "Imset 1  Begin 16:25:14 EST\n"
       ]
      },
      {
       "output_type": "stream",
       "stream": "stdout",
       "text": [
        "         Input read into memory.\n",
        "         Offset of 14 low-res pixels added in dispersion direction\n",
        "Order 1  Begin 16:25:15 EST\n",
        "X1DCORR  PERFORM\n"
       ]
      },
      {
       "output_type": "stream",
       "stream": "stdout",
       "text": [
        "         Cross correlation offset: 0 pixels\n",
        "BACKCORR OMIT\n"
       ]
      },
      {
       "output_type": "stream",
       "stream": "stdout",
       "text": [
        "X1DCORR  COMPLETE\n",
        "2012317162515-I--------------- X1DCORR complete: OBRC010I0 ---------------------\n",
        "         Spectrum extracted at y position = 56.9914\n",
        "         Extraction box height = 7\n",
        "         Background box 1 height = 5 offset 12 from A2CENTER\n",
        "         Background box 2 height = 5 offset 12 from A2CENTER\n",
        "\n",
        "DISPCORR PERFORM\n",
        "DISPTAB  oref$l2j0137to_dsp.fits\n",
        "DISPTAB  PEDIGREE=INFLIGHT 27/02/1997 24/11/1999\n",
        "DISPTAB  DESCRIP =Lindler Postlaunch, May 2000\n",
        "APDESTAB oref$obm1723ro_apd.fits\n",
        "APDESTAB PEDIGREE=INFLIGHT 01/03/1997 01/03/1997\n",
        "APDESTAB DESCRIP =Microscope Meas./Hartig Post-launch Offsets\n",
        "INANGTAB oref$h5s11397o_iac.fits\n"
       ]
      },
      {
       "output_type": "stream",
       "stream": "stdout",
       "text": [
        "         Delta = 0.074666 arcsec.\n",
        "DISPCORR COMPLETE\n",
        "2012317162515-I--------------- DISPCORR complete: OBRC010I0 --------------------\n",
        "\n",
        "HELCORR  PERFORM\n",
        "HELCORR  COMPLETE\n",
        "2012317162515-I--------------- HELCORR complete: OBRC010I0 ---------------------\n",
        "\n",
        "PHOTTAB  oref$p822207no_pht.fits\n",
        "APERTAB  oref$n7p1032ao_apt.fits\n",
        "APERTAB  PEDIGREE=MODEL\n",
        "APERTAB  DESCRIP =Bohlin/Hartig TIM Models Nov. 1998\n",
        "PCTAB    oref$q541740oo_pct.fits\n",
        "TDSTAB   oref$t9a1003so_tds.fits\n"
       ]
      },
      {
       "output_type": "stream",
       "stream": "stdout",
       "text": [
        "FLUXCORR PERFORM\n",
        "CTECORR  PERFORM\n",
        "CCDTAB   oref$v6n13233o_ccd.fits\n",
        "CCDTAB   PEDIGREE=INFLIGHT 01/05/2009 01/05/2009\n",
        "CCDTAB   DESCRIP =Proposal 8057, by I. Dashevsky & P. Goudfrooij\n"
       ]
      },
      {
       "output_type": "stream",
       "stream": "stdout",
       "text": [
        "CTECORR  COMPLETE\n",
        "FLUXCORR COMPLETE\n",
        "2012317162515-I--------------- FLUXCORR complete: OBRC010I0 --------------------\n",
        "\n",
        "SGEOCORR OMIT\n"
       ]
      },
      {
       "output_type": "stream",
       "stream": "stdout",
       "text": [
        "\n",
        "         Row 1 written to disk.\n",
        "Order 1  End 16:25:15 EST\n"
       ]
      },
      {
       "output_type": "stream",
       "stream": "stdout",
       "text": [
        "\n",
        "Imset 1  End 16:25:15 EST\n"
       ]
      },
      {
       "output_type": "stream",
       "stream": "stdout",
       "text": [
        "\n",
        "Warning  Keyword `XTRACALG' is being added to header.\n",
        "End      12-Nov-2012 16:25:15 EST\n",
        "\n",
        "*** CALSTIS-6 complete ***\n",
        "2012317162515-I--------------- CALSTIS-6 completed: OBRC010I0 ------------------\n"
       ]
      },
      {
       "output_type": "stream",
       "stream": "stdout",
       "text": [
        "\n",
        "yloc = 488.819792"
       ]
      },
      {
       "output_type": "stream",
       "stream": "stdout",
       "text": [
        "\n",
        "!/usr/stsci/stsci_iraf_x/stsdas/bin.macintel/cs6.e 'obrc010i0_flt.fits' '/user/bostroem/science/12465_otfr20121109/ccd/R136-SE1_loc488_3936_x1d.fits' -t -v -cte -disp -hel -flux -c 488.819792143 -r 4 -o1 12.0 -o2 12.0 -bm -bo 3 -a unweighted  -st 14.0\n"
       ]
      },
      {
       "output_type": "stream",
       "stream": "stdout",
       "text": [
        "\n",
        "*** CALSTIS-6 -- Version 2.40 (23-May-2012) ***\n",
        "Begin    12-Nov-2012 16:25:15 EST\n"
       ]
      },
      {
       "output_type": "stream",
       "stream": "stdout",
       "text": [
        "2012317162515-I--------------- CALSTIS-6 started -------------------------------\n",
        "\n",
        "Input    obrc010i0_flt.fits\n",
        "Output   /user/bostroem/science/12465_otfr20121109/ccd/R136-SE1_loc488_3936_x1d.fits\n",
        "Rootname obrc010i0\n",
        "OBSMODE  ACCUM\n",
        "APERTURE 52X0.2\n",
        "OPT_ELEM G430M\n",
        "DETECTOR CCD\n"
       ]
      },
      {
       "output_type": "stream",
       "stream": "stdout",
       "text": [
        "\n",
        "XTRACTAB oref$n7p1031qo_1dx.fits\n",
        "XTRACTAB PEDIGREE=INFLIGHT 18/05/97\n",
        "XTRACTAB DESCRIP =Analysis from prop. 7094\n",
        "SPTRCTAB oref$qa31608go_1dt.fits\n",
        "\n",
        "Imset 1  Begin 16:25:15 EST\n"
       ]
      },
      {
       "output_type": "stream",
       "stream": "stdout",
       "text": [
        "         Input read into memory.\n",
        "         Offset of 14 low-res pixels added in dispersion direction\n",
        "Order 1  Begin 16:25:15 EST\n",
        "X1DCORR  PERFORM\n"
       ]
      },
      {
       "output_type": "stream",
       "stream": "stdout",
       "text": [
        "         Cross correlation offset: -0.149605 pixels\n",
        "BACKCORR OMIT\n"
       ]
      },
      {
       "output_type": "stream",
       "stream": "stdout",
       "text": [
        "X1DCORR  COMPLETE\n",
        "2012317162515-I--------------- X1DCORR complete: OBRC010I0 ---------------------\n",
        "         Spectrum extracted at y position = 488.67\n",
        "         Extraction box height = 7\n",
        "         Background box 1 height = 5 offset 12 from A2CENTER\n",
        "         Background box 2 height = 5 offset 12 from A2CENTER\n",
        "\n",
        "DISPCORR PERFORM\n",
        "DISPTAB  oref$l2j0137to_dsp.fits\n",
        "DISPTAB  PEDIGREE=INFLIGHT 27/02/1997 24/11/1999\n",
        "DISPTAB  DESCRIP =Lindler Postlaunch, May 2000\n",
        "APDESTAB oref$obm1723ro_apd.fits\n",
        "APDESTAB PEDIGREE=INFLIGHT 01/03/1997 01/03/1997\n",
        "APDESTAB DESCRIP =Microscope Meas./Hartig Post-launch Offsets\n",
        "INANGTAB oref$h5s11397o_iac.fits\n"
       ]
      },
      {
       "output_type": "stream",
       "stream": "stdout",
       "text": [
        "         Delta = 0.074666 arcsec.\n",
        "DISPCORR COMPLETE\n",
        "2012317162515-I--------------- DISPCORR complete: OBRC010I0 --------------------\n",
        "\n",
        "HELCORR  PERFORM\n",
        "HELCORR  COMPLETE\n",
        "2012317162515-I--------------- HELCORR complete: OBRC010I0 ---------------------\n",
        "\n",
        "PHOTTAB  oref$p822207no_pht.fits\n",
        "APERTAB  oref$n7p1032ao_apt.fits\n",
        "APERTAB  PEDIGREE=MODEL\n",
        "APERTAB  DESCRIP =Bohlin/Hartig TIM Models Nov. 1998\n",
        "PCTAB    oref$q541740oo_pct.fits\n",
        "TDSTAB   oref$t9a1003so_tds.fits\n"
       ]
      },
      {
       "output_type": "stream",
       "stream": "stdout",
       "text": [
        "FLUXCORR PERFORM\n",
        "CTECORR  PERFORM\n",
        "CCDTAB   oref$v6n13233o_ccd.fits\n",
        "CCDTAB   PEDIGREE=INFLIGHT 01/05/2009 01/05/2009\n",
        "CCDTAB   DESCRIP =Proposal 8057, by I. Dashevsky & P. Goudfrooij\n"
       ]
      },
      {
       "output_type": "stream",
       "stream": "stdout",
       "text": [
        "CTECORR  COMPLETE\n",
        "FLUXCORR COMPLETE\n",
        "2012317162515-I--------------- FLUXCORR complete: OBRC010I0 --------------------\n",
        "\n",
        "SGEOCORR OMIT\n"
       ]
      },
      {
       "output_type": "stream",
       "stream": "stdout",
       "text": [
        "\n",
        "         Row 1 written to disk.\n",
        "Order 1  End 16:25:15 EST\n"
       ]
      },
      {
       "output_type": "stream",
       "stream": "stdout",
       "text": [
        "\n",
        "Imset 1  End 16:25:15 EST\n"
       ]
      },
      {
       "output_type": "stream",
       "stream": "stdout",
       "text": [
        "\n",
        "Warning  Keyword `XTRACALG' is being added to header.\n",
        "End      12-Nov-2012 16:25:15 EST\n",
        "\n",
        "*** CALSTIS-6 complete ***\n",
        "2012317162515-I--------------- CALSTIS-6 completed: OBRC010I0 ------------------\n"
       ]
      },
      {
       "output_type": "stream",
       "stream": "stdout",
       "text": [
        "\n",
        "!/usr/stsci/stsci_iraf_x/stsdas/bin.macintel/cs6.e 'obrc010i0_flt.fits' '/user/bostroem/science/12465_otfr20121109/ccd/extracted_spectra_fits/R136-SE1_loc488_3936_x1d.fits' -t -v -cte -disp -hel -flux -c 488.819792143 -r 0 -o1 12.0 -o2 12.0 -bm -bo 3 -a unweighted  -st 14.0\n"
       ]
      },
      {
       "output_type": "stream",
       "stream": "stdout",
       "text": [
        "\n",
        "*** CALSTIS-6 -- Version 2.40 (23-May-2012) ***\n",
        "Begin    12-Nov-2012 16:25:16 EST\n"
       ]
      },
      {
       "output_type": "stream",
       "stream": "stdout",
       "text": [
        "2012317162516-I--------------- CALSTIS-6 started -------------------------------\n",
        "\n",
        "Input    obrc010i0_flt.fits\n",
        "Output   /user/bostroem/science/12465_otfr20121109/ccd/extracted_spectra_fits/R136-SE1_loc488_3936_x1d.fits\n",
        "Rootname obrc010i0\n",
        "OBSMODE  ACCUM\n",
        "APERTURE 52X0.2\n",
        "OPT_ELEM G430M\n",
        "DETECTOR CCD\n"
       ]
      },
      {
       "output_type": "stream",
       "stream": "stdout",
       "text": [
        "\n",
        "XTRACTAB oref$n7p1031qo_1dx.fits\n",
        "XTRACTAB PEDIGREE=INFLIGHT 18/05/97\n",
        "XTRACTAB DESCRIP =Analysis from prop. 7094\n",
        "SPTRCTAB oref$qa31608go_1dt.fits\n",
        "\n",
        "Imset 1  Begin 16:25:16 EST\n"
       ]
      },
      {
       "output_type": "stream",
       "stream": "stdout",
       "text": [
        "         Input read into memory.\n",
        "         Offset of 14 low-res pixels added in dispersion direction\n",
        "Order 1  Begin 16:25:16 EST\n",
        "X1DCORR  PERFORM\n"
       ]
      },
      {
       "output_type": "stream",
       "stream": "stdout",
       "text": [
        "         Cross correlation offset: 0 pixels\n",
        "BACKCORR OMIT\n"
       ]
      },
      {
       "output_type": "stream",
       "stream": "stdout",
       "text": [
        "X1DCORR  COMPLETE\n",
        "2012317162516-I--------------- X1DCORR complete: OBRC010I0 ---------------------\n",
        "         Spectrum extracted at y position = 488.82\n",
        "         Extraction box height = 7\n",
        "         Background box 1 height = 5 offset 12 from A2CENTER\n",
        "         Background box 2 height = 5 offset 12 from A2CENTER\n",
        "\n",
        "DISPCORR PERFORM\n",
        "DISPTAB  oref$l2j0137to_dsp.fits\n",
        "DISPTAB  PEDIGREE=INFLIGHT 27/02/1997 24/11/1999\n",
        "DISPTAB  DESCRIP =Lindler Postlaunch, May 2000\n",
        "APDESTAB oref$obm1723ro_apd.fits\n",
        "APDESTAB PEDIGREE=INFLIGHT 01/03/1997 01/03/1997\n",
        "APDESTAB DESCRIP =Microscope Meas./Hartig Post-launch Offsets\n",
        "INANGTAB oref$h5s11397o_iac.fits\n"
       ]
      },
      {
       "output_type": "stream",
       "stream": "stdout",
       "text": [
        "         Delta = 0.074666 arcsec.\n",
        "DISPCORR COMPLETE\n",
        "2012317162516-I--------------- DISPCORR complete: OBRC010I0 --------------------\n",
        "\n",
        "HELCORR  PERFORM\n",
        "HELCORR  COMPLETE\n",
        "2012317162516-I--------------- HELCORR complete: OBRC010I0 ---------------------\n",
        "\n",
        "PHOTTAB  oref$p822207no_pht.fits\n",
        "APERTAB  oref$n7p1032ao_apt.fits\n",
        "APERTAB  PEDIGREE=MODEL\n",
        "APERTAB  DESCRIP =Bohlin/Hartig TIM Models Nov. 1998\n",
        "PCTAB    oref$q541740oo_pct.fits\n",
        "TDSTAB   oref$t9a1003so_tds.fits\n"
       ]
      },
      {
       "output_type": "stream",
       "stream": "stdout",
       "text": [
        "FLUXCORR PERFORM\n",
        "CTECORR  PERFORM\n",
        "CCDTAB   oref$v6n13233o_ccd.fits\n",
        "CCDTAB   PEDIGREE=INFLIGHT 01/05/2009 01/05/2009\n",
        "CCDTAB   DESCRIP =Proposal 8057, by I. Dashevsky & P. Goudfrooij\n"
       ]
      },
      {
       "output_type": "stream",
       "stream": "stdout",
       "text": [
        "CTECORR  COMPLETE\n",
        "FLUXCORR COMPLETE\n",
        "2012317162516-I--------------- FLUXCORR complete: OBRC010I0 --------------------\n",
        "\n",
        "SGEOCORR OMIT\n"
       ]
      },
      {
       "output_type": "stream",
       "stream": "stdout",
       "text": [
        "\n",
        "         Row 1 written to disk.\n",
        "Order 1  End 16:25:16 EST\n"
       ]
      },
      {
       "output_type": "stream",
       "stream": "stdout",
       "text": [
        "\n",
        "Imset 1  End 16:25:16 EST\n"
       ]
      },
      {
       "output_type": "stream",
       "stream": "stdout",
       "text": [
        "\n",
        "Warning  Keyword `XTRACALG' is being added to header.\n",
        "End      12-Nov-2012 16:25:16 EST\n",
        "\n",
        "*** CALSTIS-6 complete ***\n",
        "2012317162516-I--------------- CALSTIS-6 completed: OBRC010I0 ------------------\n"
       ]
      },
      {
       "output_type": "stream",
       "stream": "stdout",
       "text": [
        "\n",
        "yloc = 519.886553"
       ]
      },
      {
       "output_type": "stream",
       "stream": "stdout",
       "text": [
        "\n",
        "!/usr/stsci/stsci_iraf_x/stsdas/bin.macintel/cs6.e 'obrc010i0_flt.fits' '/user/bostroem/science/12465_otfr20121109/ccd/R136-SE1_loc519_3936_x1d.fits' -t -v -cte -disp -hel -flux -c 519.886552544 -r 4 -o1 12.0 -o2 12.0 -bm -bo 3 -a unweighted  -st 14.0\n"
       ]
      },
      {
       "output_type": "stream",
       "stream": "stdout",
       "text": [
        "\n",
        "*** CALSTIS-6 -- Version 2.40 (23-May-2012) ***\n",
        "Begin    12-Nov-2012 16:25:16 EST\n"
       ]
      },
      {
       "output_type": "stream",
       "stream": "stdout",
       "text": [
        "2012317162516-I--------------- CALSTIS-6 started -------------------------------\n",
        "\n",
        "Input    obrc010i0_flt.fits\n",
        "Output   /user/bostroem/science/12465_otfr20121109/ccd/R136-SE1_loc519_3936_x1d.fits\n",
        "Rootname obrc010i0\n",
        "OBSMODE  ACCUM\n",
        "APERTURE 52X0.2\n",
        "OPT_ELEM G430M\n",
        "DETECTOR CCD\n"
       ]
      },
      {
       "output_type": "stream",
       "stream": "stdout",
       "text": [
        "\n",
        "XTRACTAB oref$n7p1031qo_1dx.fits\n",
        "XTRACTAB PEDIGREE=INFLIGHT 18/05/97\n",
        "XTRACTAB DESCRIP =Analysis from prop. 7094\n",
        "SPTRCTAB oref$qa31608go_1dt.fits\n",
        "\n",
        "Imset 1  Begin 16:25:16 EST\n"
       ]
      },
      {
       "output_type": "stream",
       "stream": "stdout",
       "text": [
        "         Input read into memory.\n",
        "         Offset of 14 low-res pixels added in dispersion direction\n",
        "Order 1  Begin 16:25:16 EST\n",
        "X1DCORR  PERFORM\n"
       ]
      },
      {
       "output_type": "stream",
       "stream": "stdout",
       "text": [
        "         Cross correlation offset: 1.09106 pixels\n",
        "BACKCORR OMIT\n"
       ]
      },
      {
       "output_type": "stream",
       "stream": "stdout",
       "text": [
        "X1DCORR  COMPLETE\n",
        "2012317162516-I--------------- X1DCORR complete: OBRC010I0 ---------------------\n",
        "         Spectrum extracted at y position = 520.978\n",
        "         Extraction box height = 7\n",
        "         Background box 1 height = 5 offset 12 from A2CENTER\n",
        "         Background box 2 height = 5 offset 12 from A2CENTER\n",
        "\n",
        "DISPCORR PERFORM\n",
        "DISPTAB  oref$l2j0137to_dsp.fits\n",
        "DISPTAB  PEDIGREE=INFLIGHT 27/02/1997 24/11/1999\n",
        "DISPTAB  DESCRIP =Lindler Postlaunch, May 2000\n",
        "APDESTAB oref$obm1723ro_apd.fits\n",
        "APDESTAB PEDIGREE=INFLIGHT 01/03/1997 01/03/1997\n",
        "APDESTAB DESCRIP =Microscope Meas./Hartig Post-launch Offsets\n",
        "INANGTAB oref$h5s11397o_iac.fits\n"
       ]
      },
      {
       "output_type": "stream",
       "stream": "stdout",
       "text": [
        "         Delta = 0.074666 arcsec.\n",
        "DISPCORR COMPLETE\n",
        "2012317162516-I--------------- DISPCORR complete: OBRC010I0 --------------------\n",
        "\n",
        "HELCORR  PERFORM\n",
        "HELCORR  COMPLETE\n",
        "2012317162516-I--------------- HELCORR complete: OBRC010I0 ---------------------\n",
        "\n",
        "PHOTTAB  oref$p822207no_pht.fits\n",
        "APERTAB  oref$n7p1032ao_apt.fits\n",
        "APERTAB  PEDIGREE=MODEL\n",
        "APERTAB  DESCRIP =Bohlin/Hartig TIM Models Nov. 1998\n",
        "PCTAB    oref$q541740oo_pct.fits\n",
        "TDSTAB   oref$t9a1003so_tds.fits\n"
       ]
      },
      {
       "output_type": "stream",
       "stream": "stdout",
       "text": [
        "FLUXCORR PERFORM\n",
        "CTECORR  PERFORM\n",
        "CCDTAB   oref$v6n13233o_ccd.fits\n",
        "CCDTAB   PEDIGREE=INFLIGHT 01/05/2009 01/05/2009\n",
        "CCDTAB   DESCRIP =Proposal 8057, by I. Dashevsky & P. Goudfrooij\n"
       ]
      },
      {
       "output_type": "stream",
       "stream": "stdout",
       "text": [
        "CTECORR  COMPLETE\n",
        "FLUXCORR COMPLETE\n",
        "2012317162516-I--------------- FLUXCORR complete: OBRC010I0 --------------------\n",
        "\n",
        "SGEOCORR OMIT\n"
       ]
      },
      {
       "output_type": "stream",
       "stream": "stdout",
       "text": [
        "\n",
        "         Row 1 written to disk.\n",
        "Order 1  End 16:25:16 EST\n"
       ]
      },
      {
       "output_type": "stream",
       "stream": "stdout",
       "text": [
        "\n",
        "Imset 1  End 16:25:16 EST\n"
       ]
      },
      {
       "output_type": "stream",
       "stream": "stdout",
       "text": [
        "\n",
        "Warning  Keyword `XTRACALG' is being added to header.\n",
        "End      12-Nov-2012 16:25:16 EST\n",
        "\n",
        "*** CALSTIS-6 complete ***\n",
        "2012317162516-I--------------- CALSTIS-6 completed: OBRC010I0 ------------------\n"
       ]
      },
      {
       "output_type": "stream",
       "stream": "stdout",
       "text": [
        "\n",
        "!/usr/stsci/stsci_iraf_x/stsdas/bin.macintel/cs6.e 'obrc010i0_flt.fits' '/user/bostroem/science/12465_otfr20121109/ccd/extracted_spectra_fits/R136-SE1_loc519_3936_x1d.fits' -t -v -cte -disp -hel -flux -c 519.886552544 -r 0 -o1 12.0 -o2 12.0 -bm -bo 3 -a unweighted  -st 14.0\n"
       ]
      },
      {
       "output_type": "stream",
       "stream": "stdout",
       "text": [
        "\n",
        "*** CALSTIS-6 -- Version 2.40 (23-May-2012) ***\n",
        "Begin    12-Nov-2012 16:25:17 EST\n"
       ]
      },
      {
       "output_type": "stream",
       "stream": "stdout",
       "text": [
        "2012317162517-I--------------- CALSTIS-6 started -------------------------------\n",
        "\n",
        "Input    obrc010i0_flt.fits\n",
        "Output   /user/bostroem/science/12465_otfr20121109/ccd/extracted_spectra_fits/R136-SE1_loc519_3936_x1d.fits\n",
        "Rootname obrc010i0\n",
        "OBSMODE  ACCUM\n",
        "APERTURE 52X0.2\n",
        "OPT_ELEM G430M\n",
        "DETECTOR CCD\n"
       ]
      },
      {
       "output_type": "stream",
       "stream": "stdout",
       "text": [
        "\n",
        "XTRACTAB oref$n7p1031qo_1dx.fits\n",
        "XTRACTAB PEDIGREE=INFLIGHT 18/05/97\n",
        "XTRACTAB DESCRIP =Analysis from prop. 7094\n",
        "SPTRCTAB oref$qa31608go_1dt.fits\n",
        "\n",
        "Imset 1  Begin 16:25:17 EST\n"
       ]
      },
      {
       "output_type": "stream",
       "stream": "stdout",
       "text": [
        "         Input read into memory.\n",
        "         Offset of 14 low-res pixels added in dispersion direction\n",
        "Order 1  Begin 16:25:17 EST\n",
        "X1DCORR  PERFORM\n"
       ]
      },
      {
       "output_type": "stream",
       "stream": "stdout",
       "text": [
        "         Cross correlation offset: 0 pixels\n",
        "BACKCORR OMIT\n"
       ]
      },
      {
       "output_type": "stream",
       "stream": "stdout",
       "text": [
        "X1DCORR  COMPLETE\n",
        "2012317162517-I--------------- X1DCORR complete: OBRC010I0 ---------------------\n",
        "         Spectrum extracted at y position = 519.887\n",
        "         Extraction box height = 7\n",
        "         Background box 1 height = 5 offset 12 from A2CENTER\n",
        "         Background box 2 height = 5 offset 12 from A2CENTER\n",
        "\n",
        "DISPCORR PERFORM\n",
        "DISPTAB  oref$l2j0137to_dsp.fits\n",
        "DISPTAB  PEDIGREE=INFLIGHT 27/02/1997 24/11/1999\n",
        "DISPTAB  DESCRIP =Lindler Postlaunch, May 2000\n",
        "APDESTAB oref$obm1723ro_apd.fits\n",
        "APDESTAB PEDIGREE=INFLIGHT 01/03/1997 01/03/1997\n",
        "APDESTAB DESCRIP =Microscope Meas./Hartig Post-launch Offsets\n",
        "INANGTAB oref$h5s11397o_iac.fits\n"
       ]
      },
      {
       "output_type": "stream",
       "stream": "stdout",
       "text": [
        "         Delta = 0.074666 arcsec.\n",
        "DISPCORR COMPLETE\n",
        "2012317162517-I--------------- DISPCORR complete: OBRC010I0 --------------------\n",
        "\n",
        "HELCORR  PERFORM\n",
        "HELCORR  COMPLETE\n",
        "2012317162517-I--------------- HELCORR complete: OBRC010I0 ---------------------\n",
        "\n",
        "PHOTTAB  oref$p822207no_pht.fits\n",
        "APERTAB  oref$n7p1032ao_apt.fits\n",
        "APERTAB  PEDIGREE=MODEL\n",
        "APERTAB  DESCRIP =Bohlin/Hartig TIM Models Nov. 1998\n",
        "PCTAB    oref$q541740oo_pct.fits\n",
        "TDSTAB   oref$t9a1003so_tds.fits\n"
       ]
      },
      {
       "output_type": "stream",
       "stream": "stdout",
       "text": [
        "FLUXCORR PERFORM\n",
        "CTECORR  PERFORM\n",
        "CCDTAB   oref$v6n13233o_ccd.fits\n",
        "CCDTAB   PEDIGREE=INFLIGHT 01/05/2009 01/05/2009\n",
        "CCDTAB   DESCRIP =Proposal 8057, by I. Dashevsky & P. Goudfrooij\n"
       ]
      },
      {
       "output_type": "stream",
       "stream": "stdout",
       "text": [
        "CTECORR  COMPLETE\n",
        "FLUXCORR COMPLETE\n",
        "2012317162517-I--------------- FLUXCORR complete: OBRC010I0 --------------------\n",
        "\n",
        "SGEOCORR OMIT\n"
       ]
      },
      {
       "output_type": "stream",
       "stream": "stdout",
       "text": [
        "\n",
        "         Row 1 written to disk.\n",
        "Order 1  End 16:25:17 EST\n"
       ]
      },
      {
       "output_type": "stream",
       "stream": "stdout",
       "text": [
        "\n",
        "Imset 1  End 16:25:17 EST\n"
       ]
      },
      {
       "output_type": "stream",
       "stream": "stdout",
       "text": [
        "\n",
        "Warning  Keyword `XTRACALG' is being added to header.\n",
        "End      12-Nov-2012 16:25:17 EST\n",
        "\n",
        "*** CALSTIS-6 complete ***\n",
        "2012317162517-I--------------- CALSTIS-6 completed: OBRC010I0 ------------------\n"
       ]
      },
      {
       "output_type": "stream",
       "stream": "stdout",
       "text": [
        "\n",
        "yloc = 552.185393"
       ]
      },
      {
       "output_type": "stream",
       "stream": "stdout",
       "text": [
        "\n",
        "!/usr/stsci/stsci_iraf_x/stsdas/bin.macintel/cs6.e 'obrc010i0_flt.fits' '/user/bostroem/science/12465_otfr20121109/ccd/R136-SE1_loc552_3936_x1d.fits' -t -v -cte -disp -hel -flux -c 552.185393148 -r 4 -o1 12.0 -o2 12.0 -bm -bo 3 -a unweighted  -st 14.0\n"
       ]
      },
      {
       "output_type": "stream",
       "stream": "stdout",
       "text": [
        "\n",
        "*** CALSTIS-6 -- Version 2.40 (23-May-2012) ***\n",
        "Begin    12-Nov-2012 16:25:17 EST\n"
       ]
      },
      {
       "output_type": "stream",
       "stream": "stdout",
       "text": [
        "2012317162517-I--------------- CALSTIS-6 started -------------------------------\n",
        "\n",
        "Input    obrc010i0_flt.fits\n",
        "Output   /user/bostroem/science/12465_otfr20121109/ccd/R136-SE1_loc552_3936_x1d.fits\n",
        "Rootname obrc010i0\n",
        "OBSMODE  ACCUM\n",
        "APERTURE 52X0.2\n",
        "OPT_ELEM G430M\n",
        "DETECTOR CCD\n"
       ]
      },
      {
       "output_type": "stream",
       "stream": "stdout",
       "text": [
        "\n",
        "XTRACTAB oref$n7p1031qo_1dx.fits\n",
        "XTRACTAB PEDIGREE=INFLIGHT 18/05/97\n",
        "XTRACTAB DESCRIP =Analysis from prop. 7094\n",
        "SPTRCTAB oref$qa31608go_1dt.fits\n",
        "\n",
        "Imset 1  Begin 16:25:17 EST\n"
       ]
      },
      {
       "output_type": "stream",
       "stream": "stdout",
       "text": [
        "         Input read into memory.\n",
        "         Offset of 14 low-res pixels added in dispersion direction\n",
        "Order 1  Begin 16:25:17 EST\n",
        "X1DCORR  PERFORM\n"
       ]
      },
      {
       "output_type": "stream",
       "stream": "stdout",
       "text": [
        "         Cross correlation offset: 1.51434 pixels\n",
        "BACKCORR OMIT\n"
       ]
      },
      {
       "output_type": "stream",
       "stream": "stdout",
       "text": [
        "X1DCORR  COMPLETE\n",
        "2012317162517-I--------------- X1DCORR complete: OBRC010I0 ---------------------\n",
        "         Spectrum extracted at y position = 553.7\n",
        "         Extraction box height = 7\n",
        "         Background box 1 height = 5 offset 12 from A2CENTER\n",
        "         Background box 2 height = 5 offset 12 from A2CENTER\n",
        "\n",
        "DISPCORR PERFORM\n",
        "DISPTAB  oref$l2j0137to_dsp.fits\n",
        "DISPTAB  PEDIGREE=INFLIGHT 27/02/1997 24/11/1999\n",
        "DISPTAB  DESCRIP =Lindler Postlaunch, May 2000\n",
        "APDESTAB oref$obm1723ro_apd.fits\n",
        "APDESTAB PEDIGREE=INFLIGHT 01/03/1997 01/03/1997\n",
        "APDESTAB DESCRIP =Microscope Meas./Hartig Post-launch Offsets\n",
        "INANGTAB oref$h5s11397o_iac.fits\n"
       ]
      },
      {
       "output_type": "stream",
       "stream": "stdout",
       "text": [
        "         Delta = 0.074666 arcsec.\n",
        "DISPCORR COMPLETE\n",
        "2012317162517-I--------------- DISPCORR complete: OBRC010I0 --------------------\n",
        "\n",
        "HELCORR  PERFORM\n",
        "HELCORR  COMPLETE\n",
        "2012317162517-I--------------- HELCORR complete: OBRC010I0 ---------------------\n",
        "\n",
        "PHOTTAB  oref$p822207no_pht.fits\n",
        "APERTAB  oref$n7p1032ao_apt.fits\n",
        "APERTAB  PEDIGREE=MODEL\n",
        "APERTAB  DESCRIP =Bohlin/Hartig TIM Models Nov. 1998\n",
        "PCTAB    oref$q541740oo_pct.fits\n",
        "TDSTAB   oref$t9a1003so_tds.fits\n"
       ]
      },
      {
       "output_type": "stream",
       "stream": "stdout",
       "text": [
        "FLUXCORR PERFORM\n",
        "CTECORR  PERFORM\n",
        "CCDTAB   oref$v6n13233o_ccd.fits\n",
        "CCDTAB   PEDIGREE=INFLIGHT 01/05/2009 01/05/2009\n",
        "CCDTAB   DESCRIP =Proposal 8057, by I. Dashevsky & P. Goudfrooij\n"
       ]
      },
      {
       "output_type": "stream",
       "stream": "stdout",
       "text": [
        "CTECORR  COMPLETE\n",
        "FLUXCORR COMPLETE\n",
        "2012317162517-I--------------- FLUXCORR complete: OBRC010I0 --------------------\n",
        "\n",
        "SGEOCORR OMIT\n"
       ]
      },
      {
       "output_type": "stream",
       "stream": "stdout",
       "text": [
        "\n",
        "         Row 1 written to disk.\n",
        "Order 1  End 16:25:17 EST\n"
       ]
      },
      {
       "output_type": "stream",
       "stream": "stdout",
       "text": [
        "\n",
        "Imset 1  End 16:25:17 EST\n"
       ]
      },
      {
       "output_type": "stream",
       "stream": "stdout",
       "text": [
        "\n",
        "Warning  Keyword `XTRACALG' is being added to header.\n",
        "End      12-Nov-2012 16:25:18 EST\n",
        "\n",
        "*** CALSTIS-6 complete ***\n",
        "2012317162518-I--------------- CALSTIS-6 completed: OBRC010I0 ------------------\n"
       ]
      },
      {
       "output_type": "stream",
       "stream": "stdout",
       "text": [
        "\n",
        "!/usr/stsci/stsci_iraf_x/stsdas/bin.macintel/cs6.e 'obrc010i0_flt.fits' '/user/bostroem/science/12465_otfr20121109/ccd/extracted_spectra_fits/R136-SE1_loc552_3936_x1d.fits' -t -v -cte -disp -hel -flux -c 552.185393148 -r 0 -o1 12.0 -o2 12.0 -bm -bo 3 -a unweighted  -st 14.0\n"
       ]
      },
      {
       "output_type": "stream",
       "stream": "stdout",
       "text": [
        "\n",
        "*** CALSTIS-6 -- Version 2.40 (23-May-2012) ***\n",
        "Begin    12-Nov-2012 16:25:18 EST\n"
       ]
      },
      {
       "output_type": "stream",
       "stream": "stdout",
       "text": [
        "2012317162518-I--------------- CALSTIS-6 started -------------------------------\n",
        "\n",
        "Input    obrc010i0_flt.fits\n",
        "Output   /user/bostroem/science/12465_otfr20121109/ccd/extracted_spectra_fits/R136-SE1_loc552_3936_x1d.fits\n",
        "Rootname obrc010i0\n",
        "OBSMODE  ACCUM\n",
        "APERTURE 52X0.2\n",
        "OPT_ELEM G430M\n",
        "DETECTOR CCD\n"
       ]
      },
      {
       "output_type": "stream",
       "stream": "stdout",
       "text": [
        "\n",
        "XTRACTAB oref$n7p1031qo_1dx.fits\n",
        "XTRACTAB PEDIGREE=INFLIGHT 18/05/97\n",
        "XTRACTAB DESCRIP =Analysis from prop. 7094\n",
        "SPTRCTAB oref$qa31608go_1dt.fits\n",
        "\n",
        "Imset 1  Begin 16:25:18 EST\n"
       ]
      },
      {
       "output_type": "stream",
       "stream": "stdout",
       "text": [
        "         Input read into memory.\n",
        "         Offset of 14 low-res pixels added in dispersion direction\n",
        "Order 1  Begin 16:25:18 EST\n",
        "X1DCORR  PERFORM\n"
       ]
      },
      {
       "output_type": "stream",
       "stream": "stdout",
       "text": [
        "         Cross correlation offset: 0 pixels\n",
        "BACKCORR OMIT\n"
       ]
      },
      {
       "output_type": "stream",
       "stream": "stdout",
       "text": [
        "X1DCORR  COMPLETE\n",
        "2012317162518-I--------------- X1DCORR complete: OBRC010I0 ---------------------\n",
        "         Spectrum extracted at y position = 552.185\n",
        "         Extraction box height = 7\n",
        "         Background box 1 height = 5 offset 12 from A2CENTER\n",
        "         Background box 2 height = 5 offset 12 from A2CENTER\n",
        "\n",
        "DISPCORR PERFORM\n",
        "DISPTAB  oref$l2j0137to_dsp.fits\n",
        "DISPTAB  PEDIGREE=INFLIGHT 27/02/1997 24/11/1999\n",
        "DISPTAB  DESCRIP =Lindler Postlaunch, May 2000\n",
        "APDESTAB oref$obm1723ro_apd.fits\n",
        "APDESTAB PEDIGREE=INFLIGHT 01/03/1997 01/03/1997\n",
        "APDESTAB DESCRIP =Microscope Meas./Hartig Post-launch Offsets\n",
        "INANGTAB oref$h5s11397o_iac.fits\n"
       ]
      },
      {
       "output_type": "stream",
       "stream": "stdout",
       "text": [
        "         Delta = 0.074666 arcsec.\n",
        "DISPCORR COMPLETE\n",
        "2012317162518-I--------------- DISPCORR complete: OBRC010I0 --------------------\n",
        "\n",
        "HELCORR  PERFORM\n",
        "HELCORR  COMPLETE\n",
        "2012317162518-I--------------- HELCORR complete: OBRC010I0 ---------------------\n",
        "\n",
        "PHOTTAB  oref$p822207no_pht.fits\n",
        "APERTAB  oref$n7p1032ao_apt.fits\n",
        "APERTAB  PEDIGREE=MODEL\n",
        "APERTAB  DESCRIP =Bohlin/Hartig TIM Models Nov. 1998\n",
        "PCTAB    oref$q541740oo_pct.fits\n",
        "TDSTAB   oref$t9a1003so_tds.fits\n"
       ]
      },
      {
       "output_type": "stream",
       "stream": "stdout",
       "text": [
        "FLUXCORR PERFORM\n",
        "CTECORR  PERFORM\n",
        "CCDTAB   oref$v6n13233o_ccd.fits\n",
        "CCDTAB   PEDIGREE=INFLIGHT 01/05/2009 01/05/2009\n",
        "CCDTAB   DESCRIP =Proposal 8057, by I. Dashevsky & P. Goudfrooij\n"
       ]
      },
      {
       "output_type": "stream",
       "stream": "stdout",
       "text": [
        "CTECORR  COMPLETE\n",
        "FLUXCORR COMPLETE\n",
        "2012317162518-I--------------- FLUXCORR complete: OBRC010I0 --------------------\n",
        "\n",
        "SGEOCORR OMIT\n"
       ]
      },
      {
       "output_type": "stream",
       "stream": "stdout",
       "text": [
        "\n",
        "         Row 1 written to disk.\n",
        "Order 1  End 16:25:18 EST\n"
       ]
      },
      {
       "output_type": "stream",
       "stream": "stdout",
       "text": [
        "\n",
        "Imset 1  End 16:25:18 EST\n"
       ]
      },
      {
       "output_type": "stream",
       "stream": "stdout",
       "text": [
        "\n",
        "Warning  Keyword `XTRACALG' is being added to header.\n",
        "End      12-Nov-2012 16:25:18 EST\n",
        "\n",
        "*** CALSTIS-6 complete ***\n",
        "2012317162518-I--------------- CALSTIS-6 completed: OBRC010I0 ------------------\n"
       ]
      },
      {
       "output_type": "stream",
       "stream": "stdout",
       "text": [
        "\n",
        "yloc = 592.538500"
       ]
      },
      {
       "output_type": "stream",
       "stream": "stdout",
       "text": [
        "\n",
        "!/usr/stsci/stsci_iraf_x/stsdas/bin.macintel/cs6.e 'obrc010i0_flt.fits' '/user/bostroem/science/12465_otfr20121109/ccd/R136-SE1_loc592_3936_x1d.fits' -t -v -cte -disp -hel -flux -c 592.538499686 -r 4 -o1 12.0 -o2 12.0 -bm -bo 3 -a unweighted  -st 14.0\n"
       ]
      },
      {
       "output_type": "stream",
       "stream": "stdout",
       "text": [
        "\n",
        "*** CALSTIS-6 -- Version 2.40 (23-May-2012) ***\n",
        "Begin    12-Nov-2012 16:25:18 EST\n"
       ]
      },
      {
       "output_type": "stream",
       "stream": "stdout",
       "text": [
        "2012317162518-I--------------- CALSTIS-6 started -------------------------------\n",
        "\n",
        "Input    obrc010i0_flt.fits\n",
        "Output   /user/bostroem/science/12465_otfr20121109/ccd/R136-SE1_loc592_3936_x1d.fits\n",
        "Rootname obrc010i0\n",
        "OBSMODE  ACCUM\n",
        "APERTURE 52X0.2\n",
        "OPT_ELEM G430M\n",
        "DETECTOR CCD\n"
       ]
      },
      {
       "output_type": "stream",
       "stream": "stdout",
       "text": [
        "\n",
        "XTRACTAB oref$n7p1031qo_1dx.fits\n",
        "XTRACTAB PEDIGREE=INFLIGHT 18/05/97\n",
        "XTRACTAB DESCRIP =Analysis from prop. 7094\n",
        "SPTRCTAB oref$qa31608go_1dt.fits\n",
        "\n",
        "Imset 1  Begin 16:25:18 EST\n"
       ]
      },
      {
       "output_type": "stream",
       "stream": "stdout",
       "text": [
        "         Input read into memory.\n",
        "         Offset of 14 low-res pixels added in dispersion direction\n",
        "Order 1  Begin 16:25:19 EST\n",
        "X1DCORR  PERFORM\n"
       ]
      },
      {
       "output_type": "stream",
       "stream": "stdout",
       "text": [
        "         Cross correlation offset: 0.116768 pixels\n",
        "BACKCORR OMIT\n"
       ]
      },
      {
       "output_type": "stream",
       "stream": "stdout",
       "text": [
        "X1DCORR  COMPLETE\n",
        "2012317162519-I--------------- X1DCORR complete: OBRC010I0 ---------------------\n",
        "         Spectrum extracted at y position = 592.655\n",
        "         Extraction box height = 7\n",
        "         Background box 1 height = 5 offset 12 from A2CENTER\n",
        "         Background box 2 height = 5 offset 12 from A2CENTER\n",
        "\n",
        "DISPCORR PERFORM\n",
        "DISPTAB  oref$l2j0137to_dsp.fits\n",
        "DISPTAB  PEDIGREE=INFLIGHT 27/02/1997 24/11/1999\n",
        "DISPTAB  DESCRIP =Lindler Postlaunch, May 2000\n",
        "APDESTAB oref$obm1723ro_apd.fits\n",
        "APDESTAB PEDIGREE=INFLIGHT 01/03/1997 01/03/1997\n",
        "APDESTAB DESCRIP =Microscope Meas./Hartig Post-launch Offsets\n",
        "INANGTAB oref$h5s11397o_iac.fits\n"
       ]
      },
      {
       "output_type": "stream",
       "stream": "stdout",
       "text": [
        "         Delta = 0.074666 arcsec.\n",
        "DISPCORR COMPLETE\n",
        "2012317162519-I--------------- DISPCORR complete: OBRC010I0 --------------------\n",
        "\n",
        "HELCORR  PERFORM\n",
        "HELCORR  COMPLETE\n",
        "2012317162519-I--------------- HELCORR complete: OBRC010I0 ---------------------\n",
        "\n",
        "PHOTTAB  oref$p822207no_pht.fits\n",
        "APERTAB  oref$n7p1032ao_apt.fits\n",
        "APERTAB  PEDIGREE=MODEL\n",
        "APERTAB  DESCRIP =Bohlin/Hartig TIM Models Nov. 1998\n",
        "PCTAB    oref$q541740oo_pct.fits\n",
        "TDSTAB   oref$t9a1003so_tds.fits\n"
       ]
      },
      {
       "output_type": "stream",
       "stream": "stdout",
       "text": [
        "FLUXCORR PERFORM\n",
        "CTECORR  PERFORM\n",
        "CCDTAB   oref$v6n13233o_ccd.fits\n",
        "CCDTAB   PEDIGREE=INFLIGHT 01/05/2009 01/05/2009\n",
        "CCDTAB   DESCRIP =Proposal 8057, by I. Dashevsky & P. Goudfrooij\n"
       ]
      },
      {
       "output_type": "stream",
       "stream": "stdout",
       "text": [
        "CTECORR  COMPLETE\n",
        "FLUXCORR COMPLETE\n",
        "2012317162519-I--------------- FLUXCORR complete: OBRC010I0 --------------------\n",
        "\n",
        "SGEOCORR OMIT\n"
       ]
      },
      {
       "output_type": "stream",
       "stream": "stdout",
       "text": [
        "\n",
        "         Row 1 written to disk.\n",
        "Order 1  End 16:25:19 EST\n"
       ]
      },
      {
       "output_type": "stream",
       "stream": "stdout",
       "text": [
        "\n",
        "Imset 1  End 16:25:19 EST\n"
       ]
      },
      {
       "output_type": "stream",
       "stream": "stdout",
       "text": [
        "\n",
        "Warning  Keyword `XTRACALG' is being added to header.\n",
        "End      12-Nov-2012 16:25:19 EST\n",
        "\n",
        "*** CALSTIS-6 complete ***\n",
        "2012317162519-I--------------- CALSTIS-6 completed: OBRC010I0 ------------------\n"
       ]
      },
      {
       "output_type": "stream",
       "stream": "stdout",
       "text": [
        "\n",
        "!/usr/stsci/stsci_iraf_x/stsdas/bin.macintel/cs6.e 'obrc010i0_flt.fits' '/user/bostroem/science/12465_otfr20121109/ccd/extracted_spectra_fits/R136-SE1_loc592_3936_x1d.fits' -t -v -cte -disp -hel -flux -c 592.538499686 -r 0 -o1 12.0 -o2 12.0 -bm -bo 3 -a unweighted  -st 14.0\n"
       ]
      },
      {
       "output_type": "stream",
       "stream": "stdout",
       "text": [
        "\n",
        "*** CALSTIS-6 -- Version 2.40 (23-May-2012) ***\n",
        "Begin    12-Nov-2012 16:25:19 EST\n"
       ]
      },
      {
       "output_type": "stream",
       "stream": "stdout",
       "text": [
        "2012317162519-I--------------- CALSTIS-6 started -------------------------------\n",
        "\n",
        "Input    obrc010i0_flt.fits\n",
        "Output   /user/bostroem/science/12465_otfr20121109/ccd/extracted_spectra_fits/R136-SE1_loc592_3936_x1d.fits\n",
        "Rootname obrc010i0\n",
        "OBSMODE  ACCUM\n",
        "APERTURE 52X0.2\n",
        "OPT_ELEM G430M\n",
        "DETECTOR CCD\n"
       ]
      },
      {
       "output_type": "stream",
       "stream": "stdout",
       "text": [
        "\n",
        "XTRACTAB oref$n7p1031qo_1dx.fits\n",
        "XTRACTAB PEDIGREE=INFLIGHT 18/05/97\n",
        "XTRACTAB DESCRIP =Analysis from prop. 7094\n",
        "SPTRCTAB oref$qa31608go_1dt.fits\n",
        "\n",
        "Imset 1  Begin 16:25:19 EST\n"
       ]
      },
      {
       "output_type": "stream",
       "stream": "stdout",
       "text": [
        "         Input read into memory.\n",
        "         Offset of 14 low-res pixels added in dispersion direction\n",
        "Order 1  Begin 16:25:19 EST\n",
        "X1DCORR  PERFORM\n"
       ]
      },
      {
       "output_type": "stream",
       "stream": "stdout",
       "text": [
        "         Cross correlation offset: 0 pixels\n",
        "BACKCORR OMIT\n"
       ]
      },
      {
       "output_type": "stream",
       "stream": "stdout",
       "text": [
        "X1DCORR  COMPLETE\n",
        "2012317162519-I--------------- X1DCORR complete: OBRC010I0 ---------------------\n",
        "         Spectrum extracted at y position = 592.538\n",
        "         Extraction box height = 7\n",
        "         Background box 1 height = 5 offset 12 from A2CENTER\n",
        "         Background box 2 height = 5 offset 12 from A2CENTER\n",
        "\n",
        "DISPCORR PERFORM\n",
        "DISPTAB  oref$l2j0137to_dsp.fits\n",
        "DISPTAB  PEDIGREE=INFLIGHT 27/02/1997 24/11/1999\n",
        "DISPTAB  DESCRIP =Lindler Postlaunch, May 2000\n",
        "APDESTAB oref$obm1723ro_apd.fits\n",
        "APDESTAB PEDIGREE=INFLIGHT 01/03/1997 01/03/1997\n",
        "APDESTAB DESCRIP =Microscope Meas./Hartig Post-launch Offsets\n",
        "INANGTAB oref$h5s11397o_iac.fits\n"
       ]
      },
      {
       "output_type": "stream",
       "stream": "stdout",
       "text": [
        "         Delta = 0.074666 arcsec.\n",
        "DISPCORR COMPLETE\n",
        "2012317162519-I--------------- DISPCORR complete: OBRC010I0 --------------------\n",
        "\n",
        "HELCORR  PERFORM\n",
        "HELCORR  COMPLETE\n",
        "2012317162519-I--------------- HELCORR complete: OBRC010I0 ---------------------\n",
        "\n",
        "PHOTTAB  oref$p822207no_pht.fits\n",
        "APERTAB  oref$n7p1032ao_apt.fits\n",
        "APERTAB  PEDIGREE=MODEL\n",
        "APERTAB  DESCRIP =Bohlin/Hartig TIM Models Nov. 1998\n",
        "PCTAB    oref$q541740oo_pct.fits\n",
        "TDSTAB   oref$t9a1003so_tds.fits\n"
       ]
      },
      {
       "output_type": "stream",
       "stream": "stdout",
       "text": [
        "FLUXCORR PERFORM\n",
        "CTECORR  PERFORM\n",
        "CCDTAB   oref$v6n13233o_ccd.fits\n",
        "CCDTAB   PEDIGREE=INFLIGHT 01/05/2009 01/05/2009\n",
        "CCDTAB   DESCRIP =Proposal 8057, by I. Dashevsky & P. Goudfrooij\n"
       ]
      },
      {
       "output_type": "stream",
       "stream": "stdout",
       "text": [
        "CTECORR  COMPLETE\n",
        "FLUXCORR COMPLETE\n",
        "2012317162519-I--------------- FLUXCORR complete: OBRC010I0 --------------------\n",
        "\n",
        "SGEOCORR OMIT\n"
       ]
      },
      {
       "output_type": "stream",
       "stream": "stdout",
       "text": [
        "\n",
        "         Row 1 written to disk.\n",
        "Order 1  End 16:25:19 EST\n"
       ]
      },
      {
       "output_type": "stream",
       "stream": "stdout",
       "text": [
        "\n",
        "Imset 1  End 16:25:19 EST\n"
       ]
      },
      {
       "output_type": "stream",
       "stream": "stdout",
       "text": [
        "\n",
        "Warning  Keyword `XTRACALG' is being added to header.\n",
        "End      12-Nov-2012 16:25:19 EST\n",
        "\n",
        "*** CALSTIS-6 complete ***\n",
        "2012317162519-I--------------- CALSTIS-6 completed: OBRC010I0 ------------------\n"
       ]
      },
      {
       "output_type": "stream",
       "stream": "stdout",
       "text": [
        "\n",
        "yloc = 1018.539106"
       ]
      },
      {
       "output_type": "stream",
       "stream": "stdout",
       "text": [
        "\n",
        "!/usr/stsci/stsci_iraf_x/stsdas/bin.macintel/cs6.e 'obrc010i0_flt.fits' '/user/bostroem/science/12465_otfr20121109/ccd/R136-SE1_loc1018_3936_x1d.fits' -t -v -cte -disp -hel -flux -c 1018.5391063 -r 4 -o1 12.0 -o2 12.0 -bm -bo 3 -a unweighted  -st 14.0\n"
       ]
      },
      {
       "output_type": "stream",
       "stream": "stdout",
       "text": [
        "\n",
        "*** CALSTIS-6 -- Version 2.40 (23-May-2012) ***\n",
        "Begin    12-Nov-2012 16:25:20 EST\n"
       ]
      },
      {
       "output_type": "stream",
       "stream": "stdout",
       "text": [
        "2012317162520-I--------------- CALSTIS-6 started -------------------------------\n",
        "\n",
        "Input    obrc010i0_flt.fits\n",
        "Output   /user/bostroem/science/12465_otfr20121109/ccd/R136-SE1_loc1018_3936_x1d.fits\n",
        "Rootname obrc010i0\n",
        "OBSMODE  ACCUM\n",
        "APERTURE 52X0.2\n",
        "OPT_ELEM G430M\n",
        "DETECTOR CCD\n"
       ]
      },
      {
       "output_type": "stream",
       "stream": "stdout",
       "text": [
        "\n",
        "XTRACTAB oref$n7p1031qo_1dx.fits\n",
        "XTRACTAB PEDIGREE=INFLIGHT 18/05/97\n",
        "XTRACTAB DESCRIP =Analysis from prop. 7094\n",
        "SPTRCTAB oref$qa31608go_1dt.fits\n",
        "\n",
        "Imset 1  Begin 16:25:20 EST\n"
       ]
      },
      {
       "output_type": "stream",
       "stream": "stdout",
       "text": [
        "         Input read into memory.\n",
        "         Offset of 14 low-res pixels added in dispersion direction\n",
        "Order 1  Begin 16:25:20 EST\n",
        "X1DCORR  PERFORM\n"
       ]
      },
      {
       "output_type": "stream",
       "stream": "stdout",
       "text": [
        "Warning  Cross correlation to locate spectrum failed.\n",
        "ERROR    Cannot extract.\n",
        "Warning  No rows were written; no table created.\n",
        "Imset 1  End 16:25:20 EST\n",
        "\n",
        "End      12-Nov-2012 16:25:20 EST\n",
        "\n",
        "*** CALSTIS-6 complete ***\n",
        "2012317162520-I--------------- CALSTIS-6 completed: OBRC010I0 ------------------\n"
       ]
      },
      {
       "output_type": "stream",
       "stream": "stdout",
       "text": [
        "\n",
        "!/usr/stsci/stsci_iraf_x/stsdas/bin.macintel/cs6.e 'obrc010i0_flt.fits' '/user/bostroem/science/12465_otfr20121109/ccd/extracted_spectra_fits/R136-SE1_loc1018_3936_x1d.fits' -t -v -cte -disp -hel -flux -c 1018.5391063 -r 0 -o1 12.0 -o2 12.0 -bm -bo 3 -a unweighted  -st 14.0\n"
       ]
      },
      {
       "output_type": "stream",
       "stream": "stdout",
       "text": [
        "\n",
        "*** CALSTIS-6 -- Version 2.40 (23-May-2012) ***\n",
        "Begin    12-Nov-2012 16:25:20 EST\n"
       ]
      },
      {
       "output_type": "stream",
       "stream": "stdout",
       "text": [
        "2012317162520-I--------------- CALSTIS-6 started -------------------------------\n",
        "\n",
        "Input    obrc010i0_flt.fits\n",
        "Output   /user/bostroem/science/12465_otfr20121109/ccd/extracted_spectra_fits/R136-SE1_loc1018_3936_x1d.fits\n",
        "Rootname obrc010i0\n",
        "OBSMODE  ACCUM\n",
        "APERTURE 52X0.2\n",
        "OPT_ELEM G430M\n",
        "DETECTOR CCD\n"
       ]
      },
      {
       "output_type": "stream",
       "stream": "stdout",
       "text": [
        "\n",
        "XTRACTAB oref$n7p1031qo_1dx.fits\n",
        "XTRACTAB PEDIGREE=INFLIGHT 18/05/97\n",
        "XTRACTAB DESCRIP =Analysis from prop. 7094\n",
        "SPTRCTAB oref$qa31608go_1dt.fits\n",
        "\n",
        "Imset 1  Begin 16:25:20 EST\n"
       ]
      },
      {
       "output_type": "stream",
       "stream": "stdout",
       "text": [
        "         Input read into memory.\n",
        "         Offset of 14 low-res pixels added in dispersion direction\n",
        "Order 1  Begin 16:25:20 EST\n",
        "X1DCORR  PERFORM\n"
       ]
      },
      {
       "output_type": "stream",
       "stream": "stdout",
       "text": [
        "         Cross correlation offset: 0 pixels\n",
        "BACKCORR OMIT\n"
       ]
      },
      {
       "output_type": "stream",
       "stream": "stdout",
       "text": [
        "X1DCORR  COMPLETE\n",
        "2012317162520-I--------------- X1DCORR complete: OBRC010I0 ---------------------\n",
        "         Spectrum extracted at y position = 1018.54\n",
        "         Extraction box height = 7\n",
        "         Background box 1 height = 5 offset 12 from A2CENTER\n",
        "         Background box 2 height = 5 offset 12 from A2CENTER\n",
        "\n",
        "DISPCORR PERFORM\n",
        "DISPTAB  oref$l2j0137to_dsp.fits\n",
        "DISPTAB  PEDIGREE=INFLIGHT 27/02/1997 24/11/1999\n",
        "DISPTAB  DESCRIP =Lindler Postlaunch, May 2000\n",
        "APDESTAB oref$obm1723ro_apd.fits\n",
        "APDESTAB PEDIGREE=INFLIGHT 01/03/1997 01/03/1997\n",
        "APDESTAB DESCRIP =Microscope Meas./Hartig Post-launch Offsets\n",
        "INANGTAB oref$h5s11397o_iac.fits\n"
       ]
      },
      {
       "output_type": "stream",
       "stream": "stdout",
       "text": [
        "         Delta = 0.074666 arcsec.\n",
        "DISPCORR COMPLETE\n",
        "2012317162520-I--------------- DISPCORR complete: OBRC010I0 --------------------\n",
        "\n",
        "HELCORR  PERFORM\n",
        "HELCORR  COMPLETE\n",
        "2012317162520-I--------------- HELCORR complete: OBRC010I0 ---------------------\n",
        "\n",
        "PHOTTAB  oref$p822207no_pht.fits\n",
        "APERTAB  oref$n7p1032ao_apt.fits\n",
        "APERTAB  PEDIGREE=MODEL\n",
        "APERTAB  DESCRIP =Bohlin/Hartig TIM Models Nov. 1998\n",
        "PCTAB    oref$q541740oo_pct.fits\n",
        "TDSTAB   oref$t9a1003so_tds.fits\n"
       ]
      },
      {
       "output_type": "stream",
       "stream": "stdout",
       "text": [
        "FLUXCORR PERFORM\n",
        "CTECORR  PERFORM\n",
        "CCDTAB   oref$v6n13233o_ccd.fits\n",
        "CCDTAB   PEDIGREE=INFLIGHT 01/05/2009 01/05/2009\n",
        "CCDTAB   DESCRIP =Proposal 8057, by I. Dashevsky & P. Goudfrooij\n"
       ]
      },
      {
       "output_type": "stream",
       "stream": "stdout",
       "text": [
        "CTECORR  COMPLETE\n",
        "FLUXCORR COMPLETE\n",
        "2012317162520-I--------------- FLUXCORR complete: OBRC010I0 --------------------\n",
        "\n",
        "SGEOCORR OMIT\n"
       ]
      },
      {
       "output_type": "stream",
       "stream": "stdout",
       "text": [
        "\n",
        "         Row 1 written to disk.\n",
        "Order 1  End 16:25:20 EST\n"
       ]
      },
      {
       "output_type": "stream",
       "stream": "stdout",
       "text": [
        "\n",
        "Imset 1  End 16:25:20 EST\n"
       ]
      },
      {
       "output_type": "stream",
       "stream": "stdout",
       "text": [
        "\n",
        "Warning  Keyword `XTRACALG' is being added to header.\n",
        "End      12-Nov-2012 16:25:20 EST\n",
        "\n",
        "*** CALSTIS-6 complete ***\n",
        "2012317162520-I--------------- CALSTIS-6 completed: OBRC010I0 ------------------\n"
       ]
      },
      {
       "output_type": "stream",
       "stream": "stdout",
       "text": [
        "\n",
        "7\n",
        "$$$$$$$$$$$$$$$$$$$$$$$$plotting$$$$$$$$$$$$$$$$$$$$$$$"
       ]
      },
      {
       "output_type": "stream",
       "stream": "stdout",
       "text": [
        "\n",
        "$$$$$$$$$$$$$$$$$$$$$$$$plotting$$$$$$$$$$$$$$$$$$$$$$$"
       ]
      },
      {
       "output_type": "stream",
       "stream": "stdout",
       "text": [
        "\n",
        "$$$$$$$$$$$$$$$$$$$$$$$$plotting$$$$$$$$$$$$$$$$$$$$$$$"
       ]
      },
      {
       "output_type": "stream",
       "stream": "stdout",
       "text": [
        "\n",
        "$$$$$$$$$$$$$$$$$$$$$$$$plotting$$$$$$$$$$$$$$$$$$$$$$$"
       ]
      },
      {
       "output_type": "stream",
       "stream": "stdout",
       "text": [
        "\n",
        "$$$$$$$$$$$$$$$$$$$$$$$$plotting$$$$$$$$$$$$$$$$$$$$$$$"
       ]
      },
      {
       "output_type": "stream",
       "stream": "stdout",
       "text": [
        "\n",
        "$$$$$$$$$$$$$$$$$$$$$$$$plotting$$$$$$$$$$$$$$$$$$$$$$$"
       ]
      },
      {
       "output_type": "stream",
       "stream": "stdout",
       "text": [
        "\n",
        "$$$$$$$$$$$$$$$$$$$$$$$$plotting$$$$$$$$$$$$$$$$$$$$$$$"
       ]
      },
      {
       "output_type": "stream",
       "stream": "stdout",
       "text": [
        "\n",
        "['obrc07070_flt.fits', 'obrc07080_flt.fits']"
       ]
      },
      {
       "output_type": "stream",
       "stream": "stdout",
       "text": [
        " -69.1006\n",
        "Found offset of 7"
       ]
      },
      {
       "output_type": "stream",
       "stream": "stdout",
       "text": [
        "\n",
        "#############################R136-NW5######################"
       ]
      },
      {
       "output_type": "stream",
       "stream": "stderr",
       "text": [
        "Legend does not support [<matplotlib.lines.Line2D object at 0x108133310>]\n",
        "Use proxy artist instead.\n",
        "\n",
        "http://matplotlib.sourceforge.net/users/legend_guide.html#using-proxy-artist\n",
        "\n",
        "Legend does not support [<matplotlib.lines.Line2D object at 0x111f42350>]\n",
        "Use proxy artist instead.\n",
        "\n",
        "http://matplotlib.sourceforge.net/users/legend_guide.html#using-proxy-artist\n",
        "\n",
        "Legend does not support [<matplotlib.lines.Line2D object at 0x111f42890>]\n",
        "Use proxy artist instead.\n",
        "\n",
        "http://matplotlib.sourceforge.net/users/legend_guide.html#using-proxy-artist\n",
        "\n",
        "Legend does not support [<matplotlib.lines.Line2D object at 0x11212be10>]\n",
        "Use proxy artist instead.\n",
        "\n",
        "http://matplotlib.sourceforge.net/users/legend_guide.html#using-proxy-artist\n",
        "\n",
        "Overwriting existing file 'R136-NW5_3936_combined_img.fits'.\n"
       ]
      },
      {
       "output_type": "stream",
       "stream": "stdout",
       "text": [
        "\n",
        "[  3.39635173e+05  -9.58130471e+01  -1.68601787e+02  -2.73198870e+05\n",
        "   1.50522344e+03  -2.23637084e+00   1.02952218e-03]"
       ]
      },
      {
       "output_type": "stream",
       "stream": "stdout",
       "text": [
        "\n",
        "Less than 3 points between 0 - 1"
       ]
      },
      {
       "output_type": "stream",
       "stream": "stdout",
       "text": [
        "\n",
        "Less than 3 points between 4 - 5\n",
        "Less than 3 points between 11 - 13\n",
        "Less than 3 points between 19 - 20\n",
        "Less than 3 points between 50 - 52\n",
        "Less than 3 points between 87 - 88\n",
        "Less than 3 points between 92 - 93\n",
        "Less than 3 points between 105 - 108\n",
        "Less than 3 points between 128 - 129\n",
        "Less than 3 points between 186 - 189\n",
        "Less than 3 points between 197 - 200\n",
        "Less than 3 points between 203 - 204\n",
        "Less than 3 points between 221 - 223\n",
        "Less than 3 points between 226 - 227\n",
        "Less than 3 points between 240 - 241\n",
        "Less than 3 points between 248 - 249\n",
        "Less than 3 points between 260 - 261\n",
        "Less than 3 points between 288 - 289\n",
        "Less than 3 points between 292 - 293\n",
        "Less than 3 points between 294 - 295\n",
        "Less than 3 points between 300 - 301\n",
        "Less than 3 points between 335 - 337\n",
        "Less than 3 points between 456 - 457\n",
        "[  1.57763025e+05   5.10573484e+02   4.20559245e+00]\n",
        "[  3.96229369e+05   5.27451468e+02   4.29354564e+00]\n",
        "Less than 3 points between 542 - 544\n",
        "Less than 3 points between 641 - 642\n",
        "Less than 3 points between 711 - 712\n",
        "Less than 3 points between 713 - 714\n",
        "Less than 3 points between 720 - 721\n",
        "Less than 3 points between 747 - 748\n",
        "Less than 3 points between 793 - 794\n",
        "Less than 3 points between 799 - 800\n",
        "Less than 3 points between 822 - 823\n",
        "Less than 3 points between 846 - 847\n",
        "Less than 3 points between 849 - 850\n",
        "Less than 3 points between 853 - 854\n",
        "Less than 3 points between 860 - 862\n",
        "Less than 3 points between 871 - 874\n",
        "Less than 3 points between 877 - 878\n",
        "Less than 3 points between 895 - 896\n",
        "Less than 3 points between 902 - 903\n",
        "Less than 3 points between 906 - 907\n",
        "Less than 3 points between 908 - 909\n",
        "Less than 3 points between 923 - 926\n",
        "Less than 3 points between 934 - 935\n",
        "Less than 3 points between 937 - 939\n",
        "Less than 3 points between 954 - 955\n",
        "Less than 3 points between 963 - 964\n",
        "Less than 3 points between 970 - 971\n",
        "Less than 3 points between 996 - 997\n",
        "Less than 3 points between 1010 - 1011\n",
        "[510.57348445046875, 527.45146846797502]\n",
        "yloc = 510.573484"
       ]
      },
      {
       "output_type": "stream",
       "stream": "stdout",
       "text": [
        "\n",
        "!/usr/stsci/stsci_iraf_x/stsdas/bin.macintel/cs6.e 'obrc07070_flt.fits' '/user/bostroem/science/12465_otfr20121109/ccd/R136-NW5_loc510_3936_x1d.fits' -t -v -cte -disp -hel -flux -c 510.57348445 -r 4 -o1 12.0 -o2 12.0 -bm -bo 3 -a unweighted  -st 14.0\n"
       ]
      },
      {
       "output_type": "stream",
       "stream": "stdout",
       "text": [
        "\n",
        "*** CALSTIS-6 -- Version 2.40 (23-May-2012) ***\n",
        "Begin    12-Nov-2012 16:25:26 EST\n"
       ]
      },
      {
       "output_type": "stream",
       "stream": "stdout",
       "text": [
        "2012317162526-I--------------- CALSTIS-6 started -------------------------------\n",
        "\n",
        "Input    obrc07070_flt.fits\n",
        "Output   /user/bostroem/science/12465_otfr20121109/ccd/R136-NW5_loc510_3936_x1d.fits\n",
        "Rootname obrc07070\n",
        "OBSMODE  ACCUM\n",
        "APERTURE 52X0.2\n",
        "OPT_ELEM G430M\n",
        "DETECTOR CCD\n"
       ]
      },
      {
       "output_type": "stream",
       "stream": "stdout",
       "text": [
        "\n",
        "XTRACTAB oref$n7p1031qo_1dx.fits\n",
        "XTRACTAB PEDIGREE=INFLIGHT 18/05/97\n",
        "XTRACTAB DESCRIP =Analysis from prop. 7094\n",
        "SPTRCTAB oref$qa31608go_1dt.fits\n",
        "\n",
        "Imset 1  Begin 16:25:27 EST\n"
       ]
      },
      {
       "output_type": "stream",
       "stream": "stdout",
       "text": [
        "         Input read into memory.\n",
        "         Offset of 14 low-res pixels added in dispersion direction\n",
        "Order 1  Begin 16:25:27 EST\n",
        "X1DCORR  PERFORM\n"
       ]
      },
      {
       "output_type": "stream",
       "stream": "stdout",
       "text": [
        "Warning  Cross correlation to locate spectrum failed.\n",
        "ERROR    Cannot extract.\n",
        "Warning  No rows were written; no table created.\n",
        "Imset 1  End 16:25:27 EST\n",
        "\n",
        "End      12-Nov-2012 16:25:27 EST\n",
        "\n",
        "*** CALSTIS-6 complete ***\n",
        "2012317162527-I--------------- CALSTIS-6 completed: OBRC07070 ------------------\n"
       ]
      },
      {
       "output_type": "stream",
       "stream": "stdout",
       "text": [
        "\n",
        "!/usr/stsci/stsci_iraf_x/stsdas/bin.macintel/cs6.e 'obrc07070_flt.fits' '/user/bostroem/science/12465_otfr20121109/ccd/extracted_spectra_fits/R136-NW5_loc510_3936_x1d.fits' -t -v -cte -disp -hel -flux -c 510.57348445 -r 0 -o1 12.0 -o2 12.0 -bm -bo 3 -a unweighted  -st 14.0\n"
       ]
      },
      {
       "output_type": "stream",
       "stream": "stdout",
       "text": [
        "\n",
        "*** CALSTIS-6 -- Version 2.40 (23-May-2012) ***\n",
        "Begin    12-Nov-2012 16:25:27 EST\n"
       ]
      },
      {
       "output_type": "stream",
       "stream": "stdout",
       "text": [
        "2012317162527-I--------------- CALSTIS-6 started -------------------------------\n",
        "\n",
        "Input    obrc07070_flt.fits\n",
        "Output   /user/bostroem/science/12465_otfr20121109/ccd/extracted_spectra_fits/R136-NW5_loc510_3936_x1d.fits\n",
        "Rootname obrc07070\n",
        "OBSMODE  ACCUM\n",
        "APERTURE 52X0.2\n",
        "OPT_ELEM G430M\n",
        "DETECTOR CCD\n"
       ]
      },
      {
       "output_type": "stream",
       "stream": "stdout",
       "text": [
        "\n",
        "XTRACTAB oref$n7p1031qo_1dx.fits\n",
        "XTRACTAB PEDIGREE=INFLIGHT 18/05/97\n",
        "XTRACTAB DESCRIP =Analysis from prop. 7094\n",
        "SPTRCTAB oref$qa31608go_1dt.fits\n",
        "\n",
        "Imset 1  Begin 16:25:27 EST\n"
       ]
      },
      {
       "output_type": "stream",
       "stream": "stdout",
       "text": [
        "         Input read into memory.\n",
        "         Offset of 14 low-res pixels added in dispersion direction\n",
        "Order 1  Begin 16:25:27 EST\n",
        "X1DCORR  PERFORM\n"
       ]
      },
      {
       "output_type": "stream",
       "stream": "stdout",
       "text": [
        "         Cross correlation offset: 0 pixels\n",
        "BACKCORR OMIT\n"
       ]
      },
      {
       "output_type": "stream",
       "stream": "stdout",
       "text": [
        "X1DCORR  COMPLETE\n",
        "2012317162527-I--------------- X1DCORR complete: OBRC07070 ---------------------\n",
        "         Spectrum extracted at y position = 510.573\n",
        "         Extraction box height = 7\n",
        "         Background box 1 height = 5 offset 12 from A2CENTER\n",
        "         Background box 2 height = 5 offset 12 from A2CENTER\n",
        "\n",
        "DISPCORR PERFORM\n",
        "DISPTAB  oref$l2j0137to_dsp.fits\n",
        "DISPTAB  PEDIGREE=INFLIGHT 27/02/1997 24/11/1999\n",
        "DISPTAB  DESCRIP =Lindler Postlaunch, May 2000\n",
        "APDESTAB oref$obm1723ro_apd.fits\n",
        "APDESTAB PEDIGREE=INFLIGHT 01/03/1997 01/03/1997\n",
        "APDESTAB DESCRIP =Microscope Meas./Hartig Post-launch Offsets\n",
        "INANGTAB oref$h5s11397o_iac.fits\n"
       ]
      },
      {
       "output_type": "stream",
       "stream": "stdout",
       "text": [
        "         Delta = 0.074666 arcsec.\n",
        "DISPCORR COMPLETE\n",
        "2012317162527-I--------------- DISPCORR complete: OBRC07070 --------------------\n",
        "\n",
        "HELCORR  PERFORM\n",
        "HELCORR  COMPLETE\n",
        "2012317162527-I--------------- HELCORR complete: OBRC07070 ---------------------\n",
        "\n",
        "PHOTTAB  oref$p822207no_pht.fits\n",
        "APERTAB  oref$n7p1032ao_apt.fits\n",
        "APERTAB  PEDIGREE=MODEL\n",
        "APERTAB  DESCRIP =Bohlin/Hartig TIM Models Nov. 1998\n",
        "PCTAB    oref$q541740oo_pct.fits\n",
        "TDSTAB   oref$t9a1003so_tds.fits\n"
       ]
      },
      {
       "output_type": "stream",
       "stream": "stdout",
       "text": [
        "FLUXCORR PERFORM\n",
        "CTECORR  PERFORM\n",
        "CCDTAB   oref$v6n13233o_ccd.fits\n",
        "CCDTAB   PEDIGREE=INFLIGHT 01/05/2009 01/05/2009\n",
        "CCDTAB   DESCRIP =Proposal 8057, by I. Dashevsky & P. Goudfrooij\n"
       ]
      },
      {
       "output_type": "stream",
       "stream": "stdout",
       "text": [
        "CTECORR  COMPLETE\n",
        "FLUXCORR COMPLETE\n",
        "2012317162527-I--------------- FLUXCORR complete: OBRC07070 --------------------\n",
        "\n",
        "SGEOCORR OMIT\n"
       ]
      },
      {
       "output_type": "stream",
       "stream": "stdout",
       "text": [
        "\n",
        "         Row 1 written to disk.\n",
        "Order 1  End 16:25:27 EST\n"
       ]
      },
      {
       "output_type": "stream",
       "stream": "stdout",
       "text": [
        "\n",
        "Imset 1  End 16:25:27 EST\n"
       ]
      },
      {
       "output_type": "stream",
       "stream": "stdout",
       "text": [
        "\n",
        "Warning  Keyword `XTRACALG' is being added to header.\n",
        "End      12-Nov-2012 16:25:27 EST\n",
        "\n",
        "*** CALSTIS-6 complete ***\n",
        "2012317162527-I--------------- CALSTIS-6 completed: OBRC07070 ------------------\n"
       ]
      },
      {
       "output_type": "stream",
       "stream": "stdout",
       "text": [
        "\n",
        "yloc = 527.451468"
       ]
      },
      {
       "output_type": "stream",
       "stream": "stdout",
       "text": [
        "\n",
        "!/usr/stsci/stsci_iraf_x/stsdas/bin.macintel/cs6.e 'obrc07070_flt.fits' '/user/bostroem/science/12465_otfr20121109/ccd/R136-NW5_loc527_3936_x1d.fits' -t -v -cte -disp -hel -flux -c 527.451468468 -r 4 -o1 12.0 -o2 12.0 -bm -bo 3 -a unweighted  -st 14.0\n"
       ]
      },
      {
       "output_type": "stream",
       "stream": "stdout",
       "text": [
        "\n",
        "*** CALSTIS-6 -- Version 2.40 (23-May-2012) ***\n",
        "Begin    12-Nov-2012 16:25:28 EST\n"
       ]
      },
      {
       "output_type": "stream",
       "stream": "stdout",
       "text": [
        "2012317162528-I--------------- CALSTIS-6 started -------------------------------\n",
        "\n",
        "Input    obrc07070_flt.fits\n",
        "Output   /user/bostroem/science/12465_otfr20121109/ccd/R136-NW5_loc527_3936_x1d.fits\n",
        "Rootname obrc07070\n",
        "OBSMODE  ACCUM\n",
        "APERTURE 52X0.2\n",
        "OPT_ELEM G430M\n",
        "DETECTOR CCD\n"
       ]
      },
      {
       "output_type": "stream",
       "stream": "stdout",
       "text": [
        "\n",
        "XTRACTAB oref$n7p1031qo_1dx.fits\n",
        "XTRACTAB PEDIGREE=INFLIGHT 18/05/97\n",
        "XTRACTAB DESCRIP =Analysis from prop. 7094\n",
        "SPTRCTAB oref$qa31608go_1dt.fits\n",
        "\n",
        "Imset 1  Begin 16:25:28 EST\n"
       ]
      },
      {
       "output_type": "stream",
       "stream": "stdout",
       "text": [
        "         Input read into memory.\n",
        "         Offset of 14 low-res pixels added in dispersion direction\n",
        "Order 1  Begin 16:25:28 EST\n",
        "X1DCORR  PERFORM\n"
       ]
      },
      {
       "output_type": "stream",
       "stream": "stdout",
       "text": [
        "Warning  Cross correlation to locate spectrum failed.\n",
        "ERROR    Cannot extract.\n",
        "Warning  No rows were written; no table created.\n",
        "Imset 1  End 16:25:28 EST\n",
        "\n",
        "End      12-Nov-2012 16:25:28 EST\n",
        "\n",
        "*** CALSTIS-6 complete ***\n",
        "2012317162528-I--------------- CALSTIS-6 completed: OBRC07070 ------------------\n"
       ]
      },
      {
       "output_type": "stream",
       "stream": "stdout",
       "text": [
        "\n",
        "!/usr/stsci/stsci_iraf_x/stsdas/bin.macintel/cs6.e 'obrc07070_flt.fits' '/user/bostroem/science/12465_otfr20121109/ccd/extracted_spectra_fits/R136-NW5_loc527_3936_x1d.fits' -t -v -cte -disp -hel -flux -c 527.451468468 -r 0 -o1 12.0 -o2 12.0 -bm -bo 3 -a unweighted  -st 14.0\n"
       ]
      },
      {
       "output_type": "stream",
       "stream": "stdout",
       "text": [
        "\n",
        "*** CALSTIS-6 -- Version 2.40 (23-May-2012) ***\n",
        "Begin    12-Nov-2012 16:25:28 EST\n"
       ]
      },
      {
       "output_type": "stream",
       "stream": "stdout",
       "text": [
        "2012317162528-I--------------- CALSTIS-6 started -------------------------------\n",
        "\n",
        "Input    obrc07070_flt.fits\n",
        "Output   /user/bostroem/science/12465_otfr20121109/ccd/extracted_spectra_fits/R136-NW5_loc527_3936_x1d.fits\n",
        "Rootname obrc07070\n",
        "OBSMODE  ACCUM\n",
        "APERTURE 52X0.2\n",
        "OPT_ELEM G430M\n",
        "DETECTOR CCD\n"
       ]
      },
      {
       "output_type": "stream",
       "stream": "stdout",
       "text": [
        "\n",
        "XTRACTAB oref$n7p1031qo_1dx.fits\n",
        "XTRACTAB PEDIGREE=INFLIGHT 18/05/97\n",
        "XTRACTAB DESCRIP =Analysis from prop. 7094\n",
        "SPTRCTAB oref$qa31608go_1dt.fits\n",
        "\n",
        "Imset 1  Begin 16:25:28 EST\n"
       ]
      },
      {
       "output_type": "stream",
       "stream": "stdout",
       "text": [
        "         Input read into memory.\n",
        "         Offset of 14 low-res pixels added in dispersion direction\n",
        "Order 1  Begin 16:25:28 EST\n",
        "X1DCORR  PERFORM\n"
       ]
      },
      {
       "output_type": "stream",
       "stream": "stdout",
       "text": [
        "         Cross correlation offset: 0 pixels\n",
        "BACKCORR OMIT\n"
       ]
      },
      {
       "output_type": "stream",
       "stream": "stdout",
       "text": [
        "X1DCORR  COMPLETE\n",
        "2012317162528-I--------------- X1DCORR complete: OBRC07070 ---------------------\n",
        "         Spectrum extracted at y position = 527.451\n",
        "         Extraction box height = 7\n",
        "         Background box 1 height = 5 offset 12 from A2CENTER\n",
        "         Background box 2 height = 5 offset 12 from A2CENTER\n",
        "\n",
        "DISPCORR PERFORM\n",
        "DISPTAB  oref$l2j0137to_dsp.fits\n",
        "DISPTAB  PEDIGREE=INFLIGHT 27/02/1997 24/11/1999\n",
        "DISPTAB  DESCRIP =Lindler Postlaunch, May 2000\n",
        "APDESTAB oref$obm1723ro_apd.fits\n",
        "APDESTAB PEDIGREE=INFLIGHT 01/03/1997 01/03/1997\n",
        "APDESTAB DESCRIP =Microscope Meas./Hartig Post-launch Offsets\n",
        "INANGTAB oref$h5s11397o_iac.fits\n"
       ]
      },
      {
       "output_type": "stream",
       "stream": "stdout",
       "text": [
        "         Delta = 0.074666 arcsec.\n",
        "DISPCORR COMPLETE\n",
        "2012317162528-I--------------- DISPCORR complete: OBRC07070 --------------------\n",
        "\n",
        "HELCORR  PERFORM\n",
        "HELCORR  COMPLETE\n",
        "2012317162528-I--------------- HELCORR complete: OBRC07070 ---------------------\n",
        "\n",
        "PHOTTAB  oref$p822207no_pht.fits\n",
        "APERTAB  oref$n7p1032ao_apt.fits\n",
        "APERTAB  PEDIGREE=MODEL\n",
        "APERTAB  DESCRIP =Bohlin/Hartig TIM Models Nov. 1998\n",
        "PCTAB    oref$q541740oo_pct.fits\n",
        "TDSTAB   oref$t9a1003so_tds.fits\n"
       ]
      },
      {
       "output_type": "stream",
       "stream": "stdout",
       "text": [
        "FLUXCORR PERFORM\n",
        "CTECORR  PERFORM\n",
        "CCDTAB   oref$v6n13233o_ccd.fits\n",
        "CCDTAB   PEDIGREE=INFLIGHT 01/05/2009 01/05/2009\n",
        "CCDTAB   DESCRIP =Proposal 8057, by I. Dashevsky & P. Goudfrooij\n"
       ]
      },
      {
       "output_type": "stream",
       "stream": "stdout",
       "text": [
        "CTECORR  COMPLETE\n",
        "FLUXCORR COMPLETE\n",
        "2012317162528-I--------------- FLUXCORR complete: OBRC07070 --------------------\n",
        "\n",
        "SGEOCORR OMIT\n"
       ]
      },
      {
       "output_type": "stream",
       "stream": "stdout",
       "text": [
        "\n",
        "         Row 1 written to disk.\n",
        "Order 1  End 16:25:28 EST\n"
       ]
      },
      {
       "output_type": "stream",
       "stream": "stdout",
       "text": [
        "\n",
        "Imset 1  End 16:25:28 EST\n"
       ]
      },
      {
       "output_type": "stream",
       "stream": "stdout",
       "text": [
        "\n",
        "Warning  Keyword `XTRACALG' is being added to header.\n",
        "End      12-Nov-2012 16:25:28 EST\n",
        "\n",
        "*** CALSTIS-6 complete ***\n",
        "2012317162528-I--------------- CALSTIS-6 completed: OBRC07070 ------------------\n"
       ]
      },
      {
       "output_type": "stream",
       "stream": "stdout",
       "text": [
        "\n",
        "2\n",
        "$$$$$$$$$$$$$$$$$$$$$$$$plotting$$$$$$$$$$$$$$$$$$$$$$$"
       ]
      },
      {
       "output_type": "stream",
       "stream": "stdout",
       "text": [
        "\n",
        "$$$$$$$$$$$$$$$$$$$$$$$$plotting$$$$$$$$$$$$$$$$$$$$$$$"
       ]
      },
      {
       "output_type": "stream",
       "stream": "stdout",
       "text": [
        "\n",
        "['obrc010a0_flt.fits', 'obrc01090_flt.fits']"
       ]
      },
      {
       "output_type": "stream",
       "stream": "stdout",
       "text": [
        " -69.10105\n",
        "Found offset of -7"
       ]
      },
      {
       "output_type": "stream",
       "stream": "stdout",
       "text": [
        "\n",
        "#############################R136-SE5######################"
       ]
      },
      {
       "output_type": "stream",
       "stream": "stderr",
       "text": [
        "Legend does not support [<matplotlib.lines.Line2D object at 0x1122e6fd0>]\n",
        "Use proxy artist instead.\n",
        "\n",
        "http://matplotlib.sourceforge.net/users/legend_guide.html#using-proxy-artist\n",
        "\n",
        "Legend does not support [<matplotlib.lines.Line2D object at 0x111695610>]\n",
        "Use proxy artist instead.\n",
        "\n",
        "http://matplotlib.sourceforge.net/users/legend_guide.html#using-proxy-artist\n",
        "\n",
        "Legend does not support [<matplotlib.lines.Line2D object at 0x111695810>]\n",
        "Use proxy artist instead.\n",
        "\n",
        "http://matplotlib.sourceforge.net/users/legend_guide.html#using-proxy-artist\n",
        "\n",
        "Legend does not support [<matplotlib.lines.Line2D object at 0x1116abc90>]\n",
        "Use proxy artist instead.\n",
        "\n",
        "http://matplotlib.sourceforge.net/users/legend_guide.html#using-proxy-artist\n",
        "\n",
        "Overwriting existing file 'R136-SE5_3936_combined_img.fits'.\n"
       ]
      },
      {
       "output_type": "stream",
       "stream": "stdout",
       "text": [
        "\n",
        "[  1.82834464e+05   5.17367969e+02   1.08804516e+01   1.17781031e+04\n",
        "   5.01129986e+01  -8.43717600e-02   4.42380711e-05]"
       ]
      },
      {
       "output_type": "stream",
       "stream": "stdout",
       "text": [
        "\n",
        "Less than 3 points between 4 - 5"
       ]
      },
      {
       "output_type": "stream",
       "stream": "stdout",
       "text": [
        "\n",
        "Less than 3 points between 8 - 9\n",
        "Less than 3 points between 11 - 13\n",
        "Less than 3 points between 24 - 25\n",
        "Less than 3 points between 29 - 30\n",
        "Less than 3 points between 33 - 35\n",
        "Less than 3 points between 40 - 42\n",
        "Less than 3 points between 61 - 62\n",
        "Less than 3 points between 77 - 78\n",
        "Less than 3 points between 80 - 81\n",
        "Less than 3 points between 88 - 89\n",
        "Less than 3 points between 131 - 132\n",
        "Less than 3 points between 161 - 163\n",
        "Less than 3 points between 172 - 173\n",
        "Less than 3 points between 184 - 185\n",
        "Less than 3 points between 191 - 193\n",
        "Less than 3 points between 194 - 195\n",
        "Less than 3 points between 203 - 204\n",
        "Less than 3 points between 214 - 215\n",
        "Less than 3 points between 219 - 220\n",
        "Less than 3 points between 222 - 223\n",
        "error\n",
        "error calculating fit for 270 - 274, skipping\n",
        "Less than 3 points between 283 - 285\n",
        "Less than 3 points between 295 - 296\n",
        "Less than 3 points between 308 - 309\n",
        "[  6.54785915e+04   3.16699557e+02   3.55918226e+00]\n",
        "Less than 3 points between 322 - 323\n",
        "Less than 3 points between 386 - 387\n",
        "Less than 3 points between 388 - 390\n",
        "Less than 3 points between 392 - 394\n",
        "Less than 3 points between 395 - 396\n",
        "Less than 3 points between 402 - 404\n",
        "Less than 3 points between 449 - 450\n",
        "Less than 3 points between 463 - 464\n",
        "Less than 3 points between 480 - 481\n",
        "Less than 3 points between 485 - 486\n",
        "Less than 3 points between 487 - 488\n",
        "Less than 3 points between 583 - 584\n",
        "Less than 3 points between 618 - 620\n",
        "Less than 3 points between 622 - 623\n",
        "[  4.87155245e+04   6.27542403e+02   4.64700721e+00]\n",
        "[  6.51398322e+04   6.33944736e+02   1.91105999e+00]\n",
        "Less than 3 points between 662 - 664\n",
        "Less than 3 points between 696 - 697\n",
        "Less than 3 points between 718 - 720\n",
        "Less than 3 points between 734 - 735\n",
        "Less than 3 points between 747 - 748\n",
        "Less than 3 points between 752 - 753\n",
        "Less than 3 points between 754 - 755\n",
        "Less than 3 points between 757 - 758\n",
        "Less than 3 points between 761 - 762\n",
        "Less than 3 points between 764 - 765\n",
        "Less than 3 points between 804 - 805\n",
        "Less than 3 points between 820 - 821\n",
        "[  5.78156195e+04   8.36043826e+02   2.33389415e+00]"
       ]
      },
      {
       "output_type": "stream",
       "stream": "stdout",
       "text": [
        "\n",
        "Less than 3 points between 850 - 851\n",
        "Less than 3 points between 883 - 884\n",
        "Less than 3 points between 906 - 907\n",
        "[  8.16262687e+04   9.17071715e+02   1.86422419e+00]\n",
        "Less than 3 points between 921 - 922\n",
        "Less than 3 points between 940 - 941\n",
        "Less than 3 points between 945 - 946\n",
        "Less than 3 points between 947 - 948\n",
        "Less than 3 points between 993 - 994\n",
        "Less than 3 points between 1000 - 1001\n",
        "Less than 3 points between 1004 - 1005\n",
        "Less than 3 points between 1023 - 1024\n",
        "[316.69955691165131, 627.54240276082999, 633.94473588620474, 836.04382625403991, 917.07171475135044]\n",
        "yloc = 316.699557"
       ]
      },
      {
       "output_type": "stream",
       "stream": "stdout",
       "text": [
        "\n",
        "!/usr/stsci/stsci_iraf_x/stsdas/bin.macintel/cs6.e 'obrc010a0_flt.fits' '/user/bostroem/science/12465_otfr20121109/ccd/R136-SE5_loc316_3936_x1d.fits' -t -v -cte -disp -hel -flux -c 316.699556912 -r 4 -o1 12.0 -o2 12.0 -bm -bo 3 -a unweighted  -st 14.0\n"
       ]
      },
      {
       "output_type": "stream",
       "stream": "stdout",
       "text": [
        "\n",
        "*** CALSTIS-6 -- Version 2.40 (23-May-2012) ***\n",
        "Begin    12-Nov-2012 16:25:34 EST\n"
       ]
      },
      {
       "output_type": "stream",
       "stream": "stdout",
       "text": [
        "2012317162534-I--------------- CALSTIS-6 started -------------------------------\n",
        "\n",
        "Input    obrc010a0_flt.fits\n",
        "Output   /user/bostroem/science/12465_otfr20121109/ccd/R136-SE5_loc316_3936_x1d.fits\n",
        "Rootname obrc010a0\n",
        "OBSMODE  ACCUM\n",
        "APERTURE 52X0.2\n",
        "OPT_ELEM G430M\n",
        "DETECTOR CCD\n"
       ]
      },
      {
       "output_type": "stream",
       "stream": "stdout",
       "text": [
        "\n",
        "XTRACTAB oref$n7p1031qo_1dx.fits\n",
        "XTRACTAB PEDIGREE=INFLIGHT 18/05/97\n",
        "XTRACTAB DESCRIP =Analysis from prop. 7094\n",
        "SPTRCTAB oref$qa31608go_1dt.fits\n",
        "\n",
        "Imset 1  Begin 16:25:34 EST\n"
       ]
      },
      {
       "output_type": "stream",
       "stream": "stdout",
       "text": [
        "         Input read into memory.\n",
        "         Offset of 14 low-res pixels added in dispersion direction\n",
        "Order 1  Begin 16:25:34 EST\n",
        "X1DCORR  PERFORM\n"
       ]
      },
      {
       "output_type": "stream",
       "stream": "stdout",
       "text": [
        "         Cross correlation offset: 1.92324 pixels\n",
        "BACKCORR OMIT\n"
       ]
      },
      {
       "output_type": "stream",
       "stream": "stdout",
       "text": [
        "X1DCORR  COMPLETE\n",
        "2012317162534-I--------------- X1DCORR complete: OBRC010A0 ---------------------\n",
        "         Spectrum extracted at y position = 318.623\n",
        "         Extraction box height = 7\n",
        "         Background box 1 height = 5 offset 12 from A2CENTER\n",
        "         Background box 2 height = 5 offset 12 from A2CENTER\n",
        "\n",
        "DISPCORR PERFORM\n",
        "DISPTAB  oref$l2j0137to_dsp.fits\n",
        "DISPTAB  PEDIGREE=INFLIGHT 27/02/1997 24/11/1999\n",
        "DISPTAB  DESCRIP =Lindler Postlaunch, May 2000\n",
        "APDESTAB oref$obm1723ro_apd.fits\n",
        "APDESTAB PEDIGREE=INFLIGHT 01/03/1997 01/03/1997\n",
        "APDESTAB DESCRIP =Microscope Meas./Hartig Post-launch Offsets\n",
        "INANGTAB oref$h5s11397o_iac.fits\n"
       ]
      },
      {
       "output_type": "stream",
       "stream": "stdout",
       "text": [
        "         Delta = 0.074666 arcsec.\n",
        "DISPCORR COMPLETE\n",
        "2012317162534-I--------------- DISPCORR complete: OBRC010A0 --------------------\n",
        "\n",
        "HELCORR  PERFORM\n",
        "HELCORR  COMPLETE\n",
        "2012317162534-I--------------- HELCORR complete: OBRC010A0 ---------------------\n",
        "\n",
        "PHOTTAB  oref$p822207no_pht.fits\n",
        "APERTAB  oref$n7p1032ao_apt.fits\n",
        "APERTAB  PEDIGREE=MODEL\n",
        "APERTAB  DESCRIP =Bohlin/Hartig TIM Models Nov. 1998\n",
        "PCTAB    oref$q541740oo_pct.fits\n",
        "TDSTAB   oref$t9a1003so_tds.fits\n"
       ]
      },
      {
       "output_type": "stream",
       "stream": "stdout",
       "text": [
        "FLUXCORR PERFORM\n",
        "CTECORR  PERFORM\n",
        "CCDTAB   oref$v6n13233o_ccd.fits\n",
        "CCDTAB   PEDIGREE=INFLIGHT 01/05/2009 01/05/2009\n",
        "CCDTAB   DESCRIP =Proposal 8057, by I. Dashevsky & P. Goudfrooij\n"
       ]
      },
      {
       "output_type": "stream",
       "stream": "stdout",
       "text": [
        "CTECORR  COMPLETE\n",
        "FLUXCORR COMPLETE\n",
        "2012317162534-I--------------- FLUXCORR complete: OBRC010A0 --------------------\n",
        "\n",
        "SGEOCORR OMIT\n"
       ]
      },
      {
       "output_type": "stream",
       "stream": "stdout",
       "text": [
        "\n",
        "         Row 1 written to disk.\n",
        "Order 1  End 16:25:34 EST\n"
       ]
      },
      {
       "output_type": "stream",
       "stream": "stdout",
       "text": [
        "\n",
        "Imset 1  End 16:25:34 EST\n"
       ]
      },
      {
       "output_type": "stream",
       "stream": "stdout",
       "text": [
        "\n",
        "Warning  Keyword `XTRACALG' is being added to header.\n",
        "End      12-Nov-2012 16:25:34 EST\n",
        "\n",
        "*** CALSTIS-6 complete ***\n",
        "2012317162534-I--------------- CALSTIS-6 completed: OBRC010A0 ------------------\n"
       ]
      },
      {
       "output_type": "stream",
       "stream": "stdout",
       "text": [
        "\n",
        "!/usr/stsci/stsci_iraf_x/stsdas/bin.macintel/cs6.e 'obrc010a0_flt.fits' '/user/bostroem/science/12465_otfr20121109/ccd/extracted_spectra_fits/R136-SE5_loc316_3936_x1d.fits' -t -v -cte -disp -hel -flux -c 316.699556912 -r 0 -o1 12.0 -o2 12.0 -bm -bo 3 -a unweighted  -st 14.0\n"
       ]
      },
      {
       "output_type": "stream",
       "stream": "stdout",
       "text": [
        "\n",
        "*** CALSTIS-6 -- Version 2.40 (23-May-2012) ***\n",
        "Begin    12-Nov-2012 16:25:34 EST\n"
       ]
      },
      {
       "output_type": "stream",
       "stream": "stdout",
       "text": [
        "2012317162534-I--------------- CALSTIS-6 started -------------------------------\n",
        "\n",
        "Input    obrc010a0_flt.fits\n",
        "Output   /user/bostroem/science/12465_otfr20121109/ccd/extracted_spectra_fits/R136-SE5_loc316_3936_x1d.fits\n",
        "Rootname obrc010a0\n",
        "OBSMODE  ACCUM\n",
        "APERTURE 52X0.2\n",
        "OPT_ELEM G430M\n",
        "DETECTOR CCD\n"
       ]
      },
      {
       "output_type": "stream",
       "stream": "stdout",
       "text": [
        "\n",
        "XTRACTAB oref$n7p1031qo_1dx.fits\n",
        "XTRACTAB PEDIGREE=INFLIGHT 18/05/97\n",
        "XTRACTAB DESCRIP =Analysis from prop. 7094\n",
        "SPTRCTAB oref$qa31608go_1dt.fits\n",
        "\n",
        "Imset 1  Begin 16:25:35 EST\n"
       ]
      },
      {
       "output_type": "stream",
       "stream": "stdout",
       "text": [
        "         Input read into memory.\n",
        "         Offset of 14 low-res pixels added in dispersion direction\n",
        "Order 1  Begin 16:25:35 EST\n",
        "X1DCORR  PERFORM\n"
       ]
      },
      {
       "output_type": "stream",
       "stream": "stdout",
       "text": [
        "         Cross correlation offset: 0 pixels\n",
        "BACKCORR OMIT\n"
       ]
      },
      {
       "output_type": "stream",
       "stream": "stdout",
       "text": [
        "X1DCORR  COMPLETE\n",
        "2012317162535-I--------------- X1DCORR complete: OBRC010A0 ---------------------\n",
        "         Spectrum extracted at y position = 316.7\n",
        "         Extraction box height = 7\n",
        "         Background box 1 height = 5 offset 12 from A2CENTER\n",
        "         Background box 2 height = 5 offset 12 from A2CENTER\n",
        "\n",
        "DISPCORR PERFORM\n",
        "DISPTAB  oref$l2j0137to_dsp.fits\n",
        "DISPTAB  PEDIGREE=INFLIGHT 27/02/1997 24/11/1999\n",
        "DISPTAB  DESCRIP =Lindler Postlaunch, May 2000\n",
        "APDESTAB oref$obm1723ro_apd.fits\n",
        "APDESTAB PEDIGREE=INFLIGHT 01/03/1997 01/03/1997\n",
        "APDESTAB DESCRIP =Microscope Meas./Hartig Post-launch Offsets\n",
        "INANGTAB oref$h5s11397o_iac.fits\n"
       ]
      },
      {
       "output_type": "stream",
       "stream": "stdout",
       "text": [
        "         Delta = 0.074666 arcsec.\n",
        "DISPCORR COMPLETE\n",
        "2012317162535-I--------------- DISPCORR complete: OBRC010A0 --------------------\n",
        "\n",
        "HELCORR  PERFORM\n",
        "HELCORR  COMPLETE\n",
        "2012317162535-I--------------- HELCORR complete: OBRC010A0 ---------------------\n",
        "\n",
        "PHOTTAB  oref$p822207no_pht.fits\n",
        "APERTAB  oref$n7p1032ao_apt.fits\n",
        "APERTAB  PEDIGREE=MODEL\n",
        "APERTAB  DESCRIP =Bohlin/Hartig TIM Models Nov. 1998\n",
        "PCTAB    oref$q541740oo_pct.fits\n",
        "TDSTAB   oref$t9a1003so_tds.fits\n"
       ]
      },
      {
       "output_type": "stream",
       "stream": "stdout",
       "text": [
        "FLUXCORR PERFORM\n",
        "CTECORR  PERFORM\n",
        "CCDTAB   oref$v6n13233o_ccd.fits\n",
        "CCDTAB   PEDIGREE=INFLIGHT 01/05/2009 01/05/2009\n",
        "CCDTAB   DESCRIP =Proposal 8057, by I. Dashevsky & P. Goudfrooij\n"
       ]
      },
      {
       "output_type": "stream",
       "stream": "stdout",
       "text": [
        "CTECORR  COMPLETE\n",
        "FLUXCORR COMPLETE\n",
        "2012317162535-I--------------- FLUXCORR complete: OBRC010A0 --------------------\n",
        "\n",
        "SGEOCORR OMIT\n"
       ]
      },
      {
       "output_type": "stream",
       "stream": "stdout",
       "text": [
        "\n",
        "         Row 1 written to disk.\n",
        "Order 1  End 16:25:35 EST\n"
       ]
      },
      {
       "output_type": "stream",
       "stream": "stdout",
       "text": [
        "\n",
        "Imset 1  End 16:25:35 EST\n"
       ]
      },
      {
       "output_type": "stream",
       "stream": "stdout",
       "text": [
        "\n",
        "Warning  Keyword `XTRACALG' is being added to header.\n",
        "End      12-Nov-2012 16:25:35 EST\n",
        "\n",
        "*** CALSTIS-6 complete ***\n",
        "2012317162535-I--------------- CALSTIS-6 completed: OBRC010A0 ------------------\n"
       ]
      },
      {
       "output_type": "stream",
       "stream": "stdout",
       "text": [
        "\n",
        "yloc = 627.542403"
       ]
      },
      {
       "output_type": "stream",
       "stream": "stdout",
       "text": [
        "\n",
        "!/usr/stsci/stsci_iraf_x/stsdas/bin.macintel/cs6.e 'obrc010a0_flt.fits' '/user/bostroem/science/12465_otfr20121109/ccd/R136-SE5_loc627_3936_x1d.fits' -t -v -cte -disp -hel -flux -c 627.542402761 -r 4 -o1 12.0 -o2 12.0 -bm -bo 3 -a unweighted  -st 14.0\n"
       ]
      },
      {
       "output_type": "stream",
       "stream": "stdout",
       "text": [
        "\n",
        "*** CALSTIS-6 -- Version 2.40 (23-May-2012) ***\n",
        "Begin    12-Nov-2012 16:25:35 EST\n"
       ]
      },
      {
       "output_type": "stream",
       "stream": "stdout",
       "text": [
        "2012317162535-I--------------- CALSTIS-6 started -------------------------------\n",
        "\n",
        "Input    obrc010a0_flt.fits\n",
        "Output   /user/bostroem/science/12465_otfr20121109/ccd/R136-SE5_loc627_3936_x1d.fits\n",
        "Rootname obrc010a0\n",
        "OBSMODE  ACCUM\n",
        "APERTURE 52X0.2\n",
        "OPT_ELEM G430M\n",
        "DETECTOR CCD\n"
       ]
      },
      {
       "output_type": "stream",
       "stream": "stdout",
       "text": [
        "\n",
        "XTRACTAB oref$n7p1031qo_1dx.fits\n",
        "XTRACTAB PEDIGREE=INFLIGHT 18/05/97\n",
        "XTRACTAB DESCRIP =Analysis from prop. 7094\n",
        "SPTRCTAB oref$qa31608go_1dt.fits\n",
        "\n",
        "Imset 1  Begin 16:25:35 EST\n"
       ]
      },
      {
       "output_type": "stream",
       "stream": "stdout",
       "text": [
        "         Input read into memory.\n",
        "         Offset of 14 low-res pixels added in dispersion direction\n",
        "Order 1  Begin 16:25:35 EST\n",
        "X1DCORR  PERFORM\n"
       ]
      },
      {
       "output_type": "stream",
       "stream": "stdout",
       "text": [
        "Warning  Cross correlation to locate spectrum failed.\n",
        "ERROR    Cannot extract.\n",
        "Warning  No rows were written; no table created.\n",
        "Imset 1  End 16:25:35 EST\n",
        "\n",
        "End      12-Nov-2012 16:25:35 EST\n",
        "\n",
        "*** CALSTIS-6 complete ***\n",
        "2012317162535-I--------------- CALSTIS-6 completed: OBRC010A0 ------------------\n"
       ]
      },
      {
       "output_type": "stream",
       "stream": "stdout",
       "text": [
        "\n",
        "!/usr/stsci/stsci_iraf_x/stsdas/bin.macintel/cs6.e 'obrc010a0_flt.fits' '/user/bostroem/science/12465_otfr20121109/ccd/extracted_spectra_fits/R136-SE5_loc627_3936_x1d.fits' -t -v -cte -disp -hel -flux -c 627.542402761 -r 0 -o1 12.0 -o2 12.0 -bm -bo 3 -a unweighted  -st 14.0\n"
       ]
      },
      {
       "output_type": "stream",
       "stream": "stdout",
       "text": [
        "\n",
        "*** CALSTIS-6 -- Version 2.40 (23-May-2012) ***\n",
        "Begin    12-Nov-2012 16:25:36 EST\n"
       ]
      },
      {
       "output_type": "stream",
       "stream": "stdout",
       "text": [
        "2012317162536-I--------------- CALSTIS-6 started -------------------------------\n",
        "\n",
        "Input    obrc010a0_flt.fits\n",
        "Output   /user/bostroem/science/12465_otfr20121109/ccd/extracted_spectra_fits/R136-SE5_loc627_3936_x1d.fits\n",
        "Rootname obrc010a0\n",
        "OBSMODE  ACCUM\n",
        "APERTURE 52X0.2\n",
        "OPT_ELEM G430M\n",
        "DETECTOR CCD\n"
       ]
      },
      {
       "output_type": "stream",
       "stream": "stdout",
       "text": [
        "\n",
        "XTRACTAB oref$n7p1031qo_1dx.fits\n",
        "XTRACTAB PEDIGREE=INFLIGHT 18/05/97\n",
        "XTRACTAB DESCRIP =Analysis from prop. 7094\n",
        "SPTRCTAB oref$qa31608go_1dt.fits\n",
        "\n",
        "Imset 1  Begin 16:25:36 EST\n"
       ]
      },
      {
       "output_type": "stream",
       "stream": "stdout",
       "text": [
        "         Input read into memory.\n",
        "         Offset of 14 low-res pixels added in dispersion direction\n",
        "Order 1  Begin 16:25:36 EST\n",
        "X1DCORR  PERFORM\n"
       ]
      },
      {
       "output_type": "stream",
       "stream": "stdout",
       "text": [
        "         Cross correlation offset: 0 pixels\n",
        "BACKCORR OMIT\n"
       ]
      },
      {
       "output_type": "stream",
       "stream": "stdout",
       "text": [
        "X1DCORR  COMPLETE\n",
        "2012317162536-I--------------- X1DCORR complete: OBRC010A0 ---------------------\n",
        "         Spectrum extracted at y position = 627.542\n",
        "         Extraction box height = 7\n",
        "         Background box 1 height = 5 offset 12 from A2CENTER\n",
        "         Background box 2 height = 5 offset 12 from A2CENTER\n",
        "\n",
        "DISPCORR PERFORM\n",
        "DISPTAB  oref$l2j0137to_dsp.fits\n",
        "DISPTAB  PEDIGREE=INFLIGHT 27/02/1997 24/11/1999\n",
        "DISPTAB  DESCRIP =Lindler Postlaunch, May 2000\n",
        "APDESTAB oref$obm1723ro_apd.fits\n",
        "APDESTAB PEDIGREE=INFLIGHT 01/03/1997 01/03/1997\n",
        "APDESTAB DESCRIP =Microscope Meas./Hartig Post-launch Offsets\n",
        "INANGTAB oref$h5s11397o_iac.fits\n"
       ]
      },
      {
       "output_type": "stream",
       "stream": "stdout",
       "text": [
        "         Delta = 0.074666 arcsec.\n",
        "DISPCORR COMPLETE\n",
        "2012317162536-I--------------- DISPCORR complete: OBRC010A0 --------------------\n",
        "\n",
        "HELCORR  PERFORM\n",
        "HELCORR  COMPLETE\n",
        "2012317162536-I--------------- HELCORR complete: OBRC010A0 ---------------------\n",
        "\n",
        "PHOTTAB  oref$p822207no_pht.fits\n",
        "APERTAB  oref$n7p1032ao_apt.fits\n",
        "APERTAB  PEDIGREE=MODEL\n",
        "APERTAB  DESCRIP =Bohlin/Hartig TIM Models Nov. 1998\n",
        "PCTAB    oref$q541740oo_pct.fits\n",
        "TDSTAB   oref$t9a1003so_tds.fits\n"
       ]
      },
      {
       "output_type": "stream",
       "stream": "stdout",
       "text": [
        "FLUXCORR PERFORM\n",
        "CTECORR  PERFORM\n",
        "CCDTAB   oref$v6n13233o_ccd.fits\n",
        "CCDTAB   PEDIGREE=INFLIGHT 01/05/2009 01/05/2009\n",
        "CCDTAB   DESCRIP =Proposal 8057, by I. Dashevsky & P. Goudfrooij\n"
       ]
      },
      {
       "output_type": "stream",
       "stream": "stdout",
       "text": [
        "CTECORR  COMPLETE\n",
        "FLUXCORR COMPLETE\n",
        "2012317162536-I--------------- FLUXCORR complete: OBRC010A0 --------------------\n",
        "\n",
        "SGEOCORR OMIT\n"
       ]
      },
      {
       "output_type": "stream",
       "stream": "stdout",
       "text": [
        "\n",
        "         Row 1 written to disk.\n",
        "Order 1  End 16:25:36 EST\n"
       ]
      },
      {
       "output_type": "stream",
       "stream": "stdout",
       "text": [
        "\n",
        "Imset 1  End 16:25:36 EST\n"
       ]
      },
      {
       "output_type": "stream",
       "stream": "stdout",
       "text": [
        "\n",
        "Warning  Keyword `XTRACALG' is being added to header.\n",
        "End      12-Nov-2012 16:25:36 EST\n",
        "\n",
        "*** CALSTIS-6 complete ***\n",
        "2012317162536-I--------------- CALSTIS-6 completed: OBRC010A0 ------------------\n"
       ]
      },
      {
       "output_type": "stream",
       "stream": "stdout",
       "text": [
        "\n",
        "yloc = 633.944736"
       ]
      },
      {
       "output_type": "stream",
       "stream": "stdout",
       "text": [
        "\n",
        "!/usr/stsci/stsci_iraf_x/stsdas/bin.macintel/cs6.e 'obrc010a0_flt.fits' '/user/bostroem/science/12465_otfr20121109/ccd/R136-SE5_loc633_3936_x1d.fits' -t -v -cte -disp -hel -flux -c 633.944735886 -r 4 -o1 12.0 -o2 12.0 -bm -bo 3 -a unweighted  -st 14.0\n"
       ]
      },
      {
       "output_type": "stream",
       "stream": "stdout",
       "text": [
        "\n",
        "*** CALSTIS-6 -- Version 2.40 (23-May-2012) ***\n",
        "Begin    12-Nov-2012 16:25:36 EST\n"
       ]
      },
      {
       "output_type": "stream",
       "stream": "stdout",
       "text": [
        "2012317162536-I--------------- CALSTIS-6 started -------------------------------\n",
        "\n",
        "Input    obrc010a0_flt.fits\n",
        "Output   /user/bostroem/science/12465_otfr20121109/ccd/R136-SE5_loc633_3936_x1d.fits\n",
        "Rootname obrc010a0\n",
        "OBSMODE  ACCUM\n",
        "APERTURE 52X0.2\n",
        "OPT_ELEM G430M\n",
        "DETECTOR CCD\n"
       ]
      },
      {
       "output_type": "stream",
       "stream": "stdout",
       "text": [
        "\n",
        "XTRACTAB oref$n7p1031qo_1dx.fits\n",
        "XTRACTAB PEDIGREE=INFLIGHT 18/05/97\n",
        "XTRACTAB DESCRIP =Analysis from prop. 7094\n",
        "SPTRCTAB oref$qa31608go_1dt.fits\n",
        "\n",
        "Imset 1  Begin 16:25:36 EST\n"
       ]
      },
      {
       "output_type": "stream",
       "stream": "stdout",
       "text": [
        "         Input read into memory.\n",
        "         Offset of 14 low-res pixels added in dispersion direction\n",
        "Order 1  Begin 16:25:36 EST\n",
        "X1DCORR  PERFORM\n"
       ]
      },
      {
       "output_type": "stream",
       "stream": "stdout",
       "text": [
        "Warning  Cross correlation to locate spectrum failed.\n",
        "ERROR    Cannot extract.\n",
        "Warning  No rows were written; no table created.\n",
        "Imset 1  End 16:25:36 EST\n",
        "\n",
        "End      12-Nov-2012 16:25:36 EST\n",
        "\n",
        "*** CALSTIS-6 complete ***\n",
        "2012317162536-I--------------- CALSTIS-6 completed: OBRC010A0 ------------------\n"
       ]
      },
      {
       "output_type": "stream",
       "stream": "stdout",
       "text": [
        "\n",
        "!/usr/stsci/stsci_iraf_x/stsdas/bin.macintel/cs6.e 'obrc010a0_flt.fits' '/user/bostroem/science/12465_otfr20121109/ccd/extracted_spectra_fits/R136-SE5_loc633_3936_x1d.fits' -t -v -cte -disp -hel -flux -c 633.944735886 -r 0 -o1 12.0 -o2 12.0 -bm -bo 3 -a unweighted  -st 14.0\n"
       ]
      },
      {
       "output_type": "stream",
       "stream": "stdout",
       "text": [
        "\n",
        "*** CALSTIS-6 -- Version 2.40 (23-May-2012) ***\n",
        "Begin    12-Nov-2012 16:25:37 EST\n"
       ]
      },
      {
       "output_type": "stream",
       "stream": "stdout",
       "text": [
        "2012317162537-I--------------- CALSTIS-6 started -------------------------------\n",
        "\n",
        "Input    obrc010a0_flt.fits\n",
        "Output   /user/bostroem/science/12465_otfr20121109/ccd/extracted_spectra_fits/R136-SE5_loc633_3936_x1d.fits\n",
        "Rootname obrc010a0\n",
        "OBSMODE  ACCUM\n",
        "APERTURE 52X0.2\n",
        "OPT_ELEM G430M\n",
        "DETECTOR CCD\n"
       ]
      },
      {
       "output_type": "stream",
       "stream": "stdout",
       "text": [
        "\n",
        "XTRACTAB oref$n7p1031qo_1dx.fits\n",
        "XTRACTAB PEDIGREE=INFLIGHT 18/05/97\n",
        "XTRACTAB DESCRIP =Analysis from prop. 7094\n",
        "SPTRCTAB oref$qa31608go_1dt.fits\n",
        "\n",
        "Imset 1  Begin 16:25:37 EST\n"
       ]
      },
      {
       "output_type": "stream",
       "stream": "stdout",
       "text": [
        "         Input read into memory.\n",
        "         Offset of 14 low-res pixels added in dispersion direction\n",
        "Order 1  Begin 16:25:37 EST\n",
        "X1DCORR  PERFORM\n"
       ]
      },
      {
       "output_type": "stream",
       "stream": "stdout",
       "text": [
        "         Cross correlation offset: 0 pixels\n",
        "BACKCORR OMIT\n"
       ]
      },
      {
       "output_type": "stream",
       "stream": "stdout",
       "text": [
        "X1DCORR  COMPLETE\n",
        "2012317162537-I--------------- X1DCORR complete: OBRC010A0 ---------------------\n",
        "         Spectrum extracted at y position = 633.945\n",
        "         Extraction box height = 7\n",
        "         Background box 1 height = 5 offset 12 from A2CENTER\n",
        "         Background box 2 height = 5 offset 12 from A2CENTER\n",
        "\n",
        "DISPCORR PERFORM\n",
        "DISPTAB  oref$l2j0137to_dsp.fits\n",
        "DISPTAB  PEDIGREE=INFLIGHT 27/02/1997 24/11/1999\n",
        "DISPTAB  DESCRIP =Lindler Postlaunch, May 2000\n",
        "APDESTAB oref$obm1723ro_apd.fits\n",
        "APDESTAB PEDIGREE=INFLIGHT 01/03/1997 01/03/1997\n",
        "APDESTAB DESCRIP =Microscope Meas./Hartig Post-launch Offsets\n",
        "INANGTAB oref$h5s11397o_iac.fits\n"
       ]
      },
      {
       "output_type": "stream",
       "stream": "stdout",
       "text": [
        "         Delta = 0.074666 arcsec.\n",
        "DISPCORR COMPLETE\n",
        "2012317162537-I--------------- DISPCORR complete: OBRC010A0 --------------------\n",
        "\n",
        "HELCORR  PERFORM\n",
        "HELCORR  COMPLETE\n",
        "2012317162537-I--------------- HELCORR complete: OBRC010A0 ---------------------\n",
        "\n",
        "PHOTTAB  oref$p822207no_pht.fits\n",
        "APERTAB  oref$n7p1032ao_apt.fits\n",
        "APERTAB  PEDIGREE=MODEL\n",
        "APERTAB  DESCRIP =Bohlin/Hartig TIM Models Nov. 1998\n",
        "PCTAB    oref$q541740oo_pct.fits\n",
        "TDSTAB   oref$t9a1003so_tds.fits\n"
       ]
      },
      {
       "output_type": "stream",
       "stream": "stdout",
       "text": [
        "FLUXCORR PERFORM\n",
        "CTECORR  PERFORM\n",
        "CCDTAB   oref$v6n13233o_ccd.fits\n",
        "CCDTAB   PEDIGREE=INFLIGHT 01/05/2009 01/05/2009\n",
        "CCDTAB   DESCRIP =Proposal 8057, by I. Dashevsky & P. Goudfrooij\n"
       ]
      },
      {
       "output_type": "stream",
       "stream": "stdout",
       "text": [
        "CTECORR  COMPLETE\n",
        "FLUXCORR COMPLETE\n",
        "2012317162537-I--------------- FLUXCORR complete: OBRC010A0 --------------------\n",
        "\n",
        "SGEOCORR OMIT\n"
       ]
      },
      {
       "output_type": "stream",
       "stream": "stdout",
       "text": [
        "\n",
        "         Row 1 written to disk.\n",
        "Order 1  End 16:25:37 EST\n"
       ]
      },
      {
       "output_type": "stream",
       "stream": "stdout",
       "text": [
        "\n",
        "Imset 1  End 16:25:37 EST\n"
       ]
      },
      {
       "output_type": "stream",
       "stream": "stdout",
       "text": [
        "\n",
        "Warning  Keyword `XTRACALG' is being added to header.\n",
        "End      12-Nov-2012 16:25:37 EST\n",
        "\n",
        "*** CALSTIS-6 complete ***\n",
        "2012317162537-I--------------- CALSTIS-6 completed: OBRC010A0 ------------------\n"
       ]
      },
      {
       "output_type": "stream",
       "stream": "stdout",
       "text": [
        "\n",
        "yloc = 836.043826"
       ]
      },
      {
       "output_type": "stream",
       "stream": "stdout",
       "text": [
        "\n",
        "!/usr/stsci/stsci_iraf_x/stsdas/bin.macintel/cs6.e 'obrc010a0_flt.fits' '/user/bostroem/science/12465_otfr20121109/ccd/R136-SE5_loc836_3936_x1d.fits' -t -v -cte -disp -hel -flux -c 836.043826254 -r 4 -o1 12.0 -o2 12.0 -bm -bo 3 -a unweighted  -st 14.0\n"
       ]
      },
      {
       "output_type": "stream",
       "stream": "stdout",
       "text": [
        "\n",
        "*** CALSTIS-6 -- Version 2.40 (23-May-2012) ***\n",
        "Begin    12-Nov-2012 16:25:37 EST\n"
       ]
      },
      {
       "output_type": "stream",
       "stream": "stdout",
       "text": [
        "2012317162537-I--------------- CALSTIS-6 started -------------------------------\n",
        "\n",
        "Input    obrc010a0_flt.fits\n",
        "Output   /user/bostroem/science/12465_otfr20121109/ccd/R136-SE5_loc836_3936_x1d.fits\n",
        "Rootname obrc010a0\n",
        "OBSMODE  ACCUM\n",
        "APERTURE 52X0.2\n",
        "OPT_ELEM G430M\n",
        "DETECTOR CCD\n"
       ]
      },
      {
       "output_type": "stream",
       "stream": "stdout",
       "text": [
        "\n",
        "XTRACTAB oref$n7p1031qo_1dx.fits\n",
        "XTRACTAB PEDIGREE=INFLIGHT 18/05/97\n",
        "XTRACTAB DESCRIP =Analysis from prop. 7094\n",
        "SPTRCTAB oref$qa31608go_1dt.fits\n",
        "\n",
        "Imset 1  Begin 16:25:37 EST\n"
       ]
      },
      {
       "output_type": "stream",
       "stream": "stdout",
       "text": [
        "         Input read into memory.\n",
        "         Offset of 14 low-res pixels added in dispersion direction\n",
        "Order 1  Begin 16:25:37 EST\n",
        "X1DCORR  PERFORM\n"
       ]
      },
      {
       "output_type": "stream",
       "stream": "stdout",
       "text": [
        "         Cross correlation offset: -1.11506 pixels\n",
        "BACKCORR OMIT\n"
       ]
      },
      {
       "output_type": "stream",
       "stream": "stdout",
       "text": [
        "X1DCORR  COMPLETE\n",
        "2012317162537-I--------------- X1DCORR complete: OBRC010A0 ---------------------\n",
        "         Spectrum extracted at y position = 834.929\n",
        "         Extraction box height = 7\n",
        "         Background box 1 height = 5 offset 12 from A2CENTER\n",
        "         Background box 2 height = 5 offset 12 from A2CENTER\n",
        "\n",
        "DISPCORR PERFORM\n",
        "DISPTAB  oref$l2j0137to_dsp.fits\n",
        "DISPTAB  PEDIGREE=INFLIGHT 27/02/1997 24/11/1999\n",
        "DISPTAB  DESCRIP =Lindler Postlaunch, May 2000\n",
        "APDESTAB oref$obm1723ro_apd.fits\n",
        "APDESTAB PEDIGREE=INFLIGHT 01/03/1997 01/03/1997\n",
        "APDESTAB DESCRIP =Microscope Meas./Hartig Post-launch Offsets\n",
        "INANGTAB oref$h5s11397o_iac.fits\n"
       ]
      },
      {
       "output_type": "stream",
       "stream": "stdout",
       "text": [
        "         Delta = 0.074666 arcsec.\n",
        "DISPCORR COMPLETE\n",
        "2012317162537-I--------------- DISPCORR complete: OBRC010A0 --------------------\n",
        "\n",
        "HELCORR  PERFORM\n",
        "HELCORR  COMPLETE\n",
        "2012317162537-I--------------- HELCORR complete: OBRC010A0 ---------------------\n",
        "\n",
        "PHOTTAB  oref$p822207no_pht.fits\n",
        "APERTAB  oref$n7p1032ao_apt.fits\n",
        "APERTAB  PEDIGREE=MODEL\n",
        "APERTAB  DESCRIP =Bohlin/Hartig TIM Models Nov. 1998\n",
        "PCTAB    oref$q541740oo_pct.fits\n",
        "TDSTAB   oref$t9a1003so_tds.fits\n"
       ]
      },
      {
       "output_type": "stream",
       "stream": "stdout",
       "text": [
        "FLUXCORR PERFORM\n",
        "CTECORR  PERFORM\n",
        "CCDTAB   oref$v6n13233o_ccd.fits\n",
        "CCDTAB   PEDIGREE=INFLIGHT 01/05/2009 01/05/2009\n",
        "CCDTAB   DESCRIP =Proposal 8057, by I. Dashevsky & P. Goudfrooij\n"
       ]
      },
      {
       "output_type": "stream",
       "stream": "stdout",
       "text": [
        "CTECORR  COMPLETE\n",
        "FLUXCORR COMPLETE\n",
        "2012317162537-I--------------- FLUXCORR complete: OBRC010A0 --------------------\n",
        "\n",
        "SGEOCORR OMIT\n"
       ]
      },
      {
       "output_type": "stream",
       "stream": "stdout",
       "text": [
        "\n",
        "         Row 1 written to disk.\n",
        "Order 1  End 16:25:37 EST\n"
       ]
      },
      {
       "output_type": "stream",
       "stream": "stdout",
       "text": [
        "\n",
        "Imset 1  End 16:25:37 EST\n"
       ]
      },
      {
       "output_type": "stream",
       "stream": "stdout",
       "text": [
        "\n",
        "Warning  Keyword `XTRACALG' is being added to header.\n",
        "End      12-Nov-2012 16:25:37 EST\n",
        "\n",
        "*** CALSTIS-6 complete ***\n",
        "2012317162537-I--------------- CALSTIS-6 completed: OBRC010A0 ------------------\n"
       ]
      },
      {
       "output_type": "stream",
       "stream": "stdout",
       "text": [
        "\n",
        "!/usr/stsci/stsci_iraf_x/stsdas/bin.macintel/cs6.e 'obrc010a0_flt.fits' '/user/bostroem/science/12465_otfr20121109/ccd/extracted_spectra_fits/R136-SE5_loc836_3936_x1d.fits' -t -v -cte -disp -hel -flux -c 836.043826254 -r 0 -o1 12.0 -o2 12.0 -bm -bo 3 -a unweighted  -st 14.0\n"
       ]
      },
      {
       "output_type": "stream",
       "stream": "stdout",
       "text": [
        "\n",
        "*** CALSTIS-6 -- Version 2.40 (23-May-2012) ***\n",
        "Begin    12-Nov-2012 16:25:38 EST\n"
       ]
      },
      {
       "output_type": "stream",
       "stream": "stdout",
       "text": [
        "2012317162538-I--------------- CALSTIS-6 started -------------------------------\n",
        "\n",
        "Input    obrc010a0_flt.fits\n",
        "Output   /user/bostroem/science/12465_otfr20121109/ccd/extracted_spectra_fits/R136-SE5_loc836_3936_x1d.fits\n",
        "Rootname obrc010a0\n",
        "OBSMODE  ACCUM\n",
        "APERTURE 52X0.2\n",
        "OPT_ELEM G430M\n",
        "DETECTOR CCD\n"
       ]
      },
      {
       "output_type": "stream",
       "stream": "stdout",
       "text": [
        "\n",
        "XTRACTAB oref$n7p1031qo_1dx.fits\n",
        "XTRACTAB PEDIGREE=INFLIGHT 18/05/97\n",
        "XTRACTAB DESCRIP =Analysis from prop. 7094\n",
        "SPTRCTAB oref$qa31608go_1dt.fits\n",
        "\n",
        "Imset 1  Begin 16:25:38 EST\n"
       ]
      },
      {
       "output_type": "stream",
       "stream": "stdout",
       "text": [
        "         Input read into memory.\n",
        "         Offset of 14 low-res pixels added in dispersion direction\n",
        "Order 1  Begin 16:25:38 EST\n",
        "X1DCORR  PERFORM\n"
       ]
      },
      {
       "output_type": "stream",
       "stream": "stdout",
       "text": [
        "         Cross correlation offset: 0 pixels\n",
        "BACKCORR OMIT\n"
       ]
      },
      {
       "output_type": "stream",
       "stream": "stdout",
       "text": [
        "X1DCORR  COMPLETE\n",
        "2012317162538-I--------------- X1DCORR complete: OBRC010A0 ---------------------\n",
        "         Spectrum extracted at y position = 836.044\n",
        "         Extraction box height = 7\n",
        "         Background box 1 height = 5 offset 12 from A2CENTER\n",
        "         Background box 2 height = 5 offset 12 from A2CENTER\n",
        "\n",
        "DISPCORR PERFORM\n",
        "DISPTAB  oref$l2j0137to_dsp.fits\n",
        "DISPTAB  PEDIGREE=INFLIGHT 27/02/1997 24/11/1999\n",
        "DISPTAB  DESCRIP =Lindler Postlaunch, May 2000\n",
        "APDESTAB oref$obm1723ro_apd.fits\n",
        "APDESTAB PEDIGREE=INFLIGHT 01/03/1997 01/03/1997\n",
        "APDESTAB DESCRIP =Microscope Meas./Hartig Post-launch Offsets\n",
        "INANGTAB oref$h5s11397o_iac.fits\n"
       ]
      },
      {
       "output_type": "stream",
       "stream": "stdout",
       "text": [
        "         Delta = 0.074666 arcsec.\n",
        "DISPCORR COMPLETE\n",
        "2012317162538-I--------------- DISPCORR complete: OBRC010A0 --------------------\n",
        "\n",
        "HELCORR  PERFORM\n",
        "HELCORR  COMPLETE\n",
        "2012317162538-I--------------- HELCORR complete: OBRC010A0 ---------------------\n",
        "\n",
        "PHOTTAB  oref$p822207no_pht.fits\n",
        "APERTAB  oref$n7p1032ao_apt.fits\n",
        "APERTAB  PEDIGREE=MODEL\n",
        "APERTAB  DESCRIP =Bohlin/Hartig TIM Models Nov. 1998\n",
        "PCTAB    oref$q541740oo_pct.fits\n",
        "TDSTAB   oref$t9a1003so_tds.fits\n"
       ]
      },
      {
       "output_type": "stream",
       "stream": "stdout",
       "text": [
        "FLUXCORR PERFORM\n",
        "CTECORR  PERFORM\n",
        "CCDTAB   oref$v6n13233o_ccd.fits\n",
        "CCDTAB   PEDIGREE=INFLIGHT 01/05/2009 01/05/2009\n",
        "CCDTAB   DESCRIP =Proposal 8057, by I. Dashevsky & P. Goudfrooij\n"
       ]
      },
      {
       "output_type": "stream",
       "stream": "stdout",
       "text": [
        "CTECORR  COMPLETE\n",
        "FLUXCORR COMPLETE\n",
        "2012317162538-I--------------- FLUXCORR complete: OBRC010A0 --------------------\n",
        "\n",
        "SGEOCORR OMIT\n"
       ]
      },
      {
       "output_type": "stream",
       "stream": "stdout",
       "text": [
        "\n",
        "         Row 1 written to disk.\n",
        "Order 1  End 16:25:38 EST\n"
       ]
      },
      {
       "output_type": "stream",
       "stream": "stdout",
       "text": [
        "\n",
        "Imset 1  End 16:25:38 EST\n"
       ]
      },
      {
       "output_type": "stream",
       "stream": "stdout",
       "text": [
        "\n",
        "Warning  Keyword `XTRACALG' is being added to header.\n",
        "End      12-Nov-2012 16:25:38 EST\n",
        "\n",
        "*** CALSTIS-6 complete ***\n",
        "2012317162538-I--------------- CALSTIS-6 completed: OBRC010A0 ------------------\n"
       ]
      },
      {
       "output_type": "stream",
       "stream": "stdout",
       "text": [
        "\n",
        "yloc = 917.071715"
       ]
      },
      {
       "output_type": "stream",
       "stream": "stdout",
       "text": [
        "\n",
        "!/usr/stsci/stsci_iraf_x/stsdas/bin.macintel/cs6.e 'obrc010a0_flt.fits' '/user/bostroem/science/12465_otfr20121109/ccd/R136-SE5_loc917_3936_x1d.fits' -t -v -cte -disp -hel -flux -c 917.071714751 -r 4 -o1 12.0 -o2 12.0 -bm -bo 3 -a unweighted  -st 14.0\n"
       ]
      },
      {
       "output_type": "stream",
       "stream": "stdout",
       "text": [
        "\n",
        "*** CALSTIS-6 -- Version 2.40 (23-May-2012) ***\n",
        "Begin    12-Nov-2012 16:25:38 EST\n"
       ]
      },
      {
       "output_type": "stream",
       "stream": "stdout",
       "text": [
        "2012317162538-I--------------- CALSTIS-6 started -------------------------------\n",
        "\n",
        "Input    obrc010a0_flt.fits\n",
        "Output   /user/bostroem/science/12465_otfr20121109/ccd/R136-SE5_loc917_3936_x1d.fits\n",
        "Rootname obrc010a0\n",
        "OBSMODE  ACCUM\n",
        "APERTURE 52X0.2\n",
        "OPT_ELEM G430M\n",
        "DETECTOR CCD\n"
       ]
      },
      {
       "output_type": "stream",
       "stream": "stdout",
       "text": [
        "\n",
        "XTRACTAB oref$n7p1031qo_1dx.fits\n",
        "XTRACTAB PEDIGREE=INFLIGHT 18/05/97\n",
        "XTRACTAB DESCRIP =Analysis from prop. 7094\n",
        "SPTRCTAB oref$qa31608go_1dt.fits\n",
        "\n",
        "Imset 1  Begin 16:25:38 EST\n"
       ]
      },
      {
       "output_type": "stream",
       "stream": "stdout",
       "text": [
        "         Input read into memory.\n",
        "         Offset of 14 low-res pixels added in dispersion direction\n",
        "Order 1  Begin 16:25:39 EST\n",
        "X1DCORR  PERFORM\n"
       ]
      },
      {
       "output_type": "stream",
       "stream": "stdout",
       "text": [
        "         Cross correlation offset: -1.95199 pixels\n",
        "BACKCORR OMIT\n"
       ]
      },
      {
       "output_type": "stream",
       "stream": "stdout",
       "text": [
        "X1DCORR  COMPLETE\n",
        "2012317162539-I--------------- X1DCORR complete: OBRC010A0 ---------------------\n",
        "         Spectrum extracted at y position = 915.12\n",
        "         Extraction box height = 7\n",
        "         Background box 1 height = 5 offset 12 from A2CENTER\n",
        "         Background box 2 height = 5 offset 12 from A2CENTER\n",
        "\n",
        "DISPCORR PERFORM\n",
        "DISPTAB  oref$l2j0137to_dsp.fits\n",
        "DISPTAB  PEDIGREE=INFLIGHT 27/02/1997 24/11/1999\n",
        "DISPTAB  DESCRIP =Lindler Postlaunch, May 2000\n",
        "APDESTAB oref$obm1723ro_apd.fits\n",
        "APDESTAB PEDIGREE=INFLIGHT 01/03/1997 01/03/1997\n",
        "APDESTAB DESCRIP =Microscope Meas./Hartig Post-launch Offsets\n",
        "INANGTAB oref$h5s11397o_iac.fits\n"
       ]
      },
      {
       "output_type": "stream",
       "stream": "stdout",
       "text": [
        "         Delta = 0.074666 arcsec.\n",
        "DISPCORR COMPLETE\n",
        "2012317162539-I--------------- DISPCORR complete: OBRC010A0 --------------------\n",
        "\n",
        "HELCORR  PERFORM\n",
        "HELCORR  COMPLETE\n",
        "2012317162539-I--------------- HELCORR complete: OBRC010A0 ---------------------\n",
        "\n",
        "PHOTTAB  oref$p822207no_pht.fits\n",
        "APERTAB  oref$n7p1032ao_apt.fits\n",
        "APERTAB  PEDIGREE=MODEL\n",
        "APERTAB  DESCRIP =Bohlin/Hartig TIM Models Nov. 1998\n",
        "PCTAB    oref$q541740oo_pct.fits\n",
        "TDSTAB   oref$t9a1003so_tds.fits\n"
       ]
      },
      {
       "output_type": "stream",
       "stream": "stdout",
       "text": [
        "FLUXCORR PERFORM\n",
        "CTECORR  PERFORM\n",
        "CCDTAB   oref$v6n13233o_ccd.fits\n",
        "CCDTAB   PEDIGREE=INFLIGHT 01/05/2009 01/05/2009\n",
        "CCDTAB   DESCRIP =Proposal 8057, by I. Dashevsky & P. Goudfrooij\n"
       ]
      },
      {
       "output_type": "stream",
       "stream": "stdout",
       "text": [
        "CTECORR  COMPLETE\n",
        "FLUXCORR COMPLETE\n",
        "2012317162539-I--------------- FLUXCORR complete: OBRC010A0 --------------------\n",
        "\n",
        "SGEOCORR OMIT\n"
       ]
      },
      {
       "output_type": "stream",
       "stream": "stdout",
       "text": [
        "\n",
        "         Row 1 written to disk.\n",
        "Order 1  End 16:25:39 EST\n"
       ]
      },
      {
       "output_type": "stream",
       "stream": "stdout",
       "text": [
        "\n",
        "Imset 1  End 16:25:39 EST\n"
       ]
      },
      {
       "output_type": "stream",
       "stream": "stdout",
       "text": [
        "\n",
        "Warning  Keyword `XTRACALG' is being added to header.\n",
        "End      12-Nov-2012 16:25:39 EST\n",
        "\n",
        "*** CALSTIS-6 complete ***\n",
        "2012317162539-I--------------- CALSTIS-6 completed: OBRC010A0 ------------------\n"
       ]
      },
      {
       "output_type": "stream",
       "stream": "stdout",
       "text": [
        "\n",
        "!/usr/stsci/stsci_iraf_x/stsdas/bin.macintel/cs6.e 'obrc010a0_flt.fits' '/user/bostroem/science/12465_otfr20121109/ccd/extracted_spectra_fits/R136-SE5_loc917_3936_x1d.fits' -t -v -cte -disp -hel -flux -c 917.071714751 -r 0 -o1 12.0 -o2 12.0 -bm -bo 3 -a unweighted  -st 14.0\n"
       ]
      },
      {
       "output_type": "stream",
       "stream": "stdout",
       "text": [
        "\n",
        "*** CALSTIS-6 -- Version 2.40 (23-May-2012) ***\n",
        "Begin    12-Nov-2012 16:25:39 EST\n"
       ]
      },
      {
       "output_type": "stream",
       "stream": "stdout",
       "text": [
        "2012317162539-I--------------- CALSTIS-6 started -------------------------------\n",
        "\n",
        "Input    obrc010a0_flt.fits\n",
        "Output   /user/bostroem/science/12465_otfr20121109/ccd/extracted_spectra_fits/R136-SE5_loc917_3936_x1d.fits\n",
        "Rootname obrc010a0\n",
        "OBSMODE  ACCUM\n",
        "APERTURE 52X0.2\n",
        "OPT_ELEM G430M\n",
        "DETECTOR CCD\n"
       ]
      },
      {
       "output_type": "stream",
       "stream": "stdout",
       "text": [
        "\n",
        "XTRACTAB oref$n7p1031qo_1dx.fits\n",
        "XTRACTAB PEDIGREE=INFLIGHT 18/05/97\n",
        "XTRACTAB DESCRIP =Analysis from prop. 7094\n",
        "SPTRCTAB oref$qa31608go_1dt.fits\n",
        "\n",
        "Imset 1  Begin 16:25:39 EST\n"
       ]
      },
      {
       "output_type": "stream",
       "stream": "stdout",
       "text": [
        "         Input read into memory.\n",
        "         Offset of 14 low-res pixels added in dispersion direction\n",
        "Order 1  Begin 16:25:39 EST\n",
        "X1DCORR  PERFORM\n"
       ]
      },
      {
       "output_type": "stream",
       "stream": "stdout",
       "text": [
        "         Cross correlation offset: 0 pixels\n",
        "BACKCORR OMIT\n"
       ]
      },
      {
       "output_type": "stream",
       "stream": "stdout",
       "text": [
        "X1DCORR  COMPLETE\n",
        "2012317162539-I--------------- X1DCORR complete: OBRC010A0 ---------------------\n",
        "         Spectrum extracted at y position = 917.072\n",
        "         Extraction box height = 7\n",
        "         Background box 1 height = 5 offset 12 from A2CENTER\n",
        "         Background box 2 height = 5 offset 12 from A2CENTER\n",
        "\n",
        "DISPCORR PERFORM\n",
        "DISPTAB  oref$l2j0137to_dsp.fits\n",
        "DISPTAB  PEDIGREE=INFLIGHT 27/02/1997 24/11/1999\n",
        "DISPTAB  DESCRIP =Lindler Postlaunch, May 2000\n",
        "APDESTAB oref$obm1723ro_apd.fits\n",
        "APDESTAB PEDIGREE=INFLIGHT 01/03/1997 01/03/1997\n",
        "APDESTAB DESCRIP =Microscope Meas./Hartig Post-launch Offsets\n",
        "INANGTAB oref$h5s11397o_iac.fits\n"
       ]
      },
      {
       "output_type": "stream",
       "stream": "stdout",
       "text": [
        "         Delta = 0.074666 arcsec.\n",
        "DISPCORR COMPLETE\n",
        "2012317162539-I--------------- DISPCORR complete: OBRC010A0 --------------------\n",
        "\n",
        "HELCORR  PERFORM\n",
        "HELCORR  COMPLETE\n",
        "2012317162539-I--------------- HELCORR complete: OBRC010A0 ---------------------\n",
        "\n",
        "PHOTTAB  oref$p822207no_pht.fits\n",
        "APERTAB  oref$n7p1032ao_apt.fits\n",
        "APERTAB  PEDIGREE=MODEL\n",
        "APERTAB  DESCRIP =Bohlin/Hartig TIM Models Nov. 1998\n",
        "PCTAB    oref$q541740oo_pct.fits\n",
        "TDSTAB   oref$t9a1003so_tds.fits\n"
       ]
      },
      {
       "output_type": "stream",
       "stream": "stdout",
       "text": [
        "FLUXCORR PERFORM\n",
        "CTECORR  PERFORM\n",
        "CCDTAB   oref$v6n13233o_ccd.fits\n",
        "CCDTAB   PEDIGREE=INFLIGHT 01/05/2009 01/05/2009\n",
        "CCDTAB   DESCRIP =Proposal 8057, by I. Dashevsky & P. Goudfrooij\n"
       ]
      },
      {
       "output_type": "stream",
       "stream": "stdout",
       "text": [
        "CTECORR  COMPLETE\n",
        "FLUXCORR COMPLETE\n",
        "2012317162539-I--------------- FLUXCORR complete: OBRC010A0 --------------------\n",
        "\n",
        "SGEOCORR OMIT\n"
       ]
      },
      {
       "output_type": "stream",
       "stream": "stdout",
       "text": [
        "\n",
        "         Row 1 written to disk.\n",
        "Order 1  End 16:25:39 EST\n"
       ]
      },
      {
       "output_type": "stream",
       "stream": "stdout",
       "text": [
        "\n",
        "Imset 1  End 16:25:39 EST\n"
       ]
      },
      {
       "output_type": "stream",
       "stream": "stdout",
       "text": [
        "\n",
        "Warning  Keyword `XTRACALG' is being added to header.\n",
        "End      12-Nov-2012 16:25:39 EST\n",
        "\n",
        "*** CALSTIS-6 complete ***\n",
        "2012317162539-I--------------- CALSTIS-6 completed: OBRC010A0 ------------------\n"
       ]
      },
      {
       "output_type": "stream",
       "stream": "stdout",
       "text": [
        "\n",
        "5\n",
        "$$$$$$$$$$$$$$$$$$$$$$$$plotting$$$$$$$$$$$$$$$$$$$$$$$"
       ]
      },
      {
       "output_type": "stream",
       "stream": "stdout",
       "text": [
        "\n",
        "$$$$$$$$$$$$$$$$$$$$$$$$plotting$$$$$$$$$$$$$$$$$$$$$$$"
       ]
      },
      {
       "output_type": "stream",
       "stream": "stdout",
       "text": [
        "\n",
        "$$$$$$$$$$$$$$$$$$$$$$$$plotting$$$$$$$$$$$$$$$$$$$$$$$"
       ]
      },
      {
       "output_type": "stream",
       "stream": "stdout",
       "text": [
        "\n",
        "$$$$$$$$$$$$$$$$$$$$$$$$plotting$$$$$$$$$$$$$$$$$$$$$$$"
       ]
      },
      {
       "output_type": "stream",
       "stream": "stdout",
       "text": [
        "\n",
        "$$$$$$$$$$$$$$$$$$$$$$$$plotting$$$$$$$$$$$$$$$$$$$$$$$"
       ]
      },
      {
       "output_type": "stream",
       "stream": "stdout",
       "text": [
        "\n",
        "['obrc010j0_flt.fits', 'obrc010k0_flt.fits']"
       ]
      },
      {
       "output_type": "stream",
       "stream": "stdout",
       "text": [
        " -69.1008\n",
        "Found offset of 7"
       ]
      },
      {
       "output_type": "stream",
       "stream": "stdout",
       "text": [
        "\n",
        "#############################R136-NW1######################"
       ]
      },
      {
       "output_type": "stream",
       "stream": "stderr",
       "text": [
        "Legend does not support [<matplotlib.lines.Line2D object at 0x1116ef4d0>]\n",
        "Use proxy artist instead.\n",
        "\n",
        "http://matplotlib.sourceforge.net/users/legend_guide.html#using-proxy-artist\n",
        "\n",
        "Legend does not support [<matplotlib.lines.Line2D object at 0x11336eb90>]\n",
        "Use proxy artist instead.\n",
        "\n",
        "http://matplotlib.sourceforge.net/users/legend_guide.html#using-proxy-artist\n",
        "\n",
        "Legend does not support [<matplotlib.lines.Line2D object at 0x11212b1d0>]\n",
        "Use proxy artist instead.\n",
        "\n",
        "http://matplotlib.sourceforge.net/users/legend_guide.html#using-proxy-artist\n",
        "\n",
        "Legend does not support [<matplotlib.lines.Line2D object at 0x112729550>]\n",
        "Use proxy artist instead.\n",
        "\n",
        "http://matplotlib.sourceforge.net/users/legend_guide.html#using-proxy-artist\n",
        "\n",
        "Overwriting existing file 'R136-NW1_3936_combined_img.fits'.\n"
       ]
      },
      {
       "output_type": "stream",
       "stream": "stdout",
       "text": [
        "\n",
        "[  2.85380838e+06   5.21009397e+02  -3.74661174e+00   1.55543032e+04\n",
        "   1.63788956e+01   8.72442849e-02  -1.08245814e-04]"
       ]
      },
      {
       "output_type": "stream",
       "stream": "stdout",
       "text": [
        "\n",
        "[  6.01956274e+04   1.10168753e+01   1.25108150e+01]"
       ]
      },
      {
       "output_type": "stream",
       "stream": "stdout",
       "text": [
        "\n",
        "Less than 3 points between 16 - 17\n",
        "Less than 3 points between 31 - 32\n",
        "Less than 3 points between 40 - 42\n",
        "Less than 3 points between 73 - 75\n",
        "Less than 3 points between 121 - 122\n",
        "Less than 3 points between 131 - 132\n",
        "Less than 3 points between 179 - 180\n",
        "Less than 3 points between 184 - 185\n",
        "Less than 3 points between 191 - 192\n",
        "Less than 3 points between 200 - 201\n",
        "Less than 3 points between 261 - 262\n",
        "Less than 3 points between 336 - 337\n",
        "Less than 3 points between 468 - 469\n",
        "Less than 3 points between 478 - 479\n",
        "[  9.15487080e+04   4.81742665e+02   5.72537920e+00]\n",
        "Less than 3 points between 487 - 488\n",
        "error\n",
        "error calculating fit for 497 - 512, skipping\n",
        "[  2.78946164e+05   5.29420135e+02   5.32665286e+00]\n",
        "error"
       ]
      },
      {
       "output_type": "stream",
       "stream": "stdout",
       "text": [
        "\n",
        "error calculating fit for 612 - 616, skipping\n",
        "Less than 3 points between 623 - 624\n",
        "Less than 3 points between 634 - 635\n",
        "Less than 3 points between 751 - 752\n",
        "Less than 3 points between 875 - 876\n",
        "Less than 3 points between 881 - 882\n",
        "Less than 3 points between 883 - 884\n",
        "Less than 3 points between 902 - 903\n",
        "Less than 3 points between 918 - 919\n",
        "Less than 3 points between 932 - 933\n",
        "Less than 3 points between 935 - 936\n",
        "Less than 3 points between 954 - 955\n",
        "Less than 3 points between 958 - 959\n",
        "Less than 3 points between 972 - 973\n",
        "Less than 3 points between 978 - 979\n",
        "[  9.71796938e+04   9.82916350e+02  -8.02051788e-01]\n",
        "Less than 3 points between 986 - 987\n",
        "Less than 3 points between 990 - 991\n",
        "Less than 3 points between 993 - 994\n",
        "error\n",
        "error calculating fit for 995 - 999, skipping\n",
        "[  4.64391905e+04   1.00185082e+03   1.48537804e+00]"
       ]
      },
      {
       "output_type": "stream",
       "stream": "stdout",
       "text": [
        "\n",
        "Less than 3 points between 1007 - 1008\n",
        "Less than 3 points between 1017 - 1019\n",
        "Less than 3 points between 1026 - 1028\n",
        "[11.016875333514937, 481.74266548076474, 529.42013504172326, 982.91635030093767, 1001.8508198974513]\n",
        "yloc = 11.016875"
       ]
      },
      {
       "output_type": "stream",
       "stream": "stdout",
       "text": [
        "\n",
        "!/usr/stsci/stsci_iraf_x/stsdas/bin.macintel/cs6.e 'obrc010j0_flt.fits' '/user/bostroem/science/12465_otfr20121109/ccd/R136-NW1_loc11_3936_x1d.fits' -t -v -cte -disp -hel -flux -c 11.0168753335 -r 4 -o1 12.0 -o2 12.0 -bm -bo 3 -a unweighted  -st 14.0\n"
       ]
      },
      {
       "output_type": "stream",
       "stream": "stdout",
       "text": [
        "\n",
        "*** CALSTIS-6 -- Version 2.40 (23-May-2012) ***\n",
        "Begin    12-Nov-2012 16:25:45 EST\n"
       ]
      },
      {
       "output_type": "stream",
       "stream": "stdout",
       "text": [
        "2012317162545-I--------------- CALSTIS-6 started -------------------------------\n",
        "\n",
        "Input    obrc010j0_flt.fits\n",
        "Output   /user/bostroem/science/12465_otfr20121109/ccd/R136-NW1_loc11_3936_x1d.fits\n",
        "Rootname obrc010j0\n",
        "OBSMODE  ACCUM\n",
        "APERTURE 52X0.2\n",
        "OPT_ELEM G430M\n",
        "DETECTOR CCD\n"
       ]
      },
      {
       "output_type": "stream",
       "stream": "stdout",
       "text": [
        "\n",
        "XTRACTAB oref$n7p1031qo_1dx.fits\n",
        "XTRACTAB PEDIGREE=INFLIGHT 18/05/97\n",
        "XTRACTAB DESCRIP =Analysis from prop. 7094\n",
        "SPTRCTAB oref$qa31608go_1dt.fits\n",
        "\n",
        "Imset 1  Begin 16:25:45 EST\n"
       ]
      },
      {
       "output_type": "stream",
       "stream": "stdout",
       "text": [
        "         Input read into memory.\n",
        "         Offset of 14 low-res pixels added in dispersion direction\n",
        "Order 1  Begin 16:25:45 EST\n",
        "X1DCORR  PERFORM\n"
       ]
      },
      {
       "output_type": "stream",
       "stream": "stdout",
       "text": [
        "         Cross correlation offset: -2.83604 pixels\n",
        "BACKCORR OMIT\n"
       ]
      },
      {
       "output_type": "stream",
       "stream": "stdout",
       "text": [
        "X1DCORR  COMPLETE\n",
        "2012317162545-I--------------- X1DCORR complete: OBRC010J0 ---------------------\n",
        "         Spectrum extracted at y position = 8.18083\n",
        "         Extraction box height = 7\n",
        "         Background box 1 height = 5 offset 12 from A2CENTER\n",
        "         Background box 2 height = 5 offset 12 from A2CENTER\n",
        "\n",
        "DISPCORR PERFORM\n",
        "DISPTAB  oref$l2j0137to_dsp.fits\n",
        "DISPTAB  PEDIGREE=INFLIGHT 27/02/1997 24/11/1999\n",
        "DISPTAB  DESCRIP =Lindler Postlaunch, May 2000\n",
        "APDESTAB oref$obm1723ro_apd.fits\n",
        "APDESTAB PEDIGREE=INFLIGHT 01/03/1997 01/03/1997\n",
        "APDESTAB DESCRIP =Microscope Meas./Hartig Post-launch Offsets\n",
        "INANGTAB oref$h5s11397o_iac.fits\n"
       ]
      },
      {
       "output_type": "stream",
       "stream": "stdout",
       "text": [
        "         Delta = 0.074666 arcsec.\n",
        "DISPCORR COMPLETE\n",
        "2012317162545-I--------------- DISPCORR complete: OBRC010J0 --------------------\n",
        "\n",
        "HELCORR  PERFORM\n",
        "HELCORR  COMPLETE\n",
        "2012317162545-I--------------- HELCORR complete: OBRC010J0 ---------------------\n",
        "\n",
        "PHOTTAB  oref$p822207no_pht.fits\n",
        "APERTAB  oref$n7p1032ao_apt.fits\n",
        "APERTAB  PEDIGREE=MODEL\n",
        "APERTAB  DESCRIP =Bohlin/Hartig TIM Models Nov. 1998\n",
        "PCTAB    oref$q541740oo_pct.fits\n",
        "TDSTAB   oref$t9a1003so_tds.fits\n"
       ]
      },
      {
       "output_type": "stream",
       "stream": "stdout",
       "text": [
        "FLUXCORR PERFORM\n",
        "CTECORR  PERFORM\n",
        "CCDTAB   oref$v6n13233o_ccd.fits\n",
        "CCDTAB   PEDIGREE=INFLIGHT 01/05/2009 01/05/2009\n",
        "CCDTAB   DESCRIP =Proposal 8057, by I. Dashevsky & P. Goudfrooij\n"
       ]
      },
      {
       "output_type": "stream",
       "stream": "stdout",
       "text": [
        "CTECORR  COMPLETE\n",
        "FLUXCORR COMPLETE\n",
        "2012317162545-I--------------- FLUXCORR complete: OBRC010J0 --------------------\n",
        "\n",
        "SGEOCORR OMIT\n"
       ]
      },
      {
       "output_type": "stream",
       "stream": "stdout",
       "text": [
        "\n",
        "         Row 1 written to disk.\n",
        "Order 1  End 16:25:45 EST\n"
       ]
      },
      {
       "output_type": "stream",
       "stream": "stdout",
       "text": [
        "\n",
        "Imset 1  End 16:25:45 EST\n"
       ]
      },
      {
       "output_type": "stream",
       "stream": "stdout",
       "text": [
        "\n",
        "Warning  Keyword `XTRACALG' is being added to header.\n",
        "End      12-Nov-2012 16:25:45 EST\n",
        "\n",
        "*** CALSTIS-6 complete ***\n",
        "2012317162545-I--------------- CALSTIS-6 completed: OBRC010J0 ------------------\n"
       ]
      },
      {
       "output_type": "stream",
       "stream": "stdout",
       "text": [
        "\n",
        "!/usr/stsci/stsci_iraf_x/stsdas/bin.macintel/cs6.e 'obrc010j0_flt.fits' '/user/bostroem/science/12465_otfr20121109/ccd/extracted_spectra_fits/R136-NW1_loc11_3936_x1d.fits' -t -v -cte -disp -hel -flux -c 11.0168753335 -r 0 -o1 12.0 -o2 12.0 -bm -bo 3 -a unweighted  -st 14.0\n"
       ]
      },
      {
       "output_type": "stream",
       "stream": "stdout",
       "text": [
        "\n",
        "*** CALSTIS-6 -- Version 2.40 (23-May-2012) ***\n",
        "Begin    12-Nov-2012 16:25:45 EST\n"
       ]
      },
      {
       "output_type": "stream",
       "stream": "stdout",
       "text": [
        "2012317162545-I--------------- CALSTIS-6 started -------------------------------\n",
        "\n",
        "Input    obrc010j0_flt.fits\n",
        "Output   /user/bostroem/science/12465_otfr20121109/ccd/extracted_spectra_fits/R136-NW1_loc11_3936_x1d.fits\n",
        "Rootname obrc010j0\n",
        "OBSMODE  ACCUM\n",
        "APERTURE 52X0.2\n",
        "OPT_ELEM G430M\n",
        "DETECTOR CCD\n"
       ]
      },
      {
       "output_type": "stream",
       "stream": "stdout",
       "text": [
        "\n",
        "XTRACTAB oref$n7p1031qo_1dx.fits\n",
        "XTRACTAB PEDIGREE=INFLIGHT 18/05/97\n",
        "XTRACTAB DESCRIP =Analysis from prop. 7094\n",
        "SPTRCTAB oref$qa31608go_1dt.fits\n",
        "\n",
        "Imset 1  Begin 16:25:45 EST\n"
       ]
      },
      {
       "output_type": "stream",
       "stream": "stdout",
       "text": [
        "         Input read into memory.\n",
        "         Offset of 14 low-res pixels added in dispersion direction\n",
        "Order 1  Begin 16:25:45 EST\n",
        "X1DCORR  PERFORM\n"
       ]
      },
      {
       "output_type": "stream",
       "stream": "stdout",
       "text": [
        "         Cross correlation offset: 0 pixels\n",
        "BACKCORR OMIT\n"
       ]
      },
      {
       "output_type": "stream",
       "stream": "stdout",
       "text": [
        "X1DCORR  COMPLETE\n",
        "2012317162545-I--------------- X1DCORR complete: OBRC010J0 ---------------------\n",
        "         Spectrum extracted at y position = 11.0169\n",
        "         Extraction box height = 7\n",
        "         Background box 1 height = 5 offset 12 from A2CENTER\n",
        "         Background box 2 height = 5 offset 12 from A2CENTER\n",
        "\n",
        "DISPCORR PERFORM\n",
        "DISPTAB  oref$l2j0137to_dsp.fits\n",
        "DISPTAB  PEDIGREE=INFLIGHT 27/02/1997 24/11/1999\n",
        "DISPTAB  DESCRIP =Lindler Postlaunch, May 2000\n",
        "APDESTAB oref$obm1723ro_apd.fits\n",
        "APDESTAB PEDIGREE=INFLIGHT 01/03/1997 01/03/1997\n",
        "APDESTAB DESCRIP =Microscope Meas./Hartig Post-launch Offsets\n",
        "INANGTAB oref$h5s11397o_iac.fits\n"
       ]
      },
      {
       "output_type": "stream",
       "stream": "stdout",
       "text": [
        "         Delta = 0.074666 arcsec.\n",
        "DISPCORR COMPLETE\n",
        "2012317162545-I--------------- DISPCORR complete: OBRC010J0 --------------------\n",
        "\n",
        "HELCORR  PERFORM\n",
        "HELCORR  COMPLETE\n",
        "2012317162545-I--------------- HELCORR complete: OBRC010J0 ---------------------\n",
        "\n",
        "PHOTTAB  oref$p822207no_pht.fits\n",
        "APERTAB  oref$n7p1032ao_apt.fits\n",
        "APERTAB  PEDIGREE=MODEL\n",
        "APERTAB  DESCRIP =Bohlin/Hartig TIM Models Nov. 1998\n",
        "PCTAB    oref$q541740oo_pct.fits\n",
        "TDSTAB   oref$t9a1003so_tds.fits\n"
       ]
      },
      {
       "output_type": "stream",
       "stream": "stdout",
       "text": [
        "FLUXCORR PERFORM\n",
        "CTECORR  PERFORM\n",
        "CCDTAB   oref$v6n13233o_ccd.fits\n",
        "CCDTAB   PEDIGREE=INFLIGHT 01/05/2009 01/05/2009\n",
        "CCDTAB   DESCRIP =Proposal 8057, by I. Dashevsky & P. Goudfrooij\n"
       ]
      },
      {
       "output_type": "stream",
       "stream": "stdout",
       "text": [
        "CTECORR  COMPLETE\n",
        "FLUXCORR COMPLETE\n",
        "2012317162545-I--------------- FLUXCORR complete: OBRC010J0 --------------------\n",
        "\n",
        "SGEOCORR OMIT\n"
       ]
      },
      {
       "output_type": "stream",
       "stream": "stdout",
       "text": [
        "\n",
        "         Row 1 written to disk.\n",
        "Order 1  End 16:25:46 EST\n"
       ]
      },
      {
       "output_type": "stream",
       "stream": "stdout",
       "text": [
        "\n",
        "Imset 1  End 16:25:46 EST\n"
       ]
      },
      {
       "output_type": "stream",
       "stream": "stdout",
       "text": [
        "\n",
        "Warning  Keyword `XTRACALG' is being added to header.\n",
        "End      12-Nov-2012 16:25:46 EST\n",
        "\n",
        "*** CALSTIS-6 complete ***\n",
        "2012317162546-I--------------- CALSTIS-6 completed: OBRC010J0 ------------------\n"
       ]
      },
      {
       "output_type": "stream",
       "stream": "stdout",
       "text": [
        "\n",
        "yloc = 481.742665"
       ]
      },
      {
       "output_type": "stream",
       "stream": "stdout",
       "text": [
        "\n",
        "!/usr/stsci/stsci_iraf_x/stsdas/bin.macintel/cs6.e 'obrc010j0_flt.fits' '/user/bostroem/science/12465_otfr20121109/ccd/R136-NW1_loc481_3936_x1d.fits' -t -v -cte -disp -hel -flux -c 481.742665481 -r 4 -o1 12.0 -o2 12.0 -bm -bo 3 -a unweighted  -st 14.0\n"
       ]
      },
      {
       "output_type": "stream",
       "stream": "stdout",
       "text": [
        "\n",
        "*** CALSTIS-6 -- Version 2.40 (23-May-2012) ***\n",
        "Begin    12-Nov-2012 16:25:46 EST\n"
       ]
      },
      {
       "output_type": "stream",
       "stream": "stdout",
       "text": [
        "2012317162546-I--------------- CALSTIS-6 started -------------------------------\n",
        "\n",
        "Input    obrc010j0_flt.fits\n",
        "Output   /user/bostroem/science/12465_otfr20121109/ccd/R136-NW1_loc481_3936_x1d.fits\n",
        "Rootname obrc010j0\n",
        "OBSMODE  ACCUM\n",
        "APERTURE 52X0.2\n",
        "OPT_ELEM G430M\n",
        "DETECTOR CCD\n"
       ]
      },
      {
       "output_type": "stream",
       "stream": "stdout",
       "text": [
        "\n",
        "XTRACTAB oref$n7p1031qo_1dx.fits\n",
        "XTRACTAB PEDIGREE=INFLIGHT 18/05/97\n",
        "XTRACTAB DESCRIP =Analysis from prop. 7094\n",
        "SPTRCTAB oref$qa31608go_1dt.fits\n",
        "\n",
        "Imset 1  Begin 16:25:46 EST\n"
       ]
      },
      {
       "output_type": "stream",
       "stream": "stdout",
       "text": [
        "         Input read into memory.\n",
        "         Offset of 14 low-res pixels added in dispersion direction\n",
        "Order 1  Begin 16:25:46 EST\n",
        "X1DCORR  PERFORM\n"
       ]
      },
      {
       "output_type": "stream",
       "stream": "stdout",
       "text": [
        "Warning  Cross correlation to locate spectrum failed.\n",
        "ERROR    Cannot extract.\n",
        "Warning  No rows were written; no table created.\n",
        "Imset 1  End 16:25:46 EST\n",
        "\n",
        "End      12-Nov-2012 16:25:46 EST\n",
        "\n",
        "*** CALSTIS-6 complete ***\n",
        "2012317162546-I--------------- CALSTIS-6 completed: OBRC010J0 ------------------\n"
       ]
      },
      {
       "output_type": "stream",
       "stream": "stdout",
       "text": [
        "\n",
        "!/usr/stsci/stsci_iraf_x/stsdas/bin.macintel/cs6.e 'obrc010j0_flt.fits' '/user/bostroem/science/12465_otfr20121109/ccd/extracted_spectra_fits/R136-NW1_loc481_3936_x1d.fits' -t -v -cte -disp -hel -flux -c 481.742665481 -r 0 -o1 12.0 -o2 12.0 -bm -bo 3 -a unweighted  -st 14.0\n"
       ]
      },
      {
       "output_type": "stream",
       "stream": "stdout",
       "text": [
        "\n",
        "*** CALSTIS-6 -- Version 2.40 (23-May-2012) ***\n",
        "Begin    12-Nov-2012 16:25:46 EST\n"
       ]
      },
      {
       "output_type": "stream",
       "stream": "stdout",
       "text": [
        "2012317162546-I--------------- CALSTIS-6 started -------------------------------\n",
        "\n",
        "Input    obrc010j0_flt.fits\n",
        "Output   /user/bostroem/science/12465_otfr20121109/ccd/extracted_spectra_fits/R136-NW1_loc481_3936_x1d.fits\n",
        "Rootname obrc010j0\n",
        "OBSMODE  ACCUM\n",
        "APERTURE 52X0.2\n",
        "OPT_ELEM G430M\n",
        "DETECTOR CCD\n"
       ]
      },
      {
       "output_type": "stream",
       "stream": "stdout",
       "text": [
        "\n",
        "XTRACTAB oref$n7p1031qo_1dx.fits\n",
        "XTRACTAB PEDIGREE=INFLIGHT 18/05/97\n",
        "XTRACTAB DESCRIP =Analysis from prop. 7094\n",
        "SPTRCTAB oref$qa31608go_1dt.fits\n",
        "\n",
        "Imset 1  Begin 16:25:46 EST\n"
       ]
      },
      {
       "output_type": "stream",
       "stream": "stdout",
       "text": [
        "         Input read into memory.\n",
        "         Offset of 14 low-res pixels added in dispersion direction\n",
        "Order 1  Begin 16:25:47 EST\n",
        "X1DCORR  PERFORM\n"
       ]
      },
      {
       "output_type": "stream",
       "stream": "stdout",
       "text": [
        "         Cross correlation offset: 0 pixels\n",
        "BACKCORR OMIT\n"
       ]
      },
      {
       "output_type": "stream",
       "stream": "stdout",
       "text": [
        "X1DCORR  COMPLETE\n",
        "2012317162547-I--------------- X1DCORR complete: OBRC010J0 ---------------------\n",
        "         Spectrum extracted at y position = 481.743\n",
        "         Extraction box height = 7\n",
        "         Background box 1 height = 5 offset 12 from A2CENTER\n",
        "         Background box 2 height = 5 offset 12 from A2CENTER\n",
        "\n",
        "DISPCORR PERFORM\n",
        "DISPTAB  oref$l2j0137to_dsp.fits\n",
        "DISPTAB  PEDIGREE=INFLIGHT 27/02/1997 24/11/1999\n",
        "DISPTAB  DESCRIP =Lindler Postlaunch, May 2000\n",
        "APDESTAB oref$obm1723ro_apd.fits\n",
        "APDESTAB PEDIGREE=INFLIGHT 01/03/1997 01/03/1997\n",
        "APDESTAB DESCRIP =Microscope Meas./Hartig Post-launch Offsets\n",
        "INANGTAB oref$h5s11397o_iac.fits\n"
       ]
      },
      {
       "output_type": "stream",
       "stream": "stdout",
       "text": [
        "         Delta = 0.074666 arcsec.\n",
        "DISPCORR COMPLETE\n",
        "2012317162547-I--------------- DISPCORR complete: OBRC010J0 --------------------\n",
        "\n",
        "HELCORR  PERFORM\n",
        "HELCORR  COMPLETE\n",
        "2012317162547-I--------------- HELCORR complete: OBRC010J0 ---------------------\n",
        "\n",
        "PHOTTAB  oref$p822207no_pht.fits\n",
        "APERTAB  oref$n7p1032ao_apt.fits\n",
        "APERTAB  PEDIGREE=MODEL\n",
        "APERTAB  DESCRIP =Bohlin/Hartig TIM Models Nov. 1998\n",
        "PCTAB    oref$q541740oo_pct.fits\n",
        "TDSTAB   oref$t9a1003so_tds.fits\n"
       ]
      },
      {
       "output_type": "stream",
       "stream": "stdout",
       "text": [
        "FLUXCORR PERFORM\n",
        "CTECORR  PERFORM\n",
        "CCDTAB   oref$v6n13233o_ccd.fits\n",
        "CCDTAB   PEDIGREE=INFLIGHT 01/05/2009 01/05/2009\n",
        "CCDTAB   DESCRIP =Proposal 8057, by I. Dashevsky & P. Goudfrooij\n"
       ]
      },
      {
       "output_type": "stream",
       "stream": "stdout",
       "text": [
        "CTECORR  COMPLETE\n",
        "FLUXCORR COMPLETE\n",
        "2012317162547-I--------------- FLUXCORR complete: OBRC010J0 --------------------\n",
        "\n",
        "SGEOCORR OMIT\n"
       ]
      },
      {
       "output_type": "stream",
       "stream": "stdout",
       "text": [
        "\n",
        "         Row 1 written to disk.\n",
        "Order 1  End 16:25:47 EST\n"
       ]
      },
      {
       "output_type": "stream",
       "stream": "stdout",
       "text": [
        "\n",
        "Imset 1  End 16:25:47 EST\n"
       ]
      },
      {
       "output_type": "stream",
       "stream": "stdout",
       "text": [
        "\n",
        "Warning  Keyword `XTRACALG' is being added to header.\n",
        "End      12-Nov-2012 16:25:47 EST\n",
        "\n",
        "*** CALSTIS-6 complete ***\n",
        "2012317162547-I--------------- CALSTIS-6 completed: OBRC010J0 ------------------\n"
       ]
      },
      {
       "output_type": "stream",
       "stream": "stdout",
       "text": [
        "\n",
        "yloc = 529.420135"
       ]
      },
      {
       "output_type": "stream",
       "stream": "stdout",
       "text": [
        "\n",
        "!/usr/stsci/stsci_iraf_x/stsdas/bin.macintel/cs6.e 'obrc010j0_flt.fits' '/user/bostroem/science/12465_otfr20121109/ccd/R136-NW1_loc529_3936_x1d.fits' -t -v -cte -disp -hel -flux -c 529.420135042 -r 4 -o1 12.0 -o2 12.0 -bm -bo 3 -a unweighted  -st 14.0\n"
       ]
      },
      {
       "output_type": "stream",
       "stream": "stdout",
       "text": [
        "\n",
        "*** CALSTIS-6 -- Version 2.40 (23-May-2012) ***\n",
        "Begin    12-Nov-2012 16:25:47 EST\n"
       ]
      },
      {
       "output_type": "stream",
       "stream": "stdout",
       "text": [
        "2012317162547-I--------------- CALSTIS-6 started -------------------------------\n",
        "\n",
        "Input    obrc010j0_flt.fits\n",
        "Output   /user/bostroem/science/12465_otfr20121109/ccd/R136-NW1_loc529_3936_x1d.fits\n",
        "Rootname obrc010j0\n",
        "OBSMODE  ACCUM\n",
        "APERTURE 52X0.2\n",
        "OPT_ELEM G430M\n",
        "DETECTOR CCD\n"
       ]
      },
      {
       "output_type": "stream",
       "stream": "stdout",
       "text": [
        "\n",
        "XTRACTAB oref$n7p1031qo_1dx.fits\n",
        "XTRACTAB PEDIGREE=INFLIGHT 18/05/97\n",
        "XTRACTAB DESCRIP =Analysis from prop. 7094\n",
        "SPTRCTAB oref$qa31608go_1dt.fits\n",
        "\n",
        "Imset 1  Begin 16:25:47 EST\n"
       ]
      },
      {
       "output_type": "stream",
       "stream": "stdout",
       "text": [
        "         Input read into memory.\n",
        "         Offset of 14 low-res pixels added in dispersion direction\n",
        "Order 1  Begin 16:25:47 EST\n",
        "X1DCORR  PERFORM\n"
       ]
      },
      {
       "output_type": "stream",
       "stream": "stdout",
       "text": [
        "Warning  Cross correlation to locate spectrum failed.\n",
        "ERROR    Cannot extract.\n",
        "Warning  No rows were written; no table created.\n",
        "Imset 1  End 16:25:47 EST\n",
        "\n",
        "End      12-Nov-2012 16:25:47 EST\n",
        "\n",
        "*** CALSTIS-6 complete ***\n",
        "2012317162547-I--------------- CALSTIS-6 completed: OBRC010J0 ------------------\n"
       ]
      },
      {
       "output_type": "stream",
       "stream": "stdout",
       "text": [
        "\n",
        "!/usr/stsci/stsci_iraf_x/stsdas/bin.macintel/cs6.e 'obrc010j0_flt.fits' '/user/bostroem/science/12465_otfr20121109/ccd/extracted_spectra_fits/R136-NW1_loc529_3936_x1d.fits' -t -v -cte -disp -hel -flux -c 529.420135042 -r 0 -o1 12.0 -o2 12.0 -bm -bo 3 -a unweighted  -st 14.0\n"
       ]
      },
      {
       "output_type": "stream",
       "stream": "stdout",
       "text": [
        "\n",
        "*** CALSTIS-6 -- Version 2.40 (23-May-2012) ***\n",
        "Begin    12-Nov-2012 16:25:47 EST\n"
       ]
      },
      {
       "output_type": "stream",
       "stream": "stdout",
       "text": [
        "2012317162547-I--------------- CALSTIS-6 started -------------------------------\n",
        "\n",
        "Input    obrc010j0_flt.fits\n",
        "Output   /user/bostroem/science/12465_otfr20121109/ccd/extracted_spectra_fits/R136-NW1_loc529_3936_x1d.fits\n",
        "Rootname obrc010j0\n",
        "OBSMODE  ACCUM\n",
        "APERTURE 52X0.2\n",
        "OPT_ELEM G430M\n",
        "DETECTOR CCD\n"
       ]
      },
      {
       "output_type": "stream",
       "stream": "stdout",
       "text": [
        "\n",
        "XTRACTAB oref$n7p1031qo_1dx.fits\n",
        "XTRACTAB PEDIGREE=INFLIGHT 18/05/97\n",
        "XTRACTAB DESCRIP =Analysis from prop. 7094\n",
        "SPTRCTAB oref$qa31608go_1dt.fits\n",
        "\n",
        "Imset 1  Begin 16:25:48 EST\n"
       ]
      },
      {
       "output_type": "stream",
       "stream": "stdout",
       "text": [
        "         Input read into memory.\n",
        "         Offset of 14 low-res pixels added in dispersion direction\n",
        "Order 1  Begin 16:25:48 EST\n",
        "X1DCORR  PERFORM\n"
       ]
      },
      {
       "output_type": "stream",
       "stream": "stdout",
       "text": [
        "         Cross correlation offset: 0 pixels\n",
        "BACKCORR OMIT\n"
       ]
      },
      {
       "output_type": "stream",
       "stream": "stdout",
       "text": [
        "X1DCORR  COMPLETE\n",
        "2012317162548-I--------------- X1DCORR complete: OBRC010J0 ---------------------\n",
        "         Spectrum extracted at y position = 529.42\n",
        "         Extraction box height = 7\n",
        "         Background box 1 height = 5 offset 12 from A2CENTER\n",
        "         Background box 2 height = 5 offset 12 from A2CENTER\n",
        "\n",
        "DISPCORR PERFORM\n",
        "DISPTAB  oref$l2j0137to_dsp.fits\n",
        "DISPTAB  PEDIGREE=INFLIGHT 27/02/1997 24/11/1999\n",
        "DISPTAB  DESCRIP =Lindler Postlaunch, May 2000\n",
        "APDESTAB oref$obm1723ro_apd.fits\n",
        "APDESTAB PEDIGREE=INFLIGHT 01/03/1997 01/03/1997\n",
        "APDESTAB DESCRIP =Microscope Meas./Hartig Post-launch Offsets\n",
        "INANGTAB oref$h5s11397o_iac.fits\n"
       ]
      },
      {
       "output_type": "stream",
       "stream": "stdout",
       "text": [
        "         Delta = 0.074666 arcsec.\n",
        "DISPCORR COMPLETE\n",
        "2012317162548-I--------------- DISPCORR complete: OBRC010J0 --------------------\n",
        "\n",
        "HELCORR  PERFORM\n",
        "HELCORR  COMPLETE\n",
        "2012317162548-I--------------- HELCORR complete: OBRC010J0 ---------------------\n",
        "\n",
        "PHOTTAB  oref$p822207no_pht.fits\n",
        "APERTAB  oref$n7p1032ao_apt.fits\n",
        "APERTAB  PEDIGREE=MODEL\n",
        "APERTAB  DESCRIP =Bohlin/Hartig TIM Models Nov. 1998\n",
        "PCTAB    oref$q541740oo_pct.fits\n",
        "TDSTAB   oref$t9a1003so_tds.fits\n"
       ]
      },
      {
       "output_type": "stream",
       "stream": "stdout",
       "text": [
        "FLUXCORR PERFORM\n",
        "CTECORR  PERFORM\n",
        "CCDTAB   oref$v6n13233o_ccd.fits\n",
        "CCDTAB   PEDIGREE=INFLIGHT 01/05/2009 01/05/2009\n",
        "CCDTAB   DESCRIP =Proposal 8057, by I. Dashevsky & P. Goudfrooij\n"
       ]
      },
      {
       "output_type": "stream",
       "stream": "stdout",
       "text": [
        "CTECORR  COMPLETE\n",
        "FLUXCORR COMPLETE\n",
        "2012317162548-I--------------- FLUXCORR complete: OBRC010J0 --------------------\n",
        "\n",
        "SGEOCORR OMIT\n"
       ]
      },
      {
       "output_type": "stream",
       "stream": "stdout",
       "text": [
        "\n",
        "         Row 1 written to disk.\n",
        "Order 1  End 16:25:48 EST\n"
       ]
      },
      {
       "output_type": "stream",
       "stream": "stdout",
       "text": [
        "\n",
        "Imset 1  End 16:25:48 EST\n"
       ]
      },
      {
       "output_type": "stream",
       "stream": "stdout",
       "text": [
        "\n",
        "Warning  Keyword `XTRACALG' is being added to header.\n",
        "End      12-Nov-2012 16:25:48 EST\n",
        "\n",
        "*** CALSTIS-6 complete ***\n",
        "2012317162548-I--------------- CALSTIS-6 completed: OBRC010J0 ------------------\n"
       ]
      },
      {
       "output_type": "stream",
       "stream": "stdout",
       "text": [
        "\n",
        "yloc = 982.916350"
       ]
      },
      {
       "output_type": "stream",
       "stream": "stdout",
       "text": [
        "\n",
        "!/usr/stsci/stsci_iraf_x/stsdas/bin.macintel/cs6.e 'obrc010j0_flt.fits' '/user/bostroem/science/12465_otfr20121109/ccd/R136-NW1_loc982_3936_x1d.fits' -t -v -cte -disp -hel -flux -c 982.916350301 -r 4 -o1 12.0 -o2 12.0 -bm -bo 3 -a unweighted  -st 14.0\n"
       ]
      },
      {
       "output_type": "stream",
       "stream": "stdout",
       "text": [
        "\n",
        "*** CALSTIS-6 -- Version 2.40 (23-May-2012) ***\n",
        "Begin    12-Nov-2012 16:25:48 EST\n"
       ]
      },
      {
       "output_type": "stream",
       "stream": "stdout",
       "text": [
        "2012317162548-I--------------- CALSTIS-6 started -------------------------------\n",
        "\n",
        "Input    obrc010j0_flt.fits\n",
        "Output   /user/bostroem/science/12465_otfr20121109/ccd/R136-NW1_loc982_3936_x1d.fits\n",
        "Rootname obrc010j0\n",
        "OBSMODE  ACCUM\n",
        "APERTURE 52X0.2\n",
        "OPT_ELEM G430M\n",
        "DETECTOR CCD\n"
       ]
      },
      {
       "output_type": "stream",
       "stream": "stdout",
       "text": [
        "\n",
        "XTRACTAB oref$n7p1031qo_1dx.fits\n",
        "XTRACTAB PEDIGREE=INFLIGHT 18/05/97\n",
        "XTRACTAB DESCRIP =Analysis from prop. 7094\n",
        "SPTRCTAB oref$qa31608go_1dt.fits\n",
        "\n",
        "Imset 1  Begin 16:25:48 EST\n"
       ]
      },
      {
       "output_type": "stream",
       "stream": "stdout",
       "text": [
        "         Input read into memory.\n",
        "         Offset of 14 low-res pixels added in dispersion direction\n",
        "Order 1  Begin 16:25:48 EST\n",
        "X1DCORR  PERFORM\n"
       ]
      },
      {
       "output_type": "stream",
       "stream": "stdout",
       "text": [
        "         Cross correlation offset: -2.81982 pixels\n",
        "BACKCORR OMIT\n"
       ]
      },
      {
       "output_type": "stream",
       "stream": "stdout",
       "text": [
        "X1DCORR  COMPLETE\n",
        "2012317162548-I--------------- X1DCORR complete: OBRC010J0 ---------------------\n",
        "         Spectrum extracted at y position = 980.097\n",
        "         Extraction box height = 7\n",
        "         Background box 1 height = 5 offset 12 from A2CENTER\n",
        "         Background box 2 height = 5 offset 12 from A2CENTER\n",
        "\n",
        "DISPCORR PERFORM\n",
        "DISPTAB  oref$l2j0137to_dsp.fits\n",
        "DISPTAB  PEDIGREE=INFLIGHT 27/02/1997 24/11/1999\n",
        "DISPTAB  DESCRIP =Lindler Postlaunch, May 2000\n",
        "APDESTAB oref$obm1723ro_apd.fits\n",
        "APDESTAB PEDIGREE=INFLIGHT 01/03/1997 01/03/1997\n",
        "APDESTAB DESCRIP =Microscope Meas./Hartig Post-launch Offsets\n",
        "INANGTAB oref$h5s11397o_iac.fits\n"
       ]
      },
      {
       "output_type": "stream",
       "stream": "stdout",
       "text": [
        "         Delta = 0.074666 arcsec.\n",
        "DISPCORR COMPLETE\n",
        "2012317162548-I--------------- DISPCORR complete: OBRC010J0 --------------------\n",
        "\n",
        "HELCORR  PERFORM\n",
        "HELCORR  COMPLETE\n",
        "2012317162548-I--------------- HELCORR complete: OBRC010J0 ---------------------\n",
        "\n",
        "PHOTTAB  oref$p822207no_pht.fits\n",
        "APERTAB  oref$n7p1032ao_apt.fits\n",
        "APERTAB  PEDIGREE=MODEL\n",
        "APERTAB  DESCRIP =Bohlin/Hartig TIM Models Nov. 1998\n",
        "PCTAB    oref$q541740oo_pct.fits\n",
        "TDSTAB   oref$t9a1003so_tds.fits\n"
       ]
      },
      {
       "output_type": "stream",
       "stream": "stdout",
       "text": [
        "FLUXCORR PERFORM\n",
        "CTECORR  PERFORM\n",
        "CCDTAB   oref$v6n13233o_ccd.fits\n",
        "CCDTAB   PEDIGREE=INFLIGHT 01/05/2009 01/05/2009\n",
        "CCDTAB   DESCRIP =Proposal 8057, by I. Dashevsky & P. Goudfrooij\n"
       ]
      },
      {
       "output_type": "stream",
       "stream": "stdout",
       "text": [
        "CTECORR  COMPLETE\n",
        "FLUXCORR COMPLETE\n",
        "2012317162548-I--------------- FLUXCORR complete: OBRC010J0 --------------------\n",
        "\n",
        "SGEOCORR OMIT\n"
       ]
      },
      {
       "output_type": "stream",
       "stream": "stdout",
       "text": [
        "\n",
        "         Row 1 written to disk.\n",
        "Order 1  End 16:25:48 EST\n"
       ]
      },
      {
       "output_type": "stream",
       "stream": "stdout",
       "text": [
        "\n",
        "Imset 1  End 16:25:48 EST\n"
       ]
      },
      {
       "output_type": "stream",
       "stream": "stdout",
       "text": [
        "\n",
        "Warning  Keyword `XTRACALG' is being added to header.\n",
        "End      12-Nov-2012 16:25:48 EST\n",
        "\n",
        "*** CALSTIS-6 complete ***\n",
        "2012317162548-I--------------- CALSTIS-6 completed: OBRC010J0 ------------------\n"
       ]
      },
      {
       "output_type": "stream",
       "stream": "stdout",
       "text": [
        "\n",
        "!/usr/stsci/stsci_iraf_x/stsdas/bin.macintel/cs6.e 'obrc010j0_flt.fits' '/user/bostroem/science/12465_otfr20121109/ccd/extracted_spectra_fits/R136-NW1_loc982_3936_x1d.fits' -t -v -cte -disp -hel -flux -c 982.916350301 -r 0 -o1 12.0 -o2 12.0 -bm -bo 3 -a unweighted  -st 14.0\n"
       ]
      },
      {
       "output_type": "stream",
       "stream": "stdout",
       "text": [
        "\n",
        "*** CALSTIS-6 -- Version 2.40 (23-May-2012) ***\n",
        "Begin    12-Nov-2012 16:25:49 EST\n"
       ]
      },
      {
       "output_type": "stream",
       "stream": "stdout",
       "text": [
        "2012317162549-I--------------- CALSTIS-6 started -------------------------------\n",
        "\n",
        "Input    obrc010j0_flt.fits\n",
        "Output   /user/bostroem/science/12465_otfr20121109/ccd/extracted_spectra_fits/R136-NW1_loc982_3936_x1d.fits\n",
        "Rootname obrc010j0\n",
        "OBSMODE  ACCUM\n",
        "APERTURE 52X0.2\n",
        "OPT_ELEM G430M\n",
        "DETECTOR CCD\n"
       ]
      },
      {
       "output_type": "stream",
       "stream": "stdout",
       "text": [
        "\n",
        "XTRACTAB oref$n7p1031qo_1dx.fits\n",
        "XTRACTAB PEDIGREE=INFLIGHT 18/05/97\n",
        "XTRACTAB DESCRIP =Analysis from prop. 7094\n",
        "SPTRCTAB oref$qa31608go_1dt.fits\n",
        "\n",
        "Imset 1  Begin 16:25:49 EST\n"
       ]
      },
      {
       "output_type": "stream",
       "stream": "stdout",
       "text": [
        "         Input read into memory.\n",
        "         Offset of 14 low-res pixels added in dispersion direction\n",
        "Order 1  Begin 16:25:49 EST\n",
        "X1DCORR  PERFORM\n"
       ]
      },
      {
       "output_type": "stream",
       "stream": "stdout",
       "text": [
        "         Cross correlation offset: 0 pixels\n",
        "BACKCORR OMIT\n"
       ]
      },
      {
       "output_type": "stream",
       "stream": "stdout",
       "text": [
        "X1DCORR  COMPLETE\n",
        "2012317162549-I--------------- X1DCORR complete: OBRC010J0 ---------------------\n",
        "         Spectrum extracted at y position = 982.916\n",
        "         Extraction box height = 7\n",
        "         Background box 1 height = 5 offset 12 from A2CENTER\n",
        "         Background box 2 height = 5 offset 12 from A2CENTER\n",
        "\n",
        "DISPCORR PERFORM\n",
        "DISPTAB  oref$l2j0137to_dsp.fits\n",
        "DISPTAB  PEDIGREE=INFLIGHT 27/02/1997 24/11/1999\n",
        "DISPTAB  DESCRIP =Lindler Postlaunch, May 2000\n",
        "APDESTAB oref$obm1723ro_apd.fits\n",
        "APDESTAB PEDIGREE=INFLIGHT 01/03/1997 01/03/1997\n",
        "APDESTAB DESCRIP =Microscope Meas./Hartig Post-launch Offsets\n",
        "INANGTAB oref$h5s11397o_iac.fits\n"
       ]
      },
      {
       "output_type": "stream",
       "stream": "stdout",
       "text": [
        "         Delta = 0.074666 arcsec.\n",
        "DISPCORR COMPLETE\n",
        "2012317162549-I--------------- DISPCORR complete: OBRC010J0 --------------------\n",
        "\n",
        "HELCORR  PERFORM\n",
        "HELCORR  COMPLETE\n",
        "2012317162549-I--------------- HELCORR complete: OBRC010J0 ---------------------\n",
        "\n",
        "PHOTTAB  oref$p822207no_pht.fits\n",
        "APERTAB  oref$n7p1032ao_apt.fits\n",
        "APERTAB  PEDIGREE=MODEL\n",
        "APERTAB  DESCRIP =Bohlin/Hartig TIM Models Nov. 1998\n",
        "PCTAB    oref$q541740oo_pct.fits\n",
        "TDSTAB   oref$t9a1003so_tds.fits\n"
       ]
      },
      {
       "output_type": "stream",
       "stream": "stdout",
       "text": [
        "FLUXCORR PERFORM\n",
        "CTECORR  PERFORM\n",
        "CCDTAB   oref$v6n13233o_ccd.fits\n",
        "CCDTAB   PEDIGREE=INFLIGHT 01/05/2009 01/05/2009\n",
        "CCDTAB   DESCRIP =Proposal 8057, by I. Dashevsky & P. Goudfrooij\n"
       ]
      },
      {
       "output_type": "stream",
       "stream": "stdout",
       "text": [
        "CTECORR  COMPLETE\n",
        "FLUXCORR COMPLETE\n",
        "2012317162549-I--------------- FLUXCORR complete: OBRC010J0 --------------------\n",
        "\n",
        "SGEOCORR OMIT\n"
       ]
      },
      {
       "output_type": "stream",
       "stream": "stdout",
       "text": [
        "\n",
        "         Row 1 written to disk.\n",
        "Order 1  End 16:25:49 EST\n"
       ]
      },
      {
       "output_type": "stream",
       "stream": "stdout",
       "text": [
        "\n",
        "Imset 1  End 16:25:49 EST\n"
       ]
      },
      {
       "output_type": "stream",
       "stream": "stdout",
       "text": [
        "\n",
        "Warning  Keyword `XTRACALG' is being added to header.\n",
        "End      12-Nov-2012 16:25:49 EST\n",
        "\n",
        "*** CALSTIS-6 complete ***\n",
        "2012317162549-I--------------- CALSTIS-6 completed: OBRC010J0 ------------------\n"
       ]
      },
      {
       "output_type": "stream",
       "stream": "stdout",
       "text": [
        "\n",
        "yloc = 1001.850820"
       ]
      },
      {
       "output_type": "stream",
       "stream": "stdout",
       "text": [
        "\n",
        "!/usr/stsci/stsci_iraf_x/stsdas/bin.macintel/cs6.e 'obrc010j0_flt.fits' '/user/bostroem/science/12465_otfr20121109/ccd/R136-NW1_loc1001_3936_x1d.fits' -t -v -cte -disp -hel -flux -c 1001.8508199 -r 4 -o1 12.0 -o2 12.0 -bm -bo 3 -a unweighted  -st 14.0\n"
       ]
      },
      {
       "output_type": "stream",
       "stream": "stdout",
       "text": [
        "\n",
        "*** CALSTIS-6 -- Version 2.40 (23-May-2012) ***\n",
        "Begin    12-Nov-2012 16:25:49 EST\n"
       ]
      },
      {
       "output_type": "stream",
       "stream": "stdout",
       "text": [
        "2012317162549-I--------------- CALSTIS-6 started -------------------------------\n",
        "\n",
        "Input    obrc010j0_flt.fits\n",
        "Output   /user/bostroem/science/12465_otfr20121109/ccd/R136-NW1_loc1001_3936_x1d.fits\n",
        "Rootname obrc010j0\n",
        "OBSMODE  ACCUM\n",
        "APERTURE 52X0.2\n",
        "OPT_ELEM G430M\n",
        "DETECTOR CCD\n"
       ]
      },
      {
       "output_type": "stream",
       "stream": "stdout",
       "text": [
        "\n",
        "XTRACTAB oref$n7p1031qo_1dx.fits\n",
        "XTRACTAB PEDIGREE=INFLIGHT 18/05/97\n",
        "XTRACTAB DESCRIP =Analysis from prop. 7094\n",
        "SPTRCTAB oref$qa31608go_1dt.fits\n",
        "\n",
        "Imset 1  Begin 16:25:49 EST\n"
       ]
      },
      {
       "output_type": "stream",
       "stream": "stdout",
       "text": [
        "         Input read into memory.\n",
        "         Offset of 14 low-res pixels added in dispersion direction\n",
        "Order 1  Begin 16:25:49 EST\n",
        "X1DCORR  PERFORM\n"
       ]
      },
      {
       "output_type": "stream",
       "stream": "stdout",
       "text": [
        "         Cross correlation offset: 2.21612 pixels\n",
        "BACKCORR OMIT\n"
       ]
      },
      {
       "output_type": "stream",
       "stream": "stdout",
       "text": [
        "X1DCORR  COMPLETE\n",
        "2012317162549-I--------------- X1DCORR complete: OBRC010J0 ---------------------\n",
        "         Spectrum extracted at y position = 1004.07\n",
        "         Extraction box height = 7\n",
        "         Background box 1 height = 5 offset 12 from A2CENTER\n",
        "         Background box 2 height = 5 offset 12 from A2CENTER\n",
        "\n",
        "DISPCORR PERFORM\n",
        "DISPTAB  oref$l2j0137to_dsp.fits\n",
        "DISPTAB  PEDIGREE=INFLIGHT 27/02/1997 24/11/1999\n",
        "DISPTAB  DESCRIP =Lindler Postlaunch, May 2000\n",
        "APDESTAB oref$obm1723ro_apd.fits\n",
        "APDESTAB PEDIGREE=INFLIGHT 01/03/1997 01/03/1997\n",
        "APDESTAB DESCRIP =Microscope Meas./Hartig Post-launch Offsets\n",
        "INANGTAB oref$h5s11397o_iac.fits\n"
       ]
      },
      {
       "output_type": "stream",
       "stream": "stdout",
       "text": [
        "         Delta = 0.074666 arcsec.\n",
        "DISPCORR COMPLETE\n",
        "2012317162549-I--------------- DISPCORR complete: OBRC010J0 --------------------\n",
        "\n",
        "HELCORR  PERFORM\n",
        "HELCORR  COMPLETE\n",
        "2012317162549-I--------------- HELCORR complete: OBRC010J0 ---------------------\n",
        "\n",
        "PHOTTAB  oref$p822207no_pht.fits\n",
        "APERTAB  oref$n7p1032ao_apt.fits\n",
        "APERTAB  PEDIGREE=MODEL\n",
        "APERTAB  DESCRIP =Bohlin/Hartig TIM Models Nov. 1998\n",
        "PCTAB    oref$q541740oo_pct.fits\n",
        "TDSTAB   oref$t9a1003so_tds.fits\n"
       ]
      },
      {
       "output_type": "stream",
       "stream": "stdout",
       "text": [
        "FLUXCORR PERFORM\n",
        "CTECORR  PERFORM\n",
        "CCDTAB   oref$v6n13233o_ccd.fits\n",
        "CCDTAB   PEDIGREE=INFLIGHT 01/05/2009 01/05/2009\n",
        "CCDTAB   DESCRIP =Proposal 8057, by I. Dashevsky & P. Goudfrooij\n"
       ]
      },
      {
       "output_type": "stream",
       "stream": "stdout",
       "text": [
        "CTECORR  COMPLETE\n",
        "FLUXCORR COMPLETE\n",
        "2012317162549-I--------------- FLUXCORR complete: OBRC010J0 --------------------\n",
        "\n",
        "SGEOCORR OMIT\n"
       ]
      },
      {
       "output_type": "stream",
       "stream": "stdout",
       "text": [
        "\n",
        "         Row 1 written to disk.\n",
        "Order 1  End 16:25:49 EST\n"
       ]
      },
      {
       "output_type": "stream",
       "stream": "stdout",
       "text": [
        "\n",
        "Imset 1  End 16:25:49 EST\n"
       ]
      },
      {
       "output_type": "stream",
       "stream": "stdout",
       "text": [
        "\n",
        "Warning  Keyword `XTRACALG' is being added to header.\n",
        "End      12-Nov-2012 16:25:49 EST\n",
        "\n",
        "*** CALSTIS-6 complete ***\n",
        "2012317162549-I--------------- CALSTIS-6 completed: OBRC010J0 ------------------\n"
       ]
      },
      {
       "output_type": "stream",
       "stream": "stdout",
       "text": [
        "\n",
        "!/usr/stsci/stsci_iraf_x/stsdas/bin.macintel/cs6.e 'obrc010j0_flt.fits' '/user/bostroem/science/12465_otfr20121109/ccd/extracted_spectra_fits/R136-NW1_loc1001_3936_x1d.fits' -t -v -cte -disp -hel -flux -c 1001.8508199 -r 0 -o1 12.0 -o2 12.0 -bm -bo 3 -a unweighted  -st 14.0\n"
       ]
      },
      {
       "output_type": "stream",
       "stream": "stdout",
       "text": [
        "\n",
        "*** CALSTIS-6 -- Version 2.40 (23-May-2012) ***\n",
        "Begin    12-Nov-2012 16:25:50 EST\n"
       ]
      },
      {
       "output_type": "stream",
       "stream": "stdout",
       "text": [
        "2012317162550-I--------------- CALSTIS-6 started -------------------------------\n",
        "\n",
        "Input    obrc010j0_flt.fits\n",
        "Output   /user/bostroem/science/12465_otfr20121109/ccd/extracted_spectra_fits/R136-NW1_loc1001_3936_x1d.fits\n",
        "Rootname obrc010j0\n",
        "OBSMODE  ACCUM\n",
        "APERTURE 52X0.2\n",
        "OPT_ELEM G430M\n",
        "DETECTOR CCD\n"
       ]
      },
      {
       "output_type": "stream",
       "stream": "stdout",
       "text": [
        "\n",
        "XTRACTAB oref$n7p1031qo_1dx.fits\n",
        "XTRACTAB PEDIGREE=INFLIGHT 18/05/97\n",
        "XTRACTAB DESCRIP =Analysis from prop. 7094\n",
        "SPTRCTAB oref$qa31608go_1dt.fits\n",
        "\n",
        "Imset 1  Begin 16:25:50 EST\n"
       ]
      },
      {
       "output_type": "stream",
       "stream": "stdout",
       "text": [
        "         Input read into memory.\n",
        "         Offset of 14 low-res pixels added in dispersion direction\n",
        "Order 1  Begin 16:25:50 EST\n",
        "X1DCORR  PERFORM\n"
       ]
      },
      {
       "output_type": "stream",
       "stream": "stdout",
       "text": [
        "         Cross correlation offset: 0 pixels\n",
        "BACKCORR OMIT\n"
       ]
      },
      {
       "output_type": "stream",
       "stream": "stdout",
       "text": [
        "X1DCORR  COMPLETE\n",
        "2012317162550-I--------------- X1DCORR complete: OBRC010J0 ---------------------\n",
        "         Spectrum extracted at y position = 1001.85\n",
        "         Extraction box height = 7\n",
        "         Background box 1 height = 5 offset 12 from A2CENTER\n",
        "         Background box 2 height = 5 offset 12 from A2CENTER\n",
        "\n",
        "DISPCORR PERFORM\n",
        "DISPTAB  oref$l2j0137to_dsp.fits\n",
        "DISPTAB  PEDIGREE=INFLIGHT 27/02/1997 24/11/1999\n",
        "DISPTAB  DESCRIP =Lindler Postlaunch, May 2000\n",
        "APDESTAB oref$obm1723ro_apd.fits\n",
        "APDESTAB PEDIGREE=INFLIGHT 01/03/1997 01/03/1997\n",
        "APDESTAB DESCRIP =Microscope Meas./Hartig Post-launch Offsets\n",
        "INANGTAB oref$h5s11397o_iac.fits\n"
       ]
      },
      {
       "output_type": "stream",
       "stream": "stdout",
       "text": [
        "         Delta = 0.074666 arcsec.\n",
        "DISPCORR COMPLETE\n",
        "2012317162550-I--------------- DISPCORR complete: OBRC010J0 --------------------\n",
        "\n",
        "HELCORR  PERFORM\n",
        "HELCORR  COMPLETE\n",
        "2012317162550-I--------------- HELCORR complete: OBRC010J0 ---------------------\n",
        "\n",
        "PHOTTAB  oref$p822207no_pht.fits\n",
        "APERTAB  oref$n7p1032ao_apt.fits\n",
        "APERTAB  PEDIGREE=MODEL\n",
        "APERTAB  DESCRIP =Bohlin/Hartig TIM Models Nov. 1998\n",
        "PCTAB    oref$q541740oo_pct.fits\n",
        "TDSTAB   oref$t9a1003so_tds.fits\n"
       ]
      },
      {
       "output_type": "stream",
       "stream": "stdout",
       "text": [
        "FLUXCORR PERFORM\n",
        "CTECORR  PERFORM\n",
        "CCDTAB   oref$v6n13233o_ccd.fits\n",
        "CCDTAB   PEDIGREE=INFLIGHT 01/05/2009 01/05/2009\n",
        "CCDTAB   DESCRIP =Proposal 8057, by I. Dashevsky & P. Goudfrooij\n"
       ]
      },
      {
       "output_type": "stream",
       "stream": "stdout",
       "text": [
        "CTECORR  COMPLETE\n",
        "FLUXCORR COMPLETE\n",
        "2012317162550-I--------------- FLUXCORR complete: OBRC010J0 --------------------\n",
        "\n",
        "SGEOCORR OMIT\n"
       ]
      },
      {
       "output_type": "stream",
       "stream": "stdout",
       "text": [
        "\n",
        "         Row 1 written to disk.\n",
        "Order 1  End 16:25:50 EST\n"
       ]
      },
      {
       "output_type": "stream",
       "stream": "stdout",
       "text": [
        "\n",
        "Imset 1  End 16:25:50 EST\n"
       ]
      },
      {
       "output_type": "stream",
       "stream": "stdout",
       "text": [
        "\n",
        "Warning  Keyword `XTRACALG' is being added to header.\n",
        "End      12-Nov-2012 16:25:50 EST\n",
        "\n",
        "*** CALSTIS-6 complete ***\n",
        "2012317162550-I--------------- CALSTIS-6 completed: OBRC010J0 ------------------\n"
       ]
      },
      {
       "output_type": "stream",
       "stream": "stdout",
       "text": [
        "\n",
        "5\n",
        "$$$$$$$$$$$$$$$$$$$$$$$$plotting$$$$$$$$$$$$$$$$$$$$$$$"
       ]
      },
      {
       "output_type": "stream",
       "stream": "stdout",
       "text": [
        "\n",
        "$$$$$$$$$$$$$$$$$$$$$$$$plotting$$$$$$$$$$$$$$$$$$$$$$$"
       ]
      },
      {
       "output_type": "stream",
       "stream": "stdout",
       "text": [
        "\n",
        "$$$$$$$$$$$$$$$$$$$$$$$$plotting$$$$$$$$$$$$$$$$$$$$$$$"
       ]
      },
      {
       "output_type": "stream",
       "stream": "stdout",
       "text": [
        "\n",
        "$$$$$$$$$$$$$$$$$$$$$$$$plotting$$$$$$$$$$$$$$$$$$$$$$$"
       ]
      },
      {
       "output_type": "stream",
       "stream": "stdout",
       "text": [
        "\n",
        "$$$$$$$$$$$$$$$$$$$$$$$$plotting$$$$$$$$$$$$$$$$$$$$$$$"
       ]
      },
      {
       "output_type": "stream",
       "stream": "stdout",
       "text": [
        "\n",
        "['obrc01010_flt.fits', 'obrc01020_flt.fits']"
       ]
      },
      {
       "output_type": "stream",
       "stream": "stdout",
       "text": [
        " -69.10125\n",
        "Found offset of 7"
       ]
      },
      {
       "output_type": "stream",
       "stream": "stdout",
       "text": [
        "\n",
        "#############################R136-SE9######################"
       ]
      },
      {
       "output_type": "stream",
       "stream": "stderr",
       "text": [
        "Legend does not support [<matplotlib.lines.Line2D object at 0x112720c90>]\n",
        "Use proxy artist instead.\n",
        "\n",
        "http://matplotlib.sourceforge.net/users/legend_guide.html#using-proxy-artist\n",
        "\n",
        "Legend does not support [<matplotlib.lines.Line2D object at 0x11269c690>]\n",
        "Use proxy artist instead.\n",
        "\n",
        "http://matplotlib.sourceforge.net/users/legend_guide.html#using-proxy-artist\n",
        "\n",
        "Legend does not support [<matplotlib.lines.Line2D object at 0x112660bd0>]\n",
        "Use proxy artist instead.\n",
        "\n",
        "http://matplotlib.sourceforge.net/users/legend_guide.html#using-proxy-artist\n",
        "\n",
        "Legend does not support [<matplotlib.lines.Line2D object at 0x1126173d0>]\n",
        "Use proxy artist instead.\n",
        "\n",
        "http://matplotlib.sourceforge.net/users/legend_guide.html#using-proxy-artist\n",
        "\n",
        "Overwriting existing file 'R136-SE9_3936_combined_img.fits'.\n"
       ]
      },
      {
       "output_type": "stream",
       "stream": "stdout",
       "text": [
        "\n",
        "error"
       ]
      },
      {
       "output_type": "stream",
       "stream": "stdout",
       "text": [
        "\n",
        "Less than 3 points between 11 - 13"
       ]
      },
      {
       "output_type": "stream",
       "stream": "stdout",
       "text": [
        "\n",
        "Less than 3 points between 20 - 22\n",
        "Less than 3 points between 31 - 32\n",
        "Less than 3 points between 33 - 35\n",
        "Less than 3 points between 41 - 42\n",
        "Less than 3 points between 54 - 55\n",
        "Less than 3 points between 73 - 74\n",
        "Less than 3 points between 85 - 86\n",
        "Less than 3 points between 88 - 89\n",
        "Less than 3 points between 90 - 92\n",
        "Less than 3 points between 106 - 107\n",
        "Less than 3 points between 115 - 116\n",
        "Less than 3 points between 124 - 125\n",
        "Less than 3 points between 139 - 140\n",
        "Less than 3 points between 187 - 188\n",
        "Less than 3 points between 194 - 195\n",
        "Less than 3 points between 203 - 204\n",
        "Less than 3 points between 210 - 211\n",
        "Less than 3 points between 214 - 215\n",
        "Less than 3 points between 236 - 237\n",
        "Less than 3 points between 248 - 249\n",
        "Less than 3 points between 268 - 269\n",
        "Less than 3 points between 302 - 303\n",
        "Less than 3 points between 304 - 305\n",
        "Less than 3 points between 321 - 322\n",
        "Less than 3 points between 331 - 332\n",
        "[  7.41691794e+04   3.37502175e+02   5.09392794e+00]\n",
        "Less than 3 points between 342 - 343\n",
        "Less than 3 points between 363 - 365\n",
        "Less than 3 points between 386 - 387\n",
        "Less than 3 points between 388 - 389\n",
        "Less than 3 points between 393 - 394\n",
        "Less than 3 points between 395 - 396\n",
        "Less than 3 points between 404 - 405\n",
        "[  6.51880932e+04   5.45223247e+02   6.22220961e+00]\n",
        "Less than 3 points between 555 - 557\n",
        "Less than 3 points between 570 - 571\n",
        "Less than 3 points between 574 - 575\n",
        "Less than 3 points between 581 - 582\n",
        "[  7.70079285e+04   6.30015483e+02   8.44007199e+00]\n",
        "Less than 3 points between 653 - 654\n",
        "Less than 3 points between 698 - 699\n",
        "Less than 3 points between 723 - 724\n",
        "Less than 3 points between 730 - 731\n",
        "Less than 3 points between 740 - 741\n",
        "Less than 3 points between 752 - 753\n",
        "Less than 3 points between 754 - 755\n",
        "Less than 3 points between 761 - 762\n",
        "Less than 3 points between 773 - 774\n",
        "Less than 3 points between 836 - 837\n",
        "Less than 3 points between 843 - 844\n",
        "Less than 3 points between 862 - 863\n",
        "Less than 3 points between 875 - 877\n",
        "Less than 3 points between 883 - 884\n",
        "Less than 3 points between 905 - 906\n",
        "Less than 3 points between 912 - 913\n",
        "Less than 3 points between 942 - 943\n",
        "Less than 3 points between 991 - 992\n",
        "Less than 3 points between 1005 - 1006\n",
        "Less than 3 points between 1007 - 1009\n",
        "[  5.32585813e+04   1.02063501e+03   2.94051566e+00]\n",
        "[  4.92268272e+04   1.02560363e+03   3.00176657e+00]\n",
        "[337.50217484833547, 545.22324671206468, 630.01548261161327, 1020.635008583068, 1025.6036341459755]\n",
        "yloc = 337.502175"
       ]
      },
      {
       "output_type": "stream",
       "stream": "stdout",
       "text": [
        "\n",
        "!/usr/stsci/stsci_iraf_x/stsdas/bin.macintel/cs6.e 'obrc01010_flt.fits' '/user/bostroem/science/12465_otfr20121109/ccd/R136-SE9_loc337_3936_x1d.fits' -t -v -cte -disp -hel -flux -c 337.502174848 -r 4 -o1 12.0 -o2 12.0 -bm -bo 3 -a unweighted  -st 14.0\n"
       ]
      },
      {
       "output_type": "stream",
       "stream": "stdout",
       "text": [
        "\n",
        "*** CALSTIS-6 -- Version 2.40 (23-May-2012) ***\n",
        "Begin    12-Nov-2012 16:25:56 EST\n"
       ]
      },
      {
       "output_type": "stream",
       "stream": "stdout",
       "text": [
        "2012317162556-I--------------- CALSTIS-6 started -------------------------------\n",
        "\n",
        "Input    obrc01010_flt.fits\n",
        "Output   /user/bostroem/science/12465_otfr20121109/ccd/R136-SE9_loc337_3936_x1d.fits\n",
        "Rootname obrc01010\n",
        "OBSMODE  ACCUM\n",
        "APERTURE 52X0.2\n",
        "OPT_ELEM G430M\n",
        "DETECTOR CCD\n"
       ]
      },
      {
       "output_type": "stream",
       "stream": "stdout",
       "text": [
        "\n",
        "XTRACTAB oref$n7p1031qo_1dx.fits\n",
        "XTRACTAB PEDIGREE=INFLIGHT 18/05/97\n",
        "XTRACTAB DESCRIP =Analysis from prop. 7094\n",
        "SPTRCTAB oref$qa31608go_1dt.fits\n",
        "\n",
        "Imset 1  Begin 16:25:56 EST\n"
       ]
      },
      {
       "output_type": "stream",
       "stream": "stdout",
       "text": [
        "         Input read into memory.\n",
        "         Offset of 14 low-res pixels added in dispersion direction\n",
        "Order 1  Begin 16:25:56 EST\n",
        "X1DCORR  PERFORM\n"
       ]
      },
      {
       "output_type": "stream",
       "stream": "stdout",
       "text": [
        "         Cross correlation offset: 2.14645 pixels\n",
        "BACKCORR OMIT\n"
       ]
      },
      {
       "output_type": "stream",
       "stream": "stdout",
       "text": [
        "X1DCORR  COMPLETE\n",
        "2012317162556-I--------------- X1DCORR complete: OBRC01010 ---------------------\n",
        "         Spectrum extracted at y position = 339.649\n",
        "         Extraction box height = 7\n",
        "         Background box 1 height = 5 offset 12 from A2CENTER\n",
        "         Background box 2 height = 5 offset 12 from A2CENTER\n",
        "\n",
        "DISPCORR PERFORM\n",
        "DISPTAB  oref$l2j0137to_dsp.fits\n",
        "DISPTAB  PEDIGREE=INFLIGHT 27/02/1997 24/11/1999\n",
        "DISPTAB  DESCRIP =Lindler Postlaunch, May 2000\n",
        "APDESTAB oref$obm1723ro_apd.fits\n",
        "APDESTAB PEDIGREE=INFLIGHT 01/03/1997 01/03/1997\n",
        "APDESTAB DESCRIP =Microscope Meas./Hartig Post-launch Offsets\n",
        "INANGTAB oref$h5s11397o_iac.fits\n"
       ]
      },
      {
       "output_type": "stream",
       "stream": "stdout",
       "text": [
        "         Delta = 0.074666 arcsec.\n",
        "DISPCORR COMPLETE\n",
        "2012317162556-I--------------- DISPCORR complete: OBRC01010 --------------------\n",
        "\n",
        "HELCORR  PERFORM\n",
        "HELCORR  COMPLETE\n",
        "2012317162556-I--------------- HELCORR complete: OBRC01010 ---------------------\n",
        "\n",
        "PHOTTAB  oref$p822207no_pht.fits\n",
        "APERTAB  oref$n7p1032ao_apt.fits\n",
        "APERTAB  PEDIGREE=MODEL\n",
        "APERTAB  DESCRIP =Bohlin/Hartig TIM Models Nov. 1998\n",
        "PCTAB    oref$q541740oo_pct.fits\n",
        "TDSTAB   oref$t9a1003so_tds.fits\n"
       ]
      },
      {
       "output_type": "stream",
       "stream": "stdout",
       "text": [
        "FLUXCORR PERFORM\n",
        "CTECORR  PERFORM\n",
        "CCDTAB   oref$v6n13233o_ccd.fits\n",
        "CCDTAB   PEDIGREE=INFLIGHT 01/05/2009 01/05/2009\n",
        "CCDTAB   DESCRIP =Proposal 8057, by I. Dashevsky & P. Goudfrooij\n"
       ]
      },
      {
       "output_type": "stream",
       "stream": "stdout",
       "text": [
        "CTECORR  COMPLETE\n",
        "FLUXCORR COMPLETE\n",
        "2012317162556-I--------------- FLUXCORR complete: OBRC01010 --------------------\n",
        "\n",
        "SGEOCORR OMIT\n"
       ]
      },
      {
       "output_type": "stream",
       "stream": "stdout",
       "text": [
        "\n",
        "         Row 1 written to disk.\n",
        "Order 1  End 16:25:56 EST\n"
       ]
      },
      {
       "output_type": "stream",
       "stream": "stdout",
       "text": [
        "\n",
        "Imset 1  End 16:25:56 EST\n"
       ]
      },
      {
       "output_type": "stream",
       "stream": "stdout",
       "text": [
        "\n",
        "Warning  Keyword `XTRACALG' is being added to header.\n",
        "End      12-Nov-2012 16:25:56 EST\n",
        "\n",
        "*** CALSTIS-6 complete ***\n",
        "2012317162556-I--------------- CALSTIS-6 completed: OBRC01010 ------------------\n"
       ]
      },
      {
       "output_type": "stream",
       "stream": "stdout",
       "text": [
        "\n",
        "!/usr/stsci/stsci_iraf_x/stsdas/bin.macintel/cs6.e 'obrc01010_flt.fits' '/user/bostroem/science/12465_otfr20121109/ccd/extracted_spectra_fits/R136-SE9_loc337_3936_x1d.fits' -t -v -cte -disp -hel -flux -c 337.502174848 -r 0 -o1 12.0 -o2 12.0 -bm -bo 3 -a unweighted  -st 14.0\n"
       ]
      },
      {
       "output_type": "stream",
       "stream": "stdout",
       "text": [
        "\n",
        "*** CALSTIS-6 -- Version 2.40 (23-May-2012) ***\n",
        "Begin    12-Nov-2012 16:25:57 EST\n"
       ]
      },
      {
       "output_type": "stream",
       "stream": "stdout",
       "text": [
        "2012317162557-I--------------- CALSTIS-6 started -------------------------------\n",
        "\n",
        "Input    obrc01010_flt.fits\n",
        "Output   /user/bostroem/science/12465_otfr20121109/ccd/extracted_spectra_fits/R136-SE9_loc337_3936_x1d.fits\n",
        "Rootname obrc01010\n",
        "OBSMODE  ACCUM\n",
        "APERTURE 52X0.2\n",
        "OPT_ELEM G430M\n",
        "DETECTOR CCD\n"
       ]
      },
      {
       "output_type": "stream",
       "stream": "stdout",
       "text": [
        "\n",
        "XTRACTAB oref$n7p1031qo_1dx.fits\n",
        "XTRACTAB PEDIGREE=INFLIGHT 18/05/97\n",
        "XTRACTAB DESCRIP =Analysis from prop. 7094\n",
        "SPTRCTAB oref$qa31608go_1dt.fits\n",
        "\n",
        "Imset 1  Begin 16:25:57 EST\n"
       ]
      },
      {
       "output_type": "stream",
       "stream": "stdout",
       "text": [
        "         Input read into memory.\n",
        "         Offset of 14 low-res pixels added in dispersion direction\n",
        "Order 1  Begin 16:25:57 EST\n",
        "X1DCORR  PERFORM\n"
       ]
      },
      {
       "output_type": "stream",
       "stream": "stdout",
       "text": [
        "         Cross correlation offset: 0 pixels\n",
        "BACKCORR OMIT\n"
       ]
      },
      {
       "output_type": "stream",
       "stream": "stdout",
       "text": [
        "X1DCORR  COMPLETE\n",
        "2012317162557-I--------------- X1DCORR complete: OBRC01010 ---------------------\n",
        "         Spectrum extracted at y position = 337.502\n",
        "         Extraction box height = 7\n",
        "         Background box 1 height = 5 offset 12 from A2CENTER\n",
        "         Background box 2 height = 5 offset 12 from A2CENTER\n",
        "\n",
        "DISPCORR PERFORM\n",
        "DISPTAB  oref$l2j0137to_dsp.fits\n",
        "DISPTAB  PEDIGREE=INFLIGHT 27/02/1997 24/11/1999\n",
        "DISPTAB  DESCRIP =Lindler Postlaunch, May 2000\n",
        "APDESTAB oref$obm1723ro_apd.fits\n",
        "APDESTAB PEDIGREE=INFLIGHT 01/03/1997 01/03/1997\n",
        "APDESTAB DESCRIP =Microscope Meas./Hartig Post-launch Offsets\n",
        "INANGTAB oref$h5s11397o_iac.fits\n"
       ]
      },
      {
       "output_type": "stream",
       "stream": "stdout",
       "text": [
        "         Delta = 0.074666 arcsec.\n",
        "DISPCORR COMPLETE\n",
        "2012317162557-I--------------- DISPCORR complete: OBRC01010 --------------------\n",
        "\n",
        "HELCORR  PERFORM\n",
        "HELCORR  COMPLETE\n",
        "2012317162557-I--------------- HELCORR complete: OBRC01010 ---------------------\n",
        "\n",
        "PHOTTAB  oref$p822207no_pht.fits\n",
        "APERTAB  oref$n7p1032ao_apt.fits\n",
        "APERTAB  PEDIGREE=MODEL\n",
        "APERTAB  DESCRIP =Bohlin/Hartig TIM Models Nov. 1998\n",
        "PCTAB    oref$q541740oo_pct.fits\n",
        "TDSTAB   oref$t9a1003so_tds.fits\n"
       ]
      },
      {
       "output_type": "stream",
       "stream": "stdout",
       "text": [
        "FLUXCORR PERFORM\n",
        "CTECORR  PERFORM\n",
        "CCDTAB   oref$v6n13233o_ccd.fits\n",
        "CCDTAB   PEDIGREE=INFLIGHT 01/05/2009 01/05/2009\n",
        "CCDTAB   DESCRIP =Proposal 8057, by I. Dashevsky & P. Goudfrooij\n"
       ]
      },
      {
       "output_type": "stream",
       "stream": "stdout",
       "text": [
        "CTECORR  COMPLETE\n",
        "FLUXCORR COMPLETE\n",
        "2012317162557-I--------------- FLUXCORR complete: OBRC01010 --------------------\n",
        "\n",
        "SGEOCORR OMIT\n"
       ]
      },
      {
       "output_type": "stream",
       "stream": "stdout",
       "text": [
        "\n",
        "         Row 1 written to disk.\n",
        "Order 1  End 16:25:57 EST\n"
       ]
      },
      {
       "output_type": "stream",
       "stream": "stdout",
       "text": [
        "\n",
        "Imset 1  End 16:25:57 EST\n"
       ]
      },
      {
       "output_type": "stream",
       "stream": "stdout",
       "text": [
        "\n",
        "Warning  Keyword `XTRACALG' is being added to header.\n",
        "End      12-Nov-2012 16:25:57 EST\n",
        "\n",
        "*** CALSTIS-6 complete ***\n",
        "2012317162557-I--------------- CALSTIS-6 completed: OBRC01010 ------------------\n"
       ]
      },
      {
       "output_type": "stream",
       "stream": "stdout",
       "text": [
        "\n",
        "yloc = 545.223247"
       ]
      },
      {
       "output_type": "stream",
       "stream": "stdout",
       "text": [
        "\n",
        "!/usr/stsci/stsci_iraf_x/stsdas/bin.macintel/cs6.e 'obrc01010_flt.fits' '/user/bostroem/science/12465_otfr20121109/ccd/R136-SE9_loc545_3936_x1d.fits' -t -v -cte -disp -hel -flux -c 545.223246712 -r 4 -o1 12.0 -o2 12.0 -bm -bo 3 -a unweighted  -st 14.0\n"
       ]
      },
      {
       "output_type": "stream",
       "stream": "stdout",
       "text": [
        "\n",
        "*** CALSTIS-6 -- Version 2.40 (23-May-2012) ***\n",
        "Begin    12-Nov-2012 16:25:57 EST\n"
       ]
      },
      {
       "output_type": "stream",
       "stream": "stdout",
       "text": [
        "2012317162557-I--------------- CALSTIS-6 started -------------------------------\n",
        "\n",
        "Input    obrc01010_flt.fits\n",
        "Output   /user/bostroem/science/12465_otfr20121109/ccd/R136-SE9_loc545_3936_x1d.fits\n",
        "Rootname obrc01010\n",
        "OBSMODE  ACCUM\n",
        "APERTURE 52X0.2\n",
        "OPT_ELEM G430M\n",
        "DETECTOR CCD\n"
       ]
      },
      {
       "output_type": "stream",
       "stream": "stdout",
       "text": [
        "\n",
        "XTRACTAB oref$n7p1031qo_1dx.fits\n",
        "XTRACTAB PEDIGREE=INFLIGHT 18/05/97\n",
        "XTRACTAB DESCRIP =Analysis from prop. 7094\n",
        "SPTRCTAB oref$qa31608go_1dt.fits\n",
        "\n",
        "Imset 1  Begin 16:25:57 EST\n"
       ]
      },
      {
       "output_type": "stream",
       "stream": "stdout",
       "text": [
        "         Input read into memory.\n",
        "         Offset of 14 low-res pixels added in dispersion direction\n",
        "Order 1  Begin 16:25:58 EST\n",
        "X1DCORR  PERFORM\n"
       ]
      },
      {
       "output_type": "stream",
       "stream": "stdout",
       "text": [
        "Warning  Cross correlation to locate spectrum failed.\n",
        "ERROR    Cannot extract.\n",
        "Warning  No rows were written; no table created.\n",
        "Imset 1  End 16:25:58 EST\n",
        "\n",
        "End      12-Nov-2012 16:25:58 EST\n",
        "\n",
        "*** CALSTIS-6 complete ***\n",
        "2012317162558-I--------------- CALSTIS-6 completed: OBRC01010 ------------------\n"
       ]
      },
      {
       "output_type": "stream",
       "stream": "stdout",
       "text": [
        "\n",
        "!/usr/stsci/stsci_iraf_x/stsdas/bin.macintel/cs6.e 'obrc01010_flt.fits' '/user/bostroem/science/12465_otfr20121109/ccd/extracted_spectra_fits/R136-SE9_loc545_3936_x1d.fits' -t -v -cte -disp -hel -flux -c 545.223246712 -r 0 -o1 12.0 -o2 12.0 -bm -bo 3 -a unweighted  -st 14.0\n"
       ]
      },
      {
       "output_type": "stream",
       "stream": "stdout",
       "text": [
        "\n",
        "*** CALSTIS-6 -- Version 2.40 (23-May-2012) ***\n",
        "Begin    12-Nov-2012 16:25:58 EST\n"
       ]
      },
      {
       "output_type": "stream",
       "stream": "stdout",
       "text": [
        "2012317162558-I--------------- CALSTIS-6 started -------------------------------\n",
        "\n",
        "Input    obrc01010_flt.fits\n",
        "Output   /user/bostroem/science/12465_otfr20121109/ccd/extracted_spectra_fits/R136-SE9_loc545_3936_x1d.fits\n",
        "Rootname obrc01010\n",
        "OBSMODE  ACCUM\n",
        "APERTURE 52X0.2\n",
        "OPT_ELEM G430M\n",
        "DETECTOR CCD\n"
       ]
      },
      {
       "output_type": "stream",
       "stream": "stdout",
       "text": [
        "\n",
        "XTRACTAB oref$n7p1031qo_1dx.fits\n",
        "XTRACTAB PEDIGREE=INFLIGHT 18/05/97\n",
        "XTRACTAB DESCRIP =Analysis from prop. 7094\n",
        "SPTRCTAB oref$qa31608go_1dt.fits\n",
        "\n",
        "Imset 1  Begin 16:25:58 EST\n"
       ]
      },
      {
       "output_type": "stream",
       "stream": "stdout",
       "text": [
        "         Input read into memory.\n",
        "         Offset of 14 low-res pixels added in dispersion direction\n",
        "Order 1  Begin 16:25:58 EST\n",
        "X1DCORR  PERFORM\n"
       ]
      },
      {
       "output_type": "stream",
       "stream": "stdout",
       "text": [
        "         Cross correlation offset: 0 pixels\n",
        "BACKCORR OMIT\n"
       ]
      },
      {
       "output_type": "stream",
       "stream": "stdout",
       "text": [
        "X1DCORR  COMPLETE\n",
        "2012317162558-I--------------- X1DCORR complete: OBRC01010 ---------------------\n",
        "         Spectrum extracted at y position = 545.223\n",
        "         Extraction box height = 7\n",
        "         Background box 1 height = 5 offset 12 from A2CENTER\n",
        "         Background box 2 height = 5 offset 12 from A2CENTER\n",
        "\n",
        "DISPCORR PERFORM\n",
        "DISPTAB  oref$l2j0137to_dsp.fits\n",
        "DISPTAB  PEDIGREE=INFLIGHT 27/02/1997 24/11/1999\n",
        "DISPTAB  DESCRIP =Lindler Postlaunch, May 2000\n",
        "APDESTAB oref$obm1723ro_apd.fits\n",
        "APDESTAB PEDIGREE=INFLIGHT 01/03/1997 01/03/1997\n",
        "APDESTAB DESCRIP =Microscope Meas./Hartig Post-launch Offsets\n",
        "INANGTAB oref$h5s11397o_iac.fits\n"
       ]
      },
      {
       "output_type": "stream",
       "stream": "stdout",
       "text": [
        "         Delta = 0.074666 arcsec.\n",
        "DISPCORR COMPLETE\n",
        "2012317162558-I--------------- DISPCORR complete: OBRC01010 --------------------\n",
        "\n",
        "HELCORR  PERFORM\n",
        "HELCORR  COMPLETE\n",
        "2012317162558-I--------------- HELCORR complete: OBRC01010 ---------------------\n",
        "\n",
        "PHOTTAB  oref$p822207no_pht.fits\n",
        "APERTAB  oref$n7p1032ao_apt.fits\n",
        "APERTAB  PEDIGREE=MODEL\n",
        "APERTAB  DESCRIP =Bohlin/Hartig TIM Models Nov. 1998\n",
        "PCTAB    oref$q541740oo_pct.fits\n",
        "TDSTAB   oref$t9a1003so_tds.fits\n"
       ]
      },
      {
       "output_type": "stream",
       "stream": "stdout",
       "text": [
        "FLUXCORR PERFORM\n",
        "CTECORR  PERFORM\n",
        "CCDTAB   oref$v6n13233o_ccd.fits\n",
        "CCDTAB   PEDIGREE=INFLIGHT 01/05/2009 01/05/2009\n",
        "CCDTAB   DESCRIP =Proposal 8057, by I. Dashevsky & P. Goudfrooij\n"
       ]
      },
      {
       "output_type": "stream",
       "stream": "stdout",
       "text": [
        "CTECORR  COMPLETE\n",
        "FLUXCORR COMPLETE\n",
        "2012317162558-I--------------- FLUXCORR complete: OBRC01010 --------------------\n",
        "\n",
        "SGEOCORR OMIT\n"
       ]
      },
      {
       "output_type": "stream",
       "stream": "stdout",
       "text": [
        "\n",
        "         Row 1 written to disk.\n",
        "Order 1  End 16:25:58 EST\n"
       ]
      },
      {
       "output_type": "stream",
       "stream": "stdout",
       "text": [
        "\n",
        "Imset 1  End 16:25:58 EST\n"
       ]
      },
      {
       "output_type": "stream",
       "stream": "stdout",
       "text": [
        "\n",
        "Warning  Keyword `XTRACALG' is being added to header.\n",
        "End      12-Nov-2012 16:25:58 EST\n",
        "\n",
        "*** CALSTIS-6 complete ***\n",
        "2012317162558-I--------------- CALSTIS-6 completed: OBRC01010 ------------------\n"
       ]
      },
      {
       "output_type": "stream",
       "stream": "stdout",
       "text": [
        "\n",
        "yloc = 630.015483"
       ]
      },
      {
       "output_type": "stream",
       "stream": "stdout",
       "text": [
        "\n",
        "!/usr/stsci/stsci_iraf_x/stsdas/bin.macintel/cs6.e 'obrc01010_flt.fits' '/user/bostroem/science/12465_otfr20121109/ccd/R136-SE9_loc630_3936_x1d.fits' -t -v -cte -disp -hel -flux -c 630.015482612 -r 4 -o1 12.0 -o2 12.0 -bm -bo 3 -a unweighted  -st 14.0\n"
       ]
      },
      {
       "output_type": "stream",
       "stream": "stdout",
       "text": [
        "\n",
        "*** CALSTIS-6 -- Version 2.40 (23-May-2012) ***\n",
        "Begin    12-Nov-2012 16:25:58 EST\n"
       ]
      },
      {
       "output_type": "stream",
       "stream": "stdout",
       "text": [
        "2012317162558-I--------------- CALSTIS-6 started -------------------------------\n",
        "\n",
        "Input    obrc01010_flt.fits\n",
        "Output   /user/bostroem/science/12465_otfr20121109/ccd/R136-SE9_loc630_3936_x1d.fits\n",
        "Rootname obrc01010\n",
        "OBSMODE  ACCUM\n",
        "APERTURE 52X0.2\n",
        "OPT_ELEM G430M\n",
        "DETECTOR CCD\n"
       ]
      },
      {
       "output_type": "stream",
       "stream": "stdout",
       "text": [
        "\n",
        "XTRACTAB oref$n7p1031qo_1dx.fits\n",
        "XTRACTAB PEDIGREE=INFLIGHT 18/05/97\n",
        "XTRACTAB DESCRIP =Analysis from prop. 7094\n",
        "SPTRCTAB oref$qa31608go_1dt.fits\n",
        "\n",
        "Imset 1  Begin 16:25:59 EST\n"
       ]
      },
      {
       "output_type": "stream",
       "stream": "stdout",
       "text": [
        "         Input read into memory.\n",
        "         Offset of 14 low-res pixels added in dispersion direction\n",
        "Order 1  Begin 16:25:59 EST\n",
        "X1DCORR  PERFORM\n"
       ]
      },
      {
       "output_type": "stream",
       "stream": "stdout",
       "text": [
        "Warning  Cross correlation to locate spectrum failed.\n",
        "ERROR    Cannot extract.\n",
        "Warning  No rows were written; no table created.\n",
        "Imset 1  End 16:25:59 EST\n",
        "\n",
        "End      12-Nov-2012 16:25:59 EST\n",
        "\n",
        "*** CALSTIS-6 complete ***\n",
        "2012317162559-I--------------- CALSTIS-6 completed: OBRC01010 ------------------\n"
       ]
      },
      {
       "output_type": "stream",
       "stream": "stdout",
       "text": [
        "\n",
        "!/usr/stsci/stsci_iraf_x/stsdas/bin.macintel/cs6.e 'obrc01010_flt.fits' '/user/bostroem/science/12465_otfr20121109/ccd/extracted_spectra_fits/R136-SE9_loc630_3936_x1d.fits' -t -v -cte -disp -hel -flux -c 630.015482612 -r 0 -o1 12.0 -o2 12.0 -bm -bo 3 -a unweighted  -st 14.0\n"
       ]
      },
      {
       "output_type": "stream",
       "stream": "stdout",
       "text": [
        "\n",
        "*** CALSTIS-6 -- Version 2.40 (23-May-2012) ***\n",
        "Begin    12-Nov-2012 16:25:59 EST\n"
       ]
      },
      {
       "output_type": "stream",
       "stream": "stdout",
       "text": [
        "2012317162559-I--------------- CALSTIS-6 started -------------------------------\n",
        "\n",
        "Input    obrc01010_flt.fits\n",
        "Output   /user/bostroem/science/12465_otfr20121109/ccd/extracted_spectra_fits/R136-SE9_loc630_3936_x1d.fits\n",
        "Rootname obrc01010\n",
        "OBSMODE  ACCUM\n",
        "APERTURE 52X0.2\n",
        "OPT_ELEM G430M\n",
        "DETECTOR CCD\n"
       ]
      },
      {
       "output_type": "stream",
       "stream": "stdout",
       "text": [
        "\n",
        "XTRACTAB oref$n7p1031qo_1dx.fits\n",
        "XTRACTAB PEDIGREE=INFLIGHT 18/05/97\n",
        "XTRACTAB DESCRIP =Analysis from prop. 7094\n",
        "SPTRCTAB oref$qa31608go_1dt.fits\n",
        "\n",
        "Imset 1  Begin 16:25:59 EST\n"
       ]
      },
      {
       "output_type": "stream",
       "stream": "stdout",
       "text": [
        "         Input read into memory.\n",
        "         Offset of 14 low-res pixels added in dispersion direction\n",
        "Order 1  Begin 16:25:59 EST\n",
        "X1DCORR  PERFORM\n"
       ]
      },
      {
       "output_type": "stream",
       "stream": "stdout",
       "text": [
        "         Cross correlation offset: 0 pixels\n",
        "BACKCORR OMIT\n"
       ]
      },
      {
       "output_type": "stream",
       "stream": "stdout",
       "text": [
        "X1DCORR  COMPLETE\n",
        "2012317162559-I--------------- X1DCORR complete: OBRC01010 ---------------------\n",
        "         Spectrum extracted at y position = 630.015\n",
        "         Extraction box height = 7\n",
        "         Background box 1 height = 5 offset 12 from A2CENTER\n",
        "         Background box 2 height = 5 offset 12 from A2CENTER\n",
        "\n",
        "DISPCORR PERFORM\n",
        "DISPTAB  oref$l2j0137to_dsp.fits\n",
        "DISPTAB  PEDIGREE=INFLIGHT 27/02/1997 24/11/1999\n",
        "DISPTAB  DESCRIP =Lindler Postlaunch, May 2000\n",
        "APDESTAB oref$obm1723ro_apd.fits\n",
        "APDESTAB PEDIGREE=INFLIGHT 01/03/1997 01/03/1997\n",
        "APDESTAB DESCRIP =Microscope Meas./Hartig Post-launch Offsets\n",
        "INANGTAB oref$h5s11397o_iac.fits\n"
       ]
      },
      {
       "output_type": "stream",
       "stream": "stdout",
       "text": [
        "         Delta = 0.074666 arcsec.\n",
        "DISPCORR COMPLETE\n",
        "2012317162559-I--------------- DISPCORR complete: OBRC01010 --------------------\n",
        "\n",
        "HELCORR  PERFORM\n",
        "HELCORR  COMPLETE\n",
        "2012317162559-I--------------- HELCORR complete: OBRC01010 ---------------------\n",
        "\n",
        "PHOTTAB  oref$p822207no_pht.fits\n",
        "APERTAB  oref$n7p1032ao_apt.fits\n",
        "APERTAB  PEDIGREE=MODEL\n",
        "APERTAB  DESCRIP =Bohlin/Hartig TIM Models Nov. 1998\n",
        "PCTAB    oref$q541740oo_pct.fits\n",
        "TDSTAB   oref$t9a1003so_tds.fits\n"
       ]
      },
      {
       "output_type": "stream",
       "stream": "stdout",
       "text": [
        "FLUXCORR PERFORM\n",
        "CTECORR  PERFORM\n",
        "CCDTAB   oref$v6n13233o_ccd.fits\n",
        "CCDTAB   PEDIGREE=INFLIGHT 01/05/2009 01/05/2009\n",
        "CCDTAB   DESCRIP =Proposal 8057, by I. Dashevsky & P. Goudfrooij\n"
       ]
      },
      {
       "output_type": "stream",
       "stream": "stdout",
       "text": [
        "CTECORR  COMPLETE\n",
        "FLUXCORR COMPLETE\n",
        "2012317162559-I--------------- FLUXCORR complete: OBRC01010 --------------------\n",
        "\n",
        "SGEOCORR OMIT\n"
       ]
      },
      {
       "output_type": "stream",
       "stream": "stdout",
       "text": [
        "\n",
        "         Row 1 written to disk.\n",
        "Order 1  End 16:25:59 EST\n"
       ]
      },
      {
       "output_type": "stream",
       "stream": "stdout",
       "text": [
        "\n",
        "Imset 1  End 16:25:59 EST\n"
       ]
      },
      {
       "output_type": "stream",
       "stream": "stdout",
       "text": [
        "\n",
        "Warning  Keyword `XTRACALG' is being added to header.\n",
        "End      12-Nov-2012 16:25:59 EST\n",
        "\n",
        "*** CALSTIS-6 complete ***\n",
        "2012317162559-I--------------- CALSTIS-6 completed: OBRC01010 ------------------\n"
       ]
      },
      {
       "output_type": "stream",
       "stream": "stdout",
       "text": [
        "\n",
        "yloc = 1020.635009"
       ]
      },
      {
       "output_type": "stream",
       "stream": "stdout",
       "text": [
        "\n",
        "!/usr/stsci/stsci_iraf_x/stsdas/bin.macintel/cs6.e 'obrc01010_flt.fits' '/user/bostroem/science/12465_otfr20121109/ccd/R136-SE9_loc1020_3936_x1d.fits' -t -v -cte -disp -hel -flux -c 1020.63500858 -r 4 -o1 12.0 -o2 12.0 -bm -bo 3 -a unweighted  -st 14.0\n"
       ]
      },
      {
       "output_type": "stream",
       "stream": "stdout",
       "text": [
        "\n",
        "*** CALSTIS-6 -- Version 2.40 (23-May-2012) ***\n",
        "Begin    12-Nov-2012 16:26:00 EST\n"
       ]
      },
      {
       "output_type": "stream",
       "stream": "stdout",
       "text": [
        "2012317162600-I--------------- CALSTIS-6 started -------------------------------\n",
        "\n",
        "Input    obrc01010_flt.fits\n",
        "Output   /user/bostroem/science/12465_otfr20121109/ccd/R136-SE9_loc1020_3936_x1d.fits\n",
        "Rootname obrc01010\n",
        "OBSMODE  ACCUM\n",
        "APERTURE 52X0.2\n",
        "OPT_ELEM G430M\n",
        "DETECTOR CCD\n"
       ]
      },
      {
       "output_type": "stream",
       "stream": "stdout",
       "text": [
        "\n",
        "XTRACTAB oref$n7p1031qo_1dx.fits\n",
        "XTRACTAB PEDIGREE=INFLIGHT 18/05/97\n",
        "XTRACTAB DESCRIP =Analysis from prop. 7094\n",
        "SPTRCTAB oref$qa31608go_1dt.fits\n",
        "\n",
        "Imset 1  Begin 16:26:00 EST\n"
       ]
      },
      {
       "output_type": "stream",
       "stream": "stdout",
       "text": [
        "         Input read into memory.\n",
        "         Offset of 14 low-res pixels added in dispersion direction\n",
        "Order 1  Begin 16:26:00 EST\n",
        "X1DCORR  PERFORM\n"
       ]
      },
      {
       "output_type": "stream",
       "stream": "stdout",
       "text": [
        "Warning  Cross correlation to locate spectrum failed.\n",
        "ERROR    Cannot extract.\n",
        "Warning  No rows were written; no table created.\n",
        "Imset 1  End 16:26:00 EST\n",
        "\n",
        "End      12-Nov-2012 16:26:00 EST\n",
        "\n",
        "*** CALSTIS-6 complete ***\n",
        "2012317162600-I--------------- CALSTIS-6 completed: OBRC01010 ------------------\n"
       ]
      },
      {
       "output_type": "stream",
       "stream": "stdout",
       "text": [
        "\n",
        "!/usr/stsci/stsci_iraf_x/stsdas/bin.macintel/cs6.e 'obrc01010_flt.fits' '/user/bostroem/science/12465_otfr20121109/ccd/extracted_spectra_fits/R136-SE9_loc1020_3936_x1d.fits' -t -v -cte -disp -hel -flux -c 1020.63500858 -r 0 -o1 12.0 -o2 12.0 -bm -bo 3 -a unweighted  -st 14.0\n"
       ]
      },
      {
       "output_type": "stream",
       "stream": "stdout",
       "text": [
        "\n",
        "*** CALSTIS-6 -- Version 2.40 (23-May-2012) ***\n",
        "Begin    12-Nov-2012 16:26:00 EST\n"
       ]
      },
      {
       "output_type": "stream",
       "stream": "stdout",
       "text": [
        "2012317162600-I--------------- CALSTIS-6 started -------------------------------\n",
        "\n",
        "Input    obrc01010_flt.fits\n",
        "Output   /user/bostroem/science/12465_otfr20121109/ccd/extracted_spectra_fits/R136-SE9_loc1020_3936_x1d.fits\n",
        "Rootname obrc01010\n",
        "OBSMODE  ACCUM\n",
        "APERTURE 52X0.2\n",
        "OPT_ELEM G430M\n",
        "DETECTOR CCD\n"
       ]
      },
      {
       "output_type": "stream",
       "stream": "stdout",
       "text": [
        "\n",
        "XTRACTAB oref$n7p1031qo_1dx.fits\n",
        "XTRACTAB PEDIGREE=INFLIGHT 18/05/97\n",
        "XTRACTAB DESCRIP =Analysis from prop. 7094\n",
        "SPTRCTAB oref$qa31608go_1dt.fits\n",
        "\n",
        "Imset 1  Begin 16:26:00 EST\n"
       ]
      },
      {
       "output_type": "stream",
       "stream": "stdout",
       "text": [
        "         Input read into memory.\n",
        "         Offset of 14 low-res pixels added in dispersion direction\n",
        "Order 1  Begin 16:26:00 EST\n",
        "X1DCORR  PERFORM\n"
       ]
      },
      {
       "output_type": "stream",
       "stream": "stdout",
       "text": [
        "         Cross correlation offset: 0 pixels\n",
        "BACKCORR OMIT\n"
       ]
      },
      {
       "output_type": "stream",
       "stream": "stdout",
       "text": [
        "X1DCORR  COMPLETE\n",
        "2012317162600-I--------------- X1DCORR complete: OBRC01010 ---------------------\n",
        "         Spectrum extracted at y position = 1020.64\n",
        "         Extraction box height = 7\n",
        "         Background box 1 height = 5 offset 12 from A2CENTER\n",
        "         Background box 2 height = 5 offset 12 from A2CENTER\n",
        "\n",
        "DISPCORR PERFORM\n",
        "DISPTAB  oref$l2j0137to_dsp.fits\n",
        "DISPTAB  PEDIGREE=INFLIGHT 27/02/1997 24/11/1999\n",
        "DISPTAB  DESCRIP =Lindler Postlaunch, May 2000\n",
        "APDESTAB oref$obm1723ro_apd.fits\n",
        "APDESTAB PEDIGREE=INFLIGHT 01/03/1997 01/03/1997\n",
        "APDESTAB DESCRIP =Microscope Meas./Hartig Post-launch Offsets\n",
        "INANGTAB oref$h5s11397o_iac.fits\n"
       ]
      },
      {
       "output_type": "stream",
       "stream": "stdout",
       "text": [
        "         Delta = 0.074666 arcsec.\n",
        "DISPCORR COMPLETE\n",
        "2012317162600-I--------------- DISPCORR complete: OBRC01010 --------------------\n",
        "\n",
        "HELCORR  PERFORM\n",
        "HELCORR  COMPLETE\n",
        "2012317162600-I--------------- HELCORR complete: OBRC01010 ---------------------\n",
        "\n",
        "PHOTTAB  oref$p822207no_pht.fits\n",
        "APERTAB  oref$n7p1032ao_apt.fits\n",
        "APERTAB  PEDIGREE=MODEL\n",
        "APERTAB  DESCRIP =Bohlin/Hartig TIM Models Nov. 1998\n",
        "PCTAB    oref$q541740oo_pct.fits\n",
        "TDSTAB   oref$t9a1003so_tds.fits\n"
       ]
      },
      {
       "output_type": "stream",
       "stream": "stdout",
       "text": [
        "FLUXCORR PERFORM\n",
        "CTECORR  PERFORM\n",
        "CCDTAB   oref$v6n13233o_ccd.fits\n",
        "CCDTAB   PEDIGREE=INFLIGHT 01/05/2009 01/05/2009\n",
        "CCDTAB   DESCRIP =Proposal 8057, by I. Dashevsky & P. Goudfrooij\n"
       ]
      },
      {
       "output_type": "stream",
       "stream": "stdout",
       "text": [
        "CTECORR  COMPLETE\n",
        "FLUXCORR COMPLETE\n",
        "2012317162600-I--------------- FLUXCORR complete: OBRC01010 --------------------\n",
        "\n",
        "SGEOCORR OMIT\n"
       ]
      },
      {
       "output_type": "stream",
       "stream": "stdout",
       "text": [
        "\n",
        "         Row 1 written to disk.\n",
        "Order 1  End 16:26:00 EST\n"
       ]
      },
      {
       "output_type": "stream",
       "stream": "stdout",
       "text": [
        "\n",
        "Imset 1  End 16:26:00 EST\n"
       ]
      },
      {
       "output_type": "stream",
       "stream": "stdout",
       "text": [
        "\n",
        "Warning  Keyword `XTRACALG' is being added to header.\n",
        "End      12-Nov-2012 16:26:00 EST\n",
        "\n",
        "*** CALSTIS-6 complete ***\n",
        "2012317162600-I--------------- CALSTIS-6 completed: OBRC01010 ------------------\n"
       ]
      },
      {
       "output_type": "stream",
       "stream": "stdout",
       "text": [
        "\n",
        "yloc = 1025.603634"
       ]
      },
      {
       "output_type": "stream",
       "stream": "stdout",
       "text": [
        "\n",
        "!/usr/stsci/stsci_iraf_x/stsdas/bin.macintel/cs6.e 'obrc01010_flt.fits' '/user/bostroem/science/12465_otfr20121109/ccd/R136-SE9_loc1025_3936_x1d.fits' -t -v -cte -disp -hel -flux -c 1025.60363415 -r 4 -o1 12.0 -o2 12.0 -bm -bo 3 -a unweighted  -st 14.0\n"
       ]
      },
      {
       "output_type": "stream",
       "stream": "stdout",
       "text": [
        "\n",
        "*** CALSTIS-6 -- Version 2.40 (23-May-2012) ***\n",
        "Begin    12-Nov-2012 16:26:01 EST\n"
       ]
      },
      {
       "output_type": "stream",
       "stream": "stdout",
       "text": [
        "2012317162601-I--------------- CALSTIS-6 started -------------------------------\n",
        "\n",
        "Input    obrc01010_flt.fits\n",
        "Output   /user/bostroem/science/12465_otfr20121109/ccd/R136-SE9_loc1025_3936_x1d.fits\n",
        "Rootname obrc01010\n",
        "OBSMODE  ACCUM\n",
        "APERTURE 52X0.2\n",
        "OPT_ELEM G430M\n",
        "DETECTOR CCD\n"
       ]
      },
      {
       "output_type": "stream",
       "stream": "stdout",
       "text": [
        "\n",
        "XTRACTAB oref$n7p1031qo_1dx.fits\n",
        "XTRACTAB PEDIGREE=INFLIGHT 18/05/97\n",
        "XTRACTAB DESCRIP =Analysis from prop. 7094\n",
        "SPTRCTAB oref$qa31608go_1dt.fits\n",
        "\n",
        "Imset 1  Begin 16:26:01 EST\n"
       ]
      },
      {
       "output_type": "stream",
       "stream": "stdout",
       "text": [
        "         Input read into memory.\n",
        "         Offset of 14 low-res pixels added in dispersion direction\n",
        "Order 1  Begin 16:26:01 EST\n",
        "X1DCORR  PERFORM\n"
       ]
      },
      {
       "output_type": "stream",
       "stream": "stdout",
       "text": [
        "Warning  Cross correlation to locate spectrum failed.\n",
        "ERROR    Cannot extract.\n",
        "Warning  No rows were written; no table created.\n",
        "Imset 1  End 16:26:01 EST\n",
        "\n",
        "End      12-Nov-2012 16:26:01 EST\n",
        "\n",
        "*** CALSTIS-6 complete ***\n",
        "2012317162601-I--------------- CALSTIS-6 completed: OBRC01010 ------------------\n"
       ]
      },
      {
       "output_type": "stream",
       "stream": "stdout",
       "text": [
        "\n",
        "!/usr/stsci/stsci_iraf_x/stsdas/bin.macintel/cs6.e 'obrc01010_flt.fits' '/user/bostroem/science/12465_otfr20121109/ccd/extracted_spectra_fits/R136-SE9_loc1025_3936_x1d.fits' -t -v -cte -disp -hel -flux -c 1025.60363415 -r 0 -o1 12.0 -o2 12.0 -bm -bo 3 -a unweighted  -st 14.0\n"
       ]
      },
      {
       "output_type": "stream",
       "stream": "stdout",
       "text": [
        "\n",
        "*** CALSTIS-6 -- Version 2.40 (23-May-2012) ***\n",
        "Begin    12-Nov-2012 16:26:01 EST\n"
       ]
      },
      {
       "output_type": "stream",
       "stream": "stdout",
       "text": [
        "2012317162601-I--------------- CALSTIS-6 started -------------------------------\n",
        "\n",
        "Input    obrc01010_flt.fits\n",
        "Output   /user/bostroem/science/12465_otfr20121109/ccd/extracted_spectra_fits/R136-SE9_loc1025_3936_x1d.fits\n",
        "Rootname obrc01010\n",
        "OBSMODE  ACCUM\n",
        "APERTURE 52X0.2\n",
        "OPT_ELEM G430M\n",
        "DETECTOR CCD\n"
       ]
      },
      {
       "output_type": "stream",
       "stream": "stdout",
       "text": [
        "\n",
        "XTRACTAB oref$n7p1031qo_1dx.fits\n",
        "XTRACTAB PEDIGREE=INFLIGHT 18/05/97\n",
        "XTRACTAB DESCRIP =Analysis from prop. 7094\n",
        "SPTRCTAB oref$qa31608go_1dt.fits\n",
        "\n",
        "Imset 1  Begin 16:26:01 EST\n"
       ]
      },
      {
       "output_type": "stream",
       "stream": "stdout",
       "text": [
        "         Input read into memory.\n",
        "         Offset of 14 low-res pixels added in dispersion direction\n",
        "Order 1  Begin 16:26:01 EST\n",
        "X1DCORR  PERFORM\n"
       ]
      },
      {
       "output_type": "stream",
       "stream": "stdout",
       "text": [
        "         Cross correlation offset: 0 pixels\n",
        "BACKCORR OMIT\n"
       ]
      },
      {
       "output_type": "stream",
       "stream": "stdout",
       "text": [
        "X1DCORR  COMPLETE\n",
        "2012317162601-I--------------- X1DCORR complete: OBRC01010 ---------------------\n",
        "         Extraction box height = 7\n",
        "         Background box 1 height = 5 offset 12 from A2CENTER\n",
        "         Background box 2 height = 5 offset 12 from A2CENTER\n",
        "\n",
        "DISPCORR PERFORM\n",
        "DISPTAB  oref$l2j0137to_dsp.fits\n",
        "DISPTAB  PEDIGREE=INFLIGHT 27/02/1997 24/11/1999\n",
        "DISPTAB  DESCRIP =Lindler Postlaunch, May 2000\n",
        "APDESTAB oref$obm1723ro_apd.fits\n",
        "APDESTAB PEDIGREE=INFLIGHT 01/03/1997 01/03/1997\n",
        "APDESTAB DESCRIP =Microscope Meas./Hartig Post-launch Offsets\n",
        "INANGTAB oref$h5s11397o_iac.fits\n"
       ]
      },
      {
       "output_type": "stream",
       "stream": "stdout",
       "text": [
        "         Delta = 0.074666 arcsec.\n",
        "DISPCORR COMPLETE\n",
        "2012317162601-I--------------- DISPCORR complete: OBRC01010 --------------------\n",
        "\n",
        "HELCORR  PERFORM\n",
        "HELCORR  COMPLETE\n",
        "2012317162601-I--------------- HELCORR complete: OBRC01010 ---------------------\n",
        "\n",
        "PHOTTAB  oref$p822207no_pht.fits\n",
        "APERTAB  oref$n7p1032ao_apt.fits\n",
        "APERTAB  PEDIGREE=MODEL\n",
        "APERTAB  DESCRIP =Bohlin/Hartig TIM Models Nov. 1998\n",
        "PCTAB    oref$q541740oo_pct.fits\n",
        "TDSTAB   oref$t9a1003so_tds.fits\n"
       ]
      },
      {
       "output_type": "stream",
       "stream": "stdout",
       "text": [
        "FLUXCORR PERFORM\n",
        "CTECORR  PERFORM\n",
        "CCDTAB   oref$v6n13233o_ccd.fits\n",
        "CCDTAB   PEDIGREE=INFLIGHT 01/05/2009 01/05/2009\n",
        "CCDTAB   DESCRIP =Proposal 8057, by I. Dashevsky & P. Goudfrooij\n"
       ]
      },
      {
       "output_type": "stream",
       "stream": "stdout",
       "text": [
        "CTECORR  COMPLETE\n",
        "FLUXCORR COMPLETE\n",
        "2012317162601-I--------------- FLUXCORR complete: OBRC01010 --------------------\n",
        "\n",
        "SGEOCORR OMIT\n"
       ]
      },
      {
       "output_type": "stream",
       "stream": "stdout",
       "text": [
        "\n",
        "         Row 1 written to disk.\n",
        "Order 1  End 16:26:01 EST\n"
       ]
      },
      {
       "output_type": "stream",
       "stream": "stdout",
       "text": [
        "\n",
        "Imset 1  End 16:26:01 EST\n"
       ]
      },
      {
       "output_type": "stream",
       "stream": "stdout",
       "text": [
        "\n",
        "Warning  Keyword `XTRACALG' is being added to header.\n",
        "End      12-Nov-2012 16:26:01 EST\n",
        "\n",
        "*** CALSTIS-6 complete ***\n",
        "2012317162601-I--------------- CALSTIS-6 completed: OBRC01010 ------------------\n"
       ]
      },
      {
       "output_type": "stream",
       "stream": "stdout",
       "text": [
        "\n",
        "5\n",
        "$$$$$$$$$$$$$$$$$$$$$$$$plotting$$$$$$$$$$$$$$$$$$$$$$$"
       ]
      },
      {
       "output_type": "stream",
       "stream": "stdout",
       "text": [
        "\n",
        "$$$$$$$$$$$$$$$$$$$$$$$$plotting$$$$$$$$$$$$$$$$$$$$$$$"
       ]
      },
      {
       "output_type": "stream",
       "stream": "stdout",
       "text": [
        "\n",
        "$$$$$$$$$$$$$$$$$$$$$$$$plotting$$$$$$$$$$$$$$$$$$$$$$$"
       ]
      },
      {
       "output_type": "stream",
       "stream": "stdout",
       "text": [
        "\n",
        "$$$$$$$$$$$$$$$$$$$$$$$$plotting$$$$$$$$$$$$$$$$$$$$$$$"
       ]
      },
      {
       "output_type": "stream",
       "stream": "stdout",
       "text": [
        "\n",
        "$$$$$$$$$$$$$$$$$$$$$$$$plotting$$$$$$$$$$$$$$$$$$$$$$$"
       ]
      },
      {
       "output_type": "stream",
       "stream": "stdout",
       "text": [
        "\n",
        "['obrc010b0_flt.fits', 'obrc010c0_flt.fits']"
       ]
      },
      {
       "output_type": "stream",
       "stream": "stdout",
       "text": [
        " -69.101\n",
        "Found offset of 7"
       ]
      },
      {
       "output_type": "stream",
       "stream": "stdout",
       "text": [
        "\n",
        "#############################R136-SE4######################"
       ]
      },
      {
       "output_type": "stream",
       "stream": "stderr",
       "text": [
        "Legend does not support [<matplotlib.lines.Line2D object at 0x112724410>]\n",
        "Use proxy artist instead.\n",
        "\n",
        "http://matplotlib.sourceforge.net/users/legend_guide.html#using-proxy-artist\n",
        "\n",
        "Legend does not support [<matplotlib.lines.Line2D object at 0x1116e7bd0>]\n",
        "Use proxy artist instead.\n",
        "\n",
        "http://matplotlib.sourceforge.net/users/legend_guide.html#using-proxy-artist\n",
        "\n",
        "Legend does not support [<matplotlib.lines.Line2D object at 0x1116e7290>]\n",
        "Use proxy artist instead.\n",
        "\n",
        "http://matplotlib.sourceforge.net/users/legend_guide.html#using-proxy-artist\n",
        "\n",
        "Legend does not support [<matplotlib.lines.Line2D object at 0x1116cfd90>]\n",
        "Use proxy artist instead.\n",
        "\n",
        "http://matplotlib.sourceforge.net/users/legend_guide.html#using-proxy-artist\n",
        "\n",
        "Overwriting existing file 'R136-SE4_3936_combined_img.fits'.\n"
       ]
      },
      {
       "output_type": "stream",
       "stream": "stdout",
       "text": [
        "\n",
        "[  9.53446169e+04   5.22629507e+02   1.37525618e+01   5.92905450e+03\n",
        "   8.03171343e+01  -8.21151550e-02   4.76354816e-06]"
       ]
      },
      {
       "output_type": "stream",
       "stream": "stdout",
       "text": [
        "\n",
        "Less than 3 points between 4 - 6"
       ]
      },
      {
       "output_type": "stream",
       "stream": "stdout",
       "text": [
        "\n",
        "Less than 3 points between 8 - 9\n",
        "Less than 3 points between 11 - 13\n",
        "Less than 3 points between 15 - 16\n",
        "Less than 3 points between 18 - 19\n",
        "Less than 3 points between 20 - 21\n",
        "Less than 3 points between 23 - 25\n",
        "Less than 3 points between 26 - 27\n",
        "Less than 3 points between 31 - 32\n",
        "Less than 3 points between 33 - 35\n",
        "Less than 3 points between 40 - 42\n",
        "Less than 3 points between 47 - 48\n",
        "Less than 3 points between 50 - 51\n",
        "Less than 3 points between 52 - 53\n",
        "Less than 3 points between 73 - 74\n",
        "Less than 3 points between 77 - 78\n",
        "Less than 3 points between 80 - 81\n",
        "Less than 3 points between 88 - 89\n",
        "Less than 3 points between 124 - 125\n",
        "Less than 3 points between 184 - 185\n",
        "Less than 3 points between 191 - 192\n",
        "Less than 3 points between 194 - 195\n",
        "Less than 3 points between 210 - 211\n",
        "Less than 3 points between 214 - 215\n",
        "[  6.36332866e+04   2.23669339e+02   8.34822833e+00]\n",
        "Less than 3 points between 221 - 222\n",
        "Less than 3 points between 248 - 250\n",
        "Less than 3 points between 251 - 253\n",
        "Less than 3 points between 288 - 289\n",
        "Less than 3 points between 291 - 292\n",
        "Less than 3 points between 297 - 298\n",
        "Less than 3 points between 302 - 303\n",
        "Less than 3 points between 381 - 384\n",
        "[  9.41681244e+04   3.86263372e+02  -1.79135319e+00]\n",
        "Less than 3 points between 395 - 396\n",
        "Less than 3 points between 403 - 404\n",
        "Less than 3 points between 411 - 412\n",
        "Less than 3 points between 421 - 424\n",
        "[  1.07086262e+05   4.58797113e+02   5.22511636e+00]\n",
        "Less than 3 points between 483 - 485\n",
        "Less than 3 points between 583 - 584\n",
        "Less than 3 points between 591 - 593\n",
        "[  1.26253476e+05   6.06094658e+02  -3.64783431e+00]\n",
        "Less than 3 points between 622 - 623\n",
        "Less than 3 points between 625 - 628\n",
        "Less than 3 points between 632 - 633\n",
        "Less than 3 points between 634 - 635\n",
        "Less than 3 points between 670 - 671\n",
        "Less than 3 points between 752 - 753\n",
        "Less than 3 points between 771 - 772\n",
        "Less than 3 points between 773 - 774\n",
        "Less than 3 points between 799 - 801\n",
        "Less than 3 points between 846 - 847\n",
        "Less than 3 points between 883 - 884\n",
        "Less than 3 points between 906 - 907\n",
        "Less than 3 points between 921 - 922\n",
        "Less than 3 points between 924 - 926\n",
        "Less than 3 points between 931 - 933\n",
        "Less than 3 points between 947 - 948\n",
        "Less than 3 points between 954 - 955\n",
        "Less than 3 points between 964 - 965\n",
        "Less than 3 points between 975 - 977\n",
        "Less than 3 points between 979 - 980\n",
        "Less than 3 points between 986 - 987\n",
        "[  5.33664731e+04   9.93377369e+02  -1.06439878e+00]\n",
        "Less than 3 points between 998 - 999\n",
        "Less than 3 points between 1000 - 1001\n",
        "Less than 3 points between 1002 - 1003\n",
        "Less than 3 points between 1004 - 1006\n",
        "Less than 3 points between 1009 - 1010\n",
        "Less than 3 points between 1011 - 1012\n",
        "Less than 3 points between 1013 - 1014\n",
        "Less than 3 points between 1015 - 1016\n",
        "Less than 3 points between 1019 - 1021\n",
        "[223.66933860297783, 386.26337226988664, 458.79711278788858, 606.09465784062445, 993.37736943150458]\n",
        "yloc = 223.669339"
       ]
      },
      {
       "output_type": "stream",
       "stream": "stdout",
       "text": [
        "\n",
        "!/usr/stsci/stsci_iraf_x/stsdas/bin.macintel/cs6.e 'obrc010b0_flt.fits' '/user/bostroem/science/12465_otfr20121109/ccd/R136-SE4_loc223_3936_x1d.fits' -t -v -cte -disp -hel -flux -c 223.669338603 -r 4 -o1 12.0 -o2 12.0 -bm -bo 3 -a unweighted  -st 14.0\n"
       ]
      },
      {
       "output_type": "stream",
       "stream": "stdout",
       "text": [
        "\n",
        "*** CALSTIS-6 -- Version 2.40 (23-May-2012) ***\n",
        "Begin    12-Nov-2012 16:26:07 EST\n"
       ]
      },
      {
       "output_type": "stream",
       "stream": "stdout",
       "text": [
        "2012317162607-I--------------- CALSTIS-6 started -------------------------------\n",
        "\n",
        "Input    obrc010b0_flt.fits\n",
        "Output   /user/bostroem/science/12465_otfr20121109/ccd/R136-SE4_loc223_3936_x1d.fits\n",
        "Rootname obrc010b0\n",
        "OBSMODE  ACCUM\n",
        "APERTURE 52X0.2\n",
        "OPT_ELEM G430M\n",
        "DETECTOR CCD\n"
       ]
      },
      {
       "output_type": "stream",
       "stream": "stdout",
       "text": [
        "\n",
        "XTRACTAB oref$n7p1031qo_1dx.fits\n",
        "XTRACTAB PEDIGREE=INFLIGHT 18/05/97\n",
        "XTRACTAB DESCRIP =Analysis from prop. 7094\n",
        "SPTRCTAB oref$qa31608go_1dt.fits\n",
        "\n",
        "Imset 1  Begin 16:26:07 EST\n"
       ]
      },
      {
       "output_type": "stream",
       "stream": "stdout",
       "text": [
        "         Input read into memory.\n",
        "         Offset of 14 low-res pixels added in dispersion direction\n",
        "Order 1  Begin 16:26:07 EST\n",
        "X1DCORR  PERFORM\n"
       ]
      },
      {
       "output_type": "stream",
       "stream": "stdout",
       "text": [
        "         Cross correlation offset: -1.13871 pixels\n",
        "BACKCORR OMIT\n"
       ]
      },
      {
       "output_type": "stream",
       "stream": "stdout",
       "text": [
        "X1DCORR  COMPLETE\n",
        "2012317162607-I--------------- X1DCORR complete: OBRC010B0 ---------------------\n",
        "         Spectrum extracted at y position = 222.531\n",
        "         Extraction box height = 7\n",
        "         Background box 1 height = 5 offset 12 from A2CENTER\n",
        "         Background box 2 height = 5 offset 12 from A2CENTER\n",
        "\n",
        "DISPCORR PERFORM\n",
        "DISPTAB  oref$l2j0137to_dsp.fits\n",
        "DISPTAB  PEDIGREE=INFLIGHT 27/02/1997 24/11/1999\n",
        "DISPTAB  DESCRIP =Lindler Postlaunch, May 2000\n",
        "APDESTAB oref$obm1723ro_apd.fits\n",
        "APDESTAB PEDIGREE=INFLIGHT 01/03/1997 01/03/1997\n",
        "APDESTAB DESCRIP =Microscope Meas./Hartig Post-launch Offsets\n",
        "INANGTAB oref$h5s11397o_iac.fits\n"
       ]
      },
      {
       "output_type": "stream",
       "stream": "stdout",
       "text": [
        "         Delta = 0.074666 arcsec.\n",
        "DISPCORR COMPLETE\n",
        "2012317162607-I--------------- DISPCORR complete: OBRC010B0 --------------------\n",
        "\n",
        "HELCORR  PERFORM\n",
        "HELCORR  COMPLETE\n",
        "2012317162607-I--------------- HELCORR complete: OBRC010B0 ---------------------\n",
        "\n",
        "PHOTTAB  oref$p822207no_pht.fits\n",
        "APERTAB  oref$n7p1032ao_apt.fits\n",
        "APERTAB  PEDIGREE=MODEL\n",
        "APERTAB  DESCRIP =Bohlin/Hartig TIM Models Nov. 1998\n",
        "PCTAB    oref$q541740oo_pct.fits\n",
        "TDSTAB   oref$t9a1003so_tds.fits\n"
       ]
      },
      {
       "output_type": "stream",
       "stream": "stdout",
       "text": [
        "FLUXCORR PERFORM\n",
        "CTECORR  PERFORM\n",
        "CCDTAB   oref$v6n13233o_ccd.fits\n",
        "CCDTAB   PEDIGREE=INFLIGHT 01/05/2009 01/05/2009\n",
        "CCDTAB   DESCRIP =Proposal 8057, by I. Dashevsky & P. Goudfrooij\n"
       ]
      },
      {
       "output_type": "stream",
       "stream": "stdout",
       "text": [
        "CTECORR  COMPLETE\n",
        "FLUXCORR COMPLETE\n",
        "2012317162607-I--------------- FLUXCORR complete: OBRC010B0 --------------------\n",
        "\n",
        "SGEOCORR OMIT\n"
       ]
      },
      {
       "output_type": "stream",
       "stream": "stdout",
       "text": [
        "\n",
        "         Row 1 written to disk.\n",
        "Order 1  End 16:26:07 EST\n"
       ]
      },
      {
       "output_type": "stream",
       "stream": "stdout",
       "text": [
        "\n",
        "Imset 1  End 16:26:07 EST\n"
       ]
      },
      {
       "output_type": "stream",
       "stream": "stdout",
       "text": [
        "\n",
        "Warning  Keyword `XTRACALG' is being added to header.\n",
        "End      12-Nov-2012 16:26:07 EST\n",
        "\n",
        "*** CALSTIS-6 complete ***\n",
        "2012317162607-I--------------- CALSTIS-6 completed: OBRC010B0 ------------------\n"
       ]
      },
      {
       "output_type": "stream",
       "stream": "stdout",
       "text": [
        "\n",
        "!/usr/stsci/stsci_iraf_x/stsdas/bin.macintel/cs6.e 'obrc010b0_flt.fits' '/user/bostroem/science/12465_otfr20121109/ccd/extracted_spectra_fits/R136-SE4_loc223_3936_x1d.fits' -t -v -cte -disp -hel -flux -c 223.669338603 -r 0 -o1 12.0 -o2 12.0 -bm -bo 3 -a unweighted  -st 14.0\n"
       ]
      },
      {
       "output_type": "stream",
       "stream": "stdout",
       "text": [
        "\n",
        "*** CALSTIS-6 -- Version 2.40 (23-May-2012) ***\n",
        "Begin    12-Nov-2012 16:26:08 EST\n"
       ]
      },
      {
       "output_type": "stream",
       "stream": "stdout",
       "text": [
        "2012317162608-I--------------- CALSTIS-6 started -------------------------------\n",
        "\n",
        "Input    obrc010b0_flt.fits\n",
        "Output   /user/bostroem/science/12465_otfr20121109/ccd/extracted_spectra_fits/R136-SE4_loc223_3936_x1d.fits\n",
        "Rootname obrc010b0\n",
        "OBSMODE  ACCUM\n",
        "APERTURE 52X0.2\n",
        "OPT_ELEM G430M\n",
        "DETECTOR CCD\n"
       ]
      },
      {
       "output_type": "stream",
       "stream": "stdout",
       "text": [
        "\n",
        "XTRACTAB oref$n7p1031qo_1dx.fits\n",
        "XTRACTAB PEDIGREE=INFLIGHT 18/05/97\n",
        "XTRACTAB DESCRIP =Analysis from prop. 7094\n",
        "SPTRCTAB oref$qa31608go_1dt.fits\n",
        "\n",
        "Imset 1  Begin 16:26:08 EST\n"
       ]
      },
      {
       "output_type": "stream",
       "stream": "stdout",
       "text": [
        "         Input read into memory.\n",
        "         Offset of 14 low-res pixels added in dispersion direction\n",
        "Order 1  Begin 16:26:08 EST\n",
        "X1DCORR  PERFORM\n"
       ]
      },
      {
       "output_type": "stream",
       "stream": "stdout",
       "text": [
        "         Cross correlation offset: 0 pixels\n",
        "BACKCORR OMIT\n"
       ]
      },
      {
       "output_type": "stream",
       "stream": "stdout",
       "text": [
        "X1DCORR  COMPLETE\n",
        "2012317162608-I--------------- X1DCORR complete: OBRC010B0 ---------------------\n",
        "         Spectrum extracted at y position = 223.669\n",
        "         Extraction box height = 7\n",
        "         Background box 1 height = 5 offset 12 from A2CENTER\n",
        "         Background box 2 height = 5 offset 12 from A2CENTER\n",
        "\n",
        "DISPCORR PERFORM\n",
        "DISPTAB  oref$l2j0137to_dsp.fits\n",
        "DISPTAB  PEDIGREE=INFLIGHT 27/02/1997 24/11/1999\n",
        "DISPTAB  DESCRIP =Lindler Postlaunch, May 2000\n",
        "APDESTAB oref$obm1723ro_apd.fits\n",
        "APDESTAB PEDIGREE=INFLIGHT 01/03/1997 01/03/1997\n",
        "APDESTAB DESCRIP =Microscope Meas./Hartig Post-launch Offsets\n",
        "INANGTAB oref$h5s11397o_iac.fits\n"
       ]
      },
      {
       "output_type": "stream",
       "stream": "stdout",
       "text": [
        "         Delta = 0.074666 arcsec.\n",
        "DISPCORR COMPLETE\n",
        "2012317162608-I--------------- DISPCORR complete: OBRC010B0 --------------------\n",
        "\n",
        "HELCORR  PERFORM\n",
        "HELCORR  COMPLETE\n",
        "2012317162608-I--------------- HELCORR complete: OBRC010B0 ---------------------\n",
        "\n",
        "PHOTTAB  oref$p822207no_pht.fits\n",
        "APERTAB  oref$n7p1032ao_apt.fits\n",
        "APERTAB  PEDIGREE=MODEL\n",
        "APERTAB  DESCRIP =Bohlin/Hartig TIM Models Nov. 1998\n",
        "PCTAB    oref$q541740oo_pct.fits\n",
        "TDSTAB   oref$t9a1003so_tds.fits\n"
       ]
      },
      {
       "output_type": "stream",
       "stream": "stdout",
       "text": [
        "FLUXCORR PERFORM\n",
        "CTECORR  PERFORM\n",
        "CCDTAB   oref$v6n13233o_ccd.fits\n",
        "CCDTAB   PEDIGREE=INFLIGHT 01/05/2009 01/05/2009\n",
        "CCDTAB   DESCRIP =Proposal 8057, by I. Dashevsky & P. Goudfrooij\n"
       ]
      },
      {
       "output_type": "stream",
       "stream": "stdout",
       "text": [
        "CTECORR  COMPLETE\n",
        "FLUXCORR COMPLETE\n",
        "2012317162608-I--------------- FLUXCORR complete: OBRC010B0 --------------------\n",
        "\n",
        "SGEOCORR OMIT\n"
       ]
      },
      {
       "output_type": "stream",
       "stream": "stdout",
       "text": [
        "\n",
        "         Row 1 written to disk.\n",
        "Order 1  End 16:26:08 EST\n"
       ]
      },
      {
       "output_type": "stream",
       "stream": "stdout",
       "text": [
        "\n",
        "Imset 1  End 16:26:08 EST\n"
       ]
      },
      {
       "output_type": "stream",
       "stream": "stdout",
       "text": [
        "\n",
        "Warning  Keyword `XTRACALG' is being added to header.\n",
        "End      12-Nov-2012 16:26:08 EST\n",
        "\n",
        "*** CALSTIS-6 complete ***\n",
        "2012317162608-I--------------- CALSTIS-6 completed: OBRC010B0 ------------------\n"
       ]
      },
      {
       "output_type": "stream",
       "stream": "stdout",
       "text": [
        "\n",
        "yloc = 386.263372"
       ]
      },
      {
       "output_type": "stream",
       "stream": "stdout",
       "text": [
        "\n",
        "!/usr/stsci/stsci_iraf_x/stsdas/bin.macintel/cs6.e 'obrc010b0_flt.fits' '/user/bostroem/science/12465_otfr20121109/ccd/R136-SE4_loc386_3936_x1d.fits' -t -v -cte -disp -hel -flux -c 386.26337227 -r 4 -o1 12.0 -o2 12.0 -bm -bo 3 -a unweighted  -st 14.0\n"
       ]
      },
      {
       "output_type": "stream",
       "stream": "stdout",
       "text": [
        "\n",
        "*** CALSTIS-6 -- Version 2.40 (23-May-2012) ***\n",
        "Begin    12-Nov-2012 16:26:08 EST\n"
       ]
      },
      {
       "output_type": "stream",
       "stream": "stdout",
       "text": [
        "2012317162608-I--------------- CALSTIS-6 started -------------------------------\n",
        "\n",
        "Input    obrc010b0_flt.fits\n",
        "Output   /user/bostroem/science/12465_otfr20121109/ccd/R136-SE4_loc386_3936_x1d.fits\n",
        "Rootname obrc010b0\n",
        "OBSMODE  ACCUM\n",
        "APERTURE 52X0.2\n",
        "OPT_ELEM G430M\n",
        "DETECTOR CCD\n"
       ]
      },
      {
       "output_type": "stream",
       "stream": "stdout",
       "text": [
        "\n",
        "XTRACTAB oref$n7p1031qo_1dx.fits\n",
        "XTRACTAB PEDIGREE=INFLIGHT 18/05/97\n",
        "XTRACTAB DESCRIP =Analysis from prop. 7094\n",
        "SPTRCTAB oref$qa31608go_1dt.fits\n",
        "\n",
        "Imset 1  Begin 16:26:08 EST\n"
       ]
      },
      {
       "output_type": "stream",
       "stream": "stdout",
       "text": [
        "         Input read into memory.\n",
        "         Offset of 14 low-res pixels added in dispersion direction\n",
        "Order 1  Begin 16:26:08 EST\n",
        "X1DCORR  PERFORM\n"
       ]
      },
      {
       "output_type": "stream",
       "stream": "stdout",
       "text": [
        "Warning  Cross correlation to locate spectrum failed.\n",
        "ERROR    Cannot extract.\n",
        "Warning  No rows were written; no table created.\n",
        "Imset 1  End 16:26:08 EST\n",
        "\n",
        "End      12-Nov-2012 16:26:08 EST\n",
        "\n",
        "*** CALSTIS-6 complete ***\n",
        "2012317162608-I--------------- CALSTIS-6 completed: OBRC010B0 ------------------\n"
       ]
      },
      {
       "output_type": "stream",
       "stream": "stdout",
       "text": [
        "\n",
        "!/usr/stsci/stsci_iraf_x/stsdas/bin.macintel/cs6.e 'obrc010b0_flt.fits' '/user/bostroem/science/12465_otfr20121109/ccd/extracted_spectra_fits/R136-SE4_loc386_3936_x1d.fits' -t -v -cte -disp -hel -flux -c 386.26337227 -r 0 -o1 12.0 -o2 12.0 -bm -bo 3 -a unweighted  -st 14.0\n"
       ]
      },
      {
       "output_type": "stream",
       "stream": "stdout",
       "text": [
        "\n",
        "*** CALSTIS-6 -- Version 2.40 (23-May-2012) ***\n",
        "Begin    12-Nov-2012 16:26:09 EST\n"
       ]
      },
      {
       "output_type": "stream",
       "stream": "stdout",
       "text": [
        "2012317162609-I--------------- CALSTIS-6 started -------------------------------\n",
        "\n",
        "Input    obrc010b0_flt.fits\n",
        "Output   /user/bostroem/science/12465_otfr20121109/ccd/extracted_spectra_fits/R136-SE4_loc386_3936_x1d.fits\n",
        "Rootname obrc010b0\n",
        "OBSMODE  ACCUM\n",
        "APERTURE 52X0.2\n",
        "OPT_ELEM G430M\n",
        "DETECTOR CCD\n"
       ]
      },
      {
       "output_type": "stream",
       "stream": "stdout",
       "text": [
        "\n",
        "XTRACTAB oref$n7p1031qo_1dx.fits\n",
        "XTRACTAB PEDIGREE=INFLIGHT 18/05/97\n",
        "XTRACTAB DESCRIP =Analysis from prop. 7094\n",
        "SPTRCTAB oref$qa31608go_1dt.fits\n",
        "\n",
        "Imset 1  Begin 16:26:09 EST\n"
       ]
      },
      {
       "output_type": "stream",
       "stream": "stdout",
       "text": [
        "         Input read into memory.\n",
        "         Offset of 14 low-res pixels added in dispersion direction\n",
        "Order 1  Begin 16:26:09 EST\n",
        "X1DCORR  PERFORM\n"
       ]
      },
      {
       "output_type": "stream",
       "stream": "stdout",
       "text": [
        "         Cross correlation offset: 0 pixels\n",
        "BACKCORR OMIT\n"
       ]
      },
      {
       "output_type": "stream",
       "stream": "stdout",
       "text": [
        "X1DCORR  COMPLETE\n",
        "2012317162609-I--------------- X1DCORR complete: OBRC010B0 ---------------------\n",
        "         Spectrum extracted at y position = 386.263\n",
        "         Extraction box height = 7\n",
        "         Background box 1 height = 5 offset 12 from A2CENTER\n",
        "         Background box 2 height = 5 offset 12 from A2CENTER\n",
        "\n",
        "DISPCORR PERFORM\n",
        "DISPTAB  oref$l2j0137to_dsp.fits\n",
        "DISPTAB  PEDIGREE=INFLIGHT 27/02/1997 24/11/1999\n",
        "DISPTAB  DESCRIP =Lindler Postlaunch, May 2000\n",
        "APDESTAB oref$obm1723ro_apd.fits\n",
        "APDESTAB PEDIGREE=INFLIGHT 01/03/1997 01/03/1997\n",
        "APDESTAB DESCRIP =Microscope Meas./Hartig Post-launch Offsets\n",
        "INANGTAB oref$h5s11397o_iac.fits\n"
       ]
      },
      {
       "output_type": "stream",
       "stream": "stdout",
       "text": [
        "         Delta = 0.074666 arcsec.\n",
        "DISPCORR COMPLETE\n",
        "2012317162609-I--------------- DISPCORR complete: OBRC010B0 --------------------\n",
        "\n",
        "HELCORR  PERFORM\n",
        "HELCORR  COMPLETE\n",
        "2012317162609-I--------------- HELCORR complete: OBRC010B0 ---------------------\n",
        "\n",
        "PHOTTAB  oref$p822207no_pht.fits\n",
        "APERTAB  oref$n7p1032ao_apt.fits\n",
        "APERTAB  PEDIGREE=MODEL\n",
        "APERTAB  DESCRIP =Bohlin/Hartig TIM Models Nov. 1998\n",
        "PCTAB    oref$q541740oo_pct.fits\n",
        "TDSTAB   oref$t9a1003so_tds.fits\n"
       ]
      },
      {
       "output_type": "stream",
       "stream": "stdout",
       "text": [
        "FLUXCORR PERFORM\n",
        "CTECORR  PERFORM\n",
        "CCDTAB   oref$v6n13233o_ccd.fits\n",
        "CCDTAB   PEDIGREE=INFLIGHT 01/05/2009 01/05/2009\n",
        "CCDTAB   DESCRIP =Proposal 8057, by I. Dashevsky & P. Goudfrooij\n"
       ]
      },
      {
       "output_type": "stream",
       "stream": "stdout",
       "text": [
        "CTECORR  COMPLETE\n",
        "FLUXCORR COMPLETE\n",
        "2012317162609-I--------------- FLUXCORR complete: OBRC010B0 --------------------\n",
        "\n",
        "SGEOCORR OMIT\n"
       ]
      },
      {
       "output_type": "stream",
       "stream": "stdout",
       "text": [
        "\n",
        "         Row 1 written to disk.\n",
        "Order 1  End 16:26:09 EST\n"
       ]
      },
      {
       "output_type": "stream",
       "stream": "stdout",
       "text": [
        "\n",
        "Imset 1  End 16:26:09 EST\n"
       ]
      },
      {
       "output_type": "stream",
       "stream": "stdout",
       "text": [
        "\n",
        "Warning  Keyword `XTRACALG' is being added to header.\n",
        "End      12-Nov-2012 16:26:09 EST\n",
        "\n",
        "*** CALSTIS-6 complete ***\n",
        "2012317162609-I--------------- CALSTIS-6 completed: OBRC010B0 ------------------\n"
       ]
      },
      {
       "output_type": "stream",
       "stream": "stdout",
       "text": [
        "\n",
        "yloc = 458.797113"
       ]
      },
      {
       "output_type": "stream",
       "stream": "stdout",
       "text": [
        "\n",
        "!/usr/stsci/stsci_iraf_x/stsdas/bin.macintel/cs6.e 'obrc010b0_flt.fits' '/user/bostroem/science/12465_otfr20121109/ccd/R136-SE4_loc458_3936_x1d.fits' -t -v -cte -disp -hel -flux -c 458.797112788 -r 4 -o1 12.0 -o2 12.0 -bm -bo 3 -a unweighted  -st 14.0\n"
       ]
      },
      {
       "output_type": "stream",
       "stream": "stdout",
       "text": [
        "\n",
        "*** CALSTIS-6 -- Version 2.40 (23-May-2012) ***\n",
        "Begin    12-Nov-2012 16:26:09 EST\n"
       ]
      },
      {
       "output_type": "stream",
       "stream": "stdout",
       "text": [
        "2012317162609-I--------------- CALSTIS-6 started -------------------------------\n",
        "\n",
        "Input    obrc010b0_flt.fits\n",
        "Output   /user/bostroem/science/12465_otfr20121109/ccd/R136-SE4_loc458_3936_x1d.fits\n",
        "Rootname obrc010b0\n",
        "OBSMODE  ACCUM\n",
        "APERTURE 52X0.2\n",
        "OPT_ELEM G430M\n",
        "DETECTOR CCD\n"
       ]
      },
      {
       "output_type": "stream",
       "stream": "stdout",
       "text": [
        "\n",
        "XTRACTAB oref$n7p1031qo_1dx.fits\n",
        "XTRACTAB PEDIGREE=INFLIGHT 18/05/97\n",
        "XTRACTAB DESCRIP =Analysis from prop. 7094\n",
        "SPTRCTAB oref$qa31608go_1dt.fits\n",
        "\n",
        "Imset 1  Begin 16:26:09 EST\n"
       ]
      },
      {
       "output_type": "stream",
       "stream": "stdout",
       "text": [
        "         Input read into memory.\n",
        "         Offset of 14 low-res pixels added in dispersion direction\n",
        "Order 1  Begin 16:26:09 EST\n",
        "X1DCORR  PERFORM\n"
       ]
      },
      {
       "output_type": "stream",
       "stream": "stdout",
       "text": [
        "         Cross correlation offset: -0.0246348 pixels\n",
        "BACKCORR OMIT\n"
       ]
      },
      {
       "output_type": "stream",
       "stream": "stdout",
       "text": [
        "X1DCORR  COMPLETE\n",
        "2012317162609-I--------------- X1DCORR complete: OBRC010B0 ---------------------\n",
        "         Spectrum extracted at y position = 458.772\n",
        "         Extraction box height = 7\n",
        "         Background box 1 height = 5 offset 12 from A2CENTER\n",
        "         Background box 2 height = 5 offset 12 from A2CENTER\n",
        "\n",
        "DISPCORR PERFORM\n",
        "DISPTAB  oref$l2j0137to_dsp.fits\n",
        "DISPTAB  PEDIGREE=INFLIGHT 27/02/1997 24/11/1999\n",
        "DISPTAB  DESCRIP =Lindler Postlaunch, May 2000\n",
        "APDESTAB oref$obm1723ro_apd.fits\n",
        "APDESTAB PEDIGREE=INFLIGHT 01/03/1997 01/03/1997\n",
        "APDESTAB DESCRIP =Microscope Meas./Hartig Post-launch Offsets\n",
        "INANGTAB oref$h5s11397o_iac.fits\n"
       ]
      },
      {
       "output_type": "stream",
       "stream": "stdout",
       "text": [
        "         Delta = 0.074666 arcsec.\n",
        "DISPCORR COMPLETE\n",
        "2012317162609-I--------------- DISPCORR complete: OBRC010B0 --------------------\n",
        "\n",
        "HELCORR  PERFORM\n",
        "HELCORR  COMPLETE\n",
        "2012317162609-I--------------- HELCORR complete: OBRC010B0 ---------------------\n",
        "\n",
        "PHOTTAB  oref$p822207no_pht.fits\n",
        "APERTAB  oref$n7p1032ao_apt.fits\n",
        "APERTAB  PEDIGREE=MODEL\n",
        "APERTAB  DESCRIP =Bohlin/Hartig TIM Models Nov. 1998\n",
        "PCTAB    oref$q541740oo_pct.fits\n",
        "TDSTAB   oref$t9a1003so_tds.fits\n"
       ]
      },
      {
       "output_type": "stream",
       "stream": "stdout",
       "text": [
        "FLUXCORR PERFORM\n",
        "CTECORR  PERFORM\n",
        "CCDTAB   oref$v6n13233o_ccd.fits\n",
        "CCDTAB   PEDIGREE=INFLIGHT 01/05/2009 01/05/2009\n",
        "CCDTAB   DESCRIP =Proposal 8057, by I. Dashevsky & P. Goudfrooij\n"
       ]
      },
      {
       "output_type": "stream",
       "stream": "stdout",
       "text": [
        "CTECORR  COMPLETE\n",
        "FLUXCORR COMPLETE\n",
        "2012317162609-I--------------- FLUXCORR complete: OBRC010B0 --------------------\n",
        "\n",
        "SGEOCORR OMIT\n"
       ]
      },
      {
       "output_type": "stream",
       "stream": "stdout",
       "text": [
        "\n",
        "         Row 1 written to disk.\n",
        "Order 1  End 16:26:09 EST\n"
       ]
      },
      {
       "output_type": "stream",
       "stream": "stdout",
       "text": [
        "\n",
        "Imset 1  End 16:26:09 EST\n"
       ]
      },
      {
       "output_type": "stream",
       "stream": "stdout",
       "text": [
        "\n",
        "Warning  Keyword `XTRACALG' is being added to header.\n",
        "End      12-Nov-2012 16:26:09 EST\n",
        "\n",
        "*** CALSTIS-6 complete ***\n",
        "2012317162609-I--------------- CALSTIS-6 completed: OBRC010B0 ------------------\n"
       ]
      },
      {
       "output_type": "stream",
       "stream": "stdout",
       "text": [
        "\n",
        "!/usr/stsci/stsci_iraf_x/stsdas/bin.macintel/cs6.e 'obrc010b0_flt.fits' '/user/bostroem/science/12465_otfr20121109/ccd/extracted_spectra_fits/R136-SE4_loc458_3936_x1d.fits' -t -v -cte -disp -hel -flux -c 458.797112788 -r 0 -o1 12.0 -o2 12.0 -bm -bo 3 -a unweighted  -st 14.0\n"
       ]
      },
      {
       "output_type": "stream",
       "stream": "stdout",
       "text": [
        "\n",
        "*** CALSTIS-6 -- Version 2.40 (23-May-2012) ***\n",
        "Begin    12-Nov-2012 16:26:10 EST\n"
       ]
      },
      {
       "output_type": "stream",
       "stream": "stdout",
       "text": [
        "2012317162610-I--------------- CALSTIS-6 started -------------------------------\n",
        "\n",
        "Input    obrc010b0_flt.fits\n",
        "Output   /user/bostroem/science/12465_otfr20121109/ccd/extracted_spectra_fits/R136-SE4_loc458_3936_x1d.fits\n",
        "Rootname obrc010b0\n",
        "OBSMODE  ACCUM\n",
        "APERTURE 52X0.2\n",
        "OPT_ELEM G430M\n",
        "DETECTOR CCD\n"
       ]
      },
      {
       "output_type": "stream",
       "stream": "stdout",
       "text": [
        "\n",
        "XTRACTAB oref$n7p1031qo_1dx.fits\n",
        "XTRACTAB PEDIGREE=INFLIGHT 18/05/97\n",
        "XTRACTAB DESCRIP =Analysis from prop. 7094\n",
        "SPTRCTAB oref$qa31608go_1dt.fits\n",
        "\n",
        "Imset 1  Begin 16:26:10 EST\n"
       ]
      },
      {
       "output_type": "stream",
       "stream": "stdout",
       "text": [
        "         Input read into memory.\n",
        "         Offset of 14 low-res pixels added in dispersion direction\n",
        "Order 1  Begin 16:26:10 EST\n",
        "X1DCORR  PERFORM\n"
       ]
      },
      {
       "output_type": "stream",
       "stream": "stdout",
       "text": [
        "         Cross correlation offset: 0 pixels\n",
        "BACKCORR OMIT\n"
       ]
      },
      {
       "output_type": "stream",
       "stream": "stdout",
       "text": [
        "X1DCORR  COMPLETE\n",
        "2012317162610-I--------------- X1DCORR complete: OBRC010B0 ---------------------\n",
        "         Spectrum extracted at y position = 458.797\n",
        "         Extraction box height = 7\n",
        "         Background box 1 height = 5 offset 12 from A2CENTER\n",
        "         Background box 2 height = 5 offset 12 from A2CENTER\n",
        "\n",
        "DISPCORR PERFORM\n",
        "DISPTAB  oref$l2j0137to_dsp.fits\n",
        "DISPTAB  PEDIGREE=INFLIGHT 27/02/1997 24/11/1999\n",
        "DISPTAB  DESCRIP =Lindler Postlaunch, May 2000\n",
        "APDESTAB oref$obm1723ro_apd.fits\n",
        "APDESTAB PEDIGREE=INFLIGHT 01/03/1997 01/03/1997\n",
        "APDESTAB DESCRIP =Microscope Meas./Hartig Post-launch Offsets\n",
        "INANGTAB oref$h5s11397o_iac.fits\n"
       ]
      },
      {
       "output_type": "stream",
       "stream": "stdout",
       "text": [
        "         Delta = 0.074666 arcsec.\n",
        "DISPCORR COMPLETE\n",
        "2012317162610-I--------------- DISPCORR complete: OBRC010B0 --------------------\n",
        "\n",
        "HELCORR  PERFORM\n",
        "HELCORR  COMPLETE\n",
        "2012317162610-I--------------- HELCORR complete: OBRC010B0 ---------------------\n",
        "\n",
        "PHOTTAB  oref$p822207no_pht.fits\n",
        "APERTAB  oref$n7p1032ao_apt.fits\n",
        "APERTAB  PEDIGREE=MODEL\n",
        "APERTAB  DESCRIP =Bohlin/Hartig TIM Models Nov. 1998\n",
        "PCTAB    oref$q541740oo_pct.fits\n",
        "TDSTAB   oref$t9a1003so_tds.fits\n"
       ]
      },
      {
       "output_type": "stream",
       "stream": "stdout",
       "text": [
        "FLUXCORR PERFORM\n",
        "CTECORR  PERFORM\n",
        "CCDTAB   oref$v6n13233o_ccd.fits\n",
        "CCDTAB   PEDIGREE=INFLIGHT 01/05/2009 01/05/2009\n",
        "CCDTAB   DESCRIP =Proposal 8057, by I. Dashevsky & P. Goudfrooij\n"
       ]
      },
      {
       "output_type": "stream",
       "stream": "stdout",
       "text": [
        "CTECORR  COMPLETE\n",
        "FLUXCORR COMPLETE\n",
        "2012317162610-I--------------- FLUXCORR complete: OBRC010B0 --------------------\n",
        "\n",
        "SGEOCORR OMIT\n"
       ]
      },
      {
       "output_type": "stream",
       "stream": "stdout",
       "text": [
        "\n",
        "         Row 1 written to disk.\n",
        "Order 1  End 16:26:10 EST\n"
       ]
      },
      {
       "output_type": "stream",
       "stream": "stdout",
       "text": [
        "\n",
        "Imset 1  End 16:26:10 EST\n"
       ]
      },
      {
       "output_type": "stream",
       "stream": "stdout",
       "text": [
        "\n",
        "Warning  Keyword `XTRACALG' is being added to header.\n",
        "End      12-Nov-2012 16:26:10 EST\n",
        "\n",
        "*** CALSTIS-6 complete ***\n",
        "2012317162610-I--------------- CALSTIS-6 completed: OBRC010B0 ------------------\n"
       ]
      },
      {
       "output_type": "stream",
       "stream": "stdout",
       "text": [
        "\n",
        "yloc = 606.094658"
       ]
      },
      {
       "output_type": "stream",
       "stream": "stdout",
       "text": [
        "\n",
        "!/usr/stsci/stsci_iraf_x/stsdas/bin.macintel/cs6.e 'obrc010b0_flt.fits' '/user/bostroem/science/12465_otfr20121109/ccd/R136-SE4_loc606_3936_x1d.fits' -t -v -cte -disp -hel -flux -c 606.094657841 -r 4 -o1 12.0 -o2 12.0 -bm -bo 3 -a unweighted  -st 14.0\n"
       ]
      },
      {
       "output_type": "stream",
       "stream": "stdout",
       "text": [
        "\n",
        "*** CALSTIS-6 -- Version 2.40 (23-May-2012) ***\n",
        "Begin    12-Nov-2012 16:26:10 EST\n"
       ]
      },
      {
       "output_type": "stream",
       "stream": "stdout",
       "text": [
        "2012317162610-I--------------- CALSTIS-6 started -------------------------------\n",
        "\n",
        "Input    obrc010b0_flt.fits\n",
        "Output   /user/bostroem/science/12465_otfr20121109/ccd/R136-SE4_loc606_3936_x1d.fits\n",
        "Rootname obrc010b0\n",
        "OBSMODE  ACCUM\n",
        "APERTURE 52X0.2\n",
        "OPT_ELEM G430M\n",
        "DETECTOR CCD\n"
       ]
      },
      {
       "output_type": "stream",
       "stream": "stdout",
       "text": [
        "\n",
        "XTRACTAB oref$n7p1031qo_1dx.fits\n",
        "XTRACTAB PEDIGREE=INFLIGHT 18/05/97\n",
        "XTRACTAB DESCRIP =Analysis from prop. 7094\n",
        "SPTRCTAB oref$qa31608go_1dt.fits\n",
        "\n",
        "Imset 1  Begin 16:26:10 EST\n"
       ]
      },
      {
       "output_type": "stream",
       "stream": "stdout",
       "text": [
        "         Input read into memory.\n",
        "         Offset of 14 low-res pixels added in dispersion direction\n",
        "Order 1  Begin 16:26:10 EST\n",
        "X1DCORR  PERFORM\n"
       ]
      },
      {
       "output_type": "stream",
       "stream": "stdout",
       "text": [
        "Warning  Cross correlation to locate spectrum failed.\n",
        "ERROR    Cannot extract.\n",
        "Warning  No rows were written; no table created.\n",
        "Imset 1  End 16:26:10 EST\n",
        "\n",
        "End      12-Nov-2012 16:26:10 EST\n",
        "\n",
        "*** CALSTIS-6 complete ***\n",
        "2012317162610-I--------------- CALSTIS-6 completed: OBRC010B0 ------------------\n"
       ]
      },
      {
       "output_type": "stream",
       "stream": "stdout",
       "text": [
        "\n",
        "!/usr/stsci/stsci_iraf_x/stsdas/bin.macintel/cs6.e 'obrc010b0_flt.fits' '/user/bostroem/science/12465_otfr20121109/ccd/extracted_spectra_fits/R136-SE4_loc606_3936_x1d.fits' -t -v -cte -disp -hel -flux -c 606.094657841 -r 0 -o1 12.0 -o2 12.0 -bm -bo 3 -a unweighted  -st 14.0\n"
       ]
      },
      {
       "output_type": "stream",
       "stream": "stdout",
       "text": [
        "\n",
        "*** CALSTIS-6 -- Version 2.40 (23-May-2012) ***\n",
        "Begin    12-Nov-2012 16:26:11 EST\n"
       ]
      },
      {
       "output_type": "stream",
       "stream": "stdout",
       "text": [
        "2012317162611-I--------------- CALSTIS-6 started -------------------------------\n",
        "\n",
        "Input    obrc010b0_flt.fits\n",
        "Output   /user/bostroem/science/12465_otfr20121109/ccd/extracted_spectra_fits/R136-SE4_loc606_3936_x1d.fits\n",
        "Rootname obrc010b0\n",
        "OBSMODE  ACCUM\n",
        "APERTURE 52X0.2\n",
        "OPT_ELEM G430M\n",
        "DETECTOR CCD\n"
       ]
      },
      {
       "output_type": "stream",
       "stream": "stdout",
       "text": [
        "\n",
        "XTRACTAB oref$n7p1031qo_1dx.fits\n",
        "XTRACTAB PEDIGREE=INFLIGHT 18/05/97\n",
        "XTRACTAB DESCRIP =Analysis from prop. 7094\n",
        "SPTRCTAB oref$qa31608go_1dt.fits\n",
        "\n",
        "Imset 1  Begin 16:26:11 EST\n"
       ]
      },
      {
       "output_type": "stream",
       "stream": "stdout",
       "text": [
        "         Input read into memory.\n",
        "         Offset of 14 low-res pixels added in dispersion direction\n",
        "Order 1  Begin 16:26:11 EST\n",
        "X1DCORR  PERFORM\n"
       ]
      },
      {
       "output_type": "stream",
       "stream": "stdout",
       "text": [
        "         Cross correlation offset: 0 pixels\n",
        "BACKCORR OMIT\n"
       ]
      },
      {
       "output_type": "stream",
       "stream": "stdout",
       "text": [
        "X1DCORR  COMPLETE\n",
        "2012317162611-I--------------- X1DCORR complete: OBRC010B0 ---------------------\n",
        "         Spectrum extracted at y position = 606.095\n",
        "         Extraction box height = 7\n",
        "         Background box 1 height = 5 offset 12 from A2CENTER\n",
        "         Background box 2 height = 5 offset 12 from A2CENTER\n",
        "\n",
        "DISPCORR PERFORM\n",
        "DISPTAB  oref$l2j0137to_dsp.fits\n",
        "DISPTAB  PEDIGREE=INFLIGHT 27/02/1997 24/11/1999\n",
        "DISPTAB  DESCRIP =Lindler Postlaunch, May 2000\n",
        "APDESTAB oref$obm1723ro_apd.fits\n",
        "APDESTAB PEDIGREE=INFLIGHT 01/03/1997 01/03/1997\n",
        "APDESTAB DESCRIP =Microscope Meas./Hartig Post-launch Offsets\n",
        "INANGTAB oref$h5s11397o_iac.fits\n"
       ]
      },
      {
       "output_type": "stream",
       "stream": "stdout",
       "text": [
        "         Delta = 0.074666 arcsec.\n",
        "DISPCORR COMPLETE\n",
        "2012317162611-I--------------- DISPCORR complete: OBRC010B0 --------------------\n",
        "\n",
        "HELCORR  PERFORM\n",
        "HELCORR  COMPLETE\n",
        "2012317162611-I--------------- HELCORR complete: OBRC010B0 ---------------------\n",
        "\n",
        "PHOTTAB  oref$p822207no_pht.fits\n",
        "APERTAB  oref$n7p1032ao_apt.fits\n",
        "APERTAB  PEDIGREE=MODEL\n",
        "APERTAB  DESCRIP =Bohlin/Hartig TIM Models Nov. 1998\n",
        "PCTAB    oref$q541740oo_pct.fits\n",
        "TDSTAB   oref$t9a1003so_tds.fits\n"
       ]
      },
      {
       "output_type": "stream",
       "stream": "stdout",
       "text": [
        "FLUXCORR PERFORM\n",
        "CTECORR  PERFORM\n",
        "CCDTAB   oref$v6n13233o_ccd.fits\n",
        "CCDTAB   PEDIGREE=INFLIGHT 01/05/2009 01/05/2009\n",
        "CCDTAB   DESCRIP =Proposal 8057, by I. Dashevsky & P. Goudfrooij\n"
       ]
      },
      {
       "output_type": "stream",
       "stream": "stdout",
       "text": [
        "CTECORR  COMPLETE\n",
        "FLUXCORR COMPLETE\n",
        "2012317162611-I--------------- FLUXCORR complete: OBRC010B0 --------------------\n",
        "\n",
        "SGEOCORR OMIT\n"
       ]
      },
      {
       "output_type": "stream",
       "stream": "stdout",
       "text": [
        "\n",
        "         Row 1 written to disk.\n",
        "Order 1  End 16:26:11 EST\n"
       ]
      },
      {
       "output_type": "stream",
       "stream": "stdout",
       "text": [
        "\n",
        "Imset 1  End 16:26:11 EST\n"
       ]
      },
      {
       "output_type": "stream",
       "stream": "stdout",
       "text": [
        "\n",
        "Warning  Keyword `XTRACALG' is being added to header.\n",
        "End      12-Nov-2012 16:26:11 EST\n",
        "\n",
        "*** CALSTIS-6 complete ***\n",
        "2012317162611-I--------------- CALSTIS-6 completed: OBRC010B0 ------------------\n"
       ]
      },
      {
       "output_type": "stream",
       "stream": "stdout",
       "text": [
        "\n",
        "yloc = 993.377369"
       ]
      },
      {
       "output_type": "stream",
       "stream": "stdout",
       "text": [
        "\n",
        "!/usr/stsci/stsci_iraf_x/stsdas/bin.macintel/cs6.e 'obrc010b0_flt.fits' '/user/bostroem/science/12465_otfr20121109/ccd/R136-SE4_loc993_3936_x1d.fits' -t -v -cte -disp -hel -flux -c 993.377369432 -r 4 -o1 12.0 -o2 12.0 -bm -bo 3 -a unweighted  -st 14.0\n"
       ]
      },
      {
       "output_type": "stream",
       "stream": "stdout",
       "text": [
        "\n",
        "*** CALSTIS-6 -- Version 2.40 (23-May-2012) ***\n",
        "Begin    12-Nov-2012 16:26:11 EST\n"
       ]
      },
      {
       "output_type": "stream",
       "stream": "stdout",
       "text": [
        "2012317162611-I--------------- CALSTIS-6 started -------------------------------\n",
        "\n",
        "Input    obrc010b0_flt.fits\n",
        "Output   /user/bostroem/science/12465_otfr20121109/ccd/R136-SE4_loc993_3936_x1d.fits\n",
        "Rootname obrc010b0\n",
        "OBSMODE  ACCUM\n",
        "APERTURE 52X0.2\n",
        "OPT_ELEM G430M\n",
        "DETECTOR CCD\n"
       ]
      },
      {
       "output_type": "stream",
       "stream": "stdout",
       "text": [
        "\n",
        "XTRACTAB oref$n7p1031qo_1dx.fits\n",
        "XTRACTAB PEDIGREE=INFLIGHT 18/05/97\n",
        "XTRACTAB DESCRIP =Analysis from prop. 7094\n",
        "SPTRCTAB oref$qa31608go_1dt.fits\n",
        "\n",
        "Imset 1  Begin 16:26:11 EST\n"
       ]
      },
      {
       "output_type": "stream",
       "stream": "stdout",
       "text": [
        "         Input read into memory.\n",
        "         Offset of 14 low-res pixels added in dispersion direction\n",
        "Order 1  Begin 16:26:12 EST\n",
        "X1DCORR  PERFORM\n"
       ]
      },
      {
       "output_type": "stream",
       "stream": "stdout",
       "text": [
        "Warning  Cross correlation to locate spectrum failed.\n",
        "ERROR    Cannot extract.\n",
        "Warning  No rows were written; no table created.\n",
        "Imset 1  End 16:26:12 EST\n",
        "\n",
        "End      12-Nov-2012 16:26:12 EST\n",
        "\n",
        "*** CALSTIS-6 complete ***\n",
        "2012317162612-I--------------- CALSTIS-6 completed: OBRC010B0 ------------------\n"
       ]
      },
      {
       "output_type": "stream",
       "stream": "stdout",
       "text": [
        "\n",
        "!/usr/stsci/stsci_iraf_x/stsdas/bin.macintel/cs6.e 'obrc010b0_flt.fits' '/user/bostroem/science/12465_otfr20121109/ccd/extracted_spectra_fits/R136-SE4_loc993_3936_x1d.fits' -t -v -cte -disp -hel -flux -c 993.377369432 -r 0 -o1 12.0 -o2 12.0 -bm -bo 3 -a unweighted  -st 14.0\n"
       ]
      },
      {
       "output_type": "stream",
       "stream": "stdout",
       "text": [
        "\n",
        "*** CALSTIS-6 -- Version 2.40 (23-May-2012) ***\n",
        "Begin    12-Nov-2012 16:26:12 EST\n"
       ]
      },
      {
       "output_type": "stream",
       "stream": "stdout",
       "text": [
        "2012317162612-I--------------- CALSTIS-6 started -------------------------------\n",
        "\n",
        "Input    obrc010b0_flt.fits\n",
        "Output   /user/bostroem/science/12465_otfr20121109/ccd/extracted_spectra_fits/R136-SE4_loc993_3936_x1d.fits\n",
        "Rootname obrc010b0\n",
        "OBSMODE  ACCUM\n",
        "APERTURE 52X0.2\n",
        "OPT_ELEM G430M\n",
        "DETECTOR CCD\n"
       ]
      },
      {
       "output_type": "stream",
       "stream": "stdout",
       "text": [
        "\n",
        "XTRACTAB oref$n7p1031qo_1dx.fits\n",
        "XTRACTAB PEDIGREE=INFLIGHT 18/05/97\n",
        "XTRACTAB DESCRIP =Analysis from prop. 7094\n",
        "SPTRCTAB oref$qa31608go_1dt.fits\n",
        "\n",
        "Imset 1  Begin 16:26:12 EST\n"
       ]
      },
      {
       "output_type": "stream",
       "stream": "stdout",
       "text": [
        "         Input read into memory.\n",
        "         Offset of 14 low-res pixels added in dispersion direction\n",
        "Order 1  Begin 16:26:12 EST\n",
        "X1DCORR  PERFORM\n"
       ]
      },
      {
       "output_type": "stream",
       "stream": "stdout",
       "text": [
        "         Cross correlation offset: 0 pixels\n",
        "BACKCORR OMIT\n"
       ]
      },
      {
       "output_type": "stream",
       "stream": "stdout",
       "text": [
        "X1DCORR  COMPLETE\n",
        "2012317162612-I--------------- X1DCORR complete: OBRC010B0 ---------------------\n",
        "         Spectrum extracted at y position = 993.377\n",
        "         Extraction box height = 7\n",
        "         Background box 1 height = 5 offset 12 from A2CENTER\n",
        "         Background box 2 height = 5 offset 12 from A2CENTER\n",
        "\n",
        "DISPCORR PERFORM\n",
        "DISPTAB  oref$l2j0137to_dsp.fits\n",
        "DISPTAB  PEDIGREE=INFLIGHT 27/02/1997 24/11/1999\n",
        "DISPTAB  DESCRIP =Lindler Postlaunch, May 2000\n",
        "APDESTAB oref$obm1723ro_apd.fits\n",
        "APDESTAB PEDIGREE=INFLIGHT 01/03/1997 01/03/1997\n",
        "APDESTAB DESCRIP =Microscope Meas./Hartig Post-launch Offsets\n",
        "INANGTAB oref$h5s11397o_iac.fits\n"
       ]
      },
      {
       "output_type": "stream",
       "stream": "stdout",
       "text": [
        "         Delta = 0.074666 arcsec.\n",
        "DISPCORR COMPLETE\n",
        "2012317162612-I--------------- DISPCORR complete: OBRC010B0 --------------------\n",
        "\n",
        "HELCORR  PERFORM\n",
        "HELCORR  COMPLETE\n",
        "2012317162612-I--------------- HELCORR complete: OBRC010B0 ---------------------\n",
        "\n",
        "PHOTTAB  oref$p822207no_pht.fits\n",
        "APERTAB  oref$n7p1032ao_apt.fits\n",
        "APERTAB  PEDIGREE=MODEL\n",
        "APERTAB  DESCRIP =Bohlin/Hartig TIM Models Nov. 1998\n",
        "PCTAB    oref$q541740oo_pct.fits\n",
        "TDSTAB   oref$t9a1003so_tds.fits\n"
       ]
      },
      {
       "output_type": "stream",
       "stream": "stdout",
       "text": [
        "FLUXCORR PERFORM\n",
        "CTECORR  PERFORM\n",
        "CCDTAB   oref$v6n13233o_ccd.fits\n",
        "CCDTAB   PEDIGREE=INFLIGHT 01/05/2009 01/05/2009\n",
        "CCDTAB   DESCRIP =Proposal 8057, by I. Dashevsky & P. Goudfrooij\n"
       ]
      },
      {
       "output_type": "stream",
       "stream": "stdout",
       "text": [
        "CTECORR  COMPLETE\n",
        "FLUXCORR COMPLETE\n",
        "2012317162612-I--------------- FLUXCORR complete: OBRC010B0 --------------------\n",
        "\n",
        "SGEOCORR OMIT\n"
       ]
      },
      {
       "output_type": "stream",
       "stream": "stdout",
       "text": [
        "\n",
        "         Row 1 written to disk.\n",
        "Order 1  End 16:26:12 EST\n"
       ]
      },
      {
       "output_type": "stream",
       "stream": "stdout",
       "text": [
        "\n",
        "Imset 1  End 16:26:12 EST\n"
       ]
      },
      {
       "output_type": "stream",
       "stream": "stdout",
       "text": [
        "\n",
        "Warning  Keyword `XTRACALG' is being added to header.\n",
        "End      12-Nov-2012 16:26:12 EST\n",
        "\n",
        "*** CALSTIS-6 complete ***\n",
        "2012317162612-I--------------- CALSTIS-6 completed: OBRC010B0 ------------------\n"
       ]
      },
      {
       "output_type": "stream",
       "stream": "stdout",
       "text": [
        "\n",
        "5\n",
        "$$$$$$$$$$$$$$$$$$$$$$$$plotting$$$$$$$$$$$$$$$$$$$$$$$"
       ]
      },
      {
       "output_type": "stream",
       "stream": "stdout",
       "text": [
        "\n",
        "$$$$$$$$$$$$$$$$$$$$$$$$plotting$$$$$$$$$$$$$$$$$$$$$$$"
       ]
      },
      {
       "output_type": "stream",
       "stream": "stdout",
       "text": [
        "\n",
        "$$$$$$$$$$$$$$$$$$$$$$$$plotting$$$$$$$$$$$$$$$$$$$$$$$"
       ]
      },
      {
       "output_type": "stream",
       "stream": "stdout",
       "text": [
        "\n",
        "$$$$$$$$$$$$$$$$$$$$$$$$plotting$$$$$$$$$$$$$$$$$$$$$$$"
       ]
      },
      {
       "output_type": "stream",
       "stream": "stdout",
       "text": [
        "\n",
        "$$$$$$$$$$$$$$$$$$$$$$$$plotting$$$$$$$$$$$$$$$$$$$$$$$"
       ]
      },
      {
       "output_type": "stream",
       "stream": "stdout",
       "text": [
        "\n"
       ]
      },
      {
       "output_type": "stream",
       "stream": "stderr",
       "text": [
        "Legend does not support [<matplotlib.lines.Line2D object at 0x1126594d0>]\n",
        "Use proxy artist instead.\n",
        "\n",
        "http://matplotlib.sourceforge.net/users/legend_guide.html#using-proxy-artist\n",
        "\n",
        "Legend does not support [<matplotlib.lines.Line2D object at 0x11268a410>]\n",
        "Use proxy artist instead.\n",
        "\n",
        "http://matplotlib.sourceforge.net/users/legend_guide.html#using-proxy-artist\n",
        "\n",
        "Legend does not support [<matplotlib.lines.Line2D object at 0x11268af90>]\n",
        "Use proxy artist instead.\n",
        "\n",
        "http://matplotlib.sourceforge.net/users/legend_guide.html#using-proxy-artist\n",
        "\n",
        "Legend does not support [<matplotlib.lines.Line2D object at 0x11264f2d0>]\n",
        "Use proxy artist instead.\n",
        "\n",
        "http://matplotlib.sourceforge.net/users/legend_guide.html#using-proxy-artist\n",
        "\n"
       ]
      }
     ],
     "prompt_number": 254
    },
    {
     "cell_type": "code",
     "collapsed": true,
     "input": [
      "'''\n",
      "Main program. Use this to run all of the other programs for MAMA\n",
      "'''\n",
      "os.chdir('/user/bostroem/science/12465_otfr20120425/mama/')\n",
      "flist = glob.glob('obrc04???_flt.fits')+glob.glob('obrc05???_flt.fits')\n",
      "#ofile = open('extraction_locations_fuv.dat', 'w')\n",
      "#ofile.write('targname\\textraction location\\n')\n",
      "#ofile.close()\n",
      "dec_dict = make_declination_dict(flist)\n",
      "extract_spectrum(dec_dict)\n",
      "plot_extracted_spectra()\n",
      "print dec_dict\n",
      "    "
     ],
     "language": "python",
     "metadata": {},
     "outputs": [
      {
       "ename": "NameError",
       "evalue": "name 'extract_spectrum' is not defined",
       "output_type": "pyerr",
       "traceback": [
        "\u001b[0;31m---------------------------------------------------------------------------\u001b[0m\n\u001b[0;31mNameError\u001b[0m                                 Traceback (most recent call last)",
        "\u001b[0;32m<ipython-input-13-751c6245e2a3>\u001b[0m in \u001b[0;36m<module>\u001b[0;34m()\u001b[0m\n\u001b[1;32m      8\u001b[0m \u001b[0;31m#ofile.close()\u001b[0m\u001b[0;34m\u001b[0m\u001b[0;34m\u001b[0m\u001b[0m\n\u001b[1;32m      9\u001b[0m \u001b[0mdec_dict\u001b[0m \u001b[0;34m=\u001b[0m \u001b[0mmake_declination_dict\u001b[0m\u001b[0;34m(\u001b[0m\u001b[0mflist\u001b[0m\u001b[0;34m)\u001b[0m\u001b[0;34m\u001b[0m\u001b[0m\n\u001b[0;32m---> 10\u001b[0;31m \u001b[0mextract_spectrum\u001b[0m\u001b[0;34m(\u001b[0m\u001b[0mdec_dict\u001b[0m\u001b[0;34m)\u001b[0m\u001b[0;34m\u001b[0m\u001b[0m\n\u001b[0m\u001b[1;32m     11\u001b[0m \u001b[0mplot_extracted_spectra\u001b[0m\u001b[0;34m(\u001b[0m\u001b[0;34m)\u001b[0m\u001b[0;34m\u001b[0m\u001b[0m\n\u001b[1;32m     12\u001b[0m \u001b[0;32mprint\u001b[0m \u001b[0mdec_dict\u001b[0m\u001b[0;34m\u001b[0m\u001b[0m\n",
        "\u001b[0;31mNameError\u001b[0m: name 'extract_spectrum' is not defined"
       ]
      }
     ],
     "prompt_number": 13
    },
    {
     "cell_type": "code",
     "collapsed": false,
     "input": [
      "def mk_new_directories(dirs):\n",
      "    try:\n",
      "        os.mkdir(dirs)\n",
      "    except OSError:\n",
      "        shutil.rmtree(dirs)\n",
      "        os.mkdir(dirs)\n",
      "\n",
      "def organize_for_confluence():\n",
      "    list_conf = glob.glob('/user/bostroem/science/12465_otfr20120425/mama/confirmation_images/*NW*')+ \\\n",
      "        glob.glob('/user/bostroem/science/12465_otfr20120425/mama/confirmation_images/*SE*')\n",
      "    mk_new_directories('/user/bostroem/science/12465_otfr20120425/mama/confirmation_images/NW_confirmation_images')\n",
      "    mk_new_directories('/user/bostroem/science/12465_otfr20120425/mama/confirmation_images/SE_confirmation_images')\n",
      "    for ifile in list_conf:\n",
      "        shutil.move(ifile, ifile.replace('confirmation_images', 'confirmation_images/%s_confirmation_images' %(ifile[72:74])))\n",
      "                    \n",
      "    list_conf = glob.glob('/user/bostroem/science/12465_otfr20120425/mama/extracted_spectra_fits/*NW*')+ \\\n",
      "        glob.glob('/user/bostroem/science/12465_otfr20120425/mama/extracted_spectra_fits/*SE*')\n",
      "    os.mkdir('/user/bostroem/science/12465_otfr20120425/mama/extracted_spectra_fits/NW_extracted_spectra_fits')\n",
      "    os.mkdir('/user/bostroem/science/12465_otfr20120425/mama/extracted_spectra_fits/SE_extracted_spectra_fits')\n",
      "    for ifile in list_conf:\n",
      "        shutil.move(ifile, ifile.replace('extracted_spectra_fits', 'extracted_spectra_fits/%s_extracted_spectra_fits' %(ifile[75:77])))"
     ],
     "language": "python",
     "metadata": {},
     "outputs": [],
     "prompt_number": 25
    },
    {
     "cell_type": "raw",
     "metadata": {},
     "source": [
      "#TO DO LIST:\n",
      "-Fit a single and a double peaked gaussian, figure out which one has a better fit, and extract 1 or 2 spectra\n",
      "-Try fitting the background with a Bessel Function\n",
      "#How to identify extraction locations of faint sources\n",
      "#How to deal with double-peaked lines \n",
      "#Turn off background for extraction\n",
      "#plot net, gross and background\n"
     ]
    },
    {
     "cell_type": "code",
     "collapsed": false,
     "input": [
      "pylab.close()\n",
      "pylab.close()\n",
      "pylab.close()\n",
      "pylab.close()"
     ],
     "language": "python",
     "metadata": {},
     "outputs": [],
     "prompt_number": 24
    },
    {
     "cell_type": "code",
     "collapsed": false,
     "input": [
      "organize_for_confluence()"
     ],
     "language": "python",
     "metadata": {},
     "outputs": [
      {
       "ename": "IOError",
       "evalue": "[Errno 2] No such file or directory: '/user/bostroem/science/12465_otfr20120425/mama/confirmation_images/nf_confirmation_images/NW_confirmation_images/nf_confirmation_images.zip'",
       "output_type": "pyerr",
       "traceback": [
        "\u001b[0;31m---------------------------------------------------------------------------\u001b[0m\n\u001b[0;31mIOError\u001b[0m                                   Traceback (most recent call last)",
        "\u001b[0;32m<ipython-input-85-bb202cf3665a>\u001b[0m in \u001b[0;36m<module>\u001b[0;34m()\u001b[0m\n\u001b[0;32m----> 1\u001b[0;31m \u001b[0morganize_for_confluence\u001b[0m\u001b[0;34m(\u001b[0m\u001b[0;34m)\u001b[0m\u001b[0;34m\u001b[0m\u001b[0m\n\u001b[0m",
        "\u001b[0;32m<ipython-input-79-cc3ee2e35add>\u001b[0m in \u001b[0;36morganize_for_confluence\u001b[0;34m()\u001b[0m\n\u001b[1;32m     12\u001b[0m     \u001b[0mmk_new_directories\u001b[0m\u001b[0;34m(\u001b[0m\u001b[0;34m'/user/bostroem/science/12465_otfr20120425/mama/confirmation_images/SE_confirmation_images'\u001b[0m\u001b[0;34m)\u001b[0m\u001b[0;34m\u001b[0m\u001b[0m\n\u001b[1;32m     13\u001b[0m     \u001b[0;32mfor\u001b[0m \u001b[0mifile\u001b[0m \u001b[0;32min\u001b[0m \u001b[0mlist_conf\u001b[0m\u001b[0;34m:\u001b[0m\u001b[0;34m\u001b[0m\u001b[0m\n\u001b[0;32m---> 14\u001b[0;31m         \u001b[0mshutil\u001b[0m\u001b[0;34m.\u001b[0m\u001b[0mmove\u001b[0m\u001b[0;34m(\u001b[0m\u001b[0mifile\u001b[0m\u001b[0;34m,\u001b[0m \u001b[0mifile\u001b[0m\u001b[0;34m.\u001b[0m\u001b[0mreplace\u001b[0m\u001b[0;34m(\u001b[0m\u001b[0;34m'confirmation_images'\u001b[0m\u001b[0;34m,\u001b[0m \u001b[0;34m'confirmation_images/%s_confirmation_images'\u001b[0m \u001b[0;34m%\u001b[0m\u001b[0;34m(\u001b[0m\u001b[0mifile\u001b[0m\u001b[0;34m[\u001b[0m\u001b[0;36m72\u001b[0m\u001b[0;34m:\u001b[0m\u001b[0;36m74\u001b[0m\u001b[0;34m]\u001b[0m\u001b[0;34m)\u001b[0m\u001b[0;34m)\u001b[0m\u001b[0;34m)\u001b[0m\u001b[0;34m\u001b[0m\u001b[0m\n\u001b[0m\u001b[1;32m     15\u001b[0m \u001b[0;34m\u001b[0m\u001b[0m\n\u001b[1;32m     16\u001b[0m     \u001b[0mlist_conf\u001b[0m \u001b[0;34m=\u001b[0m \u001b[0mglob\u001b[0m\u001b[0;34m.\u001b[0m\u001b[0mglob\u001b[0m\u001b[0;34m(\u001b[0m\u001b[0;34m'/user/bostroem/science/12465_otfr20120425/mama/extracted_spectra_fits/*NW*'\u001b[0m\u001b[0;34m)\u001b[0m\u001b[0;34m+\u001b[0m\u001b[0;31m \u001b[0m\u001b[0;31m\\\u001b[0m\u001b[0;34m\u001b[0m\u001b[0m\n",
        "\u001b[0;32m/usr/stsci/pyssgx/Python-2.7/lib/python2.7/shutil.pyc\u001b[0m in \u001b[0;36mmove\u001b[0;34m(src, dst)\u001b[0m\n\u001b[1;32m    290\u001b[0m             \u001b[0mrmtree\u001b[0m\u001b[0;34m(\u001b[0m\u001b[0msrc\u001b[0m\u001b[0;34m)\u001b[0m\u001b[0;34m\u001b[0m\u001b[0m\n\u001b[1;32m    291\u001b[0m         \u001b[0;32melse\u001b[0m\u001b[0;34m:\u001b[0m\u001b[0;34m\u001b[0m\u001b[0m\n\u001b[0;32m--> 292\u001b[0;31m             \u001b[0mcopy2\u001b[0m\u001b[0;34m(\u001b[0m\u001b[0msrc\u001b[0m\u001b[0;34m,\u001b[0m \u001b[0mreal_dst\u001b[0m\u001b[0;34m)\u001b[0m\u001b[0;34m\u001b[0m\u001b[0m\n\u001b[0m\u001b[1;32m    293\u001b[0m             \u001b[0mos\u001b[0m\u001b[0;34m.\u001b[0m\u001b[0munlink\u001b[0m\u001b[0;34m(\u001b[0m\u001b[0msrc\u001b[0m\u001b[0;34m)\u001b[0m\u001b[0;34m\u001b[0m\u001b[0m\n\u001b[1;32m    294\u001b[0m \u001b[0;34m\u001b[0m\u001b[0m\n",
        "\u001b[0;32m/usr/stsci/pyssgx/Python-2.7/lib/python2.7/shutil.pyc\u001b[0m in \u001b[0;36mcopy2\u001b[0;34m(src, dst)\u001b[0m\n\u001b[1;32m    125\u001b[0m     \u001b[0;32mif\u001b[0m \u001b[0mos\u001b[0m\u001b[0;34m.\u001b[0m\u001b[0mpath\u001b[0m\u001b[0;34m.\u001b[0m\u001b[0misdir\u001b[0m\u001b[0;34m(\u001b[0m\u001b[0mdst\u001b[0m\u001b[0;34m)\u001b[0m\u001b[0;34m:\u001b[0m\u001b[0;34m\u001b[0m\u001b[0m\n\u001b[1;32m    126\u001b[0m         \u001b[0mdst\u001b[0m \u001b[0;34m=\u001b[0m \u001b[0mos\u001b[0m\u001b[0;34m.\u001b[0m\u001b[0mpath\u001b[0m\u001b[0;34m.\u001b[0m\u001b[0mjoin\u001b[0m\u001b[0;34m(\u001b[0m\u001b[0mdst\u001b[0m\u001b[0;34m,\u001b[0m \u001b[0mos\u001b[0m\u001b[0;34m.\u001b[0m\u001b[0mpath\u001b[0m\u001b[0;34m.\u001b[0m\u001b[0mbasename\u001b[0m\u001b[0;34m(\u001b[0m\u001b[0msrc\u001b[0m\u001b[0;34m)\u001b[0m\u001b[0;34m)\u001b[0m\u001b[0;34m\u001b[0m\u001b[0m\n\u001b[0;32m--> 127\u001b[0;31m     \u001b[0mcopyfile\u001b[0m\u001b[0;34m(\u001b[0m\u001b[0msrc\u001b[0m\u001b[0;34m,\u001b[0m \u001b[0mdst\u001b[0m\u001b[0;34m)\u001b[0m\u001b[0;34m\u001b[0m\u001b[0m\n\u001b[0m\u001b[1;32m    128\u001b[0m     \u001b[0mcopystat\u001b[0m\u001b[0;34m(\u001b[0m\u001b[0msrc\u001b[0m\u001b[0;34m,\u001b[0m \u001b[0mdst\u001b[0m\u001b[0;34m)\u001b[0m\u001b[0;34m\u001b[0m\u001b[0m\n\u001b[1;32m    129\u001b[0m \u001b[0;34m\u001b[0m\u001b[0m\n",
        "\u001b[0;32m/usr/stsci/pyssgx/Python-2.7/lib/python2.7/shutil.pyc\u001b[0m in \u001b[0;36mcopyfile\u001b[0;34m(src, dst)\u001b[0m\n\u001b[1;32m     80\u001b[0m \u001b[0;34m\u001b[0m\u001b[0m\n\u001b[1;32m     81\u001b[0m     \u001b[0;32mwith\u001b[0m \u001b[0mopen\u001b[0m\u001b[0;34m(\u001b[0m\u001b[0msrc\u001b[0m\u001b[0;34m,\u001b[0m \u001b[0;34m'rb'\u001b[0m\u001b[0;34m)\u001b[0m \u001b[0;32mas\u001b[0m \u001b[0mfsrc\u001b[0m\u001b[0;34m:\u001b[0m\u001b[0;34m\u001b[0m\u001b[0m\n\u001b[0;32m---> 82\u001b[0;31m         \u001b[0;32mwith\u001b[0m \u001b[0mopen\u001b[0m\u001b[0;34m(\u001b[0m\u001b[0mdst\u001b[0m\u001b[0;34m,\u001b[0m \u001b[0;34m'wb'\u001b[0m\u001b[0;34m)\u001b[0m \u001b[0;32mas\u001b[0m \u001b[0mfdst\u001b[0m\u001b[0;34m:\u001b[0m\u001b[0;34m\u001b[0m\u001b[0m\n\u001b[0m\u001b[1;32m     83\u001b[0m             \u001b[0mcopyfileobj\u001b[0m\u001b[0;34m(\u001b[0m\u001b[0mfsrc\u001b[0m\u001b[0;34m,\u001b[0m \u001b[0mfdst\u001b[0m\u001b[0;34m)\u001b[0m\u001b[0;34m\u001b[0m\u001b[0m\n\u001b[1;32m     84\u001b[0m \u001b[0;34m\u001b[0m\u001b[0m\n",
        "\u001b[0;31mIOError\u001b[0m: [Errno 2] No such file or directory: '/user/bostroem/science/12465_otfr20120425/mama/confirmation_images/nf_confirmation_images/NW_confirmation_images/nf_confirmation_images.zip'"
       ]
      }
     ],
     "prompt_number": 85
    },
    {
     "cell_type": "code",
     "collapsed": false,
     "input": [
      " "
     ],
     "language": "python",
     "metadata": {},
     "outputs": [
      {
       "output_type": "pyout",
       "prompt_number": 32,
       "text": [
        "'/user/bostroem/science/12465_otfr20120425/mama/confirmation_images/NW_confirmation_images.zip'"
       ]
      }
     ],
     "prompt_number": 32
    },
    {
     "cell_type": "code",
     "collapsed": false,
     "input": [],
     "language": "python",
     "metadata": {},
     "outputs": [],
     "prompt_number": 31
    },
    {
     "cell_type": "code",
     "collapsed": false,
     "input": [],
     "language": "python",
     "metadata": {},
     "outputs": []
    }
   ],
   "metadata": {}
  }
 ]
}