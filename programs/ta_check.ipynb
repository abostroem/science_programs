{
 "metadata": {
  "name": "ta_check"
 }, 
 "nbformat": 2, 
 "worksheets": [
  {
   "cells": [
    {
     "cell_type": "code", 
     "collapsed": false, 
     "input": [
      "#Identify ACQ filenames", 
      "import pyfits", 
      "import glob", 
      "flist = glob.glob('*raw.fits')", 
      "for ifile in flist:", 
      "    print ifile, pyfits.getval(ifile, 'obsmode', 0)", 
      ""
     ], 
     "language": "python", 
     "outputs": [], 
     "prompt_number": 12
    }, 
    {
     "cell_type": "code", 
     "collapsed": false, 
     "input": [
      "#Run TASTIS on all ACQs", 
      "import pyraf", 
      "import glob", 
      "from pyraf import iraf", 
      "from iraf import stsdas,hst_calib,stis,tastis as tastis", 
      "", 
      "folders = ['ccd', 'mama']", 
      "for idir in folders:", 
      "    os.chdir('../%s' %(idir))", 
      "    flist = glob.glob('*raw.fits')", 
      "    for ifile in flist:", 
      "        if pyfits.getval(ifile, 'obsmode', 0)[0:3] == 'ACQ':", 
      "             tastis(ifile)"
     ], 
     "language": "python", 
     "outputs": [], 
     "prompt_number": 16
    }, 
    {
     "cell_type": "code", 
     "collapsed": false, 
     "input": [
      "#Open ACQ IMAGES (image after centering slew) in DS9", 
      "import ds9", 
      "import glob", 
      "import os", 
      "import pyfits", 
      "", 
      "D = ds9.ds9()", 
      "#os.chdir('../mama')", 
      "os.chdir('../ccd')", 
      "cur_dir = os.getcwd()", 
      "flist = glob.glob('*raw.fits')", 
      "for i, ifile in enumerate(flist):", 
      "    if pyfits.getval(ifile, 'obsmode', 0)== 'ACQ':", 
      "        image = cur_dir+'/'+ifile+'[4]'", 
      "        D.set('frame '+str(i))", 
      "        D.set('file '+image)", 
      "        D.set('zoom to fit')", 
      "        ", 
      "", 
      "        "
     ], 
     "language": "python", 
     "outputs": [], 
     "prompt_number": 29
    }, 
    {
     "cell_type": "code", 
     "collapsed": true, 
     "input": [], 
     "language": "python", 
     "outputs": [], 
     "prompt_number": 28
    }, 
    {
     "cell_type": "code", 
     "collapsed": true, 
     "input": [], 
     "language": "python", 
     "outputs": [], 
     "prompt_number": "&nbsp;"
    }
   ]
  }
 ]
}