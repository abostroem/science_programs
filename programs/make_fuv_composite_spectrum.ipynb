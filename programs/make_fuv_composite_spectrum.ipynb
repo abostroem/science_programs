{
 "metadata": {
  "name": "make_fuv_composite_spectrum"
 },
 "nbformat": 3,
 "nbformat_minor": 0,
 "worksheets": [
  {
   "cells": [
    {
     "cell_type": "code",
     "collapsed": false,
     "input": [
      "import pyfits\n",
      "import glob\n",
      "import numpy as np\n",
      "import pylab\n",
      "import os\n",
      "import math"
     ],
     "language": "python",
     "metadata": {},
     "outputs": [],
     "prompt_number": 3
    },
    {
     "cell_type": "code",
     "collapsed": false,
     "input": [
      "def build_total_fuv_spectrum_flt():\n",
      "    ipath = '/Users/bostroem/science/12465_otfr20120425/mama/'\n",
      "    os.chdir(ipath)\n",
      "    flist = np.array(glob.glob('obrc?????_flt.fits'))\n",
      "    shifta1 = np.array([pyfits.getval(ifile, 'shifta1', 1) for ifile in flist])\n",
      "    max_x = np.max(shifta1)\n",
      "    min_x = np.min(shifta1)\n",
      "    big_array = np.zeros((math.ceil(1024+abs(min_x)+abs(max_x)),))\n",
      "    sort_indx = np.argsort(shifta1)\n",
      "    for s1, ifile in zip(shifta1[sort_indx], flist[sort_indx]):\n",
      "        img = pyfits.getdata(ifile, 1)\n",
      "        print s1 + abs(min_x), 1024 + s1 + abs(min_x)\n",
      "        print np.shape(np.sum(img, axis = 0)), np.shape(big_array)\n",
      "        big_array[math.ceil(s1 + abs(min_x)):math.ceil(1024 + s1 + abs(min_x))] += np.sum(img, axis = 0)\n",
      "        indiv_array = np.zeros((math.ceil(1024+abs(min_x)+abs(max_x)),))\n",
      "        indiv_array[math.ceil(s1 + abs(min_x)):math.ceil(1024 + s1 + abs(min_x))] = np.sum(img, axis = 0)\n",
      "    #    pylab.plot(indiv_array)\n",
      "    #pylab.plot(big_array)\n",
      "    #pylab.xlabel('Pixel')\n",
      "    #pylab.ylabel('Net Counts (cts/s)')\n",
      "    #pylab.title('Composite Spectrum from all G140L Observations')\n",
      "    #pylab.savefig('composite_g140l_spec_from_flt.pdf')\n",
      "    #pylab.show()\n",
      "    hdu0 = pyfits.PrimaryHDU()\n",
      "    hdu0.header = pyfits.getheader(flist[sort_indx][0], 0)\n",
      "    \n",
      "    wl = np.arange(len(big_array.flatten()))\n",
      "    col1 = pyfits.Column(name = 'pixel', format = 'I', array = wl)\n",
      "    col2 = pyfits.Column(name = 'net', format = 'E', array = big_array)\n",
      "    cols = pyfits.ColDefs([col1, col2])\n",
      "    tbhdu = pyfits.new_table(cols, header = pyfits.getheader(flist[sort_indx][0], 1))\n",
      "    hdu_list = pyfits.HDUList([hdu0, tbhdu])\n",
      "    hdu_list.writeto('/Users/bostroem/science/12465_otfr20120425/mama/composite_plots/g140l_composite_spectrum_flt.fits', clobber = True)\n",
      "\n",
      "        \n",
      "    "
     ],
     "language": "python",
     "metadata": {},
     "outputs": [],
     "prompt_number": 10
    },
    {
     "cell_type": "code",
     "collapsed": false,
     "input": [
      "build_total_fuv_spectrum_flt()"
     ],
     "language": "python",
     "metadata": {},
     "outputs": [
      {
       "output_type": "stream",
       "stream": "stdout",
       "text": [
        "0.0 1024.0\n",
        "(1024,) (1031,)\n",
        "0.014928099414"
       ]
      },
      {
       "output_type": "stream",
       "stream": "stdout",
       "text": [
        " 1024.0149281\n",
        "(1024,) (1031,)\n",
        "0.027756043647"
       ]
      },
      {
       "output_type": "stream",
       "stream": "stdout",
       "text": [
        " 1024.02775604\n",
        "(1024,) (1031,)\n",
        "0.040583968372"
       ]
      },
      {
       "output_type": "stream",
       "stream": "stdout",
       "text": [
        " 1024.04058397\n",
        "(1024,) (1031,)\n",
        "0.102176971447"
       ]
      },
      {
       "output_type": "stream",
       "stream": "stdout",
       "text": [
        " 1024.10217697\n",
        "(1024,) (1031,)\n",
        "0.107434306165"
       ]
      },
      {
       "output_type": "stream",
       "stream": "stdout",
       "text": [
        " 1024.10743431\n",
        "(1024,) (1031,)\n",
        "0.109700587127"
       ]
      },
      {
       "output_type": "stream",
       "stream": "stdout",
       "text": [
        " 1024.10970059\n",
        "(1024,)"
       ]
      },
      {
       "output_type": "stream",
       "stream": "stdout",
       "text": [
        " (1031,)\n",
        "0.115930595315"
       ]
      },
      {
       "output_type": "stream",
       "stream": "stdout",
       "text": [
        " 1024.1159306\n",
        "(1024,) (1031,)\n",
        "0.116289004553"
       ]
      },
      {
       "output_type": "stream",
       "stream": "stdout",
       "text": [
        " 1024.116289\n",
        "(1024,) (1031,)\n",
        "0.119412184069"
       ]
      },
      {
       "output_type": "stream",
       "stream": "stdout",
       "text": [
        " 1024.11941218\n",
        "(1024,) (1031,)\n",
        "0.122160591491"
       ]
      },
      {
       "output_type": "stream",
       "stream": "stdout",
       "text": [
        " 1024.12216059\n",
        "(1024,) (1031,)\n",
        "0.122535170852"
       ]
      },
      {
       "output_type": "stream",
       "stream": "stdout",
       "text": [
        " 1024.12253517\n",
        "(1024,) (1031,)\n",
        "0.125658350373"
       ]
      },
      {
       "output_type": "stream",
       "stream": "stdout",
       "text": [
        " 1024.12565835\n",
        "(1024,) (1031,)\n",
        "0.128390599678"
       ]
      },
      {
       "output_type": "stream",
       "stream": "stdout",
       "text": [
        " 1024.1283906\n",
        "(1024,) (1031,)\n",
        "0.128781337152"
       ]
      },
      {
       "output_type": "stream",
       "stream": "stdout",
       "text": [
        " 1024.12878134\n",
        "(1024,) (1031,)\n",
        "0.153397448266"
       ]
      },
      {
       "output_type": "stream",
       "stream": "stdout",
       "text": [
        " 1024.15339745\n",
        "(1024,) (1031,)\n",
        "0.157152171477"
       ]
      },
      {
       "output_type": "stream",
       "stream": "stdout",
       "text": [
        " 1024.15715217\n",
        "(1024,) (1031,)\n",
        "0.159931156195"
       ]
      },
      {
       "output_type": "stream",
       "stream": "stdout",
       "text": [
        " 1024.15993116\n",
        "(1024,) (1031,)\n",
        "0.160794919188"
       ]
      },
      {
       "output_type": "stream",
       "stream": "stdout",
       "text": [
        " 1024.16079492\n",
        "(1024,) (1031,)\n",
        "0.161479440585"
       ]
      },
      {
       "output_type": "stream",
       "stream": "stdout",
       "text": [
        " 1024.16147944\n",
        "(1024,) (1031,)\n",
        "0.163027629426"
       ]
      },
      {
       "output_type": "stream",
       "stream": "stdout",
       "text": [
        " 1024.16302763\n",
        "(1024,) (1031,)\n",
        "0.1644376669"
       ]
      },
      {
       "output_type": "stream",
       "stream": "stdout",
       "text": [
        " 1024.16443767\n",
        "(1024,) (1031,)\n",
        "0.164575913814"
       ]
      },
      {
       "output_type": "stream",
       "stream": "stdout",
       "text": [
        " 1024.16457591\n",
        "(1024,) (1031,)\n",
        "0.166124102656"
       ]
      },
      {
       "output_type": "stream",
       "stream": "stdout",
       "text": [
        " 1024.1661241\n",
        "(1024,) (1031,)\n",
        "0.167925744152"
       ]
      },
      {
       "output_type": "stream",
       "stream": "stdout",
       "text": [
        " 1024.16792574\n",
        "(1024,) (1031,)\n",
        "0.168072690663"
       ]
      },
      {
       "output_type": "stream",
       "stream": "stdout",
       "text": [
        " 1024.16807269\n",
        "(1024,) (1031,)\n",
        "0.168080417835"
       ]
      },
      {
       "output_type": "stream",
       "stream": "stdout",
       "text": [
        " 1024.16808042\n",
        "(1024,) (1031,)\n",
        "0.176296403842"
       ]
      },
      {
       "output_type": "stream",
       "stream": "stdout",
       "text": [
        " 1024.1762964\n",
        "(1024,) (1031,)\n",
        "0.177542759475"
       ]
      },
      {
       "output_type": "stream",
       "stream": "stdout",
       "text": [
        " 1024.17754276\n",
        "(1024,) (1031,)\n",
        "0.1787891127"
       ]
      },
      {
       "output_type": "stream",
       "stream": "stdout",
       "text": [
        " 1024.17878911\n",
        "(1024,) (1031,)\n",
        "0.180035468331"
       ]
      },
      {
       "output_type": "stream",
       "stream": "stdout",
       "text": [
        " 1024.18003547\n",
        "(1024,) (1031,)\n",
        "0.181281821559"
       ]
      },
      {
       "output_type": "stream",
       "stream": "stdout",
       "text": [
        " 1024.18128182\n",
        "(1024,) (1031,)\n",
        "0.181948098623"
       ]
      },
      {
       "output_type": "stream",
       "stream": "stdout",
       "text": [
        " 1024.1819481\n",
        "(1024,) (1031,)\n",
        "0.181948098623"
       ]
      },
      {
       "output_type": "stream",
       "stream": "stdout",
       "text": [
        " 1024.1819481\n",
        "(1024,) (1031,)\n"
       ]
      },
      {
       "output_type": "stream",
       "stream": "stderr",
       "text": [
        "Overwriting existing file '/Users/bostroem/science/12465_otfr20120425/mama/composite_plots/g140l_composite_spectrum_flt.fits'.\n"
       ]
      }
     ],
     "prompt_number": 11
    },
    {
     "cell_type": "code",
     "collapsed": false,
     "input": [
      "def build_total_fuv_spectrum_x2d():\n",
      "    ipath = '/user/bostroem/science/12465_otfr20120425/mama/'\n",
      "    os.chdir(ipath)\n",
      "    flist = np.array(glob.glob('obrc?????_x2d.fits'))\n",
      "    \n",
      "    shifta1 = np.array([pyfits.getval(ifile, 'shifta1', 1) for ifile in flist])\n",
      "    max_x = np.max(shifta1)\n",
      "    min_x = np.min(shifta1)\n",
      "    print max_x, min_x\n",
      "    big_array = np.zeros((math.ceil(1195+abs(min_x)+abs(max_x)),))  #1195 was found by guessing, there has to be a more elegant way\n",
      "    sort_indx = np.argsort(shifta1)\n",
      "    pylab.figure(1, figsize = (25, 20))\n",
      "    for s1, ifile in zip(shifta1[sort_indx], flist[sort_indx]):\n",
      "        img = pyfits.getdata(ifile, 1)\n",
      "        #print s1 + abs(min_x), np.shape(img)[1] + s1 + abs(min_x)\n",
      "        #print np.shape(np.sum(img, axis = 0)), np.shape(big_array)\n",
      "        big_array[math.ceil(s1 + abs(min_x)):math.ceil(np.shape(img)[1] + s1 + abs(min_x))] += np.sum(img, axis = 0)\n",
      "        indiv_array = np.zeros((math.ceil(np.shape(img)[1]+abs(min_x)+abs(max_x)),))\n",
      "        indiv_array[math.ceil(s1 + abs(min_x)):math.ceil(np.shape(img)[1] + s1 + abs(min_x))] = np.sum(img, axis = 0)\n",
      "        pylab.plot(indiv_array)\n",
      "    pylab.plot(big_array)\n",
      "    pylab.xlabel('Pixel')\n",
      "    pylab.ylabel('Net Counts (cts/s)')\n",
      "    pylab.title('Composite Spectrum from all G140L Observations')\n",
      "    pylab.savefig('composite_g140l_spec_from_x2d.pdf')\n",
      "    pylab.show()\n",
      "    wl = np.arange(len(big_array.flatten()))\n",
      "    col1 = pyfits.Column(name = 'pixel', format = 'I', array = wl)\n",
      "    col2 = pyfits.Column(name = 'net', format = 'E', array = big_array)\n",
      "    cols = pyfits.ColDefs([col1, col2])\n",
      "    tbhdu = pyfits.new_table(cols)\n",
      "    tbhdu.writeto('g140l_composite_spectrum_x2d.fits', clobber = True)"
     ],
     "language": "python",
     "metadata": {},
     "outputs": [],
     "prompt_number": 3
    },
    {
     "cell_type": "code",
     "collapsed": false,
     "input": [],
     "language": "python",
     "metadata": {},
     "outputs": []
    },
    {
     "cell_type": "code",
     "collapsed": false,
     "input": [],
     "language": "python",
     "metadata": {},
     "outputs": []
    },
    {
     "cell_type": "code",
     "collapsed": false,
     "input": [
      "ipath = '/user/bostroem/science/12465_otfr20120425/mama/'\n",
      "os.chdir(ipath)\n",
      "flist = np.array(glob.glob('obrc?????_x2d.fits'))\n",
      "img = pyfits.getdata(flist[0], 1)\n",
      "print np.shape(img)"
     ],
     "language": "python",
     "metadata": {},
     "outputs": [
      {
       "output_type": "stream",
       "stream": "stdout",
       "text": [
        "(1201, 1201)\n"
       ]
      }
     ],
     "prompt_number": 118
    },
    {
     "cell_type": "code",
     "collapsed": false,
     "input": [
      "pylab.imshow(img, interpolation = 'nearest')"
     ],
     "language": "python",
     "metadata": {},
     "outputs": [
      {
       "output_type": "pyout",
       "prompt_number": 62,
       "text": [
        "<matplotlib.image.AxesImage at 0x10be60750>"
       ]
      }
     ],
     "prompt_number": 62
    },
    {
     "cell_type": "code",
     "collapsed": false,
     "input": [
      "pylab.show()"
     ],
     "language": "python",
     "metadata": {},
     "outputs": [],
     "prompt_number": 59
    },
    {
     "cell_type": "code",
     "collapsed": false,
     "input": [
      "img2 = pyfits.getdata(flist[0].replace('x2d', 'flt'), 1)\n",
      "pylab.figure()\n",
      "pylab.imshow(img2, interpolation = 'nearest')\n",
      "pylab.show()"
     ],
     "language": "python",
     "metadata": {},
     "outputs": [],
     "prompt_number": 63
    },
    {
     "cell_type": "code",
     "collapsed": false,
     "input": [
      "pylab.close()"
     ],
     "language": "python",
     "metadata": {},
     "outputs": [],
     "prompt_number": 165
    },
    {
     "cell_type": "code",
     "collapsed": false,
     "input": [],
     "language": "python",
     "metadata": {},
     "outputs": []
    }
   ],
   "metadata": {}
  }
 ]
}